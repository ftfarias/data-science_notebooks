{
 "cells": [
  {
   "cell_type": "code",
   "execution_count": 1,
   "metadata": {
    "collapsed": false
   },
   "outputs": [],
   "source": [
    "import matplotlib.pyplot as py  \n",
    "from numpy import *  \n",
    "def hurst(p):  \n",
    "    tau = []; lagvec = []  \n",
    "    #  Step through the different lags  \n",
    "    for lag in range(2,20):  \n",
    "        #  produce price difference with lag  \n",
    "        pp = subtract(p[lag:],p[:-lag])  \n",
    "        #  Write the different lags into a vector  \n",
    "        lagvec.append(lag)  \n",
    "        #  Calculate the variance of the differnce vector  \n",
    "        tau.append(sqrt(std(pp)))  \n",
    "    #  linear fit to double-log graph (gives power)  \n",
    "    m = polyfit(log10(lagvec),log10(tau),1)  \n",
    "    # calculate hurst  \n",
    "    hurst = m[0]*2  \n",
    "    # plot lag vs variance  \n",
    "    py.plot(lagvec,tau,'o')  \n",
    "    return hurst  \n",
    "\n"
   ]
  },
  {
   "cell_type": "code",
   "execution_count": 2,
   "metadata": {
    "collapsed": false
   },
   "outputs": [
    {
     "name": "stdout",
     "output_type": "stream",
     "text": [
      "0.909916354476\n",
      "0.000664054101751\n",
      "0.498610573471\n"
     ]
    }
   ],
   "source": [
    "#  Different types of time series for testing  \n",
    "p = log10(cumsum(random.randn(50000)+1)+1000) # trending, hurst ~ 1  \n",
    "print hurst(p) \n",
    "p = log10((random.randn(50000))+1000)   # mean reverting, hurst ~ 0\n",
    "print hurst(p) \n",
    "p = log10(cumsum(random.randn(50000))+1000) # random walk, hurst ~ 0.5  \n",
    "print hurst(p) "
   ]
  },
  {
   "cell_type": "code",
   "execution_count": 3,
   "metadata": {
    "collapsed": false
   },
   "outputs": [
    {
     "data": {
      "image/png": "[encoded data removed]",
      "text/plain": [
       "<matplotlib.figure.Figure at 0x7f7030356bd0>"
      ]
     },
     "metadata": {},
     "output_type": "display_data"
    }
   ],
   "source": [
    "%matplotlib inline\n",
    "p = log10(cumsum(random.randn(50000))+1000) # random walk, hurst ~ 0.5  \n",
    "\n",
    "tau = []; lagvec = []  \n",
    "#  Step through the different lags  \n",
    "for lag in range(2,20):  \n",
    "    #  produce price difference with lag  \n",
    "    pp = subtract(p[lag:],p[:-lag])  \n",
    "    #  Write the different lags into a vector  \n",
    "    lagvec.append(lag)  \n",
    "    #  Calculate the variance of the differnce vector  \n",
    "    tau.append(sqrt(std(pp)))  \n",
    "#  linear fit to double-log graph (gives power)  \n",
    "m = polyfit(log10(lagvec),log10(tau),1)  \n",
    "# calculate hurst  \n",
    "hurst = m[0]*2  \n",
    "# plot lag vs variance  \n",
    "py.plot(log10(lagvec),log10(tau),'o')  \n",
    "py.show()\n"
   ]
  },
  {
   "cell_type": "code",
   "execution_count": null,
   "metadata": {
    "collapsed": true
   },
   "outputs": [],
   "source": []
  },
  {
   "cell_type": "code",
   "execution_count": null,
   "metadata": {
    "collapsed": true
   },
   "outputs": [],
   "source": []
  }
 ],
 "metadata": {
  "kernelspec": {
   "display_name": "Python 2",
   "language": "python",
   "name": "python2"
  },
  "language_info": {
   "codemirror_mode": {
    "name": "ipython",
    "version": 2
   },
   "file_extension": ".py",
   "mimetype": "text/x-python",
   "name": "python",
   "nbconvert_exporter": "python",
   "pygments_lexer": "ipython2",
   "version": "2.7.6"
  }
 },
 "nbformat": 4,
 "nbformat_minor": 0
}
