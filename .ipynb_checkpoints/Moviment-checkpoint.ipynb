{
 "cells": [
  {
   "cell_type": "code",
   "execution_count": 48,
   "metadata": {
    "collapsed": true
   },
   "outputs": [],
   "source": [
    "import cmath\n",
    "import math\n"
   ]
  },
  {
   "cell_type": "code",
   "execution_count": 49,
   "metadata": {
    "collapsed": true
   },
   "outputs": [],
   "source": [
    "# (-1, 1)    (0, 1)    (1, 1)\n",
    "# (-1, 0)  <- 0, 0 ->  (1, 0)\n",
    "# (-1,-1)    (0,-1)    (1,-1)"
   ]
  },
  {
   "cell_type": "code",
   "execution_count": 70,
   "metadata": {
    "collapsed": true
   },
   "outputs": [],
   "source": [
    "angles = [\n",
    "    (0,1),\n",
    "    (1,1),\n",
    "    (1,0),\n",
    "    (1,-1),\n",
    "    (0,-1),\n",
    "    (-1,-1),\n",
    "    (-1,0),\n",
    "    (-1,1)\n",
    "]\n"
   ]
  },
  {
   "cell_type": "code",
   "execution_count": 71,
   "metadata": {
    "collapsed": true
   },
   "outputs": [],
   "source": [
    "# 315   0    45\n",
    "# 270   o    90\n",
    "# 225  180   135"
   ]
  },
  {
   "cell_type": "code",
   "execution_count": 72,
   "metadata": {
    "collapsed": true
   },
   "outputs": [],
   "source": [
    "def bearing(a):\n",
    "    angle_rad = cmath.phase(a) \n",
    "    angle_deg = math.degrees(angle_rad)\n",
    "    #bearing1 = (angle + 360) % 360\n",
    "    #print(angle_rad)\n",
    "    return (90 - angle_deg) % 360"
   ]
  },
  {
   "cell_type": "code",
   "execution_count": 82,
   "metadata": {
    "collapsed": false
   },
   "outputs": [
    {
     "name": "stdout",
     "output_type": "stream",
     "text": [
      "((0, 1), '0.0 -> 1.57079632679')\n",
      "((1, 1), '45.0 -> 0.785398163397')\n",
      "((1, 0), '90.0 -> 0.0')\n",
      "((1, -1), '135.0 -> -0.785398163397')\n",
      "((0, -1), '180.0 -> -1.57079632679')\n",
      "((-1, -1), '225.0 -> -2.35619449019')\n",
      "((-1, 0), '270.0 -> 3.14159265359')\n",
      "((-1, 1), '315.0 -> 2.35619449019')\n"
     ]
    }
   ],
   "source": [
    "for a in angles:\n",
    "    v = complex(a[0],a[1])\n",
    "    print(a,str(bearing(v))+\" -> \"+str(cmath.phase(v)))"
   ]
  },
  {
   "cell_type": "code",
   "execution_count": 81,
   "metadata": {
    "collapsed": false
   },
   "outputs": [
    {
     "name": "stdout",
     "output_type": "stream",
     "text": [
      "((0, 1), 0.0, 1.0)\n",
      "((1, 1), 0.7, 0.7)\n",
      "((1, 0), 1.0, 0.0)\n",
      "((1, -1), 0.7, -0.7)\n",
      "((0, -1), 0.0, -1.0)\n",
      "((-1, -1), -0.7, -0.7)\n",
      "((-1, 0), -1.0, 0.0)\n",
      "((-1, 1), -0.7, 0.7)\n"
     ]
    }
   ],
   "source": [
    "for a in angles:\n",
    "    v = complex(a[0],a[1])\n",
    "    angle = cmath.phase(v)\n",
    "    print(a, round(math.cos(angle),1), round(math.sin(angle),1))"
   ]
  },
  {
   "cell_type": "code",
   "execution_count": 52,
   "metadata": {
    "collapsed": false
   },
   "outputs": [
    {
     "name": "stdout",
     "output_type": "stream",
     "text": [
      "1.57079632679\n",
      "0.0\n"
     ]
    }
   ],
   "source": [
    "# up\n",
    "a = complex(0,1)\n",
    "print(bering(a))\n",
    "# should be 0"
   ]
  },
  {
   "cell_type": "code",
   "execution_count": 53,
   "metadata": {
    "collapsed": false
   },
   "outputs": [
    {
     "name": "stdout",
     "output_type": "stream",
     "text": [
      "0.785398163397\n",
      "45.0\n"
     ]
    }
   ],
   "source": [
    "a = complex(1,1)\n",
    "print(bering(a))\n",
    "# should be 45"
   ]
  },
  {
   "cell_type": "code",
   "execution_count": 54,
   "metadata": {
    "collapsed": false
   },
   "outputs": [
    {
     "name": "stdout",
     "output_type": "stream",
     "text": [
      "0.0\n",
      "90.0\n"
     ]
    }
   ],
   "source": [
    "# o -> d\n",
    "a = complex(1,0)\n",
    "print(bering(a))\n",
    "# should be 90 / 1.57079632679"
   ]
  },
  {
   "cell_type": "code",
   "execution_count": 55,
   "metadata": {
    "collapsed": false
   },
   "outputs": [
    {
     "name": "stdout",
     "output_type": "stream",
     "text": [
      "-0.785398163397\n",
      "135.0\n"
     ]
    }
   ],
   "source": [
    "a = complex(1,-1)\n",
    "print(bering(a))\n",
    "# should be 135"
   ]
  },
  {
   "cell_type": "code",
   "execution_count": 56,
   "metadata": {
    "collapsed": false
   },
   "outputs": [
    {
     "name": "stdout",
     "output_type": "stream",
     "text": [
      "-1.57079632679\n",
      "180.0\n"
     ]
    }
   ],
   "source": [
    "# down\n",
    "a = complex(0,-1)\n",
    "print(bering(a))\n",
    "# should be 180 / 3.14159265359"
   ]
  },
  {
   "cell_type": "code",
   "execution_count": 57,
   "metadata": {
    "collapsed": false
   },
   "outputs": [
    {
     "name": "stdout",
     "output_type": "stream",
     "text": [
      "3.14159265359\n",
      "270.0\n"
     ]
    }
   ],
   "source": [
    "# o <- d\n",
    "a = complex(-1,0)\n",
    "print(bering(a))\n",
    "# should be 270 / 4.71238898038"
   ]
  },
  {
   "cell_type": "code",
   "execution_count": null,
   "metadata": {
    "collapsed": true
   },
   "outputs": [],
   "source": []
  },
  {
   "cell_type": "code",
   "execution_count": 94,
   "metadata": {
    "collapsed": true
   },
   "outputs": [],
   "source": [
    "import matplotlib.pyplot as plt\n",
    "%matplotlib inline\n"
   ]
  },
  {
   "cell_type": "code",
   "execution_count": 128,
   "metadata": {
    "collapsed": false
   },
   "outputs": [
    {
     "name": "stdout",
     "output_type": "stream",
     "text": [
      "35.0\n"
     ]
    },
    {
     "data": {
      "text/plain": [
       "[<matplotlib.lines.Line2D at 0x7fefeaf8a690>]"
      ]
     },
     "execution_count": 128,
     "metadata": {},
     "output_type": "execute_result"
    },
    {
     "data": {
      "image/png": "[encoded data removed]",
      "text/plain": [
       "<matplotlib.figure.Figure at 0x7fefeb00d590>"
      ]
     },
     "metadata": {},
     "output_type": "display_data"
    }
   ],
   "source": [
    "acc = 2.0\n",
    "spd = 0.0  # m /s^2\n",
    "drag = acc/30\n",
    "print(acc/drag )\n",
    "x = []\n",
    "y = []\n",
    "for i in range (121):\n",
    "    spd = spd + acc - (drag * spd)\n",
    "    x.append(1.0*i)\n",
    "    y.append(spd)\n",
    "        \n",
    "# print(y)\n",
    "plt.figure()\n",
    "plt.plot(x,y)"
   ]
  },
  {
   "cell_type": "code",
   "execution_count": 132,
   "metadata": {
    "collapsed": false
   },
   "outputs": [
    {
     "name": "stdout",
     "output_type": "stream",
     "text": [
      "0.00222222222222\n",
      "30.0\n"
     ]
    },
    {
     "data": {
      "text/plain": [
       "[<matplotlib.lines.Line2D at 0x7fefeac5f090>]"
      ]
     },
     "execution_count": 132,
     "metadata": {},
     "output_type": "execute_result"
    },
    {
     "data": {
      "image/png": "[encoded data removed]",
      "text/plain": [
       "<matplotlib.figure.Figure at 0x7fefeae05750>"
      ]
     },
     "metadata": {},
     "output_type": "display_data"
    }
   ],
   "source": [
    "acc = 2.0\n",
    "spd = 0.0  # m /s^2\n",
    "desired_final = 30\n",
    "drag =  acc / (desired_final**2) \n",
    "print(drag)\n",
    "v2 = acc/drag\n",
    "print(math.sqrt( acc/drag ))\n",
    "x = []\n",
    "y = []\n",
    "for i in range (121):\n",
    "    spd = spd + acc - (drag * spd * spd)\n",
    "    x.append(1.0*i)\n",
    "    y.append(spd)\n",
    "        \n",
    "# print(y)\n",
    "plt.figure()\n",
    "plt.plot(x,y)"
   ]
  },
  {
   "cell_type": "code",
   "execution_count": 137,
   "metadata": {
    "collapsed": false
   },
   "outputs": [
    {
     "name": "stdout",
     "output_type": "stream",
     "text": [
      "0.00222222222222\n",
      "6.7082039325\n"
     ]
    },
    {
     "data": {
      "text/plain": [
       "[<matplotlib.lines.Line2D at 0x7fefea93b890>]"
      ]
     },
     "execution_count": 137,
     "metadata": {},
     "output_type": "execute_result"
    },
    {
     "data": {
      "image/png": "[encoded data removed]",
      "text/plain": [
       "<matplotlib.figure.Figure at 0x7fefea9bfd10>"
      ]
     },
     "metadata": {},
     "output_type": "display_data"
    }
   ],
   "source": [
    "acc = 0.1\n",
    "spd = 0.0  # m /s^2\n",
    "drag =  0.00222222222222\n",
    "print(drag)\n",
    "print(math.sqrt( acc/drag ))\n",
    "\n",
    "x = []\n",
    "y = []\n",
    "for i in range (121):\n",
    "    spd = spd + acc - (drag * spd * spd)\n",
    "    x.append(1.0*i)\n",
    "    y.append(spd)\n",
    "        \n",
    "# print(y)\n",
    "plt.figure()\n",
    "plt.plot(x,y)"
   ]
  },
  {
   "cell_type": "code",
   "execution_count": null,
   "metadata": {
    "collapsed": true
   },
   "outputs": [],
   "source": [
    "acc = 0.1\n",
    "spd = 0.0  # m /s^2\n",
    "drag =  0.00222222222222\n",
    "print(drag)\n",
    "print(math.sqrt( acc/drag ))\n",
    "\n",
    "x = []\n",
    "y = []\n",
    "for i in range (100):\n",
    "    spd = spd + acc - (drag * spd * spd)\n",
    "    x.append(1.0*i)\n",
    "    y.append(spd)\n",
    "        \n",
    "# print(y)\n",
    "plt.figure()\n",
    "plt.plot(x,y)"
   ]
  }
 ],
 "metadata": {
  "kernelspec": {
   "display_name": "Python 2",
   "language": "python",
   "name": "python2"
  },
  "language_info": {
   "codemirror_mode": {
    "name": "ipython",
    "version": 2
   },
   "file_extension": ".py",
   "mimetype": "text/x-python",
   "name": "python",
   "nbconvert_exporter": "python",
   "pygments_lexer": "ipython2",
   "version": "2.7.6"
  }
 },
 "nbformat": 4,
 "nbformat_minor": 0
}
