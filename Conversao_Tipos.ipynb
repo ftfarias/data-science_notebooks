{
 "metadata": {
  "name": "",
  "signature": "sha256:e8f22fd707b1849adb2058977c804c90830a017438390546aaad9f6cb793e501"
 },
 "nbformat": 3,
 "nbformat_minor": 0,
 "worksheets": [
  {
   "cells": [
    {
     "cell_type": "code",
     "collapsed": false,
     "input": [
      "%pylab inline\n",
      "import pandas as pd\n",
      "import matplotlib.pyplot as plt\n",
      "import numpy as np\n",
      "randn = np.random.randn"
     ],
     "language": "python",
     "metadata": {},
     "outputs": [
      {
       "output_type": "stream",
       "stream": "stdout",
       "text": [
        "Populating the interactive namespace from numpy and matplotlib\n"
       ]
      }
     ],
     "prompt_number": 1
    },
    {
     "cell_type": "code",
     "collapsed": false,
     "input": [
      "randn(10)"
     ],
     "language": "python",
     "metadata": {},
     "outputs": [
      {
       "metadata": {},
       "output_type": "pyout",
       "prompt_number": 3,
       "text": [
        "array([-0.94070195,  0.04195246, -0.01288128, -0.88228416, -0.22431785,\n",
        "        0.35994299,  0.53479937,  0.08353787, -0.2582205 ,  0.4507305 ])"
       ]
      }
     ],
     "prompt_number": 3
    },
    {
     "cell_type": "code",
     "collapsed": false,
     "input": [
      "d = pd.Series(['1',2,3,5,7,8,9])\n",
      "d"
     ],
     "language": "python",
     "metadata": {},
     "outputs": [
      {
       "metadata": {},
       "output_type": "pyout",
       "prompt_number": 49,
       "text": [
        "0    1\n",
        "1    2\n",
        "2    3\n",
        "3    5\n",
        "4    7\n",
        "5    8\n",
        "6    9\n",
        "dtype: object"
       ]
      }
     ],
     "prompt_number": 49
    },
    {
     "cell_type": "code",
     "collapsed": false,
     "input": [
      "d.convert_objects(convert_numeric=True)"
     ],
     "language": "python",
     "metadata": {},
     "outputs": [
      {
       "metadata": {},
       "output_type": "pyout",
       "prompt_number": 50,
       "text": [
        "0    1\n",
        "1    2\n",
        "2    3\n",
        "3    5\n",
        "4    7\n",
        "5    8\n",
        "6    9\n",
        "dtype: int64"
       ]
      }
     ],
     "prompt_number": 50
    },
    {
     "cell_type": "code",
     "collapsed": false,
     "input": [
      "d = d.astype(object)\n",
      "d"
     ],
     "language": "python",
     "metadata": {},
     "outputs": [
      {
       "metadata": {},
       "output_type": "pyout",
       "prompt_number": 51,
       "text": [
        "0    1\n",
        "1    2\n",
        "2    3\n",
        "3    5\n",
        "4    7\n",
        "5    8\n",
        "6    9\n",
        "dtype: object"
       ]
      }
     ],
     "prompt_number": 51
    },
    {
     "cell_type": "code",
     "collapsed": false,
     "input": [
      "d[6] = \"x\"\n",
      "d"
     ],
     "language": "python",
     "metadata": {},
     "outputs": [
      {
       "metadata": {},
       "output_type": "pyout",
       "prompt_number": 52,
       "text": [
        "0    1\n",
        "1    2\n",
        "2    3\n",
        "3    5\n",
        "4    7\n",
        "5    8\n",
        "6    x\n",
        "dtype: object"
       ]
      }
     ],
     "prompt_number": 52
    },
    {
     "cell_type": "code",
     "collapsed": false,
     "input": [
      "d = d.astype(int64, raise_on_error=False)\n",
      "d\n",
      "# nao resolve"
     ],
     "language": "python",
     "metadata": {},
     "outputs": [
      {
       "metadata": {},
       "output_type": "pyout",
       "prompt_number": 53,
       "text": [
        "0    1\n",
        "1    2\n",
        "2    3\n",
        "3    5\n",
        "4    7\n",
        "5    8\n",
        "6    x\n",
        "dtype: object"
       ]
      }
     ],
     "prompt_number": 53
    },
    {
     "cell_type": "code",
     "collapsed": false,
     "input": [
      "def convertToIntWithError(x):\n",
      "    try:\n",
      "        return long(x)\n",
      "    except ValueError as e:\n",
      "        return numpy.nan\n",
      "d = d.apply(convertWithError)\n",
      "d"
     ],
     "language": "python",
     "metadata": {},
     "outputs": [
      {
       "metadata": {},
       "output_type": "pyout",
       "prompt_number": 58,
       "text": [
        "0     1\n",
        "1     2\n",
        "2     3\n",
        "3     5\n",
        "4     7\n",
        "5     8\n",
        "6   NaN\n",
        "dtype: float64"
       ]
      }
     ],
     "prompt_number": 58
    },
    {
     "cell_type": "code",
     "collapsed": false,
     "input": [
      "d = d.astype(int64, raise_on_error=False)\n",
      "d\n",
      "# Nao funciona"
     ],
     "language": "python",
     "metadata": {},
     "outputs": [
      {
       "metadata": {},
       "output_type": "pyout",
       "prompt_number": 55,
       "text": [
        "0    1\n",
        "1    2\n",
        "2    3\n",
        "3    5\n",
        "4    7\n",
        "5    8\n",
        "6    x\n",
        "dtype: object"
       ]
      }
     ],
     "prompt_number": 55
    },
    {
     "cell_type": "code",
     "collapsed": false,
     "input": [
      "d = d.dropna(how=\"any\")\n",
      "d"
     ],
     "language": "python",
     "metadata": {},
     "outputs": [
      {
       "metadata": {},
       "output_type": "pyout",
       "prompt_number": 35,
       "text": [
        "0    1\n",
        "1    2\n",
        "2    3\n",
        "3    5\n",
        "4    7\n",
        "5    8\n",
        "dtype: float64"
       ]
      }
     ],
     "prompt_number": 35
    },
    {
     "cell_type": "code",
     "collapsed": false,
     "input": [
      "d = d.astype(int64)\n",
      "d"
     ],
     "language": "python",
     "metadata": {},
     "outputs": [
      {
       "metadata": {},
       "output_type": "pyout",
       "prompt_number": 38,
       "text": [
        "0    1\n",
        "1    2\n",
        "2    3\n",
        "3    5\n",
        "4    7\n",
        "5    8\n",
        "dtype: int64"
       ]
      }
     ],
     "prompt_number": 38
    },
    {
     "cell_type": "code",
     "collapsed": false,
     "input": [],
     "language": "python",
     "metadata": {},
     "outputs": []
    }
   ],
   "metadata": {}
  }
 ]
}