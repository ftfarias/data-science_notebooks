{
 "metadata": {
  "name": "",
  "signature": "sha256:9f48c3d482ff3e1a48f8cb99d8db4907830fda87e59e29e2f843500d1dbf5ad5"
 },
 "nbformat": 3,
 "nbformat_minor": 0,
 "worksheets": [
  {
   "cells": [
    {
     "cell_type": "code",
     "collapsed": false,
     "input": [
      "%pylab inline\n",
      "import pandas as pd\n",
      "import matplotlib.pyplot as plt\n",
      "import numpy as np\n",
      "randn = np.random.randn"
     ],
     "language": "python",
     "metadata": {},
     "outputs": [
      {
       "output_type": "stream",
       "stream": "stdout",
       "text": [
        "Populating the interactive namespace from numpy and matplotlib\n"
       ]
      }
     ],
     "prompt_number": 1
    },
    {
     "cell_type": "code",
     "collapsed": false,
     "input": [
      "randn(10)"
     ],
     "language": "python",
     "metadata": {},
     "outputs": [
      {
       "metadata": {},
       "output_type": "pyout",
       "prompt_number": 2,
       "text": [
        "array([ 0.18897519, -1.27360916,  0.24682046,  0.92013724, -1.1099561 ,\n",
        "       -1.12544783,  0.05576325,  0.92870268, -1.96929557,  0.52341288])"
       ]
      }
     ],
     "prompt_number": 2
    },
    {
     "cell_type": "code",
     "collapsed": false,
     "input": [
      "d = pd.Series(['1',2,3,5,7,8,9])\n",
      "d"
     ],
     "language": "python",
     "metadata": {},
     "outputs": [
      {
       "metadata": {},
       "output_type": "pyout",
       "prompt_number": 3,
       "text": [
        "0    1\n",
        "1    2\n",
        "2    3\n",
        "3    5\n",
        "4    7\n",
        "5    8\n",
        "6    9\n",
        "dtype: object"
       ]
      }
     ],
     "prompt_number": 3
    },
    {
     "cell_type": "code",
     "collapsed": false,
     "input": [
      "d.convert_objects(convert_numeric=True)"
     ],
     "language": "python",
     "metadata": {},
     "outputs": [
      {
       "metadata": {},
       "output_type": "pyout",
       "prompt_number": 4,
       "text": [
        "0    1\n",
        "1    2\n",
        "2    3\n",
        "3    5\n",
        "4    7\n",
        "5    8\n",
        "6    9\n",
        "dtype: int64"
       ]
      }
     ],
     "prompt_number": 4
    },
    {
     "cell_type": "code",
     "collapsed": false,
     "input": [
      "d = d.astype(object)\n",
      "d"
     ],
     "language": "python",
     "metadata": {},
     "outputs": [
      {
       "metadata": {},
       "output_type": "pyout",
       "prompt_number": 5,
       "text": [
        "0    1\n",
        "1    2\n",
        "2    3\n",
        "3    5\n",
        "4    7\n",
        "5    8\n",
        "6    9\n",
        "dtype: object"
       ]
      }
     ],
     "prompt_number": 5
    },
    {
     "cell_type": "code",
     "collapsed": false,
     "input": [
      "d[6] = \"x\"\n",
      "d"
     ],
     "language": "python",
     "metadata": {},
     "outputs": [
      {
       "metadata": {},
       "output_type": "pyout",
       "prompt_number": 6,
       "text": [
        "0    1\n",
        "1    2\n",
        "2    3\n",
        "3    5\n",
        "4    7\n",
        "5    8\n",
        "6    x\n",
        "dtype: object"
       ]
      }
     ],
     "prompt_number": 6
    },
    {
     "cell_type": "code",
     "collapsed": false,
     "input": [
      "d = d.astype(int64, raise_on_error=False)\n",
      "d\n",
      "# nao resolve"
     ],
     "language": "python",
     "metadata": {},
     "outputs": [
      {
       "metadata": {},
       "output_type": "pyout",
       "prompt_number": 7,
       "text": [
        "0    1\n",
        "1    2\n",
        "2    3\n",
        "3    5\n",
        "4    7\n",
        "5    8\n",
        "6    x\n",
        "dtype: object"
       ]
      }
     ],
     "prompt_number": 7
    },
    {
     "cell_type": "code",
     "collapsed": false,
     "input": [
      "def convertToIntWithError(x):\n",
      "    try:\n",
      "        return long(x)\n",
      "    except ValueError as e:\n",
      "        return numpy.nan\n",
      "d = d.apply(convertToIntWithError)\n",
      "d"
     ],
     "language": "python",
     "metadata": {},
     "outputs": [
      {
       "metadata": {},
       "output_type": "pyout",
       "prompt_number": 11,
       "text": [
        "0     1\n",
        "1     2\n",
        "2     3\n",
        "3     5\n",
        "4     7\n",
        "5     8\n",
        "6   NaN\n",
        "dtype: float64"
       ]
      }
     ],
     "prompt_number": 11
    },
    {
     "cell_type": "code",
     "collapsed": false,
     "input": [
      "d = d.astype(int64, raise_on_error=False)\n",
      "d\n",
      "# Nao funciona"
     ],
     "language": "python",
     "metadata": {},
     "outputs": [
      {
       "metadata": {},
       "output_type": "pyout",
       "prompt_number": 12,
       "text": [
        "0     1\n",
        "1     2\n",
        "2     3\n",
        "3     5\n",
        "4     7\n",
        "5     8\n",
        "6   NaN\n",
        "dtype: float64"
       ]
      }
     ],
     "prompt_number": 12
    },
    {
     "cell_type": "code",
     "collapsed": false,
     "input": [
      "d = d.dropna(how=\"any\")\n",
      "d"
     ],
     "language": "python",
     "metadata": {},
     "outputs": [
      {
       "metadata": {},
       "output_type": "pyout",
       "prompt_number": 13,
       "text": [
        "0    1\n",
        "1    2\n",
        "2    3\n",
        "3    5\n",
        "4    7\n",
        "5    8\n",
        "dtype: float64"
       ]
      }
     ],
     "prompt_number": 13
    },
    {
     "cell_type": "code",
     "collapsed": false,
     "input": [
      "d = d.astype(int64)\n",
      "d"
     ],
     "language": "python",
     "metadata": {},
     "outputs": [
      {
       "metadata": {},
       "output_type": "pyout",
       "prompt_number": 14,
       "text": [
        "0    1\n",
        "1    2\n",
        "2    3\n",
        "3    5\n",
        "4    7\n",
        "5    8\n",
        "dtype: int64"
       ]
      }
     ],
     "prompt_number": 14
    },
    {
     "cell_type": "code",
     "collapsed": false,
     "input": [],
     "language": "python",
     "metadata": {},
     "outputs": []
    }
   ],
   "metadata": {}
  }
 ]
}