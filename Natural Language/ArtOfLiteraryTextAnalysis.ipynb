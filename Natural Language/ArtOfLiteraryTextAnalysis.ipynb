{
 "metadata": {
  "name": "",
  "signature": "sha256:f296a26f8067e78d4bedcbe1d2b9936d0db12e8f93981c5156da4be5f5bc624c"
 },
 "nbformat": 3,
 "nbformat_minor": 0,
 "worksheets": [
  {
   "cells": [
    {
     "cell_type": "heading",
     "level": 1,
     "metadata": {},
     "source": [
      "The Art of Literary Text Analysis"
     ]
    },
    {
     "cell_type": "markdown",
     "metadata": {},
     "source": [
      "The Art of Literary Text Analysis (ALTA) has two objectives. First, it is designed as a guide to provide a gentle introduction to concepts and methodologies for literary text analysis with computers \u2013 it is meant to be very welcoming to newcomers to digital tools for the study of texts. Second, the guide is intended to offer a glimpse of the wide range of possible techniques for using tools to study texts \u2013 if it cannot hope to explain and demonstrate everything, it at least has the ambition of suggesting the breadth of possibilities and providing a helpful foundation for further exploration and experimentation.\n",
      "\n",
      "This instance of The Art of Literary Text Analysis is created in iPython Notebooks. Other choices are available, and many conceptual aspects of the guide are relevant regardless of the implementation. iPython Notebooks was chosen for three main reasons: 1) python (the programming language used in iPython Notebooks) features extensive support for text analysis and natural language processing; 2) python is not a bad programming language to learn for those encountering programming for the first time \u2013 it's not easy, but it represents a good balance between power, speed, readability and learnability; 3) iPython Notebooks offers a _literate programming_ model of writing where blocks of prose text (like this one) can be interspersed with bits of code and output. _The Art of Literary Text Analysis_ focuses on process, and the documentation-rich format offered by iPython Notebooks is well-suited to the nature of this guide."
     ]
    },
    {
     "cell_type": "heading",
     "level": 2,
     "metadata": {},
     "source": [
      "Table of Contents"
     ]
    },
    {
     "cell_type": "markdown",
     "metadata": {},
     "source": [
      "This guide is a work in progress \u2013 in many senses \u2013 and will be filled in over the winter of 2015 in conjunction with a course on literary text mining at McGill. Here is a tentative outline:\n",
      "\n",
      "* First Encounters (basics for working with iPython Notebooks and digital texts)\n",
      "\t* [Getting Setup](GettingSetup.ipynb) (installing and setting up iPython Notebooks)\n",
      "\t* [Getting Started](GettingStarted.ipynb) (introducing core iPython Notebooks concepts)\n",
      "\t* [Getting Texts](GettingTexts.ipynb) (an example of acquiring digital texts\n",
      "\t* [Getting NLTK](GettingNltk.ipynb) (foundations for text processing using the Natural Language Toolkit)\n",
      "\t* [Getting Graphical](GettingGraphical.ipynb) (foundations for visualizing data)\n",
      "* Close Encounters\n",
      "\t* [Searching for Meaning](SearchingMeaning.ipynb) (searching variant word forms and word meanings)\n",
      "\t* [Parts of Speech](PartsOfSpeech.ipynb) (analysing parts of speech (nouns, adjectives, verbs, etc.) of documents\n",
      "\t* [Repeating Phrases](RepeatingPhrases.ipynb) (analyzing repeating sequences of words)\n",
      "* Distant Encounters \n",
      "\t* [Sentiment Analysis](SentimentAnalysis.ipynb) (measuring opinion or mood of texts)\n",
      "    * [Topic Modelling](TopicModelling.ipynb) (finding recurring groups of terms)\n",
      "    * [Document Similarity](DocumentSimilarity.ipynb) (measuring and visualizing distances between documents)"
     ]
    }
   ],
   "metadata": {}
  }
 ]
}
