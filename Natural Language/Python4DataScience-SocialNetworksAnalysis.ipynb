{
 "cells": [
  {
   "cell_type": "markdown",
   "metadata": {},
   "source": [
    "#Python for Data Science  \n",
    "*by <a href=\"https://about.me/gspmoreira\">Gabriel Moreira</a>*"
   ]
  },
  {
   "cell_type": "markdown",
   "metadata": {},
   "source": [
    "This notebook is an example analysis of posts and interactions datasets in a corporative social network (Google+ for Work) (slides <a href=\"http://www.slideshare.net/gabrielspmoreira/python-for-data-science-48355555\">here</a>).    \n",
    "This analysis follows the <a href=\"http://www.dataists.com/2010/09/a-taxonomy-of-data-science/\">Data Science OSEMN process</a>: Obtain, Scrub, Explore, Model, iNterpret.  \n",
    "\n",
    "\n",
    "<center><img src=\"http://gabrielspmoreira.github.io/static_resources/python4datascience_nb/datascience_osemn.png\" width=500 /></center>  "
   ]
  },
  {
   "cell_type": "markdown",
   "metadata": {},
   "source": [
    "#Obtaining"
   ]
  },
  {
   "cell_type": "markdown",
   "metadata": {},
   "source": [
    "To extract the posts from Google+ for Work we used the Google+ Domain API, and saved them in a JSON lines file.   \n",
    "Interactions (+1s, comments and reshares) were also extracted using the API and saved in a CSV file.  \n",
    "The extractor was based in this <a href=\"https://github.com/gilmar/google-bigdata-training/tree/master/src/main/python/extract\">code</a> from a friend of mine (Gilmar)."
   ]
  },
  {
   "cell_type": "markdown",
   "metadata": {},
   "source": [
    "#Scrubing"
   ]
  },
  {
   "cell_type": "markdown",
   "metadata": {},
   "source": [
    "##Reading the user interactions (CSV)"
   ]
  },
  {
   "cell_type": "markdown",
   "metadata": {},
   "source": [
    "Let's read the first line of the CSV"
   ]
  },
  {
   "cell_type": "code",
   "execution_count": 15,
   "metadata": {
    "collapsed": false
   },
   "outputs": [
    {
     "name": "stdout",
     "output_type": "stream",
     "text": [
      "z13gydngnwuoyzzq004cjlcqmrbgsnaps3o,109720783232370660451,plusoners\n",
      "\n"
     ]
    }
   ],
   "source": [
    "interactions_csv_file = 'datasets/gplus_interactions.csv'\n",
    "with open(interactions_csv_file, 'r') as f:    \n",
    "    print f.readline()"
   ]
  },
  {
   "cell_type": "markdown",
   "metadata": {},
   "source": [
    "As its a simple CSV, with few columns and without field delimiters, so we can parse it by hand and store in a list"
   ]
  },
  {
   "cell_type": "code",
   "execution_count": 16,
   "metadata": {
    "collapsed": false
   },
   "outputs": [
    {
     "name": "stdout",
     "output_type": "stream",
     "text": [
      "Lines 67177\n",
      "['z13gydngnwuoyzzq004cjlcqmrbgsnaps3o', '109720783232370660451', 'plusoners\\n']\n"
     ]
    }
   ],
   "source": [
    "lines = []\n",
    "with open(interactions_csv_file, 'r') as f:\n",
    "    for line in f.readlines():\n",
    "        lines.append(line.split(','))\n",
    "print \"Lines\", len(lines)\n",
    "print lines[0]"
   ]
  },
  {
   "cell_type": "markdown",
   "metadata": {},
   "source": [
    "Therefore, we will use the *csv* module, which is very efficient to read millions of rows, line by line, using iterators"
   ]
  },
  {
   "cell_type": "code",
   "execution_count": 17,
   "metadata": {
    "collapsed": false
   },
   "outputs": [
    {
     "name": "stdout",
     "output_type": "stream",
     "text": [
      "Interactions 67177\n",
      "[{'postId': 'z13gydngnwuoyzzq004cjlcqmrbgsnaps3o',\n",
      "  'type': 'plusoners',\n",
      "  'userId': '109720783232370660451'},\n",
      " {'postId': 'z13gydngnwuoyzzq004cjlcqmrbgsnaps3o',\n",
      "  'type': 'plusoners',\n",
      "  'userId': '104353693648499998492'},\n",
      " {'postId': 'z13gydngnwuoyzzq004cjlcqmrbgsnaps3o',\n",
      "  'type': 'plusoners',\n",
      "  'userId': '109532429996108120489'}]\n"
     ]
    }
   ],
   "source": [
    "import csv\n",
    "from pprint import pprint\n",
    "\n",
    "def load_interactions_from_csv_file(interactions_csv_file):\n",
    "    #user_interactions = {}\n",
    "    interactions = []\n",
    "    INTERACTIONS_CSV_HEADERS = 'postId,userId,type'\n",
    "    with open(interactions_csv_file, 'r') as f:\n",
    "        reader = csv.reader(f, delimiter=',', quotechar='\"')\n",
    "\n",
    "        headers = INTERACTIONS_CSV_HEADERS.split(',')\n",
    "        for row in reader:\n",
    "            try:\n",
    "                interaction = dict(zip(headers, row))\n",
    "\n",
    "                #user_index = interaction['userId']\n",
    "                #if user_index not in user_interactions.keys():\n",
    "                #    user_interactions[user_index] = []\n",
    "                interactions.append(interaction)\n",
    "                #user_interactions[user_index].append(interaction)\n",
    "            except:\n",
    "                print \"Error parsing line:\",str(row)\n",
    "                raise\n",
    "    return interactions\n",
    "\n",
    "interactions = load_interactions_from_csv_file('datasets/gplus_interactions.csv')\n",
    "print 'Interactions', len(interactions)\n",
    "pprint(interactions[:3])\n",
    "#print 'Users:',len(user_interactions)\n",
    "#print 'Posts first user:', len(user_interactions['103205094494352931790'])\n",
    "#pprint(user_interactions['103205094494352931790'])"
   ]
  },
  {
   "cell_type": "markdown",
   "metadata": {},
   "source": [
    "##Reading the users posts (JSON)"
   ]
  },
  {
   "cell_type": "markdown",
   "metadata": {},
   "source": [
    "We read the first line as a raw text file, to have an ideia of the JSON structure"
   ]
  },
  {
   "cell_type": "code",
   "execution_count": 18,
   "metadata": {
    "collapsed": false
   },
   "outputs": [
    {
     "name": "stdout",
     "output_type": "stream",
     "text": [
      "{\"access\": {\"description\": \"CI&T Developers (e-Learning)\", \"kind\": \"plus#acl\"}, \"actor\": {\"displayName\": \"Lu\\u00eds Felipe Souza\", \"id\": \"102949951630555365389\", \"image\": {\"url\": \"https://lh3.googleusercontent.com/-zYeJeeoBn48/AAAAAAAAAAI/AAAAAAAAACQ/EO9fBGYgrXg/photo.jpg?sz=50\"}, \"url\": \"https://plus.google.com/102949951630555365389\"}, \"etag\": \"\\\"YfeL5U-JnyEDGe0hBm7Tzx_FfL8/DklCq4ugbEK2DB5ZK6kb84_j1Qc\\\"\", \"id\": \"z13gydngnwuoyzzq004cjlcqmrbgsnaps3o\", \"kind\": \"plus#activity\", \"object\": {\"attachments\": [{\"content\": \"Workshop BeMEAN ONLINE\", \"displayName\": \"Workshop BeMEAN ONLINE\", \"fullImage\": {\"type\": \"image/jpeg\", \"url\": \"http://bemean.com.br/images/webschool-pb-medium.png\"}, \"image\": {\"height\": 120, \"type\": \"image/jpeg\", \"url\": \"https://lh4.googleusercontent.com/proxy/euFZA4_NFulzqeLHAlx-PXYLDgEPCLRngeDAwUleCegTE8F0i2BKW9vYDHvsU1k7T-hnoFBV-FCxJN6IENmvbJH50w=w120-h120\", \"width\": 120}, \"objectType\": \"article\", \"url\": \"http://bemean.com.br\"}], \"content\": \"Curso online de AngularJS, NodeJS e MongoDB.<br /><br />Um amigo me recomendou esse curso:\\u00a0<a href=\\\"http://bemean.com.br/\\\">http://bemean.com.br/</a><br /><br />N\\u00e3o tenho muitas refer\\u00eancias sobre o instrutor, mas pelo conte\\u00fado parece ser bacana!<br /><br />Se algu\\u00e9m algu\\u00e9m conhecer, compartilha a\\u00ed!\\ufeff\", \"objectType\": \"note\", \"plusoners\": {\"selfLink\": \"https://www.googleapis.com/plusDomains/v1/activities/z13gydngnwuoyzzq004cjlcqmrbgsnaps3o/people/plusoners\", \"totalItems\": 8}, \"replies\": {\"selfLink\": \"https://www.googleapis.com/plusDomains/v1/activities/z13gydngnwuoyzzq004cjlcqmrbgsnaps3o/comments\", \"totalItems\": 6}, \"resharers\": {\"selfLink\": \"https://www.googleapis.com/plusDomains/v1/activities/z13gydngnwuoyzzq004cjlcqmrbgsnaps3o/people/resharers\", \"totalItems\": 0}, \"statusForViewer\": {\"canComment\": true, \"canPlusone\": true, \"canUpdate\": false, \"isPlusOned\": false, \"resharingDisabled\": true}, \"url\": \"https://plus.google.com/102949951630555365389/posts/ZHFrWnMmsnY\"}, \"provider\": {\"title\": \"Community\"}, \"published\": \"2015-03-18T19:40:06.667Z\", \"title\": \"Curso online de AngularJS, NodeJS e MongoDB.\\n\\nUm amigo me recomendou esse curso:\\u00a0http://bemean.com.br...\", \"updated\": \"2015-03-18T19:40:48.000Z\", \"url\": \"https://plus.google.com/102949951630555365389/posts/ZHFrWnMmsnY\", \"verb\": \"post\"}\n",
      "\n"
     ]
    }
   ],
   "source": [
    "posts_json_file = 'datasets/gplus_posts.json'\n",
    "with open(posts_json_file, 'r') as posts_file:\n",
    "    print posts_file.readline()"
   ]
  },
  {
   "cell_type": "markdown",
   "metadata": {},
   "source": [
    "Then, we can open the file using UTF-8 encoding, using the *codecs* module, and parse the JSON entry to a Python dict using *json* module."
   ]
  },
  {
   "cell_type": "code",
   "execution_count": 19,
   "metadata": {
    "collapsed": false
   },
   "outputs": [
    {
     "name": "stdout",
     "output_type": "stream",
     "text": [
      "{u'access': {u'description': u'CI&T Developers (e-Learning)',\n",
      "             u'kind': u'plus#acl'},\n",
      " u'actor': {u'displayName': u'Lu\\xeds Felipe Souza',\n",
      "            u'id': u'102949951630555365389',\n",
      "            u'image': {u'url': u'https://lh3.googleusercontent.com/-zYeJeeoBn48/AAAAAAAAAAI/AAAAAAAAACQ/EO9fBGYgrXg/photo.jpg?sz=50'},\n",
      "            u'url': u'https://plus.google.com/102949951630555365389'},\n",
      " u'etag': u'\"YfeL5U-JnyEDGe0hBm7Tzx_FfL8/DklCq4ugbEK2DB5ZK6kb84_j1Qc\"',\n",
      " u'id': u'z13gydngnwuoyzzq004cjlcqmrbgsnaps3o',\n",
      " u'kind': u'plus#activity',\n",
      " u'object': {u'attachments': [{u'content': u'Workshop BeMEAN ONLINE',\n",
      "                               u'displayName': u'Workshop BeMEAN ONLINE',\n",
      "                               u'fullImage': {u'type': u'image/jpeg',\n",
      "                                              u'url': u'http://bemean.com.br/images/webschool-pb-medium.png'},\n",
      "                               u'image': {u'height': 120,\n",
      "                                          u'type': u'image/jpeg',\n",
      "                                          u'url': u'https://lh4.googleusercontent.com/proxy/euFZA4_NFulzqeLHAlx-PXYLDgEPCLRngeDAwUleCegTE8F0i2BKW9vYDHvsU1k7T-hnoFBV-FCxJN6IENmvbJH50w=w120-h120',\n",
      "                                          u'width': 120},\n",
      "                               u'objectType': u'article',\n",
      "                               u'url': u'http://bemean.com.br'}],\n",
      "             u'content': u'Curso online de AngularJS, NodeJS e MongoDB.<br /><br />Um amigo me recomendou esse curso:\\xa0<a href=\"http://bemean.com.br/\">http://bemean.com.br/</a><br /><br />N\\xe3o tenho muitas refer\\xeancias sobre o instrutor, mas pelo conte\\xfado parece ser bacana!<br /><br />Se algu\\xe9m algu\\xe9m conhecer, compartilha a\\xed!\\ufeff',\n",
      "             u'objectType': u'note',\n",
      "             u'plusoners': {u'selfLink': u'https://www.googleapis.com/plusDomains/v1/activities/z13gydngnwuoyzzq004cjlcqmrbgsnaps3o/people/plusoners',\n",
      "                            u'totalItems': 8},\n",
      "             u'replies': {u'selfLink': u'https://www.googleapis.com/plusDomains/v1/activities/z13gydngnwuoyzzq004cjlcqmrbgsnaps3o/comments',\n",
      "                          u'totalItems': 6},\n",
      "             u'resharers': {u'selfLink': u'https://www.googleapis.com/plusDomains/v1/activities/z13gydngnwuoyzzq004cjlcqmrbgsnaps3o/people/resharers',\n",
      "                            u'totalItems': 0},\n",
      "             u'statusForViewer': {u'canComment': True,\n",
      "                                  u'canPlusone': True,\n",
      "                                  u'canUpdate': False,\n",
      "                                  u'isPlusOned': False,\n",
      "                                  u'resharingDisabled': True},\n",
      "             u'url': u'https://plus.google.com/102949951630555365389/posts/ZHFrWnMmsnY'},\n",
      " u'provider': {u'title': u'Community'},\n",
      " u'published': u'2015-03-18T19:40:06.667Z',\n",
      " u'title': u'Curso online de AngularJS, NodeJS e MongoDB.\\n\\nUm amigo me recomendou esse curso:\\xa0http://bemean.com.br...',\n",
      " u'updated': u'2015-03-18T19:40:48.000Z',\n",
      " u'url': u'https://plus.google.com/102949951630555365389/posts/ZHFrWnMmsnY',\n",
      " u'verb': u'post'}\n"
     ]
    }
   ],
   "source": [
    "import codecs, json\n",
    "firstLine = None\n",
    "posts_json_file = 'datasets/gplus_posts.json'\n",
    "with codecs.open(posts_json_file, 'r', encoding='utf-8') as jsonfile:\n",
    "    firstLine = json.loads(jsonfile.readline())\n",
    "pprint(firstLine)"
   ]
  },
  {
   "cell_type": "markdown",
   "metadata": {},
   "source": [
    "After parsing the JSON, we can retrieve the content of the post in the dict"
   ]
  },
  {
   "cell_type": "code",
   "execution_count": 20,
   "metadata": {
    "collapsed": false
   },
   "outputs": [
    {
     "data": {
      "text/plain": [
       "u'Curso online de AngularJS, NodeJS e MongoDB.<br /><br />Um amigo me recomendou esse curso:\\xa0<a href=\"http://bemean.com.br/\">http://bemean.com.br/</a><br /><br />N\\xe3o tenho muitas refer\\xeancias sobre o instrutor, mas pelo conte\\xfado parece ser bacana!<br /><br />Se algu\\xe9m algu\\xe9m conhecer, compartilha a\\xed!\\ufeff'"
      ]
     },
     "execution_count": 20,
     "metadata": {},
     "output_type": "execute_result"
    }
   ],
   "source": [
    "firstLine['object']['content']"
   ]
  },
  {
   "cell_type": "markdown",
   "metadata": {},
   "source": [
    "We will further analyse the posts text, and the URLs can add noise to that. Using the native regex parser in Python, we can drop off all URLs."
   ]
  },
  {
   "cell_type": "code",
   "execution_count": 21,
   "metadata": {
    "collapsed": false
   },
   "outputs": [
    {
     "name": "stdout",
     "output_type": "stream",
     "text": [
      "Curso online de AngularJS, NodeJS e MongoDB.<br /><br />Um amigo me recomendou esse curso: <a href=\" \"> </a><br /><br />Não tenho muitas referências sobre o instrutor, mas pelo conteúdo parece ser bacana!<br /><br />Se alguém alguém conhecer, compartilha aí!﻿\n"
     ]
    }
   ],
   "source": [
    "import re\n",
    "def remove_urls_from_text(text):\n",
    "    without_url = re.sub(r'(?i)\\b((?:https?://|www\\d{0,3}[.]|[a-z0-9.\\-]+[.][a-z]{2,4}/)(?:[^\\s()<>]+|\\(([^\\s()<>]+|(\\([^\\s()<>]+\\)))*\\))+(?:\\(([^\\s()<>]+|(\\([^\\s()<>]+\\)))*\\)|[^\\s`!()\\[\\]{};:\\'\".,<>?\"\"'']))', ' ', text)\n",
    "    return without_url\n",
    "print remove_urls_from_text(firstLine['object']['content'])"
   ]
  },
  {
   "cell_type": "markdown",
   "metadata": {},
   "source": [
    "We already have HTML markups in the text, so we will use the excelent BeautifulSoup (external module) to parse and extract the tags (too lazy to do a regex for that)"
   ]
  },
  {
   "cell_type": "code",
   "execution_count": 22,
   "metadata": {
    "collapsed": false
   },
   "outputs": [
    {
     "name": "stdout",
     "output_type": "stream",
     "text": [
      "Curso online de AngularJS, NodeJS e MongoDB. Um amigo me recomendou esse curso:    Não tenho muitas referências sobre o instrutor, mas pelo conteúdo parece ser bacana! Se alguém alguém conhecer, compartilha aí!﻿\n"
     ]
    }
   ],
   "source": [
    "from bs4 import BeautifulSoup\n",
    "def remove_html_tags_from_text(html_text):\n",
    "    raw_content = BeautifulSoup(html_text).get_text(' ')\n",
    "    return raw_content\n",
    "print remove_html_tags_from_text(remove_urls_from_text(firstLine['object']['content']))"
   ]
  },
  {
   "cell_type": "markdown",
   "metadata": {},
   "source": [
    "The field \"published\" contains the post published date, in ISO 8601 format."
   ]
  },
  {
   "cell_type": "code",
   "execution_count": 23,
   "metadata": {
    "collapsed": false
   },
   "outputs": [
    {
     "data": {
      "text/plain": [
       "u'2015-03-18T19:40:06.667Z'"
      ]
     },
     "execution_count": 23,
     "metadata": {},
     "output_type": "execute_result"
    }
   ],
   "source": [
    "firstLine['published']"
   ]
  },
  {
   "cell_type": "markdown",
   "metadata": {},
   "source": [
    "To be useful in Python, we need to parse this date"
   ]
  },
  {
   "cell_type": "code",
   "execution_count": 24,
   "metadata": {
    "collapsed": false
   },
   "outputs": [
    {
     "data": {
      "text/plain": [
       "datetime.datetime(2015, 3, 18, 19, 40, 6, 667000, tzinfo=tzutc())"
      ]
     },
     "execution_count": 24,
     "metadata": {},
     "output_type": "execute_result"
    }
   ],
   "source": [
    "import dateutil.parser\n",
    "dateutil.parser.parse(firstLine['published'])"
   ]
  },
  {
   "cell_type": "markdown",
   "metadata": {},
   "source": [
    "Putting it all together, this method parses all lines from the posts json file, and stores only the fields we will need in a dict. It cleans from the content the Urls and HTML markups and dates are converted to Python format.\n",
    "Additionally, we insert an artificial \"age\" field for further usage in tha analysis, with random values between 0-100, and about random 25% of null values "
   ]
  },
  {
   "cell_type": "code",
   "execution_count": 25,
   "metadata": {
    "collapsed": false
   },
   "outputs": [],
   "source": [
    "import json, random\n",
    "def load_posts_from_json_lines_file(posts_json_file):\n",
    "    posts = {}\n",
    "    user_posts = {}\n",
    "    with codecs.open(posts_json_file, 'r', encoding='utf-8') as jsonfile:\n",
    "        for line in jsonfile.readlines():\n",
    "            try:\n",
    "                post_json = json.loads(line.strip())\n",
    "                                  \n",
    "                html_content = post_json['object']['content']\n",
    "                html_content_without_urls = remove_urls_from_text(html_content)\n",
    "                text_content = remove_html_tags_from_text(html_content_without_urls)\n",
    "\n",
    "                if u'was tagged in' in html_content:\n",
    "                    continue\n",
    "\n",
    "                post = {'postId': post_json['id'],\n",
    "                        'origin': post_json['access']['description'],\n",
    "                        'title': post_json['title'],\n",
    "                        'content': text_content,\n",
    "                        'userName': post_json['actor']['displayName'],\n",
    "                        'userId': post_json['actor']['id'],\n",
    "                        'userImageUrl': post_json['actor']['image']['url'],\n",
    "                        'profileUrl': post_json['actor']['url'],\n",
    "                        'postUrl': post_json['url'],\n",
    "                        'provider': post_json['provider']['title'],\n",
    "                        'published': dateutil.parser.parse(post_json['published']),\n",
    "                        'updated': dateutil.parser.parse(post_json['updated']),\n",
    "                        'indexedContent': text_content,\n",
    "                        'age': (random.random() * 100) if (random.random() <= 0.75) else None\n",
    "                        }\n",
    "\n",
    "                user_index = post['userId']\n",
    "                if user_index not in user_posts.keys():\n",
    "                    user_posts[user_index] = []\n",
    "                user_posts[user_index].append(post['postId'])\n",
    "\n",
    "                posts[post['postId']] = post\n",
    "            except:\n",
    "                print \"Unexpected error processing line '\",line.encode('ascii','ignore')\n",
    "                raise\n",
    "    return posts, user_posts\n",
    "\n",
    "posts, user_posts = load_posts_from_json_lines_file('datasets/gplus_posts.json')"
   ]
  },
  {
   "cell_type": "markdown",
   "metadata": {},
   "source": [
    "After parsing all the lines, we can see the posts and unique users counts. We stored the posts in a dict indexed by the userId."
   ]
  },
  {
   "cell_type": "code",
   "execution_count": 12,
   "metadata": {
    "collapsed": false
   },
   "outputs": [
    {
     "name": "stdout",
     "output_type": "stream",
     "text": [
      "Posts: 8385\n",
      "Users: 833\n",
      "\n",
      "Posts from a user: [u'z12rz1tyzsywezsec22lurhq2wq0wl5ca', u'z12gjfeyfziegjfcz22lurhq2wq0wl5ca', u'z13xvneb0tr3db02a22lurhq2wq0wl5ca'] \n",
      "\n",
      "{'age': None,\n",
      " 'content': u'Primeiras estat\\xedsticas sobre Apple Watch. Estou falando tanto disso que acho que a Apple podia me dar um :) .The top-developed category is Utility, comprising 373 (12%) of all apps. .Surprisingly, Health & Fitness tied with Lifestyle for 4th, each accounting for 7% of all Watch-developed apps. This differs significantly from Android-based wearables. .The least-developed categories for the Apple Watch are Catalogs, Books, Weather, Photo & Video, and Medical, which all clocked in at under 2% per category.\\ufeff',\n",
      " 'indexedContent': u'Primeiras estat\\xedsticas sobre Apple Watch. Estou falando tanto disso que acho que a Apple podia me dar um :) .The top-developed category is Utility, comprising 373 (12%) of all apps. .Surprisingly, Health & Fitness tied with Lifestyle for 4th, each accounting for 7% of all Watch-developed apps. This differs significantly from Android-based wearables. .The least-developed categories for the Apple Watch are Catalogs, Books, Weather, Photo & Video, and Medical, which all clocked in at under 2% per category.\\ufeff',\n",
      " 'origin': u'CI&T Developers (Mobile)',\n",
      " 'postId': u'z12rz1tyzsywezsec22lurhq2wq0wl5ca',\n",
      " 'postUrl': u'https://plus.google.com/+MarcioKikuti/posts/DAsTitbQfEE',\n",
      " 'profileUrl': u'https://plus.google.com/103205094494352931790',\n",
      " 'provider': u'Community',\n",
      " 'published': datetime.datetime(2015, 4, 30, 18, 51, 17, 152000, tzinfo=tzutc()),\n",
      " 'title': u'Primeiras estat\\xedsticas sobre Apple Watch. Estou falando tanto disso que acho que a Apple podia me dar...',\n",
      " 'updated': datetime.datetime(2015, 4, 30, 18, 52, 26, tzinfo=tzutc()),\n",
      " 'userId': u'103205094494352931790',\n",
      " 'userImageUrl': u'https://lh3.googleusercontent.com/-Kd4lpr2equ8/AAAAAAAAAAI/AAAAAAAAFGc/dtvcL6FT7oU/photo.jpg?sz=50',\n",
      " 'userName': u'Marcio Kikuti'}\n"
     ]
    }
   ],
   "source": [
    "print \"Posts:\",len(posts)\n",
    "print \"Users:\",len(user_posts)\n",
    "\n",
    "print \"\\nPosts from a user:\", user_posts['103205094494352931790'][:3], \"\\n\"\n",
    "pprint(posts['z12rz1tyzsywezsec22lurhq2wq0wl5ca'])"
   ]
  },
  {
   "cell_type": "markdown",
   "metadata": {},
   "source": [
    "##Pandas to the resque\n",
    "Pandas is a great module for data munging and exploratory analysis. Its core concept is the DataFrame, a handiful construct for data manipulation, found also in R and MatLab.\n",
    "We can easily convert a list of dictionaries (rows) to a DataFrame."
   ]
  },
  {
   "cell_type": "code",
   "execution_count": 13,
   "metadata": {
    "collapsed": false
   },
   "outputs": [
    {
     "data": {
      "text/html": [
       "<div style=\"max-height:1000px;max-width:1500px;overflow:auto;\">\n",
       "<table border=\"1\" class=\"dataframe\">\n",
       "  <thead>\n",
       "    <tr style=\"text-align: right;\">\n",
       "      <th></th>\n",
       "      <th>age</th>\n",
       "      <th>content</th>\n",
       "      <th>indexedContent</th>\n",
       "      <th>origin</th>\n",
       "      <th>postId</th>\n",
       "      <th>postUrl</th>\n",
       "      <th>profileUrl</th>\n",
       "      <th>provider</th>\n",
       "      <th>published</th>\n",
       "      <th>title</th>\n",
       "      <th>updated</th>\n",
       "      <th>userId</th>\n",
       "      <th>userImageUrl</th>\n",
       "      <th>userName</th>\n",
       "    </tr>\n",
       "  </thead>\n",
       "  <tbody>\n",
       "    <tr>\n",
       "      <th>0</th>\n",
       "      <td>  8.237756</td>\n",
       "      <td> Olá, Algum projeto tem impressora zebra para t...</td>\n",
       "      <td> Olá, Algum projeto tem impressora zebra para t...</td>\n",
       "      <td>   CI&amp;T Developers (Discussion)</td>\n",
       "      <td> z12vyhfr5zj4ehzxi04cdbuobqrnf5dhryk0k</td>\n",
       "      <td> https://plus.google.com/+ValquiriadeCarvalhoOl...</td>\n",
       "      <td> https://plus.google.com/100639527798050818921</td>\n",
       "      <td> Community</td>\n",
       "      <td> 2014-10-10 17:33:45.790000+00:00</td>\n",
       "      <td> Olá,\\n\\nAlgum projeto tem impressora zebra par...</td>\n",
       "      <td> 2014-10-10 17:33:45.790000+00:00</td>\n",
       "      <td> 100639527798050818921</td>\n",
       "      <td> https://lh3.googleusercontent.com/-0gILGSiSPXA...</td>\n",
       "      <td> Valquiria de Carvalho Oliveira</td>\n",
       "    </tr>\n",
       "    <tr>\n",
       "      <th>1</th>\n",
       "      <td>       NaN</td>\n",
       "      <td> Máquina de Café sem café! Galera, bom dia!  Já...</td>\n",
       "      <td> Máquina de Café sem café! Galera, bom dia!  Já...</td>\n",
       "      <td>                         Domain</td>\n",
       "      <td>     z13zt1gzxsf2dlans230zbsr0qzwzbodd</td>\n",
       "      <td> https://plus.google.com/111310394464404087471/...</td>\n",
       "      <td> https://plus.google.com/111310394464404087471</td>\n",
       "      <td> Community</td>\n",
       "      <td> 2015-03-27 12:37:33.782000+00:00</td>\n",
       "      <td> Máquina de Café sem café!\\nGalera, bom dia!  J...</td>\n",
       "      <td> 2015-03-27 12:37:33.782000+00:00</td>\n",
       "      <td> 111310394464404087471</td>\n",
       "      <td> https://lh3.googleusercontent.com/-jkXrx-U7FDo...</td>\n",
       "      <td>            Luiz Finhana Junior</td>\n",
       "    </tr>\n",
       "    <tr>\n",
       "      <th>2</th>\n",
       "      <td> 32.431978</td>\n",
       "      <td> Did you ever wonder how great it would be if y...</td>\n",
       "      <td> Did you ever wonder how great it would be if y...</td>\n",
       "      <td> CI&amp;T Developers (Architecture)</td>\n",
       "      <td>   z121itaiezmtzbp5j04cg5owalnmwjqab20</td>\n",
       "      <td> https://plus.google.com/+JoãoVitorLacerdaGuima...</td>\n",
       "      <td> https://plus.google.com/108804428940930075609</td>\n",
       "      <td> Community</td>\n",
       "      <td> 2014-03-10 01:40:23.984000+00:00</td>\n",
       "      <td> Did you ever wonder how great it would be if y...</td>\n",
       "      <td> 2014-03-10 01:40:23.984000+00:00</td>\n",
       "      <td> 108804428940930075609</td>\n",
       "      <td> https://lh3.googleusercontent.com/-FLpvDQBLP1w...</td>\n",
       "      <td>   João Vitor Lacerda Guimaraes</td>\n",
       "    </tr>\n",
       "  </tbody>\n",
       "</table>\n",
       "</div>"
      ],
      "text/plain": [
       "         age                                            content  \\\n",
       "0   8.237756  Olá, Algum projeto tem impressora zebra para t...   \n",
       "1        NaN  Máquina de Café sem café! Galera, bom dia!  Já...   \n",
       "2  32.431978  Did you ever wonder how great it would be if y...   \n",
       "\n",
       "                                      indexedContent  \\\n",
       "0  Olá, Algum projeto tem impressora zebra para t...   \n",
       "1  Máquina de Café sem café! Galera, bom dia!  Já...   \n",
       "2  Did you ever wonder how great it would be if y...   \n",
       "\n",
       "                           origin                                 postId  \\\n",
       "0    CI&T Developers (Discussion)  z12vyhfr5zj4ehzxi04cdbuobqrnf5dhryk0k   \n",
       "1                          Domain      z13zt1gzxsf2dlans230zbsr0qzwzbodd   \n",
       "2  CI&T Developers (Architecture)    z121itaiezmtzbp5j04cg5owalnmwjqab20   \n",
       "\n",
       "                                             postUrl  \\\n",
       "0  https://plus.google.com/+ValquiriadeCarvalhoOl...   \n",
       "1  https://plus.google.com/111310394464404087471/...   \n",
       "2  https://plus.google.com/+JoãoVitorLacerdaGuima...   \n",
       "\n",
       "                                      profileUrl   provider  \\\n",
       "0  https://plus.google.com/100639527798050818921  Community   \n",
       "1  https://plus.google.com/111310394464404087471  Community   \n",
       "2  https://plus.google.com/108804428940930075609  Community   \n",
       "\n",
       "                          published  \\\n",
       "0  2014-10-10 17:33:45.790000+00:00   \n",
       "1  2015-03-27 12:37:33.782000+00:00   \n",
       "2  2014-03-10 01:40:23.984000+00:00   \n",
       "\n",
       "                                               title  \\\n",
       "0  Olá,\\n\\nAlgum projeto tem impressora zebra par...   \n",
       "1  Máquina de Café sem café!\\nGalera, bom dia!  J...   \n",
       "2  Did you ever wonder how great it would be if y...   \n",
       "\n",
       "                            updated                 userId  \\\n",
       "0  2014-10-10 17:33:45.790000+00:00  100639527798050818921   \n",
       "1  2015-03-27 12:37:33.782000+00:00  111310394464404087471   \n",
       "2  2014-03-10 01:40:23.984000+00:00  108804428940930075609   \n",
       "\n",
       "                                        userImageUrl  \\\n",
       "0  https://lh3.googleusercontent.com/-0gILGSiSPXA...   \n",
       "1  https://lh3.googleusercontent.com/-jkXrx-U7FDo...   \n",
       "2  https://lh3.googleusercontent.com/-FLpvDQBLP1w...   \n",
       "\n",
       "                         userName  \n",
       "0  Valquiria de Carvalho Oliveira  \n",
       "1             Luiz Finhana Junior  \n",
       "2    João Vitor Lacerda Guimaraes  "
      ]
     },
     "execution_count": 13,
     "metadata": {},
     "output_type": "execute_result"
    }
   ],
   "source": [
    "import pandas as pd\n",
    "df = pd.DataFrame(posts.values())\n",
    "df.head(3)"
   ]
  },
  {
   "cell_type": "markdown",
   "metadata": {},
   "source": [
    "We can explore the schema of the DataFrame"
   ]
  },
  {
   "cell_type": "code",
   "execution_count": 14,
   "metadata": {
    "collapsed": false
   },
   "outputs": [
    {
     "name": "stdout",
     "output_type": "stream",
     "text": [
      "<class 'pandas.core.frame.DataFrame'>\n",
      "Int64Index: 8385 entries, 0 to 8384\n",
      "Data columns (total 14 columns):\n",
      "age               6301 non-null float64\n",
      "content           8385 non-null object\n",
      "indexedContent    8385 non-null object\n",
      "origin            8385 non-null object\n",
      "postId            8385 non-null object\n",
      "postUrl           8385 non-null object\n",
      "profileUrl        8385 non-null object\n",
      "provider          8385 non-null object\n",
      "published         8385 non-null object\n",
      "title             8385 non-null object\n",
      "updated           8385 non-null object\n",
      "userId            8385 non-null object\n",
      "userImageUrl      8385 non-null object\n",
      "userName          8385 non-null object\n",
      "dtypes: float64(1), object(13)"
     ]
    }
   ],
   "source": [
    "df.info()"
   ]
  },
  {
   "cell_type": "markdown",
   "metadata": {},
   "source": [
    "And conduct many operations of SQL (relational algebra), like project, select, union, join, etc.\n",
    "Here we project only three columns."
   ]
  },
  {
   "cell_type": "code",
   "execution_count": 15,
   "metadata": {
    "collapsed": false
   },
   "outputs": [
    {
     "data": {
      "text/html": [
       "<div style=\"max-height:1000px;max-width:1500px;overflow:auto;\">\n",
       "<table border=\"1\" class=\"dataframe\">\n",
       "  <thead>\n",
       "    <tr style=\"text-align: right;\">\n",
       "      <th></th>\n",
       "      <th>postId</th>\n",
       "      <th>origin</th>\n",
       "      <th>title</th>\n",
       "    </tr>\n",
       "  </thead>\n",
       "  <tbody>\n",
       "    <tr>\n",
       "      <th>0</th>\n",
       "      <td> z12vyhfr5zj4ehzxi04cdbuobqrnf5dhryk0k</td>\n",
       "      <td>   CI&amp;T Developers (Discussion)</td>\n",
       "      <td> Olá,\\n\\nAlgum projeto tem impressora zebra par...</td>\n",
       "    </tr>\n",
       "    <tr>\n",
       "      <th>1</th>\n",
       "      <td>     z13zt1gzxsf2dlans230zbsr0qzwzbodd</td>\n",
       "      <td>                         Domain</td>\n",
       "      <td> Máquina de Café sem café!\\nGalera, bom dia!  J...</td>\n",
       "    </tr>\n",
       "    <tr>\n",
       "      <th>2</th>\n",
       "      <td>   z121itaiezmtzbp5j04cg5owalnmwjqab20</td>\n",
       "      <td> CI&amp;T Developers (Architecture)</td>\n",
       "      <td> Did you ever wonder how great it would be if y...</td>\n",
       "    </tr>\n",
       "    <tr>\n",
       "      <th>3</th>\n",
       "      <td>   z13ev10pbqqei544i04cg15belrncdwzgbk</td>\n",
       "      <td>               Shared privately</td>\n",
       "      <td> 2015 Guide to Social Media Image Sizes – Infog...</td>\n",
       "    </tr>\n",
       "    <tr>\n",
       "      <th>4</th>\n",
       "      <td>   z12bfx5zjuvcuxc0v22yjpgaqsrjchupm04</td>\n",
       "      <td>               Shared privately</td>\n",
       "      <td> Para cada super profissional, super mãe, super...</td>\n",
       "    </tr>\n",
       "  </tbody>\n",
       "</table>\n",
       "</div>"
      ],
      "text/plain": [
       "                                  postId                          origin  \\\n",
       "0  z12vyhfr5zj4ehzxi04cdbuobqrnf5dhryk0k    CI&T Developers (Discussion)   \n",
       "1      z13zt1gzxsf2dlans230zbsr0qzwzbodd                          Domain   \n",
       "2    z121itaiezmtzbp5j04cg5owalnmwjqab20  CI&T Developers (Architecture)   \n",
       "3    z13ev10pbqqei544i04cg15belrncdwzgbk                Shared privately   \n",
       "4    z12bfx5zjuvcuxc0v22yjpgaqsrjchupm04                Shared privately   \n",
       "\n",
       "                                               title  \n",
       "0  Olá,\\n\\nAlgum projeto tem impressora zebra par...  \n",
       "1  Máquina de Café sem café!\\nGalera, bom dia!  J...  \n",
       "2  Did you ever wonder how great it would be if y...  \n",
       "3  2015 Guide to Social Media Image Sizes – Infog...  \n",
       "4  Para cada super profissional, super mãe, super...  "
      ]
     },
     "execution_count": 15,
     "metadata": {},
     "output_type": "execute_result"
    }
   ],
   "source": [
    "df[['postId', 'origin', 'title']][0:5]"
   ]
  },
  {
   "cell_type": "markdown",
   "metadata": {},
   "source": [
    "It is possible to access columns series like \"properties\". In this example, we get the count of distinct user names that posted in the database"
   ]
  },
  {
   "cell_type": "code",
   "execution_count": 16,
   "metadata": {
    "collapsed": false
   },
   "outputs": [
    {
     "data": {
      "text/plain": [
       "(831,)"
      ]
     },
     "execution_count": 16,
     "metadata": {},
     "output_type": "execute_result"
    }
   ],
   "source": [
    "df.userName.unique().shape"
   ]
  },
  {
   "cell_type": "markdown",
   "metadata": {},
   "source": [
    "It is possible to select (subset) rows by multiple conditions in a declarative way."
   ]
  },
  {
   "cell_type": "code",
   "execution_count": 17,
   "metadata": {
    "collapsed": false
   },
   "outputs": [
    {
     "data": {
      "text/plain": [
       "4     57.032175\n",
       "8     58.056466\n",
       "9     68.676876\n",
       "13    73.524051\n",
       "14    68.577247\n",
       "17    55.700999\n",
       "18    50.434476\n",
       "22    61.329638\n",
       "28    72.196465\n",
       "30    64.793903\n",
       "Name: age, dtype: float64"
      ]
     },
     "execution_count": 17,
     "metadata": {},
     "output_type": "execute_result"
    }
   ],
   "source": [
    "df[(df.age >= 50) & (df.age < 75)].age.head(10)"
   ]
  },
  {
   "cell_type": "markdown",
   "metadata": {},
   "source": [
    "We can get the total of null values in age column"
   ]
  },
  {
   "cell_type": "code",
   "execution_count": 18,
   "metadata": {
    "collapsed": false
   },
   "outputs": [
    {
     "data": {
      "text/plain": [
       "2084"
      ]
     },
     "execution_count": 18,
     "metadata": {},
     "output_type": "execute_result"
    }
   ],
   "source": [
    "df.age.isnull().sum()"
   ]
  },
  {
   "cell_type": "markdown",
   "metadata": {},
   "source": [
    "Dealing with null values is an important aspect of data munging. You can ignore all lines with null values, but it can reduce very precious rows from your dataset. \n",
    "Other approach is to fill up the null values with a default values. In this case, we will use the mean value of the age column to fill the blank ages."
   ]
  },
  {
   "cell_type": "code",
   "execution_count": 19,
   "metadata": {
    "collapsed": false
   },
   "outputs": [
    {
     "data": {
      "text/plain": [
       "0"
      ]
     },
     "execution_count": 19,
     "metadata": {},
     "output_type": "execute_result"
    }
   ],
   "source": [
    "df.loc[df.age.isnull(), 'age'] = df.age.dropna().mean()\n",
    "df.age.isnull().sum()"
   ]
  },
  {
   "cell_type": "markdown",
   "metadata": {},
   "source": [
    "With this filling of null age values with the mean, obviously the column mean will remain the same."
   ]
  },
  {
   "cell_type": "code",
   "execution_count": 20,
   "metadata": {
    "collapsed": false
   },
   "outputs": [
    {
     "data": {
      "text/plain": [
       "49.984904390880956"
      ]
     },
     "execution_count": 20,
     "metadata": {},
     "output_type": "execute_result"
    }
   ],
   "source": [
    "df.age.dropna().mean()"
   ]
  },
  {
   "cell_type": "markdown",
   "metadata": {},
   "source": [
    "Pandas uses matplotlib for easy charting from DataFrame. Here we plot a histogram of the random age field, where the range around the mean have more examples, since we artificially set the null values to the mean."
   ]
  },
  {
   "cell_type": "code",
   "execution_count": 21,
   "metadata": {
    "collapsed": false
   },
   "outputs": [
    {
     "data": {
      "text/plain": [
       "<matplotlib.axes.AxesSubplot at 0x1140b3f90>"
      ]
     },
     "execution_count": 21,
     "metadata": {},
     "output_type": "execute_result"
    },
    {
     "data": {
      "image/png": "[encoded data removed]",
      "text/plain": [
       "<matplotlib.figure.Figure at 0x1136e9690>"
      ]
     },
     "metadata": {},
     "output_type": "display_data"
    }
   ],
   "source": [
    "%matplotlib inline\n",
    "df['age'].hist()"
   ]
  },
  {
   "cell_type": "markdown",
   "metadata": {},
   "source": [
    "#Exploring\n",
    "\n",
    "After some data munging and exploring some Pandas features, let's address some business questions about this corporative social network database."
   ]
  },
  {
   "cell_type": "markdown",
   "metadata": {},
   "source": [
    "*Question 1*: **Which communities are more popular?**"
   ]
  },
  {
   "cell_type": "markdown",
   "metadata": {},
   "source": [
    "Let's take a look in the origin column. The community names are the first part of the field, and the section/category of the community where user posted is embraced by parenthesys."
   ]
  },
  {
   "cell_type": "code",
   "execution_count": 22,
   "metadata": {
    "collapsed": false
   },
   "outputs": [
    {
     "data": {
      "text/plain": [
       "0                       CI&T Developers (Discussion)\n",
       "1                                             Domain\n",
       "2                     CI&T Developers (Architecture)\n",
       "3                                   Shared privately\n",
       "4                                   Shared privately\n",
       "5                 [CI&T] What's On Brazil (Wellness)\n",
       "6                                             Domain\n",
       "7           CI&T Developers (Linux, Mac OS, Windows)\n",
       "8                                             Domain\n",
       "9    [CI&T] What's On USA (Corporate News (HR Only))\n",
       "Name: origin, dtype: object"
      ]
     },
     "execution_count": 22,
     "metadata": {},
     "output_type": "execute_result"
    }
   ],
   "source": [
    "df['origin'].head(10)"
   ]
  },
  {
   "cell_type": "markdown",
   "metadata": {},
   "source": [
    "Let's get rid of the categories section, transforming the field to extract only the first part before parenthesys."
   ]
  },
  {
   "cell_type": "code",
   "execution_count": 55,
   "metadata": {
    "collapsed": false
   },
   "outputs": [
    {
     "data": {
      "text/plain": [
       "0            CI&T Developers \n",
       "1                      Domain\n",
       "2            CI&T Developers \n",
       "3            Shared privately\n",
       "4            Shared privately\n",
       "5    [CI&T] What's On Brazil \n",
       "6                      Domain\n",
       "7            CI&T Developers \n",
       "8                      Domain\n",
       "9       [CI&T] What's On USA \n",
       "Name: community, dtype: object"
      ]
     },
     "execution_count": 55,
     "metadata": {},
     "output_type": "execute_result"
    }
   ],
   "source": [
    "df['community'] = df['origin'].map(lambda o: o.split('(')[0])\n",
    "df['community'].head(10)"
   ]
  },
  {
   "cell_type": "markdown",
   "metadata": {},
   "source": [
    "To answer *Question 1*, we need to sum up the total of posts in all communities, and sort them by cound. Pandas groupby and sort methods make that easy."
   ]
  },
  {
   "cell_type": "code",
   "execution_count": 60,
   "metadata": {
    "collapsed": false
   },
   "outputs": [
    {
     "name": "stdout",
     "output_type": "stream",
     "text": [
      "community\n",
      "CI&T Developers                                 2595\n",
      "Domain                                          1583\n",
      "Shared privately                                1216\n",
      "[CI&T] What's On Brazil                          710\n",
      "[CI&T] Managers                                  429\n",
      "[CI&T] What's On USA                             321\n",
      "​[CI&T] Career in Motion & People Awards         314\n",
      "CI&T+                                            277\n",
      "CI&T Digital Talk                                255\n",
      "[CI&T] Our Achievements                          117\n",
      "D1                                               104\n",
      "CI&T + Google                                     90\n",
      "CI&T BIG Data & Analytics - A Digital Force       85\n",
      "Community                                         72\n",
      "cit-oldschool                                     61\n",
      "D-Coder                                           45\n",
      "DEPRECATED - Smart Computing                      40\n",
      "Google Cloud Experts                              30\n",
      "CI&T Google Sales                                 20\n",
      "Smart Digital Journey                              8\n",
      "CI&T Data Science Study Group                      7\n",
      "Whirlpool Smart Canvas                             6\n",
      "dtype: int64\n"
     ]
    }
   ],
   "source": [
    "community_groups = df.groupby('community').size()\n",
    "community_groups.sort(ascending=False)\n",
    "print community_groups"
   ]
  },
  {
   "cell_type": "markdown",
   "metadata": {},
   "source": [
    "Tables are nice, but charts may answer better *Question 1*, showing the most popular communities in terms of posts count."
   ]
  },
  {
   "cell_type": "code",
   "execution_count": 25,
   "metadata": {
    "collapsed": false
   },
   "outputs": [
    {
     "data": {
      "text/plain": [
       "<matplotlib.text.Text at 0x114462690>"
      ]
     },
     "execution_count": 25,
     "metadata": {},
     "output_type": "execute_result"
    },
    {
     "data": {
      "image/png": "[encoded data removed]",
      "text/plain": [
       "<matplotlib.figure.Figure at 0x103059fd0>"
      ]
     },
     "metadata": {},
     "output_type": "display_data"
    }
   ],
   "source": [
    "%matplotlib inline\n",
    "my_plot = community_groups.plot(kind='bar', title='Posts by community')\n",
    "my_plot.set_xlabel(\"Communities\")\n",
    "my_plot.set_ylabel(\"Posts\")"
   ]
  },
  {
   "cell_type": "markdown",
   "metadata": {},
   "source": [
    "*Question 2* - **Is the engagement of users in corporate communities increasing? **"
   ]
  },
  {
   "cell_type": "markdown",
   "metadata": {},
   "source": [
    "To address this question, we will try to analyse the evolution of posts count grouped by month.  \n",
    "To do that, we create an additional column in the DataFrame, extracting the month of post published date. "
   ]
  },
  {
   "cell_type": "code",
   "execution_count": 26,
   "metadata": {
    "collapsed": false
   },
   "outputs": [
    {
     "data": {
      "text/html": [
       "<div style=\"max-height:1000px;max-width:1500px;overflow:auto;\">\n",
       "<table border=\"1\" class=\"dataframe\">\n",
       "  <thead>\n",
       "    <tr style=\"text-align: right;\">\n",
       "      <th></th>\n",
       "      <th>published</th>\n",
       "      <th>publishedMonth</th>\n",
       "    </tr>\n",
       "  </thead>\n",
       "  <tbody>\n",
       "    <tr>\n",
       "      <th>0</th>\n",
       "      <td> 2014-10-10 17:33:45.790000+00:00</td>\n",
       "      <td> 2014-10</td>\n",
       "    </tr>\n",
       "    <tr>\n",
       "      <th>1</th>\n",
       "      <td> 2015-03-27 12:37:33.782000+00:00</td>\n",
       "      <td> 2015-03</td>\n",
       "    </tr>\n",
       "    <tr>\n",
       "      <th>2</th>\n",
       "      <td> 2014-03-10 01:40:23.984000+00:00</td>\n",
       "      <td> 2014-03</td>\n",
       "    </tr>\n",
       "    <tr>\n",
       "      <th>3</th>\n",
       "      <td> 2015-02-03 10:38:59.696000+00:00</td>\n",
       "      <td> 2015-02</td>\n",
       "    </tr>\n",
       "    <tr>\n",
       "      <th>4</th>\n",
       "      <td> 2013-03-08 12:51:31.443000+00:00</td>\n",
       "      <td> 2013-03</td>\n",
       "    </tr>\n",
       "    <tr>\n",
       "      <th>5</th>\n",
       "      <td> 2015-02-18 13:07:08.554000+00:00</td>\n",
       "      <td> 2015-02</td>\n",
       "    </tr>\n",
       "    <tr>\n",
       "      <th>6</th>\n",
       "      <td> 2014-08-20 15:23:37.057000+00:00</td>\n",
       "      <td> 2014-08</td>\n",
       "    </tr>\n",
       "    <tr>\n",
       "      <th>7</th>\n",
       "      <td> 2014-03-26 21:29:05.318000+00:00</td>\n",
       "      <td> 2014-03</td>\n",
       "    </tr>\n",
       "    <tr>\n",
       "      <th>8</th>\n",
       "      <td> 2014-10-28 12:24:06.018000+00:00</td>\n",
       "      <td> 2014-10</td>\n",
       "    </tr>\n",
       "    <tr>\n",
       "      <th>9</th>\n",
       "      <td> 2013-09-06 23:04:22.143000+00:00</td>\n",
       "      <td> 2013-09</td>\n",
       "    </tr>\n",
       "  </tbody>\n",
       "</table>\n",
       "</div>"
      ],
      "text/plain": [
       "                          published publishedMonth\n",
       "0  2014-10-10 17:33:45.790000+00:00        2014-10\n",
       "1  2015-03-27 12:37:33.782000+00:00        2015-03\n",
       "2  2014-03-10 01:40:23.984000+00:00        2014-03\n",
       "3  2015-02-03 10:38:59.696000+00:00        2015-02\n",
       "4  2013-03-08 12:51:31.443000+00:00        2013-03\n",
       "5  2015-02-18 13:07:08.554000+00:00        2015-02\n",
       "6  2014-08-20 15:23:37.057000+00:00        2014-08\n",
       "7  2014-03-26 21:29:05.318000+00:00        2014-03\n",
       "8  2014-10-28 12:24:06.018000+00:00        2014-10\n",
       "9  2013-09-06 23:04:22.143000+00:00        2013-09"
      ]
     },
     "execution_count": 26,
     "metadata": {},
     "output_type": "execute_result"
    }
   ],
   "source": [
    "df['publishedMonth'] = df.published.map(lambda d: format(d.year, '02') + '-' + format(d.month, '02') )\n",
    "df[['published','publishedMonth']][:10]"
   ]
  },
  {
   "cell_type": "markdown",
   "metadata": {},
   "source": [
    "Now we can group posts count by post published month and plot the series as a line chart.\n",
    "Looking to this chart, we observe an increasing trend of posts in the corporate communities since Jan 2013.  \n",
    "As the company team size have not grow at this rate, we can answer for *Question 2* that the engament of users is really increasing."
   ]
  },
  {
   "cell_type": "code",
   "execution_count": 28,
   "metadata": {
    "collapsed": false
   },
   "outputs": [
    {
     "data": {
      "text/plain": [
       "<matplotlib.text.Text at 0x10439be10>"
      ]
     },
     "execution_count": 28,
     "metadata": {},
     "output_type": "execute_result"
    },
    {
     "data": {
      "image/png": "[encoded data removed]",
      "text/plain": [
       "<matplotlib.figure.Figure at 0x1146b7d90>"
      ]
     },
     "metadata": {},
     "output_type": "display_data"
    }
   ],
   "source": [
    "import matplotlib.pyplot as plt\n",
    "%matplotlib inline\n",
    "\n",
    "months_groups = df.groupby('publishedMonth').size()\n",
    "my_plot = months_groups.plot(kind='line', title='Posts by month' , figsize=(14, 4))\n",
    "my_plot.set_xlabel(\"Months\")\n",
    "my_plot.set_ylabel(\"Posts\")"
   ]
  },
  {
   "cell_type": "markdown",
   "metadata": {},
   "source": [
    "*Question 3* - **What is the distribution of posts publishing time, during the day? **"
   ]
  },
  {
   "cell_type": "markdown",
   "metadata": {},
   "source": [
    "To answer this question, we need again to use published column, to extract the publishing hour to a new column."
   ]
  },
  {
   "cell_type": "code",
   "execution_count": 29,
   "metadata": {
    "collapsed": false
   },
   "outputs": [
    {
     "data": {
      "text/html": [
       "<div style=\"max-height:1000px;max-width:1500px;overflow:auto;\">\n",
       "<table border=\"1\" class=\"dataframe\">\n",
       "  <thead>\n",
       "    <tr style=\"text-align: right;\">\n",
       "      <th></th>\n",
       "      <th>published</th>\n",
       "      <th>publishedHour</th>\n",
       "    </tr>\n",
       "  </thead>\n",
       "  <tbody>\n",
       "    <tr>\n",
       "      <th>0</th>\n",
       "      <td> 2014-10-10 17:33:45.790000+00:00</td>\n",
       "      <td> 17</td>\n",
       "    </tr>\n",
       "    <tr>\n",
       "      <th>1</th>\n",
       "      <td> 2015-03-27 12:37:33.782000+00:00</td>\n",
       "      <td> 12</td>\n",
       "    </tr>\n",
       "    <tr>\n",
       "      <th>2</th>\n",
       "      <td> 2014-03-10 01:40:23.984000+00:00</td>\n",
       "      <td>  1</td>\n",
       "    </tr>\n",
       "    <tr>\n",
       "      <th>3</th>\n",
       "      <td> 2015-02-03 10:38:59.696000+00:00</td>\n",
       "      <td> 10</td>\n",
       "    </tr>\n",
       "    <tr>\n",
       "      <th>4</th>\n",
       "      <td> 2013-03-08 12:51:31.443000+00:00</td>\n",
       "      <td> 12</td>\n",
       "    </tr>\n",
       "    <tr>\n",
       "      <th>5</th>\n",
       "      <td> 2015-02-18 13:07:08.554000+00:00</td>\n",
       "      <td> 13</td>\n",
       "    </tr>\n",
       "    <tr>\n",
       "      <th>6</th>\n",
       "      <td> 2014-08-20 15:23:37.057000+00:00</td>\n",
       "      <td> 15</td>\n",
       "    </tr>\n",
       "    <tr>\n",
       "      <th>7</th>\n",
       "      <td> 2014-03-26 21:29:05.318000+00:00</td>\n",
       "      <td> 21</td>\n",
       "    </tr>\n",
       "    <tr>\n",
       "      <th>8</th>\n",
       "      <td> 2014-10-28 12:24:06.018000+00:00</td>\n",
       "      <td> 12</td>\n",
       "    </tr>\n",
       "    <tr>\n",
       "      <th>9</th>\n",
       "      <td> 2013-09-06 23:04:22.143000+00:00</td>\n",
       "      <td> 23</td>\n",
       "    </tr>\n",
       "  </tbody>\n",
       "</table>\n",
       "</div>"
      ],
      "text/plain": [
       "                          published  publishedHour\n",
       "0  2014-10-10 17:33:45.790000+00:00             17\n",
       "1  2015-03-27 12:37:33.782000+00:00             12\n",
       "2  2014-03-10 01:40:23.984000+00:00              1\n",
       "3  2015-02-03 10:38:59.696000+00:00             10\n",
       "4  2013-03-08 12:51:31.443000+00:00             12\n",
       "5  2015-02-18 13:07:08.554000+00:00             13\n",
       "6  2014-08-20 15:23:37.057000+00:00             15\n",
       "7  2014-03-26 21:29:05.318000+00:00             21\n",
       "8  2014-10-28 12:24:06.018000+00:00             12\n",
       "9  2013-09-06 23:04:22.143000+00:00             23"
      ]
     },
     "execution_count": 29,
     "metadata": {},
     "output_type": "execute_result"
    }
   ],
   "source": [
    "df['publishedHour'] = df.published.map(lambda d: d.hour )\n",
    "df[['published','publishedHour']][:10]"
   ]
  },
  {
   "cell_type": "markdown",
   "metadata": {},
   "source": [
    "Analogously, we group posts count by by the hour of publishing, and can easily plot the result in a bar chart.  \n",
    "We can observe picks of posts around lunch and in the end of afternoon, as expected, answering *Question 3*."
   ]
  },
  {
   "cell_type": "code",
   "execution_count": 30,
   "metadata": {
    "collapsed": false
   },
   "outputs": [
    {
     "data": {
      "text/plain": [
       "<matplotlib.text.Text at 0x11445b110>"
      ]
     },
     "execution_count": 30,
     "metadata": {},
     "output_type": "execute_result"
    },
    {
     "data": {
      "image/png": "[encoded data removed]",
      "text/plain": [
       "<matplotlib.figure.Figure at 0x114238790>"
      ]
     },
     "metadata": {},
     "output_type": "display_data"
    }
   ],
   "source": [
    "byhour_groups = df.groupby('publishedHour').size()\n",
    "my_plot = byhour_groups.plot(kind='bar', title='Posts by publishing hour' , figsize=(10, 4))\n",
    "my_plot.set_xlabel(\"Hour\")\n",
    "my_plot.set_ylabel(\"Posts\")"
   ]
  },
  {
   "cell_type": "markdown",
   "metadata": {},
   "source": [
    "*Question 4* - **What is the percentage of interactions (likes and comments)? **"
   ]
  },
  {
   "cell_type": "markdown",
   "metadata": {},
   "source": [
    "Now we will start to use the dataset of user interactions dataset. Again, we can easily convert our list to a DataFrame."
   ]
  },
  {
   "cell_type": "code",
   "execution_count": 68,
   "metadata": {
    "collapsed": false
   },
   "outputs": [
    {
     "data": {
      "text/html": [
       "<div style=\"max-height:1000px;max-width:1500px;overflow:auto;\">\n",
       "<table border=\"1\" class=\"dataframe\">\n",
       "  <thead>\n",
       "    <tr style=\"text-align: right;\">\n",
       "      <th></th>\n",
       "      <th>postId</th>\n",
       "      <th>type</th>\n",
       "      <th>userId</th>\n",
       "    </tr>\n",
       "  </thead>\n",
       "  <tbody>\n",
       "    <tr>\n",
       "      <th>0</th>\n",
       "      <td> z13gydngnwuoyzzq004cjlcqmrbgsnaps3o</td>\n",
       "      <td> plusoners</td>\n",
       "      <td> 109720783232370660451</td>\n",
       "    </tr>\n",
       "    <tr>\n",
       "      <th>1</th>\n",
       "      <td> z13gydngnwuoyzzq004cjlcqmrbgsnaps3o</td>\n",
       "      <td> plusoners</td>\n",
       "      <td> 104353693648499998492</td>\n",
       "    </tr>\n",
       "    <tr>\n",
       "      <th>2</th>\n",
       "      <td> z13gydngnwuoyzzq004cjlcqmrbgsnaps3o</td>\n",
       "      <td> plusoners</td>\n",
       "      <td> 109532429996108120489</td>\n",
       "    </tr>\n",
       "    <tr>\n",
       "      <th>3</th>\n",
       "      <td> z13gydngnwuoyzzq004cjlcqmrbgsnaps3o</td>\n",
       "      <td> plusoners</td>\n",
       "      <td> 113895504962207208172</td>\n",
       "    </tr>\n",
       "    <tr>\n",
       "      <th>4</th>\n",
       "      <td> z13gydngnwuoyzzq004cjlcqmrbgsnaps3o</td>\n",
       "      <td> plusoners</td>\n",
       "      <td> 103185489532705296142</td>\n",
       "    </tr>\n",
       "    <tr>\n",
       "      <th>5</th>\n",
       "      <td> z13gydngnwuoyzzq004cjlcqmrbgsnaps3o</td>\n",
       "      <td> plusoners</td>\n",
       "      <td> 107551832109217323701</td>\n",
       "    </tr>\n",
       "    <tr>\n",
       "      <th>6</th>\n",
       "      <td> z13gydngnwuoyzzq004cjlcqmrbgsnaps3o</td>\n",
       "      <td> plusoners</td>\n",
       "      <td> 116065736764509847471</td>\n",
       "    </tr>\n",
       "    <tr>\n",
       "      <th>7</th>\n",
       "      <td> z13gydngnwuoyzzq004cjlcqmrbgsnaps3o</td>\n",
       "      <td> plusoners</td>\n",
       "      <td> 108393107997795956129</td>\n",
       "    </tr>\n",
       "    <tr>\n",
       "      <th>8</th>\n",
       "      <td> z13gydngnwuoyzzq004cjlcqmrbgsnaps3o</td>\n",
       "      <td>   replies</td>\n",
       "      <td> 108393107997795956129</td>\n",
       "    </tr>\n",
       "    <tr>\n",
       "      <th>9</th>\n",
       "      <td> z13gydngnwuoyzzq004cjlcqmrbgsnaps3o</td>\n",
       "      <td>   replies</td>\n",
       "      <td> 100031837120064783282</td>\n",
       "    </tr>\n",
       "  </tbody>\n",
       "</table>\n",
       "</div>"
      ],
      "text/plain": [
       "                                postId       type                 userId\n",
       "0  z13gydngnwuoyzzq004cjlcqmrbgsnaps3o  plusoners  109720783232370660451\n",
       "1  z13gydngnwuoyzzq004cjlcqmrbgsnaps3o  plusoners  104353693648499998492\n",
       "2  z13gydngnwuoyzzq004cjlcqmrbgsnaps3o  plusoners  109532429996108120489\n",
       "3  z13gydngnwuoyzzq004cjlcqmrbgsnaps3o  plusoners  113895504962207208172\n",
       "4  z13gydngnwuoyzzq004cjlcqmrbgsnaps3o  plusoners  103185489532705296142\n",
       "5  z13gydngnwuoyzzq004cjlcqmrbgsnaps3o  plusoners  107551832109217323701\n",
       "6  z13gydngnwuoyzzq004cjlcqmrbgsnaps3o  plusoners  116065736764509847471\n",
       "7  z13gydngnwuoyzzq004cjlcqmrbgsnaps3o  plusoners  108393107997795956129\n",
       "8  z13gydngnwuoyzzq004cjlcqmrbgsnaps3o    replies  108393107997795956129\n",
       "9  z13gydngnwuoyzzq004cjlcqmrbgsnaps3o    replies  100031837120064783282"
      ]
     },
     "execution_count": 68,
     "metadata": {},
     "output_type": "execute_result"
    }
   ],
   "source": [
    "df_interactions = pd.DataFrame(interactions)\n",
    "df_interactions.head(10)"
   ]
  },
  {
   "cell_type": "markdown",
   "metadata": {},
   "source": [
    "Using describe(), we get some quick statistics: there was ~67 interactions in 6862 different posts, from 1606 users."
   ]
  },
  {
   "cell_type": "code",
   "execution_count": 32,
   "metadata": {
    "collapsed": false
   },
   "outputs": [
    {
     "data": {
      "text/html": [
       "<div style=\"max-height:1000px;max-width:1500px;overflow:auto;\">\n",
       "<table border=\"1\" class=\"dataframe\">\n",
       "  <thead>\n",
       "    <tr style=\"text-align: right;\">\n",
       "      <th></th>\n",
       "      <th>postId</th>\n",
       "      <th>type</th>\n",
       "      <th>userId</th>\n",
       "    </tr>\n",
       "  </thead>\n",
       "  <tbody>\n",
       "    <tr>\n",
       "      <th>count</th>\n",
       "      <td>                               67177</td>\n",
       "      <td>     67177</td>\n",
       "      <td>                 67177</td>\n",
       "    </tr>\n",
       "    <tr>\n",
       "      <th>unique</th>\n",
       "      <td>                                6862</td>\n",
       "      <td>         2</td>\n",
       "      <td>                  1606</td>\n",
       "    </tr>\n",
       "    <tr>\n",
       "      <th>top</th>\n",
       "      <td> z12ej3wb0t2pd5crj04cfbgweyz2vpjyehg</td>\n",
       "      <td> plusoners</td>\n",
       "      <td> 108393107997795956129</td>\n",
       "    </tr>\n",
       "    <tr>\n",
       "      <th>freq</th>\n",
       "      <td>                                  40</td>\n",
       "      <td>     45482</td>\n",
       "      <td>                   868</td>\n",
       "    </tr>\n",
       "  </tbody>\n",
       "</table>\n",
       "</div>"
      ],
      "text/plain": [
       "                                     postId       type                 userId\n",
       "count                                 67177      67177                  67177\n",
       "unique                                 6862          2                   1606\n",
       "top     z12ej3wb0t2pd5crj04cfbgweyz2vpjyehg  plusoners  108393107997795956129\n",
       "freq                                     40      45482                    868"
      ]
     },
     "execution_count": 32,
     "metadata": {},
     "output_type": "execute_result"
    }
   ],
   "source": [
    "df_interactions.describe()"
   ]
  },
  {
   "cell_type": "markdown",
   "metadata": {},
   "source": [
    "Grouping interactions by type, we can observe in the pie chart that +1 (~67%) are more frequent than comments (32%), answering *Question 4*."
   ]
  },
  {
   "cell_type": "code",
   "execution_count": 33,
   "metadata": {
    "collapsed": false
   },
   "outputs": [
    {
     "data": {
      "text/plain": [
       "<matplotlib.axes.AxesSubplot at 0x114ac3f90>"
      ]
     },
     "execution_count": 33,
     "metadata": {},
     "output_type": "execute_result"
    },
    {
     "data": {
      "image/png": "[encoded data removed]",
      "text/plain": [
       "<matplotlib.figure.Figure at 0x114eec850>"
      ]
     },
     "metadata": {},
     "output_type": "display_data"
    }
   ],
   "source": [
    "bytype_group = df_interactions.groupby('type').size()\n",
    "bytype_group.plot(kind='pie', autopct='%.1f%%', fontsize=20, figsize=(6, 6))"
   ]
  },
  {
   "cell_type": "markdown",
   "metadata": {},
   "source": [
    "*Question 5* - **How is the distribution of interactions by user?**"
   ]
  },
  {
   "cell_type": "markdown",
   "metadata": {},
   "source": [
    "Here we would like to analyze the distribution of interactions by user. We use a boxplot, which summarizes visually statistics like the minimum, maximum, median, quartiles (see describe() results below) and identifies possible outliers.  \n",
    "We can see that 75% of users have done at most 40 interactions (+1s and comments), and some of them have more than 100 interactions, been considered outliers. That answers *Question 5*."
   ]
  },
  {
   "cell_type": "code",
   "execution_count": 80,
   "metadata": {
    "collapsed": false
   },
   "outputs": [
    {
     "data": {
      "image/png": "[encoded data removed]",
      "text/plain": [
       "<matplotlib.figure.Figure at 0x10aaf1e50>"
      ]
     },
     "metadata": {},
     "output_type": "display_data"
    }
   ],
   "source": [
    "byusers_group = df_interactions.groupby('userId').userId.agg({'total': len})\n",
    "myplot = byusers_group.boxplot(figsize=(10, 6), return_type='dict')"
   ]
  },
  {
   "cell_type": "code",
   "execution_count": 39,
   "metadata": {
    "collapsed": false
   },
   "outputs": [
    {
     "data": {
      "text/plain": [
       "count    1606.000000\n",
       "mean       41.828767\n",
       "std        81.184156\n",
       "min         1.000000\n",
       "25%         4.000000\n",
       "50%        13.000000\n",
       "75%        41.750000\n",
       "max       868.000000\n",
       "dtype: float64"
      ]
     },
     "execution_count": 39,
     "metadata": {},
     "output_type": "execute_result"
    }
   ],
   "source": [
    "byusers_group.describe()"
   ]
  },
  {
   "cell_type": "markdown",
   "metadata": {},
   "source": [
    "About 10% of the users can be considered hard users of corporate social network.  \n",
    "Disclaimer: here we are not considering how long persons work for the company, for the sake of simplicity."
   ]
  },
  {
   "cell_type": "code",
   "execution_count": 86,
   "metadata": {
    "collapsed": false
   },
   "outputs": [
    {
     "name": "stdout",
     "output_type": "stream",
     "text": [
      "User with more than 100 interactions: 163 ( 10.1494396015 %)\n",
      "All users: 1606\n"
     ]
    }
   ],
   "source": [
    "outlier_users = byusers_group[byusers_group['total'] > 100].shape[0]\n",
    "print \"User with more than 100 interactions:\",outlier_users, \"(\",float(outlier_users)/len(byusers_group)*100,\"%)\"\n",
    "print \"All users:\",byusers_group.shape[0]"
   ]
  },
  {
   "cell_type": "markdown",
   "metadata": {},
   "source": [
    "*Question 6* - **Is there a relationship between publishing hour and number of interactions? **"
   ]
  },
  {
   "cell_type": "markdown",
   "metadata": {},
   "source": [
    "Is there a common sense that posting at some specific periods of the day (like at 10am), your post have more chance to be viewed. Let's try to see if this behaviour occurs in this dataset.\n",
    "\n",
    "First at all, we need to join the posts DataFrame (with publishing hour) to the interactions DataFrame.\n",
    "We can do this using Pandas's join() method. You can join/merge frames using specific fields. \n",
    "In this case, we first create indexes on both dataframes on join columns, in order to speed up the join.  \n",
    "P.s. The reset_index() is important here, so that we can set indexes only on the join columns."
   ]
  },
  {
   "cell_type": "code",
   "execution_count": 41,
   "metadata": {
    "collapsed": false
   },
   "outputs": [
    {
     "data": {
      "text/html": [
       "<div style=\"max-height:1000px;max-width:1500px;overflow:auto;\">\n",
       "<table border=\"1\" class=\"dataframe\">\n",
       "  <thead>\n",
       "    <tr style=\"text-align: right;\">\n",
       "      <th></th>\n",
       "      <th>postId</th>\n",
       "      <th>published</th>\n",
       "      <th>type</th>\n",
       "    </tr>\n",
       "  </thead>\n",
       "  <tbody>\n",
       "    <tr>\n",
       "      <th>0</th>\n",
       "      <td>   z120c3bw4lbovvfqg04cjf1xypvbd15gt3s</td>\n",
       "      <td> 2014-09-29 11:04:08.416000+00:00</td>\n",
       "      <td>       NaN</td>\n",
       "    </tr>\n",
       "    <tr>\n",
       "      <th>1</th>\n",
       "      <td>   z120c5opxl32zf2nu22my3mynzrygbj5y04</td>\n",
       "      <td> 2014-05-07 03:30:24.260000+00:00</td>\n",
       "      <td> plusoners</td>\n",
       "    </tr>\n",
       "    <tr>\n",
       "      <th>2</th>\n",
       "      <td> z120c5zyxqrehl1wp04ccrtjbvvohrc4mw00k</td>\n",
       "      <td> 2013-11-01 14:14:41.993000+00:00</td>\n",
       "      <td>       NaN</td>\n",
       "    </tr>\n",
       "    <tr>\n",
       "      <th>3</th>\n",
       "      <td>   z120d3vbkmijwxkyu04cednprtzkijdxl0w</td>\n",
       "      <td> 2013-10-23 16:55:09.889000+00:00</td>\n",
       "      <td> plusoners</td>\n",
       "    </tr>\n",
       "    <tr>\n",
       "      <th>4</th>\n",
       "      <td>   z120d3vbkmijwxkyu04cednprtzkijdxl0w</td>\n",
       "      <td> 2013-10-23 16:55:09.889000+00:00</td>\n",
       "      <td> plusoners</td>\n",
       "    </tr>\n",
       "    <tr>\n",
       "      <th>5</th>\n",
       "      <td>   z120dbu51kixibkdy23sjnybwmbdxxeqp04</td>\n",
       "      <td> 2015-01-07 19:18:44.438000+00:00</td>\n",
       "      <td> plusoners</td>\n",
       "    </tr>\n",
       "    <tr>\n",
       "      <th>6</th>\n",
       "      <td>   z120dbu51kixibkdy23sjnybwmbdxxeqp04</td>\n",
       "      <td> 2015-01-07 19:18:44.438000+00:00</td>\n",
       "      <td> plusoners</td>\n",
       "    </tr>\n",
       "    <tr>\n",
       "      <th>7</th>\n",
       "      <td>   z120dbu51kixibkdy23sjnybwmbdxxeqp04</td>\n",
       "      <td> 2015-01-07 19:18:44.438000+00:00</td>\n",
       "      <td> plusoners</td>\n",
       "    </tr>\n",
       "    <tr>\n",
       "      <th>8</th>\n",
       "      <td>   z120dbu51kixibkdy23sjnybwmbdxxeqp04</td>\n",
       "      <td> 2015-01-07 19:18:44.438000+00:00</td>\n",
       "      <td> plusoners</td>\n",
       "    </tr>\n",
       "    <tr>\n",
       "      <th>9</th>\n",
       "      <td>   z120dbu51kixibkdy23sjnybwmbdxxeqp04</td>\n",
       "      <td> 2015-01-07 19:18:44.438000+00:00</td>\n",
       "      <td> plusoners</td>\n",
       "    </tr>\n",
       "  </tbody>\n",
       "</table>\n",
       "</div>"
      ],
      "text/plain": [
       "                                  postId                         published  \\\n",
       "0    z120c3bw4lbovvfqg04cjf1xypvbd15gt3s  2014-09-29 11:04:08.416000+00:00   \n",
       "1    z120c5opxl32zf2nu22my3mynzrygbj5y04  2014-05-07 03:30:24.260000+00:00   \n",
       "2  z120c5zyxqrehl1wp04ccrtjbvvohrc4mw00k  2013-11-01 14:14:41.993000+00:00   \n",
       "3    z120d3vbkmijwxkyu04cednprtzkijdxl0w  2013-10-23 16:55:09.889000+00:00   \n",
       "4    z120d3vbkmijwxkyu04cednprtzkijdxl0w  2013-10-23 16:55:09.889000+00:00   \n",
       "5    z120dbu51kixibkdy23sjnybwmbdxxeqp04  2015-01-07 19:18:44.438000+00:00   \n",
       "6    z120dbu51kixibkdy23sjnybwmbdxxeqp04  2015-01-07 19:18:44.438000+00:00   \n",
       "7    z120dbu51kixibkdy23sjnybwmbdxxeqp04  2015-01-07 19:18:44.438000+00:00   \n",
       "8    z120dbu51kixibkdy23sjnybwmbdxxeqp04  2015-01-07 19:18:44.438000+00:00   \n",
       "9    z120dbu51kixibkdy23sjnybwmbdxxeqp04  2015-01-07 19:18:44.438000+00:00   \n",
       "\n",
       "        type  \n",
       "0        NaN  \n",
       "1  plusoners  \n",
       "2        NaN  \n",
       "3  plusoners  \n",
       "4  plusoners  \n",
       "5  plusoners  \n",
       "6  plusoners  \n",
       "7  plusoners  \n",
       "8  plusoners  \n",
       "9  plusoners  "
      ]
     },
     "execution_count": 41,
     "metadata": {},
     "output_type": "execute_result"
    }
   ],
   "source": [
    "df_postId = df.reset_index().set_index('postId', append=False)\n",
    "dfInteracions_postId = df_interactions.reset_index().set_index('postId', append=False)\n",
    "\n",
    "df_posts_interactions_joined = df_postId.join(dfInteracions_postId, lsuffix='_p', rsuffix='_i').reset_index()\n",
    "df_posts_interactions_joined[['postId','published', 'type']].head(10)"
   ]
  },
  {
   "cell_type": "markdown",
   "metadata": {},
   "source": [
    "With the joined frames, we group posts count by published hour and the post id."
   ]
  },
  {
   "cell_type": "code",
   "execution_count": 42,
   "metadata": {
    "collapsed": false
   },
   "outputs": [
    {
     "data": {
      "text/html": [
       "<div style=\"max-height:1000px;max-width:1500px;overflow:auto;\">\n",
       "<table border=\"1\" class=\"dataframe\">\n",
       "  <thead>\n",
       "    <tr style=\"text-align: right;\">\n",
       "      <th></th>\n",
       "      <th></th>\n",
       "      <th>count</th>\n",
       "    </tr>\n",
       "    <tr>\n",
       "      <th>publishedHour</th>\n",
       "      <th>postId</th>\n",
       "      <th></th>\n",
       "    </tr>\n",
       "  </thead>\n",
       "  <tbody>\n",
       "    <tr>\n",
       "      <th rowspan=\"10\" valign=\"top\">0</th>\n",
       "      <th>z120s5oiqkbcybptg22byjahauzgcvdyx04</th>\n",
       "      <td> 35</td>\n",
       "    </tr>\n",
       "    <tr>\n",
       "      <th>z122hnuibt2si55ub22kxropgsemjpihh04</th>\n",
       "      <td>  2</td>\n",
       "    </tr>\n",
       "    <tr>\n",
       "      <th>z122wfcwdx22znsmx23yjvriokq5gdjvq</th>\n",
       "      <td>  1</td>\n",
       "    </tr>\n",
       "    <tr>\n",
       "      <th>z122zxvzgt2wdbmco23icrpq0nbkzdv3t</th>\n",
       "      <td>  3</td>\n",
       "    </tr>\n",
       "    <tr>\n",
       "      <th>z123sboxvqebcjb5i04cetwgclnvj5t4nws0k</th>\n",
       "      <td> 18</td>\n",
       "    </tr>\n",
       "    <tr>\n",
       "      <th>z124fpapqz20vlxuf231hb1ogwr3xllsk</th>\n",
       "      <td>  2</td>\n",
       "    </tr>\n",
       "    <tr>\n",
       "      <th>z124gvaqetewxjkml222yriq5sebehgo404</th>\n",
       "      <td>  1</td>\n",
       "    </tr>\n",
       "    <tr>\n",
       "      <th>z124svz5jvb1vraqo04cgbjxfrupd1figgo</th>\n",
       "      <td> 15</td>\n",
       "    </tr>\n",
       "    <tr>\n",
       "      <th>z124w3dyrr2mxdn2q22ljpjptryph3rqr04</th>\n",
       "      <td>  9</td>\n",
       "    </tr>\n",
       "    <tr>\n",
       "      <th>z124wrwaauygwjlga04ccpmjoqrsezw4by00k</th>\n",
       "      <td>  2</td>\n",
       "    </tr>\n",
       "  </tbody>\n",
       "</table>\n",
       "</div>"
      ],
      "text/plain": [
       "                                                     count\n",
       "publishedHour postId                                      \n",
       "0             z120s5oiqkbcybptg22byjahauzgcvdyx04       35\n",
       "              z122hnuibt2si55ub22kxropgsemjpihh04        2\n",
       "              z122wfcwdx22znsmx23yjvriokq5gdjvq          1\n",
       "              z122zxvzgt2wdbmco23icrpq0nbkzdv3t          3\n",
       "              z123sboxvqebcjb5i04cetwgclnvj5t4nws0k     18\n",
       "              z124fpapqz20vlxuf231hb1ogwr3xllsk          2\n",
       "              z124gvaqetewxjkml222yriq5sebehgo404        1\n",
       "              z124svz5jvb1vraqo04cgbjxfrupd1figgo       15\n",
       "              z124w3dyrr2mxdn2q22ljpjptryph3rqr04        9\n",
       "              z124wrwaauygwjlga04ccpmjoqrsezw4by00k      2"
      ]
     },
     "execution_count": 42,
     "metadata": {},
     "output_type": "execute_result"
    }
   ],
   "source": [
    "byHour_Posts_groups = df_posts_interactions_joined.groupby(['publishedHour','postId']).postId.agg({'count': len})\n",
    "byHour_Posts_groups.head(10)"
   ]
  },
  {
   "cell_type": "markdown",
   "metadata": {},
   "source": [
    "From that grouping, we now group only by published hour, calculating the mean of interactions of posts published at that hour."
   ]
  },
  {
   "cell_type": "code",
   "execution_count": 43,
   "metadata": {
    "collapsed": false
   },
   "outputs": [
    {
     "data": {
      "text/html": [
       "<div style=\"max-height:1000px;max-width:1500px;overflow:auto;\">\n",
       "<table border=\"1\" class=\"dataframe\">\n",
       "  <thead>\n",
       "    <tr style=\"text-align: right;\">\n",
       "      <th></th>\n",
       "      <th>avg</th>\n",
       "    </tr>\n",
       "    <tr>\n",
       "      <th>publishedHour</th>\n",
       "      <th></th>\n",
       "    </tr>\n",
       "  </thead>\n",
       "  <tbody>\n",
       "    <tr>\n",
       "      <th>0</th>\n",
       "      <td> 5.966216</td>\n",
       "    </tr>\n",
       "    <tr>\n",
       "      <th>1</th>\n",
       "      <td> 6.234375</td>\n",
       "    </tr>\n",
       "    <tr>\n",
       "      <th>2</th>\n",
       "      <td> 7.990991</td>\n",
       "    </tr>\n",
       "    <tr>\n",
       "      <th>3</th>\n",
       "      <td> 6.630769</td>\n",
       "    </tr>\n",
       "    <tr>\n",
       "      <th>4</th>\n",
       "      <td> 7.425532</td>\n",
       "    </tr>\n",
       "    <tr>\n",
       "      <th>5</th>\n",
       "      <td> 8.857143</td>\n",
       "    </tr>\n",
       "    <tr>\n",
       "      <th>6</th>\n",
       "      <td> 8.125000</td>\n",
       "    </tr>\n",
       "    <tr>\n",
       "      <th>7</th>\n",
       "      <td> 9.941176</td>\n",
       "    </tr>\n",
       "    <tr>\n",
       "      <th>8</th>\n",
       "      <td> 2.307692</td>\n",
       "    </tr>\n",
       "    <tr>\n",
       "      <th>9</th>\n",
       "      <td> 7.430769</td>\n",
       "    </tr>\n",
       "  </tbody>\n",
       "</table>\n",
       "</div>"
      ],
      "text/plain": [
       "                    avg\n",
       "publishedHour          \n",
       "0              5.966216\n",
       "1              6.234375\n",
       "2              7.990991\n",
       "3              6.630769\n",
       "4              7.425532\n",
       "5              8.857143\n",
       "6              8.125000\n",
       "7              9.941176\n",
       "8              2.307692\n",
       "9              7.430769"
      ]
     },
     "execution_count": 43,
     "metadata": {},
     "output_type": "execute_result"
    }
   ],
   "source": [
    "byHour_avgint = byHour_Posts_groups.reset_index().groupby('publishedHour')['count'].agg({'avg': np.mean})\n",
    "byHour_avgint.head(10)"
   ]
  },
  {
   "cell_type": "markdown",
   "metadata": {},
   "source": [
    "Plotting that as a scatter plot, we can observe some influence of the time the post is published and the total of interactions it receives. Posts published at 10am appear to be the among the periods with largest average interactions, but the difference is not as large as expected. A possible explanation is that +1s and comments continues to occur many hours and even days after posting, minimizing the effect of post time."
   ]
  },
  {
   "cell_type": "code",
   "execution_count": 44,
   "metadata": {
    "collapsed": false
   },
   "outputs": [
    {
     "data": {
      "text/plain": [
       "<matplotlib.axes.AxesSubplot at 0x115b44f10>"
      ]
     },
     "execution_count": 44,
     "metadata": {},
     "output_type": "execute_result"
    },
    {
     "data": {
      "image/png": "[encoded data removed]",
      "text/plain": [
       "<matplotlib.figure.Figure at 0x1159aef90>"
      ]
     },
     "metadata": {},
     "output_type": "display_data"
    }
   ],
   "source": [
    "byHour_avgint.reset_index().plot(kind='scatter', x='publishedHour', y='avg', title='# interactions by post published hour')"
   ]
  },
  {
   "cell_type": "markdown",
   "metadata": {},
   "source": [
    "*Question 7* - **What communities are more engaging**?"
   ]
  },
  {
   "cell_type": "markdown",
   "metadata": {},
   "source": [
    "To answer that, we will again use our joined dataset. Analogously, we first group by posts to get interactions count, and after by community, averaging interactions by posts.\n",
    "We can see in the bar chart that the two more engaging communites are related to posts of awards, promotions and recognitions of company professionals, usually very liked and commented by colleages."
   ]
  },
  {
   "cell_type": "code",
   "execution_count": 45,
   "metadata": {
    "collapsed": false
   },
   "outputs": [
    {
     "data": {
      "text/plain": [
       "<matplotlib.axes.AxesSubplot at 0x116b20850>"
      ]
     },
     "execution_count": 45,
     "metadata": {},
     "output_type": "execute_result"
    },
    {
     "data": {
      "image/png": "[encoded data removed]",
      "text/plain": [
       "<matplotlib.figure.Figure at 0x1159bad10>"
      ]
     },
     "metadata": {},
     "output_type": "display_data"
    }
   ],
   "source": [
    "byCommunityPosts_int_groups = df_posts_interactions_joined.groupby(['community','postId']).postId.agg({'count': len})\n",
    "byCommunity_avgint = byCommunityPosts_int_groups.reset_index().groupby('community')['count'].agg({'avg': np.mean})\n",
    "byCommunity_avgint = byCommunity_avgint.sort('avg', ascending=False)\n",
    "byCommunity_avgint.plot(kind='bar', title='Avg Interactions on Posts by Community')"
   ]
  },
  {
   "cell_type": "markdown",
   "metadata": {
    "collapsed": false
   },
   "source": [
    "#Modeling"
   ]
  },
  {
   "cell_type": "markdown",
   "metadata": {},
   "source": [
    "No, let's switch gears from exploratory analysis to a useful model for our data.\n",
    "Imagine you want to know what the most relevant terms in the corporative posts - what people are talking about.\n",
    "\n",
    "The first step is to remove meaninless \"stop\" words like some pronouns, prepositions, conjunctions and some verbs. We read those words from text files."
   ]
  },
  {
   "cell_type": "code",
   "execution_count": 9,
   "metadata": {
    "collapsed": false
   },
   "outputs": [
    {
     "data": {
      "text/plain": [
       "[u'a',\n",
       " u'about',\n",
       " u'above',\n",
       " u'according',\n",
       " u'across',\n",
       " u'actually',\n",
       " u'after',\n",
       " u'again',\n",
       " u'against',\n",
       " u'all']"
      ]
     },
     "execution_count": 9,
     "metadata": {},
     "output_type": "execute_result"
    }
   ],
   "source": [
    "import codecs\n",
    "def load_from_file(filename, encoding=None):\n",
    "    result = []\n",
    "    line_count = 0\n",
    "    try:\n",
    "        with codecs.open(filename, 'r', encoding) as f:   \n",
    "            for line in f.readlines():\n",
    "                line_count += 1\n",
    "                result.append(line.strip())\n",
    "    except:\n",
    "        print \"Error on file\",filename,\" - line\",line_count\n",
    "        raise\n",
    "    return result\n",
    "\n",
    "stop_words = []\n",
    "for stop_file in ['stopwords/english_stop_words.txt','stopwords/portuguese_stop_words.txt','stopwords/custom_stop_words.txt']:\n",
    "    stop_words += load_from_file(stop_file, 'utf-8') \n",
    "stop_words[:10]"
   ]
  },
  {
   "cell_type": "markdown",
   "metadata": {},
   "source": [
    "Let's take another look on our posts content, remembering we already cleaned HTML markup and urls"
   ]
  },
  {
   "cell_type": "code",
   "execution_count": 121,
   "metadata": {
    "collapsed": false
   },
   "outputs": [
    {
     "name": "stdout",
     "output_type": "stream",
     "text": [
      "[u\"Ol\\xe1, Algum projeto tem impressora zebra para testes? []'s\\ufeff\",\n",
      " u'M\\xe1quina de Caf\\xe9 sem caf\\xe9! Galera, bom dia!\\xa0 J\\xe1 abri um Jira para o time de SS informando que a m\\xe1quina est\\xe1 sem caf\\xe9. Abra\\xe7os.\\ufeff',\n",
      " u'Did you ever wonder how great it would be if you could write your  jmeter tests in ruby ? This projects aims to do so. If you use it on your project just let me now.   --------------- On the Architecture Academy you can read how jmeter can be used to validate your Architecure. modulo 13   arch definition   architecture validation | academia de arquitetura \\ufeff']\n"
     ]
    }
   ],
   "source": [
    "map(lambda c: c['content'], posts.values())[:3]"
   ]
  },
  {
   "cell_type": "markdown",
   "metadata": {},
   "source": [
    "We'll use a technique from Information Retrieval call TF-IDF. It identifies the most \"important\" terms in a text considering its relative frequency in the text, and the frequency where this terms occur on other texts.  \n",
    "<img src=\"http://gabrielspmoreira.github.io/static_resources/python4datascience_nb/TF-IDF.png\" width=\"500\" />\n",
    "Scikit-learn contains an implementation of this feature extraction, so let's use it!"
   ]
  },
  {
   "cell_type": "code",
   "execution_count": 33,
   "metadata": {
    "collapsed": false
   },
   "outputs": [
    {
     "name": "stdout",
     "output_type": "stream",
     "text": [
      "Computing profiles for 8385 posts\n",
      "Returning calculated sparce matrix values and feature names\n"
     ]
    },
    {
     "data": {
      "text/plain": [
       "[u'youtube',\n",
       " u'yuri',\n",
       " u'zamariola',\n",
       " u'zanchetta',\n",
       " u'zara',\n",
       " u'zend',\n",
       " u'zeno',\n",
       " u'zero',\n",
       " u'zhang',\n",
       " u'zone']"
      ]
     },
     "execution_count": 33,
     "metadata": {},
     "output_type": "execute_result"
    }
   ],
   "source": [
    "import numpy as np\n",
    "from sklearn.feature_extraction.text import TfidfVectorizer\n",
    "\n",
    "def compute_post_content_profiles():        \n",
    "    posts_content = map(lambda c: c['content'], posts.values())\n",
    "    print \"Computing profiles for\",len(posts_content),\"posts\"\n",
    "    vectorizer = TfidfVectorizer(input=posts_content, max_features=10000, stop_words=stop_words, \n",
    "                           max_df=1.0, ngram_range=(1, 2), token_pattern=r\"(?u)[\\b\\#a-zA-Z][\\w&-_]+\\b\")\n",
    "\n",
    "    tfidf_sparce_matrix = vectorizer.fit_transform(posts_content)   \n",
    "\n",
    "    print \"Returning calculated sparce matrix values and feature names\"\n",
    "    return tfidf_sparce_matrix, vectorizer.get_feature_names()\n",
    "    \n",
    "tfidf_sparce_matrix, tfidf_feature_names = compute_post_content_profiles()\n",
    "tfidf_feature_names[-10:]"
   ]
  },
  {
   "cell_type": "markdown",
   "metadata": {},
   "source": [
    "Here we have returned a sparce vector for each post content (8385), with the TF-IDF for 10,000 terms"
   ]
  },
  {
   "cell_type": "code",
   "execution_count": 39,
   "metadata": {
    "collapsed": false
   },
   "outputs": [
    {
     "data": {
      "text/plain": [
       "<8385x10000 sparse matrix of type '<type 'numpy.float64'>'\n",
       "\twith 203912 stored elements in Compressed Sparse Row format>"
      ]
     },
     "execution_count": 39,
     "metadata": {},
     "output_type": "execute_result"
    }
   ],
   "source": [
    "tfidf_sparce_matrix"
   ]
  },
  {
   "cell_type": "markdown",
   "metadata": {},
   "source": [
    "To validate the results, let's take a look in the content of one post."
   ]
  },
  {
   "cell_type": "code",
   "execution_count": 122,
   "metadata": {
    "collapsed": false
   },
   "outputs": [
    {
     "data": {
      "text/plain": [
       "u'Did you ever wonder how great it would be if you could write your  jmeter tests in ruby ? This projects aims to do so. If you use it on your project just let me now.   --------------- On the Architecture Academy you can read how jmeter can be used to validate your Architecure. modulo 13   arch definition   architecture validation | academia de arquitetura \\ufeff'"
      ]
     },
     "execution_count": 122,
     "metadata": {},
     "output_type": "execute_result"
    }
   ],
   "source": [
    "posts['z121itaiezmtzbp5j04cg5owalnmwjqab20']['content']"
   ]
  },
  {
   "cell_type": "markdown",
   "metadata": {},
   "source": [
    "We can extract, the TF-IDF vector for the post"
   ]
  },
  {
   "cell_type": "code",
   "execution_count": 49,
   "metadata": {
    "collapsed": false
   },
   "outputs": [
    {
     "data": {
      "text/plain": [
       "<1x10000 sparse matrix of type '<type 'numpy.float64'>'\n",
       "\twith 18 stored elements in Compressed Sparse Row format>"
      ]
     },
     "execution_count": 49,
     "metadata": {},
     "output_type": "execute_result"
    }
   ],
   "source": [
    "def get_post_profile_values(post_id):\n",
    "    post_idx = posts.keys().index(post_id)\n",
    "    profile_values = tfidf_sparce_matrix[post_idx:post_idx+1]\n",
    "    return profile_values\n",
    "post_profile = get_post_profile_values('z121itaiezmtzbp5j04cg5owalnmwjqab20')\n",
    "post_profile"
   ]
  },
  {
   "cell_type": "markdown",
   "metadata": {},
   "source": [
    "And converting the sparce vector to a dense one, we can see we are really saving memory here, as most of the values are zeroes."
   ]
  },
  {
   "cell_type": "code",
   "execution_count": 50,
   "metadata": {
    "collapsed": false
   },
   "outputs": [
    {
     "data": {
      "text/plain": [
       "matrix([[ 0.,  0.,  0., ...,  0.,  0.,  0.]])"
      ]
     },
     "execution_count": 50,
     "metadata": {},
     "output_type": "execute_result"
    }
   ],
   "source": [
    "post_profile.todense()"
   ]
  },
  {
   "cell_type": "markdown",
   "metadata": {},
   "source": [
    "It's possible to retrieve the most \"important\" words for a post"
   ]
  },
  {
   "cell_type": "code",
   "execution_count": 116,
   "metadata": {
    "collapsed": false
   },
   "outputs": [
    {
     "data": {
      "text/plain": [
       "[(u'jmeter', 0.4666724240839286),\n",
       " (u'architecture', 0.38058070866559457),\n",
       " (u'validate', 0.24306678628555473),\n",
       " (u'validation', 0.24306678628555473),\n",
       " (u'definition', 0.23946784408109584),\n",
       " (u'write', 0.2259673384214501),\n",
       " (u'academia arquitetura', 0.21828825206160904),\n",
       " (u'academy', 0.21663619068092696),\n",
       " (u'ruby', 0.21357807130947726),\n",
       " (u'tests', 0.2094979271540951),\n",
       " (u'did', 0.18646590784006095),\n",
       " (u'academia', 0.18150002942528334),\n",
       " (u'read', 0.1804981136860875),\n",
       " (u'used', 0.17678984867315153),\n",
       " (u'projects', 0.17309405791732885),\n",
       " (u'arquitetura', 0.15309741462246657),\n",
       " (u'now', 0.14861784396401714),\n",
       " (u'project', 0.14030872100742647)]"
      ]
     },
     "execution_count": 116,
     "metadata": {},
     "output_type": "execute_result"
    }
   ],
   "source": [
    "def get_post_profile_sorted_features(post_id):\n",
    "    profile_values = get_post_profile_values(post_id)\n",
    "    tfidf_values = profile_values.todense().flatten().tolist()[0]\n",
    "    tfidf_feature_values = zip(tfidf_feature_names, tfidf_values)\n",
    "    sorted_tfidf_feature_values = sorted(tfidf_feature_values, key=lambda c: c[1], reverse=True)\n",
    "    return filter(lambda p: p[1] > 0, sorted_tfidf_feature_values)\n",
    "post_features = get_post_profile_sorted_features('z121itaiezmtzbp5j04cg5owalnmwjqab20')\n",
    "post_features"
   ]
  },
  {
   "cell_type": "markdown",
   "metadata": {},
   "source": [
    "And seing that a word cloud is not bad, hah!  \n",
    "<a href=\"https://github.com/amueller/word_cloud\">A nice WordCloud module for Python</a>"
   ]
  },
  {
   "cell_type": "code",
   "execution_count": 118,
   "metadata": {
    "collapsed": false
   },
   "outputs": [
    {
     "data": {
      "text/plain": [
       "<module 'matplotlib.pyplot' from '/usr/lib/pymodules/python2.7/matplotlib/pyplot.pyc'>"
      ]
     },
     "execution_count": 118,
     "metadata": {},
     "output_type": "execute_result"
    },
    {
     "data": {
      "image/png": "[encoded data removed]",
      "text/plain": [
       "<matplotlib.figure.Figure at 0x7f18451c90d0>"
      ]
     },
     "metadata": {},
     "output_type": "display_data"
    }
   ],
   "source": [
    "import matplotlib.pyplot as plt\n",
    "from wordcloud import WordCloud\n",
    "from os import path\n",
    "from scipy.misc import imread\n",
    "%matplotlib inline\n",
    "\n",
    "wordcloud = WordCloud(width=500, height=500).generate_from_frequencies(post_features)\n",
    "plt.figure(figsize = (6,6))\n",
    "plt.imshow(wordcloud)\n",
    "plt.axis(\"off\")\n",
    "plt"
   ]
  },
  {
   "cell_type": "markdown",
   "metadata": {},
   "source": [
    "What if we wanna select other posts with related subjects?  \n",
    "As we have the feature vectors for all posts, we can usine cosine similarity to retrieve the most similar posts!\n",
    "<img src=\"http://gabrielspmoreira.github.io/static_resources/python4datascience_nb/Vector_space_model.jpg\"/ width=\"350\">"
   ]
  },
  {
   "cell_type": "code",
   "execution_count": 124,
   "metadata": {
    "collapsed": false
   },
   "outputs": [
    {
     "data": {
      "text/plain": [
       "array([ 0.,  0.,  1.,  0.,  0.,  0.,  0.,  0.,  0.,  0.])"
      ]
     },
     "execution_count": 124,
     "metadata": {},
     "output_type": "execute_result"
    }
   ],
   "source": [
    "from sklearn.metrics.pairwise import cosine_similarity\n",
    "\n",
    "def compute_similarity_with_all_profiles(post_profile_to_compare):\n",
    "    return cosine_similarity(post_profile_to_compare, tfidf_sparce_matrix).flatten()\n",
    "post_profile = get_post_profile_values('z121itaiezmtzbp5j04cg5owalnmwjqab20')\n",
    "similarities = compute_similarity_with_all_profiles(post_profile)\n",
    "similarities[:10]"
   ]
  },
  {
   "cell_type": "markdown",
   "metadata": {},
   "source": [
    "Now we sort the posts by the similarity with our post"
   ]
  },
  {
   "cell_type": "code",
   "execution_count": 78,
   "metadata": {
    "collapsed": false
   },
   "outputs": [
    {
     "data": {
      "text/plain": [
       "[(u'z13dtnjpgsrev1byv04cilm52xixdznzfis', 0.30418960034143339),\n",
       " (u'z13zxtn4mz3th1cxo04chhqaqp3ndxy43o40k', 0.30148446183361999),\n",
       " (u'z12bsdromyyxvlfwq04cjtzixum2spl5zis', 0.28589980031411566),\n",
       " (u'z12bvviylva5cdoko233wtbahmn3sxhdv', 0.2589013967439493),\n",
       " (u'z12lhnlgcubtjxsid04cizdxikyqwp2p5ek', 0.22485325812740381),\n",
       " (u'z132sx0ykmiovdpww04cefsifujyztkxwrs0k', 0.21668122589883021),\n",
       " (u'z125ehjwdmifcjmmg23khjyznsq1frhqp04', 0.21454409900860802),\n",
       " (u'z12hezoi1rergxxwy04cjfuovpmozj2yqrw0k', 0.21447630260653774),\n",
       " (u'z12qjzxwiliaefmrp04cjfuovpmozj2yqrw0k', 0.21447630260653774),\n",
       " (u'z13bi1wrxqjxjp3v523pzx3zdpzozvdmj', 0.19902702425041319)]"
      ]
     },
     "execution_count": 78,
     "metadata": {},
     "output_type": "execute_result"
    }
   ],
   "source": [
    "def get_most_similar_profiles(limit=10, min_similarity=0.0, max_similarity=1.0):\n",
    "    similar_profiles_sorted_idxs = similarities.argsort()   \n",
    "\n",
    "    similar_profiles = map(lambda idx: (posts.keys()[idx], similarities[idx]), similar_profiles_sorted_idxs)\n",
    "    similar_profiles_filtered = filter(lambda c: c[1] > 0 and c[1] >= min_similarity and c[1] <= max_similarity, similar_profiles)\n",
    "    most_similar_profiles = similar_profiles_filtered[:-(limit+1):-1]\n",
    "    return most_similar_profiles\n",
    "get_most_similar_profiles(10)"
   ]
  },
  {
   "cell_type": "markdown",
   "metadata": {},
   "source": [
    "Let's take a look in one of the \"similar\" posts. We can see that its also talking jmeter, performance tests and architecture!"
   ]
  },
  {
   "cell_type": "code",
   "execution_count": 114,
   "metadata": {
    "collapsed": false
   },
   "outputs": [
    {
     "data": {
      "text/plain": [
       "[(u'enterprise architecture', 0.587317262320221),\n",
       " (u'architecture', 0.4522039167279558),\n",
       " (u'enterprise', 0.43763277341513884),\n",
       " (u'jmeter', 0.2772488110860989),\n",
       " (u'performance', 0.24318719121845023),\n",
       " (u'monitoramento', 0.17291260488751897),\n",
       " (u'dados', 0.10772802690708962),\n",
       " (u'disponibilizados', 0.09356971754399507),\n",
       " (u'testes performance', 0.09356971754399507),\n",
       " (u'identify', 0.0903945758947097),\n",
       " (u'c\\xe1lculo', 0.08348982174847344),\n",
       " (u'planning', 0.08200608409096674),\n",
       " (u'testing', 0.08110922677921757),\n",
       " (u'definir', 0.0802742725974557),\n",
       " (u'relacionados', 0.07875954379490582),\n",
       " (u'knowledge', 0.07709913094817035),\n",
       " (u'requisitos', 0.07484106108512129),\n",
       " (u'gera\\xe7\\xe3o', 0.07272073497547461),\n",
       " (u'testes', 0.05578274630334446),\n",
       " (u'base', 0.05466327317564993)]"
      ]
     },
     "execution_count": 114,
     "metadata": {},
     "output_type": "execute_result"
    }
   ],
   "source": [
    "get_post_profile_sorted_features('z13zxtn4mz3th1cxo04chhqaqp3ndxy43o40k')"
   ]
  },
  {
   "cell_type": "markdown",
   "metadata": {},
   "source": [
    "Here is the \"similar\" post content."
   ]
  },
  {
   "cell_type": "code",
   "execution_count": 82,
   "metadata": {
    "collapsed": false
   },
   "outputs": [
    {
     "data": {
      "text/plain": [
       "u'Foram disponibilizados no site Enterprise Architecture, na parte de Knowledge Base de performance, alguns how-tos relacionados a testes de performance.\\xa0 Entre eles, como definir os requisitos (throughput, c\\xe1lculo de threads para o JMeter etc.), utiliza\\xe7\\xe3o do JMeter, gera\\xe7\\xe3o de massa de dados e monitoramento.\\xa0 planning and executing performance testing | enterprise architecture -\\xa0 how to identify performance acceptance criteria | enterprise architecture -  how to geracao de massa de dados | enterprise architecture -  how to jmeter | enterprise architecture -\\xa0 how to monitoramento | enterprise architecture \\ufeff'"
      ]
     },
     "execution_count": 82,
     "metadata": {},
     "output_type": "execute_result"
    }
   ],
   "source": [
    "posts['z13zxtn4mz3th1cxo04chhqaqp3ndxy43o40k']['content']"
   ]
  },
  {
   "cell_type": "markdown",
   "metadata": {},
   "source": [
    "Finally, we average TF-IDF vectors of all posts, and get the most \"important\" terms for the company professionals."
   ]
  },
  {
   "cell_type": "code",
   "execution_count": 104,
   "metadata": {
    "collapsed": false
   },
   "outputs": [
    {
     "data": {
      "text/plain": [
       "[(u'ci&t', 0.01739924394369664),\n",
       " (u'google', 0.00993872911151446),\n",
       " (u'projeto', 0.009860513250953107),\n",
       " (u'bom', 0.006498254004298753),\n",
       " (u'pessoas', 0.005922226997351107),\n",
       " (u'interessante', 0.005731161996868316),\n",
       " (u'evento', 0.005482909064020096),\n",
       " (u'cliente', 0.005027517753919844),\n",
       " (u'testes', 0.005026570272116146),\n",
       " (u'projetos', 0.005021964519510181),\n",
       " (u'comunidade', 0.004885040303299229),\n",
       " (u'problema', 0.004812792790679599),\n",
       " (u'java', 0.0047793334110807625),\n",
       " (u'team', 0.004552667443878979),\n",
       " (u'dados', 0.004403492395104081),\n",
       " (u'tempo', 0.004339632755299001),\n",
       " (u'drupal', 0.0043062013550457775),\n",
       " (u'dojo', 0.004293586789672697),\n",
       " (u'software', 0.004084303150741229),\n",
       " (u'desenvolvimento', 0.004037619922553587)]"
      ]
     },
     "execution_count": 104,
     "metadata": {},
     "output_type": "execute_result"
    }
   ],
   "source": [
    "def get_global_relevant_words():\n",
    "    tfidf_global_feature_values = tfidf_sparce_matrix.mean(axis=0).flatten().tolist()[0]\n",
    "    feature_values = zip(tfidf_feature_names, tfidf_global_feature_values)\n",
    "    sorted_feature_values = sorted(feature_values, key=lambda c: c[1], reverse=True)\n",
    "    return sorted_feature_values\n",
    "global_relevant_words = get_global_relevant_words()[:200]\n",
    "global_relevant_words[:20]"
   ]
  },
  {
   "cell_type": "markdown",
   "metadata": {},
   "source": [
    "And see them in a word cloud with as Storm Trooper mask!"
   ]
  },
  {
   "cell_type": "code",
   "execution_count": 109,
   "metadata": {
    "collapsed": false
   },
   "outputs": [
    {
     "data": {
      "text/plain": [
       "<module 'matplotlib.pyplot' from '/usr/lib/pymodules/python2.7/matplotlib/pyplot.pyc'>"
      ]
     },
     "execution_count": 109,
     "metadata": {},
     "output_type": "execute_result"
    },
    {
     "data": {
      "image/png": "[encoded data removed]",
      "text/plain": [
       "<matplotlib.figure.Figure at 0x7f185da67c90>"
      ]
     },
     "metadata": {},
     "output_type": "display_data"
    }
   ],
   "source": [
    "import matplotlib.pyplot as plt\n",
    "from wordcloud import WordCloud\n",
    "from os import path\n",
    "from scipy.misc import imread\n",
    "%matplotlib inline\n",
    "\n",
    "mask = imread(\"stormtrooper_mask.png\")\n",
    "wordcloud = WordCloud(width=800, height=800, mask=mask).generate_from_frequencies(global_relevant_words)\n",
    "plt.figure(figsize = (10,10))\n",
    "plt.imshow(wordcloud)\n",
    "plt.axis(\"off\")\n",
    "plt"
   ]
  },
  {
   "cell_type": "markdown",
   "metadata": {},
   "source": [
    "#Interpreting\n",
    "\n",
    "Here are conducted important activities, like:  \n",
    "\n",
    "<ul>\n",
    "    <li>Drawing conclusions from the data</li>\n",
    "    <li>Evaluating what your results mean</li>\n",
    "    <li>Communicating your result</li>\n",
    "</ul>\n",
    "\n",
    "We did some of this during the explanation, so we let this for your inferences.  \n",
    "\n",
    "Data products are a very nice way to allow your users to browse the data and get their own conclusions.\n",
    "Python's <a href=\"http://bokeh.pydata.org/en/latest/\">Bokeh</a> project is really nice for building interactive data produts. You can also export your results to JSON and present them in the great <a href=\"http://d3js.org/\">D3.js</a>\n",
    "\n",
    "Take a look at this data product example I build with Tableau, with a <a href=\"https://public.tableau.com/profile/gabriel.moreira#!/vizhome/Eleicoes2014_VisualizacaoDebateSBT/DashboardDebateSBT-01092014\">dashboard of sentiment analysis of the Twitter posts during a presidential debate in TV</a>.\n",
    "\n",
    "The slides of this presentation are available <a href=\"http://www.slideshare.net/gabrielspmoreira/python-for-data-science-48355555\">here</a>. "
   ]
  },
  {
   "cell_type": "code",
   "execution_count": null,
   "metadata": {
    "collapsed": true
   },
   "outputs": [],
   "source": []
  }
 ],
 "metadata": {
  "kernelspec": {
   "display_name": "Python 2",
   "language": "python",
   "name": "python2"
  },
  "language_info": {
   "codemirror_mode": {
    "name": "ipython",
    "version": 2
   },
   "file_extension": ".py",
   "mimetype": "text/x-python",
   "name": "python",
   "nbconvert_exporter": "python",
   "pygments_lexer": "ipython2",
   "version": "2.7.8"
  }
 },
 "nbformat": 4,
 "nbformat_minor": 0
}
