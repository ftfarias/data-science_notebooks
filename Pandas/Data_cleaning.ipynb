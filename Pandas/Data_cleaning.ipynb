{
 "cells": [
  {
   "cell_type": "code",
   "execution_count": 2,
   "metadata": {
    "collapsed": false
   },
   "outputs": [
    {
     "name": "stdout",
     "output_type": "stream",
     "text": [
      "81234523443\n"
     ]
    }
   ],
   "source": [
    "import re\n",
    "\n",
    "only_digits = re.compile(\"[0-9]+\")\n",
    "\n",
    "def clear_only_digits(x):\n",
    "    return ''.join(only_digits.findall(x))\n",
    "\n",
    "print (clear_only_digits('81-sdf-2345-gdfg234-43h-h'))"
   ]
  },
  {
   "cell_type": "markdown",
   "metadata": {},
   "source": [
    "# parse_value"
   ]
  },
  {
   "cell_type": "code",
   "execution_count": null,
   "metadata": {
    "collapsed": true
   },
   "outputs": [],
   "source": [
    "re_number = re.compile(\"[0-9,.]+\")\n",
    "re_dotcomma = re.compile(\"[,.]+\")\n",
    "\n",
    "def parse_value(v):\n",
    "    try:\n",
    "        # Cliente digitou R4 no lugar de R$\n",
    "        v = v.replace(u'R4 ',u'')\n",
    "        \n",
    "        v = re_number.findall(v)\n",
    "        if not v:\n",
    "            return None\n",
    "\n",
    "        v = v[0]\n",
    "        \n",
    "        if (v.endswith(u',00') or v.endswith(u'.00') or v.endswith(u';00')):\n",
    "            v = v[:-3]\n",
    "    \n",
    "        # re_dotcomma.split(\"1.121.990,00\")\n",
    "        # ['1', '121', '990', '00']\n",
    "        valores = re_dotcomma.split(v)\n",
    "\n",
    "        # re_dotcomma.findall(\"1.121.990,00\")\n",
    "        # ['.', '.', ',']\n",
    "        sinais = re_dotcomma.findall(v)\n",
    "\n",
    "        # print(valores)\n",
    "        # print(sinais)\n",
    "\n",
    "        # ex: 1234\n",
    "        if len(valores) == 1:\n",
    "            return float(valores[0])\n",
    "\n",
    "        # Ex:\n",
    "        # 12.3 -> decimal\n",
    "        # 12.33 _ decimal\n",
    "        # 1.000 -> ambiguo: Pode ser um ou mil. Assumindo mil\n",
    "        # 1.0000 -> decimal\n",
    "        # 123.000 -> ambiguo, assumindo 123 mil\n",
    "        # 1234.000 -> 1234 mil\n",
    "        if len(valores) == 2:\n",
    "            l1 = len(valores[0])\n",
    "            l2 = len(valores[1])\n",
    "            if l1 >= 4:\n",
    "                # assume que o simbolo é decimal porque temos mais de 4 numeros juntos\n",
    "                return float(\".\".join(valores))\n",
    "\n",
    "            if l2 == 3: \n",
    "                # assume milhar\n",
    "                return float(\"\".join(valores))\n",
    "\n",
    "            return float(\".\".join(valores))\n",
    "\n",
    "        # len(valores) > 2\n",
    "\n",
    "        count_vigulas = 0\n",
    "        count_pontos = 0\n",
    "        for s in sinais:\n",
    "            if s == ',':\n",
    "                count_vigulas += 1\n",
    "            else:\n",
    "                count_pontos += 1\n",
    "\n",
    "        if count_vigulas > 1 and count_pontos > 1:\n",
    "            #nao sei... \n",
    "            return None\n",
    "\n",
    "        sep_decimal = None\n",
    "        sep_milhar = None\n",
    "\n",
    "        if count_vigulas == 0:\n",
    "            # Ex: 123.345.678\n",
    "            sep_milhar = '.'\n",
    "\n",
    "        elif count_pontos == 0:    \n",
    "            # Ex: 123,345,678    \n",
    "            sep_milhar = ','\n",
    "\n",
    "        else:    \n",
    "            # Ex: 123.123,12\n",
    "            sep_decimal = sinais[-1]\n",
    "            sep_milhar = sinais[-2]\n",
    "\n",
    "        if sep_milhar:\n",
    "            v = v.replace(sep_milhar, '')\n",
    "\n",
    "        if sep_decimal:\n",
    "            v = v.replace(sep_decimal, '.')\n",
    "        \n",
    "        return float(v)\n",
    "    except:\n",
    "        return None\n"
   ]
  }
 ],
 "metadata": {
  "kernelspec": {
   "display_name": "Python 2",
   "language": "python",
   "name": "python2"
  },
  "language_info": {
   "codemirror_mode": {
    "name": "ipython",
    "version": 2
   },
   "file_extension": ".py",
   "mimetype": "text/x-python",
   "name": "python",
   "nbconvert_exporter": "python",
   "pygments_lexer": "ipython2",
   "version": "2.7.11"
  }
 },
 "nbformat": 4,
 "nbformat_minor": 0
}
