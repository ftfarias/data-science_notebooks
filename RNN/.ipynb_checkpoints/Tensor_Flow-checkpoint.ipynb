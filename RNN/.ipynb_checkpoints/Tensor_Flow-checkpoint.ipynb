{
 "cells": [
  {
   "cell_type": "code",
   "execution_count": 13,
   "metadata": {
    "collapsed": false
   },
   "outputs": [],
   "source": [
    "# from __future__ import absolute_import\n",
    "# from __future__ import division\n",
    "# from __future__ import print_function\n",
    "\n",
    "import collections\n",
    "import os\n",
    "\n",
    "import time\n",
    "\n",
    "\n",
    "import numpy as np\n",
    "import tensorflow as tf\n",
    "from unicodedata import normalize\n"
   ]
  },
  {
   "cell_type": "code",
   "execution_count": 2,
   "metadata": {
    "collapsed": true
   },
   "outputs": [],
   "source": [
    "# \"\"\"Utilities for parsing PTB text files.\"\"\"\n",
    "\n",
    "# def _read_words(filename):\n",
    "#   with tf.gfile.GFile(filename, \"r\") as f:\n",
    "#     return f.read().replace(\"\\n\", \"<eos>\").split()\n",
    "\n",
    "\n",
    "# def _build_vocab(filename):\n",
    "#   data = _read_words(filename)\n",
    "\n",
    "#   counter = collections.Counter(data)\n",
    "#   count_pairs = sorted(counter.items(), key=lambda x: (-x[1], x[0]))\n",
    "\n",
    "#   words, _ = list(zip(*count_pairs))\n",
    "#   word_to_id = dict(zip(words, range(len(words))))\n",
    "\n",
    "#   return word_to_id\n",
    "\n",
    "\n",
    "# def _file_to_word_ids(filename, word_to_id):\n",
    "#   data = _read_words(filename)\n",
    "#   return [word_to_id[word] for word in data]\n",
    "\n",
    "\n",
    "# def ptb_raw_data(data_path=None):\n",
    "#   \"\"\"Load PTB raw data from data directory \"data_path\".\n",
    "\n",
    "#   Reads PTB text files, converts strings to integer ids,\n",
    "#   and performs mini-batching of the inputs.\n",
    "\n",
    "#   The PTB dataset comes from Tomas Mikolov's webpage:\n",
    "\n",
    "#   http://www.fit.vutbr.cz/~imikolov/rnnlm/simple-examples.tgz\n",
    "\n",
    "#   Args:\n",
    "#     data_path: string path to the directory where simple-examples.tgz has\n",
    "#       been extracted.\n",
    "\n",
    "#   Returns:\n",
    "#     tuple (train_data, valid_data, test_data, vocabulary)\n",
    "#     where each of the data objects can be passed to PTBIterator.\n",
    "#   \"\"\"\n",
    "\n",
    "#   train_path = os.path.join(data_path, \"ptb.train.txt\")\n",
    "#   valid_path = os.path.join(data_path, \"ptb.valid.txt\")\n",
    "#   test_path = os.path.join(data_path, \"ptb.test.txt\")\n",
    "\n",
    "#   word_to_id = _build_vocab(train_path)\n",
    "#   train_data = _file_to_word_ids(train_path, word_to_id)\n",
    "#   valid_data = _file_to_word_ids(valid_path, word_to_id)\n",
    "#   test_data = _file_to_word_ids(test_path, word_to_id)\n",
    "#   vocabulary = len(word_to_id)\n",
    "#   return train_data, valid_data, test_data, vocabulary\n",
    "\n",
    "\n",
    "# def ptb_iterator(raw_data, batch_size, num_steps):\n",
    "#   \"\"\"Iterate on the raw PTB data.\n",
    "\n",
    "#   This generates batch_size pointers into the raw PTB data, and allows\n",
    "#   minibatch iteration along these pointers.\n",
    "\n",
    "#   Args:\n",
    "#     raw_data: one of the raw data outputs from ptb_raw_data.\n",
    "#     batch_size: int, the batch size.\n",
    "#     num_steps: int, the number of unrolls.\n",
    "\n",
    "#   Yields:\n",
    "#     Pairs of the batched data, each a matrix of shape [batch_size, num_steps].\n",
    "#     The second element of the tuple is the same data time-shifted to the\n",
    "#     right by one.\n",
    "\n",
    "#   Raises:\n",
    "#     ValueError: if batch_size or num_steps are too high.\n",
    "#   \"\"\"\n",
    "#   raw_data = np.array(raw_data, dtype=np.int32)\n",
    "\n",
    "#   data_len = len(raw_data)\n",
    "#   batch_len = data_len // batch_size\n",
    "#   data = np.zeros([batch_size, batch_len], dtype=np.int32)\n",
    "#   for i in range(batch_size):\n",
    "#     data[i] = raw_data[batch_len * i:batch_len * (i + 1)]\n",
    "\n",
    "#   epoch_size = (batch_len - 1) // num_steps\n",
    "\n",
    "#   if epoch_size == 0:\n",
    "#     raise ValueError(\"epoch_size == 0, decrease batch_size or num_steps\")\n",
    "\n",
    "#   for i in range(epoch_size):\n",
    "#     x = data[:, i*num_steps:(i+1)*num_steps]\n",
    "#     y = data[:, i*num_steps+1:(i+1)*num_steps+1]\n",
    "#     yield (x, y)\n"
   ]
  },
  {
   "cell_type": "code",
   "execution_count": null,
   "metadata": {
    "collapsed": true
   },
   "outputs": [],
   "source": []
  },
  {
   "cell_type": "code",
   "execution_count": 6,
   "metadata": {
    "collapsed": true
   },
   "outputs": [],
   "source": [
    "def data_type():\n",
    "    return tf.float16 \n",
    "\n",
    "init_scale = 0.1\n",
    "learning_rate = 1.0\n",
    "max_grad_norm = 1\n",
    "num_layers = 1\n",
    "num_steps = 2\n",
    "hidden_size = 2\n",
    "max_epoch = 1\n",
    "max_max_epoch = 1\n",
    "keep_prob = 1.0\n",
    "lr_decay = 0.5\n",
    "batch_size = 20\n",
    "vocab_size = 10000"
   ]
  },
  {
   "cell_type": "code",
   "execution_count": 30,
   "metadata": {
    "collapsed": false
   },
   "outputs": [],
   "source": [
    "# loads / create the data to be learned\n",
    "data = 'Felipe Farias|'*100\n",
    "data = data.lower()\n",
    "# remove accents\n",
    "# data = normalize('NFKD', data).encode('ASCII','ignore')\n",
    "data = np.array(list(data))"
   ]
  },
  {
   "cell_type": "code",
   "execution_count": 31,
   "metadata": {
    "collapsed": false
   },
   "outputs": [
    {
     "data": {
      "text/plain": [
       "array(['f', 'e', 'l', ..., 'a', 's', '|'], \n",
       "      dtype='<U1')"
      ]
     },
     "execution_count": 31,
     "metadata": {},
     "output_type": "execute_result"
    }
   ],
   "source": [
    "data"
   ]
  },
  {
   "cell_type": "code",
   "execution_count": 32,
   "metadata": {
    "collapsed": false
   },
   "outputs": [
    {
     "name": "stdout",
     "output_type": "stream",
     "text": [
      "data has 1,400 characters, 10 unique.\n",
      "a (97) -> 0\n",
      "i (105) -> 1\n",
      "e (101) -> 5\n",
      "r (114) -> 6\n",
      "s (115) -> 3\n",
      "| (124) -> 7\n",
      "  (32) -> 4\n",
      "l (108) -> 9\n",
      "p (112) -> 8\n",
      "f (102) -> 2\n"
     ]
    }
   ],
   "source": [
    "# Converts string to symbols\n",
    "chars = list(set(data))\n",
    "data_size, vocab_size = len(data), len(chars)\n",
    "print('data has {:,} characters, {} unique.'.format(data_size, vocab_size))\n",
    "char_to_ix = { ch:i for i,ch in enumerate(chars) }\n",
    "ix_to_char = { i:ch for i,ch in enumerate(chars) }\n",
    "for k,v in char_to_ix.items():\n",
    "    print('{} ({}) -> {}'.format(k, ord(k),v))"
   ]
  },
  {
   "cell_type": "code",
   "execution_count": null,
   "metadata": {
    "collapsed": true
   },
   "outputs": [],
   "source": [
    "class PTBModel(object):\n",
    "  \"\"\"The PTB model.\"\"\"\n",
    "\n",
    "  def __init__(self, is_training, config):\n",
    "    self.batch_size = batch_size = config.batch_size\n",
    "    self.num_steps = num_steps = config.num_steps\n",
    "    size = config.hidden_size\n",
    "    vocab_size = config.vocab_size\n",
    "\n",
    "    self._input_data = tf.placeholder(tf.int32, [batch_size, num_steps])\n",
    "    self._targets = tf.placeholder(tf.int32, [batch_size, num_steps])\n",
    "\n",
    "    # Slightly better results can be obtained with forget gate biases\n",
    "    # initialized to 1 but the hyperparameters of the model would need to be\n",
    "    # different than reported in the paper.\n",
    "    lstm_cell = tf.nn.rnn_cell.BasicLSTMCell(size, forget_bias=0.0, state_is_tuple=True)\n",
    "    if is_training and config.keep_prob < 1:\n",
    "      lstm_cell = tf.nn.rnn_cell.DropoutWrapper(\n",
    "          lstm_cell, output_keep_prob=config.keep_prob)\n",
    "    cell = tf.nn.rnn_cell.MultiRNNCell([lstm_cell] * config.num_layers, state_is_tuple=True)\n",
    "\n",
    "    self._initial_state = cell.zero_state(batch_size, data_type())\n",
    "\n",
    "    with tf.device(\"/cpu:0\"):\n",
    "      embedding = tf.get_variable(\n",
    "          \"embedding\", [vocab_size, size], dtype=data_type())\n",
    "      inputs = tf.nn.embedding_lookup(embedding, self._input_data)\n",
    "\n",
    "    if is_training and config.keep_prob < 1:\n",
    "      inputs = tf.nn.dropout(inputs, config.keep_prob)\n",
    "\n",
    "    # Simplified version of tensorflow.models.rnn.rnn.py's rnn().\n",
    "    # This builds an unrolled LSTM for tutorial purposes only.\n",
    "    # In general, use the rnn() or state_saving_rnn() from rnn.py.\n",
    "    #\n",
    "    # The alternative version of the code below is:\n",
    "    #\n",
    "    # from tensorflow.models.rnn import rnn\n",
    "    # inputs = [tf.squeeze(input_, [1])\n",
    "    #           for input_ in tf.split(1, num_steps, inputs)]\n",
    "    # outputs, state = rnn.rnn(cell, inputs, initial_state=self._initial_state)\n",
    "    outputs = []\n",
    "    state = self._initial_state\n",
    "    with tf.variable_scope(\"RNN\"):\n",
    "      for time_step in range(num_steps):\n",
    "        if time_step > 0: tf.get_variable_scope().reuse_variables()\n",
    "        (cell_output, state) = cell(inputs[:, time_step, :], state)\n",
    "        outputs.append(cell_output)\n",
    "\n",
    "    output = tf.reshape(tf.concat(1, outputs), [-1, size])\n",
    "    softmax_w = tf.get_variable(\n",
    "        \"softmax_w\", [size, vocab_size], dtype=data_type())\n",
    "    softmax_b = tf.get_variable(\"softmax_b\", [vocab_size], dtype=data_type())\n",
    "    logits = tf.matmul(output, softmax_w) + softmax_b\n",
    "    loss = tf.nn.seq2seq.sequence_loss_by_example(\n",
    "        [logits],\n",
    "        [tf.reshape(self._targets, [-1])],\n",
    "        [tf.ones([batch_size * num_steps], dtype=data_type())])\n",
    "    self._cost = cost = tf.reduce_sum(loss) / batch_size\n",
    "    self._final_state = state\n",
    "\n",
    "    if not is_training:\n",
    "      return\n",
    "\n",
    "    self._lr = tf.Variable(0.0, trainable=False)\n",
    "    tvars = tf.trainable_variables()\n",
    "    grads, _ = tf.clip_by_global_norm(tf.gradients(cost, tvars),\n",
    "                                      config.max_grad_norm)\n",
    "    optimizer = tf.train.GradientDescentOptimizer(self._lr)\n",
    "    self._train_op = optimizer.apply_gradients(zip(grads, tvars))\n",
    "\n",
    "    self._new_lr = tf.placeholder(\n",
    "        tf.float32, shape=[], name=\"new_learning_rate\")\n",
    "    self._lr_update = tf.assign(self._lr, self._new_lr)\n",
    "\n",
    "  def assign_lr(self, session, lr_value):\n",
    "    session.run(self._lr_update, feed_dict={self._new_lr: lr_value})\n",
    "\n",
    "  @property\n",
    "  def input_data(self):\n",
    "    return self._input_data\n",
    "\n",
    "  @property\n",
    "  def targets(self):\n",
    "    return self._targets\n",
    "\n",
    "  @property\n",
    "  def initial_state(self):\n",
    "    return self._initial_state\n",
    "\n",
    "  @property\n",
    "  def cost(self):\n",
    "    return self._cost\n",
    "\n",
    "  @property\n",
    "  def final_state(self):\n",
    "    return self._final_state\n",
    "\n",
    "  @property\n",
    "  def lr(self):\n",
    "    return self._lr\n",
    "\n",
    "  @property\n",
    "  def train_op(self):\n",
    "    return self._train_op\n"
   ]
  },
  {
   "cell_type": "code",
   "execution_count": 10,
   "metadata": {
    "collapsed": true
   },
   "outputs": [],
   "source": [
    "def run_epoch(session, model, data, eval_op, verbose=False):\n",
    "    \"\"\"Runs the model on the given data.\"\"\"\n",
    "    epoch_size = ((len(data) // model.batch_size) - 1) // model.num_steps\n",
    "    start_time = time.time()\n",
    "    costs = 0.0\n",
    "    iters = 0\n",
    "    state = session.run(model.initial_state)\n",
    "    for step, (x, y) in enumerate(reader.ptb_iterator(data, model.batch_size,\n",
    "                                                    model.num_steps)):\n",
    "    fetches = [model.cost, model.final_state, eval_op]\n",
    "    feed_dict = {}\n",
    "    feed_dict[model.input_data] = x\n",
    "    feed_dict[model.targets] = y\n",
    "    for i, (c, h) in enumerate(model.initial_state):\n",
    "        feed_dict[c] = state[i].c\n",
    "        feed_dict[h] = state[i].h\n",
    "    cost, state, _ = session.run(fetches, feed_dict)\n",
    "    costs += cost\n",
    "    iters += model.num_steps\n",
    "\n",
    "    if verbose and step % (epoch_size // 10) == 10:\n",
    "        print(\"%.3f perplexity: %.3f speed: %.0f wps\" %\n",
    "            (step * 1.0 / epoch_size, np.exp(costs / iters),\n",
    "             iters * model.batch_size / (time.time() - start_time)))\n",
    "\n",
    "    return np.exp(costs / iters)"
   ]
  },
  {
   "cell_type": "code",
   "execution_count": null,
   "metadata": {
    "collapsed": true
   },
   "outputs": [],
   "source": []
  },
  {
   "cell_type": "code",
   "execution_count": null,
   "metadata": {
    "collapsed": true
   },
   "outputs": [],
   "source": [
    "def main(_):\n",
    "    if not FLAGS.data_path:\n",
    "    raise ValueError(\"Must set --data_path to PTB data directory\")\n",
    "\n",
    "    raw_data = reader.ptb_raw_data(FLAGS.data_path)\n",
    "    train_data, valid_data, test_data, _ = raw_data\n",
    "\n",
    "    config = get_config()\n",
    "    eval_config = get_config()\n",
    "    eval_config.batch_size = 1\n",
    "    eval_config.num_steps = 1\n",
    "\n",
    "    with tf.Graph().as_default(), tf.Session() as session:\n",
    "        initializer = tf.random_uniform_initializer(-config.init_scale,\n",
    "                                                config.init_scale)\n",
    "    with tf.variable_scope(\"model\", reuse=None, initializer=initializer):\n",
    "        m = PTBModel(is_training=True, config=config)\n",
    "    with tf.variable_scope(\"model\", reuse=True, initializer=initializer):\n",
    "        mvalid = PTBModel(is_training=False, config=config)\n",
    "        mtest = PTBModel(is_training=False, config=eval_config)\n",
    "\n",
    "    tf.initialize_all_variables().run()\n",
    "\n",
    "    for i in range(config.max_max_epoch):\n",
    "        lr_decay = config.lr_decay ** max(i - config.max_epoch, 0.0)\n",
    "        m.assign_lr(session, config.learning_rate * lr_decay)\n",
    "\n",
    "        print(\"Epoch: %d Learning rate: %.3f\" % (i + 1, session.run(m.lr)))\n",
    "        train_perplexity = run_epoch(session, m, train_data, m.train_op,\n",
    "                                   verbose=True)\n",
    "        print(\"Epoch: %d Train Perplexity: %.3f\" % (i + 1, train_perplexity))\n",
    "        valid_perplexity = run_epoch(session, mvalid, valid_data, tf.no_op())\n",
    "        print(\"Epoch: %d Valid Perplexity: %.3f\" % (i + 1, valid_perplexity))\n",
    "\n",
    "    test_perplexity = run_epoch(session, mtest, test_data, tf.no_op())\n",
    "    print(\"Test Perplexity: %.3f\" % test_perplexity)"
   ]
  },
  {
   "cell_type": "code",
   "execution_count": null,
   "metadata": {
    "collapsed": true
   },
   "outputs": [],
   "source": [
    "tf.app.run()\n"
   ]
  }
 ],
 "metadata": {
  "kernelspec": {
   "display_name": "Python [default]",
   "language": "python",
   "name": "python3"
  },
  "language_info": {
   "codemirror_mode": {
    "name": "ipython",
    "version": 3
   },
   "file_extension": ".py",
   "mimetype": "text/x-python",
   "name": "python",
   "nbconvert_exporter": "python",
   "pygments_lexer": "ipython3",
   "version": "3.5.2"
  }
 },
 "nbformat": 4,
 "nbformat_minor": 0
}
