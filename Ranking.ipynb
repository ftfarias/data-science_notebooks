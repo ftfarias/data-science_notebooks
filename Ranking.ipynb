{
 "cells": [
  {
   "cell_type": "code",
   "execution_count": 6,
   "metadata": {
    "collapsed": true
   },
   "outputs": [],
   "source": [
    "from math import sqrt\n",
    "\n",
    "\"\"\"\n",
    "https://medium.com/hacking-and-gonzo/how-reddit-ranking-algorithms-work-ef111e33d0d9#.1g1qoyh5o\n",
    "\n",
    "https://en.wikipedia.org/wiki/Binomial_proportion_confidence_interval#Wilson_score_interval\n",
    "\n",
    "https://en.wikipedia.org/wiki/Binomial_proportion_confidence_interval#Wilson_score_interval\n",
    "\n",
    "http://stats.stackexchange.com/questions/82475/calculate-the-confidence-interval-for-the-mean-of-a-beta-distribution\n",
    "\n",
    "In the above formula the parameters are defined in a following way:\n",
    "p is the observed fraction of positive ratings\n",
    "n is the total number of ratings\n",
    "zα/2 is the (1-α/2) quantile of the standard normal distribution\n",
    "Let’s summarize the above in a following manner:\n",
    "The confidence sort treats the vote count as a statistical sampling of a hypothetical full vote by everyone\n",
    "The confidence sort gives a comment a provisional ranking that it is 85% sure it will get to\n",
    "The more votes, the closer the 85% confidence score gets to the actual score\n",
    "Wilson’s interval has good properties for a small number of trials and/or an extreme probability\n",
    "\n",
    "\n",
    "http://www.sigmazone.com/binomial_confidence_interval.htm\n",
    "\"\"\"\n",
    "\n",
    "def _confidence(ups, downs):\n",
    "    n = ups + downs\n",
    "\n",
    "    if n == 0:\n",
    "        return 0\n",
    "\n",
    "    z = 1.281551565545\n",
    "    p = float(ups) / n\n",
    "\n",
    "    left = p + 1/(2*n)*z*z\n",
    "    right = z*sqrt(p*(1-p)/n + z*z/(4*n*n))\n",
    "    under = 1+1/n*z*z\n",
    "\n",
    "    return (left - right) / under\n",
    "\n",
    "def confidence(ups, downs):\n",
    "    if ups + downs == 0:\n",
    "        return 0\n",
    "    else:\n",
    "        return _confidence(ups, downs)"
   ]
  },
  {
   "cell_type": "code",
   "execution_count": 2,
   "metadata": {
    "collapsed": false
   },
   "outputs": [
    {
     "data": {
      "text/plain": [
       "0.16425172002984176"
      ]
     },
     "execution_count": 2,
     "metadata": {},
     "output_type": "execute_result"
    }
   ],
   "source": [
    "confidence(1,1)"
   ]
  },
  {
   "cell_type": "code",
   "execution_count": 3,
   "metadata": {
    "collapsed": false
   },
   "outputs": [
    {
     "data": {
      "text/plain": [
       "0.10577563612168649"
      ]
     },
     "execution_count": 3,
     "metadata": {},
     "output_type": "execute_result"
    }
   ],
   "source": [
    "confidence(1,2)"
   ]
  },
  {
   "cell_type": "code",
   "execution_count": 5,
   "metadata": {
    "collapsed": false
   },
   "outputs": [
    {
     "data": {
      "text/plain": [
       "0.4724628165565235"
      ]
     },
     "execution_count": 5,
     "metadata": {},
     "output_type": "execute_result"
    }
   ],
   "source": [
    "confidence(5,2)"
   ]
  },
  {
   "cell_type": "code",
   "execution_count": 7,
   "metadata": {
    "collapsed": false
   },
   "outputs": [
    {
     "data": {
      "text/plain": [
       "0.6407975973186971"
      ]
     },
     "execution_count": 7,
     "metadata": {},
     "output_type": "execute_result"
    }
   ],
   "source": [
    "confidence(50,20)"
   ]
  },
  {
   "cell_type": "code",
   "execution_count": 8,
   "metadata": {
    "collapsed": false
   },
   "outputs": [
    {
     "data": {
      "text/plain": [
       "0.6919218926264943"
      ]
     },
     "execution_count": 8,
     "metadata": {},
     "output_type": "execute_result"
    }
   ],
   "source": [
    "confidence(500,200)"
   ]
  },
  {
   "cell_type": "code",
   "execution_count": null,
   "metadata": {
    "collapsed": true
   },
   "outputs": [],
   "source": []
  }
 ],
 "metadata": {
  "kernelspec": {
   "display_name": "Python 3",
   "language": "python",
   "name": "python3"
  },
  "language_info": {
   "codemirror_mode": {
    "name": "ipython",
    "version": 3
   },
   "file_extension": ".py",
   "mimetype": "text/x-python",
   "name": "python",
   "nbconvert_exporter": "python",
   "pygments_lexer": "ipython3",
   "version": "3.5.2"
  }
 },
 "nbformat": 4,
 "nbformat_minor": 0
}
