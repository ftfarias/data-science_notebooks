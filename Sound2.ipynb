{
 "metadata": {
  "name": "",
  "signature": "sha256:eafe6e2c8c759fd612bb596357bdb77c44d7a1faf5f825f6c4174081da24e013"
 },
 "nbformat": 3,
 "nbformat_minor": 0,
 "worksheets": [
  {
   "cells": [
    {
     "cell_type": "code",
     "collapsed": false,
     "input": [
      "# Discrete Fourier Transform (DFT)\n",
      "# FB - 20141227\n",
      "import random\n",
      "import math\n",
      "import cmath\n",
      "pi2 = cmath.pi * 2.0\n",
      "def DFT(fnList):\n",
      "    N = len(fnList)\n",
      "    FmList = []\n",
      "    for m in range(N):\n",
      "        Fm = 0.0\n",
      "        for n in range(N):\n",
      "            Fm += fnList[n] * cmath.exp(- 1j * pi2 * m * n / N)\n",
      "        FmList.append(Fm / N)\n",
      "    return FmList\n",
      "        \n",
      "def InverseDFT(FmList):\n",
      "    N = len(FmList)\n",
      "    fnList = []\n",
      "    for n in range(N):\n",
      "        fn = 0.0\n",
      "        for m in range(N):\n",
      "            fn += FmList[m] * cmath.exp(1j * pi2 * m * n / N)\n",
      "        fnList.append(fn)\n",
      "    return fnList\n",
      "\n",
      "# TEST\n",
      "print \"Input Sine Wave Signal:\"\n",
      "N = 360 # degrees (Number of samples)\n",
      "a = float(random.randint(1, 100))\n",
      "f = float(random.randint(1, 100))\n",
      "p = float(random.randint(0, 360))\n",
      "print \"frequency = \" + str(f)\n",
      "print \"amplitude = \" + str(a)\n",
      "print \"phase ang = \" + str(p)\n",
      "print\n",
      "fnList = []\n",
      "for n in range(N):\n",
      "    t = float(n) / N * pi2\n",
      "    fn = a * math.sin(f * t + p / 360 * pi2)\n",
      "    fnList.append(fn)\n",
      "\n",
      "print \"DFT Calculation Results:\"\n",
      "FmList = DFT(fnList)\n",
      "threshold = 0.001\n",
      "for (i, Fm) in enumerate(FmList):\n",
      "    if abs(Fm) > threshold:\n",
      "        print \"frequency = \" + str(i)\n",
      "        print \"amplitude = \" + str(abs(Fm) * 2.0)\n",
      "        p = int(((cmath.phase(Fm) + pi2 + pi2 / 4.0) % pi2) / pi2 * 360 + 0.5)\n",
      "        print \"phase ang = \" + str(p)\n",
      "        print\n",
      "\n",
      "### Recreate input signal from DFT results and compare to input signal\n",
      "##fnList2 = InverseDFT(FmList)\n",
      "##for n in range(N):\n",
      "##    print fnList[n], fnList2[n].real\n"
     ],
     "language": "python",
     "metadata": {},
     "outputs": [
      {
       "output_type": "stream",
       "stream": "stdout",
       "text": [
        "Input Sine Wave Signal:\n",
        "frequency = 75.0\n",
        "amplitude = 21.0\n",
        "phase ang = 102.0\n",
        "\n",
        "DFT Calculation Results:\n",
        "frequency = 75"
       ]
      },
      {
       "output_type": "stream",
       "stream": "stdout",
       "text": [
        "\n",
        "amplitude = 21.0\n",
        "phase ang = 102\n",
        "\n",
        "frequency = 285\n",
        "amplitude = 21.0\n",
        "phase ang = 78\n",
        "\n"
       ]
      }
     ],
     "prompt_number": 1
    },
    {
     "cell_type": "code",
     "collapsed": false,
     "input": [],
     "language": "python",
     "metadata": {},
     "outputs": []
    }
   ],
   "metadata": {}
  }
 ]
}