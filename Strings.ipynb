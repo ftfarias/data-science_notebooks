{
 "cells": [
  {
   "cell_type": "code",
   "execution_count": 10,
   "metadata": {
    "collapsed": true
   },
   "outputs": [],
   "source": [
    "from unicodedata import normalize\n",
    "\n",
    "def remover_acentos(txt, codif='utf-8'):\n",
    "    return normalize('NFKD', txt.decode(codif)).encode('ASCII','ignore')"
   ]
  },
  {
   "cell_type": "code",
   "execution_count": 17,
   "metadata": {
    "collapsed": false
   },
   "outputs": [],
   "source": [
    "orig = 'áaéeçcôoẽeãa'\n",
    "sem = remover_acentos(orig)"
   ]
  },
  {
   "cell_type": "code",
   "execution_count": 18,
   "metadata": {
    "collapsed": false
   },
   "outputs": [
    {
     "name": "stdout",
     "output_type": "stream",
     "text": [
      "áaéeçcôoẽeãa\n",
      "<type 'str'>\n"
     ]
    }
   ],
   "source": [
    "print(orig)\n",
    "print(type(orig))"
   ]
  },
  {
   "cell_type": "code",
   "execution_count": 19,
   "metadata": {
    "collapsed": false
   },
   "outputs": [
    {
     "name": "stdout",
     "output_type": "stream",
     "text": [
      "aaeeccooeeaa\n",
      "<type 'str'>\n"
     ]
    }
   ],
   "source": [
    "print(sem)\n",
    "print(type(sem))"
   ]
  },
  {
   "cell_type": "code",
   "execution_count": 24,
   "metadata": {
    "collapsed": true
   },
   "outputs": [],
   "source": [
    "def remover_acentos(txt, codif='utf-8'):\n",
    "    if isinstance(txt, str):\n",
    "        return normalize('NFKD', txt.decode(codif)).encode('ASCII','ignore')\n",
    "    elif isinstance(txt, unicode):\n",
    "        return normalize('NFKD', txt).encode('ASCII','ignore')\n",
    "    else:\n",
    "        return txt\n"
   ]
  },
  {
   "cell_type": "code",
   "execution_count": 25,
   "metadata": {
    "collapsed": true
   },
   "outputs": [],
   "source": [
    "orig = 'áaéeçcôoẽeãa'\n",
    "sem = remover_acentos(orig)"
   ]
  },
  {
   "cell_type": "code",
   "execution_count": 26,
   "metadata": {
    "collapsed": false
   },
   "outputs": [
    {
     "name": "stdout",
     "output_type": "stream",
     "text": [
      "áaéeçcôoẽeãa\n",
      "<type 'str'>\n",
      "aaeeccooeeaa\n",
      "<type 'str'>\n"
     ]
    }
   ],
   "source": [
    "print(orig)\n",
    "print(type(orig))\n",
    "print(sem)\n",
    "print(type(sem))"
   ]
  },
  {
   "cell_type": "code",
   "execution_count": 27,
   "metadata": {
    "collapsed": false
   },
   "outputs": [],
   "source": [
    "orig_u = u'áaéeçcôoẽeãa'\n",
    "sem_u = remover_acentos(orig_u)"
   ]
  },
  {
   "cell_type": "code",
   "execution_count": 46,
   "metadata": {
    "collapsed": false
   },
   "outputs": [
    {
     "name": "stdout",
     "output_type": "stream",
     "text": [
      "áaéeçcôoẽeãa\n",
      "<type 'unicode'>\n",
      "u'\\xe1a\\xe9e\\xe7c\\xf4o\\u1ebde\\xe3a'\n",
      "\n",
      "aaeeccooeeaa\n",
      "<type 'str'>\n",
      "'aaeeccooeeaa'\n"
     ]
    }
   ],
   "source": [
    "print(orig_u)\n",
    "print(type(orig_u))\n",
    "print repr(orig_u)\n",
    "print(\"\")\n",
    "print(sem_u)\n",
    "print(type(sem_u))\n",
    "print repr(sem_u)\n"
   ]
  },
  {
   "cell_type": "markdown",
   "metadata": {},
   "source": [
    "# UTF-8 to Ascii"
   ]
  },
  {
   "cell_type": "code",
   "execution_count": 43,
   "metadata": {
    "collapsed": false
   },
   "outputs": [
    {
     "name": "stdout",
     "output_type": "stream",
     "text": [
      "áaéeçcôoẽeãa\n",
      "'\\xc3\\xa1a\\xc3\\xa9e\\xc3\\xa7c\\xc3\\xb4o\\xe1\\xba\\xbde\\xc3\\xa3a'\n",
      "<type 'str'>\n",
      "\n",
      "áaéeçcôoẽeãa\n",
      "u'\\xe1a\\xe9e\\xe7c\\xf4o\\u1ebde\\xe3a'\n",
      "<type 'unicode'>\n"
     ]
    }
   ],
   "source": [
    "s = \"áaéeçcôoẽeãa\"\n",
    "print(s)\n",
    "print repr(s)\n",
    "print(type(s))\n",
    "print('')\n",
    "u = s.decode('utf-8')\n",
    "print(u)\n",
    "print repr(u)\n",
    "print(type(u))"
   ]
  }
 ],
 "metadata": {
  "kernelspec": {
   "display_name": "Python 2",
   "language": "python",
   "name": "python2"
  },
  "language_info": {
   "codemirror_mode": {
    "name": "ipython",
    "version": 2
   },
   "file_extension": ".py",
   "mimetype": "text/x-python",
   "name": "python",
   "nbconvert_exporter": "python",
   "pygments_lexer": "ipython2",
   "version": "2.7.6"
  }
 },
 "nbformat": 4,
 "nbformat_minor": 0
}
