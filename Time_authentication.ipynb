{
 "cells": [
  {
   "cell_type": "code",
   "execution_count": 1,
   "metadata": {
    "collapsed": true
   },
   "outputs": [],
   "source": [
    "import hmac, base64, struct, hashlib, time\n",
    "\n",
    "def get_hotp_token(secret, intervals_no):\n",
    "    key = base64.b32decode(secret, True)\n",
    "    msg = struct.pack(\">Q\", intervals_no)\n",
    "    h = hmac.new(key, msg, hashlib.sha1).digest()\n",
    "    o = ord(h[19]) & 15\n",
    "    h = (struct.unpack(\">I\", h[o:o+4])[0] & 0x7fffffff) % 1000000\n",
    "    return h\n",
    "\n",
    "def get_totp_token(secret):\n",
    "    return get_hotp_token(secret, intervals_no=int(time.time())//30)"
   ]
  },
  {
   "cell_type": "code",
   "execution_count": 24,
   "metadata": {
    "collapsed": false
   },
   "outputs": [
    {
     "name": "stdout",
     "output_type": "stream",
     "text": [
      "348393\n",
      "229789\n",
      "801677\n",
      "630108\n",
      "214543\n",
      "916392\n",
      "346078\n",
      "701644\n",
      "865071\n",
      "431248\n"
     ]
    }
   ],
   "source": [
    "for i in range(10):\n",
    "    print('{:06}'.format(get_hotp_token('aaaabbbbccccdddd',i)))\n"
   ]
  },
  {
   "cell_type": "code",
   "execution_count": 9,
   "metadata": {
    "collapsed": false
   },
   "outputs": [
    {
     "data": {
      "text/plain": [
       "726334"
      ]
     },
     "execution_count": 9,
     "metadata": {},
     "output_type": "execute_result"
    }
   ],
   "source": [
    "get_totp_token('aaaabbbbccccdddd')"
   ]
  },
  {
   "cell_type": "code",
   "execution_count": 10,
   "metadata": {
    "collapsed": false
   },
   "outputs": [
    {
     "data": {
      "text/plain": [
       "955183"
      ]
     },
     "execution_count": 10,
     "metadata": {},
     "output_type": "execute_result"
    }
   ],
   "source": [
    "get_totp_token('aaaabbbbccccddde')"
   ]
  },
  {
   "cell_type": "code",
   "execution_count": null,
   "metadata": {
    "collapsed": true
   },
   "outputs": [],
   "source": []
  }
 ],
 "metadata": {
  "kernelspec": {
   "display_name": "Python 2",
   "language": "python",
   "name": "python2"
  },
  "language_info": {
   "codemirror_mode": {
    "name": "ipython",
    "version": 2
   },
   "file_extension": ".py",
   "mimetype": "text/x-python",
   "name": "python",
   "nbconvert_exporter": "python",
   "pygments_lexer": "ipython2",
   "version": "2.7.6"
  }
 },
 "nbformat": 4,
 "nbformat_minor": 0
}
