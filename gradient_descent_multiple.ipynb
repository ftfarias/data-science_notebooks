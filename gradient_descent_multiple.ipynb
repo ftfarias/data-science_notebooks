{
 "cells": [
  {
   "cell_type": "code",
   "execution_count": 12,
   "metadata": {
    "collapsed": false
   },
   "outputs": [
    {
     "name": "stdout",
     "output_type": "stream",
     "text": [
      "[[   7.80217906    1.32747729   64.50541548]\n",
      " [   3.30739675    2.03097885   61.89386087]\n",
      " [   4.22246735    2.45897426   70.57287152]\n",
      " [   0.80119959    2.29879698   57.49749148]\n",
      " [   6.91348574    6.23884373  134.98260982]\n",
      " [   0.57938083    3.40056042   74.47400505]\n",
      " [   5.11456465    6.98785566  141.6343735 ]\n",
      " [   3.80972752    0.76468958   43.71504184]\n",
      " [   3.05508571    5.30783529  110.21553889]\n",
      " [   0.63439613    7.45960983  135.1127875 ]\n",
      " [   1.32561835    3.46194813   76.9605596 ]\n",
      " [   6.56649814    4.54361713  108.78915387]\n",
      " [   4.29043639    0.51977052   41.37029171]\n",
      " [   7.75606154    7.19005225  151.95410119]\n",
      " [   8.57429272    0.77886435   58.83966157]\n",
      " [   1.1380938     3.68301945   79.34253533]\n",
      " [   9.1110878     5.7780766   135.05111997]\n",
      " [   6.24587752    4.63047354  108.54801021]\n",
      " [   3.72137753    9.84212436  180.33101802]\n",
      " [   7.58990151    6.63380213  142.35617873]]\n"
     ]
    }
   ],
   "source": [
    "%matplotlib inline\n",
    "\n",
    "# http://aimotion.blogspot.com.br/2011/10/machine-learning-with-python-linear.html\n",
    "    \n",
    "import numpy as np\n",
    "from numpy import loadtxt, zeros, ones, array, linspace, logspace, mean, std, arange\n",
    "import matplotlib.pyplot as plt\n",
    "from pylab import plot, show, xlabel, ylabel\n",
    "\n",
    "\n",
    "d = zeros([20,3])\n",
    "\n",
    "d[:,0] = np.random.uniform(0,10,20)\n",
    "d[:,1] = np.random.uniform(0,10,20)\n",
    "\n",
    "d[:,2] = 20 + d[:,0] * 3  + d[:,1] * 15 + np.random.uniform(0,2,20)\n",
    "\n",
    "print(d)\n"
   ]
  },
  {
   "cell_type": "code",
   "execution_count": 3,
   "metadata": {
    "collapsed": false
   },
   "outputs": [
    {
     "data": {
      "image/png": "[encoded data removed]",
      "text/plain": [
       "<matplotlib.figure.Figure at 0x7f18e0164050>"
      ]
     },
     "metadata": {},
     "output_type": "display_data"
    }
   ],
   "source": [
    "scatter(d[:,0],d[:,1], marker='o', c='b')\n",
    "#title('Profits distribution')\n",
    "#xlabel('Population of City in 10,000s')\n",
    "#ylabel('Profit in $10,000s')\n",
    "show()"
   ]
  },
  {
   "cell_type": "code",
   "execution_count": 13,
   "metadata": {
    "collapsed": true
   },
   "outputs": [],
   "source": [
    "#Evaluate the linear regression\n",
    "def feature_normalize(X):\n",
    "    '''\n",
    "    Returns a normalized version of X where\n",
    "    the mean value of each feature is 0 and the standard deviation\n",
    "    is 1. This is often a good preprocessing step to do when\n",
    "    working with learning algorithms.\n",
    "    '''\n",
    "    mean_r = []\n",
    "    std_r = []\n",
    "\n",
    "    X_norm = X\n",
    "\n",
    "    n_c = X.shape[1]\n",
    "    for i in range(n_c):\n",
    "        m = mean(X[:, i])\n",
    "        s = std(X[:, i])\n",
    "        mean_r.append(m)\n",
    "        std_r.append(s)\n",
    "        X_norm[:, i] = (X_norm[:, i] - m) / s\n",
    "\n",
    "    return X_norm, mean_r, std_r\n",
    "\n",
    "def compute_cost(X, y, theta):\n",
    "    '''\n",
    "    Comput cost for linear regression\n",
    "    '''\n",
    "    #Number of training samples\n",
    "    m = y.size\n",
    "\n",
    "    predictions = X.dot(theta)\n",
    "\n",
    "    sqErrors = (predictions - y)\n",
    "\n",
    "    J = (1.0 / (2 * m)) * sqErrors.T.dot(sqErrors)\n",
    "\n",
    "    return J\n",
    "\n",
    "\n",
    "def gradient_descent(X, y, theta, alpha, num_iters):\n",
    "    '''\n",
    "    Performs gradient descent to learn theta\n",
    "    by taking num_items gradient steps with learning\n",
    "    rate alpha\n",
    "    '''\n",
    "    m = y.size\n",
    "    J_history = zeros(shape=(num_iters, 1))\n",
    "\n",
    "    for i in range(num_iters):\n",
    "\n",
    "        predictions = X.dot(theta)\n",
    "\n",
    "        theta_size = theta.size\n",
    "\n",
    "        for it in range(theta_size):\n",
    "\n",
    "            temp = X[:, it]\n",
    "            temp.shape = (m, 1)\n",
    "\n",
    "            errors_x1 = (predictions - y) * temp\n",
    "\n",
    "            theta[it][0] = theta[it][0] - alpha * (1.0 / m) * errors_x1.sum()\n",
    "\n",
    "        J_history[i, 0] = compute_cost(X, y, theta)\n",
    "\n",
    "    return theta, J_history\n"
   ]
  },
  {
   "cell_type": "code",
   "execution_count": 17,
   "metadata": {
    "collapsed": false
   },
   "outputs": [
    {
     "name": "stdout",
     "output_type": "stream",
     "text": [
      "('m', 20)\n",
      "[[ 1.15066391 -1.14726561]\n",
      " [-0.4787063  -0.87268388]\n",
      " [-0.14699084 -0.70563418]\n",
      " [-1.38720925 -0.76815253]\n",
      " [ 0.82851029  0.76967616]\n",
      " [-1.46761913 -0.3381263 ]\n",
      " [ 0.17639674  1.06202092]\n",
      " [-0.2966101  -1.36692572]\n",
      " [-0.5701697   0.40629684]\n",
      " [-1.44767594  1.24614998]\n",
      " [-1.1971061  -0.31416624]\n",
      " [ 0.70272638  0.10801698]\n",
      " [-0.12235189 -1.46251939]\n",
      " [ 1.13394619  1.14093971]\n",
      " [ 1.43055711 -1.3613932 ]\n",
      " [-1.26508423 -0.22788051]\n",
      " [ 1.62514672  0.58983542]\n",
      " [ 0.58650058  0.14191767]\n",
      " [-0.3286372   2.1760626 ]\n",
      " [ 1.07371275  0.92383127]]\n",
      "('mean', [1.1102230246251566e-17, 1.6653345369377347e-17])\n",
      "('std', [1.0, 1.0])\n"
     ]
    }
   ],
   "source": [
    "X = d[:, :2]\n",
    "y = d[:, 2]\n",
    "\n",
    "\n",
    "#number of training samples\n",
    "m = y.size\n",
    "print(\"m\",m)\n",
    "\n",
    "y.shape = (m, 1)\n",
    "\n",
    "#Scale features and set them to zero mean\n",
    "x, mean_r, std_r = feature_normalize(X)\n",
    "\n",
    "print(x)\n",
    "print(\"mean\",mean_r)\n",
    "print(\"std\",std_r)"
   ]
  },
  {
   "cell_type": "code",
   "execution_count": 33,
   "metadata": {
    "collapsed": false
   },
   "outputs": [
    {
     "name": "stdout",
     "output_type": "stream",
     "text": [
      "[[ 0.]\n",
      " [ 0.]\n",
      " [ 0.]]\n"
     ]
    }
   ],
   "source": [
    "#Add a column of ones to X (interception data)\n",
    "it = ones(shape=(m, 3))\n",
    "it[:, 1:3] = x\n",
    "\n",
    "#Some gradient descent settings\n",
    "iterations = 10000\n",
    "alpha = 0.001\n",
    "\n",
    "#Init Theta and Run Gradient Descent\n",
    "theta = zeros(shape=(3, 1))\n",
    "\n",
    "print(theta)"
   ]
  },
  {
   "cell_type": "code",
   "execution_count": 34,
   "metadata": {
    "collapsed": false
   },
   "outputs": [
    {
     "name": "stdout",
     "output_type": "stream",
     "text": [
      "[[ 1.          1.15066391 -1.14726561]\n",
      " [ 1.         -0.4787063  -0.87268388]\n",
      " [ 1.         -0.14699084 -0.70563418]\n",
      " [ 1.         -1.38720925 -0.76815253]\n",
      " [ 1.          0.82851029  0.76967616]\n",
      " [ 1.         -1.46761913 -0.3381263 ]\n",
      " [ 1.          0.17639674  1.06202092]\n",
      " [ 1.         -0.2966101  -1.36692572]\n",
      " [ 1.         -0.5701697   0.40629684]\n",
      " [ 1.         -1.44767594  1.24614998]\n",
      " [ 1.         -1.1971061  -0.31416624]\n",
      " [ 1.          0.70272638  0.10801698]\n",
      " [ 1.         -0.12235189 -1.46251939]\n",
      " [ 1.          1.13394619  1.14093971]\n",
      " [ 1.          1.43055711 -1.3613932 ]\n",
      " [ 1.         -1.26508423 -0.22788051]\n",
      " [ 1.          1.62514672  0.58983542]\n",
      " [ 1.          0.58650058  0.14191767]\n",
      " [ 1.         -0.3286372   2.1760626 ]\n",
      " [ 1.          1.07371275  0.92383127]]\n"
     ]
    }
   ],
   "source": [
    "print(it)"
   ]
  },
  {
   "cell_type": "code",
   "execution_count": 35,
   "metadata": {
    "collapsed": false
   },
   "outputs": [
    {
     "name": "stdout",
     "output_type": "stream",
     "text": [
      "[[ 98.90286333]\n",
      " [  8.16889128]\n",
      " [ 38.45742573]]\n",
      "[[  5.67712464e+03]\n",
      " [  5.66571880e+03]\n",
      " [  5.65433590e+03]\n",
      " ..., \n",
      " [  8.37740977e-02]\n",
      " [  8.37740734e-02]\n",
      " [  8.37740491e-02]]\n"
     ]
    }
   ],
   "source": [
    "theta, J_history = gradient_descent(it, y, theta, alpha, iterations)\n",
    "print theta\n",
    "\n",
    "print J_history\n"
   ]
  },
  {
   "cell_type": "code",
   "execution_count": 38,
   "metadata": {
    "collapsed": false
   },
   "outputs": [
    {
     "data": {
      "image/png": "[encoded data removed]",
      "text/plain": [
       "<matplotlib.figure.Figure at 0x7f18c971c990>"
      ]
     },
     "metadata": {},
     "output_type": "display_data"
    },
    {
     "name": "stdout",
     "output_type": "stream",
     "text": [
      "[ 1.          1.15066391 -1.14726561] -> [ 64.50541548] - [ 64.18162963]  diff:\n",
      "[ 1.         -0.4787063  -0.87268388] -> [ 61.89386087] - [ 61.43118828]  diff:\n",
      "[ 1.         -0.14699084 -0.70563418] -> [ 70.57287152] - [ 70.56523723]  diff:\n",
      "[ 1.         -1.38720925 -0.76815253] -> [ 57.49749148] - [ 58.02973302]  diff:\n",
      "[ 1.          0.82851029  0.76967616] -> [ 134.98260982] - [ 135.27063744]  diff:\n",
      "[ 1.         -1.46761913 -0.3381263 ] -> [ 74.47400505] - [ 73.9105751]  diff:\n",
      "[ 1.          0.17639674  1.06202092] -> [ 141.6343735] - [ 141.18641975]  diff:\n",
      "[ 1.         -0.2966101  -1.36692572] -> [ 43.71504184] - [ 43.91144347]  diff:\n",
      "[ 1.         -0.5701697   0.40629684] -> [ 110.21553889] - [ 109.87033968]  diff:\n",
      "[ 1.         -1.44767594  1.24614998] -> [ 135.1127875] - [ 135.00067624]  diff:\n",
      "[ 1.         -1.1971061  -0.31416624] -> [ 76.9605596] - [ 77.04180913]  diff:\n",
      "[ 1.          0.70272638  0.10801698] -> [ 108.78915387] - [ 108.79741383]  diff:\n",
      "[ 1.         -0.12235189 -1.46251939] -> [ 41.37029171] - [ 41.65865317]  diff:\n",
      "[ 1.          1.13394619  1.14093971] -> [ 151.95410119] - [ 152.04355058]  diff:\n",
      "[ 1.          1.43055711 -1.3613932 ] -> [ 58.83966157] - [ 58.23325088]  diff:\n",
      "[ 1.         -1.26508423 -0.22788051] -> [ 79.34253533] - [ 79.80483015]  diff:\n",
      "[ 1.          1.62514672  0.58983542] -> [ 135.05111997] - [ 134.8620621]  diff:\n",
      "[ 1.          0.58650058  0.14191767] -> [ 108.54801021] - [ 109.15171088]  diff:\n",
      "[ 1.        -0.3286372  2.1760626] -> [ 180.33101802] - [ 179.90402746]  diff:\n",
      "[ 1.          1.07371275  0.92383127] -> [ 142.35617873] - [ 143.20207864]  diff:\n"
     ]
    }
   ],
   "source": [
    "plot(arange(iterations), J_history)\n",
    "xlabel('Iterations')\n",
    "ylabel('Cost Function')\n",
    "show()\n",
    "\n",
    "\n"
   ]
  },
  {
   "cell_type": "code",
   "execution_count": 67,
   "metadata": {
    "collapsed": false
   },
   "outputs": [
    {
     "name": "stdout",
     "output_type": "stream",
     "text": [
      "[ 1.          1.15066391 -1.14726561] ->      64.51 -      64.18  diff:      0.32\n",
      "[ 1.         -0.4787063  -0.87268388] ->      61.89 -      61.43  diff:      0.46\n",
      "[ 1.         -0.14699084 -0.70563418] ->      70.57 -      70.57  diff:      0.01\n",
      "[ 1.         -1.38720925 -0.76815253] ->      57.50 -      58.03  diff:     -0.53\n",
      "[ 1.          0.82851029  0.76967616] ->     134.98 -     135.27  diff:     -0.29\n",
      "[ 1.         -1.46761913 -0.3381263 ] ->      74.47 -      73.91  diff:      0.56\n",
      "[ 1.          0.17639674  1.06202092] ->     141.63 -     141.19  diff:      0.45\n",
      "[ 1.         -0.2966101  -1.36692572] ->      43.72 -      43.91  diff:     -0.20\n",
      "[ 1.         -0.5701697   0.40629684] ->     110.22 -     109.87  diff:      0.35\n",
      "[ 1.         -1.44767594  1.24614998] ->     135.11 -     135.00  diff:      0.11\n",
      "[ 1.         -1.1971061  -0.31416624] ->      76.96 -      77.04  diff:     -0.08\n",
      "[ 1.          0.70272638  0.10801698] ->     108.79 -     108.80  diff:     -0.01\n",
      "[ 1.         -0.12235189 -1.46251939] ->      41.37 -      41.66  diff:     -0.29\n",
      "[ 1.          1.13394619  1.14093971] ->     151.95 -     152.04  diff:     -0.09\n",
      "[ 1.          1.43055711 -1.3613932 ] ->      58.84 -      58.23  diff:      0.61\n",
      "[ 1.         -1.26508423 -0.22788051] ->      79.34 -      79.80  diff:     -0.46\n",
      "[ 1.          1.62514672  0.58983542] ->     135.05 -     134.86  diff:      0.19\n",
      "[ 1.          0.58650058  0.14191767] ->     108.55 -     109.15  diff:     -0.60\n",
      "[ 1.        -0.3286372  2.1760626] ->     180.33 -     179.90  diff:      0.43\n",
      "[ 1.          1.07371275  0.92383127] ->     142.36 -     143.20  diff:     -0.85\n"
     ]
    }
   ],
   "source": [
    "for x1,y1 in zip(it,y):\n",
    "    v = array(x1).dot(theta).flatten()\n",
    "    print(\"{} -> {: >10.2f} - {: >10.2f}  diff:{: >10.2f}\".format(x1,y1[0],v[0], y1[0] - v[0]))\n",
    "    "
   ]
  },
  {
   "cell_type": "code",
   "execution_count": 74,
   "metadata": {
    "collapsed": false
   },
   "outputs": [
    {
     "data": {
      "text/plain": [
       "array([ 227528.63294492])"
      ]
     },
     "execution_count": 74,
     "metadata": {},
     "output_type": "execute_result"
    }
   ],
   "source": [
    "v = array(it).dot(theta).flatten()\n",
    "y.T.dot(v)"
   ]
  },
  {
   "cell_type": "code",
   "execution_count": null,
   "metadata": {
    "collapsed": true
   },
   "outputs": [],
   "source": []
  }
 ],
 "metadata": {
  "kernelspec": {
   "display_name": "Python 2",
   "language": "python",
   "name": "python2"
  },
  "language_info": {
   "codemirror_mode": {
    "name": "ipython",
    "version": 2
   },
   "file_extension": ".py",
   "mimetype": "text/x-python",
   "name": "python",
   "nbconvert_exporter": "python",
   "pygments_lexer": "ipython2",
   "version": "2.7.12"
  }
 },
 "nbformat": 4,
 "nbformat_minor": 0
}
