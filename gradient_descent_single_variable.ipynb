{
 "cells": [
  {
   "cell_type": "code",
   "execution_count": 18,
   "metadata": {
    "collapsed": false
   },
   "outputs": [
    {
     "name": "stdout",
     "output_type": "stream",
     "text": [
      "[[  5.32401787  36.53447254]\n",
      " [  1.67235341  26.6036836 ]\n",
      " [  4.67933564  36.0374394 ]\n",
      " [  0.66501959  22.59016024]\n",
      " [  1.42197665  25.60789817]\n",
      " [  1.59662859  25.76660645]\n",
      " [  9.92853419  50.67836578]\n",
      " [  3.96012821  33.13868409]\n",
      " [  2.57672757  28.10972392]\n",
      " [  7.31791695  42.86611234]\n",
      " [  1.69493632  25.38886577]\n",
      " [  2.73113253  28.76872062]\n",
      " [  0.40730917  21.3587265 ]\n",
      " [  8.65214179  46.25833274]\n",
      " [  6.82702194  41.85901585]\n",
      " [  8.64444026  46.71457159]\n",
      " [  4.74066078  35.0550931 ]\n",
      " [  5.90170074  38.76886013]\n",
      " [  2.30241874  28.87152781]\n",
      " [  9.3164294   49.38172716]]\n"
     ]
    }
   ],
   "source": [
    "%matplotlib inline\n",
    "\n",
    "# http://aimotion.blogspot.com.br/2011/10/machine-learning-with-python-linear.html\n",
    "    \n",
    "from numpy import loadtxt, zeros, ones, array, linspace, logspace\n",
    "import numpy as np\n",
    "from pylab import scatter, show, title, xlabel, ylabel, plot, contour\n",
    "\n",
    "\n",
    "d = zeros([20,2])\n",
    "\n",
    "d[:,0] = np.random.uniform(0,10,20)\n",
    "d[:,1] = 20 + d[:,0] * 3 + np.random.uniform(0,2,20)\n",
    "\n",
    "print(d)\n"
   ]
  },
  {
   "cell_type": "code",
   "execution_count": 19,
   "metadata": {
    "collapsed": false
   },
   "outputs": [
    {
     "data": {
      "image/png": "[encoded data removed]",
      "text/plain": [
       "<matplotlib.figure.Figure at 0x7f3cf233e310>"
      ]
     },
     "metadata": {},
     "output_type": "display_data"
    }
   ],
   "source": [
    "scatter(d[:,0],d[:,1], marker='o', c='b')\n",
    "#title('Profits distribution')\n",
    "#xlabel('Population of City in 10,000s')\n",
    "#ylabel('Profit in $10,000s')\n",
    "show()"
   ]
  },
  {
   "cell_type": "code",
   "execution_count": 22,
   "metadata": {
    "collapsed": true
   },
   "outputs": [],
   "source": [
    "#Evaluate the linear regression\n",
    "def compute_cost(X, y, theta):\n",
    "    '''\n",
    "    Comput cost for linear regression\n",
    "    '''\n",
    "    #Number of training samples\n",
    "    m = y.size\n",
    "\n",
    "    predictions = X.dot(theta).flatten()\n",
    "\n",
    "    sqErrors = (predictions - y) ** 2\n",
    "\n",
    "    J = (1.0 / (2 * m)) * sqErrors.sum()\n",
    "\n",
    "    return J\n",
    "\n",
    "\n",
    "def gradient_descent(X, y, theta, alpha, num_iters):\n",
    "    '''\n",
    "    Performs gradient descent to learn theta\n",
    "    by taking num_items gradient steps with learning\n",
    "    rate alpha\n",
    "    '''\n",
    "    m = y.size\n",
    "    J_history = zeros(shape=(num_iters, 1))\n",
    "\n",
    "    for i in range(num_iters):\n",
    "\n",
    "        predictions = X.dot(theta).flatten()\n",
    "\n",
    "        errors_x1 = (predictions - y) * X[:, 0]\n",
    "        errors_x2 = (predictions - y) * X[:, 1]\n",
    "\n",
    "        theta[0][0] = theta[0][0] - alpha * (1.0 / m) * errors_x1.sum()\n",
    "        theta[1][0] = theta[1][0] - alpha * (1.0 / m) * errors_x2.sum()\n",
    "\n",
    "        J_history[i, 0] = compute_cost(X, y, theta)\n",
    "\n",
    "    return theta, J_history"
   ]
  },
  {
   "cell_type": "code",
   "execution_count": 26,
   "metadata": {
    "collapsed": false
   },
   "outputs": [
    {
     "name": "stdout",
     "output_type": "stream",
     "text": [
      "636.801067856\n",
      "[[ 20.68378324]\n",
      " [  3.04722889]]\n",
      "For population = 35,000, we predict a profit of 313490.843412\n",
      "For population = 70,000, we predict a profit of 420143.854428\n"
     ]
    },
    {
     "data": {
      "image/png": "[encoded data removed]",
      "text/plain": [
       "<matplotlib.figure.Figure at 0x7f3cf1b95f90>"
      ]
     },
     "metadata": {},
     "output_type": "display_data"
    },
    {
     "data": {
      "image/png": "[encoded data removed]",
      "text/plain": [
       "<matplotlib.figure.Figure at 0x7f3cf2f24290>"
      ]
     },
     "metadata": {},
     "output_type": "display_data"
    }
   ],
   "source": [
    "X = d[:, 0]\n",
    "y = d[:, 1]\n",
    "\n",
    "\n",
    "#number of training samples\n",
    "m = y.size\n",
    "\n",
    "#Add a column of ones to X (interception data)\n",
    "it = ones(shape=(m, 2))\n",
    "it[:, 1] = X\n",
    "\n",
    "#Initialize theta parameters\n",
    "theta = zeros(shape=(2, 1))\n",
    "\n",
    "#Some gradient descent settings\n",
    "iterations = 1500\n",
    "alpha = 0.01\n",
    "\n",
    "#compute and display initial cost\n",
    "print compute_cost(it, y, theta)\n",
    "\n",
    "theta, J_history = gradient_descent(it, y, theta, alpha, iterations)\n",
    "\n",
    "print theta\n",
    "#Predict values for population sizes of 35,000 and 70,000\n",
    "predict1 = array([1, 3.5]).dot(theta).flatten()\n",
    "print 'For population = 35,000, we predict a profit of %f' % (predict1 * 10000)\n",
    "predict2 = array([1, 7.0]).dot(theta).flatten()\n",
    "print 'For population = 70,000, we predict a profit of %f' % (predict2 * 10000)\n",
    "\n",
    "#Plot the results\n",
    "result = it.dot(theta).flatten()\n",
    "scatter(d[:,0],d[:,1], marker='o', c='b')\n",
    "#title('Profits distribution')\n",
    "#xlabel('Population of City in 10,000s')\n",
    "#ylabel('Profit in $10,000s')\n",
    "# show()\n",
    "plot(d[:, 0], result, c='r')\n",
    "show()\n",
    "\n",
    "\n",
    "#Grid over which we will calculate J\n",
    "theta0_vals = linspace(-10, 10, 100)\n",
    "theta1_vals = linspace(-1, 4, 100)\n",
    "\n",
    "\n",
    "#initialize J_vals to a matrix of 0's\n",
    "J_vals = zeros(shape=(theta0_vals.size, theta1_vals.size))\n",
    "\n",
    "#Fill out J_vals\n",
    "for t1, element in enumerate(theta0_vals):\n",
    "    for t2, element2 in enumerate(theta1_vals):\n",
    "        thetaT = zeros(shape=(2, 1))\n",
    "        thetaT[0][0] = element\n",
    "        thetaT[1][0] = element2\n",
    "        J_vals[t1, t2] = compute_cost(it, y, thetaT)\n",
    "\n",
    "#Contour plot\n",
    "J_vals = J_vals.T\n",
    "#Plot J_vals as 15 contours spaced logarithmically between 0.01 and 100\n",
    "contour(theta0_vals, theta1_vals, J_vals, logspace(-2, 3, 20))\n",
    "xlabel('theta_0')\n",
    "ylabel('theta_1')\n",
    "scatter(theta[0][0], theta[1][0])\n",
    "show()"
   ]
  },
  {
   "cell_type": "code",
   "execution_count": null,
   "metadata": {
    "collapsed": true
   },
   "outputs": [],
   "source": []
  }
 ],
 "metadata": {
  "kernelspec": {
   "display_name": "Python 2",
   "language": "python",
   "name": "python2"
  },
  "language_info": {
   "codemirror_mode": {
    "name": "ipython",
    "version": 2
   },
   "file_extension": ".py",
   "mimetype": "text/x-python",
   "name": "python",
   "nbconvert_exporter": "python",
   "pygments_lexer": "ipython2",
   "version": "2.7.12"
  }
 },
 "nbformat": 4,
 "nbformat_minor": 0
}
