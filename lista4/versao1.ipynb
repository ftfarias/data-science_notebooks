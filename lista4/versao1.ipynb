{
 "cells": [
  {
   "cell_type": "code",
   "execution_count": 6,
   "metadata": {
    "collapsed": false
   },
   "outputs": [],
   "source": [
    "# Perceptron\n",
    "%matplotlib inline\n",
    "import random \n",
    "# imports basicos\n",
    "import numpy as np\n",
    "import scipy as sp\n",
    "import pandas as pd\n",
    "import pylab as pl\n",
    "import matplotlib.pyplot as plt  # http://matplotlib.org/api/pyplot_api.html\n",
    "import math\n",
    "# from numpy import array, dot, random\n",
    "from sklearn import cross_validation\n",
    " \n",
    "from IPython.display import Image\n",
    "from IPython.core.pylabtools import figsize, getfigs\n",
    "\n",
    "figsize(11, 9)\n",
    "plt.style.use('ggplot')\n",
    "pd.set_option('display.max_columns',300)\n",
    "pd.set_option('display.width', 4000)\n"
   ]
  },
  {
   "cell_type": "code",
   "execution_count": 7,
   "metadata": {
    "collapsed": true
   },
   "outputs": [],
   "source": [
    "# plot_decision_boundary(lambda x: clf.predict(x), x, y)\n",
    "  \n",
    "def plot_decision_boundary(pred_func, xi, yi):\n",
    "    # Set min and max values and give it some padding\n",
    "    x_min, x_max = xi[:, 0].min() - .5, xi[:, 0].max() + .5\n",
    "    y_min, y_max = xi[:, 1].min() - .5, xi[:, 1].max() + .5\n",
    "    h = 0.01\n",
    "    # Generate a grid of points with distance h between them\n",
    "    xx, yy = np.meshgrid(np.arange(x_min, x_max, h), np.arange(y_min, y_max, h))\n",
    "    # Predict the function value for the whole gid\n",
    "    Z = pred_func(np.c_[xx.ravel(), yy.ravel()])\n",
    "    Z = Z.reshape(xx.shape)\n",
    "    # Plot the contour and training examples\n",
    "    plt.contourf(xx, yy, Z, cmap=plt.cm.Spectral)\n",
    "    plt.scatter(xi[:, 0], xi[:, 1], c=yi, cmap=plt.cm.Spectral)\n",
    "    plt.show()"
   ]
  },
  {
   "cell_type": "code",
   "execution_count": 8,
   "metadata": {
    "collapsed": false
   },
   "outputs": [
    {
     "name": "stdout",
     "output_type": "stream",
     "text": [
      "    sl   sw   pl   pw        class\n",
      "0  5.1  3.5  1.4  0.2  Iris-setosa\n",
      "1  4.9  3.0  1.4  0.2  Iris-setosa\n",
      "2  4.7  3.2  1.3  0.2  Iris-setosa\n",
      "3  4.6  3.1  1.5  0.2  Iris-setosa\n",
      "4  5.0  3.6  1.4  0.2  Iris-setosa\n"
     ]
    },
    {
     "data": {
      "text/html": [
       "<div>\n",
       "<table border=\"1\" class=\"dataframe\">\n",
       "  <thead>\n",
       "    <tr style=\"text-align: right;\">\n",
       "      <th></th>\n",
       "      <th>sl</th>\n",
       "      <th>sw</th>\n",
       "      <th>pl</th>\n",
       "      <th>pw</th>\n",
       "    </tr>\n",
       "  </thead>\n",
       "  <tbody>\n",
       "    <tr>\n",
       "      <th>count</th>\n",
       "      <td>150.000000</td>\n",
       "      <td>150.000000</td>\n",
       "      <td>150.000000</td>\n",
       "      <td>150.000000</td>\n",
       "    </tr>\n",
       "    <tr>\n",
       "      <th>mean</th>\n",
       "      <td>5.843333</td>\n",
       "      <td>3.054000</td>\n",
       "      <td>3.758667</td>\n",
       "      <td>1.198667</td>\n",
       "    </tr>\n",
       "    <tr>\n",
       "      <th>std</th>\n",
       "      <td>0.828066</td>\n",
       "      <td>0.433594</td>\n",
       "      <td>1.764420</td>\n",
       "      <td>0.763161</td>\n",
       "    </tr>\n",
       "    <tr>\n",
       "      <th>min</th>\n",
       "      <td>4.300000</td>\n",
       "      <td>2.000000</td>\n",
       "      <td>1.000000</td>\n",
       "      <td>0.100000</td>\n",
       "    </tr>\n",
       "    <tr>\n",
       "      <th>25%</th>\n",
       "      <td>5.100000</td>\n",
       "      <td>2.800000</td>\n",
       "      <td>1.600000</td>\n",
       "      <td>0.300000</td>\n",
       "    </tr>\n",
       "    <tr>\n",
       "      <th>50%</th>\n",
       "      <td>5.800000</td>\n",
       "      <td>3.000000</td>\n",
       "      <td>4.350000</td>\n",
       "      <td>1.300000</td>\n",
       "    </tr>\n",
       "    <tr>\n",
       "      <th>75%</th>\n",
       "      <td>6.400000</td>\n",
       "      <td>3.300000</td>\n",
       "      <td>5.100000</td>\n",
       "      <td>1.800000</td>\n",
       "    </tr>\n",
       "    <tr>\n",
       "      <th>max</th>\n",
       "      <td>7.900000</td>\n",
       "      <td>4.400000</td>\n",
       "      <td>6.900000</td>\n",
       "      <td>2.500000</td>\n",
       "    </tr>\n",
       "  </tbody>\n",
       "</table>\n",
       "</div>"
      ],
      "text/plain": [
       "               sl          sw          pl          pw\n",
       "count  150.000000  150.000000  150.000000  150.000000\n",
       "mean     5.843333    3.054000    3.758667    1.198667\n",
       "std      0.828066    0.433594    1.764420    0.763161\n",
       "min      4.300000    2.000000    1.000000    0.100000\n",
       "25%      5.100000    2.800000    1.600000    0.300000\n",
       "50%      5.800000    3.000000    4.350000    1.300000\n",
       "75%      6.400000    3.300000    5.100000    1.800000\n",
       "max      7.900000    4.400000    6.900000    2.500000"
      ]
     },
     "execution_count": 8,
     "metadata": {},
     "output_type": "execute_result"
    }
   ],
   "source": [
    "def csvImporter():\n",
    "#    data = pd.read_csv('http://archive.ics.uci.edu/ml/machine-learning-databases/iris/iris.data')\n",
    "    data = pd.read_csv('iris.data', header=None, names=['sl','sw','pl','pw','class'])\n",
    "    return data\n",
    "print(csvImporter().head())\n",
    "# 7. Attribute Information:\n",
    "#    1. sepal length in cm\n",
    "#    2. sepal width in cm\n",
    "#    3. petal length in cm\n",
    "#    4. petal width in cm\n",
    "#    5. class: \n",
    "#       -- Iris Setosa\n",
    "#       -- Iris Versicolour\n",
    "#       -- Iris Virginica\n",
    "csvImporter().describe()"
   ]
  },
  {
   "cell_type": "code",
   "execution_count": 9,
   "metadata": {
    "collapsed": false
   },
   "outputs": [
    {
     "name": "stdout",
     "output_type": "stream",
     "text": [
      "    sl   sw  class\n",
      "0  5.1  3.5      0\n",
      "1  4.9  3.0      0\n",
      "2  4.7  3.2      0\n",
      "3  4.6  3.1      0\n",
      "4  5.0  3.6      0\n",
      "               sl          sw       class\n",
      "count  100.000000  100.000000  100.000000\n",
      "mean     5.797000    3.196000    0.500000\n",
      "std      0.945319    0.416071    0.502519\n",
      "min      4.300000    2.200000    0.000000\n",
      "25%      5.000000    3.000000    0.000000\n",
      "50%      5.700000    3.150000    0.500000\n",
      "75%      6.500000    3.400000    1.000000\n",
      "max      7.900000    4.400000    1.000000\n",
      "-- Count\n",
      "1    50\n",
      "0    50\n",
      "Name: class, dtype: int64\n"
     ]
    }
   ],
   "source": [
    "data1 = csvImporter()\n",
    "data1 = data1[['sl','sw','class']]\n",
    "data1 = data1[data1['class'].isin(['Iris-setosa','Iris-virginica'])]\n",
    "data1.replace({'Iris-setosa': 0},inplace=True, regex=True)\n",
    "data1.replace({'Iris-virginica': 1},inplace=True, regex=True)\n",
    "print(data1.head())\n",
    "print(data1.describe())\n",
    "print('-- Count')\n",
    "print(data1['class'].value_counts())"
   ]
  },
  {
   "cell_type": "code",
   "execution_count": 10,
   "metadata": {
    "collapsed": false
   },
   "outputs": [
    {
     "name": "stdout",
     "output_type": "stream",
     "text": [
      "(100, 2)\n",
      "(100,)\n"
     ]
    }
   ],
   "source": [
    "#converte de pandas para numpy\n",
    "x = data1[['sl','sw']].values\n",
    "# print(x)\n",
    "print(x.shape)\n",
    "y = data1[['class']].values\n",
    "y.shape = (100,)\n",
    "print(y.shape)\n"
   ]
  },
  {
   "cell_type": "code",
   "execution_count": 11,
   "metadata": {
    "collapsed": false,
    "scrolled": false
   },
   "outputs": [
    {
     "ename": "AttributeError",
     "evalue": "'str' object has no attribute 'decode'",
     "output_type": "error",
     "traceback": [
      "\u001b[0;31m---------------------------------------------------------------------------\u001b[0m",
      "\u001b[0;31mAttributeError\u001b[0m                            Traceback (most recent call last)",
      "\u001b[0;32m<ipython-input-11-f17a26a17251>\u001b[0m in \u001b[0;36m<module>\u001b[0;34m()\u001b[0m\n\u001b[1;32m     11\u001b[0m     \u001b[0midx\u001b[0m \u001b[0;34m=\u001b[0m \u001b[0mnp\u001b[0m\u001b[0;34m.\u001b[0m\u001b[0mwhere\u001b[0m\u001b[0;34m(\u001b[0m\u001b[0my\u001b[0m \u001b[0;34m==\u001b[0m \u001b[0mi\u001b[0m\u001b[0;34m)\u001b[0m\u001b[0;34m\u001b[0m\u001b[0m\n\u001b[1;32m     12\u001b[0m     \u001b[0mplt\u001b[0m\u001b[0;34m.\u001b[0m\u001b[0mscatter\u001b[0m\u001b[0;34m(\u001b[0m\u001b[0mx\u001b[0m\u001b[0;34m[\u001b[0m\u001b[0midx\u001b[0m\u001b[0;34m,\u001b[0m \u001b[0;36m0\u001b[0m\u001b[0;34m]\u001b[0m\u001b[0;34m,\u001b[0m \u001b[0mx\u001b[0m\u001b[0;34m[\u001b[0m\u001b[0midx\u001b[0m\u001b[0;34m,\u001b[0m \u001b[0;36m1\u001b[0m\u001b[0;34m]\u001b[0m\u001b[0;34m,\u001b[0m \u001b[0mc\u001b[0m\u001b[0;34m=\u001b[0m\u001b[0mcolor\u001b[0m\u001b[0;34m,\u001b[0m \u001b[0mlabel\u001b[0m\u001b[0;34m=\u001b[0m\u001b[0ml\u001b[0m\u001b[0;34m,\u001b[0m \u001b[0mcmap\u001b[0m\u001b[0;34m=\u001b[0m\u001b[0mplt\u001b[0m\u001b[0;34m.\u001b[0m\u001b[0mcm\u001b[0m\u001b[0;34m.\u001b[0m\u001b[0mPaired\u001b[0m\u001b[0;34m)\u001b[0m\u001b[0;34m\u001b[0m\u001b[0m\n\u001b[0;32m---> 13\u001b[0;31m \u001b[0mplt\u001b[0m\u001b[0;34m.\u001b[0m\u001b[0mtitle\u001b[0m\u001b[0;34m(\u001b[0m\u001b[0;34m'Iris'\u001b[0m\u001b[0;34m.\u001b[0m\u001b[0mdecode\u001b[0m\u001b[0;34m(\u001b[0m\u001b[0;34m'utf-8'\u001b[0m\u001b[0;34m)\u001b[0m\u001b[0;34m)\u001b[0m\u001b[0;34m\u001b[0m\u001b[0m\n\u001b[0m\u001b[1;32m     14\u001b[0m \u001b[0mplt\u001b[0m\u001b[0;34m.\u001b[0m\u001b[0mxlabel\u001b[0m\u001b[0;34m(\u001b[0m\u001b[0;34m\"Sepal Lenght\"\u001b[0m\u001b[0;34m)\u001b[0m\u001b[0;34m\u001b[0m\u001b[0m\n\u001b[1;32m     15\u001b[0m \u001b[0mplt\u001b[0m\u001b[0;34m.\u001b[0m\u001b[0mylabel\u001b[0m\u001b[0;34m(\u001b[0m\u001b[0;34m\"Sepal Width\"\u001b[0m\u001b[0;34m)\u001b[0m\u001b[0;34m\u001b[0m\u001b[0m\n",
      "\u001b[0;31mAttributeError\u001b[0m: 'str' object has no attribute 'decode'"
     ]
    },
    {
     "data": {
      "image/png": "[encoded data removed]",
      "text/plain": [
       "<matplotlib.figure.Figure at 0x10cbc3a20>"
      ]
     },
     "metadata": {},
     "output_type": "display_data"
    }
   ],
   "source": [
    "# x = data1['sl'].values\n",
    "# y = data1['sw'].values\n",
    "# color = data1['class'].replace({'0': 'r'},regex=True).replace({'1': 'b'},regex=True).values\n",
    "\n",
    "colors =  'rb'\n",
    "classes = [0,1] \n",
    "labels = ['Iris-setosa','Iris-virginica']\n",
    "plt.figure()\n",
    "\n",
    "for i,l,color in zip(classes,labels , colors):\n",
    "    idx = np.where(y == i)\n",
    "    plt.scatter(x[idx, 0], x[idx, 1], c=color, label=l, cmap=plt.cm.Paired)\n",
    "plt.title('Iris'.decode('utf-8'))\n",
    "plt.xlabel(\"Sepal Lenght\")\n",
    "plt.ylabel(\"Sepal Width\")\n",
    "plt.legend(loc=1)  # best->0 upper right->1 upper left->2 lower left->3 lower right->4 \n",
    "\n",
    "plt.show()"
   ]
  },
  {
   "cell_type": "code",
   "execution_count": 19,
   "metadata": {
    "collapsed": false
   },
   "outputs": [
    {
     "name": "stdout",
     "output_type": "stream",
     "text": [
      "training size: 100\n",
      "----------------------------------------\n",
      "Corrects: 99\n",
      "Wrong   : 1\n"
     ]
    }
   ],
   "source": [
    "\n",
    "class SimplePerceptron():\n",
    "    def __init__(self):\n",
    "        self.errors = []\n",
    "        self.learning_rate = 0.2\n",
    "\n",
    "        # weights\n",
    "        self.w = np.random.rand(2)\n",
    "\n",
    "    def step_function(self,v):\n",
    "        return 0 if v < 0 else 1\n",
    "\n",
    "    def forward(self,x):\n",
    "        v = np.dot(self.w,x)\n",
    "        return self.step_function(v)\n",
    "\n",
    "#     self.np_forward = np.vectorize(self.forward)\n",
    "\n",
    "\n",
    "    # como o scikit learn\n",
    "    def fit(self,x,y, total_epochs=500, debug=False):\n",
    "        training_size = x.shape[0]\n",
    "            \n",
    "        print(\"training size: {}\".format(training_size))\n",
    "\n",
    "        for epoch in range(training_size):\n",
    "            i = random.randint(0,training_size-1)\n",
    "            expected = y[i] \n",
    "            output = self.forward(x[i])\n",
    "            error = expected - output\n",
    "            self.errors.append(error)\n",
    "            delta = self.learning_rate * error\n",
    "            if debug:\n",
    "                print(\"i:{:,}, x:{}, y:{}, w:{}, output: {}, error:{}, delta:{}\".format(i, x[i], y[i], self.w, output, error, delta))\n",
    "            self.w += delta * x[i]\n",
    "\n",
    "            \n",
    "    # como o scikit learn\n",
    "    def predict(self, x):\n",
    "        result = []\n",
    "        for xi in x:\n",
    "            result.append(self.forward(xi))\n",
    "        return np.array(result)\n",
    "            \n",
    "            \n",
    "    def print_result(self,x,y):\n",
    "        for xi, yi in zip(x,y):\n",
    "            result = self.forward(xi)\n",
    "            print(\"x:{}, y:{}, result:{}\".format(xi, yi, result))\n",
    "\n",
    "    def acuracia(self,x,y):\n",
    "        correct = 0\n",
    "        wrong = 0\n",
    "        for xi, yi in zip(x,y):\n",
    "            result = self.forward(xi)\n",
    "            if result == yi:\n",
    "                correct += 1\n",
    "            else:\n",
    "                wrong += 1\n",
    "        return correct,wrong\n",
    "        \n",
    "\n",
    "p = SimplePerceptron()\n",
    "p.fit(x,y,debug=False)\n",
    "\n",
    "print('-'*40)\n",
    "correct,wrong = p.acuracia(x,y)\n",
    "print('Corrects: {:,}'.format(correct) )\n",
    "print('Wrong   : {:,}'.format(wrong) )\n",
    "\n",
    "# print(p.predict(x));\n"
   ]
  },
  {
   "cell_type": "code",
   "execution_count": 21,
   "metadata": {
    "collapsed": false
   },
   "outputs": [
    {
     "data": {
      "image/png": "[encoded data removed]",
      "text/plain": [
       "<matplotlib.figure.Figure at 0x10e9e3a90>"
      ]
     },
     "metadata": {},
     "output_type": "display_data"
    }
   ],
   "source": [
    "# print(w)\n",
    "# print(x)\n",
    "# print(y)\n",
    "plt.figure()\n",
    "\n",
    "# Set min and max values and give it some padding\n",
    "x_min, x_max = x[:, 0].min() - .5, x[:, 0].max() + .5\n",
    "y_min, y_max = x[:, 1].min() - .5, x[:, 1].max() + .5\n",
    "h = 0.01\n",
    "# Generate a grid of points with distance h between them\n",
    "xx, yy = np.meshgrid(np.arange(x_min, x_max, h), np.arange(y_min, y_max, h))\n",
    "# Predict the function value for the whole gid\n",
    "Z = p.predict(np.c_[xx.ravel(), yy.ravel()])\n",
    "Z = Z.reshape(xx.shape)\n",
    "# Plot the contour and training examples\n",
    "plt.contourf(xx, yy, Z, cmap=plt.cm.Spectral,alpha=0.5)\n",
    "plt.scatter(x[:, 0], x[:, 1], c=y, cmap=plt.cm.Spectral)\n",
    "plt.show()\n",
    "\n"
   ]
  },
  {
   "cell_type": "code",
   "execution_count": 12,
   "metadata": {
    "collapsed": false
   },
   "outputs": [
    {
     "data": {
      "text/plain": [
       "array([0, 0, 0, 0, 0, 0, 0, 0, 0, 0, 0, 0, 0, 0, 0, 0, 0, 0, 0, 0, 0, 0, 0,\n",
       "       0, 0, 0, 0, 0, 0, 0, 0, 0, 0, 0, 0, 0, 0, 0, 0, 0, 0, 0, 0, 0, 0, 0,\n",
       "       0, 0, 0, 0, 1, 1, 1, 1, 1, 1, 1, 1, 1, 1, 1, 1, 1, 1, 1, 1, 1, 1, 1,\n",
       "       1, 1, 1, 1, 1, 1, 1, 1, 1, 1, 1, 1, 1, 1, 1, 1, 1, 1, 1, 1, 1, 1, 1,\n",
       "       1, 1, 1, 1, 1, 1, 1, 1])"
      ]
     },
     "execution_count": 12,
     "metadata": {},
     "output_type": "execute_result"
    }
   ],
   "source": [
    "y"
   ]
  },
  {
   "cell_type": "code",
   "execution_count": 22,
   "metadata": {
    "collapsed": false
   },
   "outputs": [
    {
     "name": "stdout",
     "output_type": "stream",
     "text": [
      "[ 0  1  2  3  4  5  6  7  8  9 10 12 13 14 15 17 18 20 21 22 23 25 26 29 31\n",
      " 33 34 35 36 37 38 39 41 42 44 45 46 47 48 50 51 52 54 56 57 58 60 61 62 64\n",
      " 65 67 68 69 70 72 73 74 75 76 78 79 80 83 84 85 86 87 88 89 91 93 96 97 99] [11 16 19 24 27 28 30 32 40 43 49 53 55 59 63 66 71 77 81 82 90 92 94 95 98]\n",
      "[ 1  2  3  4  5  6  8  9 10 11 13 14 16 17 19 20 22 23 24 25 26 27 28 29 30\n",
      " 31 32 33 36 37 40 43 44 45 46 47 48 49 50 52 53 54 55 56 57 58 59 60 61 63\n",
      " 64 66 68 70 71 73 74 75 76 77 80 81 82 83 84 86 87 89 90 91 92 94 95 96 98] [ 0  7 12 15 18 21 34 35 38 39 41 42 51 62 65 67 69 72 78 79 85 88 93 97 99]\n",
      "[ 0  1  3  4  5  7  8 10 11 12 13 15 16 18 19 20 21 23 24 27 28 30 31 32 34\n",
      " 35 36 38 39 40 41 42 43 46 47 49 50 51 53 54 55 56 59 60 61 62 63 64 65 66\n",
      " 67 69 70 71 72 73 77 78 79 80 81 82 85 87 88 90 91 92 93 94 95 96 97 98 99] [ 2  6  9 14 17 22 25 26 29 33 37 44 45 48 52 57 58 68 74 75 76 83 84 86 89]\n",
      "[ 0  2  6  7  9 11 12 14 15 16 17 18 19 21 22 24 25 26 27 28 29 30 32 33 34\n",
      " 35 37 38 39 40 41 42 43 44 45 48 49 51 52 53 55 57 58 59 62 63 65 66 67 68\n",
      " 69 71 72 74 75 76 77 78 79 81 82 83 84 85 86 88 89 90 92 93 94 95 97 98 99] [ 1  3  4  5  8 10 13 20 23 31 36 46 47 50 54 56 60 61 64 70 73 80 87 91 96]\n"
     ]
    }
   ],
   "source": [
    "# fold_indexes = cross_validation.StratifiedKFold(y, n_folds=4, shuffle=True)\n",
    "fold_indexes = cross_validation.KFold(len(y), n_folds=4, shuffle=True)\n",
    "for train_index, test_index in fold_indexes:\n",
    "    print(train_index, test_index)"
   ]
  },
  {
   "cell_type": "code",
   "execution_count": 25,
   "metadata": {
    "collapsed": false
   },
   "outputs": [
    {
     "name": "stdout",
     "output_type": "stream",
     "text": [
      "------------------------------\n",
      "FOLDER 0\n",
      "training size: 75\n",
      "[[11  0]\n",
      " [ 0 14]]\n",
      "             precision    recall  f1-score   support\n",
      "\n",
      "          0       1.00      1.00      1.00        11\n",
      "          1       1.00      1.00      1.00        14\n",
      "\n",
      "avg / total       1.00      1.00      1.00        25\n",
      "\n",
      "------------------------------\n",
      "FOLDER 1\n",
      "training size: 75\n",
      "[[12  0]\n",
      " [ 5  8]]\n",
      "             precision    recall  f1-score   support\n",
      "\n",
      "          0       0.71      1.00      0.83        12\n",
      "          1       1.00      0.62      0.76        13\n",
      "\n",
      "avg / total       0.86      0.80      0.79        25\n",
      "\n",
      "------------------------------\n",
      "FOLDER 2\n",
      "training size: 75\n",
      "[[14  0]\n",
      " [ 1 10]]\n",
      "             precision    recall  f1-score   support\n",
      "\n",
      "          0       0.93      1.00      0.97        14\n",
      "          1       1.00      0.91      0.95        11\n",
      "\n",
      "avg / total       0.96      0.96      0.96        25\n",
      "\n",
      "------------------------------\n",
      "FOLDER 3\n",
      "training size: 75\n",
      "[[13  0]\n",
      " [ 0 12]]\n",
      "             precision    recall  f1-score   support\n",
      "\n",
      "          0       1.00      1.00      1.00        13\n",
      "          1       1.00      1.00      1.00        12\n",
      "\n",
      "avg / total       1.00      1.00      1.00        25\n",
      "\n",
      "1.0\n",
      "0.8\n",
      "0.96\n",
      "1.0\n",
      "Acuracia média: 0.94\n",
      "Desvio Padrão : 0.08246211251235319\n"
     ]
    }
   ],
   "source": [
    "import sklearn.metrics as metrics\n",
    "\n",
    "acuracia = []\n",
    "\n",
    "for i,(train_index, test_index) in enumerate(fold_indexes):\n",
    "    print(\"-\"*30)\n",
    "    print(\"FOLDER {}\".format(i))\n",
    "    x_train, x_test = x[train_index], x[test_index]\n",
    "    y_train, y_test = y[train_index], y[test_index]\n",
    "    \n",
    "    p = SimplePerceptron()\n",
    "    p.fit(x_train,y_train)\n",
    "    y_test_pred = p.predict(x_test)\n",
    "\n",
    "    cm = metrics.confusion_matrix(y_test, y_test_pred)\n",
    "    \n",
    "    acuracia.append(metrics.accuracy_score(y_test, y_test_pred, normalize=True))\n",
    "    \n",
    "    print(cm)\n",
    "    print(metrics.classification_report(y_test, y_test_pred))\n",
    "    \n",
    "for a in acuracia:\n",
    "    print(a)\n",
    "print(\"Acuracia média: {}\".format(np.mean(acuracia)))\n",
    "print(\"Desvio Padrão : {}\".format(np.std(acuracia)))\n"
   ]
  },
  {
   "cell_type": "code",
   "execution_count": null,
   "metadata": {
    "collapsed": true
   },
   "outputs": [],
   "source": []
  },
  {
   "cell_type": "code",
   "execution_count": 31,
   "metadata": {
    "collapsed": false
   },
   "outputs": [
    {
     "ename": "ImportError",
     "evalue": "No module named 'sklearn.neural_network.MLPClassifier'",
     "output_type": "error",
     "traceback": [
      "\u001b[0;31m---------------------------------------------------------------------------\u001b[0m",
      "\u001b[0;31mImportError\u001b[0m                               Traceback (most recent call last)",
      "\u001b[0;32m<ipython-input-31-2603f0304e61>\u001b[0m in \u001b[0;36m<module>\u001b[0;34m()\u001b[0m\n\u001b[1;32m      1\u001b[0m \u001b[0;32mimport\u001b[0m \u001b[0msklearn\u001b[0m\u001b[0;34m.\u001b[0m\u001b[0mmetrics\u001b[0m \u001b[0;32mas\u001b[0m \u001b[0mmetrics\u001b[0m\u001b[0;34m\u001b[0m\u001b[0m\n\u001b[1;32m      2\u001b[0m \u001b[0;34m\u001b[0m\u001b[0m\n\u001b[0;32m----> 3\u001b[0;31m \u001b[0;32mimport\u001b[0m \u001b[0msklearn\u001b[0m\u001b[0;34m.\u001b[0m\u001b[0mneural_network\u001b[0m\u001b[0;34m.\u001b[0m\u001b[0mMLPClassifier\u001b[0m  \u001b[0;31m#  pip install scikit-neuralnetwork\u001b[0m\u001b[0;34m\u001b[0m\u001b[0m\n\u001b[0m\u001b[1;32m      4\u001b[0m \u001b[0;34m\u001b[0m\u001b[0m\n\u001b[1;32m      5\u001b[0m \u001b[0macuracia\u001b[0m \u001b[0;34m=\u001b[0m \u001b[0;34m[\u001b[0m\u001b[0;34m]\u001b[0m\u001b[0;34m\u001b[0m\u001b[0m\n",
      "\u001b[0;31mImportError\u001b[0m: No module named 'sklearn.neural_network.MLPClassifier'"
     ]
    }
   ],
   "source": [
    "import sklearn.metrics as metrics\n",
    "\n",
    "import sklearn.neural_network.MLPClassifier  #  pip install scikit-neuralnetwork\n",
    "\n",
    "acuracia = []\n",
    "\n",
    "\n",
    "for i,(train_index, test_index) in enumerate(fold_indexes):\n",
    "    print(\"-\"*30)\n",
    "    print(\"FOLDER {}\".format(i))\n",
    "    x_train, x_test = x[train_index], x[test_index]\n",
    "    y_train, y_test = y[train_index], y[test_index]\n",
    "    \n",
    "    # http://scikit-learn.org/dev/modules/generated/sklearn.neural_network.MLPClassifier.html\n",
    "    p = sklearn.neural_network.MLPClassifier(solver='sgd', activation='logistic', alpha=1e-2,\n",
    "            hidden_layer_sizes=(2), random_state=1, verbose=True)\n",
    "    \n",
    "    p.fit(x_train,y_train)\n",
    "    print(p)\n",
    "    y_test_pred = p.predict(x_test)\n",
    "\n",
    "    cm = metrics.confusion_matrix(y_test, y_test_pred)\n",
    "    \n",
    "    acuracia.append(metrics.accuracy_score(y_test, y_test_pred, normalize=True))\n",
    "    \n",
    "    print(cm)\n",
    "    print(metrics.classification_report(y_test, y_test_pred))\n",
    "    \n",
    "for a in acuracia:\n",
    "    print(a)\n",
    "print(\"Acuracia média: {}\".format(np.mean(acuracia)))\n",
    "print(\"Desvio Padrão : {}\".format(np.std(acuracia)))"
   ]
  },
  {
   "cell_type": "code",
   "execution_count": null,
   "metadata": {
    "collapsed": true
   },
   "outputs": [],
   "source": [
    "#lista5\n"
   ]
  },
  {
   "cell_type": "code",
   "execution_count": null,
   "metadata": {
    "collapsed": true
   },
   "outputs": [],
   "source": []
  }
 ],
 "metadata": {
  "anaconda-cloud": {},
  "kernelspec": {
   "display_name": "Python [conda env:tf]",
   "language": "python",
   "name": "conda-env-tf-py"
  }
 },
 "nbformat": 4,
 "nbformat_minor": 1
}
