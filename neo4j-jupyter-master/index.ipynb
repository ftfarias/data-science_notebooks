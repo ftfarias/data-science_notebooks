{
 "cells": [
  {
   "cell_type": "markdown",
   "metadata": {},
   "source": [
    "# Graphs with Python and Neo4j by @_nicolemargaret\n",
    "\n",
    "## Agenda\n",
    "\n",
    "### Introduction to Neo4j (5 minutes)\n",
    "\n",
    "* What is a graph?\n",
    "* What is Neo4j?\n",
    "* Data Modeling\n",
    "\n",
    "### [Hello World](hello-world.html) (10 minutes)\n",
    "\n",
    "* `py2neo`\n",
    "* `ipython-cypher`\n",
    "  - `pandas`\n",
    "  - `NetworkX`\n",
    "* `igraph`\n",
    "* `jgraph`\n",
    "\n",
    "### [Panama Papers](panama.html) (15 minutes)\n",
    "\n",
    "* Visualizing the Model\n",
    "* Plotting\n",
    "* Graph Algorithms\n",
    "* Graph Visualization"
   ]
  }
 ],
 "metadata": {
  "kernelspec": {
   "display_name": "Python 3",
   "language": "python",
   "name": "python3"
  },
  "language_info": {
   "codemirror_mode": {
    "name": "ipython",
    "version": 3
   },
   "file_extension": ".py",
   "mimetype": "text/x-python",
   "name": "python",
   "nbconvert_exporter": "python",
   "pygments_lexer": "ipython3",
   "version": "3.5.0"
  }
 },
 "nbformat": 4,
 "nbformat_minor": 0
}
