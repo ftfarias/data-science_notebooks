{
 "cells": [
  {
   "cell_type": "markdown",
   "metadata": {},
   "source": [
    "# Analyzing the Panama Papers with Python & Neo4j"
   ]
  },
  {
   "cell_type": "code",
   "execution_count": 2,
   "metadata": {
    "collapsed": false
   },
   "outputs": [
    {
     "data": {
      "text/plain": [
       "(3, 0, 1)"
      ]
     },
     "execution_count": 2,
     "metadata": {},
     "output_type": "execute_result"
    }
   ],
   "source": [
    "from py2neo import Graph\n",
    "\n",
    "graph = Graph()\n",
    "\n",
    "graph.neo4j_version"
   ]
  },
  {
   "cell_type": "markdown",
   "metadata": {},
   "source": [
    "## Visualizing the Model"
   ]
  },
  {
   "cell_type": "code",
   "execution_count": 3,
   "metadata": {
    "collapsed": false
   },
   "outputs": [
    {
     "data": {
      "text/html": [
       "\n",
       "        <iframe\n",
       "            width=\"100%\"\n",
       "            height=\"400\"\n",
       "            src=\"figure/graph-4484d19e-a182-4ed9-9f4a-8be8dbb90730.html\"\n",
       "            frameborder=\"0\"\n",
       "            allowfullscreen\n",
       "        ></iframe>\n",
       "        "
      ],
      "text/plain": [
       "<IPython.lib.display.IFrame at 0x10810fb70>"
      ]
     },
     "execution_count": 3,
     "metadata": {},
     "output_type": "execute_result"
    }
   ],
   "source": [
    "from scripts.vis import draw\n",
    "\n",
    "options = {\n",
    "    \"Officer\": \"name\",\n",
    "    \"Entity\": \"name\",\n",
    "    \"Intermediary\": \"name\",\n",
    "    \"Address\": \"address\"\n",
    "}\n",
    "\n",
    "draw(graph, options, physics=True, limit=30)"
   ]
  },
  {
   "cell_type": "markdown",
   "metadata": {},
   "source": [
    "## Plotting"
   ]
  },
  {
   "cell_type": "code",
   "execution_count": 4,
   "metadata": {
    "collapsed": false
   },
   "outputs": [],
   "source": [
    "%load_ext cypher\n",
    "import plotly.plotly as py\n",
    "from plotly.graph_objs import *"
   ]
  },
  {
   "cell_type": "markdown",
   "metadata": {},
   "source": [
    "### Which entities have the most beneficiaries?"
   ]
  },
  {
   "cell_type": "code",
   "execution_count": 5,
   "metadata": {
    "collapsed": false
   },
   "outputs": [
    {
     "name": "stdout",
     "output_type": "stream",
     "text": [
      "5 rows affected.\n"
     ]
    },
    {
     "data": {
      "text/html": [
       "<div>\n",
       "<table border=\"1\" class=\"dataframe\">\n",
       "  <thead>\n",
       "    <tr style=\"text-align: right;\">\n",
       "      <th></th>\n",
       "      <th>entity</th>\n",
       "      <th>beneficiaries</th>\n",
       "    </tr>\n",
       "  </thead>\n",
       "  <tbody>\n",
       "    <tr>\n",
       "      <th>0</th>\n",
       "      <td>T.K.B.K. International Trust</td>\n",
       "      <td>40</td>\n",
       "    </tr>\n",
       "    <tr>\n",
       "      <th>1</th>\n",
       "      <td>Worldwide Com-net International Trust</td>\n",
       "      <td>38</td>\n",
       "    </tr>\n",
       "    <tr>\n",
       "      <th>2</th>\n",
       "      <td>The Claudius Trust</td>\n",
       "      <td>36</td>\n",
       "    </tr>\n",
       "    <tr>\n",
       "      <th>3</th>\n",
       "      <td>Islands International Trust</td>\n",
       "      <td>27</td>\n",
       "    </tr>\n",
       "    <tr>\n",
       "      <th>4</th>\n",
       "      <td>Friends of Assisi Trust</td>\n",
       "      <td>26</td>\n",
       "    </tr>\n",
       "  </tbody>\n",
       "</table>\n",
       "</div>"
      ],
      "text/plain": [
       "                                  entity  beneficiaries\n",
       "0           T.K.B.K. International Trust             40\n",
       "1  Worldwide Com-net International Trust             38\n",
       "2                     The Claudius Trust             36\n",
       "3            Islands International Trust             27\n",
       "4                Friends of Assisi Trust             26"
      ]
     },
     "execution_count": 5,
     "metadata": {},
     "output_type": "execute_result"
    }
   ],
   "source": [
    "result = %cypher MATCH (e:Entity)                                                          \\\n",
    "                 RETURN e.name AS entity, size(()-[:BENEFICIARY_OF]->(e)) AS beneficiaries \\\n",
    "                 ORDER BY beneficiaries DESC                                               \\\n",
    "                 LIMIT 5\n",
    "        \n",
    "df = result.get_dataframe()\n",
    "df.head()"
   ]
  },
  {
   "cell_type": "code",
   "execution_count": 6,
   "metadata": {
    "collapsed": false
   },
   "outputs": [
    {
     "data": {
      "image/png": "[encoded data removed]",
      "text/plain": [
       "<IPython.core.display.Image object>"
      ]
     },
     "metadata": {},
     "output_type": "display_data"
    }
   ],
   "source": [
    "data = Data([Bar(x=df[\"entity\"], y=df[\"beneficiaries\"])])\n",
    "\n",
    "py.image.ishow({'data': data})"
   ]
  },
  {
   "cell_type": "markdown",
   "metadata": {},
   "source": [
    "### Heatmap of co-occurrence of shareholders among entities"
   ]
  },
  {
   "cell_type": "code",
   "execution_count": 7,
   "metadata": {
    "collapsed": false
   },
   "outputs": [
    {
     "name": "stdout",
     "output_type": "stream",
     "text": [
      "20 rows affected.\n"
     ]
    },
    {
     "data": {
      "text/html": [
       "<div>\n",
       "<table border=\"1\" class=\"dataframe\">\n",
       "  <thead>\n",
       "    <tr style=\"text-align: right;\">\n",
       "      <th></th>\n",
       "      <th>e1.name</th>\n",
       "      <th>e2.name</th>\n",
       "      <th>weight</th>\n",
       "    </tr>\n",
       "  </thead>\n",
       "  <tbody>\n",
       "    <tr>\n",
       "      <th>0</th>\n",
       "      <td>DRAGON KING INVESTMENT LTD.</td>\n",
       "      <td>LUK FOOK (CONTROL) LIMITED</td>\n",
       "      <td>72</td>\n",
       "    </tr>\n",
       "    <tr>\n",
       "      <th>1</th>\n",
       "      <td>BASINGSTOKE PROPERTY LIMITED</td>\n",
       "      <td>BENBOW HOUSE LIMITED</td>\n",
       "      <td>11</td>\n",
       "    </tr>\n",
       "    <tr>\n",
       "      <th>2</th>\n",
       "      <td>WEST END QUAY LIMITED</td>\n",
       "      <td>WESTMEAD PROPERTY HOLDINGS LTD.</td>\n",
       "      <td>8</td>\n",
       "    </tr>\n",
       "    <tr>\n",
       "      <th>3</th>\n",
       "      <td>BASINGSTOKE PROPERTY LIMITED</td>\n",
       "      <td>BEACHLEIGH HOLDINGS LIMITED</td>\n",
       "      <td>7</td>\n",
       "    </tr>\n",
       "    <tr>\n",
       "      <th>4</th>\n",
       "      <td>BENBOW HOUSE LIMITED</td>\n",
       "      <td>WESTMEAD PROPERTY HOLDINGS LTD.</td>\n",
       "      <td>5</td>\n",
       "    </tr>\n",
       "  </tbody>\n",
       "</table>\n",
       "</div>"
      ],
      "text/plain": [
       "                        e1.name                          e2.name  weight\n",
       "0   DRAGON KING INVESTMENT LTD.       LUK FOOK (CONTROL) LIMITED      72\n",
       "1  BASINGSTOKE PROPERTY LIMITED             BENBOW HOUSE LIMITED      11\n",
       "2         WEST END QUAY LIMITED  WESTMEAD PROPERTY HOLDINGS LTD.       8\n",
       "3  BASINGSTOKE PROPERTY LIMITED      BEACHLEIGH HOLDINGS LIMITED       7\n",
       "4          BENBOW HOUSE LIMITED  WESTMEAD PROPERTY HOLDINGS LTD.       5"
      ]
     },
     "execution_count": 7,
     "metadata": {},
     "output_type": "execute_result"
    }
   ],
   "source": [
    "result = %cypher MATCH (e:Entity)                                                 \\\n",
    "                 WITH e, size(()-[:SHAREHOLDER_OF]->(e)) AS shareholders          \\\n",
    "                 ORDER BY shareholders DESC                                       \\\n",
    "                 LIMIT 50                                                         \\\n",
    "                                                                                  \\\n",
    "                 WITH collect(e) AS top_e                                         \\\n",
    "                 UNWIND top_e AS e1                                               \\\n",
    "                 UNWIND top_e AS e2                                               \\\n",
    "                                                                                  \\\n",
    "                 MATCH (e1)<-[:SHAREHOLDER_OF]-(:Officer)-[:SHAREHOLDER_OF]->(e2) \\\n",
    "                 WHERE e1.name < e2.name                                          \\\n",
    "                 RETURn e1.name, e2.name, count(*) AS weight                      \\\n",
    "                 ORDER BY weight DESC\n",
    "            \n",
    "df = result.get_dataframe()\n",
    "df.head()"
   ]
  },
  {
   "cell_type": "code",
   "execution_count": 8,
   "metadata": {
    "collapsed": true
   },
   "outputs": [],
   "source": [
    "names = list(set(list(df[\"e1.name\"]) + list(df[\"e2.name\"])))\n",
    "heat = [[0 for i in range(len(names))] for j in range(len(names))] \n",
    "\n",
    "for idx, row in df.iterrows():\n",
    "    i = names.index(row[\"e1.name\"])\n",
    "    j = names.index(row[\"e2.name\"])\n",
    "    heat[i][j] = row[\"weight\"]"
   ]
  },
  {
   "cell_type": "code",
   "execution_count": 9,
   "metadata": {
    "collapsed": false
   },
   "outputs": [
    {
     "data": {
      "image/png": "[encoded data removed]",
      "text/plain": [
       "<IPython.core.display.Image object>"
      ]
     },
     "metadata": {},
     "output_type": "display_data"
    }
   ],
   "source": [
    "import plotly.graph_objs as go\n",
    "\n",
    "data = [go.Heatmap(z = heat, x = names, y = names)]\n",
    "py.image.ishow({'data': data})"
   ]
  },
  {
   "cell_type": "markdown",
   "metadata": {},
   "source": [
    "## Graph Algorithms"
   ]
  },
  {
   "cell_type": "markdown",
   "metadata": {},
   "source": [
    "### A subgraph of shareholders"
   ]
  },
  {
   "cell_type": "code",
   "execution_count": 10,
   "metadata": {
    "collapsed": false
   },
   "outputs": [
    {
     "data": {
      "text/plain": [
       "<igraph.Graph at 0x10c7327c8>"
      ]
     },
     "execution_count": 10,
     "metadata": {},
     "output_type": "execute_result"
    }
   ],
   "source": [
    "from igraph import Graph as IGraph\n",
    "\n",
    "query = \"\"\"\n",
    "MATCH (o:Officer)\n",
    "WITH o, size((o)-[:SHAREHOLDER_OF]->()) AS entities\n",
    "ORDER BY entities DESC\n",
    "LIMIT 100\n",
    "\n",
    "WITH collect(o) AS top_o\n",
    "UNWIND top_o AS o1\n",
    "UNWIND top_o AS o2\n",
    "\n",
    "MATCH (o1)-[:SHAREHOLDER_OF]->(:Entity)<-[:SHAREHOLDER_OF]-(o2)\n",
    "WHERE o1.name < o2.name\n",
    "RETURn o1.name, o2.name, count(*) AS weight\n",
    "ORDER BY weight DESC\n",
    "\"\"\"\n",
    "\n",
    "data = graph.run(query)\n",
    "\n",
    "ig = IGraph.TupleList(data, weights=True)\n",
    "ig"
   ]
  },
  {
   "cell_type": "markdown",
   "metadata": {},
   "source": [
    "### Which officers have the highest betweenness?\n",
    "\n",
    "$betweenness(v) = \\sum_{s, t \\in V} \\frac{\\sigma_{st}(v)}{\\sigma_{st}}$\n",
    "\n",
    "The betweenness centrality of a node $v$ is the number of shortest paths that pass through $v$, $\\sigma_{st}(v)$,  divided by the total number of shortest paths, $\\sigma_{st}$."
   ]
  },
  {
   "cell_type": "code",
   "execution_count": 11,
   "metadata": {
    "collapsed": false
   },
   "outputs": [
    {
     "data": {
      "text/plain": [
       "[('Helm Trust Company Limited', 58.5),\n",
       " ('Minerva Services Limited', 57.0),\n",
       " ('Portcullis TrustNet (Samoa) Limited', 47.93333333333334),\n",
       " ('Trustcorp Limited', 24.0),\n",
       " ('HELM MANAGEMENT LIMITED', 19.5)]"
      ]
     },
     "execution_count": 11,
     "metadata": {},
     "output_type": "execute_result"
    }
   ],
   "source": [
    "between = [(node[\"name\"], node.betweenness()) for node in ig.vs]\n",
    "top = sorted(between, key=lambda x: x[1], reverse=True)\n",
    "top[:5]"
   ]
  },
  {
   "cell_type": "markdown",
   "metadata": {},
   "source": [
    "### Community Detection"
   ]
  },
  {
   "cell_type": "code",
   "execution_count": 12,
   "metadata": {
    "collapsed": false
   },
   "outputs": [
    {
     "data": {
      "text/plain": [
       "28"
      ]
     },
     "execution_count": 12,
     "metadata": {},
     "output_type": "execute_result"
    }
   ],
   "source": [
    "clusters = IGraph.community_walktrap(ig, weights=\"weight\")\n",
    "clusters = clusters.as_clustering()\n",
    "len(clusters)"
   ]
  },
  {
   "cell_type": "code",
   "execution_count": 13,
   "metadata": {
    "collapsed": false
   },
   "outputs": [
    {
     "data": {
      "text/plain": [
       "[{'group': 0, 'id': 0, 'label': 'BOS NOMINEES (JERSEY) LIMITED'},\n",
       " {'group': 0, 'id': 1, 'label': 'BOS SECRETARIES (JERSEY) LIMITED'},\n",
       " {'group': 1, 'id': 2, 'label': 'BROCK NOMINEES LIMITED'},\n",
       " {'group': 1, 'id': 3, 'label': 'TENBY NOMINEES LIMITED'},\n",
       " {'group': 2, 'id': 4, 'label': 'INTERCON LIMITED'}]"
      ]
     },
     "execution_count": 13,
     "metadata": {},
     "output_type": "execute_result"
    }
   ],
   "source": [
    "nodes = [{\"id\": node.index, \"label\": node[\"name\"]} for node in ig.vs]\n",
    "\n",
    "for node in nodes:\n",
    "    node[\"group\"] = clusters.membership[node[\"id\"]]\n",
    "    \n",
    "nodes[:5]"
   ]
  },
  {
   "cell_type": "code",
   "execution_count": 14,
   "metadata": {
    "collapsed": false
   },
   "outputs": [
    {
     "data": {
      "text/plain": [
       "[{'from': 0, 'to': 1},\n",
       " {'from': 2, 'to': 3},\n",
       " {'from': 4, 'to': 5},\n",
       " {'from': 6, 'to': 7},\n",
       " {'from': 7, 'to': 8}]"
      ]
     },
     "execution_count": 14,
     "metadata": {},
     "output_type": "execute_result"
    }
   ],
   "source": [
    "edges = [{\"from\": x[0], \"to\": x[1]} for x in ig.get_edgelist()]\n",
    "edges[:5]"
   ]
  },
  {
   "cell_type": "code",
   "execution_count": 15,
   "metadata": {
    "collapsed": false
   },
   "outputs": [
    {
     "data": {
      "text/html": [
       "\n",
       "        <iframe\n",
       "            width=\"100%\"\n",
       "            height=\"400\"\n",
       "            src=\"figure/graph-726ad2a5-1e88-44d5-b13a-67f6d2684b30.html\"\n",
       "            frameborder=\"0\"\n",
       "            allowfullscreen\n",
       "        ></iframe>\n",
       "        "
      ],
      "text/plain": [
       "<IPython.lib.display.IFrame at 0x10c7924a8>"
      ]
     },
     "execution_count": 15,
     "metadata": {},
     "output_type": "execute_result"
    }
   ],
   "source": [
    "from scripts.vis import vis_network\n",
    "vis_network(nodes, edges, physics=True)"
   ]
  },
  {
   "cell_type": "markdown",
   "metadata": {},
   "source": [
    "## Graph Visualization"
   ]
  },
  {
   "cell_type": "code",
   "execution_count": 17,
   "metadata": {
    "collapsed": false
   },
   "outputs": [
    {
     "data": {
      "text/html": [
       "<div id=\"graph-b4604d79-dc12-478e-8790-d63999ddd020\"></div>\n",
       "           <script type=\"text/javascript\">\n",
       "           require.config({baseUrl: '/',\n",
       "                             paths: {jgraph: ['nbextensions/jgraph.min', 'https://rawgit.com/patrickfuller/jgraph/master/js/build/jgraph.min']}});\n",
       "           require(['jgraph'], function () {\n",
       "               var $d = $('#graph-b4604d79-dc12-478e-8790-d63999ddd020');\n",
       "               $d.width(600); $d.height(400);\n",
       "               $d.jgraph = jQuery.extend({}, jgraph);\n",
       "               $d.jgraph.create($d, {nodeSize: 2.000000,\n",
       "                                     edgeSize: 0.250000,\n",
       "                                     defaultNodeColor: '0x5bc0de',\n",
       "                                     defaultEdgeColor: '0xaaaaaa',\n",
       "                                     shader: 'basic',\n",
       "                                     z: 100,\n",
       "                                     runOptimization: true,\n",
       "                                     directed: true,\n",
       "                                     showSave: false});\n",
       "               $d.jgraph.draw({\n",
       "    \"edges\": [\n",
       "        { \"source\": 628186, \"target\": 291744 },\n",
       "        { \"source\": 628180, \"target\": 291744 },\n",
       "        { \"source\": 627828, \"target\": 291744 },\n",
       "        { \"source\": 625129, \"target\": 291744 },\n",
       "        { \"source\": 624396, \"target\": 291744 },\n",
       "        { \"source\": 623195, \"target\": 291744 },\n",
       "        { \"source\": 622699, \"target\": 291744 },\n",
       "        { \"source\": 622698, \"target\": 291744 },\n",
       "        { \"source\": 628186, \"target\": 291186 },\n",
       "        { \"source\": 628180, \"target\": 291186 },\n",
       "        { \"source\": 627828, \"target\": 291186 },\n",
       "        { \"source\": 625129, \"target\": 291186 },\n",
       "        { \"source\": 624396, \"target\": 291186 },\n",
       "        { \"source\": 623195, \"target\": 291186 },\n",
       "        { \"source\": 622699, \"target\": 291186 },\n",
       "        { \"source\": 622698, \"target\": 291186 },\n",
       "        { \"source\": 628186, \"target\": 291159 },\n",
       "        { \"source\": 628180, \"target\": 291159 },\n",
       "        { \"source\": 627828, \"target\": 291159 },\n",
       "        { \"source\": 625129, \"target\": 291159 },\n",
       "        { \"source\": 624396, \"target\": 291159 },\n",
       "        { \"source\": 623195, \"target\": 291159 },\n",
       "        { \"source\": 622699, \"target\": 291159 },\n",
       "        { \"source\": 622698, \"target\": 291159 },\n",
       "        { \"source\": 657421, \"target\": 157943 },\n",
       "        { \"source\": 654842, \"target\": 321140 },\n",
       "        { \"source\": 721449, \"target\": 262049 },\n",
       "        { \"source\": 665635, \"target\": 262049 },\n",
       "        { \"source\": 665634, \"target\": 262049 },\n",
       "        { \"source\": 665633, \"target\": 262049 },\n",
       "        { \"source\": 665632, \"target\": 262049 },\n",
       "        { \"source\": 665631, \"target\": 262049 },\n",
       "        { \"source\": 673791, \"target\": 357917 },\n",
       "        { \"source\": 673791, \"target\": 351929 },\n",
       "        { \"source\": 673791, \"target\": 278941 },\n",
       "        { \"source\": 673791, \"target\": 277978 },\n",
       "        { \"source\": 673791, \"target\": 276342 },\n",
       "        { \"source\": 673791, \"target\": 275607 },\n",
       "        { \"source\": 673791, \"target\": 269152 },\n",
       "        { \"source\": 673791, \"target\": 262247 },\n",
       "        { \"source\": 673791, \"target\": 256825 },\n",
       "        { \"source\": 673791, \"target\": 245979 },\n",
       "        { \"source\": 673791, \"target\": 243397 },\n",
       "        { \"source\": 673791, \"target\": 240568 },\n",
       "        { \"source\": 673791, \"target\": 240278 },\n",
       "        { \"source\": 673791, \"target\": 232246 },\n",
       "        { \"source\": 673791, \"target\": 230620 },\n",
       "        { \"source\": 673791, \"target\": 230582 },\n",
       "        { \"source\": 673791, \"target\": 227288 },\n",
       "        { \"source\": 673791, \"target\": 227025 },\n",
       "        { \"source\": 673791, \"target\": 224874 },\n",
       "        { \"source\": 673791, \"target\": 224162 },\n",
       "        { \"source\": 673791, \"target\": 224120 },\n",
       "        { \"source\": 673791, \"target\": 223441 },\n",
       "        { \"source\": 673791, \"target\": 222766 },\n",
       "        { \"source\": 673791, \"target\": 216680 },\n",
       "        { \"source\": 673791, \"target\": 216143 },\n",
       "        { \"source\": 673791, \"target\": 213971 },\n",
       "        { \"source\": 673791, \"target\": 207384 },\n",
       "        { \"source\": 692617, \"target\": 360228 },\n",
       "        { \"source\": 688804, \"target\": 360228 },\n",
       "        { \"source\": 688798, \"target\": 360228 },\n",
       "        { \"source\": 688797, \"target\": 360228 },\n",
       "        { \"source\": 688794, \"target\": 360228 },\n",
       "        { \"source\": 688737, \"target\": 360228 },\n",
       "        { \"source\": 673757, \"target\": 360228 },\n",
       "        { \"source\": 673756, \"target\": 360228 },\n",
       "        { \"source\": 673755, \"target\": 360228 },\n",
       "        { \"source\": 673754, \"target\": 360228 },\n",
       "        { \"source\": 692617, \"target\": 199722 },\n",
       "        { \"source\": 688804, \"target\": 199722 },\n",
       "        { \"source\": 688798, \"target\": 199722 },\n",
       "        { \"source\": 688797, \"target\": 199722 },\n",
       "        { \"source\": 688794, \"target\": 199722 },\n",
       "        { \"source\": 688737, \"target\": 199722 },\n",
       "        { \"source\": 673757, \"target\": 199722 },\n",
       "        { \"source\": 673756, \"target\": 199722 },\n",
       "        { \"source\": 673755, \"target\": 199722 },\n",
       "        { \"source\": 673754, \"target\": 199722 },\n",
       "        { \"source\": 731489, \"target\": 330771 },\n",
       "        { \"source\": 729540, \"target\": 330771 },\n",
       "        { \"source\": 719174, \"target\": 330771 },\n",
       "        { \"source\": 709835, \"target\": 330771 },\n",
       "        { \"source\": 709729, \"target\": 330771 },\n",
       "        { \"source\": 709724, \"target\": 330771 },\n",
       "        { \"source\": 709723, \"target\": 330771 },\n",
       "        { \"source\": 709722, \"target\": 330771 },\n",
       "        { \"source\": 709721, \"target\": 330771 },\n",
       "        { \"source\": 709720, \"target\": 330771 },\n",
       "        { \"source\": 709717, \"target\": 330771 },\n",
       "        { \"source\": 709716, \"target\": 330771 },\n",
       "        { \"source\": 709714, \"target\": 330771 },\n",
       "        { \"source\": 708475, \"target\": 330771 },\n",
       "        { \"source\": 708473, \"target\": 330771 },\n",
       "        { \"source\": 708424, \"target\": 330771 },\n",
       "        { \"source\": 708301, \"target\": 330771 },\n",
       "        { \"source\": 708112, \"target\": 330771 },\n",
       "        { \"source\": 708076, \"target\": 330771 },\n",
       "        { \"source\": 708075, \"target\": 330771 },\n",
       "        { \"source\": 708074, \"target\": 330771 }\n",
       "    ],\n",
       "    \"nodes\": {\n",
       "        \"157943\": { \"location\": [ 2.000, 2.000, 2.000 ] },\n",
       "        \"199722\": { \"location\": [ -2.000, -2.000, -2.000 ] },\n",
       "        \"207384\": { \"location\": [ -2.000, -2.000, -2.000 ] },\n",
       "        \"213971\": { \"location\": [ 2.000, 2.000, 2.000 ] },\n",
       "        \"216143\": { \"location\": [ 2.000, 2.000, 2.000 ] },\n",
       "        \"216680\": { \"location\": [ 2.000, 2.000, 2.000 ] },\n",
       "        \"222766\": { \"location\": [ -2.000, -2.000, -2.000 ] },\n",
       "        \"223441\": { \"location\": [ 2.000, 2.000, 2.000 ] },\n",
       "        \"224120\": { \"location\": [ 2.000, 2.000, 2.000 ] },\n",
       "        \"224162\": { \"location\": [ 2.000, 2.000, 2.000 ] },\n",
       "        \"224874\": { \"location\": [ 2.000, 2.000, 2.000 ] },\n",
       "        \"227025\": { \"location\": [ 2.000, 2.000, 2.000 ] },\n",
       "        \"227288\": { \"location\": [ -2.000, -2.000, -2.000 ] },\n",
       "        \"230582\": { \"location\": [ 2.000, 2.000, 2.000 ] },\n",
       "        \"230620\": { \"location\": [ 2.000, 2.000, 2.000 ] },\n",
       "        \"232246\": { \"location\": [ -2.000, -2.000, -2.000 ] },\n",
       "        \"240278\": { \"location\": [ -2.000, -2.000, -2.000 ] },\n",
       "        \"240568\": { \"location\": [ -2.000, -2.000, -2.000 ] },\n",
       "        \"243397\": { \"location\": [ -2.000, -0.886, 0.509 ] },\n",
       "        \"245979\": { \"location\": [ 2.000, 2.000, 2.000 ] },\n",
       "        \"256825\": { \"location\": [ -2.000, -2.000, -2.000 ] },\n",
       "        \"262049\": { \"location\": [ -2.000, -2.000, -2.000 ] },\n",
       "        \"262247\": { \"location\": [ 2.000, 2.000, 2.000 ] },\n",
       "        \"269152\": { \"location\": [ 2.000, 2.000, 2.000 ] },\n",
       "        \"275607\": { \"location\": [ -2.000, -2.000, -2.000 ] },\n",
       "        \"276342\": { \"location\": [ 2.000, 2.000, 2.000 ] },\n",
       "        \"277978\": { \"location\": [ 2.000, 2.000, 2.000 ] },\n",
       "        \"278941\": { \"location\": [ -2.000, -2.000, -2.000 ] },\n",
       "        \"291159\": { \"location\": [ 2.000, 2.000, 2.000 ] },\n",
       "        \"291186\": { \"location\": [ 2.000, 2.000, 2.000 ] },\n",
       "        \"291744\": { \"location\": [ -2.000, -2.000, -2.000 ] },\n",
       "        \"321140\": { \"location\": [ -2.000, -2.000, -2.000 ] },\n",
       "        \"330771\": { \"location\": [ -2.000, -2.000, -2.000 ] },\n",
       "        \"351929\": { \"location\": [ -2.000, -2.000, -2.000 ] },\n",
       "        \"357917\": { \"location\": [ -2.000, -2.000, -2.000 ] },\n",
       "        \"360228\": { \"location\": [ -2.000, -2.000, -2.000 ] },\n",
       "        \"622698\": { \"location\": [ 2.000, 2.000, 2.000 ] },\n",
       "        \"622699\": { \"location\": [ -2.000, -2.000, -2.000 ] },\n",
       "        \"623195\": { \"location\": [ -0.802, -2.000, -2.000 ] },\n",
       "        \"624396\": { \"location\": [ -2.000, -2.000, -2.000 ] },\n",
       "        \"625129\": { \"location\": [ 2.000, 2.000, 2.000 ] },\n",
       "        \"627828\": { \"location\": [ -2.000, -2.000, -2.000 ] },\n",
       "        \"628180\": { \"location\": [ 2.000, 2.000, 2.000 ] },\n",
       "        \"628186\": { \"location\": [ -2.000, -2.000, -2.000 ] },\n",
       "        \"654842\": { \"location\": [ 2.000, 2.000, 2.000 ] },\n",
       "        \"657421\": { \"location\": [ -2.000, -2.000, -2.000 ] },\n",
       "        \"665631\": { \"location\": [ -2.000, -2.000, -2.000 ] },\n",
       "        \"665632\": { \"location\": [ -2.000, -2.000, -1.974 ] },\n",
       "        \"665633\": { \"location\": [ 2.000, -0.810, 1.127 ] },\n",
       "        \"665634\": { \"location\": [ -2.000, -2.000, -2.000 ] },\n",
       "        \"665635\": { \"location\": [ -2.000, -2.000, -2.000 ] },\n",
       "        \"673754\": { \"location\": [ 2.000, 2.000, 2.000 ] },\n",
       "        \"673755\": { \"location\": [ 2.000, 2.000, 2.000 ] },\n",
       "        \"673756\": { \"location\": [ 2.000, 2.000, 2.000 ] },\n",
       "        \"673757\": { \"location\": [ 2.000, 2.000, 2.000 ] },\n",
       "        \"673791\": { \"location\": [ -2.000, -2.000, -2.000 ] },\n",
       "        \"688737\": { \"location\": [ 2.000, 2.000, 2.000 ] },\n",
       "        \"688794\": { \"location\": [ -2.000, -2.000, -2.000 ] },\n",
       "        \"688797\": { \"location\": [ -2.000, -2.000, -2.000 ] },\n",
       "        \"688798\": { \"location\": [ -2.000, -2.000, -2.000 ] },\n",
       "        \"688804\": { \"location\": [ 2.000, 2.000, 2.000 ] },\n",
       "        \"692617\": { \"location\": [ -2.000, -2.000, -2.000 ] },\n",
       "        \"708074\": { \"location\": [ 2.000, 2.000, 2.000 ] },\n",
       "        \"708075\": { \"location\": [ -2.000, -2.000, -2.000 ] },\n",
       "        \"708076\": { \"location\": [ 2.000, 2.000, 2.000 ] },\n",
       "        \"708112\": { \"location\": [ -2.000, -2.000, -2.000 ] },\n",
       "        \"708301\": { \"location\": [ 2.000, 2.000, 2.000 ] },\n",
       "        \"708424\": { \"location\": [ 2.000, 2.000, 2.000 ] },\n",
       "        \"708473\": { \"location\": [ -2.000, -2.000, -2.000 ] },\n",
       "        \"708475\": { \"location\": [ 2.000, 2.000, 2.000 ] },\n",
       "        \"709714\": { \"location\": [ 2.000, 2.000, 2.000 ] },\n",
       "        \"709716\": { \"location\": [ 2.000, 2.000, 2.000 ] },\n",
       "        \"709717\": { \"location\": [ 2.000, 2.000, 2.000 ] },\n",
       "        \"709720\": { \"location\": [ 2.000, 2.000, 2.000 ] },\n",
       "        \"709721\": { \"location\": [ 2.000, 2.000, 2.000 ] },\n",
       "        \"709722\": { \"location\": [ -2.000, -2.000, -2.000 ] },\n",
       "        \"709723\": { \"location\": [ -2.000, -2.000, -2.000 ] },\n",
       "        \"709724\": { \"location\": [ 2.000, 2.000, 2.000 ] },\n",
       "        \"709729\": { \"location\": [ -2.000, -2.000, -2.000 ] },\n",
       "        \"709835\": { \"location\": [ 2.000, 2.000, 2.000 ] },\n",
       "        \"719174\": { \"location\": [ 0.349, -0.465, -0.373 ] },\n",
       "        \"721449\": { \"location\": [ -2.000, -2.000, -2.000 ] },\n",
       "        \"729540\": { \"location\": [ -1.195, -2.000, -0.668 ] },\n",
       "        \"731489\": { \"location\": [ -2.000, -2.000, -2.000 ] }\n",
       "    }\n",
       "});\n",
       "\n",
       "               $d.resizable({\n",
       "                   aspectRatio: 600 / 400,\n",
       "                   resize: function (evt, ui) {\n",
       "                       $d.jgraph.renderer.setSize(ui.size.width,\n",
       "                                                  ui.size.height);\n",
       "                   }\n",
       "               });\n",
       "           });\n",
       "           </script>"
      ],
      "text/plain": [
       "<IPython.core.display.HTML object>"
      ]
     },
     "metadata": {},
     "output_type": "display_data"
    }
   ],
   "source": [
    "import jgraph\n",
    "\n",
    "query = \"\"\"\n",
    "MATCH (off:Officer)-[:REGISTERED_ADDRESS]->(:Address)<-[:REGISTERED_ADDRESS]-(ent:Entity)\n",
    "RETURN id(off), id(ent)\n",
    "LIMIT 100\n",
    "\"\"\"\n",
    "\n",
    "data = graph.run(query)\n",
    "tup = [tuple(x) for x in data]\n",
    "\n",
    "jgraph.draw(tup)"
   ]
  }
 ],
 "metadata": {
  "kernelspec": {
   "display_name": "Python 3",
   "language": "python",
   "name": "python3"
  },
  "language_info": {
   "codemirror_mode": {
    "name": "ipython",
    "version": 3
   },
   "file_extension": ".py",
   "mimetype": "text/x-python",
   "name": "python",
   "nbconvert_exporter": "python",
   "pygments_lexer": "ipython3",
   "version": "3.5.0"
  }
 },
 "nbformat": 4,
 "nbformat_minor": 0
}
