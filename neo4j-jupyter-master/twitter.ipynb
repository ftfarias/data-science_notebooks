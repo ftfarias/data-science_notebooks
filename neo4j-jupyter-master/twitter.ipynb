{
 "cells": [
  {
   "cell_type": "markdown",
   "metadata": {
    "slideshow": {
     "slide_type": "slide"
    }
   },
   "source": [
    "# Example Project\n",
    "\n",
    "We're going to import Twitter data into Neo4j and then do various analysis on top of this dataset including plotting, graph algorithms, and graph visualizations.\n",
    "\n",
    "* Import\n",
    "* Plotting / Charting\n",
    "* Graph Algorithms\n",
    "* Graph Visualization"
   ]
  },
  {
   "cell_type": "markdown",
   "metadata": {
    "slideshow": {
     "slide_type": "slide"
    }
   },
   "source": [
    "# Import\n",
    "\n",
    "The script for importing data from Twitter's API is in [`scripts/twitter.py`](https://github.com/nicolewhite/neo4j-jupyter/blob/master/scripts/twitter.py). This was used to upload tweets that contained either the words \"ddtx16\" or \"datadaytexas\" to Neo4j."
   ]
  },
  {
   "cell_type": "markdown",
   "metadata": {
    "slideshow": {
     "slide_type": "subslide"
    }
   },
   "source": [
    "## Packages"
   ]
  },
  {
   "cell_type": "code",
   "execution_count": 2,
   "metadata": {
    "collapsed": true,
    "slideshow": {
     "slide_type": "fragment"
    }
   },
   "outputs": [],
   "source": [
    "import os\n",
    "import sys\n",
    "import time\n",
    "import requests\n",
    "from py2neo import Graph, Node, Relationship"
   ]
  },
  {
   "cell_type": "markdown",
   "metadata": {
    "slideshow": {
     "slide_type": "subslide"
    }
   },
   "source": [
    "## Uniqueness Constraints\n",
    "\n",
    "Neo4j supports uniqueness constraints on given label, property pairs."
   ]
  },
  {
   "cell_type": "code",
   "execution_count": null,
   "metadata": {
    "collapsed": false,
    "slideshow": {
     "slide_type": "fragment"
    }
   },
   "outputs": [],
   "source": [
    "graph = Graph()\n",
    "\n",
    "graph.run(\"CREATE CONSTRAINT ON (u:User) ASSERT u.username IS UNIQUE\")\n",
    "graph.run(\"CREATE CONSTRAINT ON (t:Tweet) ASSERT t.id IS UNIQUE\")\n",
    "graph.run(\"CREATE CONSTRAINT ON (h:Hashtag) ASSERT h.name IS UNIQUE\")"
   ]
  },
  {
   "cell_type": "markdown",
   "metadata": {
    "slideshow": {
     "slide_type": "subslide"
    }
   },
   "source": [
    "## Twitter API"
   ]
  },
  {
   "cell_type": "code",
   "execution_count": null,
   "metadata": {
    "collapsed": true,
    "slideshow": {
     "slide_type": "fragment"
    }
   },
   "outputs": [],
   "source": [
    "TWITTER_BEARER = os.environ[\"TWITTER_BEARER\"]\n",
    "\n",
    "headers = dict(accept=\"application/json\", Authorization=\"Bearer \" + TWITTER_BEARER)\n",
    "\n",
    "payload = dict(\n",
    "    count=100,\n",
    "    result_type=\"recent\",\n",
    "    lang=\"en\",\n",
    "    q=sys.argv[1]\n",
    ")\n",
    "\n",
    "base_url = \"https://api.twitter.com/1.1/search/tweets.json?\""
   ]
  },
  {
   "cell_type": "markdown",
   "metadata": {
    "slideshow": {
     "slide_type": "subslide"
    }
   },
   "source": [
    "## Find Tweets"
   ]
  },
  {
   "cell_type": "code",
   "execution_count": 9,
   "metadata": {
    "collapsed": true,
    "slideshow": {
     "slide_type": "fragment"
    }
   },
   "outputs": [],
   "source": [
    "def find_tweets(since_id):\n",
    "    payload[\"since_id\"] = since_id\n",
    "    url = base_url + \"q={q}&count={count}&result_type={result_type}&lang={lang}&since_id={since_id}\".format(**payload)\n",
    "\n",
    "    r = requests.get(url, headers=headers)\n",
    "    tweets = r.json()[\"statuses\"]\n",
    "\n",
    "    return tweets"
   ]
  },
  {
   "cell_type": "markdown",
   "metadata": {
    "slideshow": {
     "slide_type": "subslide"
    }
   },
   "source": [
    "## Upload Tweets to Neo4j"
   ]
  },
  {
   "cell_type": "code",
   "execution_count": 11,
   "metadata": {
    "collapsed": true,
    "slideshow": {
     "slide_type": "fragment"
    }
   },
   "outputs": [],
   "source": [
    "def upload_tweets(tweets):\n",
    "    for t in tweets:\n",
    "        u = t[\"user\"]\n",
    "        e = t[\"entities\"]\n",
    "\n",
    "        tweet = Node(\"Tweet\", id=t[\"id\"])\n",
    "        graph.merge(tweet)\n",
    "        tweet[\"text\"] = t[\"text\"]\n",
    "        tweet.push()\n",
    "\n",
    "        user = Node(\"User\", username=u[\"screen_name\"])\n",
    "        graph.merge(user)\n",
    "\n",
    "        graph.merge(Relationship(user, \"POSTS\", tweet))\n",
    "\n",
    "        for h in e.get(\"hashtags\", []):\n",
    "            hashtag = Node(\"Hashtag\", name=h[\"text\"].lower())\n",
    "            graph.merge(hashtag)\n",
    "            graph.merge(Relationship(hashtag, \"TAGS\", tweet))\n",
    "\n",
    "        for m in e.get('user_mentions', []):\n",
    "            mention = Node(\"User\", username=m[\"screen_name\"])\n",
    "            graph.merge(mention)\n",
    "            graph.merge(Relationship(tweet, \"MENTIONS\", mention))\n",
    "\n",
    "        reply = t.get(\"in_reply_to_status_id\")\n",
    "\n",
    "        if reply:\n",
    "            reply_tweet = Node(\"Tweet\", id=reply)\n",
    "            graph.merge(reply_tweet)\n",
    "            graph.merge(Relationship(tweet, \"REPLY_TO\", reply_tweet))\n",
    "\n",
    "        ret = t.get(\"retweeted_status\", {}).get(\"id\")\n",
    "\n",
    "        if ret:\n",
    "            retweet = Node(\"Tweet\", id=ret)\n",
    "            graph.merge(retweet)\n",
    "            graph.merge(Relationship(tweet, \"RETWEETS\", retweet))"
   ]
  },
  {
   "cell_type": "markdown",
   "metadata": {
    "slideshow": {
     "slide_type": "subslide"
    }
   },
   "source": [
    "## Run It!"
   ]
  },
  {
   "cell_type": "code",
   "execution_count": null,
   "metadata": {
    "collapsed": true,
    "slideshow": {
     "slide_type": "fragment"
    }
   },
   "outputs": [],
   "source": [
    "since_id = -1\n",
    "\n",
    "while True:\n",
    "    try:\n",
    "        tweets = find_tweets(since_id=since_id)\n",
    "\n",
    "        if not tweets:\n",
    "            print(\"No tweets found.\")\n",
    "            time.sleep(60)\n",
    "            continue\n",
    "\n",
    "        since_id = tweets[0].get(\"id\")\n",
    "        upload_tweets(tweets)\n",
    "\n",
    "        print(\"{} tweets uploaded!\".format(len(tweets)))\n",
    "        time.sleep(60)\n",
    "\n",
    "    except Exception as e:\n",
    "        print(e)\n",
    "        time.sleep(60)\n",
    "        continue"
   ]
  },
  {
   "cell_type": "markdown",
   "metadata": {
    "slideshow": {
     "slide_type": "subslide"
    }
   },
   "source": [
    "## Visualize the Model"
   ]
  },
  {
   "cell_type": "code",
   "execution_count": 4,
   "metadata": {
    "collapsed": false,
    "slideshow": {
     "slide_type": "fragment"
    }
   },
   "outputs": [
    {
     "data": {
      "text/html": [
       "\n",
       "        <iframe\n",
       "            width=\"100%\"\n",
       "            height=\"400\"\n",
       "            src=\"figure/graph-fbdf3626-9756-4ee2-bbe2-16969a9e2aaa.html\"\n",
       "            frameborder=\"0\"\n",
       "            allowfullscreen\n",
       "        ></iframe>\n",
       "        "
      ],
      "text/plain": [
       "<IPython.lib.display.IFrame at 0x10831fb70>"
      ]
     },
     "execution_count": 4,
     "metadata": {},
     "output_type": "execute_result"
    }
   ],
   "source": [
    "from scripts.vis import draw\n",
    "options = {\"User\": \"username\", \"Hashtag\": \"name\"}\n",
    "\n",
    "draw(graph, options, physics=True, limit=30)"
   ]
  },
  {
   "cell_type": "markdown",
   "metadata": {
    "slideshow": {
     "slide_type": "slide"
    }
   },
   "source": [
    "# Plotting\n",
    "\n",
    "Let's gather some basic insights by creating `plotly` charts."
   ]
  },
  {
   "cell_type": "markdown",
   "metadata": {
    "slideshow": {
     "slide_type": "subslide"
    }
   },
   "source": [
    "## Packages"
   ]
  },
  {
   "cell_type": "code",
   "execution_count": 5,
   "metadata": {
    "collapsed": false,
    "slideshow": {
     "slide_type": "fragment"
    }
   },
   "outputs": [],
   "source": [
    "%load_ext cypher\n",
    "import plotly.plotly as py\n",
    "from plotly.graph_objs import *"
   ]
  },
  {
   "cell_type": "markdown",
   "metadata": {
    "slideshow": {
     "slide_type": "subslide"
    }
   },
   "source": [
    "## What are the top hashtags?\n",
    "\n",
    "Find hashtags ordered by the number of tweets they've tagged."
   ]
  },
  {
   "cell_type": "code",
   "execution_count": 24,
   "metadata": {
    "collapsed": false,
    "slideshow": {
     "slide_type": "fragment"
    }
   },
   "outputs": [
    {
     "name": "stdout",
     "output_type": "stream",
     "text": [
      "5 rows affected.\n"
     ]
    },
    {
     "data": {
      "text/html": [
       "<div>\n",
       "<table border=\"1\" class=\"dataframe\">\n",
       "  <thead>\n",
       "    <tr style=\"text-align: right;\">\n",
       "      <th></th>\n",
       "      <th>hashtag</th>\n",
       "      <th>tweets</th>\n",
       "    </tr>\n",
       "  </thead>\n",
       "  <tbody>\n",
       "    <tr>\n",
       "      <th>0</th>\n",
       "      <td>datascience</td>\n",
       "      <td>18</td>\n",
       "    </tr>\n",
       "    <tr>\n",
       "      <th>1</th>\n",
       "      <td>r</td>\n",
       "      <td>5</td>\n",
       "    </tr>\n",
       "    <tr>\n",
       "      <th>2</th>\n",
       "      <td>abdsc</td>\n",
       "      <td>3</td>\n",
       "    </tr>\n",
       "    <tr>\n",
       "      <th>3</th>\n",
       "      <td>python</td>\n",
       "      <td>3</td>\n",
       "    </tr>\n",
       "    <tr>\n",
       "      <th>4</th>\n",
       "      <td>predictiveanalytics</td>\n",
       "      <td>2</td>\n",
       "    </tr>\n",
       "  </tbody>\n",
       "</table>\n",
       "</div>"
      ],
      "text/plain": [
       "               hashtag  tweets\n",
       "0          datascience      18\n",
       "1                    r       5\n",
       "2                abdsc       3\n",
       "3               python       3\n",
       "4  predictiveanalytics       2"
      ]
     },
     "execution_count": 24,
     "metadata": {},
     "output_type": "execute_result"
    }
   ],
   "source": [
    "result = %cypher MATCH (hashtag:Hashtag)-[:TAGS]->(tweet:Tweet)         \\\n",
    "                 WHERE hashtag.name <> 'rstats'                         \\\n",
    "                 RETURN hashtag.name AS hashtag, count(tweet) AS tweets \\\n",
    "                 ORDER BY tweets DESC LIMIT 5\n",
    "        \n",
    "df = result.get_dataframe()\n",
    "df.head()"
   ]
  },
  {
   "cell_type": "code",
   "execution_count": 25,
   "metadata": {
    "collapsed": false,
    "slideshow": {
     "slide_type": "subslide"
    }
   },
   "outputs": [
    {
     "data": {
      "image/png": "[encoded data removed]",
      "text/plain": [
       "<IPython.core.display.Image object>"
      ]
     },
     "metadata": {},
     "output_type": "display_data"
    }
   ],
   "source": [
    "data = Data([Bar(x=df[\"hashtag\"], y=df[\"tweets\"])])\n",
    "\n",
    "py.image.ishow({'data': data})"
   ]
  },
  {
   "cell_type": "markdown",
   "metadata": {
    "slideshow": {
     "slide_type": "subslide"
    }
   },
   "source": [
    "## What's the hashtag and mention count distribution?"
   ]
  },
  {
   "cell_type": "code",
   "execution_count": 26,
   "metadata": {
    "collapsed": false,
    "slideshow": {
     "slide_type": "fragment"
    }
   },
   "outputs": [
    {
     "name": "stdout",
     "output_type": "stream",
     "text": [
      "63 rows affected.\n"
     ]
    },
    {
     "data": {
      "text/html": [
       "<div>\n",
       "<table border=\"1\" class=\"dataframe\">\n",
       "  <thead>\n",
       "    <tr style=\"text-align: right;\">\n",
       "      <th></th>\n",
       "      <th>hashtags</th>\n",
       "      <th>mentions</th>\n",
       "    </tr>\n",
       "  </thead>\n",
       "  <tbody>\n",
       "    <tr>\n",
       "      <th>0</th>\n",
       "      <td>0</td>\n",
       "      <td>0</td>\n",
       "    </tr>\n",
       "    <tr>\n",
       "      <th>1</th>\n",
       "      <td>1</td>\n",
       "      <td>2</td>\n",
       "    </tr>\n",
       "    <tr>\n",
       "      <th>2</th>\n",
       "      <td>0</td>\n",
       "      <td>0</td>\n",
       "    </tr>\n",
       "    <tr>\n",
       "      <th>3</th>\n",
       "      <td>1</td>\n",
       "      <td>0</td>\n",
       "    </tr>\n",
       "    <tr>\n",
       "      <th>4</th>\n",
       "      <td>2</td>\n",
       "      <td>1</td>\n",
       "    </tr>\n",
       "  </tbody>\n",
       "</table>\n",
       "</div>"
      ],
      "text/plain": [
       "   hashtags  mentions\n",
       "0         0         0\n",
       "1         1         2\n",
       "2         0         0\n",
       "3         1         0\n",
       "4         2         1"
      ]
     },
     "execution_count": 26,
     "metadata": {},
     "output_type": "execute_result"
    }
   ],
   "source": [
    "result = %cypher MATCH (tweet:Tweet)                                   \\\n",
    "                 RETURN tweet.id,                                      \\\n",
    "                        size((:Hashtag)-[:TAGS]->(tweet)) AS hashtags, \\\n",
    "                        size((tweet)-[:MENTIONS]->(:User)) AS mentions\n",
    "            \n",
    "df = result.get_dataframe()\n",
    "del df[\"tweet.id\"]\n",
    "df.head()"
   ]
  },
  {
   "cell_type": "code",
   "execution_count": 27,
   "metadata": {
    "collapsed": false,
    "slideshow": {
     "slide_type": "subslide"
    }
   },
   "outputs": [
    {
     "data": {
      "image/png": "[encoded data removed]",
      "text/plain": [
       "<IPython.core.display.Image object>"
      ]
     },
     "metadata": {},
     "output_type": "display_data"
    }
   ],
   "source": [
    "hashtags = Histogram(x=df[\"hashtags\"], opacity=0.75, name=\"Hashtags\")\n",
    "mentions = Histogram(x=df[\"mentions\"], opacity=0.75, name=\"Mentions\")\n",
    "data = Data([hashtags, mentions])\n",
    "layout = Layout(barmode=\"overlay\")\n",
    "fig = Figure(data=data, layout=layout)\n",
    "\n",
    "py.image.ishow(fig)"
   ]
  },
  {
   "cell_type": "markdown",
   "metadata": {
    "slideshow": {
     "slide_type": "subslide"
    }
   },
   "source": [
    "## Heatmap of hashtag co-occurrence"
   ]
  },
  {
   "cell_type": "code",
   "execution_count": 28,
   "metadata": {
    "collapsed": false,
    "slideshow": {
     "slide_type": "fragment"
    }
   },
   "outputs": [
    {
     "name": "stdout",
     "output_type": "stream",
     "text": [
      "27 rows affected.\n"
     ]
    },
    {
     "data": {
      "text/html": [
       "<div>\n",
       "<table border=\"1\" class=\"dataframe\">\n",
       "  <thead>\n",
       "    <tr style=\"text-align: right;\">\n",
       "      <th></th>\n",
       "      <th>h1.name</th>\n",
       "      <th>h2.name</th>\n",
       "      <th>weight</th>\n",
       "    </tr>\n",
       "  </thead>\n",
       "  <tbody>\n",
       "    <tr>\n",
       "      <th>0</th>\n",
       "      <td>distributedsystems</td>\n",
       "      <td>java</td>\n",
       "      <td>3</td>\n",
       "    </tr>\n",
       "    <tr>\n",
       "      <th>1</th>\n",
       "      <td>abdsc</td>\n",
       "      <td>datascience</td>\n",
       "      <td>3</td>\n",
       "    </tr>\n",
       "    <tr>\n",
       "      <th>2</th>\n",
       "      <td>java</td>\n",
       "      <td>python</td>\n",
       "      <td>3</td>\n",
       "    </tr>\n",
       "    <tr>\n",
       "      <th>3</th>\n",
       "      <td>datascience</td>\n",
       "      <td>r</td>\n",
       "      <td>2</td>\n",
       "    </tr>\n",
       "    <tr>\n",
       "      <th>4</th>\n",
       "      <td>java</td>\n",
       "      <td>spark</td>\n",
       "      <td>3</td>\n",
       "    </tr>\n",
       "  </tbody>\n",
       "</table>\n",
       "</div>"
      ],
      "text/plain": [
       "              h1.name      h2.name  weight\n",
       "0  distributedsystems         java       3\n",
       "1               abdsc  datascience       3\n",
       "2                java       python       3\n",
       "3         datascience            r       2\n",
       "4                java        spark       3"
      ]
     },
     "execution_count": 28,
     "metadata": {},
     "output_type": "execute_result"
    }
   ],
   "source": [
    "result = %cypher MATCH (h:Hashtag)                           \\\n",
    "                 WHERE h.name <> \"rstats\"                    \\\n",
    "                 WITH h, size((h)-[:TAGS]->(:Tweet)) AS tags \\\n",
    "                 ORDER BY tags DESC                          \\\n",
    "                 LIMIT 15                                    \\\n",
    "                                                             \\\n",
    "                 WITH collect(h) AS top_hash                 \\\n",
    "                 UNWIND top_hash AS h1                       \\\n",
    "                 UNWIND top_hash AS h2                       \\\n",
    "                                                             \\\n",
    "                 MATCH (h1)-[:TAGS]->(:Tweet)<-[:TAGS]-(h2)  \\\n",
    "                 WHERE h1.name < h2.name                     \\\n",
    "                 RETURN h1.name, h2.name, count(*) AS weight\n",
    "            \n",
    "df = result.get_dataframe()\n",
    "df.head()"
   ]
  },
  {
   "cell_type": "code",
   "execution_count": 29,
   "metadata": {
    "collapsed": false,
    "slideshow": {
     "slide_type": "subslide"
    }
   },
   "outputs": [],
   "source": [
    "names = list(set(list(df[\"h1.name\"]) + list(df[\"h2.name\"])))\n",
    "heat = [[0 for i in range(len(names))] for j in range(len(names))] \n",
    "\n",
    "for idx, row in df.iterrows():\n",
    "    i = names.index(row[\"h1.name\"])\n",
    "    j = names.index(row[\"h2.name\"])\n",
    "    heat[i][j] = row[\"weight\"]"
   ]
  },
  {
   "cell_type": "code",
   "execution_count": 30,
   "metadata": {
    "collapsed": false,
    "slideshow": {
     "slide_type": "subslide"
    }
   },
   "outputs": [
    {
     "data": {
      "image/png": "[encoded data removed]",
      "text/plain": [
       "<IPython.core.display.Image object>"
      ]
     },
     "metadata": {},
     "output_type": "display_data"
    }
   ],
   "source": [
    "import plotly.graph_objs as go\n",
    "\n",
    "data = [go.Heatmap(z = heat, x = names, y = names)]\n",
    "py.image.ishow({'data': data})"
   ]
  },
  {
   "cell_type": "markdown",
   "metadata": {
    "slideshow": {
     "slide_type": "slide"
    }
   },
   "source": [
    "# Graph Algorithms\n",
    "\n",
    "The typical workflow consists of retrieving a subgraph from Neo4j via Cypher and analyzing this graph in `igraph`."
   ]
  },
  {
   "cell_type": "markdown",
   "metadata": {
    "slideshow": {
     "slide_type": "subslide"
    }
   },
   "source": [
    "## A subgraph of users retweeting other users"
   ]
  },
  {
   "cell_type": "code",
   "execution_count": 31,
   "metadata": {
    "collapsed": false,
    "slideshow": {
     "slide_type": "fragment"
    }
   },
   "outputs": [
    {
     "data": {
      "text/plain": [
       "<igraph.Graph at 0x10e4437c8>"
      ]
     },
     "execution_count": 31,
     "metadata": {},
     "output_type": "execute_result"
    }
   ],
   "source": [
    "from igraph import Graph as IGraph\n",
    "\n",
    "query = \"\"\"\n",
    "MATCH (user1:User)-[:POSTS]->(retweet:Tweet)-[:RETWEETS]->(tweet:Tweet),\n",
    "      (user2:User)-[:POSTS]->(tweet)\n",
    "RETURN user1.username, user2.username, count(*) AS weight\n",
    "\"\"\"\n",
    "\n",
    "data = graph.run(query)\n",
    "\n",
    "ig = IGraph.TupleList(data, weights=True)\n",
    "ig"
   ]
  },
  {
   "cell_type": "markdown",
   "metadata": {
    "slideshow": {
     "slide_type": "subslide"
    }
   },
   "source": [
    "### Which users have the highest betweenness?\n",
    "\n",
    "$betweenness(v) = \\sum_{s, t \\in V} \\frac{\\sigma_{st}(v)}{\\sigma_{st}}$\n",
    "\n",
    "The betweenness centrality of a node $v$ is the number of shortest paths that pass through $v$, $\\sigma_{st}(v)$,  divided by the total number of shortest paths, $\\sigma_{st}$."
   ]
  },
  {
   "cell_type": "code",
   "execution_count": 32,
   "metadata": {
    "collapsed": false,
    "slideshow": {
     "slide_type": "fragment"
    }
   },
   "outputs": [
    {
     "data": {
      "text/plain": [
       "[('revodavid', 10.0),\n",
       " ('Rbloggers', 6.0),\n",
       " ('raymondpeck3', 1.0),\n",
       " ('kuanhoong', 0.0),\n",
       " ('ozjimbob', 0.0)]"
      ]
     },
     "execution_count": 32,
     "metadata": {},
     "output_type": "execute_result"
    }
   ],
   "source": [
    "between = [(node[\"name\"], node.betweenness()) for node in ig.vs]\n",
    "top = sorted(between, key=lambda x: x[1], reverse=True)\n",
    "top[:5]"
   ]
  },
  {
   "cell_type": "markdown",
   "metadata": {
    "slideshow": {
     "slide_type": "subslide"
    }
   },
   "source": [
    "### Which users have the highest closeness?\n",
    "\n",
    "$closeness(v) = \\frac{1}{\\sum_{x} d(v, x)}$\n",
    "\n",
    "The closeness centrality is the reciprocal of a node's farness, or sum of its shortest path distances from all other nodes in the graph."
   ]
  },
  {
   "cell_type": "code",
   "execution_count": 33,
   "metadata": {
    "collapsed": false,
    "slideshow": {
     "slide_type": "fragment"
    }
   },
   "outputs": [
    {
     "data": {
      "text/plain": [
       "[('revodavid', 0.09090909090909091),\n",
       " ('kuanhoong', 0.08875739644970414),\n",
       " ('josefslerka', 0.08875739644970414),\n",
       " ('permutans', 0.08875739644970414),\n",
       " ('HoloMarkeD', 0.08875739644970414)]"
      ]
     },
     "execution_count": 33,
     "metadata": {},
     "output_type": "execute_result"
    }
   ],
   "source": [
    "close = [(node[\"name\"], node.closeness()) for node in ig.vs]\n",
    "top = sorted(close, key=lambda x: x[1], reverse=True)\n",
    "top[:5]"
   ]
  },
  {
   "cell_type": "markdown",
   "metadata": {
    "slideshow": {
     "slide_type": "subslide"
    }
   },
   "source": [
    "### Community detection"
   ]
  },
  {
   "cell_type": "code",
   "execution_count": 39,
   "metadata": {
    "collapsed": false,
    "slideshow": {
     "slide_type": "fragment"
    }
   },
   "outputs": [
    {
     "data": {
      "text/plain": [
       "4"
      ]
     },
     "execution_count": 39,
     "metadata": {},
     "output_type": "execute_result"
    }
   ],
   "source": [
    "clusters = IGraph.community_walktrap(ig, weights=\"weight\")\n",
    "clusters = clusters.as_clustering()\n",
    "len(clusters)"
   ]
  },
  {
   "cell_type": "code",
   "execution_count": 40,
   "metadata": {
    "collapsed": false,
    "slideshow": {
     "slide_type": "subslide"
    }
   },
   "outputs": [
    {
     "data": {
      "text/plain": [
       "[{'group': 0, 'id': 0, 'label': 'kuanhoong'},\n",
       " {'group': 0, 'id': 1, 'label': 'revodavid'},\n",
       " {'group': 1, 'id': 2, 'label': 'ozjimbob'},\n",
       " {'group': 1, 'id': 3, 'label': 'Rbloggers'},\n",
       " {'group': 0, 'id': 4, 'label': 'josefslerka'}]"
      ]
     },
     "execution_count": 40,
     "metadata": {},
     "output_type": "execute_result"
    }
   ],
   "source": [
    "nodes = [{\"id\": node.index, \"label\": node[\"name\"]} for node in ig.vs]\n",
    "\n",
    "for node in nodes:\n",
    "    node[\"group\"] = clusters.membership[node[\"id\"]]\n",
    "    \n",
    "nodes[:5]"
   ]
  },
  {
   "cell_type": "code",
   "execution_count": 41,
   "metadata": {
    "collapsed": false,
    "slideshow": {
     "slide_type": "subslide"
    }
   },
   "outputs": [
    {
     "data": {
      "text/plain": [
       "[{'from': 0, 'to': 1},\n",
       " {'from': 2, 'to': 3},\n",
       " {'from': 1, 'to': 4},\n",
       " {'from': 5, 'to': 6},\n",
       " {'from': 6, 'to': 7}]"
      ]
     },
     "execution_count": 41,
     "metadata": {},
     "output_type": "execute_result"
    }
   ],
   "source": [
    "edges = [{\"from\": x[0], \"to\": x[1]} for x in ig.get_edgelist()]\n",
    "edges[:5]"
   ]
  },
  {
   "cell_type": "code",
   "execution_count": 42,
   "metadata": {
    "collapsed": false,
    "slideshow": {
     "slide_type": "subslide"
    }
   },
   "outputs": [
    {
     "data": {
      "text/html": [
       "\n",
       "        <iframe\n",
       "            width=\"100%\"\n",
       "            height=\"400\"\n",
       "            src=\"figure/graph-ffa03670-add3-4b9f-9c28-6795b3e2e410.html\"\n",
       "            frameborder=\"0\"\n",
       "            allowfullscreen\n",
       "        ></iframe>\n",
       "        "
      ],
      "text/plain": [
       "<IPython.lib.display.IFrame at 0x10e472a90>"
      ]
     },
     "execution_count": 42,
     "metadata": {},
     "output_type": "execute_result"
    }
   ],
   "source": [
    "from scripts.vis import vis_network\n",
    "vis_network(nodes, edges, physics=True)"
   ]
  },
  {
   "cell_type": "markdown",
   "metadata": {
    "slideshow": {
     "slide_type": "slide"
    }
   },
   "source": [
    "# Graph Visualization"
   ]
  },
  {
   "cell_type": "markdown",
   "metadata": {
    "slideshow": {
     "slide_type": "subslide"
    }
   },
   "source": [
    "## jgraph\n",
    "\n",
    "Let's visualize (in 3D!) the structure of users retweeting and replying to other users."
   ]
  },
  {
   "cell_type": "code",
   "execution_count": 44,
   "metadata": {
    "collapsed": false,
    "slideshow": {
     "slide_type": "subslide"
    }
   },
   "outputs": [
    {
     "data": {
      "text/html": [
       "<div id=\"graph-c2115072-2c1d-4f9a-a5a5-2c23d6dba03d\"></div>\n",
       "           <script type=\"text/javascript\">\n",
       "           require.config({baseUrl: '/',\n",
       "                             paths: {jgraph: ['nbextensions/jgraph.min', 'https://rawgit.com/patrickfuller/jgraph/master/js/build/jgraph.min']}});\n",
       "           require(['jgraph'], function () {\n",
       "               var $d = $('#graph-c2115072-2c1d-4f9a-a5a5-2c23d6dba03d');\n",
       "               $d.width(600); $d.height(400);\n",
       "               $d.jgraph = jQuery.extend({}, jgraph);\n",
       "               $d.jgraph.create($d, {nodeSize: 2.000000,\n",
       "                                     edgeSize: 0.250000,\n",
       "                                     defaultNodeColor: '0x5bc0de',\n",
       "                                     defaultEdgeColor: '0xaaaaaa',\n",
       "                                     shader: 'basic',\n",
       "                                     z: 100,\n",
       "                                     runOptimization: true,\n",
       "                                     directed: true,\n",
       "                                     showSave: false});\n",
       "               $d.jgraph.draw({\n",
       "    \"edges\": [\n",
       "        { \"source\": 7916, \"target\": 7912 },\n",
       "        { \"source\": 7919, \"target\": 7912 },\n",
       "        { \"source\": 7948, \"target\": 7912 },\n",
       "        { \"source\": 7986, \"target\": 7912 },\n",
       "        { \"source\": 7988, \"target\": 7912 },\n",
       "        { \"source\": 7993, \"target\": 7938 },\n",
       "        { \"source\": 8002, \"target\": 7938 },\n",
       "        { \"source\": 8012, \"target\": 7956 },\n",
       "        { \"source\": 8016, \"target\": 7938 },\n",
       "        { \"source\": 8025, \"target\": 7938 },\n",
       "        { \"source\": 8037, \"target\": 8009 },\n",
       "        { \"source\": 8039, \"target\": 8018 },\n",
       "        { \"source\": 8041, \"target\": 8018 },\n",
       "        { \"source\": 8051, \"target\": 8018 }\n",
       "    ],\n",
       "    \"nodes\": {\n",
       "        \"7912\": { \"location\": [ -2.000, -2.000, -2.000 ] },\n",
       "        \"7916\": { \"location\": [ -2.000, -2.000, -2.000 ] },\n",
       "        \"7919\": { \"location\": [ 0.480, 1.159, 1.032 ] },\n",
       "        \"7938\": { \"location\": [ -0.682, -1.273, -1.304 ] },\n",
       "        \"7948\": { \"location\": [ -2.000, -2.000, -2.000 ] },\n",
       "        \"7956\": { \"location\": [ 2.000, 2.000, 2.000 ] },\n",
       "        \"7986\": { \"location\": [ 2.000, 2.000, 2.000 ] },\n",
       "        \"7988\": { \"location\": [ 2.000, 2.000, 2.000 ] },\n",
       "        \"7993\": { \"location\": [ 2.000, 2.000, 2.000 ] },\n",
       "        \"8002\": { \"location\": [ -2.000, -2.000, -2.000 ] },\n",
       "        \"8009\": { \"location\": [ 0.305, 0.661, 0.553 ] },\n",
       "        \"8012\": { \"location\": [ -2.000, -1.883, -2.000 ] },\n",
       "        \"8016\": { \"location\": [ 1.949, 2.000, 1.595 ] },\n",
       "        \"8018\": { \"location\": [ 2.000, 2.000, 2.000 ] },\n",
       "        \"8025\": { \"location\": [ -2.000, -2.000, -2.000 ] },\n",
       "        \"8037\": { \"location\": [ -2.000, -2.000, -2.000 ] },\n",
       "        \"8039\": { \"location\": [ -2.000, -2.000, -2.000 ] },\n",
       "        \"8041\": { \"location\": [ 2.000, 2.000, 2.000 ] },\n",
       "        \"8051\": { \"location\": [ 2.000, 2.000, 2.000 ] }\n",
       "    }\n",
       "});\n",
       "\n",
       "               $d.resizable({\n",
       "                   aspectRatio: 600 / 400,\n",
       "                   resize: function (evt, ui) {\n",
       "                       $d.jgraph.renderer.setSize(ui.size.width,\n",
       "                                                  ui.size.height);\n",
       "                   }\n",
       "               });\n",
       "           });\n",
       "           </script>"
      ],
      "text/plain": [
       "<IPython.core.display.HTML object>"
      ]
     },
     "metadata": {},
     "output_type": "display_data"
    }
   ],
   "source": [
    "import jgraph\n",
    "\n",
    "query = \"\"\"\n",
    "MATCH (user1:User)-[:POSTS]->(:Tweet)-[:RETWEETS|REPLY_TO]->(:Tweet)<-[:POSTS]-(user2:User)\n",
    "RETURN ID(user1), ID(user2)\n",
    "\"\"\"\n",
    "\n",
    "data = graph.run(query)\n",
    "tup = [tuple(x) for x in data]\n",
    "\n",
    "jgraph.draw(tup)"
   ]
  }
 ],
 "metadata": {
  "celltoolbar": "Slideshow",
  "kernelspec": {
   "display_name": "Python 3",
   "language": "python",
   "name": "python3"
  },
  "language_info": {
   "codemirror_mode": {
    "name": "ipython",
    "version": 3
   },
   "file_extension": ".py",
   "mimetype": "text/x-python",
   "name": "python",
   "nbconvert_exporter": "python",
   "pygments_lexer": "ipython3",
   "version": "3.5.0"
  }
 },
 "nbformat": 4,
 "nbformat_minor": 0
}
