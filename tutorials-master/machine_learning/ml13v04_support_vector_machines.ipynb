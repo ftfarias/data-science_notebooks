{
 "cells": [
  {
   "cell_type": "markdown",
   "metadata": {},
   "source": [
    "# Support vector machines (SVMs)"
   ]
  },
  {
   "cell_type": "code",
   "execution_count": null,
   "metadata": {
    "collapsed": false
   },
   "outputs": [],
   "source": [
    "import addutils.toc ; addutils.toc.js(ipy_notebook=True)"
   ]
  },
  {
   "cell_type": "code",
   "execution_count": null,
   "metadata": {
    "collapsed": false
   },
   "outputs": [],
   "source": [
    "import scipy.io\n",
    "import numpy as np\n",
    "import pandas as pd\n",
    "from addutils import css_notebook\n",
    "css_notebook()"
   ]
  },
  {
   "cell_type": "markdown",
   "metadata": {},
   "source": [
    "## 1 Support Vector Machines"
   ]
  },
  {
   "cell_type": "markdown",
   "metadata": {},
   "source": [
    "`Support vector machines (SVMs)` are a set of supervised learning methods used for classification, regression and outliers detection.\n",
    "\n",
    "A SVM constructs a hyper-plane or set of hyper-planes in a high or infinite dimensional space with the largest distance to the nearest training data points of any class **(functional margin)**. In general, the larger the margin the lower the generalization error of the classifier.\n",
    "\n",
    "The **advantages** of support vector machines include:\n",
    "\n",
    "* Effective in **high dimensional spaces**.\n",
    "* Effective in cases where **n Features > n Samples**.\n",
    "* Memory efficient\n",
    "* Versatile: different Kernel functions can be specified for the decision function\n",
    "\n",
    "The **disadvantages** of support vector machines are:\n",
    "\n",
    "* **Low performances when n Features >> n Samples**.\n",
    "* Do not directly provide probability estimates"
   ]
  },
  {
   "cell_type": "markdown",
   "metadata": {},
   "source": [
    "<img src=\"files/utilities/svm.png\"  style=\"max-width: 60%\"/> *SVM*"
   ]
  },
  {
   "cell_type": "markdown",
   "metadata": {},
   "source": [
    "## 2 SVM for Classification"
   ]
  },
  {
   "cell_type": "markdown",
   "metadata": {},
   "source": [
    "`SVC and NuSVC` are similar methods, but accept slightly different sets of parameters and have different mathematical formulations (see section Mathematical formulation). `LinearSVC` is another implementation of Support Vector Classification for the case of a linear kernel."
   ]
  },
  {
   "cell_type": "code",
   "execution_count": null,
   "metadata": {
    "collapsed": false
   },
   "outputs": [],
   "source": [
    "%matplotlib inline\n",
    "import matplotlib.pyplot as plt"
   ]
  },
  {
   "cell_type": "code",
   "execution_count": null,
   "metadata": {
    "collapsed": false
   },
   "outputs": [],
   "source": [
    "import bokeh.plotting as bk\n",
    "bk.output_notebook()"
   ]
  },
  {
   "cell_type": "code",
   "execution_count": null,
   "metadata": {
    "collapsed": false
   },
   "outputs": [],
   "source": [
    "from matplotlib.colors import ListedColormap\n",
    "from pandas.tools.plotting import scatter_matrix\n",
    "from sklearn import svm, datasets, preprocessing, neighbors, cross_validation\n",
    "\n",
    "d = datasets.load_iris()  \n",
    "X = pd.DataFrame(d.data, columns=d.feature_names)\n",
    "y = d.target\n",
    "print(X.columns)"
   ]
  },
  {
   "cell_type": "code",
   "execution_count": null,
   "metadata": {
    "collapsed": false
   },
   "outputs": [],
   "source": [
    "from sklearn import svm, datasets\n",
    "\n",
    "iris = datasets.load_iris()\n",
    "X = iris.data[:, :2]  # we only take the first two features.\n",
    "y = iris.target\n",
    "h = .02               # step size in the mesh\n",
    "C = 1.0               # SVM regularization parameter\n",
    "\n",
    "std_svc = svm.SVC(kernel='linear', C=C).fit(X,y)\n",
    "rbf_svc = svm.SVC(kernel='rbf', gamma=0.7, C=C).fit(X,y)\n",
    "pol_svc = svm.SVC(kernel='poly', degree=3, C=C).fit(X,y)\n",
    "lin_svc = svm.LinearSVC(C=C).fit(X,y)"
   ]
  },
  {
   "cell_type": "code",
   "execution_count": null,
   "metadata": {
    "collapsed": false,
    "scrolled": false
   },
   "outputs": [],
   "source": [
    "import addutils.palette as pal\n",
    "import seaborn as sns\n",
    "from bokeh.models.mappers import LinearColorMapper\n",
    "\n",
    "x_min, x_max = X[:, 0].min() - 1, X[:, 0].max() + 1\n",
    "y_min, y_max = X[:, 1].min() - 1, X[:, 1].max() + 1\n",
    "xs = np.arange(x_min, x_max, h*2)\n",
    "ys = np.arange(y_min, y_max, h*2)\n",
    "xx, yy = np.meshgrid(xs, ys)\n",
    "xx = xx.ravel()\n",
    "yy = yy.ravel()\n",
    "\n",
    "titles = ['SVC with linear kernel',\n",
    "          'SVC with RBF kernel',\n",
    "          'SVC with polynomial (degree 3) kernel',\n",
    "          'LinearSVC (linear kernel)']\n",
    "\n",
    "grid = []\n",
    "palette = list(map(pal.to_hex, sns.color_palette('Paired', 6)))\n",
    "palette_dots = palette[1::2]    # colours in odd indices \n",
    "palette_patches = palette[::2]  # colours in even indices\n",
    "# Bokeh understands the mapping interval for the colors as open on the high side.\n",
    "# So we have to customize the color mapper, and raise the upper limit a bit\n",
    "# to prevent Bokeh from discarding any colours. \n",
    "# max(Z) is 2, so 2.1 is fine for the upper limit.\n",
    "patches_cmapper = LinearColorMapper(low=0, high=2.1, palette=palette_patches)\n",
    "\n",
    "for i, clf in enumerate((std_svc, rbf_svc, pol_svc, lin_svc)):\n",
    "    # Plot the decision boundary assigning a color to each point in the mesh\n",
    "    Z = clf.predict(np.c_[xx, yy])\n",
    "    Z = Z.reshape((ys.size, xs.size))\n",
    "    \n",
    "    # Plot the training points\n",
    "    fig = bk.figure(plot_width=360, plot_height=280, title=titles[i],\n",
    "                   x_range=(x_min, x_max), y_range=(y_min, y_max))\n",
    "    fig.title_text_font_size = '10pt'\n",
    "    fig.axis.major_label_text_color = None\n",
    "    fig.axis.major_tick_line_color = None\n",
    "    fig.axis.minor_tick_line_color = None\n",
    "    fig.image(image=[Z*0.99 + 0.1], x=[x_min], y=[y_min], \n",
    "              dw=[x_max-x_min], dh=[y_max-y_min],\n",
    "              color_mapper=patches_cmapper)\n",
    "    fig.scatter(X[:, 0], X[:, 1], size=6,\n",
    "                line_color='black', line_alpha=0.5,\n",
    "                fill_color=[ palette_dots[j] for j in y ])\n",
    "    grid.append(fig)\n",
    "    \n",
    "bk.show(bk.gridplot([[grid[0], grid[1]], [grid[2], grid[3]]]))"
   ]
  },
  {
   "cell_type": "markdown",
   "metadata": {},
   "source": [
    "## 3 SVM for Regression"
   ]
  },
  {
   "cell_type": "markdown",
   "metadata": {},
   "source": [
    "The method of Support Vector Classification can be extended to solve regression problems. This method is called Support Vector Regression.\n",
    "\n",
    "The model produced by support vector classification (as described above) depends only on a subset of the training data, because the cost function for building the model does not care about training points that lie beyond the margin. Analogously, the model produced by Support Vector Regression depends only on a subset of the training data, because the cost function for building the model ignores any training data close to the model prediction.\n",
    "\n",
    "As with classification classes, the fit method will take as argument vectors X, y, only that in this case y is expected to have floating point values instead of integer values:"
   ]
  },
  {
   "cell_type": "code",
   "execution_count": null,
   "metadata": {
    "collapsed": false
   },
   "outputs": [],
   "source": [
    "X = [[0, 0], [2, 2]]\n",
    "y = [0.5, 2.5]\n",
    "svm_svr = svm.SVR(C=1.0, cache_size=200, coef0=0.0, degree=3,\n",
    "                  epsilon=0.1, gamma='auto', kernel='rbf',\n",
    "                  shrinking=True, tol=0.01, verbose=False)\n",
    "svm_svr.fit(X, y) \n",
    "svm_svr.predict([[1, 1]])"
   ]
  },
  {
   "cell_type": "markdown",
   "metadata": {},
   "source": [
    "**Support Vector Regression (SVR) using linear and non-linear kernels:** this is a simple example of 1D regression using linear, polynominial and RBF kernels.\n",
    "\n"
   ]
  },
  {
   "cell_type": "code",
   "execution_count": null,
   "metadata": {
    "collapsed": false
   },
   "outputs": [],
   "source": [
    "# Generate data and add noise to target\n",
    "X = np.sort(5 * np.random.rand(40, 1), axis=0)\n",
    "y = np.sin(X).ravel()\n",
    "y[::5] += 3 * (0.5 - np.random.rand(8))\n",
    "\n",
    "###############################################################################\n",
    "# Fit regression model\n",
    "from sklearn.svm import SVR\n",
    "\n",
    "svr_rbf = SVR(kernel='rbf', C=1e3, gamma=0.1)\n",
    "svr_lin = SVR(kernel='linear', C=1e3)\n",
    "svr_poly = SVR(kernel='poly', C=1e3, degree=2)\n",
    "y_rbf = svr_rbf.fit(X, y).predict(X)\n",
    "y_lin = svr_lin.fit(X, y).predict(X)\n",
    "y_poly = svr_poly.fit(X, y).predict(X)\n",
    "\n",
    "###############################################################################\n",
    "# look at the results\n",
    "fig = bk.figure(plot_width=600, plot_height=500, title=\"Support Vector Regression\")\n",
    "fig.title_text_font_size = '12pt'\n",
    "fig.scatter(X[:,0], y, color='black', legend='data', size=8)\n",
    "fig.line(X[:,0], y_rbf, color='green', legend='RBF model')\n",
    "fig.line(X[:,0], y_lin, color='red', legend='Linear model')\n",
    "fig.line(X[:,0], y_poly, color='blue', legend='Polynomial model')\n",
    "fig.xaxis.axis_label = 'data'\n",
    "fig.yaxis.axis_label = 'target'\n",
    "fig.axis.axis_label_text_font_size = '11pt'\n",
    "bk.show(fig)"
   ]
  },
  {
   "cell_type": "markdown",
   "metadata": {},
   "source": [
    "---\n",
    "\n",
    "Visit [www.add-for.com](<http://www.add-for.com/IT>) for more tutorials and updates.\n",
    "\n",
    "This work is licensed under a <a rel=\"license\" href=\"http://creativecommons.org/licenses/by-sa/4.0/\">Creative Commons Attribution-ShareAlike 4.0 International License</a>."
   ]
  }
 ],
 "metadata": {
  "kernelspec": {
   "display_name": "Python 3",
   "language": "python",
   "name": "python3"
  },
  "language_info": {
   "codemirror_mode": {
    "name": "ipython",
    "version": 3
   },
   "file_extension": ".py",
   "mimetype": "text/x-python",
   "name": "python",
   "nbconvert_exporter": "python",
   "pygments_lexer": "ipython3",
   "version": "3.5.1"
  }
 },
 "nbformat": 4,
 "nbformat_minor": 0
}
