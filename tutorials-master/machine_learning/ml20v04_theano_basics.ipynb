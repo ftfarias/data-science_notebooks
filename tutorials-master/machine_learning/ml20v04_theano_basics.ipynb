{
 "cells": [
  {
   "cell_type": "markdown",
   "metadata": {},
   "source": [
    "# Theano Basic concepts"
   ]
  },
  {
   "cell_type": "code",
   "execution_count": 1,
   "metadata": {
    "collapsed": false
   },
   "outputs": [
    {
     "data": {
      "text/html": [
       "<div id='toc-container'><script type='text/javascript'>\n",
       "$(function() {\n",
       "    function regenTOC(){\n",
       "        element = $(\"#toc-container\");\n",
       "\n",
       "\tvar toc = document.createElement(\"div\");\n",
       "\t$(toc).attr(\"class\", \"table-of-contents\");\n",
       "\n",
       "\tvar curLevel = 0;\n",
       "\tvar containerStack = [toc];\n",
       "\tvar levelOfTag = {\"h2\": 1, \"h3\": 2, \"h4\": 3, \"h5\": 4};\n",
       "\n",
       "\tfunction pushLevel() {\n",
       "            var list = document.createElement(\"ul\");\n",
       "            containerStack.push(list);\n",
       "            curLevel++;\n",
       "\t}\n",
       "\t\n",
       "\tfunction popLevel() {\n",
       "            var lastContainer = containerStack.pop();\n",
       "            $(lastContainer).appendTo(containerStack[containerStack.length - 1]);\n",
       "            curLevel--;\n",
       "\t}\n",
       "\t\n",
       "\t$(\".text_cell_render :header\").each(function (i, elem) {\n",
       "            var level = levelOfTag[ elem.tagName.toLowerCase() ];\n",
       "\n",
       "            if (level === undefined)\n",
       "\t\treturn;\n",
       "\n",
       "            while (curLevel < level)\n",
       "\t\tpushLevel();\n",
       "            while (curLevel > level)\n",
       "\t\tpopLevel();\n",
       "            \n",
       "            var listItem = document.createElement(\"li\");\n",
       "            var link = document.createElement(\"a\");\n",
       "            $(link)\n",
       "\t\t.text($(elem).contents().first().text()) // Remove the pilcrow sign\n",
       "\t\t.attr(\"href\", \"#\" + $(elem).attr(\"id\"))\n",
       "\t\t.appendTo(listItem);\n",
       "            $(listItem).appendTo(containerStack[containerStack.length - 1]);\n",
       "\t});\n",
       "\t\n",
       "\twhile (curLevel > 0)\n",
       "            popLevel();\n",
       "\n",
       "        $(\"<a class='btn-update' href='#'>Update</a>\")\n",
       "          .click(regenTOC).prependTo(toc);\n",
       "\n",
       "\t$(toc).prepend(\"<div class='title'>Contents</div>\")\n",
       "          .wrap(\"<div class='toc-headings'/>\");\n",
       "\n",
       "        $(element).empty();\n",
       "        $(element).append(toc);\n",
       "    }\n",
       "\n",
       "    if (typeof(IPython) !== 'undefined')\n",
       "        $([IPython.events]).on('notebook_loaded.Notebook', regenTOC);\n",
       "    regenTOC();\n",
       "});\n",
       "\n",
       "</script></div>"
      ],
      "text/plain": [
       "<IPython.core.display.HTML object>"
      ]
     },
     "execution_count": 1,
     "metadata": {},
     "output_type": "execute_result"
    }
   ],
   "source": [
    "import addutils.toc ; addutils.toc.js(ipy_notebook=True)"
   ]
  },
  {
   "cell_type": "code",
   "execution_count": 2,
   "metadata": {
    "collapsed": false
   },
   "outputs": [
    {
     "data": {
      "text/html": [
       "<style>\n",
       ".text_cell_render @font-face {\n",
       "    font-family: \"Computer Modern\";\n",
       "    src: url('http://mirrors.ctan.org/fonts/cm-unicode/fonts/otf/cmunss.otf');\n",
       "}\n",
       "\n",
       "div.cell {\n",
       "    width: 900px;\n",
       "    margin-left: 0% !important;\n",
       "    margin-right: 0%;\n",
       "}\n",
       "\n",
       "code {\n",
       "    font-size:10pt;\n",
       "}\n",
       "\n",
       ".text_cell_render  h1 {\n",
       "    font-family: Tahoma, sans-serif;\n",
       "    color: rgb( 10, 88, 126 );\n",
       "    font-size:28pt;\n",
       "}\n",
       ".text_cell_render h2 {\n",
       "    font-family: Tahoma, sans-serif;\n",
       "    color: rgb( 10, 88, 126 );\n",
       "    font-size:24pt;\n",
       "}\n",
       ".text_cell_render h3 {\n",
       "    font-family: Tahoma, sans-serif;\n",
       "    color: rgb( 10, 88, 126 );\n",
       "    font-size:20pt;\n",
       "}\n",
       ".text_cell_render h4 {\n",
       "    font-family: Tahoma, sans-serif;\n",
       "    color: rgb( 10, 88, 126 );\n",
       "    font-size:18pt;\n",
       "    margin-top:12px;\n",
       "    margin-bottom: 3px;\n",
       "}\n",
       "\n",
       ".text_cell_render h5 {\n",
       "    font-weight: 300;\n",
       "    font-size: 11pt;\n",
       "    color: rgb( 48, 48, 48 );\n",
       "    font-style: italic;\n",
       "    margin-bottom: .5em;\n",
       "    margin-top: 0.5em;\n",
       "    display: block;\n",
       "}\n",
       "\n",
       ".text_cell_render ul {\n",
       "    font-family: Tahoma, sans-serif;\n",
       "    color: rgb( 90, 90, 90 );\n",
       "    font-size:11pt;\n",
       "    line-height: 185%;\n",
       "}\n",
       "\n",
       ".text_cell_render yp {\n",
       "    font-family: Tahoma, sans-serif;\n",
       "    color: rgb( 90, 90, 90 );\n",
       "    font-size:11pt;\n",
       "}\n",
       "\n",
       ".text_cell_render strong {\n",
       "    font-family: Tahoma, sans-serif;\n",
       "    color: rgb( 30, 30, 30 );\n",
       "    font-size:11pt;\n",
       "}\n",
       "\n",
       ".text_cell_render a:link {\n",
       "    font-family: Tahoma, sans-serif;\n",
       "    color: rgb( 10, 88, 126 );\n",
       "    font-size:11pt;\n",
       "}\n",
       "\n",
       ".text_cell_render a:visited {\n",
       "    color:rgb( 10, 88, 126 );\n",
       "}\n",
       "\n",
       ".text_cell_render {\n",
       "    font-family: Helvetica, Courier, Computer Modern, \"Helvetica Neue\", Arial, Geneva, sans-serif;\n",
       "    color: rgb( 84, 84, 84 );\n",
       "    font-size:11pt;\n",
       "    line-height: 125%;\n",
       "    font-size: 100%;\n",
       "    width:800px;\n",
       "}\n",
       "\n",
       ".CodeMirror {\n",
       "    font-family: Courier, \"Source Code Pro\", source-code-pro,Consolas, monospace;\n",
       "}\n",
       "\n",
       ".warning {\n",
       "    color: rgb( 240, 20, 20 );\n",
       "}\n",
       "\n",
       "/* Pandas tables */\n",
       "/*\n",
       ".rendered_html td {\n",
       "    text-align: right;\n",
       "}\n",
       "*/\n",
       "\n",
       "table.dataframe td {\n",
       "    text-align: right;\n",
       "}\n",
       "\n",
       ".output .table-of-contents {\n",
       "    border: 1px #cecece solid;\n",
       "    background-color: #fafafa;\n",
       "    padding-top: 10px;\n",
       "    padding-bottom: 5px;\n",
       "    padding-right: 15px;\n",
       "    padding-left: 0px;\n",
       "    margin-bottom: 20px;\n",
       "    display: inline-block;\n",
       "    position: relative;\n",
       "}\n",
       "\n",
       ".output .table-of-contents ul {\n",
       "    list-style-type: none;\n",
       "    padding-left: 20px;\n",
       "}\n",
       "\n",
       ".output .table-of-contents .title {\n",
       "    font-weight: bold;\n",
       "    font-height: 11pt;\n",
       "    padding-left: 20px; /* looks better if it's the same to the <ul> */\n",
       "}\n",
       "\n",
       ".output .table-of-contents .btn-update {\n",
       "    position: absolute;\n",
       "    float: right;\n",
       "    right: 11px;\n",
       "    top: 4px;\n",
       "    font-size: 9pt;\n",
       "}\n",
       "\n",
       "</style>\n",
       "<script>\n",
       "    MathJax.Hub.Config({\n",
       "                        TeX: {\n",
       "                           extensions: [\"AMSmath.js\"]\n",
       "                           },\n",
       "                displayAlign: 'center', // Change this to 'center' to center equations.\n",
       "                \"HTML-CSS\": {\n",
       "                    styles: {'.MathJax_Display': {\"margin\": 4}}\n",
       "                }\n",
       "        });\n",
       "</script>\n"
      ],
      "text/plain": [
       "<IPython.core.display.HTML object>"
      ]
     },
     "execution_count": 2,
     "metadata": {},
     "output_type": "execute_result"
    }
   ],
   "source": [
    "import warnings\n",
    "import scipy.io\n",
    "import numpy as np\n",
    "import pandas as pd\n",
    "import theano as th\n",
    "import theano.tensor as T\n",
    "from time import time\n",
    "import sklearn as sk\n",
    "import sklearn.metrics\n",
    "from IPython.display import Image\n",
    "from bokeh.models import ColumnDataSource\n",
    "from addutils import css_notebook\n",
    "import sys\n",
    "import os\n",
    "# import matplotlib.pyplot as plt # Just in case MAtplotlib is used\n",
    "# %matplotlib inline\n",
    "css_notebook()"
   ]
  },
  {
   "cell_type": "code",
   "execution_count": 3,
   "metadata": {
    "collapsed": false
   },
   "outputs": [
    {
     "data": {
      "text/html": [
       "\n",
       "\n",
       "    <script type=\"text/javascript\">\n",
       "      \n",
       "      (function(global) {\n",
       "        function now() {\n",
       "          return new Date();\n",
       "        }\n",
       "      \n",
       "        if (typeof (window._bokeh_onload_callbacks) === \"undefined\") {\n",
       "          window._bokeh_onload_callbacks = [];\n",
       "        }\n",
       "      \n",
       "        function run_callbacks() {\n",
       "          window._bokeh_onload_callbacks.forEach(function(callback) { callback() });\n",
       "          delete window._bokeh_onload_callbacks\n",
       "          console.info(\"Bokeh: all callbacks have finished\");\n",
       "        }\n",
       "      \n",
       "        function load_libs(js_urls, callback) {\n",
       "          window._bokeh_onload_callbacks.push(callback);\n",
       "          if (window._bokeh_is_loading > 0) {\n",
       "            console.log(\"Bokeh: BokehJS is being loaded, scheduling callback at\", now());\n",
       "            return null;\n",
       "          }\n",
       "          if (js_urls == null || js_urls.length === 0) {\n",
       "            run_callbacks();\n",
       "            return null;\n",
       "          }\n",
       "          console.log(\"Bokeh: BokehJS not loaded, scheduling load and callback at\", now());\n",
       "          window._bokeh_is_loading = js_urls.length;\n",
       "          for (var i = 0; i < js_urls.length; i++) {\n",
       "            var url = js_urls[i];\n",
       "            var s = document.createElement('script');\n",
       "            s.src = url;\n",
       "            s.async = false;\n",
       "            s.onreadystatechange = s.onload = function() {\n",
       "              window._bokeh_is_loading--;\n",
       "              if (window._bokeh_is_loading === 0) {\n",
       "                console.log(\"Bokeh: all BokehJS libraries loaded\");\n",
       "                run_callbacks()\n",
       "              }\n",
       "            };\n",
       "            s.onerror = function() {\n",
       "              console.warn(\"failed to load library \" + url);\n",
       "            };\n",
       "            console.log(\"Bokeh: injecting script tag for BokehJS library: \", url);\n",
       "            document.getElementsByTagName(\"head\")[0].appendChild(s);\n",
       "          }\n",
       "        };var js_urls = ['https://cdn.pydata.org/bokeh/release/bokeh-0.11.0.min.js', 'https://cdn.pydata.org/bokeh/release/bokeh-widgets-0.11.0.min.js', 'https://cdn.pydata.org/bokeh/release/bokeh-compiler-0.11.0.min.js'];\n",
       "      \n",
       "        var inline_js = [\n",
       "          function(Bokeh) {\n",
       "            Bokeh.set_log_level(\"info\");\n",
       "          },\n",
       "          function(Bokeh) {\n",
       "            console.log(\"Bokeh: injecting CSS: https://cdn.pydata.org/bokeh/release/bokeh-0.11.0.min.css\");\n",
       "            Bokeh.embed.inject_css(\"https://cdn.pydata.org/bokeh/release/bokeh-0.11.0.min.css\");\n",
       "            console.log(\"Bokeh: injecting CSS: https://cdn.pydata.org/bokeh/release/bokeh-widgets-0.11.0.min.css\");\n",
       "            Bokeh.embed.inject_css(\"https://cdn.pydata.org/bokeh/release/bokeh-widgets-0.11.0.min.css\");\n",
       "          }\n",
       "        ];\n",
       "      \n",
       "        function run_inline_js() {\n",
       "          for (var i = 0; i < inline_js.length; i++) {\n",
       "            inline_js[i](window.Bokeh);\n",
       "          }\n",
       "        }\n",
       "      \n",
       "        if (window._bokeh_is_loading === 0) {\n",
       "          console.log(\"Bokeh: BokehJS loaded, going straight to plotting\");\n",
       "          run_inline_js();\n",
       "        } else {\n",
       "          load_libs(js_urls, function() {\n",
       "            console.log(\"Bokeh: BokehJS plotting callback run at\", now());\n",
       "            run_inline_js();\n",
       "          });\n",
       "        }\n",
       "      }(this));\n",
       "    </script>\n",
       "    <div>\n",
       "        <a href=\"http://bokeh.pydata.org\" target=\"_blank\" class=\"bk-logo bk-logo-small bk-logo-notebook\"></a>\n",
       "        <span>BokehJS successfully loaded.</span>\n",
       "    </div>"
      ]
     },
     "metadata": {},
     "output_type": "display_data"
    }
   ],
   "source": [
    "import bokeh.plotting as bk\n",
    "bk.output_notebook()"
   ]
  },
  {
   "cell_type": "markdown",
   "metadata": {},
   "source": [
    "## 1 Basic Linear Algebra"
   ]
  },
  {
   "cell_type": "markdown",
   "metadata": {},
   "source": [
    "### 1.1 Adding two Scalars"
   ]
  },
  {
   "cell_type": "markdown",
   "metadata": {},
   "source": [
    "By calling T.dscalar with a string argument, you create a Variable representing a floating-point scalar quantity with the given name. If you provide no argument, the symbol will be unnamed. Names are not required, but they can help debugging.\n",
    "\n",
    "The first argument to function is a list of Variables that will be provided as inputs to the function. The second argument is a single Variable or a list of Variables. For either case, the second argument is what we want to see as output when we apply the function. f may then be used like a normal Python function."
   ]
  },
  {
   "cell_type": "code",
   "execution_count": 4,
   "metadata": {
    "collapsed": false
   },
   "outputs": [],
   "source": [
    "x = T.dscalar('x') # This defines a symbol 'd' is for 'double'\n",
    "y = T.dscalar('y') # This defines a symbol\n",
    "z = x + y\n",
    "f = th.function([x, y], z)"
   ]
  },
  {
   "cell_type": "code",
   "execution_count": 5,
   "metadata": {
    "collapsed": false
   },
   "outputs": [
    {
     "data": {
      "text/plain": [
       "TensorType(float64, scalar)"
      ]
     },
     "execution_count": 5,
     "metadata": {},
     "output_type": "execute_result"
    }
   ],
   "source": [
    "x.type"
   ]
  },
  {
   "cell_type": "code",
   "execution_count": 6,
   "metadata": {
    "collapsed": false
   },
   "outputs": [
    {
     "name": "stdout",
     "output_type": "stream",
     "text": [
      "(x + y)\n"
     ]
    }
   ],
   "source": [
    "print(th.pp(z)) # 'pp' is 'pretty print'"
   ]
  },
  {
   "cell_type": "code",
   "execution_count": 7,
   "metadata": {
    "collapsed": false
   },
   "outputs": [
    {
     "data": {
      "text/plain": [
       "array(5.5)"
      ]
     },
     "execution_count": 7,
     "metadata": {},
     "output_type": "execute_result"
    }
   ],
   "source": [
    "f(2, 3.5)"
   ]
  },
  {
   "cell_type": "markdown",
   "metadata": {},
   "source": [
    "### 1.2 Operations with two Matrices - element by element"
   ]
  },
  {
   "cell_type": "code",
   "execution_count": 8,
   "metadata": {
    "collapsed": false
   },
   "outputs": [],
   "source": [
    "A = np.array([[1, 2], [3, 4]])\n",
    "B = np.array([[10, 20], [30, 40]])\n",
    "x, y = T.dmatrices('x', 'y') # dmatrices is used to define more 'dmatrix' in a single instruction\n",
    "                             # Alternatively use: #x, y = T.dmatrix('x'), T.dmatrix('y')\n",
    "z = x + y\n",
    "k = x**2+y**3\n",
    "f1 = th.function([x, th.Param(y, default=B)], z) # Class 'Param' used to define a default value\n",
    "f2 = th.function([x, y], [z, k]) # Functions can return more than a value"
   ]
  },
  {
   "cell_type": "code",
   "execution_count": 9,
   "metadata": {
    "collapsed": false
   },
   "outputs": [
    {
     "name": "stdout",
     "output_type": "stream",
     "text": [
      "[[ 11.  22.]\n",
      " [ 33.  44.]]\n"
     ]
    }
   ],
   "source": [
    "print(f1(A, B))"
   ]
  },
  {
   "cell_type": "code",
   "execution_count": 10,
   "metadata": {
    "collapsed": false
   },
   "outputs": [
    {
     "name": "stdout",
     "output_type": "stream",
     "text": [
      "[[ 11.  22.]\n",
      " [ 33.  44.]]\n"
     ]
    }
   ],
   "source": [
    "print(f1(A))"
   ]
  },
  {
   "cell_type": "code",
   "execution_count": 11,
   "metadata": {
    "collapsed": false
   },
   "outputs": [
    {
     "name": "stdout",
     "output_type": "stream",
     "text": [
      "[[ 11.  22.]\n",
      " [ 33.  44.]]\n",
      "[[  1001.   8004.]\n",
      " [ 27009.  64016.]]\n"
     ]
    }
   ],
   "source": [
    "Z, K = f2(A, B)\n",
    "print(Z)\n",
    "print(K)"
   ]
  },
  {
   "cell_type": "markdown",
   "metadata": {},
   "source": [
    "## 2 Tensor Constructors"
   ]
  },
  {
   "cell_type": "markdown",
   "metadata": {},
   "source": [
    "Theano defines tensor variables for symbolic computation. A tensor variable is characterized by dimension and type of its objects. Theano provides several constructors for creating a tensor variable, for example:"
   ]
  },
  {
   "cell_type": "code",
   "execution_count": 12,
   "metadata": {
    "collapsed": false
   },
   "outputs": [
    {
     "name": "stdout",
     "output_type": "stream",
     "text": [
      "TensorType(float64, matrix)\n"
     ]
    }
   ],
   "source": [
    "a = T.dmatrix('a')\n",
    "print(a.type)"
   ]
  },
  {
   "cell_type": "markdown",
   "metadata": {},
   "source": [
    "Theano provides special constructors for a wide variety of variables and optional dtype, for example:\n",
    "\n",
    "    scalar (return a Variable for a 0-dimensional ndarray)\n",
    "    vector (return a Variable for a 1-dimensional ndarray)\n",
    "    row (return a Variable for a 2-dimensional ndarray in which the number of rows is guaranteed to be 1.)\n",
    "    col (return a Variable for a 2-dimensional ndarray in which the number of columns is guaranteed to be 1.)\n",
    "    matrix (return a Variable for a 2-dimensional ndarray)\n",
    "    tensor3 (return a Variable for a 3-dimensional ndarray)\n",
    "    tensor4 (return a Variable for a 4-dimensional ndarray)\n",
    "    \n",
    "In all this cases it is possible to specify the type of the elements as a string in the constructor (dtype='typename'). Valid dtypes are int8, int16, int32, int64, float64, float32, complex64, complex128.\n",
    "\n",
    "Moreover Theano provides special constructors with harcoded dtype, for example: dmatrix, dscalar and so on.\n",
    "\n",
    "Tensor variables are then instantiated when used in a function. It is also possible to use a special method that constructs a function and assign a given value on the fly"
   ]
  },
  {
   "cell_type": "code",
   "execution_count": 13,
   "metadata": {
    "collapsed": false
   },
   "outputs": [
    {
     "data": {
      "text/plain": [
       "array([[ 0.,  1.,  2.],\n",
       "       [ 3.,  4.,  5.],\n",
       "       [ 6.,  7.,  8.]])"
      ]
     },
     "execution_count": 13,
     "metadata": {},
     "output_type": "execute_result"
    }
   ],
   "source": [
    "a.eval({a: np.arange(9).reshape(3,3)})"
   ]
  },
  {
   "cell_type": "markdown",
   "metadata": {},
   "source": [
    "Tensor variable are used for symbolic computation. It is also possible to assign values to a tensor variable, with special methods. For example we can create a matrix of zero elements with the same shape as a numpy ndarray."
   ]
  },
  {
   "cell_type": "code",
   "execution_count": 14,
   "metadata": {
    "collapsed": false
   },
   "outputs": [
    {
     "data": {
      "text/plain": [
       "array([[ 0.,  0.,  0.,  0.],\n",
       "       [ 0.,  0.,  0.,  0.],\n",
       "       [ 0.,  0.,  0.,  0.]])"
      ]
     },
     "execution_count": 14,
     "metadata": {},
     "output_type": "execute_result"
    }
   ],
   "source": [
    "x = th.shared(np.random.randn(3,4))\n",
    "zeros = T.zeros_like(x)\n",
    "zeros.eval()"
   ]
  },
  {
   "cell_type": "markdown",
   "metadata": {},
   "source": [
    "Or a matrix with all ones."
   ]
  },
  {
   "cell_type": "code",
   "execution_count": 15,
   "metadata": {
    "collapsed": false
   },
   "outputs": [
    {
     "data": {
      "text/plain": [
       "array([[ 1.,  1.,  1.,  1.],\n",
       "       [ 1.,  1.,  1.,  1.],\n",
       "       [ 1.,  1.,  1.,  1.]])"
      ]
     },
     "execution_count": 15,
     "metadata": {},
     "output_type": "execute_result"
    }
   ],
   "source": [
    "ones = T.ones_like(x)\n",
    "ones.eval()"
   ]
  },
  {
   "cell_type": "markdown",
   "metadata": {},
   "source": [
    "Finally it is possible to combine them."
   ]
  },
  {
   "cell_type": "code",
   "execution_count": 16,
   "metadata": {
    "collapsed": false
   },
   "outputs": [
    {
     "data": {
      "text/plain": [
       "array([[[ 0.,  0.,  0.,  0.],\n",
       "        [ 0.,  0.,  0.,  0.],\n",
       "        [ 0.,  0.,  0.,  0.]],\n",
       "\n",
       "       [[ 1.,  1.,  1.,  1.],\n",
       "        [ 1.,  1.,  1.,  1.],\n",
       "        [ 1.,  1.,  1.,  1.]]])"
      ]
     },
     "execution_count": 16,
     "metadata": {},
     "output_type": "execute_result"
    }
   ],
   "source": [
    "stacked = T.stack([zeros, ones])\n",
    "stacked.eval()"
   ]
  },
  {
   "cell_type": "markdown",
   "metadata": {},
   "source": [
    "Those methods assign an additional tensor constant associated with the tensor variable. The variable can still be used as symbol but it has an additional value, it looks like a default value. It can be used in function for example. Let's define a function that adds the two matrix `zeros` and `ones`:"
   ]
  },
  {
   "cell_type": "code",
   "execution_count": 17,
   "metadata": {
    "collapsed": false
   },
   "outputs": [
    {
     "name": "stdout",
     "output_type": "stream",
     "text": [
      "[[ 1.  1.  1.  1.]\n",
      " [ 1.  1.  1.  1.]\n",
      " [ 1.  1.  1.  1.]]\n"
     ]
    }
   ],
   "source": [
    "add_zeros_ones = zeros + ones\n",
    "f = th.function([], add_zeros_ones)\n",
    "print(f())"
   ]
  },
  {
   "cell_type": "markdown",
   "metadata": {},
   "source": [
    "The two variables can still be used as symbols, for example in a new function."
   ]
  },
  {
   "cell_type": "code",
   "execution_count": 18,
   "metadata": {
    "collapsed": false
   },
   "outputs": [
    {
     "data": {
      "text/plain": [
       "array([[  0.,   2.,   4.],\n",
       "       [  6.,   8.,  10.],\n",
       "       [ 12.,  14.,  16.]])"
      ]
     },
     "execution_count": 18,
     "metadata": {},
     "output_type": "execute_result"
    }
   ],
   "source": [
    "f = th.function([zeros, ones], add_zeros_ones)\n",
    "f(np.arange(9).reshape((3,3)), np.arange(9).reshape((3,3)))"
   ]
  },
  {
   "cell_type": "markdown",
   "metadata": {},
   "source": [
    "## 3 Shared Variables"
   ]
  },
  {
   "cell_type": "markdown",
   "metadata": {},
   "source": [
    "In a previous computation we introduced shared variables. A shared variable is a variable whose value may be shared between multiple functions.\n",
    "\n",
    "For example it 'updates' parameter of a function: must be supplied with a list of pairs of the form (shared-variable, new expression). It can also be a dictionary whose keys are shared-variables and values are the new expressions.\n",
    "\n",
    "It means “whenever this function runs, it will replace the .value of each shared variable with the result of the corresponding expression”."
   ]
  },
  {
   "cell_type": "code",
   "execution_count": 19,
   "metadata": {
    "collapsed": true
   },
   "outputs": [],
   "source": [
    "int_state = th.shared(0) # Shared variable have an internal state shared in all the functions that use it\n",
    "inc = T.iscalar('inc')\n",
    "accumulator = th.function([inc], int_state, updates=[(int_state, int_state+inc)])\n",
    "decrementor = th.function([inc], int_state, updates=[(int_state, int_state-inc)])"
   ]
  },
  {
   "cell_type": "code",
   "execution_count": 20,
   "metadata": {
    "collapsed": false
   },
   "outputs": [
    {
     "data": {
      "text/plain": [
       "array(0)"
      ]
     },
     "execution_count": 20,
     "metadata": {},
     "output_type": "execute_result"
    }
   ],
   "source": [
    "int_state.get_value()"
   ]
  },
  {
   "cell_type": "code",
   "execution_count": 21,
   "metadata": {
    "collapsed": false
   },
   "outputs": [
    {
     "data": {
      "text/plain": [
       "array(5)"
      ]
     },
     "execution_count": 21,
     "metadata": {},
     "output_type": "execute_result"
    }
   ],
   "source": [
    "accumulator(5)\n",
    "int_state.get_value()"
   ]
  },
  {
   "cell_type": "code",
   "execution_count": 22,
   "metadata": {
    "collapsed": false
   },
   "outputs": [
    {
     "data": {
      "text/plain": [
       "array(3)"
      ]
     },
     "execution_count": 22,
     "metadata": {},
     "output_type": "execute_result"
    }
   ],
   "source": [
    "decrementor(2)\n",
    "int_state.get_value()"
   ]
  },
  {
   "cell_type": "markdown",
   "metadata": {},
   "source": [
    "## 4 Indexing"
   ]
  },
  {
   "cell_type": "markdown",
   "metadata": {},
   "source": [
    "Theano supports indexing like numpy array (although there is not a boolean type). "
   ]
  },
  {
   "cell_type": "code",
   "execution_count": 23,
   "metadata": {
    "collapsed": false
   },
   "outputs": [
    {
     "data": {
      "text/plain": [
       "array([[-0.41700479, -1.00294857, -1.45624926, -1.06086486],\n",
       "       [ 1.5962121 , -0.18321029,  1.5263171 ,  0.03302564],\n",
       "       [-0.00916705,  2.27485827, -0.15213494,  0.28215361]])"
      ]
     },
     "execution_count": 23,
     "metadata": {},
     "output_type": "execute_result"
    }
   ],
   "source": [
    "x.eval()"
   ]
  },
  {
   "cell_type": "code",
   "execution_count": 24,
   "metadata": {
    "collapsed": false
   },
   "outputs": [
    {
     "data": {
      "text/plain": [
       "array([ 1.5962121 ,  1.5263171 ,  2.27485827])"
      ]
     },
     "execution_count": 24,
     "metadata": {},
     "output_type": "execute_result"
    }
   ],
   "source": [
    "x[(x > 0.4).nonzero()].eval()"
   ]
  },
  {
   "cell_type": "code",
   "execution_count": 25,
   "metadata": {
    "collapsed": false
   },
   "outputs": [
    {
     "data": {
      "text/plain": [
       "array([-1.00294857, -0.18321029,  2.27485827])"
      ]
     },
     "execution_count": 25,
     "metadata": {},
     "output_type": "execute_result"
    }
   ],
   "source": [
    "x[:,1].eval()"
   ]
  },
  {
   "cell_type": "markdown",
   "metadata": {},
   "source": [
    "Assigning a value to a slice (as in numpy `x[:,1] = 5`) it is a bit more complicated. It must be used a function called set_subtensor. Note that the function returns a variable not a shared variable"
   ]
  },
  {
   "cell_type": "code",
   "execution_count": 26,
   "metadata": {
    "collapsed": false
   },
   "outputs": [
    {
     "name": "stdout",
     "output_type": "stream",
     "text": [
      "[[-0.41700479  5.         -1.45624926 -1.06086486]\n",
      " [ 1.5962121   5.          1.5263171   0.03302564]\n",
      " [-0.00916705  5.         -0.15213494  0.28215361]]\n",
      "<class 'theano.tensor.var.TensorVariable'>\n"
     ]
    }
   ],
   "source": [
    "b = T.set_subtensor(x[:,1], 5)\n",
    "print(b.eval())\n",
    "print(type(b))"
   ]
  },
  {
   "cell_type": "markdown",
   "metadata": {},
   "source": [
    "It is even possible to use a vector to specify the list of wanted (row) indices."
   ]
  },
  {
   "cell_type": "code",
   "execution_count": 27,
   "metadata": {
    "collapsed": false
   },
   "outputs": [
    {
     "data": {
      "text/plain": [
       "array([[ 1.5962121 , -0.18321029,  1.5263171 ,  0.03302564],\n",
       "       [-0.00916705,  2.27485827, -0.15213494,  0.28215361]])"
      ]
     },
     "execution_count": 27,
     "metadata": {},
     "output_type": "execute_result"
    }
   ],
   "source": [
    "c = th.shared(np.array([1,2]))\n",
    "x[c].eval()"
   ]
  },
  {
   "cell_type": "markdown",
   "metadata": {},
   "source": [
    "## 5 Logistic Function"
   ]
  },
  {
   "cell_type": "code",
   "execution_count": 28,
   "metadata": {
    "collapsed": false
   },
   "outputs": [
    {
     "data": {
      "text/plain": [
       "array([[ 0.11920292,  0.26894142,  0.5       ,  0.73105858]])"
      ]
     },
     "execution_count": 28,
     "metadata": {},
     "output_type": "execute_result"
    }
   ],
   "source": [
    "x = T.dmatrix('x')\n",
    "s = 1 / (1 + T.exp(-x))\n",
    "logistic = th.function([x], s)\n",
    "test_vector = np.array([-2, -1, 0, 1])\n",
    "logistic([test_vector])"
   ]
  },
  {
   "cell_type": "markdown",
   "metadata": {},
   "source": [
    "## 6 Example: classification with a Multi Layer Perceptron"
   ]
  },
  {
   "cell_type": "markdown",
   "metadata": {},
   "source": [
    "This tutorial covers your simplest neural network: a multilayer perceptron (MLP) also known as feedforward neural network.\n",
    "\n",
    "We will learn to classify MNIST handwritten digit images into their correct label (0-9)."
   ]
  },
  {
   "cell_type": "code",
   "execution_count": 29,
   "metadata": {
    "collapsed": false
   },
   "outputs": [],
   "source": [
    "import pickle\n",
    "from utilities.utils import tile_raster_images\n",
    "from PIL import Image as pil_img"
   ]
  },
  {
   "cell_type": "markdown",
   "metadata": {},
   "source": [
    "The dataset is available for download [here](http://deeplearning.net/data/mnist/mnist.pkl.gz). Please download it in the `machine_learning/example_data` directory and unzip it before continuing.\n",
    "\n",
    "First, let's load the data and take a look:"
   ]
  },
  {
   "cell_type": "code",
   "execution_count": 30,
   "metadata": {
    "collapsed": false
   },
   "outputs": [
    {
     "name": "stdout",
     "output_type": "stream",
     "text": [
      "Shapes:\n",
      "Training set dimensions:   (50000, 784) (50000,)\n",
      "Validation set dimensions: (10000, 784) (10000,)\n",
      "Testing set dimensions:    (10000, 784) (10000,)\n",
      "--------------\n",
      "Example input: [ 0.  0.  0.  0.  0.] ...    Example label:  5\n"
     ]
    }
   ],
   "source": [
    "(train_x, train_y), (valid_x, valid_y), (test_x, test_y) = pickle.load(open('example_data/mnist.pkl', 'rb'), \n",
    "                                                                       encoding='latin1')\n",
    "print(\"Shapes:\")\n",
    "print(\"Training set dimensions:  \", train_x.shape, train_y.shape)\n",
    "print(\"Validation set dimensions:\", valid_x.shape, valid_y.shape)\n",
    "print(\"Testing set dimensions:   \", test_x.shape, test_y.shape)\n",
    "print(\"--------------\")\n",
    "print(\"Example input:\", train_x[0,0:5], '...', \"   Example label: \", train_y[0])"
   ]
  },
  {
   "cell_type": "code",
   "execution_count": 31,
   "metadata": {
    "collapsed": false
   },
   "outputs": [],
   "source": [
    "# This is just to have a look at the data:\n",
    "#input_images = train_x[0:30]\n",
    "#im = pil_img.fromarray(tile_raster_images(input_images, img_shape=(28, 28), tile_shape=(1, 30), tile_spacing=(1, 1)))\n",
    "#im.show()"
   ]
  },
  {
   "cell_type": "markdown",
   "metadata": {},
   "source": [
    "An MLP looks like this: input -> hiddens -> output classification\n",
    "\n",
    "Each stage is just a matrix multiplication with a nonlinear function applied after.\n",
    "\n",
    "Inputs are matrices where rows are examples and columns are pixels: this code create a symbolic Theano matrix:"
   ]
  },
  {
   "cell_type": "code",
   "execution_count": 32,
   "metadata": {
    "collapsed": false
   },
   "outputs": [
    {
     "name": "stdout",
     "output_type": "stream",
     "text": [
      "Symbolic Theano matrix float64\n"
     ]
    }
   ],
   "source": [
    "if th.config.floatX == 'float64':\n",
    "    print('Symbolic Theano matrix float64')\n",
    "    x = T.dmatrix('x')\n",
    "else:\n",
    "    print('Symbolic Theano matrix float32')\n",
    "    x = T.fmatrix('x')"
   ]
  },
  {
   "cell_type": "markdown",
   "metadata": {},
   "source": [
    "The first transformation is the input x -> hidden layer h.\n",
    "The transformation is define by `h = tanh(x.dot(W_x) + b_h)` where the learnable model parameters are `W_x` and `b_h`, therefore, we will need a **weights matrix W_x** and a **bias vector b_h**.\n",
    "\n",
    "`W_x` has shape (input_size, hidden_size) and `b_h` has shape (hidden_size,).\n",
    "\n",
    "Initialization is important in deep learning; we want something random so the model doesn't get stuck early. Many papers in this subject, but for now we will just use a normal distribution with mean=0 and std=0.05.\n",
    "\n",
    "Another good option for tanh layers is to use a uniform distribution with interval +- sqrt(6/sum(shape)). These are hyperparameters to play with.\n",
    "\n",
    "Bias starting as zero is fine."
   ]
  },
  {
   "cell_type": "code",
   "execution_count": 33,
   "metadata": {
    "collapsed": false
   },
   "outputs": [],
   "source": [
    "input_size = 28*28  # Number of inputs\n",
    "hidden_size = 19    # Number of hidden units\n",
    "output_size = 10    # Number of classes for classification\n",
    "batch_size = 50     # Minibatch size (how many examples to process in parallel)\n",
    "epochs = 25         # Total number of passes over all examples (epochs).\n",
    "learning_rate = 0.05\n",
    "\n",
    "# Alternative inizialization:\n",
    "#i = np.sqrt(6. / (784+n_hidden))\n",
    "#W_x = np.asarray(np.random.uniform(low=-i, high=i, size=(28*28, n_hidden)), dtype=theano.config.floatX)\n",
    "\n",
    "W_x = np.asarray(np.random.normal(loc=0.0, scale=.05,\n",
    "                                  size=(input_size, hidden_size)), dtype=th.config.floatX)\n",
    "b_h = np.zeros(shape=(hidden_size,), dtype=th.config.floatX)\n",
    "\n",
    "# To update a variable used in an equation (for example, while learning), theano needs it to be\n",
    "# in a special wrapper called a shared variable:\n",
    "W_x = th.shared(W_x, name=\"W_x\")\n",
    "b_h = th.shared(b_h, name=\"b_h\")\n",
    "\n",
    "# Transformation input x -> hidden layer h\n",
    "# (if we used softmax instead of tanh for the activation, this would be a logistic regression)\n",
    "h = T.tanh(T.dot(x, W_x) + b_h)"
   ]
  },
  {
   "cell_type": "markdown",
   "metadata": {},
   "source": [
    "Now let's put that softmax layer on top for classification output y: the transformation is defined as:\n",
    "`y = softmax(h.dot(W_h) + b_y)` where the learnable parameters are `W_h` and `b_y`. In neural network simulations, the softmax function is often implemented at the final layer of a network used for classification.\n",
    "\n",
    "We will use the same random initialization strategy as before."
   ]
  },
  {
   "cell_type": "code",
   "execution_count": 34,
   "metadata": {
    "collapsed": false
   },
   "outputs": [],
   "source": [
    "# i = np.sqrt(6. / (n_hidden))\n",
    "\n",
    "W_h = np.asarray(np.random.normal(loc=0.0, scale=.05, size=(hidden_size, output_size)), dtype=th.config.floatX)\n",
    "b_y = np.zeros(shape=(output_size,), dtype=th.config.floatX)\n",
    "\n",
    "W_h = th.shared(W_h, name=\"W_h\")\n",
    "b_y = th.shared(b_y, name=\"b_y\")\n",
    "\n",
    "y = T.nnet.softmax(T.dot(h, W_h) + b_y)\n",
    "y_hat = T.argmax(y, axis=1)"
   ]
  },
  {
   "cell_type": "markdown",
   "metadata": {},
   "source": [
    "The variable `y_hat` represents the output of running our model, but we need a cost function to use for training.\n",
    "For a softmax (probability) output, we want to maximize the likelihood of `P(Y=y|X)` i.e. minimize the negative log-likelihood.\n",
    "\n",
    "Cost functions always need the truth outputs to compare against (this is supervised learning). From before, we saw the labels were a vector of ints - so let's make a symbolic variable for this:"
   ]
  },
  {
   "cell_type": "code",
   "execution_count": 35,
   "metadata": {
    "collapsed": true
   },
   "outputs": [],
   "source": [
    "correct_labels = T.ivector(\"labels\")"
   ]
  },
  {
   "cell_type": "markdown",
   "metadata": {},
   "source": [
    "Now we can compare our output probability from `y` with the true labels. Because the labels are integers, we will want to make an indexing mask to pick out the probabilities our model thought was the likelihood of the correct label.\n",
    "\n",
    "We use `.mean` instead of `.sum` to be less dependent on batch size (better for flexibility)"
   ]
  },
  {
   "cell_type": "code",
   "execution_count": 36,
   "metadata": {
    "collapsed": false
   },
   "outputs": [],
   "source": [
    "log_likelihood = T.log(y)[T.arange(correct_labels.shape[0]), correct_labels]\n",
    "cost = -T.mean(log_likelihood)"
   ]
  },
  {
   "cell_type": "markdown",
   "metadata": {},
   "source": [
    "The easiest way to train neural nets is with Stochastic Gradient Descent. This takes each example, calculates the gradient, and changes the model parameters a small amount in the direction of the gradient.\n",
    "\n",
    "Fancier add-ons to stochastic gradient descent will reduce the learning rate over time, add a momentum factor to the parameters, etc.\n",
    "\n",
    "Before we can start training, we need to know what the gradients are. Luckily we don't have to do any math! Theano has symbolic auto-differentiation which means it can calculate the gradients for arbitrary equations with respect to a cost and parameters."
   ]
  },
  {
   "cell_type": "code",
   "execution_count": 37,
   "metadata": {
    "collapsed": true
   },
   "outputs": [],
   "source": [
    "parameters = [W_x, b_h, W_h, b_y]\n",
    "gradients = T.grad(cost, parameters)"
   ]
  },
  {
   "cell_type": "markdown",
   "metadata": {},
   "source": [
    "Now gradients contains the list of derivatives: `[d_cost/d_W_x, d_cost/d_b_h, d_cost/d_W_h, d_cost/d_b_y]`. One last thing we need to do before training is to use these gradients to update the parameters!\n",
    "\n",
    "Remember how parameters are shared variables? Well, Theano uses something called updates which are just pairs of (shared_variable, new_variable_expression) to change its value. So, let's create these updates to show how we change the parameter values during training with gradients! (We use a learning rate to make small steps over time)."
   ]
  },
  {
   "cell_type": "code",
   "execution_count": 38,
   "metadata": {
    "collapsed": true
   },
   "outputs": [],
   "source": [
    "train_updates = [(param, param - learning_rate*gradient) for param, gradient in zip(parameters, gradients)]"
   ]
  },
  {
   "cell_type": "markdown",
   "metadata": {},
   "source": [
    "Now we can create a Theano function that takes in real inputs and trains our model."
   ]
  },
  {
   "cell_type": "code",
   "execution_count": 39,
   "metadata": {
    "collapsed": true
   },
   "outputs": [],
   "source": [
    "f_train = th.function(inputs=[x, correct_labels], outputs=cost, updates=train_updates, allow_input_downcast=True)"
   ]
  },
  {
   "cell_type": "markdown",
   "metadata": {},
   "source": [
    "For testing purposes, we don't want to use updates to change the parameters, so we need a separate function. We also care more about the output guesses, so let's return those instead of the cost:\n",
    "\n",
    "`error = sum(T.neq(y_hat, correct_labels))/float(y_hat.shape[0])`"
   ]
  },
  {
   "cell_type": "code",
   "execution_count": 40,
   "metadata": {
    "collapsed": false
   },
   "outputs": [],
   "source": [
    "f_test = th.function(inputs=[x], outputs=y_hat, allow_input_downcast=True)"
   ]
  },
  {
   "cell_type": "markdown",
   "metadata": {},
   "source": [
    "Display the the graphs. To actually see the data, first start the algorithm. The plots will updates dinamically."
   ]
  },
  {
   "cell_type": "code",
   "execution_count": 41,
   "metadata": {
    "collapsed": false
   },
   "outputs": [],
   "source": [
    "train_accuracy_vector = []\n",
    "valid_accuracy_vector = []\n",
    "test_accuracy_vector = []\n",
    "cost_vector = []\n",
    "input_vector = []\n",
    "\n",
    "s_cost = ColumnDataSource(data=dict(x=input_vector, y=cost_vector))\n",
    "s_train = ColumnDataSource(data=dict(x=input_vector, y=train_accuracy_vector))\n",
    "s_valid = ColumnDataSource(data=dict(x=input_vector, y=valid_accuracy_vector))\n",
    "s_test = ColumnDataSource(data=dict(x=input_vector, y=test_accuracy_vector))\n",
    "\n",
    "fig1 = bk.figure(plot_width=500, \n",
    "                plot_height=300,\n",
    "                x_axis_label='Epochs',\n",
    "                y_axis_label='Precision (%)')\n",
    "\n",
    "fig1.line('x', 'y', source=s_train, legend='training')\n",
    "fig1.line('x', 'y', source=s_valid, color='red', legend='validation')\n",
    "fig1.line('x', 'y', source=s_test, color='green', legend='test')\n",
    "\n",
    "fig2 = bk.figure(plot_width=500, \n",
    "                plot_height=300,\n",
    "                x_axis_label='Epochs',\n",
    "                y_axis_label='Cost')\n",
    "\n",
    "fig2.line('x', 'y', source=s_cost)\n",
    "\n",
    "p = bk.vplot(fig1, fig2)"
   ]
  },
  {
   "cell_type": "code",
   "execution_count": 42,
   "metadata": {
    "collapsed": true
   },
   "outputs": [],
   "source": [
    "from bokeh.io import push_notebook\n",
    "\n",
    "def update_c(x_vec, y_vec):\n",
    "    s_cost.data['x'] = x_vec\n",
    "    s_cost.data['y'] = y_vec\n",
    "    push_notebook()\n",
    "    \n",
    "def update(x_vec, t_vec, v_vec, e_vec):\n",
    "    s_train.data['x'] = x_vec\n",
    "    s_valid.data['x'] = x_vec\n",
    "    s_test.data['x'] = x_vec\n",
    "    s_train.data['y'] = t_vec\n",
    "    s_valid.data['y'] = v_vec\n",
    "    s_test.data['y'] = e_vec\n",
    "    push_notebook()"
   ]
  },
  {
   "cell_type": "code",
   "execution_count": 43,
   "metadata": {
    "collapsed": false
   },
   "outputs": [
    {
     "data": {
      "text/html": [
       "\n",
       "\n",
       "    <div class=\"plotdiv\" id=\"ad2343c8-7505-44e7-a439-8421edd47124\"></div>\n",
       "<script type=\"text/javascript\">\n",
       "  \n",
       "  (function(global) {\n",
       "    function now() {\n",
       "      return new Date();\n",
       "    }\n",
       "  \n",
       "    if (typeof (window._bokeh_onload_callbacks) === \"undefined\") {\n",
       "      window._bokeh_onload_callbacks = [];\n",
       "    }\n",
       "  \n",
       "    function run_callbacks() {\n",
       "      window._bokeh_onload_callbacks.forEach(function(callback) { callback() });\n",
       "      delete window._bokeh_onload_callbacks\n",
       "      console.info(\"Bokeh: all callbacks have finished\");\n",
       "    }\n",
       "  \n",
       "    function load_libs(js_urls, callback) {\n",
       "      window._bokeh_onload_callbacks.push(callback);\n",
       "      if (window._bokeh_is_loading > 0) {\n",
       "        console.log(\"Bokeh: BokehJS is being loaded, scheduling callback at\", now());\n",
       "        return null;\n",
       "      }\n",
       "      if (js_urls == null || js_urls.length === 0) {\n",
       "        run_callbacks();\n",
       "        return null;\n",
       "      }\n",
       "      console.log(\"Bokeh: BokehJS not loaded, scheduling load and callback at\", now());\n",
       "      window._bokeh_is_loading = js_urls.length;\n",
       "      for (var i = 0; i < js_urls.length; i++) {\n",
       "        var url = js_urls[i];\n",
       "        var s = document.createElement('script');\n",
       "        s.src = url;\n",
       "        s.async = false;\n",
       "        s.onreadystatechange = s.onload = function() {\n",
       "          window._bokeh_is_loading--;\n",
       "          if (window._bokeh_is_loading === 0) {\n",
       "            console.log(\"Bokeh: all BokehJS libraries loaded\");\n",
       "            run_callbacks()\n",
       "          }\n",
       "        };\n",
       "        s.onerror = function() {\n",
       "          console.warn(\"failed to load library \" + url);\n",
       "        };\n",
       "        console.log(\"Bokeh: injecting script tag for BokehJS library: \", url);\n",
       "        document.getElementsByTagName(\"head\")[0].appendChild(s);\n",
       "      }\n",
       "    };var element = document.getElementById(\"ad2343c8-7505-44e7-a439-8421edd47124\");\n",
       "    if (element == null) {\n",
       "      console.log(\"Bokeh: ERROR: autoload.js configured with elementid 'ad2343c8-7505-44e7-a439-8421edd47124' but no matching script tag was found. \")\n",
       "      return false;\n",
       "    }var js_urls = [];\n",
       "  \n",
       "    var inline_js = [\n",
       "      function(Bokeh) {\n",
       "        Bokeh.$(function() {\n",
       "            var docs_json = {\"7cdd013f-385c-4511-a448-a33c955cce73\": {\"version\": \"0.11.0\", \"roots\": {\"root_ids\": [\"bc5f2026-4b9d-4743-9af8-9d0b12632543\"], \"references\": [{\"id\": \"836a440d-8749-4e49-ad2e-6fe907e4bfb5\", \"type\": \"PanTool\", \"attributes\": {\"plot\": {\"id\": \"bf7f163f-4c99-4e01-a626-9fb82f779fd1\", \"type\": \"Plot\", \"subtype\": \"Figure\"}}}, {\"id\": \"440fc705-21fa-4de3-8624-660380640a84\", \"type\": \"ToolEvents\", \"attributes\": {}}, {\"id\": \"e4bd1c4e-afc4-4288-9fec-7468cf6691e5\", \"type\": \"BasicTickFormatter\", \"attributes\": {}}, {\"id\": \"f3aca679-5dd9-445f-bbc2-eba3eb194013\", \"type\": \"Grid\", \"attributes\": {\"ticker\": {\"id\": \"fdd63211-b42f-487f-b5ae-bdabb3036369\", \"type\": \"BasicTicker\"}, \"plot\": {\"id\": \"bf7f163f-4c99-4e01-a626-9fb82f779fd1\", \"type\": \"Plot\", \"subtype\": \"Figure\"}, \"dimension\": 1}}, {\"id\": \"ca1b4159-25cb-4ff9-8513-a94674d5598a\", \"type\": \"Line\", \"attributes\": {\"y\": {\"field\": \"y\"}, \"x\": {\"field\": \"x\"}, \"line_color\": {\"value\": \"red\"}}}, {\"id\": \"59358fe3-ae60-4a16-af51-c35406e9c6b2\", \"type\": \"LinearAxis\", \"attributes\": {\"ticker\": {\"id\": \"53edebc5-32b5-4739-a259-17ddfd28670c\", \"type\": \"BasicTicker\"}, \"plot\": {\"id\": \"bf7f163f-4c99-4e01-a626-9fb82f779fd1\", \"type\": \"Plot\", \"subtype\": \"Figure\"}, \"axis_label\": \"Epochs\", \"formatter\": {\"id\": \"e634d7a0-6604-40bb-bbfe-33e6de491cad\", \"type\": \"BasicTickFormatter\"}}}, {\"id\": \"b75f407f-e330-4b2c-b966-657ab3c73219\", \"type\": \"BoxZoomTool\", \"attributes\": {\"overlay\": {\"id\": \"4418b02e-9e95-4201-a64f-a196f55d8d81\", \"type\": \"BoxAnnotation\"}, \"plot\": {\"id\": \"bf7f163f-4c99-4e01-a626-9fb82f779fd1\", \"type\": \"Plot\", \"subtype\": \"Figure\"}}}, {\"id\": \"5ec02519-6d53-464b-b1b5-dbe93ea4916e\", \"type\": \"BasicTicker\", \"attributes\": {}}, {\"id\": \"e6b1cfe2-5e6a-441f-afe3-9c542610c932\", \"type\": \"Plot\", \"subtype\": \"Figure\", \"attributes\": {\"plot_height\": 300, \"x_range\": {\"id\": \"d3318018-8a80-4d70-8525-c75b5c858156\", \"type\": \"DataRange1d\"}, \"tool_events\": {\"id\": \"440fc705-21fa-4de3-8624-660380640a84\", \"type\": \"ToolEvents\"}, \"plot_width\": 500, \"renderers\": [{\"id\": \"9d92e232-70b3-410a-9285-237358480e82\", \"type\": \"LinearAxis\"}, {\"id\": \"d87409b9-2410-4658-900d-164430ec9c50\", \"type\": \"Grid\"}, {\"id\": \"95b535f4-7be4-4382-accc-c4176bb8b32a\", \"type\": \"LinearAxis\"}, {\"id\": \"6be93081-7b7c-4699-a7d4-1e4f108a8943\", \"type\": \"Grid\"}, {\"id\": \"bdeff786-f8b3-4abd-848b-878507cfef19\", \"type\": \"BoxAnnotation\"}, {\"id\": \"2afa4d1d-5bed-4c3e-ae69-9783e50c9f8b\", \"type\": \"GlyphRenderer\"}], \"below\": [{\"id\": \"9d92e232-70b3-410a-9285-237358480e82\", \"type\": \"LinearAxis\"}], \"left\": [{\"id\": \"95b535f4-7be4-4382-accc-c4176bb8b32a\", \"type\": \"LinearAxis\"}], \"tools\": [{\"id\": \"65697f71-bf2e-491e-aae2-7d8b7751dd6c\", \"type\": \"PanTool\"}, {\"id\": \"6a8cc87c-ac55-4a87-a87b-35a29ff384e7\", \"type\": \"WheelZoomTool\"}, {\"id\": \"4bcf11e6-d893-4c39-8d2c-4662ad6c1fd6\", \"type\": \"BoxZoomTool\"}, {\"id\": \"68e6270b-5107-47b8-8600-68b3e1e44bf1\", \"type\": \"PreviewSaveTool\"}, {\"id\": \"79801083-8765-4471-97dc-c70e4efac553\", \"type\": \"ResizeTool\"}, {\"id\": \"a510da1c-c797-4ab1-b5e9-ffa980a9e9bc\", \"type\": \"ResetTool\"}, {\"id\": \"33b06a2a-779d-42da-92ce-7bc11b8c765c\", \"type\": \"HelpTool\"}], \"y_range\": {\"id\": \"9ecbd9f0-0b57-423e-ba01-cc964156bea0\", \"type\": \"DataRange1d\"}}}, {\"id\": \"a510da1c-c797-4ab1-b5e9-ffa980a9e9bc\", \"type\": \"ResetTool\", \"attributes\": {\"plot\": {\"id\": \"e6b1cfe2-5e6a-441f-afe3-9c542610c932\", \"type\": \"Plot\", \"subtype\": \"Figure\"}}}, {\"id\": \"7614bce9-cd14-4918-888f-ba3ac182cd9d\", \"type\": \"GlyphRenderer\", \"attributes\": {\"selection_glyph\": null, \"nonselection_glyph\": {\"id\": \"bb37bd9c-cd90-4b06-9d48-4ddf91bbfd56\", \"type\": \"Line\"}, \"glyph\": {\"id\": \"ca1b4159-25cb-4ff9-8513-a94674d5598a\", \"type\": \"Line\"}, \"hover_glyph\": null, \"data_source\": {\"id\": \"f613cdaf-1886-4baf-aaff-53dde072e3ff\", \"type\": \"ColumnDataSource\"}}}, {\"id\": \"95b535f4-7be4-4382-accc-c4176bb8b32a\", \"type\": \"LinearAxis\", \"attributes\": {\"ticker\": {\"id\": \"6f36b00c-91bd-452b-8348-bcacb2262037\", \"type\": \"BasicTicker\"}, \"plot\": {\"id\": \"e6b1cfe2-5e6a-441f-afe3-9c542610c932\", \"type\": \"Plot\", \"subtype\": \"Figure\"}, \"axis_label\": \"Cost\", \"formatter\": {\"id\": \"e4bd1c4e-afc4-4288-9fec-7468cf6691e5\", \"type\": \"BasicTickFormatter\"}}}, {\"id\": \"9ecbd9f0-0b57-423e-ba01-cc964156bea0\", \"type\": \"DataRange1d\", \"attributes\": {\"callback\": null}}, {\"id\": \"2748d026-6cce-489b-b34f-65fa50ce92de\", \"type\": \"Line\", \"attributes\": {\"y\": {\"field\": \"y\"}, \"x\": {\"field\": \"x\"}, \"line_color\": {\"value\": \"green\"}}}, {\"id\": \"53edebc5-32b5-4739-a259-17ddfd28670c\", \"type\": \"BasicTicker\", \"attributes\": {}}, {\"id\": \"fdd63211-b42f-487f-b5ae-bdabb3036369\", \"type\": \"BasicTicker\", \"attributes\": {}}, {\"id\": \"34c07c5e-c636-482f-a8d4-7104dc4a920b\", \"type\": \"LinearAxis\", \"attributes\": {\"ticker\": {\"id\": \"fdd63211-b42f-487f-b5ae-bdabb3036369\", \"type\": \"BasicTicker\"}, \"plot\": {\"id\": \"bf7f163f-4c99-4e01-a626-9fb82f779fd1\", \"type\": \"Plot\", \"subtype\": \"Figure\"}, \"axis_label\": \"Precision (%)\", \"formatter\": {\"id\": \"c8eb596b-746f-4957-a8bf-f12467402999\", \"type\": \"BasicTickFormatter\"}}}, {\"id\": \"bb37bd9c-cd90-4b06-9d48-4ddf91bbfd56\", \"type\": \"Line\", \"attributes\": {\"y\": {\"field\": \"y\"}, \"x\": {\"field\": \"x\"}, \"line_alpha\": {\"value\": 0.1}, \"line_color\": {\"value\": \"#1f77b4\"}}}, {\"id\": \"9239324b-9b2d-41b2-9acf-50d2bc33ae48\", \"type\": \"ColumnDataSource\", \"attributes\": {\"column_names\": [\"y\", \"x\"], \"data\": {\"y\": [], \"x\": []}, \"callback\": null}}, {\"id\": \"e634d7a0-6604-40bb-bbfe-33e6de491cad\", \"type\": \"BasicTickFormatter\", \"attributes\": {}}, {\"id\": \"4418b02e-9e95-4201-a64f-a196f55d8d81\", \"type\": \"BoxAnnotation\", \"attributes\": {\"bottom_units\": \"screen\", \"fill_color\": {\"value\": \"lightgrey\"}, \"top_units\": \"screen\", \"line_alpha\": {\"value\": 1.0}, \"right_units\": \"screen\", \"line_dash\": [4, 4], \"left_units\": \"screen\", \"render_mode\": \"css\", \"level\": \"overlay\", \"line_width\": {\"value\": 2}, \"line_color\": {\"value\": \"black\"}, \"fill_alpha\": {\"value\": 0.5}, \"plot\": null}}, {\"id\": \"bc5f2026-4b9d-4743-9af8-9d0b12632543\", \"type\": \"VBox\", \"attributes\": {\"children\": [{\"id\": \"bf7f163f-4c99-4e01-a626-9fb82f779fd1\", \"type\": \"Plot\", \"subtype\": \"Figure\"}, {\"id\": \"e6b1cfe2-5e6a-441f-afe3-9c542610c932\", \"type\": \"Plot\", \"subtype\": \"Figure\"}]}}, {\"id\": \"bf7f163f-4c99-4e01-a626-9fb82f779fd1\", \"type\": \"Plot\", \"subtype\": \"Figure\", \"attributes\": {\"plot_height\": 300, \"x_range\": {\"id\": \"cf8bedf7-7f24-4d7c-bd8f-4cc318bfb44d\", \"type\": \"DataRange1d\"}, \"tool_events\": {\"id\": \"1c5af06e-0cbb-4f07-a89d-af6a8d3022a0\", \"type\": \"ToolEvents\"}, \"plot_width\": 500, \"renderers\": [{\"id\": \"59358fe3-ae60-4a16-af51-c35406e9c6b2\", \"type\": \"LinearAxis\"}, {\"id\": \"11a70086-cd4e-4d09-8182-ca5c7bbefbf0\", \"type\": \"Grid\"}, {\"id\": \"34c07c5e-c636-482f-a8d4-7104dc4a920b\", \"type\": \"LinearAxis\"}, {\"id\": \"f3aca679-5dd9-445f-bbc2-eba3eb194013\", \"type\": \"Grid\"}, {\"id\": \"4418b02e-9e95-4201-a64f-a196f55d8d81\", \"type\": \"BoxAnnotation\"}, {\"id\": \"d3302ecd-b7b8-46fb-a9a2-28e27565863b\", \"type\": \"Legend\"}, {\"id\": \"9a08f1f3-9dd4-424a-a8b9-47a713a216ff\", \"type\": \"GlyphRenderer\"}, {\"id\": \"7614bce9-cd14-4918-888f-ba3ac182cd9d\", \"type\": \"GlyphRenderer\"}, {\"id\": \"c37cfd2c-8d0d-4f7a-a137-4e5821f75968\", \"type\": \"GlyphRenderer\"}], \"below\": [{\"id\": \"59358fe3-ae60-4a16-af51-c35406e9c6b2\", \"type\": \"LinearAxis\"}], \"left\": [{\"id\": \"34c07c5e-c636-482f-a8d4-7104dc4a920b\", \"type\": \"LinearAxis\"}], \"tools\": [{\"id\": \"836a440d-8749-4e49-ad2e-6fe907e4bfb5\", \"type\": \"PanTool\"}, {\"id\": \"9f8ab381-374c-491c-b9b3-e4844412c1f0\", \"type\": \"WheelZoomTool\"}, {\"id\": \"b75f407f-e330-4b2c-b966-657ab3c73219\", \"type\": \"BoxZoomTool\"}, {\"id\": \"43d8e76f-5e38-4ce2-88b2-36768ff7b131\", \"type\": \"PreviewSaveTool\"}, {\"id\": \"d1db372b-b492-4b68-ac9c-c1823a85621c\", \"type\": \"ResizeTool\"}, {\"id\": \"ec660180-1278-4bc8-9da5-06af578a8296\", \"type\": \"ResetTool\"}, {\"id\": \"8feabd97-4949-4fa1-9894-486671610599\", \"type\": \"HelpTool\"}], \"y_range\": {\"id\": \"3a4fc18b-88c6-48f4-9853-c2990a49633c\", \"type\": \"DataRange1d\"}}}, {\"id\": \"c8eb596b-746f-4957-a8bf-f12467402999\", \"type\": \"BasicTickFormatter\", \"attributes\": {}}, {\"id\": \"6a8cc87c-ac55-4a87-a87b-35a29ff384e7\", \"type\": \"WheelZoomTool\", \"attributes\": {\"plot\": {\"id\": \"e6b1cfe2-5e6a-441f-afe3-9c542610c932\", \"type\": \"Plot\", \"subtype\": \"Figure\"}}}, {\"id\": \"d3302ecd-b7b8-46fb-a9a2-28e27565863b\", \"type\": \"Legend\", \"attributes\": {\"plot\": {\"id\": \"bf7f163f-4c99-4e01-a626-9fb82f779fd1\", \"type\": \"Plot\", \"subtype\": \"Figure\"}, \"legends\": [[\"training\", [{\"id\": \"9a08f1f3-9dd4-424a-a8b9-47a713a216ff\", \"type\": \"GlyphRenderer\"}]], [\"validation\", [{\"id\": \"7614bce9-cd14-4918-888f-ba3ac182cd9d\", \"type\": \"GlyphRenderer\"}]], [\"test\", [{\"id\": \"c37cfd2c-8d0d-4f7a-a137-4e5821f75968\", \"type\": \"GlyphRenderer\"}]]]}}, {\"id\": \"6be93081-7b7c-4699-a7d4-1e4f108a8943\", \"type\": \"Grid\", \"attributes\": {\"ticker\": {\"id\": \"6f36b00c-91bd-452b-8348-bcacb2262037\", \"type\": \"BasicTicker\"}, \"plot\": {\"id\": \"e6b1cfe2-5e6a-441f-afe3-9c542610c932\", \"type\": \"Plot\", \"subtype\": \"Figure\"}, \"dimension\": 1}}, {\"id\": \"1c5af06e-0cbb-4f07-a89d-af6a8d3022a0\", \"type\": \"ToolEvents\", \"attributes\": {}}, {\"id\": \"f613cdaf-1886-4baf-aaff-53dde072e3ff\", \"type\": \"ColumnDataSource\", \"attributes\": {\"column_names\": [\"y\", \"x\"], \"data\": {\"y\": [], \"x\": []}, \"callback\": null}}, {\"id\": \"cf8bedf7-7f24-4d7c-bd8f-4cc318bfb44d\", \"type\": \"DataRange1d\", \"attributes\": {\"callback\": null}}, {\"id\": \"9f8ab381-374c-491c-b9b3-e4844412c1f0\", \"type\": \"WheelZoomTool\", \"attributes\": {\"plot\": {\"id\": \"bf7f163f-4c99-4e01-a626-9fb82f779fd1\", \"type\": \"Plot\", \"subtype\": \"Figure\"}}}, {\"id\": \"c37cfd2c-8d0d-4f7a-a137-4e5821f75968\", \"type\": \"GlyphRenderer\", \"attributes\": {\"selection_glyph\": null, \"nonselection_glyph\": {\"id\": \"f2de8f87-44df-45fb-8c33-dad00eaff4a3\", \"type\": \"Line\"}, \"glyph\": {\"id\": \"2748d026-6cce-489b-b34f-65fa50ce92de\", \"type\": \"Line\"}, \"hover_glyph\": null, \"data_source\": {\"id\": \"9239324b-9b2d-41b2-9acf-50d2bc33ae48\", \"type\": \"ColumnDataSource\"}}}, {\"id\": \"b57880ea-21f5-4fab-bb27-1b68999eb90c\", \"type\": \"Line\", \"attributes\": {\"y\": {\"field\": \"y\"}, \"x\": {\"field\": \"x\"}, \"line_color\": {\"value\": \"#1f77b4\"}}}, {\"id\": \"d3318018-8a80-4d70-8525-c75b5c858156\", \"type\": \"DataRange1d\", \"attributes\": {\"callback\": null}}, {\"id\": \"ec660180-1278-4bc8-9da5-06af578a8296\", \"type\": \"ResetTool\", \"attributes\": {\"plot\": {\"id\": \"bf7f163f-4c99-4e01-a626-9fb82f779fd1\", \"type\": \"Plot\", \"subtype\": \"Figure\"}}}, {\"id\": \"43d8e76f-5e38-4ce2-88b2-36768ff7b131\", \"type\": \"PreviewSaveTool\", \"attributes\": {\"plot\": {\"id\": \"bf7f163f-4c99-4e01-a626-9fb82f779fd1\", \"type\": \"Plot\", \"subtype\": \"Figure\"}}}, {\"id\": \"68e6270b-5107-47b8-8600-68b3e1e44bf1\", \"type\": \"PreviewSaveTool\", \"attributes\": {\"plot\": {\"id\": \"e6b1cfe2-5e6a-441f-afe3-9c542610c932\", \"type\": \"Plot\", \"subtype\": \"Figure\"}}}, {\"id\": \"9a08f1f3-9dd4-424a-a8b9-47a713a216ff\", \"type\": \"GlyphRenderer\", \"attributes\": {\"selection_glyph\": null, \"nonselection_glyph\": {\"id\": \"74664ba9-0cb9-47dc-9545-238d13c78522\", \"type\": \"Line\"}, \"glyph\": {\"id\": \"b57880ea-21f5-4fab-bb27-1b68999eb90c\", \"type\": \"Line\"}, \"hover_glyph\": null, \"data_source\": {\"id\": \"5a057d8c-55ca-4978-8781-e5d8a7c483b7\", \"type\": \"ColumnDataSource\"}}}, {\"id\": \"8feabd97-4949-4fa1-9894-486671610599\", \"type\": \"HelpTool\", \"attributes\": {\"plot\": {\"id\": \"bf7f163f-4c99-4e01-a626-9fb82f779fd1\", \"type\": \"Plot\", \"subtype\": \"Figure\"}}}, {\"id\": \"74664ba9-0cb9-47dc-9545-238d13c78522\", \"type\": \"Line\", \"attributes\": {\"y\": {\"field\": \"y\"}, \"x\": {\"field\": \"x\"}, \"line_alpha\": {\"value\": 0.1}, \"line_color\": {\"value\": \"#1f77b4\"}}}, {\"id\": \"d1db372b-b492-4b68-ac9c-c1823a85621c\", \"type\": \"ResizeTool\", \"attributes\": {\"plot\": {\"id\": \"bf7f163f-4c99-4e01-a626-9fb82f779fd1\", \"type\": \"Plot\", \"subtype\": \"Figure\"}}}, {\"id\": \"6f36b00c-91bd-452b-8348-bcacb2262037\", \"type\": \"BasicTicker\", \"attributes\": {}}, {\"id\": \"55207fb3-0efc-4bec-b453-aa02d67e9620\", \"type\": \"ColumnDataSource\", \"attributes\": {\"column_names\": [\"y\", \"x\"], \"data\": {\"y\": [], \"x\": []}, \"callback\": null}}, {\"id\": \"81787740-7ada-4709-b522-ef422557fb61\", \"type\": \"Line\", \"attributes\": {\"y\": {\"field\": \"y\"}, \"x\": {\"field\": \"x\"}, \"line_alpha\": {\"value\": 0.1}, \"line_color\": {\"value\": \"#1f77b4\"}}}, {\"id\": \"d87409b9-2410-4658-900d-164430ec9c50\", \"type\": \"Grid\", \"attributes\": {\"ticker\": {\"id\": \"5ec02519-6d53-464b-b1b5-dbe93ea4916e\", \"type\": \"BasicTicker\"}, \"plot\": {\"id\": \"e6b1cfe2-5e6a-441f-afe3-9c542610c932\", \"type\": \"Plot\", \"subtype\": \"Figure\"}}}, {\"id\": \"3a4fc18b-88c6-48f4-9853-c2990a49633c\", \"type\": \"DataRange1d\", \"attributes\": {\"callback\": null}}, {\"id\": \"65697f71-bf2e-491e-aae2-7d8b7751dd6c\", \"type\": \"PanTool\", \"attributes\": {\"plot\": {\"id\": \"e6b1cfe2-5e6a-441f-afe3-9c542610c932\", \"type\": \"Plot\", \"subtype\": \"Figure\"}}}, {\"id\": \"33b06a2a-779d-42da-92ce-7bc11b8c765c\", \"type\": \"HelpTool\", \"attributes\": {\"plot\": {\"id\": \"e6b1cfe2-5e6a-441f-afe3-9c542610c932\", \"type\": \"Plot\", \"subtype\": \"Figure\"}}}, {\"id\": \"5a057d8c-55ca-4978-8781-e5d8a7c483b7\", \"type\": \"ColumnDataSource\", \"attributes\": {\"column_names\": [\"y\", \"x\"], \"data\": {\"y\": [], \"x\": []}, \"callback\": null}}, {\"id\": \"bdeff786-f8b3-4abd-848b-878507cfef19\", \"type\": \"BoxAnnotation\", \"attributes\": {\"bottom_units\": \"screen\", \"fill_color\": {\"value\": \"lightgrey\"}, \"top_units\": \"screen\", \"line_alpha\": {\"value\": 1.0}, \"right_units\": \"screen\", \"line_dash\": [4, 4], \"left_units\": \"screen\", \"render_mode\": \"css\", \"level\": \"overlay\", \"line_width\": {\"value\": 2}, \"line_color\": {\"value\": \"black\"}, \"fill_alpha\": {\"value\": 0.5}, \"plot\": null}}, {\"id\": \"f2de8f87-44df-45fb-8c33-dad00eaff4a3\", \"type\": \"Line\", \"attributes\": {\"y\": {\"field\": \"y\"}, \"x\": {\"field\": \"x\"}, \"line_alpha\": {\"value\": 0.1}, \"line_color\": {\"value\": \"#1f77b4\"}}}, {\"id\": \"2afa4d1d-5bed-4c3e-ae69-9783e50c9f8b\", \"type\": \"GlyphRenderer\", \"attributes\": {\"selection_glyph\": null, \"nonselection_glyph\": {\"id\": \"81787740-7ada-4709-b522-ef422557fb61\", \"type\": \"Line\"}, \"glyph\": {\"id\": \"2ef82e50-5487-4a28-acd0-ca8be71b0904\", \"type\": \"Line\"}, \"hover_glyph\": null, \"data_source\": {\"id\": \"55207fb3-0efc-4bec-b453-aa02d67e9620\", \"type\": \"ColumnDataSource\"}}}, {\"id\": \"2ef82e50-5487-4a28-acd0-ca8be71b0904\", \"type\": \"Line\", \"attributes\": {\"y\": {\"field\": \"y\"}, \"x\": {\"field\": \"x\"}, \"line_color\": {\"value\": \"#1f77b4\"}}}, {\"id\": \"9d92e232-70b3-410a-9285-237358480e82\", \"type\": \"LinearAxis\", \"attributes\": {\"ticker\": {\"id\": \"5ec02519-6d53-464b-b1b5-dbe93ea4916e\", \"type\": \"BasicTicker\"}, \"plot\": {\"id\": \"e6b1cfe2-5e6a-441f-afe3-9c542610c932\", \"type\": \"Plot\", \"subtype\": \"Figure\"}, \"axis_label\": \"Epochs\", \"formatter\": {\"id\": \"e1a18ac8-c455-4127-ab41-3d98db597635\", \"type\": \"BasicTickFormatter\"}}}, {\"id\": \"4bcf11e6-d893-4c39-8d2c-4662ad6c1fd6\", \"type\": \"BoxZoomTool\", \"attributes\": {\"overlay\": {\"id\": \"bdeff786-f8b3-4abd-848b-878507cfef19\", \"type\": \"BoxAnnotation\"}, \"plot\": {\"id\": \"e6b1cfe2-5e6a-441f-afe3-9c542610c932\", \"type\": \"Plot\", \"subtype\": \"Figure\"}}}, {\"id\": \"79801083-8765-4471-97dc-c70e4efac553\", \"type\": \"ResizeTool\", \"attributes\": {\"plot\": {\"id\": \"e6b1cfe2-5e6a-441f-afe3-9c542610c932\", \"type\": \"Plot\", \"subtype\": \"Figure\"}}}, {\"id\": \"11a70086-cd4e-4d09-8182-ca5c7bbefbf0\", \"type\": \"Grid\", \"attributes\": {\"ticker\": {\"id\": \"53edebc5-32b5-4739-a259-17ddfd28670c\", \"type\": \"BasicTicker\"}, \"plot\": {\"id\": \"bf7f163f-4c99-4e01-a626-9fb82f779fd1\", \"type\": \"Plot\", \"subtype\": \"Figure\"}}}, {\"id\": \"e1a18ac8-c455-4127-ab41-3d98db597635\", \"type\": \"BasicTickFormatter\", \"attributes\": {}}]}, \"title\": \"Bokeh Application\"}};\n",
       "            var render_items = [{\"notebook_comms_target\": \"6da1f2a4-dc17-462a-b1ee-ee2e02081ca1\", \"docid\": \"7cdd013f-385c-4511-a448-a33c955cce73\", \"elementid\": \"ad2343c8-7505-44e7-a439-8421edd47124\", \"modelid\": \"bc5f2026-4b9d-4743-9af8-9d0b12632543\"}];\n",
       "            \n",
       "            Bokeh.embed.embed_items(docs_json, render_items);\n",
       "        });\n",
       "      },\n",
       "      function(Bokeh) {\n",
       "      }\n",
       "    ];\n",
       "  \n",
       "    function run_inline_js() {\n",
       "      for (var i = 0; i < inline_js.length; i++) {\n",
       "        inline_js[i](window.Bokeh);\n",
       "      }\n",
       "    }\n",
       "  \n",
       "    if (window._bokeh_is_loading === 0) {\n",
       "      console.log(\"Bokeh: BokehJS loaded, going straight to plotting\");\n",
       "      run_inline_js();\n",
       "    } else {\n",
       "      load_libs(js_urls, function() {\n",
       "        console.log(\"Bokeh: BokehJS plotting callback run at\", now());\n",
       "        run_inline_js();\n",
       "      });\n",
       "    }\n",
       "  }(this));\n",
       "</script>"
      ]
     },
     "metadata": {},
     "output_type": "display_data"
    },
    {
     "data": {
      "text/plain": [
       "<bokeh.io._CommsHandle at 0x7f877ee96d30>"
      ]
     },
     "execution_count": 43,
     "metadata": {},
     "output_type": "execute_result"
    }
   ],
   "source": [
    "bk.show(p)"
   ]
  },
  {
   "cell_type": "markdown",
   "metadata": {},
   "source": [
    "Ok, now we are ready to launch the training:"
   ]
  },
  {
   "cell_type": "code",
   "execution_count": 44,
   "metadata": {
    "collapsed": false,
    "scrolled": true
   },
   "outputs": [],
   "source": [
    "train_batches = len(train_x) // batch_size # How many batches we can fit into each data set\n",
    "valid_batches = len(valid_x) // batch_size\n",
    "test_batches = len(test_x) // batch_size\n",
    "\n",
    "for epoch in range(epochs+1):\n",
    "    train_costs = []\n",
    "    train_accuracy = []\n",
    "    for i in range(train_batches):\n",
    "        batch_x = train_x[i*batch_size:(i+1)*batch_size]        # Minibatch\n",
    "        batch_labels = train_y[i*batch_size:(i+1)*batch_size]\n",
    "        costs = f_train(batch_x, batch_labels)                  # Compute cost and update\n",
    "        preds = f_test(batch_x)                                 # Compute the predictions\n",
    "        acc = sum(preds==batch_labels)/float(len(batch_labels)) # Compute the accuracy\n",
    "        train_costs.append(costs)\n",
    "        train_accuracy.append(acc)\n",
    "\n",
    "    # Show the mean cost and accuracy across minibatches (the entire train set!)\n",
    "    #print epoch+1, \":\",\n",
    "    #print \"cost:\", np.mean(train_costs), \"\\ttrain:\", str(np.mean(train_accuracy)*100)+\"%\",\n",
    "    train_accuracy_vector.append(np.mean(train_accuracy) * 100)\n",
    "    cost_vector.append(np.mean(train_costs))\n",
    "    update_c(range(epoch), cost_vector)\n",
    "    \n",
    "    valid_accuracy = []\n",
    "    for i in range(valid_batches):\n",
    "        batch_x = valid_x[i*batch_size:(i+1)*batch_size]\n",
    "        batch_labels = valid_y[i*batch_size:(i+1)*batch_size]\n",
    "        preds = f_test(batch_x)\n",
    "        acc = sum(preds==batch_labels)/float(len(batch_labels))\n",
    "        valid_accuracy.append(acc)\n",
    "\n",
    "    test_accuracy = []\n",
    "    for i in range(test_batches):\n",
    "        batch_x = test_x[i*batch_size:(i+1)*batch_size]\n",
    "        batch_labels = test_y[i*batch_size:(i+1)*batch_size]\n",
    "        preds = f_test(batch_x)\n",
    "        acc = sum(preds==batch_labels)/float(len(batch_labels))\n",
    "        test_accuracy.append(acc)\n",
    "        \n",
    "    #print \"\\tvalid:\", str(np.mean(valid_accuracy)*100)+\"%\",\n",
    "    valid_accuracy_vector.append(np.mean(valid_accuracy) * 100)\n",
    "    #print \"\\ttest:\", str(np.mean(test_accuracy)*100)+\"%\"\n",
    "    test_accuracy_vector.append(np.mean(test_accuracy) * 100)\n",
    "    update(range(epoch), train_accuracy_vector, valid_accuracy_vector, test_accuracy_vector)"
   ]
  },
  {
   "cell_type": "markdown",
   "metadata": {
    "collapsed": true
   },
   "source": [
    "## 7 Computational Graphs\n",
    "\n",
    "Theano provides pydotprint() that creates an image of the computational graph function. It relies on a library called `pydot` which we suggest to install directly from source ([here](https://github.com/nlhepler/pydot)).\n",
    "\n",
    "The first image shows the computational graph of the function before the compilation"
   ]
  },
  {
   "cell_type": "code",
   "execution_count": 45,
   "metadata": {
    "collapsed": false
   },
   "outputs": [
    {
     "name": "stdout",
     "output_type": "stream",
     "text": [
      "The output file is available at utilities/test.png\n"
     ]
    }
   ],
   "source": [
    "th.printing.pydotprint(y_hat, outfile=\"utilities/test.png\", var_with_name_simple=True)"
   ]
  },
  {
   "cell_type": "code",
   "execution_count": 46,
   "metadata": {
    "collapsed": false
   },
   "outputs": [
    {
     "data": {
      "image/png": "[encoded data removed]",
      "text/plain": [
       "<IPython.core.display.Image object>"
      ]
     },
     "execution_count": 46,
     "metadata": {},
     "output_type": "execute_result"
    }
   ],
   "source": [
    "Image(filename='utilities/test.png') "
   ]
  },
  {
   "cell_type": "markdown",
   "metadata": {},
   "source": [
    "The second image shows the computational graph after the compilation"
   ]
  },
  {
   "cell_type": "code",
   "execution_count": 47,
   "metadata": {
    "collapsed": false
   },
   "outputs": [
    {
     "name": "stdout",
     "output_type": "stream",
     "text": [
      "The output file is available at utilities/test2.png\n"
     ]
    }
   ],
   "source": [
    "th.printing.pydotprint(f_test, outfile=\"utilities/test2.png\", var_with_name_simple=True)"
   ]
  },
  {
   "cell_type": "code",
   "execution_count": 48,
   "metadata": {
    "collapsed": false
   },
   "outputs": [
    {
     "data": {
      "image/png": "[encoded data removed]",
      "text/plain": [
       "<IPython.core.display.Image object>"
      ]
     },
     "execution_count": 48,
     "metadata": {},
     "output_type": "execute_result"
    }
   ],
   "source": [
    "Image(filename='utilities/test2.png') "
   ]
  },
  {
   "cell_type": "markdown",
   "metadata": {
    "collapsed": true
   },
   "source": [
    "---\n",
    "\n",
    "Visit [www.add-for.com](<http://www.add-for.com/IT>) for more tutorials and updates.\n",
    "\n",
    "This work is licensed under a <a rel=\"license\" href=\"http://creativecommons.org/licenses/by-sa/4.0/\">Creative Commons Attribution-ShareAlike 4.0 International License</a>."
   ]
  }
 ],
 "metadata": {
  "kernelspec": {
   "display_name": "Python 3",
   "language": "python",
   "name": "python3"
  },
  "language_info": {
   "codemirror_mode": {
    "name": "ipython",
    "version": 3
   },
   "file_extension": ".py",
   "mimetype": "text/x-python",
   "name": "python",
   "nbconvert_exporter": "python",
   "pygments_lexer": "ipython3",
   "version": "3.4.3"
  }
 },
 "nbformat": 4,
 "nbformat_minor": 0
}
