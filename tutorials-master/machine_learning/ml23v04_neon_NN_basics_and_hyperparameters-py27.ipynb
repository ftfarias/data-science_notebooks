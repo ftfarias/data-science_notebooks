{
 "cells": [
  {
   "cell_type": "markdown",
   "metadata": {
    "collapsed": true
   },
   "source": [
    "# Neural Networks with Nervana Neon library"
   ]
  },
  {
   "cell_type": "code",
   "execution_count": 1,
   "metadata": {
    "collapsed": false
   },
   "outputs": [
    {
     "data": {
      "text/html": [
       "<div id='toc-container'><script type='text/javascript'>\n",
       "$(function() {\n",
       "    function regenTOC(){\n",
       "        element = $(\"#toc-container\");\n",
       "\n",
       "\tvar toc = document.createElement(\"div\");\n",
       "\t$(toc).attr(\"class\", \"table-of-contents\");\n",
       "\n",
       "\tvar curLevel = 0;\n",
       "\tvar containerStack = [toc];\n",
       "\tvar levelOfTag = {\"h2\": 1, \"h3\": 2, \"h4\": 3, \"h5\": 4};\n",
       "\n",
       "\tfunction pushLevel() {\n",
       "            var list = document.createElement(\"ul\");\n",
       "            containerStack.push(list);\n",
       "            curLevel++;\n",
       "\t}\n",
       "\t\n",
       "\tfunction popLevel() {\n",
       "            var lastContainer = containerStack.pop();\n",
       "            $(lastContainer).appendTo(containerStack[containerStack.length - 1]);\n",
       "            curLevel--;\n",
       "\t}\n",
       "\t\n",
       "\t$(\".text_cell_render :header\").each(function (i, elem) {\n",
       "            var level = levelOfTag[ elem.tagName.toLowerCase() ];\n",
       "\n",
       "            if (level === undefined)\n",
       "\t\treturn;\n",
       "\n",
       "            while (curLevel < level)\n",
       "\t\tpushLevel();\n",
       "            while (curLevel > level)\n",
       "\t\tpopLevel();\n",
       "            \n",
       "            var listItem = document.createElement(\"li\");\n",
       "            var link = document.createElement(\"a\");\n",
       "            $(link)\n",
       "\t\t.text($(elem).contents().first().text()) // Remove the pilcrow sign\n",
       "\t\t.attr(\"href\", \"#\" + $(elem).attr(\"id\"))\n",
       "\t\t.appendTo(listItem);\n",
       "            $(listItem).appendTo(containerStack[containerStack.length - 1]);\n",
       "\t});\n",
       "\t\n",
       "\twhile (curLevel > 0)\n",
       "            popLevel();\n",
       "\n",
       "        $(\"<a class='btn-update' href='#'>Update</a>\")\n",
       "          .click(regenTOC).prependTo(toc);\n",
       "\n",
       "\t$(toc).prepend(\"<div class='title'>Contents</div>\")\n",
       "          .wrap(\"<div class='toc-headings'/>\");\n",
       "\n",
       "        $(element).empty();\n",
       "        $(element).append(toc);\n",
       "    }\n",
       "\n",
       "    if (typeof(IPython) !== 'undefined')\n",
       "        $([IPython.events]).on('notebook_loaded.Notebook', regenTOC);\n",
       "    regenTOC();\n",
       "});\n",
       "\n",
       "</script></div>"
      ],
      "text/plain": [
       "<IPython.core.display.HTML object>"
      ]
     },
     "execution_count": 1,
     "metadata": {},
     "output_type": "execute_result"
    }
   ],
   "source": [
    "import addutils.toc ; addutils.toc.js(ipy_notebook=True)"
   ]
  },
  {
   "cell_type": "code",
   "execution_count": 2,
   "metadata": {
    "collapsed": false
   },
   "outputs": [
    {
     "data": {
      "text/html": [
       "<style>\n",
       ".text_cell_render @font-face {\n",
       "    font-family: \"Computer Modern\";\n",
       "    src: url('http://mirrors.ctan.org/fonts/cm-unicode/fonts/otf/cmunss.otf');\n",
       "}\n",
       "\n",
       "div.cell {\n",
       "    width: 900px;\n",
       "    margin-left: 0% !important;\n",
       "    margin-right: 0%;\n",
       "}\n",
       "\n",
       "code {\n",
       "    font-size:10pt;\n",
       "}\n",
       "\n",
       ".text_cell_render  h1 {\n",
       "    font-family: Tahoma, sans-serif;\n",
       "    color: rgb( 10, 88, 126 );\n",
       "    font-size:28pt;\n",
       "}\n",
       ".text_cell_render h2 {\n",
       "    font-family: Tahoma, sans-serif;\n",
       "    color: rgb( 10, 88, 126 );\n",
       "    font-size:24pt;\n",
       "}\n",
       ".text_cell_render h3 {\n",
       "    font-family: Tahoma, sans-serif;\n",
       "    color: rgb( 10, 88, 126 );\n",
       "    font-size:20pt;\n",
       "}\n",
       ".text_cell_render h4 {\n",
       "    font-family: Tahoma, sans-serif;\n",
       "    color: rgb( 10, 88, 126 );\n",
       "    font-size:18pt;\n",
       "    margin-top:12px;\n",
       "    margin-bottom: 3px;\n",
       "}\n",
       "\n",
       ".text_cell_render h5 {\n",
       "    font-weight: 300;\n",
       "    font-size: 11pt;\n",
       "    color: rgb( 48, 48, 48 );\n",
       "    font-style: italic;\n",
       "    margin-bottom: .5em;\n",
       "    margin-top: 0.5em;\n",
       "    display: block;\n",
       "}\n",
       "\n",
       ".text_cell_render ul {\n",
       "    font-family: Tahoma, sans-serif;\n",
       "    color: rgb( 90, 90, 90 );\n",
       "    font-size:11pt;\n",
       "    line-height: 185%;\n",
       "}\n",
       "\n",
       ".text_cell_render yp {\n",
       "    font-family: Tahoma, sans-serif;\n",
       "    color: rgb( 90, 90, 90 );\n",
       "    font-size:11pt;\n",
       "}\n",
       "\n",
       ".text_cell_render strong {\n",
       "    font-family: Tahoma, sans-serif;\n",
       "    color: rgb( 30, 30, 30 );\n",
       "    font-size:11pt;\n",
       "}\n",
       "\n",
       ".text_cell_render a:link {\n",
       "    font-family: Tahoma, sans-serif;\n",
       "    color: rgb( 10, 88, 126 );\n",
       "    font-size:11pt;\n",
       "}\n",
       "\n",
       ".text_cell_render a:visited {\n",
       "    color:rgb( 10, 88, 126 );\n",
       "}\n",
       "\n",
       ".text_cell_render {\n",
       "    font-family: Helvetica, Courier, Computer Modern, \"Helvetica Neue\", Arial, Geneva, sans-serif;\n",
       "    color: rgb( 84, 84, 84 );\n",
       "    font-size:11pt;\n",
       "    line-height: 125%;\n",
       "    font-size: 100%;\n",
       "    width:800px;\n",
       "}\n",
       "\n",
       ".CodeMirror {\n",
       "    font-family: Courier, \"Source Code Pro\", source-code-pro,Consolas, monospace;\n",
       "}\n",
       "\n",
       ".warning {\n",
       "    color: rgb( 240, 20, 20 );\n",
       "}\n",
       "\n",
       "/* Pandas tables */\n",
       "/*\n",
       ".rendered_html td {\n",
       "    text-align: right;\n",
       "}\n",
       "*/\n",
       "\n",
       "table.dataframe td {\n",
       "    text-align: right;\n",
       "}\n",
       "\n",
       ".output .table-of-contents {\n",
       "    border: 1px #cecece solid;\n",
       "    background-color: #fafafa;\n",
       "    padding-top: 10px;\n",
       "    padding-bottom: 5px;\n",
       "    padding-right: 15px;\n",
       "    padding-left: 0px;\n",
       "    margin-bottom: 20px;\n",
       "    display: inline-block;\n",
       "    position: relative;\n",
       "}\n",
       "\n",
       ".output .table-of-contents ul {\n",
       "    list-style-type: none;\n",
       "    padding-left: 20px;\n",
       "}\n",
       "\n",
       ".output .table-of-contents .title {\n",
       "    font-weight: bold;\n",
       "    font-height: 11pt;\n",
       "    padding-left: 20px; /* looks better if it's the same to the <ul> */\n",
       "}\n",
       "\n",
       ".output .table-of-contents .btn-update {\n",
       "    position: absolute;\n",
       "    float: right;\n",
       "    right: 11px;\n",
       "    top: 4px;\n",
       "    font-size: 9pt;\n",
       "}\n",
       "\n",
       "</style>\n",
       "<script>\n",
       "    MathJax.Hub.Config({\n",
       "                        TeX: {\n",
       "                           extensions: [\"AMSmath.js\"]\n",
       "                           },\n",
       "                displayAlign: 'center', // Change this to 'center' to center equations.\n",
       "                \"HTML-CSS\": {\n",
       "                    styles: {'.MathJax_Display': {\"margin\": 4}}\n",
       "                }\n",
       "        });\n",
       "</script>\n"
      ],
      "text/plain": [
       "<IPython.core.display.HTML object>"
      ]
     },
     "execution_count": 2,
     "metadata": {},
     "output_type": "execute_result"
    }
   ],
   "source": [
    "import numpy as np\n",
    "import pandas as pd\n",
    "import sklearn as sk\n",
    "import sklearn.metrics\n",
    "from IPython.display import Image\n",
    "from addutils import css_notebook\n",
    "from bokeh.models import ColumnDataSource\n",
    "import time\n",
    "from ipywidgets import interact\n",
    "css_notebook()"
   ]
  },
  {
   "cell_type": "code",
   "execution_count": 3,
   "metadata": {
    "collapsed": false
   },
   "outputs": [
    {
     "data": {
      "text/html": [
       "\n",
       "\n",
       "    <script type=\"text/javascript\">\n",
       "      \n",
       "      (function(global) {\n",
       "        function now() {\n",
       "          return new Date();\n",
       "        }\n",
       "      \n",
       "        if (typeof (window._bokeh_onload_callbacks) === \"undefined\") {\n",
       "          window._bokeh_onload_callbacks = [];\n",
       "        }\n",
       "      \n",
       "        function run_callbacks() {\n",
       "          window._bokeh_onload_callbacks.forEach(function(callback) { callback() });\n",
       "          delete window._bokeh_onload_callbacks\n",
       "          console.info(\"Bokeh: all callbacks have finished\");\n",
       "        }\n",
       "      \n",
       "        function load_libs(js_urls, callback) {\n",
       "          window._bokeh_onload_callbacks.push(callback);\n",
       "          if (window._bokeh_is_loading > 0) {\n",
       "            console.log(\"Bokeh: BokehJS is being loaded, scheduling callback at\", now());\n",
       "            return null;\n",
       "          }\n",
       "          if (js_urls == null || js_urls.length === 0) {\n",
       "            run_callbacks();\n",
       "            return null;\n",
       "          }\n",
       "          console.log(\"Bokeh: BokehJS not loaded, scheduling load and callback at\", now());\n",
       "          window._bokeh_is_loading = js_urls.length;\n",
       "          for (var i = 0; i < js_urls.length; i++) {\n",
       "            var url = js_urls[i];\n",
       "            var s = document.createElement('script');\n",
       "            s.src = url;\n",
       "            s.async = false;\n",
       "            s.onreadystatechange = s.onload = function() {\n",
       "              window._bokeh_is_loading--;\n",
       "              if (window._bokeh_is_loading === 0) {\n",
       "                console.log(\"Bokeh: all BokehJS libraries loaded\");\n",
       "                run_callbacks()\n",
       "              }\n",
       "            };\n",
       "            s.onerror = function() {\n",
       "              console.warn(\"failed to load library \" + url);\n",
       "            };\n",
       "            console.log(\"Bokeh: injecting script tag for BokehJS library: \", url);\n",
       "            document.getElementsByTagName(\"head\")[0].appendChild(s);\n",
       "          }\n",
       "        };var js_urls = ['https://cdn.pydata.org/bokeh/release/bokeh-0.11.0.min.js', 'https://cdn.pydata.org/bokeh/release/bokeh-widgets-0.11.0.min.js', 'https://cdn.pydata.org/bokeh/release/bokeh-compiler-0.11.0.min.js'];\n",
       "      \n",
       "        var inline_js = [\n",
       "          function(Bokeh) {\n",
       "            Bokeh.set_log_level(\"info\");\n",
       "          },\n",
       "          function(Bokeh) {\n",
       "            console.log(\"Bokeh: injecting CSS: https://cdn.pydata.org/bokeh/release/bokeh-0.11.0.min.css\");\n",
       "            Bokeh.embed.inject_css(\"https://cdn.pydata.org/bokeh/release/bokeh-0.11.0.min.css\");\n",
       "            console.log(\"Bokeh: injecting CSS: https://cdn.pydata.org/bokeh/release/bokeh-widgets-0.11.0.min.css\");\n",
       "            Bokeh.embed.inject_css(\"https://cdn.pydata.org/bokeh/release/bokeh-widgets-0.11.0.min.css\");\n",
       "          }\n",
       "        ];\n",
       "      \n",
       "        function run_inline_js() {\n",
       "          for (var i = 0; i < inline_js.length; i++) {\n",
       "            inline_js[i](window.Bokeh);\n",
       "          }\n",
       "        }\n",
       "      \n",
       "        if (window._bokeh_is_loading === 0) {\n",
       "          console.log(\"Bokeh: BokehJS loaded, going straight to plotting\");\n",
       "          run_inline_js();\n",
       "        } else {\n",
       "          load_libs(js_urls, function() {\n",
       "            console.log(\"Bokeh: BokehJS plotting callback run at\", now());\n",
       "            run_inline_js();\n",
       "          });\n",
       "        }\n",
       "      }(this));\n",
       "    </script>\n",
       "    <div>\n",
       "        <a href=\"http://bokeh.pydata.org\" target=\"_blank\" class=\"bk-logo bk-logo-small bk-logo-notebook\"></a>\n",
       "        <span>BokehJS successfully loaded.</span>\n",
       "    </div>"
      ]
     },
     "metadata": {},
     "output_type": "display_data"
    }
   ],
   "source": [
    "import bokeh.plotting as bk\n",
    "bk.output_notebook()"
   ]
  },
  {
   "cell_type": "markdown",
   "metadata": {},
   "source": [
    "## Required packages and tools"
   ]
  },
  {
   "cell_type": "markdown",
   "metadata": {},
   "source": [
    "This notebook requires few additional packages. Please be sure to install them properly before running the notebook.\n",
    "\n",
    "We use a package for Deep Learning named [Neon](http://neon.nervanasys.com/docs/latest/index.html#). Neon is Nervana ’s Python-based deep learning library. It provides ease of use while delivering the highest performance.\n",
    "\n",
    "**<font color='red'>WARNING</font>**: this library supports only Linux and Mac OS. At the moment Windows operating system is not supported. The library is developed for python 2.7 and does not support python 3.\n",
    "\n",
    "The procedure for installing Neon can be cumbersome and is different for CPU only installation or GPU installation.\n",
    "\n",
    "**CPU only**\n",
    "\n",
    "If you don't have a GPU on the machine you are installing it, simply download the latest release and unzip it in a folder.\n",
    "Then cd in that folder and type:\n",
    "\n",
    "`sudo make sysinstall_nodeps`\n",
    "\n",
    "It should raise an error if a required package is not present. For example a required package is Opencv. On ubuntu install it with:\n",
    "\n",
    "`sudo apt-get install libopencv-dev`\n",
    "\n",
    "This procedure should be preferred to the automated installation of the dependencies because the latter tend to install older library versions (as far as we have tested)\n",
    "\n",
    "**GPU**\n",
    "\n",
    "The installation follows the same steps for CPU only, but care must be taken to install the latest CUDA drivers and pycuda library, prior to installing Neon. Moreover Neon supports only Maxwell GPU chips.\n",
    "\n",
    "First download and install latest CUDA drivers:\n",
    "\n",
    "`https://developer.nvidia.com/cuda-downloads`\n",
    "\n",
    "Then follow this instructions to install PyCuda:\n",
    "\n",
    "`http://wiki.tiker.net/PyCuda/Installation/Linux`"
   ]
  },
  {
   "cell_type": "markdown",
   "metadata": {},
   "source": [
    "## 1 Neon basics"
   ]
  },
  {
   "cell_type": "markdown",
   "metadata": {},
   "source": [
    "Neon provides higher level construct. Unlike pure theano it is a modular library and, other than automatic differentiation, it has many more modules like for example several type of layers, activation functions, regularization, initializers and so on.\n",
    "\n",
    "In the following section we will briefly review the basic library usage."
   ]
  },
  {
   "cell_type": "markdown",
   "metadata": {},
   "source": [
    "### 1.1 Logging and Parser"
   ]
  },
  {
   "cell_type": "markdown",
   "metadata": {},
   "source": [
    "Neon needs basic facility to work properly. Logging provides control over screen output. Parser is needed to pass parameters such as batch size and backend type. It is possible to pass parameters through command line arguments or via configuration file (since we are working on a notebook that is the case). If you want to change a parameter, use your favourite editor and edit the file `neon_config.yaml`"
   ]
  },
  {
   "cell_type": "code",
   "execution_count": 4,
   "metadata": {
    "collapsed": false
   },
   "outputs": [
    {
     "name": "stdout",
     "output_type": "stream",
     "text": [
      "Namespace(backend='cpu', batch_size=128, caffe=False, config=None, data_dir='/home/teoz/nervana/data', datatype='f32', device_id=0, epochs=10, eval_freq=None, history=1, logfile=None, max_devices=0, model_file=None, no_progress_bar=False, output_file=None, rng_seed=None, rounding=False, save_path=None, serialize=0, verbose=1, yaml_file=<open file 'utilities/neon_config.yaml', mode 'r' at 0x7f32599bb540>)\n"
     ]
    }
   ],
   "source": [
    "import logging\n",
    "from neon.util.argparser import NeonArgparser\n",
    "\n",
    "logger = logging.getLogger()\n",
    "parser = NeonArgparser()\n",
    "parser.add_yaml_arg()\n",
    "args = parser.parse('utilities/neon_config.yaml')\n",
    "print args"
   ]
  },
  {
   "cell_type": "markdown",
   "metadata": {},
   "source": [
    "### 1.2 Backend "
   ]
  },
  {
   "cell_type": "markdown",
   "metadata": {},
   "source": [
    "It controls which neon backen to use: CPU or GPU. Each backend can have kernels that perform matrix computations. It has also control over other parameters such as batch size, device id (if the machine has more than one GPU for example) and random seed initialization."
   ]
  },
  {
   "cell_type": "code",
   "execution_count": 5,
   "metadata": {
    "collapsed": false
   },
   "outputs": [],
   "source": [
    "from neon.backends import gen_backend\n",
    "be = gen_backend(backend=args.backend,\n",
    "                 batch_size=args.batch_size,\n",
    "                 rng_seed=args.rng_seed,\n",
    "                 device_id=args.device_id,\n",
    "                 stochastic_round=args.rounding)"
   ]
  },
  {
   "cell_type": "markdown",
   "metadata": {},
   "source": [
    "### 1.3 Load a dataset"
   ]
  },
  {
   "cell_type": "markdown",
   "metadata": {},
   "source": [
    "Neon provides an helper function to loead mnist dataset. It splits the dataset into training and testing and provides the number of classes in the dataset. \n",
    "\n",
    "DataIterator is a class that allows to iterate over minibatches. It preloads the data into main memory; if we are using GPU beware that the example must be sufficenlty small to fit that memory. "
   ]
  },
  {
   "cell_type": "code",
   "execution_count": 6,
   "metadata": {
    "collapsed": false
   },
   "outputs": [],
   "source": [
    "from neon.data import DataIterator, load_mnist\n",
    "# split into train and tests sets\n",
    "(X_train, y_train), (X_test, y_test), nclass = load_mnist(path=args.data_dir)\n",
    "# setup training set iterator\n",
    "train_set = DataIterator(X_train, y_train, nclass=nclass)\n",
    "# setup test set iterator\n",
    "test_set = DataIterator(X_test, y_test, nclass=nclass)"
   ]
  },
  {
   "cell_type": "markdown",
   "metadata": {},
   "source": [
    "### 1.4 Weight Initialization"
   ]
  },
  {
   "cell_type": "markdown",
   "metadata": {},
   "source": [
    "Neon has several builtin initialization methods, in this case we use a Gaussian distribution with given parameters."
   ]
  },
  {
   "cell_type": "code",
   "execution_count": 7,
   "metadata": {
    "collapsed": true
   },
   "outputs": [],
   "source": [
    "from neon.initializers import Gaussian\n",
    "init_norm = Gaussian(loc=0.0, scale=0.01)"
   ]
  },
  {
   "cell_type": "markdown",
   "metadata": {},
   "source": [
    "### 1.5 Optimizers"
   ]
  },
  {
   "cell_type": "markdown",
   "metadata": {},
   "source": [
    "As with other aspects of a Neural Network, Neon offers several state of the art optimization classes. In this case we are using bare gradient descent with fixed learning rate and no adaptation mechanism."
   ]
  },
  {
   "cell_type": "code",
   "execution_count": 8,
   "metadata": {
    "collapsed": true
   },
   "outputs": [],
   "source": [
    "from neon.optimizers import GradientDescentMomentum\n",
    "optimizer = GradientDescentMomentum(0.1, momentum_coef=0.9,\n",
    "                                    stochastic_round=args.rounding)"
   ]
  },
  {
   "cell_type": "markdown",
   "metadata": {},
   "source": [
    "### 1.6 Layers"
   ]
  },
  {
   "cell_type": "markdown",
   "metadata": {},
   "source": [
    "In Neon the architecture is specified as a list of layers. We are free to choose a different type for each layer, different number of units, different activation function and so on. Affine is a special type of layer that encompasses all the aspects of an hidden layer (mainly activation function and bias term)."
   ]
  },
  {
   "cell_type": "code",
   "execution_count": 9,
   "metadata": {
    "collapsed": false
   },
   "outputs": [],
   "source": [
    "from neon.layers import Affine\n",
    "from neon.transforms import Rectlin, Logistic\n",
    "\n",
    "layers = []\n",
    "layers.append(Affine(nout=100, init=init_norm, activation=Rectlin()))\n",
    "layers.append(Affine(nout=10, init=init_norm,\n",
    "                     activation=Logistic(shortcut=True)))"
   ]
  },
  {
   "cell_type": "markdown",
   "metadata": {},
   "source": [
    "### 1.7 Costs"
   ]
  },
  {
   "cell_type": "markdown",
   "metadata": {},
   "source": [
    "With this code we are able to specify the error metric that we want to optimize."
   ]
  },
  {
   "cell_type": "code",
   "execution_count": 10,
   "metadata": {
    "collapsed": true
   },
   "outputs": [],
   "source": [
    "from neon.layers import GeneralizedCost\n",
    "from neon.transforms import CrossEntropyBinary\n",
    "cost = GeneralizedCost(costfunc=CrossEntropyBinary())"
   ]
  },
  {
   "cell_type": "markdown",
   "metadata": {},
   "source": [
    "### 1.8 Model"
   ]
  },
  {
   "cell_type": "markdown",
   "metadata": {},
   "source": [
    "Model class contains all aspect of the neural network, architecture, cost function, optimizers; it exposes a `fit` that is used to train the network."
   ]
  },
  {
   "cell_type": "code",
   "execution_count": 11,
   "metadata": {
    "collapsed": false
   },
   "outputs": [
    {
     "name": "stdout",
     "output_type": "stream",
     "text": [
      "Epoch 0   [Train |████████████████████|  469/469  batches, 0.42 cost, 5.25s]\n",
      "Epoch 1   [Train |████████████████████|  469/469  batches, 0.15 cost, 6.59s]\n",
      "Epoch 2   [Train |████████████████████|  469/469  batches, 0.19 cost, 4.97s]\n",
      "Epoch 3   [Train |████████████████████|  468/468  batches, 0.28 cost, 4.66s]\n",
      "Epoch 4   [Train |████████████████████|  469/469  batches, 0.30 cost, 4.56s]\n",
      "Epoch 5   [Train |████████████████████|  469/469  batches, 0.09 cost, 4.47s]\n",
      "Epoch 6   [Train |████████████████████|  469/469  batches, 0.10 cost, 4.53s]\n",
      "Epoch 7   [Train |████████████████████|  468/468  batches, 0.22 cost, 4.77s]\n",
      "Epoch 8   [Train |████████████████████|  469/469  batches, 0.22 cost, 4.50s]\n",
      "Epoch 9   [Train |████████████████████|  469/469  batches, 0.04 cost, 4.43s]\n"
     ]
    }
   ],
   "source": [
    "# initialize model object\n",
    "from neon.models import Model\n",
    "mlp = Model(layers=layers)\n",
    "\n",
    "# setup standard fit callbacks\n",
    "from neon.callbacks.callbacks import Callbacks\n",
    "callbacks = Callbacks(mlp, train_set, output_file=args.output_file,\n",
    "                      progress_bar=True)\n",
    "\n",
    "# run fit\n",
    "mlp.fit(train_set, optimizer=optimizer, num_epochs=args.epochs, cost=cost,\n",
    "        callbacks=callbacks)"
   ]
  },
  {
   "cell_type": "markdown",
   "metadata": {},
   "source": [
    "### 1.9 Evaluate"
   ]
  },
  {
   "cell_type": "markdown",
   "metadata": {},
   "source": [
    "Neon provides a convenient function to asses neural network performance."
   ]
  },
  {
   "cell_type": "code",
   "execution_count": 12,
   "metadata": {
    "collapsed": false
   },
   "outputs": [
    {
     "name": "stdout",
     "output_type": "stream",
     "text": [
      "Misclassification error = 2.4%\n"
     ]
    }
   ],
   "source": [
    "from neon.transforms import  Misclassification\n",
    "print('Misclassification error = %.1f%%'\n",
    "      % (mlp.eval(test_set, metric=Misclassification())*100))"
   ]
  },
  {
   "cell_type": "markdown",
   "metadata": {},
   "source": [
    "## 2 Create Synthetic data"
   ]
  },
  {
   "cell_type": "markdown",
   "metadata": {
    "collapsed": true
   },
   "source": [
    "In order to evaluate how hyperparameters affects performance, it is useful to generate synthetic data for training. The tests will be performed by a single hidden layer feed forward network. The data consist of a simple sinusoid with added random noise (drawn from a standard normal distribution). It is possible to specify a serie of parameters: "
   ]
  },
  {
   "cell_type": "code",
   "execution_count": 13,
   "metadata": {
    "collapsed": true
   },
   "outputs": [],
   "source": [
    "# experiment parameters\n",
    "# play with the numbers\n",
    "samples_per_cycle = 100\n",
    "training_cycles = 20\n",
    "validation_cycles = 5\n",
    "amplitude = 1\n",
    "noise_sigma = 0.1\n",
    "n_inputs = 100\n",
    "steps_forward = 1"
   ]
  },
  {
   "cell_type": "markdown",
   "metadata": {},
   "source": [
    "* `samples_per_cycle`: number of data points drawn for every complete cycle of the sinusoid\n",
    "* `training_cycles`: number of complete cycles used for training\n",
    "* `validation_cycles`: number of complete cycles used for validation\n",
    "* `amplitude`: height of the sinusoid\n",
    "* `noise_sigma`: standard deviation of the normal distribution used as noise source \n",
    "* `n_inputs`: number of previous time steps to consider as input\n",
    "* `steps_forward`: number of time steps in the future to predict (one: predict the next step, two: predict the step after the next, and so on)"
   ]
  },
  {
   "cell_type": "code",
   "execution_count": 14,
   "metadata": {
    "collapsed": false
   },
   "outputs": [],
   "source": [
    "n_cycles = training_cycles + validation_cycles\n",
    "\n",
    "t = np.arange(0, n_cycles, 1./samples_per_cycle) * 2 * np.pi\n",
    "y_clean = amplitude * np.sin(t)\n",
    "np.random.seed(0)\n",
    "y_noisy = y_clean + noise_sigma * np.random.randn(t.size)"
   ]
  },
  {
   "cell_type": "markdown",
   "metadata": {},
   "source": [
    "The dataset is generated from the sinusoid taking as many time steps as specified with `n_inputs` parameter. It uses a moving window to take the `n_input` steps starting from the current step. Then it move to the next and takes again `n_input` consecutively. It stops when it reach the end of the sinusoid. The dataset is then shaped as a matrix with the number of columns equal the number of inputs. The desired target is taken from the clean sinusoid, that is the one without added noise. "
   ]
  },
  {
   "cell_type": "code",
   "execution_count": 15,
   "metadata": {
    "collapsed": false,
    "scrolled": true
   },
   "outputs": [],
   "source": [
    "vec_size = n_inputs + steps_forward - 1 # -1 accounts for zero based array\n",
    "\n",
    "X = np.zeros((y_noisy.size-vec_size,n_inputs))\n",
    "y = np.zeros((y_clean.size-vec_size,1))\n",
    "\n",
    "for r in xrange(y_noisy.size-vec_size):\n",
    "    X[r,:] = y_noisy[r:r+n_inputs]\n",
    "    y[r,:] = y_clean[r+vec_size]"
   ]
  },
  {
   "cell_type": "markdown",
   "metadata": {},
   "source": [
    "Once we have the dataset we split it in train and test sets."
   ]
  },
  {
   "cell_type": "code",
   "execution_count": 16,
   "metadata": {
    "collapsed": false
   },
   "outputs": [],
   "source": [
    "# check dimensions, they must be congruent!\n",
    "split = samples_per_cycle*training_cycles - n_inputs\n",
    "X_train = X[:split]\n",
    "X_test = X[split:] \n",
    "y_train = y[:split]\n",
    "y_test = y[split:]"
   ]
  },
  {
   "cell_type": "code",
   "execution_count": 17,
   "metadata": {
    "collapsed": false,
    "scrolled": true
   },
   "outputs": [
    {
     "name": "stdout",
     "output_type": "stream",
     "text": [
      "X_train shape: 1900, 100\n",
      "X_test shape: 500, 100\n",
      "y_train shape: 1900, 1\n",
      "y_test shape: 500, 1\n"
     ]
    }
   ],
   "source": [
    "print('X_train shape: %d, %d' % X_train.shape)\n",
    "print('X_test shape: %d, %d' % X_test.shape)\n",
    "print('y_train shape: %d, %d' % y_train.shape)\n",
    "print('y_test shape: %d, %d' % y_test.shape)"
   ]
  },
  {
   "cell_type": "markdown",
   "metadata": {},
   "source": [
    "## 3 Single layer feed forward network"
   ]
  },
  {
   "cell_type": "markdown",
   "metadata": {},
   "source": [
    "We start with an implementation of a single layer feed forward network with a tanh activation unit. Neon is a library that provides both high performance and ease of use. It has builtin functions for every aspect of a Neural Network."
   ]
  },
  {
   "cell_type": "code",
   "execution_count": 18,
   "metadata": {
    "collapsed": false
   },
   "outputs": [],
   "source": [
    "batch_size = 50     # Minibatch size (how many examples to process in parallel)\n",
    "backend = 'cpu'     # use gpu for GPU\n",
    "\n",
    "logger = logging.getLogger()\n",
    "\n",
    "be = gen_backend(backend=backend,\n",
    "                 batch_size=batch_size, \n",
    "                 device_id=0,\n",
    "                 stochastic_round=False)"
   ]
  },
  {
   "cell_type": "markdown",
   "metadata": {},
   "source": [
    "The following code builds the actual Neural Network. It is possible to specify a serie of parameters. \n",
    "\n",
    "* `hidden_size`: number of neuron in the hidden layer\n",
    "* `batch_size`: number of examples in each batch\n",
    "* `epochs`: number of epochs\n",
    "* `learning_rate`: learning rate of the optimizer\n",
    "\n",
    "The neural network is composed by an hidden layer with tanh activation units and a single linear neuron for the output. It uses simple steepest descent as optimizer. The model is a list of defined layers."
   ]
  },
  {
   "cell_type": "code",
   "execution_count": 19,
   "metadata": {
    "collapsed": false
   },
   "outputs": [],
   "source": [
    "from neon.transforms.activation import Tanh, Rectlin, Logistic\n",
    "from neon.layers import Linear\n",
    "from neon.transforms import MeanSquared\n",
    "import h5py\n",
    "\n",
    "hidden_size = 10    # Number of hidden units\n",
    "output_size = 1    # Number of output units (one)\n",
    "learning_rate = 0.01\n",
    "\n",
    "train_set = DataIterator(X_train.astype(np.float32), y_train.astype(np.float32), \n",
    "                         make_onehot=False)\n",
    "\n",
    "test_set = DataIterator(X_test.astype(np.float32), y_test.astype(np.float32), \n",
    "                        make_onehot=False)\n",
    "\n",
    "init_norm = Gaussian(loc=0.0, scale=0.05)\n",
    "optimizer = GradientDescentMomentum(learning_rate, momentum_coef=0.0,\n",
    "                                    stochastic_round=False)\n",
    "\n",
    "hidden_layer = Affine(nout=hidden_size, init=init_norm, activation=Tanh())\n",
    "output_layer = Linear(nout=output_size, init=init_norm)\n",
    "\n",
    "layers = [hidden_layer, output_layer]\n",
    "\n",
    "cost = GeneralizedCost(costfunc=MeanSquared())\n",
    "\n",
    "mlp = Model(layers=layers)\n",
    "    \n",
    "callbacks = Callbacks(mlp, train_set, eval_set=test_set, eval_freq=1, \n",
    "                      progress_bar=False, output_file='temp/temporary.h5')"
   ]
  },
  {
   "cell_type": "markdown",
   "metadata": {},
   "source": [
    "The following code displays a graph with training and testing error for each epoch. To see the graph updating dynamically please go to the [<font color='red'>CODE</font>](#CODE) cell and run it."
   ]
  },
  {
   "cell_type": "code",
   "execution_count": 20,
   "metadata": {
    "collapsed": false
   },
   "outputs": [
    {
     "data": {
      "text/plain": [
       "<bokeh.models.renderers.GlyphRenderer at 0x7f324e0fda50>"
      ]
     },
     "execution_count": 20,
     "metadata": {},
     "output_type": "execute_result"
    }
   ],
   "source": [
    "s_train = ColumnDataSource(data=dict(x=[], y=[]))\n",
    "s_test = ColumnDataSource(data=dict(x=[], y=[]))\n",
    "\n",
    "fig1 = bk.figure(plot_width=500, \n",
    "                 plot_height=300, \n",
    "                 x_axis_label='Epochs',\n",
    "                 y_axis_label='Error')\n",
    "\n",
    "fig1.line('x', 'y', source=s_train, legend='training')\n",
    "fig1.line('x', 'y', source=s_test, color='green', legend='test')"
   ]
  },
  {
   "cell_type": "code",
   "execution_count": 21,
   "metadata": {
    "collapsed": true
   },
   "outputs": [],
   "source": [
    "from bokeh.io import push_notebook\n",
    "def update(x_vec, t_vec, e_vec):\n",
    "    s_train.data['x'] = x_vec\n",
    "    s_test.data['x'] = x_vec\n",
    "    s_train.data['y'] = t_vec\n",
    "    s_test.data['y'] = e_vec\n",
    "    push_notebook()"
   ]
  },
  {
   "cell_type": "markdown",
   "metadata": {},
   "source": [
    "###### <font color='blue'>GRAPH</font>"
   ]
  },
  {
   "cell_type": "code",
   "execution_count": 22,
   "metadata": {
    "collapsed": false
   },
   "outputs": [
    {
     "data": {
      "text/html": [
       "\n",
       "\n",
       "    <div class=\"plotdiv\" id=\"06e88c1d-0982-4623-b855-3ceaa3282ded\"></div>\n",
       "<script type=\"text/javascript\">\n",
       "  \n",
       "  (function(global) {\n",
       "    function now() {\n",
       "      return new Date();\n",
       "    }\n",
       "  \n",
       "    if (typeof (window._bokeh_onload_callbacks) === \"undefined\") {\n",
       "      window._bokeh_onload_callbacks = [];\n",
       "    }\n",
       "  \n",
       "    function run_callbacks() {\n",
       "      window._bokeh_onload_callbacks.forEach(function(callback) { callback() });\n",
       "      delete window._bokeh_onload_callbacks\n",
       "      console.info(\"Bokeh: all callbacks have finished\");\n",
       "    }\n",
       "  \n",
       "    function load_libs(js_urls, callback) {\n",
       "      window._bokeh_onload_callbacks.push(callback);\n",
       "      if (window._bokeh_is_loading > 0) {\n",
       "        console.log(\"Bokeh: BokehJS is being loaded, scheduling callback at\", now());\n",
       "        return null;\n",
       "      }\n",
       "      if (js_urls == null || js_urls.length === 0) {\n",
       "        run_callbacks();\n",
       "        return null;\n",
       "      }\n",
       "      console.log(\"Bokeh: BokehJS not loaded, scheduling load and callback at\", now());\n",
       "      window._bokeh_is_loading = js_urls.length;\n",
       "      for (var i = 0; i < js_urls.length; i++) {\n",
       "        var url = js_urls[i];\n",
       "        var s = document.createElement('script');\n",
       "        s.src = url;\n",
       "        s.async = false;\n",
       "        s.onreadystatechange = s.onload = function() {\n",
       "          window._bokeh_is_loading--;\n",
       "          if (window._bokeh_is_loading === 0) {\n",
       "            console.log(\"Bokeh: all BokehJS libraries loaded\");\n",
       "            run_callbacks()\n",
       "          }\n",
       "        };\n",
       "        s.onerror = function() {\n",
       "          console.warn(\"failed to load library \" + url);\n",
       "        };\n",
       "        console.log(\"Bokeh: injecting script tag for BokehJS library: \", url);\n",
       "        document.getElementsByTagName(\"head\")[0].appendChild(s);\n",
       "      }\n",
       "    };var element = document.getElementById(\"06e88c1d-0982-4623-b855-3ceaa3282ded\");\n",
       "    if (element == null) {\n",
       "      console.log(\"Bokeh: ERROR: autoload.js configured with elementid '06e88c1d-0982-4623-b855-3ceaa3282ded' but no matching script tag was found. \")\n",
       "      return false;\n",
       "    }var js_urls = [];\n",
       "  \n",
       "    var inline_js = [\n",
       "      function(Bokeh) {\n",
       "        Bokeh.$(function() {\n",
       "            var docs_json = {\"a1d7cd33-ef95-4966-8a51-20fe108d1637\": {\"version\": \"0.11.0\", \"roots\": {\"root_ids\": [\"a81ed0e3-e95c-48d3-9de3-b94de803d04d\"], \"references\": [{\"attributes\": {\"callback\": null, \"column_names\": [\"y\", \"x\"], \"data\": {\"y\": [], \"x\": []}}, \"type\": \"ColumnDataSource\", \"id\": \"252ed587-ffd5-4c2c-9edd-96fcbb1b8e0e\"}, {\"attributes\": {\"plot\": {\"subtype\": \"Figure\", \"type\": \"Plot\", \"id\": \"a81ed0e3-e95c-48d3-9de3-b94de803d04d\"}, \"legends\": [[\"training\", [{\"type\": \"GlyphRenderer\", \"id\": \"16893287-87c2-402a-a8fa-0b4d678cdc62\"}]], [\"test\", [{\"type\": \"GlyphRenderer\", \"id\": \"c0a8a5b3-0235-4e94-a5eb-ad10457f54df\"}]]]}, \"type\": \"Legend\", \"id\": \"3f770edc-759e-4365-a73e-ad17ad331b13\"}, {\"attributes\": {\"nonselection_glyph\": {\"type\": \"Line\", \"id\": \"00e93c77-0a9c-4713-b522-80cd9ac635b5\"}, \"data_source\": {\"type\": \"ColumnDataSource\", \"id\": \"6d704b20-0f9c-48ab-990d-a44acf88303d\"}, \"selection_glyph\": null, \"hover_glyph\": null, \"glyph\": {\"type\": \"Line\", \"id\": \"3e7cbc29-7d2a-4ed3-ba4f-c31e5b3f4b71\"}}, \"type\": \"GlyphRenderer\", \"id\": \"16893287-87c2-402a-a8fa-0b4d678cdc62\"}, {\"attributes\": {\"plot\": {\"subtype\": \"Figure\", \"type\": \"Plot\", \"id\": \"a81ed0e3-e95c-48d3-9de3-b94de803d04d\"}, \"ticker\": {\"type\": \"BasicTicker\", \"id\": \"41aacd0b-57eb-454a-8e01-450fb94a8e32\"}}, \"type\": \"Grid\", \"id\": \"9f742736-fe28-4bde-9cfe-1b0fd9aadec9\"}, {\"attributes\": {\"line_color\": {\"value\": \"#1f77b4\"}, \"line_alpha\": {\"value\": 0.1}, \"y\": {\"field\": \"y\"}, \"x\": {\"field\": \"x\"}}, \"type\": \"Line\", \"id\": \"00e93c77-0a9c-4713-b522-80cd9ac635b5\"}, {\"attributes\": {\"callback\": null, \"column_names\": [\"y\", \"x\"], \"data\": {\"y\": [], \"x\": []}}, \"type\": \"ColumnDataSource\", \"id\": \"6d704b20-0f9c-48ab-990d-a44acf88303d\"}, {\"attributes\": {\"plot\": {\"subtype\": \"Figure\", \"type\": \"Plot\", \"id\": \"a81ed0e3-e95c-48d3-9de3-b94de803d04d\"}, \"ticker\": {\"type\": \"BasicTicker\", \"id\": \"1f7f3da7-70b9-4b62-bfd7-9f0f7faa10be\"}, \"dimension\": 1}, \"type\": \"Grid\", \"id\": \"1092d692-2458-49d9-87b9-ef44563db540\"}, {\"attributes\": {\"plot\": {\"subtype\": \"Figure\", \"type\": \"Plot\", \"id\": \"a81ed0e3-e95c-48d3-9de3-b94de803d04d\"}}, \"type\": \"ResizeTool\", \"id\": \"dca64c48-ea65-4b41-bf60-8cbc20859a4f\"}, {\"attributes\": {\"plot\": {\"subtype\": \"Figure\", \"type\": \"Plot\", \"id\": \"a81ed0e3-e95c-48d3-9de3-b94de803d04d\"}, \"overlay\": {\"type\": \"BoxAnnotation\", \"id\": \"98dcc297-14e8-4eb7-9fee-196286fd6d0f\"}}, \"type\": \"BoxZoomTool\", \"id\": \"61303b22-8e47-49b6-8293-9b91d7bce454\"}, {\"attributes\": {\"callback\": null}, \"type\": \"DataRange1d\", \"id\": \"0a711d1a-d4c4-47e0-ad5a-9a794bddd365\"}, {\"attributes\": {\"plot\": {\"subtype\": \"Figure\", \"type\": \"Plot\", \"id\": \"a81ed0e3-e95c-48d3-9de3-b94de803d04d\"}, \"axis_label\": \"Error\", \"formatter\": {\"type\": \"BasicTickFormatter\", \"id\": \"e5dc080e-0185-4e34-83bb-582009b53485\"}, \"ticker\": {\"type\": \"BasicTicker\", \"id\": \"1f7f3da7-70b9-4b62-bfd7-9f0f7faa10be\"}}, \"type\": \"LinearAxis\", \"id\": \"a4145532-4bad-46d5-9507-bc0c507b0c94\"}, {\"attributes\": {\"nonselection_glyph\": {\"type\": \"Line\", \"id\": \"6594fad5-69f4-42be-9ea4-8008325c71c7\"}, \"data_source\": {\"type\": \"ColumnDataSource\", \"id\": \"252ed587-ffd5-4c2c-9edd-96fcbb1b8e0e\"}, \"selection_glyph\": null, \"hover_glyph\": null, \"glyph\": {\"type\": \"Line\", \"id\": \"9e592d8f-c8a1-45b9-b5c6-ebd55269410a\"}}, \"type\": \"GlyphRenderer\", \"id\": \"c0a8a5b3-0235-4e94-a5eb-ad10457f54df\"}, {\"attributes\": {\"plot\": {\"subtype\": \"Figure\", \"type\": \"Plot\", \"id\": \"a81ed0e3-e95c-48d3-9de3-b94de803d04d\"}}, \"type\": \"WheelZoomTool\", \"id\": \"f3b45ffb-de61-4454-b433-2cccd1032ad2\"}, {\"attributes\": {\"line_color\": {\"value\": \"#1f77b4\"}, \"x\": {\"field\": \"x\"}, \"y\": {\"field\": \"y\"}}, \"type\": \"Line\", \"id\": \"3e7cbc29-7d2a-4ed3-ba4f-c31e5b3f4b71\"}, {\"attributes\": {\"callback\": null}, \"type\": \"DataRange1d\", \"id\": \"e269dd05-82f2-4115-80c6-98734c0d0bbe\"}, {\"attributes\": {\"line_color\": {\"value\": \"#1f77b4\"}, \"line_alpha\": {\"value\": 0.1}, \"y\": {\"field\": \"y\"}, \"x\": {\"field\": \"x\"}}, \"type\": \"Line\", \"id\": \"6594fad5-69f4-42be-9ea4-8008325c71c7\"}, {\"attributes\": {\"plot\": {\"subtype\": \"Figure\", \"type\": \"Plot\", \"id\": \"a81ed0e3-e95c-48d3-9de3-b94de803d04d\"}}, \"type\": \"PanTool\", \"id\": \"3cf587c5-133e-44dc-8bc1-776462724f1f\"}, {\"attributes\": {\"line_color\": {\"value\": \"black\"}, \"line_alpha\": {\"value\": 1.0}, \"render_mode\": \"css\", \"bottom_units\": \"screen\", \"level\": \"overlay\", \"top_units\": \"screen\", \"fill_alpha\": {\"value\": 0.5}, \"plot\": null, \"left_units\": \"screen\", \"line_dash\": [4, 4], \"line_width\": {\"value\": 2}, \"right_units\": \"screen\", \"fill_color\": {\"value\": \"lightgrey\"}}, \"type\": \"BoxAnnotation\", \"id\": \"98dcc297-14e8-4eb7-9fee-196286fd6d0f\"}, {\"attributes\": {}, \"type\": \"BasicTicker\", \"id\": \"1f7f3da7-70b9-4b62-bfd7-9f0f7faa10be\"}, {\"attributes\": {}, \"type\": \"BasicTickFormatter\", \"id\": \"e5dc080e-0185-4e34-83bb-582009b53485\"}, {\"attributes\": {}, \"type\": \"BasicTicker\", \"id\": \"41aacd0b-57eb-454a-8e01-450fb94a8e32\"}, {\"attributes\": {}, \"type\": \"ToolEvents\", \"id\": \"99dca5e8-a17c-4aeb-a8d3-8e3e6ca6cef1\"}, {\"attributes\": {\"plot\": {\"subtype\": \"Figure\", \"type\": \"Plot\", \"id\": \"a81ed0e3-e95c-48d3-9de3-b94de803d04d\"}}, \"type\": \"PreviewSaveTool\", \"id\": \"2a0632f7-d32b-4551-8d9c-195a4c535383\"}, {\"attributes\": {\"plot\": {\"subtype\": \"Figure\", \"type\": \"Plot\", \"id\": \"a81ed0e3-e95c-48d3-9de3-b94de803d04d\"}, \"axis_label\": \"Epochs\", \"formatter\": {\"type\": \"BasicTickFormatter\", \"id\": \"177b19d9-f2e0-42eb-a61a-b9c11ced22a0\"}, \"ticker\": {\"type\": \"BasicTicker\", \"id\": \"41aacd0b-57eb-454a-8e01-450fb94a8e32\"}}, \"type\": \"LinearAxis\", \"id\": \"e30f1299-12e7-4d29-86b5-dd974f849558\"}, {\"attributes\": {\"line_color\": {\"value\": \"green\"}, \"x\": {\"field\": \"x\"}, \"y\": {\"field\": \"y\"}}, \"type\": \"Line\", \"id\": \"9e592d8f-c8a1-45b9-b5c6-ebd55269410a\"}, {\"attributes\": {\"plot\": {\"subtype\": \"Figure\", \"type\": \"Plot\", \"id\": \"a81ed0e3-e95c-48d3-9de3-b94de803d04d\"}}, \"type\": \"ResetTool\", \"id\": \"58e838f9-b9cd-41ad-9c5d-067187282264\"}, {\"attributes\": {\"plot\": {\"subtype\": \"Figure\", \"type\": \"Plot\", \"id\": \"a81ed0e3-e95c-48d3-9de3-b94de803d04d\"}}, \"type\": \"HelpTool\", \"id\": \"f4c7519c-8df9-4e7b-8feb-a36c1eaca319\"}, {\"attributes\": {}, \"type\": \"BasicTickFormatter\", \"id\": \"177b19d9-f2e0-42eb-a61a-b9c11ced22a0\"}, {\"attributes\": {\"x_range\": {\"type\": \"DataRange1d\", \"id\": \"0a711d1a-d4c4-47e0-ad5a-9a794bddd365\"}, \"y_range\": {\"type\": \"DataRange1d\", \"id\": \"e269dd05-82f2-4115-80c6-98734c0d0bbe\"}, \"renderers\": [{\"type\": \"LinearAxis\", \"id\": \"e30f1299-12e7-4d29-86b5-dd974f849558\"}, {\"type\": \"Grid\", \"id\": \"9f742736-fe28-4bde-9cfe-1b0fd9aadec9\"}, {\"type\": \"LinearAxis\", \"id\": \"a4145532-4bad-46d5-9507-bc0c507b0c94\"}, {\"type\": \"Grid\", \"id\": \"1092d692-2458-49d9-87b9-ef44563db540\"}, {\"type\": \"BoxAnnotation\", \"id\": \"98dcc297-14e8-4eb7-9fee-196286fd6d0f\"}, {\"type\": \"Legend\", \"id\": \"3f770edc-759e-4365-a73e-ad17ad331b13\"}, {\"type\": \"GlyphRenderer\", \"id\": \"16893287-87c2-402a-a8fa-0b4d678cdc62\"}, {\"type\": \"GlyphRenderer\", \"id\": \"c0a8a5b3-0235-4e94-a5eb-ad10457f54df\"}], \"plot_width\": 500, \"below\": [{\"type\": \"LinearAxis\", \"id\": \"e30f1299-12e7-4d29-86b5-dd974f849558\"}], \"tool_events\": {\"type\": \"ToolEvents\", \"id\": \"99dca5e8-a17c-4aeb-a8d3-8e3e6ca6cef1\"}, \"plot_height\": 300, \"tools\": [{\"type\": \"PanTool\", \"id\": \"3cf587c5-133e-44dc-8bc1-776462724f1f\"}, {\"type\": \"WheelZoomTool\", \"id\": \"f3b45ffb-de61-4454-b433-2cccd1032ad2\"}, {\"type\": \"BoxZoomTool\", \"id\": \"61303b22-8e47-49b6-8293-9b91d7bce454\"}, {\"type\": \"PreviewSaveTool\", \"id\": \"2a0632f7-d32b-4551-8d9c-195a4c535383\"}, {\"type\": \"ResizeTool\", \"id\": \"dca64c48-ea65-4b41-bf60-8cbc20859a4f\"}, {\"type\": \"ResetTool\", \"id\": \"58e838f9-b9cd-41ad-9c5d-067187282264\"}, {\"type\": \"HelpTool\", \"id\": \"f4c7519c-8df9-4e7b-8feb-a36c1eaca319\"}], \"left\": [{\"type\": \"LinearAxis\", \"id\": \"a4145532-4bad-46d5-9507-bc0c507b0c94\"}]}, \"type\": \"Plot\", \"id\": \"a81ed0e3-e95c-48d3-9de3-b94de803d04d\", \"subtype\": \"Figure\"}]}, \"title\": \"Bokeh Application\"}};\n",
       "            var render_items = [{\"notebook_comms_target\": \"9e6e20fc-1d9a-4cda-b9ef-fc36fc48c3ba\", \"docid\": \"a1d7cd33-ef95-4966-8a51-20fe108d1637\", \"elementid\": \"06e88c1d-0982-4623-b855-3ceaa3282ded\", \"modelid\": \"a81ed0e3-e95c-48d3-9de3-b94de803d04d\"}];\n",
       "            \n",
       "            Bokeh.embed.embed_items(docs_json, render_items);\n",
       "        });\n",
       "      },\n",
       "      function(Bokeh) {\n",
       "      }\n",
       "    ];\n",
       "  \n",
       "    function run_inline_js() {\n",
       "      for (var i = 0; i < inline_js.length; i++) {\n",
       "        inline_js[i](window.Bokeh);\n",
       "      }\n",
       "    }\n",
       "  \n",
       "    if (window._bokeh_is_loading === 0) {\n",
       "      console.log(\"Bokeh: BokehJS loaded, going straight to plotting\");\n",
       "      run_inline_js();\n",
       "    } else {\n",
       "      load_libs(js_urls, function() {\n",
       "        console.log(\"Bokeh: BokehJS plotting callback run at\", now());\n",
       "        run_inline_js();\n",
       "      });\n",
       "    }\n",
       "  }(this));\n",
       "</script>"
      ]
     },
     "metadata": {},
     "output_type": "display_data"
    },
    {
     "data": {
      "text/plain": [
       "<bokeh.io._CommsHandle at 0x7f323b81c450>"
      ]
     },
     "execution_count": 22,
     "metadata": {},
     "output_type": "execute_result"
    }
   ],
   "source": [
    "bk.show(fig1)"
   ]
  },
  {
   "cell_type": "code",
   "execution_count": 23,
   "metadata": {
    "collapsed": false
   },
   "outputs": [
    {
     "name": "stdout",
     "output_type": "stream",
     "text": [
      "Elapsed FIT 6.39936518669\n"
     ]
    }
   ],
   "source": [
    "epochs = 25         # Total number of passes over all examples (epochs).\n",
    "\n",
    "t0 = time.time()\n",
    "mlp.fit(train_set, optimizer=optimizer, num_epochs=epochs, cost=cost, callbacks=callbacks)\n",
    "print \"Elapsed FIT\", time.time() - t0"
   ]
  },
  {
   "cell_type": "code",
   "execution_count": 25,
   "metadata": {
    "collapsed": false
   },
   "outputs": [],
   "source": [
    "a = h5py.File('temp/temporary.h5')\n",
    "\n",
    "test_accuracy = a['cost']['loss'].value #* 2 # because of how MeanSquared is calculated\n",
    "all_batches = a['cost']['train'].value #* 2 # because of how MeanSquared is calculated\n",
    "train_accuracy = all_batches[a['time_markers']['minibatch'].value.astype(int)-1]"
   ]
  },
  {
   "cell_type": "markdown",
   "metadata": {},
   "source": [
    "###### <font color='red'>CODE</font> "
   ]
  },
  {
   "cell_type": "markdown",
   "metadata": {},
   "source": [
    "Please run this cell and then go to [<font color='blue'>GRAPH</font>](#GRAPH) to see it changing."
   ]
  },
  {
   "cell_type": "code",
   "execution_count": 26,
   "metadata": {
    "collapsed": false,
    "scrolled": true
   },
   "outputs": [],
   "source": [
    "for epoch in range(epochs+1):\n",
    "    update(range(epoch), train_accuracy[:epoch], test_accuracy[:epoch])"
   ]
  },
  {
   "cell_type": "code",
   "execution_count": 27,
   "metadata": {
    "collapsed": false,
    "scrolled": true
   },
   "outputs": [
    {
     "name": "stdout",
     "output_type": "stream",
     "text": [
      "Model Error: 0.026192\n"
     ]
    }
   ],
   "source": [
    "a = mlp.get_outputs(test_set)\n",
    "\n",
    "print 'Model Error: %f' % np.sqrt(sk.metrics.mean_squared_error(y_test, a))"
   ]
  },
  {
   "cell_type": "code",
   "execution_count": 28,
   "metadata": {
    "collapsed": false,
    "scrolled": false
   },
   "outputs": [
    {
     "data": {
      "text/html": [
       "\n",
       "\n",
       "    <div class=\"plotdiv\" id=\"5b96e62a-5f6f-4047-b02e-65f7a71da47d\"></div>\n",
       "<script type=\"text/javascript\">\n",
       "  \n",
       "  (function(global) {\n",
       "    function now() {\n",
       "      return new Date();\n",
       "    }\n",
       "  \n",
       "    if (typeof (window._bokeh_onload_callbacks) === \"undefined\") {\n",
       "      window._bokeh_onload_callbacks = [];\n",
       "    }\n",
       "  \n",
       "    function run_callbacks() {\n",
       "      window._bokeh_onload_callbacks.forEach(function(callback) { callback() });\n",
       "      delete window._bokeh_onload_callbacks\n",
       "      console.info(\"Bokeh: all callbacks have finished\");\n",
       "    }\n",
       "  \n",
       "    function load_libs(js_urls, callback) {\n",
       "      window._bokeh_onload_callbacks.push(callback);\n",
       "      if (window._bokeh_is_loading > 0) {\n",
       "        console.log(\"Bokeh: BokehJS is being loaded, scheduling callback at\", now());\n",
       "        return null;\n",
       "      }\n",
       "      if (js_urls == null || js_urls.length === 0) {\n",
       "        run_callbacks();\n",
       "        return null;\n",
       "      }\n",
       "      console.log(\"Bokeh: BokehJS not loaded, scheduling load and callback at\", now());\n",
       "      window._bokeh_is_loading = js_urls.length;\n",
       "      for (var i = 0; i < js_urls.length; i++) {\n",
       "        var url = js_urls[i];\n",
       "        var s = document.createElement('script');\n",
       "        s.src = url;\n",
       "        s.async = false;\n",
       "        s.onreadystatechange = s.onload = function() {\n",
       "          window._bokeh_is_loading--;\n",
       "          if (window._bokeh_is_loading === 0) {\n",
       "            console.log(\"Bokeh: all BokehJS libraries loaded\");\n",
       "            run_callbacks()\n",
       "          }\n",
       "        };\n",
       "        s.onerror = function() {\n",
       "          console.warn(\"failed to load library \" + url);\n",
       "        };\n",
       "        console.log(\"Bokeh: injecting script tag for BokehJS library: \", url);\n",
       "        document.getElementsByTagName(\"head\")[0].appendChild(s);\n",
       "      }\n",
       "    };var element = document.getElementById(\"5b96e62a-5f6f-4047-b02e-65f7a71da47d\");\n",
       "    if (element == null) {\n",
       "      console.log(\"Bokeh: ERROR: autoload.js configured with elementid '5b96e62a-5f6f-4047-b02e-65f7a71da47d' but no matching script tag was found. \")\n",
       "      return false;\n",
       "    }var js_urls = [];\n",
       "  \n",
       "    var inline_js = [\n",
       "      function(Bokeh) {\n",
       "        Bokeh.$(function() {\n",
       "            var docs_json = {\"9524f0c7-e568-4989-b99e-0a619558a258\": {\"version\": \"0.11.0\", \"roots\": {\"root_ids\": [\"a81ed0e3-e95c-48d3-9de3-b94de803d04d\", \"b5000996-e682-4c07-a3ba-b3519c5f3c1d\"], \"references\": [{\"attributes\": {\"callback\": null, \"column_names\": [\"y\", \"x\"], \"data\": {\"y\": [0.08692648261785507, 0.016781259328126907, 0.0033791963942348957, 0.0017898454098030925, 0.0015480744186788797, 0.0014272269327193499, 0.0013188807060942054, 0.001216414268128574, 0.0011202016612514853, 0.0010305109899491072, 0.000947355292737484, 0.0008706271764822304, 0.0008001595269888639, 0.0007357437862083316, 0.0006771370535716414, 0.0006240677903406322, 0.0005762401851825416, 0.0005333387525752187, 0.0004950343281961977, 0.0004609904426615685, 0.00043086797813884914, 0.0004043309309054166, 0.0003810515918303281, 0.0003607139806263149, 0.00034301719279028475], \"x\": [0, 1, 2, 3, 4, 5, 6, 7, 8, 9, 10, 11, 12, 13, 14, 15, 16, 17, 18, 19, 20, 21, 22, 23, 24]}}, \"type\": \"ColumnDataSource\", \"id\": \"252ed587-ffd5-4c2c-9edd-96fcbb1b8e0e\"}, {\"attributes\": {\"plot\": {\"subtype\": \"Figure\", \"type\": \"Plot\", \"id\": \"a81ed0e3-e95c-48d3-9de3-b94de803d04d\"}, \"legends\": [[\"training\", [{\"type\": \"GlyphRenderer\", \"id\": \"16893287-87c2-402a-a8fa-0b4d678cdc62\"}]], [\"test\", [{\"type\": \"GlyphRenderer\", \"id\": \"c0a8a5b3-0235-4e94-a5eb-ad10457f54df\"}]]]}, \"type\": \"Legend\", \"id\": \"3f770edc-759e-4365-a73e-ad17ad331b13\"}, {\"attributes\": {\"nonselection_glyph\": {\"type\": \"Line\", \"id\": \"00e93c77-0a9c-4713-b522-80cd9ac635b5\"}, \"data_source\": {\"type\": \"ColumnDataSource\", \"id\": \"6d704b20-0f9c-48ab-990d-a44acf88303d\"}, \"selection_glyph\": null, \"hover_glyph\": null, \"glyph\": {\"type\": \"Line\", \"id\": \"3e7cbc29-7d2a-4ed3-ba4f-c31e5b3f4b71\"}}, \"type\": \"GlyphRenderer\", \"id\": \"16893287-87c2-402a-a8fa-0b4d678cdc62\"}, {\"attributes\": {\"callback\": null, \"column_names\": [\"y\", \"x\"], \"data\": {\"y\": [-4.898587196589413e-15, 0.06279051952931168, 0.12533323356429163, 0.18738131458572924, 0.24868988716484866, 0.30901699437494445, 0.3681245526846648, 0.4257792915650756, 0.48175367410172093, 0.5358267949789928, 0.587785252292472, 0.6374239897486802, 0.6845471059286923, 0.7289686274214074, 0.7705132427757875, 0.809016994374956, 0.8443279255020094, 0.8763066800438668, 0.9048270524660177, 0.929776485888251, 0.9510565162951499, 0.9685831611286324, 0.9822872507286876, 0.9921147013144775, 0.9980267284282716, 1.0, 0.9980267284282711, 0.9921147013144783, 0.9822872507286888, 0.9685831611286341, 0.9510565162951519, 0.9297764858882586, 0.9048270524660205, 0.876306680043863, 0.8443279255020204, 0.809016994374943, 0.7705132427757915, 0.7289686274214118, 0.6845471059286866, 0.6374239897486851, 0.5877852522924657, 0.5358267949790101, 0.4817536741017016, 0.4257792915650814, 0.3681245526846839, 0.3090169943749505, 0.24868988716485482, 0.18738131458574944, 0.12533323356429793, 0.06279051952930385, 1.567919291290565e-14, -0.06279051952932928, -0.12533323356429502, -0.18738131458571863, -0.248689887164852, -0.30901699437494773, -0.36812455268465477, -0.4257792915650787, -0.4817536741017239, -0.5358267949789837, -0.5877852522924862, -0.6374239897486829, -0.6845471059286845, -0.7289686274214098, -0.7705132427757896, -0.8090169943749497, -0.8443279255020189, -0.8763066800438685, -0.9048270524660131, -0.9297764858882576, -0.9510565162951509, -0.9685831611286297, -0.9822872507286883, -0.992114701314478, -0.9980267284282718, -1.0, -0.9980267284282709, -0.9921147013144797, -0.9822872507286908, -0.9685831611286332, -0.9510565162951552, -0.9297764858882521, -0.904827052466019, -0.8763066800438615, -0.844327925502011, -0.809016994374941, -0.7705132427757984, -0.7289686274214191, -0.6845471059286945, -0.6374239897486934, -0.5877852522924744, -0.5358267949789952, -0.48175367410171105, -0.4257792915650911, -0.36812455268466754, -0.3090169943749608, -0.24868988716486526, -0.18738131458573212, -0.12533323356430864, -0.06279051952931461, 1.9619108011821185e-15, 0.06279051952931852, 0.12533323356428433, 0.18738131458573598, 0.24868988716484153, 0.30901699437493746, 0.3681245526846712, 0.42577929156506894, 0.4817536741017145, 0.5358267949789985, 0.5877852522924776, 0.6374239897486745, 0.6845471059286974, 0.7289686274214023, 0.7705132427757828, 0.80901699437496, 0.8443279255020131, 0.8763066800438634, 0.9048270524660207, 0.9297764858882536, 0.9510565162951475, 0.9685831611286342, 0.9822872507286863, 0.9921147013144767, 0.9980267284282711, 1.0, 0.9980267284282716, 0.9921147013144774, 0.9822872507286875, 0.9685831611286359, 0.9510565162951496, 0.9297764858882561, 0.9048270524660236, 0.8763066800438666, 0.8443279255020167, 0.8090169943749473, 0.7705132427757871, 0.7289686274214071, 0.6845471059287024, 0.6374239897487017, 0.5877852522924601, 0.5358267949790043, 0.4817536741017205, 0.42577929156507516, 0.36812455268467753, 0.30901699437494395, 0.2486898871648482, 0.1873813145857427, 0.12533323356431933, 0.062790519529297, 8.81869491513412e-15, -0.06279051952930777, -0.12533323356430184, -0.18738131458572538, -0.2486898871648311, -0.3090169943749542, -0.36812455268466115, -0.42577929156505917, -0.4817536741017299, -0.5358267949789894, -0.5877852522924688, -0.6374239897486881, -0.6845471059286895, -0.728968627421395, -0.770513242775794, -0.8090169943749537, -0.8443279255020073, -0.8763066800438718, -0.904827052466016, -0.9297764858882496, -0.951056516295153, -0.9685831611286315, -0.9822872507286842, -0.9921147013144788, -0.9980267284282722, -1.0, -0.9980267284282704, -0.9921147013144788, -0.9822872507286895, -0.9685831611286315, -0.951056516295153, -0.92977648588826, -0.904827052466016, -0.8763066800438581, -0.8443279255020225, -0.809016994374937, -0.770513242775794, -0.7289686274214144, -0.6845471059286895, -0.6374239897486881, -0.5877852522924688, -0.5358267949789894, -0.48175367410170505, -0.4257792915650849, -0.3681245526846876, -0.3090169943749542, -0.24868988716485863, -0.18738131458572538, -0.12533323356430184, -0.06279051952930775, -1.9599300631450357e-14, 0.06279051952932536, 0.12533323356429113, 0.1873813145857148, 0.2486898871648482, 0.30901699437494395, 0.3681245526846776, 0.42577929156507516, 0.4817536741017205, 0.5358267949789803, 0.5877852522924831, 0.6374239897486798, 0.6845471059286816, 0.7289686274214071, 0.7705132427757871, 0.8090169943749473, 0.8443279255020167, 0.8763066800438666, 0.9048270524660115, 0.9297764858882561, 0.9510565162951496, 0.9685831611286287, 0.9822872507286875, 0.9921147013144774, 0.9980267284282716, 1.0, 0.9980267284282711, 0.9921147013144802, 0.9822872507286863, 0.9685831611286342, 0.9510565162951563, 0.9297764858882536, 0.9048270524660207, 0.8763066800438634, 0.8443279255020131, 0.8090169943749433, 0.7705132427758009, 0.7289686274214023, 0.6845471059286974, 0.6374239897486964, 0.5877852522924776, 0.5358267949789985, 0.4817536741017145, 0.42577929156506894, 0.3681245526846712, 0.3090169943749645, 0.24868988716484153, 0.18738131458573598, 0.12533323356431253, 0.06279051952931852, 1.9581969173625882e-15, -0.06279051952931461, -0.12533323356430864, -0.18738131458573212, -0.24868988716483775, -0.30901699437493374, -0.36812455268466754, -0.4257792915650654, -0.48175367410171105, -0.5358267949789952, -0.5877852522924744, -0.6374239897486934, -0.6845471059286945, -0.7289686274213997, -0.7705132427757803, -0.8090169943749578, -0.844327925502011, -0.8763066800438615, -0.904827052466019, -0.9297764858882521, -0.9510565162951463, -0.9685831611286332, -0.9822872507286855, -0.9921147013144761, -0.9980267284282727, -1.0, -0.9980267284282718, -0.992114701314478, -0.9822872507286883, -0.9685831611286368, -0.9510565162951509, -0.9297764858882576, -0.9048270524660252, -0.8763066800438548, -0.8443279255020189, -0.8090169943749497, -0.7705132427757896, -0.7289686274214098, -0.6845471059287052, -0.6374239897486829, -0.5877852522924633, -0.5358267949790076, -0.481753674101699, -0.4257792915650787, -0.3681245526846812, -0.30901699437494773, -0.24868988716485196, -0.18738131458574656, -0.12533323356429502, -0.06279051952930091, -1.2738802633678827e-14, 0.06279051952930385, 0.12533323356429796, 0.18738131458572152, 0.24868988716485482, 0.3090169943749505, 0.3681245526846575, 0.4257792915650814, 0.48175367410172654, 0.5358267949789861, 0.5877852522924657, 0.6374239897486851, 0.6845471059286866, 0.7289686274214118, 0.7705132427757915, 0.8090169943749514, 0.8443279255020052, 0.8763066800438699, 0.9048270524660144, 0.9297764858882481, 0.9510565162951519, 0.9685831611286305, 0.9822872507286888, 0.9921147013144783, 0.998026728428272, 1.0, 0.9980267284282707, 0.9921147013144793, 0.9822872507286903, 0.9685831611286324, 0.9510565162951542, 0.9297764858882615, 0.9048270524660177, 0.87630668004386, 0.8443279255020246, 0.8090169943749393, 0.7705132427757965, 0.7289686274214171, 0.6845471059286923, 0.6374239897486911, 0.587785252292472, 0.5358267949789928, 0.4817536741017085, 0.4257792915650884, 0.3681245526846648, 0.30901699437495794, 0.24868988716486243, 0.18738131458572924, 0.12533323356430573, 0.06279051952931167, -4.902301080408943e-15, -0.06279051952932145, -0.12533323356428724, -0.18738131458573887, -0.2486898871648444, -0.30901699437494023, -0.3681245526846739, -0.4257792915650716, -0.48175367410171704, -0.535826794979001, -0.5877852522924799, -0.6374239897486768, -0.6845471059286787, -0.7289686274214044, -0.7705132427757846, -0.809016994374945, -0.8443279255020146, -0.8763066800438647, -0.9048270524660219, -0.9297764858882547, -0.9510565162951485, -0.9685831611286279, -0.9822872507286868, -0.992114701314477, -0.9980267284282713, -1.0, -0.9980267284282713, -0.9921147013144807, -0.982287250728687, -0.9685831611286352, -0.9510565162951575, -0.929776485888255, -0.9048270524660224, -0.8763066800438652, -0.8443279255020152, -0.8090169943749457, -0.7705132427758034, -0.7289686274214051, -0.6845471059287002, -0.6374239897486994, -0.5877852522924577, -0.5358267949790019, -0.48175367410171793, -0.4257792915650725, -0.3681245526846748, -0.3090169943749682, -0.24868988716484533, -0.1873813145857398, -0.12533323356431642, -0.06279051952929407, -5.878304635907295e-15, 0.0627905195293107, 0.12533323356430476, 0.18738131458572826, 0.24868988716483395, 0.309016994374957, 0.3681245526846903, 0.42577929156506183, 0.48175367410173253, 0.5358267949789919, 0.5877852522924712, 0.6374239897486904, 0.6845471059286916, 0.728968627421397, 0.7705132427757959, 0.8090169943749554, 0.8443279255020089, 0.8763066800438596, 0.9048270524660174, 0.9297764858882507, 0.951056516295154, 0.9685831611286322, 0.9822872507286847, 0.9921147013144792, 0.9980267284282724, 1.0, 0.9980267284282721, 0.9921147013144784, 0.9822872507286889, 0.9685831611286307, 0.9510565162951521, 0.9297764858882485, 0.9048270524660269, 0.8763066800438567, 0.844327925502021, 0.809016994374952, 0.7705132427757921, 0.7289686274214124, 0.6845471059286873, 0.6374239897486859, 0.5877852522924665, 0.535826794979011, 0.48175367410170244, 0.42577929156508226, 0.36812455268468486, 0.30901699437495145, 0.24868988716485577, 0.1873813145857504, 0.1253332335642989, 0.06279051952930483, 1.6658910352223535e-14, -0.0627905195293283, -0.12533323356429404, -0.1873813145857177, -0.24868988716485102, -0.3090169943749468, -0.3681245526846803, -0.4257792915650778, -0.4817536741017231, -0.5358267949789828, -0.5877852522924855, -0.6374239897486821, -0.6845471059286837, -0.7289686274214091, -0.770513242775789, -0.8090169943749491, -0.8443279255020183, -0.876306680043868, -0.9048270524660127, -0.9297764858882571, -0.9510565162951506, -0.9685831611286295, -0.982287250728688, -0.9921147013144779, -0.9980267284282718, -1.0, -0.998026728428271, -0.9921147013144798, -0.982287250728691, -0.9685831611286334, -0.9510565162951554, -0.9297764858882525, -0.9048270524660194, -0.8763066800438619, -0.8443279255020115, -0.8090169943749416, -0.770513242775799, -0.7289686274214199, -0.6845471059286952, -0.6374239897486942, -0.5877852522924751, -0.5358267949789961, -0.4817536741017119, -0.425779291565092, -0.3681245526846684, -0.30901699437496166, -0.2486898871648662, -0.1873813145857331, -0.12533323356430962, -0.06279051952931558], \"x\": [125.66370614359172, 125.72653799666352, 125.78936984973531, 125.85220170280712, 125.9150335558789, 125.9778654089507, 126.04069726202249, 126.1035291150943, 126.1663609681661, 126.22919282123789, 126.29202467430969, 126.35485652738147, 126.41768838045328, 126.48052023352507, 126.54335208659687, 126.60618393966868, 126.66901579274045, 126.73184764581227, 126.79467949888405, 126.85751135195585, 126.92034320502763, 126.98317505809945, 127.04600691117123, 127.10883876424303, 127.17167061731483, 127.23450247038662, 127.29733432345843, 127.36016617653021, 127.42299802960201, 127.4858298826738, 127.54866173574561, 127.61149358881738, 127.6743254418892, 127.737157294961, 127.79998914803278, 127.86282100110459, 127.92565285417638, 127.98848470724818, 128.05131656031998, 128.11414841339177, 128.17698026646357, 128.23981211953534, 128.30264397260717, 128.36547582567894, 128.42830767875074, 128.49113953182254, 128.55397138489434, 128.6168032379661, 128.67963509103794, 128.74246694410974, 128.8052987971815, 128.86813065025333, 128.9309625033251, 128.9937943563969, 129.0566262094687, 129.1194580625405, 129.18228991561227, 129.2451217686841, 129.3079536217559, 129.37078547482767, 129.4336173278995, 129.49644918097127, 129.55928103404307, 129.62211288711487, 129.68494474018667, 129.74777659325846, 129.81060844633026, 129.87344029940206, 129.93627215247383, 129.99910400554566, 130.06193585861743, 130.12476771168923, 130.18759956476103, 130.25043141783283, 130.31326327090463, 130.37609512397643, 130.43892697704823, 130.50175883012, 130.5645906831918, 130.6274225362636, 130.6902543893354, 130.7530862424072, 130.815918095479, 130.8787499485508, 130.9415818016226, 131.0044136546944, 131.06724550776616, 131.13007736083796, 131.19290921390976, 131.25574106698156, 131.31857292005336, 131.38140477312515, 131.44423662619695, 131.50706847926872, 131.56990033234055, 131.63273218541232, 131.69556403848412, 131.75839589155592, 131.82122774462772, 131.88405959769952, 131.94689145077132, 132.00972330384312, 132.0725551569149, 132.13538700998672, 132.1982188630585, 132.26105071613028, 132.32388256920208, 132.38671442227388, 132.44954627534568, 132.51237812841748, 132.57520998148928, 132.63804183456105, 132.70087368763288, 132.76370554070465, 132.82653739377645, 132.88936924684828, 132.95220109992005, 133.01503295299185, 133.07786480606364, 133.14069665913544, 133.2035285122072, 133.26636036527904, 133.3291922183508, 133.3920240714226, 133.4548559244944, 133.5176877775662, 133.580519630638, 133.6433514837098, 133.7061833367816, 133.76901518985338, 133.8318470429252, 133.89467889599698, 133.95751074906877, 134.02034260214057, 134.08317445521237, 134.14600630828417, 134.20883816135597, 134.27167001442777, 134.33450186749954, 134.39733372057134, 134.46016557364317, 134.52299742671494, 134.58582927978674, 134.64866113285854, 134.71149298593033, 134.77432483900213, 134.83715669207393, 134.8999885451457, 134.9628203982175, 135.02565225128933, 135.0884841043611, 135.1513159574329, 135.2141478105047, 135.2769796635765, 135.33981151664827, 135.4026433697201, 135.46547522279187, 135.52830707586367, 135.5911389289355, 135.65397078200726, 135.71680263507906, 135.77963448815086, 135.84246634122266, 135.90529819429443, 135.96813004736626, 136.03096190043806, 136.09379375350983, 136.15662560658166, 136.21945745965343, 136.28228931272523, 136.34512116579702, 136.40795301886882, 136.4707848719406, 136.53361672501242, 136.59644857808422, 136.659280431156, 136.72211228422782, 136.7849441372996, 136.8477759903714, 136.9106078434432, 136.973439696515, 137.03627154958676, 137.09910340265859, 137.16193525573038, 137.22476710880215, 137.28759896187398, 137.35043081494575, 137.41326266801755, 137.47609452108935, 137.53892637416115, 137.60175822723295, 137.66459008030475, 137.72742193337655, 137.79025378644832, 137.85308563952012, 137.91591749259192, 137.97874934566372, 138.0415811987355, 138.1044130518073, 138.1672449048791, 138.23007675795088, 138.2929086110227, 138.35574046409448, 138.41857231716628, 138.48140417023808, 138.54423602330988, 138.60706787638168, 138.66989972945348, 138.73273158252528, 138.79556343559705, 138.85839528866887, 138.92122714174064, 138.98405899481244, 139.04689084788424, 139.10972270095604, 139.17255455402784, 139.23538640709964, 139.29821826017144, 139.3610501132432, 139.42388196631504, 139.4867138193868, 139.5495456724586, 139.6123775255304, 139.6752093786022, 139.738041231674, 139.8008730847458, 139.8637049378176, 139.92653679088937, 139.9893686439612, 140.05220049703297, 140.11503235010477, 140.17786420317657, 140.24069605624837, 140.30352790932017, 140.36635976239197, 140.42919161546376, 140.49202346853554, 140.55485532160736, 140.61768717467913, 140.68051902775093, 140.74335088082273, 140.80618273389453, 140.86901458696633, 140.93184644003813, 140.99467829310993, 141.0575101461817, 141.12034199925353, 141.1831738523253, 141.2460057053971, 141.3088375584689, 141.3716694115407, 141.4345012646125, 141.4973331176843, 141.5601649707561, 141.62299682382786, 141.68582867689966, 141.74866052997146, 141.81149238304326, 141.87432423611506, 141.93715608918686, 141.99998794225866, 142.06281979533046, 142.12565164840225, 142.18848350147402, 142.25131535454582, 142.31414720761765, 142.37697906068942, 142.43981091376122, 142.50264276683302, 142.56547461990482, 142.6283064729766, 142.69113832604842, 142.7539701791202, 142.816802032192, 142.87963388526381, 142.94246573833559, 143.00529759140738, 143.06812944447918, 143.13096129755098, 143.19379315062275, 143.25662500369458, 143.31945685676635, 143.38228870983815, 143.44512056290998, 143.50795241598175, 143.57078426905355, 143.63361612212535, 143.69644797519715, 143.75927982826892, 143.82211168134074, 143.88494353441254, 143.9477753874843, 144.01060724055614, 144.0734390936279, 144.1362709466997, 144.1991027997715, 144.2619346528433, 144.32476650591508, 144.3875983589869, 144.4504302120587, 144.51326206513048, 144.57609391820228, 144.63892577127407, 144.70175762434587, 144.76458947741767, 144.82742133048947, 144.89025318356124, 144.95308503663307, 145.01591688970487, 145.07874874277664, 145.14158059584844, 145.20441244892024, 145.26724430199204, 145.33007615506384, 145.39290800813563, 145.45573986120743, 145.5185717142792, 145.58140356735103, 145.6442354204228, 145.7070672734946, 145.7698991265664, 145.8327309796382, 145.89556283271, 145.9583946857818, 146.0212265388536, 146.08405839192537, 146.1468902449972, 146.20972209806897, 146.27255395114076, 146.33538580421256, 146.39821765728436, 146.46104951035613, 146.52388136342796, 146.58671321649976, 146.64954506957153, 146.71237692264336, 146.77520877571513, 146.83804062878693, 146.90087248185873, 146.96370433493053, 147.02653618800232, 147.08936804107412, 147.15219989414592, 147.2150317472177, 147.27786360028952, 147.3406954533613, 147.4035273064331, 147.4663591595049, 147.5291910125767, 147.5920228656485, 147.6548547187203, 147.7176865717921, 147.78051842486386, 147.84335027793568, 147.90618213100745, 147.96901398407925, 148.03184583715105, 148.09467769022285, 148.15750954329465, 148.22034139636645, 148.28317324943825, 148.34600510251002, 148.40883695558182, 148.47166880865362, 148.53450066172542, 148.59733251479722, 148.66016436786902, 148.72299622094081, 148.7858280740126, 148.8486599270844, 148.91149178015618, 148.97432363322798, 149.03715548629978, 149.09998733937158, 149.16281919244338, 149.22565104551518, 149.28848289858698, 149.35131475165875, 149.41414660473058, 149.47697845780235, 149.53981031087415, 149.60264216394594, 149.66547401701774, 149.72830587008954, 149.79113772316134, 149.85396957623314, 149.9168014293049, 149.97963328237674, 150.0424651354485, 150.1052969885203, 150.16812884159214, 150.2309606946639, 150.2937925477357, 150.3566244008075, 150.4194562538793, 150.48228810695107, 150.5451199600229, 150.60795181309467, 150.67078366616647, 150.7336155192383, 150.79644737231007, 150.85927922538187, 150.92211107845367, 150.98494293152547, 151.04777478459724, 151.11060663766906, 151.17343849074086, 151.23627034381263, 151.29910219688446, 151.36193404995623, 151.42476590302803, 151.48759775609983, 151.55042960917163, 151.6132614622434, 151.67609331531523, 151.73892516838703, 151.8017570214588, 151.8645888745306, 151.9274207276024, 151.9902525806742, 152.053084433746, 152.1159162868178, 152.17874813988956, 152.2415799929614, 152.3044118460332, 152.36724369910496, 152.43007555217676, 152.49290740524856, 152.55573925832036, 152.61857111139216, 152.68140296446396, 152.74423481753576, 152.80706667060753, 152.86989852367935, 152.93273037675112, 152.99556222982292, 153.05839408289472, 153.12122593596652, 153.18405778903832, 153.24688964211012, 153.30972149518192, 153.3725533482537, 153.43538520132552, 153.4982170543973, 153.5610489074691, 153.62388076054089, 153.68671261361268, 153.74954446668445, 153.81237631975628, 153.87520817282808, 153.93804002589985, 154.00087187897168, 154.06370373204345, 154.12653558511525, 154.18936743818705, 154.25219929125885, 154.31503114433065, 154.37786299740245, 154.44069485047424, 154.50352670354602, 154.56635855661784, 154.6291904096896, 154.6920222627614, 154.7548541158332, 154.817685968905, 154.8805178219768, 154.9433496750486, 155.0061815281204, 155.06901338119218, 155.131845234264, 155.19467708733578, 155.25750894040758, 155.32034079347937, 155.38317264655117, 155.44600449962297, 155.50883635269477, 155.57166820576657, 155.63450005883834, 155.69733191191014, 155.76016376498194, 155.82299561805374, 155.88582747112554, 155.94865932419734, 156.01149117726914, 156.07432303034093, 156.13715488341273, 156.1999867364845, 156.2628185895563, 156.3256504426281, 156.3884822956999, 156.4513141487717, 156.5141460018435, 156.5769778549153, 156.63980970798707, 156.7026415610589, 156.76547341413067, 156.82830526720247, 156.89113712027427, 156.95396897334606, 157.01680082641786]}}, \"type\": \"ColumnDataSource\", \"id\": \"ca255a68-6fe1-4dd6-b55e-4c83d78b5f59\"}, {\"attributes\": {\"plot\": {\"subtype\": \"Figure\", \"type\": \"Plot\", \"id\": \"b5000996-e682-4c07-a3ba-b3519c5f3c1d\"}}, \"type\": \"HelpTool\", \"id\": \"dd6c9295-117d-4390-8b7d-3574051995a3\"}, {\"attributes\": {\"line_color\": {\"value\": \"green\"}, \"x\": {\"field\": \"x\"}, \"y\": {\"field\": \"y\"}}, \"type\": \"Line\", \"id\": \"e05151e7-12ab-4749-a97f-bc2c0fe0b2d4\"}, {\"attributes\": {\"plot\": {\"subtype\": \"Figure\", \"type\": \"Plot\", \"id\": \"b5000996-e682-4c07-a3ba-b3519c5f3c1d\"}}, \"type\": \"ResetTool\", \"id\": \"a2da624f-dc33-4f02-ab5e-28df292b86b0\"}, {\"attributes\": {\"line_color\": {\"value\": \"#1f77b4\"}, \"line_alpha\": {\"value\": 0.1}, \"y\": {\"field\": \"y\"}, \"x\": {\"field\": \"x\"}}, \"type\": \"Line\", \"id\": \"00e93c77-0a9c-4713-b522-80cd9ac635b5\"}, {\"attributes\": {\"line_color\": {\"value\": \"#1f77b4\"}, \"line_alpha\": {\"value\": 0.1}, \"y\": {\"field\": \"y\"}, \"x\": {\"field\": \"x\"}}, \"type\": \"Line\", \"id\": \"6594fad5-69f4-42be-9ea4-8008325c71c7\"}, {\"attributes\": {\"line_color\": {\"value\": \"#1f77b4\"}, \"line_alpha\": {\"value\": 0.1}, \"y\": {\"field\": \"y\"}, \"x\": {\"field\": \"x\"}}, \"type\": \"Line\", \"id\": \"3f4f9e8f-d00b-4200-9c16-fa48efe97142\"}, {\"attributes\": {}, \"type\": \"BasicTickFormatter\", \"id\": \"c66ea5e6-653e-4f88-aceb-8db6c740c02b\"}, {\"attributes\": {\"nonselection_glyph\": {\"type\": \"Line\", \"id\": \"bd62a207-ee43-4347-add3-f2a7d0c9665b\"}, \"data_source\": {\"type\": \"ColumnDataSource\", \"id\": \"e4752d4e-4f57-4673-873e-a8a0ec3f19f0\"}, \"selection_glyph\": null, \"hover_glyph\": null, \"glyph\": {\"type\": \"Line\", \"id\": \"64c3e1e3-0dce-4c93-8c49-5b6a939e27d6\"}}, \"type\": \"GlyphRenderer\", \"id\": \"5e4d1027-7819-48f6-af34-8f8804fc2acb\"}, {\"attributes\": {\"plot\": {\"subtype\": \"Figure\", \"type\": \"Plot\", \"id\": \"b5000996-e682-4c07-a3ba-b3519c5f3c1d\"}, \"formatter\": {\"type\": \"BasicTickFormatter\", \"id\": \"c66ea5e6-653e-4f88-aceb-8db6c740c02b\"}, \"ticker\": {\"type\": \"BasicTicker\", \"id\": \"2d26214a-f51e-4851-982f-95fe271df0f9\"}}, \"type\": \"LinearAxis\", \"id\": \"c51764b1-9acc-462b-9b82-f06870136437\"}, {\"attributes\": {\"callback\": null, \"column_names\": [\"y\", \"x\"], \"data\": {\"y\": [0.08921647816896439, 0.017082130536437035, 0.003392023965716362, 0.0018796662334352732, 0.0016722388099879026, 0.0015529522206634283, 0.0014351706486195326, 0.00132021214812994, 0.001210838439874351, 0.0011080147232860327, 0.0010119721991941333, 0.0009226883994415402, 0.0008400430670008063, 0.0007638605893589556, 0.0006939247832633555, 0.0006299876258708537, 0.0005717719323001802, 0.0005189739749766886, 0.00047127361176535487, 0.00042833894258365035, 0.00038982724072411656, 0.0003553989517968148, 0.0003247153654228896, 0.0002974465605802834, 0.0002732784778345376], \"x\": [0, 1, 2, 3, 4, 5, 6, 7, 8, 9, 10, 11, 12, 13, 14, 15, 16, 17, 18, 19, 20, 21, 22, 23, 24]}}, \"type\": \"ColumnDataSource\", \"id\": \"6d704b20-0f9c-48ab-990d-a44acf88303d\"}, {\"attributes\": {\"plot\": {\"subtype\": \"Figure\", \"type\": \"Plot\", \"id\": \"a81ed0e3-e95c-48d3-9de3-b94de803d04d\"}, \"ticker\": {\"type\": \"BasicTicker\", \"id\": \"1f7f3da7-70b9-4b62-bfd7-9f0f7faa10be\"}, \"dimension\": 1}, \"type\": \"Grid\", \"id\": \"1092d692-2458-49d9-87b9-ef44563db540\"}, {\"attributes\": {\"plot\": {\"subtype\": \"Figure\", \"type\": \"Plot\", \"id\": \"b5000996-e682-4c07-a3ba-b3519c5f3c1d\"}}, \"type\": \"WheelZoomTool\", \"id\": \"9399101f-5580-4a27-8207-4c2acb17c4f8\"}, {\"attributes\": {\"plot\": {\"subtype\": \"Figure\", \"type\": \"Plot\", \"id\": \"a81ed0e3-e95c-48d3-9de3-b94de803d04d\"}}, \"type\": \"ResizeTool\", \"id\": \"dca64c48-ea65-4b41-bf60-8cbc20859a4f\"}, {\"attributes\": {\"plot\": {\"subtype\": \"Figure\", \"type\": \"Plot\", \"id\": \"a81ed0e3-e95c-48d3-9de3-b94de803d04d\"}, \"overlay\": {\"type\": \"BoxAnnotation\", \"id\": \"98dcc297-14e8-4eb7-9fee-196286fd6d0f\"}}, \"type\": \"BoxZoomTool\", \"id\": \"61303b22-8e47-49b6-8293-9b91d7bce454\"}, {\"attributes\": {\"plot\": {\"subtype\": \"Figure\", \"type\": \"Plot\", \"id\": \"b5000996-e682-4c07-a3ba-b3519c5f3c1d\"}, \"legends\": [[\"sinusoid + noise\", [{\"type\": \"GlyphRenderer\", \"id\": \"6cf9bc7b-326d-4bcc-ba4b-4f07d19e7610\"}]], [\"clean sinusoid\", [{\"type\": \"GlyphRenderer\", \"id\": \"685fb5d0-520b-4368-91b2-1ebf30837ed1\"}]], [\"prediction\", [{\"type\": \"GlyphRenderer\", \"id\": \"5e4d1027-7819-48f6-af34-8f8804fc2acb\"}]]]}, \"type\": \"Legend\", \"id\": \"9c20a51a-b436-4d69-b52e-158648093d1d\"}, {\"attributes\": {\"plot\": {\"subtype\": \"Figure\", \"type\": \"Plot\", \"id\": \"b5000996-e682-4c07-a3ba-b3519c5f3c1d\"}}, \"type\": \"ResizeTool\", \"id\": \"7fecf6b5-a24d-45a8-8e0c-6b4030cb35f3\"}, {\"attributes\": {\"line_color\": {\"value\": \"#1f77b4\"}, \"line_alpha\": {\"value\": 0.1}, \"fill_color\": {\"value\": \"#1f77b4\"}, \"fill_alpha\": {\"value\": 0.1}, \"y\": {\"field\": \"y\"}, \"x\": {\"field\": \"x\"}, \"size\": {\"units\": \"screen\", \"value\": 2}}, \"type\": \"Circle\", \"id\": \"bed5cfca-4570-4802-a441-c1206bce6ef7\"}, {\"attributes\": {\"nonselection_glyph\": {\"type\": \"Line\", \"id\": \"6594fad5-69f4-42be-9ea4-8008325c71c7\"}, \"data_source\": {\"type\": \"ColumnDataSource\", \"id\": \"252ed587-ffd5-4c2c-9edd-96fcbb1b8e0e\"}, \"selection_glyph\": null, \"hover_glyph\": null, \"glyph\": {\"type\": \"Line\", \"id\": \"9e592d8f-c8a1-45b9-b5c6-ebd55269410a\"}}, \"type\": \"GlyphRenderer\", \"id\": \"c0a8a5b3-0235-4e94-a5eb-ad10457f54df\"}, {\"attributes\": {\"nonselection_glyph\": {\"type\": \"Line\", \"id\": \"3f4f9e8f-d00b-4200-9c16-fa48efe97142\"}, \"data_source\": {\"type\": \"ColumnDataSource\", \"id\": \"ca255a68-6fe1-4dd6-b55e-4c83d78b5f59\"}, \"selection_glyph\": null, \"hover_glyph\": null, \"glyph\": {\"type\": \"Line\", \"id\": \"e05151e7-12ab-4749-a97f-bc2c0fe0b2d4\"}}, \"type\": \"GlyphRenderer\", \"id\": \"685fb5d0-520b-4368-91b2-1ebf30837ed1\"}, {\"attributes\": {\"line_color\": {\"value\": \"red\"}, \"x\": {\"field\": \"x\"}, \"y\": {\"field\": \"y\"}, \"fill_color\": {\"value\": \"red\"}, \"size\": {\"units\": \"screen\", \"value\": 2}}, \"type\": \"Circle\", \"id\": \"7b1fe8f9-8d52-4b27-92fd-9bd26bb460a5\"}, {\"attributes\": {\"plot\": {\"subtype\": \"Figure\", \"type\": \"Plot\", \"id\": \"a81ed0e3-e95c-48d3-9de3-b94de803d04d\"}}, \"type\": \"WheelZoomTool\", \"id\": \"f3b45ffb-de61-4454-b433-2cccd1032ad2\"}, {\"attributes\": {\"line_color\": {\"value\": \"blue\"}, \"x\": {\"field\": \"x\"}, \"y\": {\"field\": \"y\"}}, \"type\": \"Line\", \"id\": \"64c3e1e3-0dce-4c93-8c49-5b6a939e27d6\"}, {\"attributes\": {\"plot\": {\"subtype\": \"Figure\", \"type\": \"Plot\", \"id\": \"b5000996-e682-4c07-a3ba-b3519c5f3c1d\"}, \"ticker\": {\"type\": \"BasicTicker\", \"id\": \"da4bb41c-1ab6-41c0-8b61-8b73cc81f179\"}, \"dimension\": 1}, \"type\": \"Grid\", \"id\": \"1b05ad86-6e78-4a66-93eb-8e15f0146062\"}, {\"attributes\": {\"plot\": {\"subtype\": \"Figure\", \"type\": \"Plot\", \"id\": \"b5000996-e682-4c07-a3ba-b3519c5f3c1d\"}, \"overlay\": {\"type\": \"BoxAnnotation\", \"id\": \"a5b01471-3cc6-4aa0-b094-41b81bd64b12\"}}, \"type\": \"BoxZoomTool\", \"id\": \"7f63d591-66f4-4fc4-90eb-e16181465cfd\"}, {\"attributes\": {\"callback\": null}, \"type\": \"DataRange1d\", \"id\": \"bbd3b29d-660a-41b5-ac21-7bdedba1caea\"}, {\"attributes\": {\"line_color\": {\"value\": \"#1f77b4\"}, \"x\": {\"field\": \"x\"}, \"y\": {\"field\": \"y\"}}, \"type\": \"Line\", \"id\": \"3e7cbc29-7d2a-4ed3-ba4f-c31e5b3f4b71\"}, {\"attributes\": {\"callback\": null}, \"type\": \"DataRange1d\", \"id\": \"e269dd05-82f2-4115-80c6-98734c0d0bbe\"}, {\"attributes\": {\"plot\": {\"subtype\": \"Figure\", \"type\": \"Plot\", \"id\": \"b5000996-e682-4c07-a3ba-b3519c5f3c1d\"}}, \"type\": \"PanTool\", \"id\": \"e177912b-6160-4ea0-8dfc-4cb517a4287a\"}, {\"attributes\": {\"callback\": null, \"column_names\": [\"y\", \"x\"], \"data\": {\"y\": [-0.15329210534301768, -0.10840649688011046, 0.12994673945986013, 0.09154386656307309, 0.24060872587047458, 0.23863109077589978, 0.2910461226140083, 0.3776947574778027, 0.5521122295660598, 0.6287413097558618, 0.624902507557376, 0.5384417347939683, 0.7489102334740261, 0.7978582940822007, 0.797977963137032, 0.7486549507730469, 0.9152138830387234, 0.9185885375115329, 0.593141393306105, 0.9942216892293553, 0.7596822492089992, 1.0349393187877705, 0.9668800108862041, 1.1114758693893974, 0.9882106073076785, 0.9113385739943888, 0.9832913619699868, 1.0980953308078558, 0.9849119125148476, 0.9571496451413964, 1.0254118678459856, 0.9508124225512399, 0.9042343118826973, 1.0129126868841962, 0.9998393287079272, 0.8703496170078131, 0.7419173276272741, 0.8786597267734945, 0.8028590616618574, 0.7093137063015142, 0.46617759421787963, 0.5498939853098062, 0.4073864566316143, 0.4098780664096454, 0.3921302456143558, 0.3190329351840129, 0.20117237658192996, 0.3146766894777405, -0.044279893118856384, 0.1358088726422653, -0.18574832715943812, -0.024530705856982984, -0.2140236661926826, -0.09955093881246559, -0.24004463476409266, -0.2842463565282653, -0.4699524852413399, -0.4912363050648371, -0.4610319347606286, -0.47746980228805325, -0.2948756281161001, -0.6151381574383342, -0.5869433533917919, -0.8846620206723359, -0.9035024289091959, -0.8445664718357949, -0.9640706950658755, -0.72766675469723, -0.945848921744046, -0.7915582970489436, -0.8023782688865878, -0.9643051891402731, -0.9321072753479244, -0.9977246486485682, -0.9441830283928179, -0.9516658148219428, -1.010391691017474, -0.9416177031681956, -0.8099176231619647, -0.8972815381575394, -0.9184765549310926, -0.9172995337839309, -1.0060943648428782, -0.9790363677514078, -0.8119922723539851, -0.9459561067796567, -0.8471460026721567, -0.6008174933850058, -0.4931241362224131, -0.8040195974284653, -0.42512029606231616, -0.5569706240635509, -0.48325418280484755, -0.4371204546293645, -0.2600701399821188, -0.46978465227927846, -0.20307352602935191, -0.28186833432453323, -0.06825438062615127, 0.0914891142999906, -4.173264126005477e-05, 0.10020602812639878, 0.16628841138805348, 0.10742196461868697, 0.39985382215327336, 0.4796638191010364, 0.4383028898963741, 0.4331078347658335, 0.43556429256628604, 0.4731777726640898, 0.7588689105471431, 0.7788654940215769, 0.6781809570497425, 0.5709755744542899, 0.48731205578488407, 0.700674328348532, 0.8312658859025012, 1.0163755834881636, 0.8396614315602426, 0.9802580315223037, 1.0813746124599908, 0.981436792814239, 0.9680424638498022, 0.8612383498906159, 0.8777791976078279, 1.0416099634415823, 0.9779359751081789, 1.0043678330798076, 0.9775594791590628, 1.034997566064501, 0.8725877751522051, 0.8962184215299395, 1.0944452753293379, 0.7963280662052895, 0.8161703824220066, 0.7500783241770904, 0.8149913790165122, 0.8312078596656141, 0.6347259440700914, 0.5942825556382332, 0.5598870917621571, 0.5888101733265001, 0.4078141438507009, 0.38818329496794923, 0.130905165533376, 0.1708424934254454, 0.23744551156291938, 0.2771677319060548, 0.15484081189450558, -0.04708632613743295, -0.14002562081278538, -0.045322510239490896, -0.2906135977895862, -0.08078863271403648, -0.24230026799981327, -0.46974901029836, -0.46471993856884813, -0.49821042348817146, -0.5590729251240738, -0.6848200958011387, -0.6752515044913533, -0.7058641453627307, -0.7556756814897333, -0.616172964928057, -0.7600304624930726, -0.9083427161187089, -0.8777900860974195, -0.9642623897750102, -0.9348277183671917, -0.8422255705741113, -0.9258294382339405, -0.7400230429758249, -0.9446945081519361, -1.0834741523121894, -0.9170526553468274, -0.8920068782857464, -0.8886100292838761, -1.101538796617988, -0.9970509921801732, -0.8554019654457863, -1.1195294121825472, -0.9797181619904638, -1.0475208210087152, -0.9695637030335594, -0.9455736407764032, -0.6839600111205935, -0.793967046266669, -0.8153041855555927, -0.788107679067139, -0.623257273261535, -0.5888988150265355, -0.4014193575116467, -0.4317520045159748, -0.5689590693715887, -0.4310226234438144, -0.20200974316785653, -0.31079815693499635, -0.01392409709335446, -0.23516217669677653, -0.005529184225228731, -0.08612155533988375, 0.01183100623468962, 0.2351913983874058, 0.1746745983018631, 0.3300351116762589, 0.35634605386642393, 0.4435111210409077, 0.33696047045652383, 0.4595962342813204, 0.5782520567890673, 0.5028779650231171, 0.8003739940719126, 0.6068243017131681, 0.6989682697276276, 0.6698573362963633, 0.5946861878510785, 1.0240197777595095, 0.8558727863535619, 0.8600355686244574, 0.9099049797211762, 1.0930429135147932, 0.872072500322187, 1.0502440373051958, 0.9497358764595298, 0.9383596428744406, 1.0567058212520182, 1.0968507858025407, 0.9407244062864887, 0.9054023347612052, 0.8516735863964314, 1.0614068929679938, 0.8722508864076418, 0.7199139797384756, 1.017301893883478, 0.7073419753067188, 0.8869630475008495, 0.7888561074425534, 0.7577601706429302, 0.6261095783975652, 0.67398313577116, 0.42100726300405383, 0.5946305698529798, 0.6374546782549305, 0.5141820113077016, 0.16617054414599905, 0.21059609414767966, 0.22991039496736082, 0.23607504507972926, 0.11466796619829002, 0.013469080818268739, 0.05953003076923124, 0.053624657093182024, -0.14856263428296837, -0.11448832784720818, -0.5065949616837853, -0.40276793298580665, -0.4002504463904685, -0.474635913640528, -0.4484738523612656, -0.43445174022916916, -0.5371183496896355, -0.699646536924199, -0.8368239149791131, -0.673272215363511, -0.9543309167427815, -0.7437132660343149, -0.8631728337150177, -0.9938901788376844, -0.8761013212193397, -0.9300640961541522, -0.954716245586771, -0.9770054907813726, -0.9403348398860714, -0.8996712991186251, -0.9483652085798875, -0.898786681017769, -1.0024407003130524, -0.8302687688912805, -0.925176268515706, -1.0229525640969146, -1.0604460219685914, -0.9091968055148496, -1.0354792047582853, -0.9736442767995297, -0.820419217464659, -0.8698057390031451, -0.8638448667984818, -0.7324161320302496, -0.6772793160183261, -0.6580073922705566, -0.6255399441983921, -0.4503625221077628, -0.44751093897301625, -0.44812190278454833, -0.12169235933314465, -0.2896338206821064, -0.13548937379711898, -0.24347941489892222, -0.261627328285096, -0.14196617109364734, -0.026800978339823936, 0.013129698556352147, 0.25897185179657733, 0.1753772023761107, 0.2948367749089688, 0.30436887877166147, 0.32476911941134073, 0.4295788929104329, 0.6531588210787997, 0.4590319358053046, 0.6644842973484208, 0.5348232645861069, 0.6385844617017428, 0.7293269480168701, 0.8031507517484906, 0.9573298571723329, 0.8393196613555517, 0.7919451193902772, 0.9698312497710914, 0.8933595049966725, 0.9749246733883354, 0.9569609171748553, 0.7879415656000066, 1.0429446198738757, 1.0563635291104019, 1.0926604768308605, 1.1780730046742933, 0.8726043239681317, 1.0339379951568661, 1.009512660792728, 0.9091483170143719, 0.9694871095332394, 0.9547917479772143, 0.7544382970461403, 0.8689502016296679, 0.7172185637744778, 0.7053275927827374, 0.5514941459025521, 0.6372110133784444, 0.6170669226013434, 0.6427709390221111, 0.5359167876461035, 0.3275248590217406, 0.5119940972535152, 0.3562658903296556, 0.3578540534179237, 0.34528349901083255, 0.32964178948263273, 0.3214559325008073, 0.05556664366214487, 0.03111244460936045, -0.17062662861099942, -0.019173216560761125, -0.30587005904291586, -0.4292150560278865, -0.22597839384090107, -0.4202942051794555, -0.3480185634308476, -0.44094620916710014, -0.6988270600813719, -0.8597531887247414, -0.7470841644579487, -0.6828979572305923, -0.8511462608908816, -0.8357893877106559, -0.9549110674346776, -0.8273401295223222, -0.8672240873402322, -0.9529663148707852, -0.7900699557568804, -0.8012850135631921, -0.9120564408749827, -1.1622643688753613, -1.102583716035038, -0.9573136953199465, -1.062855758024459, -1.0467358715994537, -0.9022179618556747, -0.9311997685394452, -0.8371677177472403, -0.9939774459598053, -0.7922539438435653, -0.960240177174471, -0.7263575310299889, -0.8337444611403373, -0.8950679690859065, -0.9336351935411566, -0.7591158589075744, -0.710170375728244, -0.5516577987364542, -0.5988443025732785, -0.5790699928368463, -0.37404992680696425, -0.44826194769208766, -0.42574873430736515, -0.25155610264571093, -0.297672709049572, -0.12150110041658851, -0.18502494474263587, -0.08508643782633202, 0.015217697558820756, 0.025377887502880107, 0.1239880866285658, 0.2689285115097343, 0.28975006629683875, 0.3571139793784194, 0.3045815088227636, 0.5110622683924986, 0.5487099081526408, 0.6362687142051544, 0.515148669073861, 0.6201781300805447, 0.7479004961747316, 0.6680871156796839, 0.7479009957994003, 1.0015975681209082, 1.0395040267287903, 1.0003007350265956, 0.9986855660909941, 0.8278513709377378, 1.0023127394377662, 0.9326715016220437, 0.8764300609681479, 0.9412141174553472, 1.0095932358329072, 0.9452644425701333, 0.9429467858575881, 1.071318851156776, 0.9966978992410122, 0.9919289690948625, 0.962243755984782, 0.8622061715510834, 0.7677698606699581, 0.9073631510859046, 0.7936242622894766, 0.6079387675163642, 0.7312565169792768, 0.6197468332873501, 0.7544121293594628, 0.6895865124727198, 0.6374745667763134, 0.4693226331631419, 0.5549088322879179, 0.45774426987848954, 0.3271390988407029, 0.26368325116109975, 0.33796070245222576, 0.1400209088893846, 0.15569888091692674, 0.1661862182105832, 0.19093426255572754, 0.10359679291444467, -0.03525095714339105, -0.33797244974285645, -0.3175947301066482, -0.36382571312220036, -0.2028095694281482, -0.49571108566228694, -0.4431370363918862, -0.5257400886532516, -0.6812979732362399, -0.5992415887867437, -0.6447174973089345, -0.8545461155955593, -0.648225498070448, -1.0176679972604679, -0.9034036407930145, -0.7791096506573105, -1.0241528358134167, -0.8947498939320542, -1.0806925551226936, -0.9778855755730519, -1.2136645620459081, -1.0763718714857786, -1.1523188731437009, -1.04017637421265, -1.0395498680104367, -1.0594811184453938, -0.9024959310720165, -1.057271121515777, -0.8876178489762503, -0.7668489088923662, -0.890920637435551, -0.962073700501402, -0.9692617769881657, -0.8799955043868914, -0.70004897070081, -0.7134095539245301, -0.5908675843032962, -0.560390901815973, -0.5737041871046515, -0.4884779688123499, -0.29622905315966397, -0.28421366894762395, -0.39839915437509377, -0.21004905018137263, -0.19010480658307263, -0.07374250683175915, -0.05817157636071864, -0.1602072630336146], \"x\": [125.66370614359172, 125.72653799666352, 125.78936984973531, 125.85220170280712, 125.9150335558789, 125.9778654089507, 126.04069726202249, 126.1035291150943, 126.1663609681661, 126.22919282123789, 126.29202467430969, 126.35485652738147, 126.41768838045328, 126.48052023352507, 126.54335208659687, 126.60618393966868, 126.66901579274045, 126.73184764581227, 126.79467949888405, 126.85751135195585, 126.92034320502763, 126.98317505809945, 127.04600691117123, 127.10883876424303, 127.17167061731483, 127.23450247038662, 127.29733432345843, 127.36016617653021, 127.42299802960201, 127.4858298826738, 127.54866173574561, 127.61149358881738, 127.6743254418892, 127.737157294961, 127.79998914803278, 127.86282100110459, 127.92565285417638, 127.98848470724818, 128.05131656031998, 128.11414841339177, 128.17698026646357, 128.23981211953534, 128.30264397260717, 128.36547582567894, 128.42830767875074, 128.49113953182254, 128.55397138489434, 128.6168032379661, 128.67963509103794, 128.74246694410974, 128.8052987971815, 128.86813065025333, 128.9309625033251, 128.9937943563969, 129.0566262094687, 129.1194580625405, 129.18228991561227, 129.2451217686841, 129.3079536217559, 129.37078547482767, 129.4336173278995, 129.49644918097127, 129.55928103404307, 129.62211288711487, 129.68494474018667, 129.74777659325846, 129.81060844633026, 129.87344029940206, 129.93627215247383, 129.99910400554566, 130.06193585861743, 130.12476771168923, 130.18759956476103, 130.25043141783283, 130.31326327090463, 130.37609512397643, 130.43892697704823, 130.50175883012, 130.5645906831918, 130.6274225362636, 130.6902543893354, 130.7530862424072, 130.815918095479, 130.8787499485508, 130.9415818016226, 131.0044136546944, 131.06724550776616, 131.13007736083796, 131.19290921390976, 131.25574106698156, 131.31857292005336, 131.38140477312515, 131.44423662619695, 131.50706847926872, 131.56990033234055, 131.63273218541232, 131.69556403848412, 131.75839589155592, 131.82122774462772, 131.88405959769952, 131.94689145077132, 132.00972330384312, 132.0725551569149, 132.13538700998672, 132.1982188630585, 132.26105071613028, 132.32388256920208, 132.38671442227388, 132.44954627534568, 132.51237812841748, 132.57520998148928, 132.63804183456105, 132.70087368763288, 132.76370554070465, 132.82653739377645, 132.88936924684828, 132.95220109992005, 133.01503295299185, 133.07786480606364, 133.14069665913544, 133.2035285122072, 133.26636036527904, 133.3291922183508, 133.3920240714226, 133.4548559244944, 133.5176877775662, 133.580519630638, 133.6433514837098, 133.7061833367816, 133.76901518985338, 133.8318470429252, 133.89467889599698, 133.95751074906877, 134.02034260214057, 134.08317445521237, 134.14600630828417, 134.20883816135597, 134.27167001442777, 134.33450186749954, 134.39733372057134, 134.46016557364317, 134.52299742671494, 134.58582927978674, 134.64866113285854, 134.71149298593033, 134.77432483900213, 134.83715669207393, 134.8999885451457, 134.9628203982175, 135.02565225128933, 135.0884841043611, 135.1513159574329, 135.2141478105047, 135.2769796635765, 135.33981151664827, 135.4026433697201, 135.46547522279187, 135.52830707586367, 135.5911389289355, 135.65397078200726, 135.71680263507906, 135.77963448815086, 135.84246634122266, 135.90529819429443, 135.96813004736626, 136.03096190043806, 136.09379375350983, 136.15662560658166, 136.21945745965343, 136.28228931272523, 136.34512116579702, 136.40795301886882, 136.4707848719406, 136.53361672501242, 136.59644857808422, 136.659280431156, 136.72211228422782, 136.7849441372996, 136.8477759903714, 136.9106078434432, 136.973439696515, 137.03627154958676, 137.09910340265859, 137.16193525573038, 137.22476710880215, 137.28759896187398, 137.35043081494575, 137.41326266801755, 137.47609452108935, 137.53892637416115, 137.60175822723295, 137.66459008030475, 137.72742193337655, 137.79025378644832, 137.85308563952012, 137.91591749259192, 137.97874934566372, 138.0415811987355, 138.1044130518073, 138.1672449048791, 138.23007675795088, 138.2929086110227, 138.35574046409448, 138.41857231716628, 138.48140417023808, 138.54423602330988, 138.60706787638168, 138.66989972945348, 138.73273158252528, 138.79556343559705, 138.85839528866887, 138.92122714174064, 138.98405899481244, 139.04689084788424, 139.10972270095604, 139.17255455402784, 139.23538640709964, 139.29821826017144, 139.3610501132432, 139.42388196631504, 139.4867138193868, 139.5495456724586, 139.6123775255304, 139.6752093786022, 139.738041231674, 139.8008730847458, 139.8637049378176, 139.92653679088937, 139.9893686439612, 140.05220049703297, 140.11503235010477, 140.17786420317657, 140.24069605624837, 140.30352790932017, 140.36635976239197, 140.42919161546376, 140.49202346853554, 140.55485532160736, 140.61768717467913, 140.68051902775093, 140.74335088082273, 140.80618273389453, 140.86901458696633, 140.93184644003813, 140.99467829310993, 141.0575101461817, 141.12034199925353, 141.1831738523253, 141.2460057053971, 141.3088375584689, 141.3716694115407, 141.4345012646125, 141.4973331176843, 141.5601649707561, 141.62299682382786, 141.68582867689966, 141.74866052997146, 141.81149238304326, 141.87432423611506, 141.93715608918686, 141.99998794225866, 142.06281979533046, 142.12565164840225, 142.18848350147402, 142.25131535454582, 142.31414720761765, 142.37697906068942, 142.43981091376122, 142.50264276683302, 142.56547461990482, 142.6283064729766, 142.69113832604842, 142.7539701791202, 142.816802032192, 142.87963388526381, 142.94246573833559, 143.00529759140738, 143.06812944447918, 143.13096129755098, 143.19379315062275, 143.25662500369458, 143.31945685676635, 143.38228870983815, 143.44512056290998, 143.50795241598175, 143.57078426905355, 143.63361612212535, 143.69644797519715, 143.75927982826892, 143.82211168134074, 143.88494353441254, 143.9477753874843, 144.01060724055614, 144.0734390936279, 144.1362709466997, 144.1991027997715, 144.2619346528433, 144.32476650591508, 144.3875983589869, 144.4504302120587, 144.51326206513048, 144.57609391820228, 144.63892577127407, 144.70175762434587, 144.76458947741767, 144.82742133048947, 144.89025318356124, 144.95308503663307, 145.01591688970487, 145.07874874277664, 145.14158059584844, 145.20441244892024, 145.26724430199204, 145.33007615506384, 145.39290800813563, 145.45573986120743, 145.5185717142792, 145.58140356735103, 145.6442354204228, 145.7070672734946, 145.7698991265664, 145.8327309796382, 145.89556283271, 145.9583946857818, 146.0212265388536, 146.08405839192537, 146.1468902449972, 146.20972209806897, 146.27255395114076, 146.33538580421256, 146.39821765728436, 146.46104951035613, 146.52388136342796, 146.58671321649976, 146.64954506957153, 146.71237692264336, 146.77520877571513, 146.83804062878693, 146.90087248185873, 146.96370433493053, 147.02653618800232, 147.08936804107412, 147.15219989414592, 147.2150317472177, 147.27786360028952, 147.3406954533613, 147.4035273064331, 147.4663591595049, 147.5291910125767, 147.5920228656485, 147.6548547187203, 147.7176865717921, 147.78051842486386, 147.84335027793568, 147.90618213100745, 147.96901398407925, 148.03184583715105, 148.09467769022285, 148.15750954329465, 148.22034139636645, 148.28317324943825, 148.34600510251002, 148.40883695558182, 148.47166880865362, 148.53450066172542, 148.59733251479722, 148.66016436786902, 148.72299622094081, 148.7858280740126, 148.8486599270844, 148.91149178015618, 148.97432363322798, 149.03715548629978, 149.09998733937158, 149.16281919244338, 149.22565104551518, 149.28848289858698, 149.35131475165875, 149.41414660473058, 149.47697845780235, 149.53981031087415, 149.60264216394594, 149.66547401701774, 149.72830587008954, 149.79113772316134, 149.85396957623314, 149.9168014293049, 149.97963328237674, 150.0424651354485, 150.1052969885203, 150.16812884159214, 150.2309606946639, 150.2937925477357, 150.3566244008075, 150.4194562538793, 150.48228810695107, 150.5451199600229, 150.60795181309467, 150.67078366616647, 150.7336155192383, 150.79644737231007, 150.85927922538187, 150.92211107845367, 150.98494293152547, 151.04777478459724, 151.11060663766906, 151.17343849074086, 151.23627034381263, 151.29910219688446, 151.36193404995623, 151.42476590302803, 151.48759775609983, 151.55042960917163, 151.6132614622434, 151.67609331531523, 151.73892516838703, 151.8017570214588, 151.8645888745306, 151.9274207276024, 151.9902525806742, 152.053084433746, 152.1159162868178, 152.17874813988956, 152.2415799929614, 152.3044118460332, 152.36724369910496, 152.43007555217676, 152.49290740524856, 152.55573925832036, 152.61857111139216, 152.68140296446396, 152.74423481753576, 152.80706667060753, 152.86989852367935, 152.93273037675112, 152.99556222982292, 153.05839408289472, 153.12122593596652, 153.18405778903832, 153.24688964211012, 153.30972149518192, 153.3725533482537, 153.43538520132552, 153.4982170543973, 153.5610489074691, 153.62388076054089, 153.68671261361268, 153.74954446668445, 153.81237631975628, 153.87520817282808, 153.93804002589985, 154.00087187897168, 154.06370373204345, 154.12653558511525, 154.18936743818705, 154.25219929125885, 154.31503114433065, 154.37786299740245, 154.44069485047424, 154.50352670354602, 154.56635855661784, 154.6291904096896, 154.6920222627614, 154.7548541158332, 154.817685968905, 154.8805178219768, 154.9433496750486, 155.0061815281204, 155.06901338119218, 155.131845234264, 155.19467708733578, 155.25750894040758, 155.32034079347937, 155.38317264655117, 155.44600449962297, 155.50883635269477, 155.57166820576657, 155.63450005883834, 155.69733191191014, 155.76016376498194, 155.82299561805374, 155.88582747112554, 155.94865932419734, 156.01149117726914, 156.07432303034093, 156.13715488341273, 156.1999867364845, 156.2628185895563, 156.3256504426281, 156.3884822956999, 156.4513141487717, 156.5141460018435, 156.5769778549153, 156.63980970798707, 156.7026415610589, 156.76547341413067, 156.82830526720247, 156.89113712027427, 156.95396897334606, 157.01680082641786]}}, \"type\": \"ColumnDataSource\", \"id\": \"4d9900c5-404a-47d4-9d48-ea9dedfbde15\"}, {\"attributes\": {\"plot\": {\"subtype\": \"Figure\", \"type\": \"Plot\", \"id\": \"a81ed0e3-e95c-48d3-9de3-b94de803d04d\"}}, \"type\": \"HelpTool\", \"id\": \"f4c7519c-8df9-4e7b-8feb-a36c1eaca319\"}, {\"attributes\": {\"callback\": null, \"column_names\": [\"y\", \"x\"], \"data\": {\"y\": [-0.0039149001240730286, -0.008956663310527802, 0.10608209669589996, 0.1691327691078186, 0.20979024469852448, 0.31653568148612976, 0.3455645442008972, 0.4275241494178772, 0.5146759748458862, 0.5560579299926758, 0.6073224544525146, 0.6727719306945801, 0.7031336426734924, 0.744598388671875, 0.7646197080612183, 0.8065566420555115, 0.8256838321685791, 0.8653391599655151, 0.8727859258651733, 0.9056599736213684, 0.9300426840782166, 0.9255947470664978, 0.957770049571991, 0.9477567672729492, 0.9722625017166138, 0.9820139408111572, 0.9758421182632446, 0.9736924767494202, 0.9820983409881592, 0.9712091088294983, 0.956608235836029, 0.9297638535499573, 0.9290251135826111, 0.8934832215309143, 0.8641651272773743, 0.8324378132820129, 0.7873382568359375, 0.7494475841522217, 0.699306309223175, 0.6947338581085205, 0.6072132587432861, 0.5822107791900635, 0.5314702391624451, 0.45354077219963074, 0.39246881008148193, 0.2962326407432556, 0.30808234214782715, 0.22970569133758545, 0.15885111689567566, 0.07133115082979202, 0.0073380619287490845, -0.057337693870067596, -0.10086552053689957, -0.18348565697669983, -0.2098749428987503, -0.2808569669723511, -0.36495035886764526, -0.40908583998680115, -0.4738672971725464, -0.539832353591919, -0.5747721195220947, -0.6240968704223633, -0.6915637850761414, -0.7401243448257446, -0.796886146068573, -0.8145578503608704, -0.8384774327278137, -0.8801771998405457, -0.8910574913024902, -0.9078648686408997, -0.9377622008323669, -0.9535675048828125, -0.9631853103637695, -0.9628276824951172, -0.9668826460838318, -0.9616523385047913, -0.9690410494804382, -0.9777750372886658, -0.9739227890968323, -0.9583418369293213, -0.9406592845916748, -0.9351751804351807, -0.9160208702087402, -0.8802088499069214, -0.8794800043106079, -0.8446395397186279, -0.8071061372756958, -0.7515908479690552, -0.7227350473403931, -0.6775952577590942, -0.6081600785255432, -0.5944666862487793, -0.497227281332016, -0.4405675232410431, -0.3508119583129883, -0.3242434859275818, -0.2539548873901367, -0.21214401721954346, -0.1820639669895172, -0.06728257983922958, 0.0013851821422576904, 0.07715155184268951, 0.12399075925350189, 0.17544828355312347, 0.2448819875717163, 0.3261360824108124, 0.38042253255844116, 0.48013830184936523, 0.5161501169204712, 0.5638734102249146, 0.5950286984443665, 0.6667743921279907, 0.6980452537536621, 0.731399655342102, 0.7868858575820923, 0.7868191003799438, 0.8436461091041565, 0.8572975993156433, 0.8956471681594849, 0.9005807042121887, 0.9279375076293945, 0.9300424456596375, 0.9522753357887268, 0.9569336771965027, 0.9729406237602234, 0.9722275733947754, 0.9864495396614075, 0.9654488563537598, 0.9396649599075317, 0.9498395323753357, 0.9322443008422852, 0.9268700480461121, 0.8971563577651978, 0.8831648230552673, 0.8162443041801453, 0.7929956912994385, 0.744987964630127, 0.7544247508049011, 0.7044665813446045, 0.6622064113616943, 0.6358152031898499, 0.49226436018943787, 0.45683079957962036, 0.4200250506401062, 0.3736095130443573, 0.31932908296585083, 0.2399580478668213, 0.13632969558238983, 0.10398251563310623, 0.027314387261867523, -0.028888657689094543, -0.10217969119548798, -0.13683070242404938, -0.22330190241336823, -0.22711563110351562, -0.30404549837112427, -0.4038592576980591, -0.4617931842803955, -0.554040789604187, -0.5742412209510803, -0.6460251808166504, -0.6527067422866821, -0.7167857885360718, -0.7828618288040161, -0.7968016266822815, -0.8356988430023193, -0.8504086136817932, -0.8603657484054565, -0.9061242341995239, -0.9190081357955933, -0.9371845722198486, -0.931370735168457, -0.9445258378982544, -0.9572966694831848, -0.9666041135787964, -0.9738004803657532, -0.9719811677932739, -0.9727123975753784, -0.9480963945388794, -0.950040876865387, -0.951581597328186, -0.9161760210990906, -0.8957785367965698, -0.8861057162284851, -0.8150621056556702, -0.8066874146461487, -0.7760099768638611, -0.7235466241836548, -0.6738250255584717, -0.6116705536842346, -0.5284174680709839, -0.5304865837097168, -0.4589131474494934, -0.4181041121482849, -0.3640761375427246, -0.29923781752586365, -0.20258153975009918, -0.14810976386070251, -0.06420610100030899, -0.009320005774497986, 0.005357988178730011, 0.04271537810564041, 0.16468402743339539, 0.2582013010978699, 0.31626051664352417, 0.38028502464294434, 0.36909323930740356, 0.4293609857559204, 0.5041200518608093, 0.5964953303337097, 0.6330134272575378, 0.6705467700958252, 0.7403196096420288, 0.7532935738563538, 0.794619619846344, 0.8083574175834656, 0.842758297920227, 0.8842558264732361, 0.9020532369613647, 0.9206929802894592, 0.9401674270629883, 0.9456910490989685, 0.9428857564926147, 0.9515321254730225, 0.9958113431930542, 0.979793906211853, 0.9708813428878784, 0.979968786239624, 0.9522415995597839, 0.9439258575439453, 0.9317978620529175, 0.9483975768089294, 0.9035543203353882, 0.8883875012397766, 0.8616400957107544, 0.8038903474807739, 0.787982702255249, 0.7189860343933105, 0.7012255191802979, 0.6413019895553589, 0.5835579633712769, 0.5950184464454651, 0.47135594487190247, 0.4261515736579895, 0.375638484954834, 0.264761745929718, 0.25542816519737244, 0.16556058824062347, 0.11069228500127792, 0.06637991219758987, -0.027511514723300934, -0.0951680988073349, -0.15735512971878052, -0.21528229117393494, -0.26637881994247437, -0.29251307249069214, -0.3731352686882019, -0.4639059901237488, -0.47632357478141785, -0.584775447845459, -0.6098328828811646, -0.6687673926353455, -0.7177934050559998, -0.7351759672164917, -0.7838771343231201, -0.8197527527809143, -0.8370491862297058, -0.8836325407028198, -0.8837807178497314, -0.9014978408813477, -0.9384347200393677, -0.9383279085159302, -0.9491242170333862, -0.9743702411651611, -0.9602572917938232, -0.9684003591537476, -0.9681700468063354, -0.9733211398124695, -0.9567641019821167, -0.9531577229499817, -0.9440754652023315, -0.932685911655426, -0.8866687417030334, -0.8615049123764038, -0.8535664081573486, -0.8220632076263428, -0.7753244042396545, -0.7582674622535706, -0.6928580403327942, -0.6293168067932129, -0.5831997990608215, -0.5282842516899109, -0.49413278698921204, -0.42561906576156616, -0.3962678611278534, -0.292329877614975, -0.23671841621398926, -0.14817029237747192, -0.1122240200638771, -0.04421382397413254, -0.001573517918586731, 0.050904519855976105, 0.1261652410030365, 0.21506404876708984, 0.29196134209632874, 0.3419864773750305, 0.3718058466911316, 0.43575477600097656, 0.5359932780265808, 0.5691900253295898, 0.6387038826942444, 0.6634458303451538, 0.7082896828651428, 0.757757842540741, 0.7945177555084229, 0.8226491212844849, 0.8490966558456421, 0.8658425807952881, 0.8892796635627747, 0.9086838960647583, 0.925994873046875, 0.9536744356155396, 0.95900559425354, 0.9620315432548523, 0.955592155456543, 0.9529569745063782, 0.9756453037261963, 0.975018322467804, 0.95624840259552, 0.9603675603866577, 0.9619610905647278, 0.9220107793807983, 0.8796347379684448, 0.8989668488502502, 0.8476736545562744, 0.824360728263855, 0.7886561751365662, 0.7338958978652954, 0.6875454187393188, 0.6533015966415405, 0.590180516242981, 0.5508658289909363, 0.4712632894515991, 0.46212872862815857, 0.3704844117164612, 0.3178209066390991, 0.2452857345342636, 0.15999841690063477, 0.12606650590896606, 0.024644650518894196, -0.025710515677928925, -0.06462179124355316, -0.13014276325702667, -0.19052737951278687, -0.2702503502368927, -0.35184550285339355, -0.3993034362792969, -0.45062682032585144, -0.49699681997299194, -0.5662147402763367, -0.6208633184432983, -0.6752586364746094, -0.7126399874687195, -0.7601932883262634, -0.7776280641555786, -0.8153573274612427, -0.8565765023231506, -0.8712307810783386, -0.9087972044944763, -0.9251026511192322, -0.9200003147125244, -0.943216860294342, -0.9572145342826843, -0.9610397815704346, -0.9849570989608765, -0.9615479707717896, -0.9818061590194702, -0.9777911305427551, -0.9705978035926819, -0.9648910760879517, -0.9437006711959839, -0.9286578893661499, -0.8868940472602844, -0.8896847367286682, -0.8562543392181396, -0.801220178604126, -0.7706128358840942, -0.7223621606826782, -0.6689677834510803, -0.6521144509315491, -0.5870616436004639, -0.5638689994812012, -0.4952991008758545, -0.4422530233860016, -0.34628450870513916, -0.31144481897354126, -0.21905916929244995, -0.1660628765821457, -0.13875113427639008, -0.05937217175960541, -0.013095483183860779, 0.08648280799388885, 0.16772358119487762, 0.23286907374858856, 0.28370144963264465, 0.3316051959991455, 0.37126123905181885, 0.4583050608634949, 0.5334961414337158, 0.5775880813598633, 0.6397509574890137, 0.6958970427513123, 0.7234514355659485, 0.7737665176391602, 0.7831281423568726, 0.8242954015731812, 0.8642120957374573, 0.8894708156585693, 0.913030743598938, 0.9269046783447266, 0.9397286772727966, 0.9254250526428223, 0.9535664916038513, 0.9743515253067017, 0.9588676691055298, 0.9762399196624756, 0.9761589169502258, 0.9634019732475281, 0.9663282632827759, 0.9434897899627686, 0.9364279508590698, 0.9337303638458252, 0.9031914472579956, 0.8680099844932556, 0.8432593941688538, 0.8372684717178345, 0.7977942228317261, 0.7304174900054932, 0.6815582513809204, 0.657963216304779, 0.612843930721283, 0.5693576335906982, 0.4860913157463074, 0.41495782136917114, 0.36009564995765686, 0.2890567481517792, 0.21277488768100739, 0.19279617071151733, 0.105079784989357, 0.06459980458021164, 0.005252115428447723, -0.09645266830921173, -0.17575791478157043, -0.22775669395923615, -0.2540373206138611, -0.3790721893310547, -0.4196339249610901, -0.477263867855072, -0.5341596603393555, -0.5828459858894348, -0.6340131759643555, -0.6664336919784546, -0.6974130868911743, -0.7287740707397461, -0.781929075717926, -0.8121731877326965, -0.8454297780990601, -0.8763508200645447, -0.9071922898292542, -0.910854697227478, -0.9241509437561035, -0.950321614742279, -0.9385169148445129, -0.9666824340820312, -0.9740266799926758, -0.9639706015586853, -0.9616334438323975, -0.9597607254981995, -0.9691678285598755, -0.9603965878486633, -0.9447653889656067, -0.9415788650512695, -0.8864982724189758, -0.8752884268760681, -0.8549045324325562, -0.8079079985618591, -0.7883354425430298, -0.7374641299247742, -0.7019863128662109, -0.6208104491233826, -0.6418249607086182, -0.5543065667152405, -0.5371286273002625, -0.4795380234718323, -0.34527450799942017, -0.2863209843635559, -0.23121115565299988, -0.19023196399211884, -0.14158958196640015, -0.06658366322517395], \"x\": [125.66370614359172, 125.72653799666352, 125.78936984973531, 125.85220170280712, 125.9150335558789, 125.9778654089507, 126.04069726202249, 126.1035291150943, 126.1663609681661, 126.22919282123789, 126.29202467430969, 126.35485652738147, 126.41768838045328, 126.48052023352507, 126.54335208659687, 126.60618393966868, 126.66901579274045, 126.73184764581227, 126.79467949888405, 126.85751135195585, 126.92034320502763, 126.98317505809945, 127.04600691117123, 127.10883876424303, 127.17167061731483, 127.23450247038662, 127.29733432345843, 127.36016617653021, 127.42299802960201, 127.4858298826738, 127.54866173574561, 127.61149358881738, 127.6743254418892, 127.737157294961, 127.79998914803278, 127.86282100110459, 127.92565285417638, 127.98848470724818, 128.05131656031998, 128.11414841339177, 128.17698026646357, 128.23981211953534, 128.30264397260717, 128.36547582567894, 128.42830767875074, 128.49113953182254, 128.55397138489434, 128.6168032379661, 128.67963509103794, 128.74246694410974, 128.8052987971815, 128.86813065025333, 128.9309625033251, 128.9937943563969, 129.0566262094687, 129.1194580625405, 129.18228991561227, 129.2451217686841, 129.3079536217559, 129.37078547482767, 129.4336173278995, 129.49644918097127, 129.55928103404307, 129.62211288711487, 129.68494474018667, 129.74777659325846, 129.81060844633026, 129.87344029940206, 129.93627215247383, 129.99910400554566, 130.06193585861743, 130.12476771168923, 130.18759956476103, 130.25043141783283, 130.31326327090463, 130.37609512397643, 130.43892697704823, 130.50175883012, 130.5645906831918, 130.6274225362636, 130.6902543893354, 130.7530862424072, 130.815918095479, 130.8787499485508, 130.9415818016226, 131.0044136546944, 131.06724550776616, 131.13007736083796, 131.19290921390976, 131.25574106698156, 131.31857292005336, 131.38140477312515, 131.44423662619695, 131.50706847926872, 131.56990033234055, 131.63273218541232, 131.69556403848412, 131.75839589155592, 131.82122774462772, 131.88405959769952, 131.94689145077132, 132.00972330384312, 132.0725551569149, 132.13538700998672, 132.1982188630585, 132.26105071613028, 132.32388256920208, 132.38671442227388, 132.44954627534568, 132.51237812841748, 132.57520998148928, 132.63804183456105, 132.70087368763288, 132.76370554070465, 132.82653739377645, 132.88936924684828, 132.95220109992005, 133.01503295299185, 133.07786480606364, 133.14069665913544, 133.2035285122072, 133.26636036527904, 133.3291922183508, 133.3920240714226, 133.4548559244944, 133.5176877775662, 133.580519630638, 133.6433514837098, 133.7061833367816, 133.76901518985338, 133.8318470429252, 133.89467889599698, 133.95751074906877, 134.02034260214057, 134.08317445521237, 134.14600630828417, 134.20883816135597, 134.27167001442777, 134.33450186749954, 134.39733372057134, 134.46016557364317, 134.52299742671494, 134.58582927978674, 134.64866113285854, 134.71149298593033, 134.77432483900213, 134.83715669207393, 134.8999885451457, 134.9628203982175, 135.02565225128933, 135.0884841043611, 135.1513159574329, 135.2141478105047, 135.2769796635765, 135.33981151664827, 135.4026433697201, 135.46547522279187, 135.52830707586367, 135.5911389289355, 135.65397078200726, 135.71680263507906, 135.77963448815086, 135.84246634122266, 135.90529819429443, 135.96813004736626, 136.03096190043806, 136.09379375350983, 136.15662560658166, 136.21945745965343, 136.28228931272523, 136.34512116579702, 136.40795301886882, 136.4707848719406, 136.53361672501242, 136.59644857808422, 136.659280431156, 136.72211228422782, 136.7849441372996, 136.8477759903714, 136.9106078434432, 136.973439696515, 137.03627154958676, 137.09910340265859, 137.16193525573038, 137.22476710880215, 137.28759896187398, 137.35043081494575, 137.41326266801755, 137.47609452108935, 137.53892637416115, 137.60175822723295, 137.66459008030475, 137.72742193337655, 137.79025378644832, 137.85308563952012, 137.91591749259192, 137.97874934566372, 138.0415811987355, 138.1044130518073, 138.1672449048791, 138.23007675795088, 138.2929086110227, 138.35574046409448, 138.41857231716628, 138.48140417023808, 138.54423602330988, 138.60706787638168, 138.66989972945348, 138.73273158252528, 138.79556343559705, 138.85839528866887, 138.92122714174064, 138.98405899481244, 139.04689084788424, 139.10972270095604, 139.17255455402784, 139.23538640709964, 139.29821826017144, 139.3610501132432, 139.42388196631504, 139.4867138193868, 139.5495456724586, 139.6123775255304, 139.6752093786022, 139.738041231674, 139.8008730847458, 139.8637049378176, 139.92653679088937, 139.9893686439612, 140.05220049703297, 140.11503235010477, 140.17786420317657, 140.24069605624837, 140.30352790932017, 140.36635976239197, 140.42919161546376, 140.49202346853554, 140.55485532160736, 140.61768717467913, 140.68051902775093, 140.74335088082273, 140.80618273389453, 140.86901458696633, 140.93184644003813, 140.99467829310993, 141.0575101461817, 141.12034199925353, 141.1831738523253, 141.2460057053971, 141.3088375584689, 141.3716694115407, 141.4345012646125, 141.4973331176843, 141.5601649707561, 141.62299682382786, 141.68582867689966, 141.74866052997146, 141.81149238304326, 141.87432423611506, 141.93715608918686, 141.99998794225866, 142.06281979533046, 142.12565164840225, 142.18848350147402, 142.25131535454582, 142.31414720761765, 142.37697906068942, 142.43981091376122, 142.50264276683302, 142.56547461990482, 142.6283064729766, 142.69113832604842, 142.7539701791202, 142.816802032192, 142.87963388526381, 142.94246573833559, 143.00529759140738, 143.06812944447918, 143.13096129755098, 143.19379315062275, 143.25662500369458, 143.31945685676635, 143.38228870983815, 143.44512056290998, 143.50795241598175, 143.57078426905355, 143.63361612212535, 143.69644797519715, 143.75927982826892, 143.82211168134074, 143.88494353441254, 143.9477753874843, 144.01060724055614, 144.0734390936279, 144.1362709466997, 144.1991027997715, 144.2619346528433, 144.32476650591508, 144.3875983589869, 144.4504302120587, 144.51326206513048, 144.57609391820228, 144.63892577127407, 144.70175762434587, 144.76458947741767, 144.82742133048947, 144.89025318356124, 144.95308503663307, 145.01591688970487, 145.07874874277664, 145.14158059584844, 145.20441244892024, 145.26724430199204, 145.33007615506384, 145.39290800813563, 145.45573986120743, 145.5185717142792, 145.58140356735103, 145.6442354204228, 145.7070672734946, 145.7698991265664, 145.8327309796382, 145.89556283271, 145.9583946857818, 146.0212265388536, 146.08405839192537, 146.1468902449972, 146.20972209806897, 146.27255395114076, 146.33538580421256, 146.39821765728436, 146.46104951035613, 146.52388136342796, 146.58671321649976, 146.64954506957153, 146.71237692264336, 146.77520877571513, 146.83804062878693, 146.90087248185873, 146.96370433493053, 147.02653618800232, 147.08936804107412, 147.15219989414592, 147.2150317472177, 147.27786360028952, 147.3406954533613, 147.4035273064331, 147.4663591595049, 147.5291910125767, 147.5920228656485, 147.6548547187203, 147.7176865717921, 147.78051842486386, 147.84335027793568, 147.90618213100745, 147.96901398407925, 148.03184583715105, 148.09467769022285, 148.15750954329465, 148.22034139636645, 148.28317324943825, 148.34600510251002, 148.40883695558182, 148.47166880865362, 148.53450066172542, 148.59733251479722, 148.66016436786902, 148.72299622094081, 148.7858280740126, 148.8486599270844, 148.91149178015618, 148.97432363322798, 149.03715548629978, 149.09998733937158, 149.16281919244338, 149.22565104551518, 149.28848289858698, 149.35131475165875, 149.41414660473058, 149.47697845780235, 149.53981031087415, 149.60264216394594, 149.66547401701774, 149.72830587008954, 149.79113772316134, 149.85396957623314, 149.9168014293049, 149.97963328237674, 150.0424651354485, 150.1052969885203, 150.16812884159214, 150.2309606946639, 150.2937925477357, 150.3566244008075, 150.4194562538793, 150.48228810695107, 150.5451199600229, 150.60795181309467, 150.67078366616647, 150.7336155192383, 150.79644737231007, 150.85927922538187, 150.92211107845367, 150.98494293152547, 151.04777478459724, 151.11060663766906, 151.17343849074086, 151.23627034381263, 151.29910219688446, 151.36193404995623, 151.42476590302803, 151.48759775609983, 151.55042960917163, 151.6132614622434, 151.67609331531523, 151.73892516838703, 151.8017570214588, 151.8645888745306, 151.9274207276024, 151.9902525806742, 152.053084433746, 152.1159162868178, 152.17874813988956, 152.2415799929614, 152.3044118460332, 152.36724369910496, 152.43007555217676, 152.49290740524856, 152.55573925832036, 152.61857111139216, 152.68140296446396, 152.74423481753576, 152.80706667060753, 152.86989852367935, 152.93273037675112, 152.99556222982292, 153.05839408289472, 153.12122593596652, 153.18405778903832, 153.24688964211012, 153.30972149518192, 153.3725533482537, 153.43538520132552, 153.4982170543973, 153.5610489074691, 153.62388076054089, 153.68671261361268, 153.74954446668445, 153.81237631975628, 153.87520817282808, 153.93804002589985, 154.00087187897168, 154.06370373204345, 154.12653558511525, 154.18936743818705, 154.25219929125885, 154.31503114433065, 154.37786299740245, 154.44069485047424, 154.50352670354602, 154.56635855661784, 154.6291904096896, 154.6920222627614, 154.7548541158332, 154.817685968905, 154.8805178219768, 154.9433496750486, 155.0061815281204, 155.06901338119218, 155.131845234264, 155.19467708733578, 155.25750894040758, 155.32034079347937, 155.38317264655117, 155.44600449962297, 155.50883635269477, 155.57166820576657, 155.63450005883834, 155.69733191191014, 155.76016376498194, 155.82299561805374, 155.88582747112554, 155.94865932419734, 156.01149117726914, 156.07432303034093, 156.13715488341273, 156.1999867364845, 156.2628185895563, 156.3256504426281, 156.3884822956999, 156.4513141487717, 156.5141460018435, 156.5769778549153, 156.63980970798707, 156.7026415610589, 156.76547341413067, 156.82830526720247, 156.89113712027427, 156.95396897334606, 157.01680082641786]}}, \"type\": \"ColumnDataSource\", \"id\": \"e4752d4e-4f57-4673-873e-a8a0ec3f19f0\"}, {\"attributes\": {\"plot\": {\"subtype\": \"Figure\", \"type\": \"Plot\", \"id\": \"b5000996-e682-4c07-a3ba-b3519c5f3c1d\"}}, \"type\": \"PreviewSaveTool\", \"id\": \"72f9f2e9-63e6-4137-8ac1-b7b8e4a7248b\"}, {\"attributes\": {}, \"type\": \"BasicTicker\", \"id\": \"2d26214a-f51e-4851-982f-95fe271df0f9\"}, {\"attributes\": {\"plot\": {\"subtype\": \"Figure\", \"type\": \"Plot\", \"id\": \"a81ed0e3-e95c-48d3-9de3-b94de803d04d\"}}, \"type\": \"PanTool\", \"id\": \"3cf587c5-133e-44dc-8bc1-776462724f1f\"}, {\"attributes\": {\"line_color\": {\"value\": \"black\"}, \"line_alpha\": {\"value\": 1.0}, \"render_mode\": \"css\", \"bottom_units\": \"screen\", \"level\": \"overlay\", \"top_units\": \"screen\", \"fill_alpha\": {\"value\": 0.5}, \"plot\": null, \"left_units\": \"screen\", \"line_dash\": [4, 4], \"line_width\": {\"value\": 2}, \"right_units\": \"screen\", \"fill_color\": {\"value\": \"lightgrey\"}}, \"type\": \"BoxAnnotation\", \"id\": \"98dcc297-14e8-4eb7-9fee-196286fd6d0f\"}, {\"attributes\": {}, \"type\": \"BasicTicker\", \"id\": \"1f7f3da7-70b9-4b62-bfd7-9f0f7faa10be\"}, {\"attributes\": {\"line_color\": {\"value\": \"black\"}, \"line_alpha\": {\"value\": 1.0}, \"render_mode\": \"css\", \"bottom_units\": \"screen\", \"level\": \"overlay\", \"top_units\": \"screen\", \"fill_alpha\": {\"value\": 0.5}, \"plot\": null, \"left_units\": \"screen\", \"line_dash\": [4, 4], \"line_width\": {\"value\": 2}, \"right_units\": \"screen\", \"fill_color\": {\"value\": \"lightgrey\"}}, \"type\": \"BoxAnnotation\", \"id\": \"a5b01471-3cc6-4aa0-b094-41b81bd64b12\"}, {\"attributes\": {}, \"type\": \"BasicTickFormatter\", \"id\": \"8aa71907-a99d-4b04-97cf-cdf9b10ffb7a\"}, {\"attributes\": {}, \"type\": \"BasicTickFormatter\", \"id\": \"e5dc080e-0185-4e34-83bb-582009b53485\"}, {\"attributes\": {\"plot\": {\"subtype\": \"Figure\", \"type\": \"Plot\", \"id\": \"a81ed0e3-e95c-48d3-9de3-b94de803d04d\"}, \"ticker\": {\"type\": \"BasicTicker\", \"id\": \"41aacd0b-57eb-454a-8e01-450fb94a8e32\"}}, \"type\": \"Grid\", \"id\": \"9f742736-fe28-4bde-9cfe-1b0fd9aadec9\"}, {\"attributes\": {}, \"type\": \"BasicTicker\", \"id\": \"41aacd0b-57eb-454a-8e01-450fb94a8e32\"}, {\"attributes\": {}, \"type\": \"ToolEvents\", \"id\": \"99dca5e8-a17c-4aeb-a8d3-8e3e6ca6cef1\"}, {\"attributes\": {}, \"type\": \"BasicTicker\", \"id\": \"da4bb41c-1ab6-41c0-8b61-8b73cc81f179\"}, {\"attributes\": {\"plot\": {\"subtype\": \"Figure\", \"type\": \"Plot\", \"id\": \"a81ed0e3-e95c-48d3-9de3-b94de803d04d\"}}, \"type\": \"PreviewSaveTool\", \"id\": \"2a0632f7-d32b-4551-8d9c-195a4c535383\"}, {\"attributes\": {\"nonselection_glyph\": {\"type\": \"Circle\", \"id\": \"bed5cfca-4570-4802-a441-c1206bce6ef7\"}, \"data_source\": {\"type\": \"ColumnDataSource\", \"id\": \"4d9900c5-404a-47d4-9d48-ea9dedfbde15\"}, \"selection_glyph\": null, \"hover_glyph\": null, \"glyph\": {\"type\": \"Circle\", \"id\": \"7b1fe8f9-8d52-4b27-92fd-9bd26bb460a5\"}}, \"type\": \"GlyphRenderer\", \"id\": \"6cf9bc7b-326d-4bcc-ba4b-4f07d19e7610\"}, {\"attributes\": {\"plot\": {\"subtype\": \"Figure\", \"type\": \"Plot\", \"id\": \"a81ed0e3-e95c-48d3-9de3-b94de803d04d\"}, \"axis_label\": \"Epochs\", \"formatter\": {\"type\": \"BasicTickFormatter\", \"id\": \"177b19d9-f2e0-42eb-a61a-b9c11ced22a0\"}, \"ticker\": {\"type\": \"BasicTicker\", \"id\": \"41aacd0b-57eb-454a-8e01-450fb94a8e32\"}}, \"type\": \"LinearAxis\", \"id\": \"e30f1299-12e7-4d29-86b5-dd974f849558\"}, {\"attributes\": {\"plot\": {\"subtype\": \"Figure\", \"type\": \"Plot\", \"id\": \"b5000996-e682-4c07-a3ba-b3519c5f3c1d\"}, \"formatter\": {\"type\": \"BasicTickFormatter\", \"id\": \"8aa71907-a99d-4b04-97cf-cdf9b10ffb7a\"}, \"ticker\": {\"type\": \"BasicTicker\", \"id\": \"da4bb41c-1ab6-41c0-8b61-8b73cc81f179\"}}, \"type\": \"LinearAxis\", \"id\": \"f52203d0-4fde-4718-975e-89de063d2dd7\"}, {\"attributes\": {\"line_color\": {\"value\": \"green\"}, \"x\": {\"field\": \"x\"}, \"y\": {\"field\": \"y\"}}, \"type\": \"Line\", \"id\": \"9e592d8f-c8a1-45b9-b5c6-ebd55269410a\"}, {\"attributes\": {\"plot\": {\"subtype\": \"Figure\", \"type\": \"Plot\", \"id\": \"a81ed0e3-e95c-48d3-9de3-b94de803d04d\"}, \"axis_label\": \"Error\", \"formatter\": {\"type\": \"BasicTickFormatter\", \"id\": \"e5dc080e-0185-4e34-83bb-582009b53485\"}, \"ticker\": {\"type\": \"BasicTicker\", \"id\": \"1f7f3da7-70b9-4b62-bfd7-9f0f7faa10be\"}}, \"type\": \"LinearAxis\", \"id\": \"a4145532-4bad-46d5-9507-bc0c507b0c94\"}, {\"attributes\": {\"x_range\": {\"type\": \"DataRange1d\", \"id\": \"31285294-c93c-4b21-9f78-0fa015bf304b\"}, \"title\": \"Data\", \"y_range\": {\"type\": \"DataRange1d\", \"id\": \"bbd3b29d-660a-41b5-ac21-7bdedba1caea\"}, \"renderers\": [{\"type\": \"LinearAxis\", \"id\": \"c51764b1-9acc-462b-9b82-f06870136437\"}, {\"type\": \"Grid\", \"id\": \"012b0ebe-9eb2-4515-a123-009c1af4caa1\"}, {\"type\": \"LinearAxis\", \"id\": \"f52203d0-4fde-4718-975e-89de063d2dd7\"}, {\"type\": \"Grid\", \"id\": \"1b05ad86-6e78-4a66-93eb-8e15f0146062\"}, {\"type\": \"BoxAnnotation\", \"id\": \"a5b01471-3cc6-4aa0-b094-41b81bd64b12\"}, {\"type\": \"Legend\", \"id\": \"9c20a51a-b436-4d69-b52e-158648093d1d\"}, {\"type\": \"GlyphRenderer\", \"id\": \"6cf9bc7b-326d-4bcc-ba4b-4f07d19e7610\"}, {\"type\": \"GlyphRenderer\", \"id\": \"685fb5d0-520b-4368-91b2-1ebf30837ed1\"}, {\"type\": \"GlyphRenderer\", \"id\": \"5e4d1027-7819-48f6-af34-8f8804fc2acb\"}], \"plot_width\": 750, \"below\": [{\"type\": \"LinearAxis\", \"id\": \"c51764b1-9acc-462b-9b82-f06870136437\"}], \"tool_events\": {\"type\": \"ToolEvents\", \"id\": \"3e80f388-7e0a-4c35-a6d7-0a9611c1f80a\"}, \"plot_height\": 450, \"tools\": [{\"type\": \"PanTool\", \"id\": \"e177912b-6160-4ea0-8dfc-4cb517a4287a\"}, {\"type\": \"WheelZoomTool\", \"id\": \"9399101f-5580-4a27-8207-4c2acb17c4f8\"}, {\"type\": \"BoxZoomTool\", \"id\": \"7f63d591-66f4-4fc4-90eb-e16181465cfd\"}, {\"type\": \"PreviewSaveTool\", \"id\": \"72f9f2e9-63e6-4137-8ac1-b7b8e4a7248b\"}, {\"type\": \"ResizeTool\", \"id\": \"7fecf6b5-a24d-45a8-8e0c-6b4030cb35f3\"}, {\"type\": \"ResetTool\", \"id\": \"a2da624f-dc33-4f02-ab5e-28df292b86b0\"}, {\"type\": \"HelpTool\", \"id\": \"dd6c9295-117d-4390-8b7d-3574051995a3\"}], \"left\": [{\"type\": \"LinearAxis\", \"id\": \"f52203d0-4fde-4718-975e-89de063d2dd7\"}]}, \"type\": \"Plot\", \"id\": \"b5000996-e682-4c07-a3ba-b3519c5f3c1d\", \"subtype\": \"Figure\"}, {\"attributes\": {\"plot\": {\"subtype\": \"Figure\", \"type\": \"Plot\", \"id\": \"a81ed0e3-e95c-48d3-9de3-b94de803d04d\"}}, \"type\": \"ResetTool\", \"id\": \"58e838f9-b9cd-41ad-9c5d-067187282264\"}, {\"attributes\": {\"callback\": null}, \"type\": \"DataRange1d\", \"id\": \"0a711d1a-d4c4-47e0-ad5a-9a794bddd365\"}, {\"attributes\": {}, \"type\": \"ToolEvents\", \"id\": \"3e80f388-7e0a-4c35-a6d7-0a9611c1f80a\"}, {\"attributes\": {}, \"type\": \"BasicTickFormatter\", \"id\": \"177b19d9-f2e0-42eb-a61a-b9c11ced22a0\"}, {\"attributes\": {\"plot\": {\"subtype\": \"Figure\", \"type\": \"Plot\", \"id\": \"b5000996-e682-4c07-a3ba-b3519c5f3c1d\"}, \"ticker\": {\"type\": \"BasicTicker\", \"id\": \"2d26214a-f51e-4851-982f-95fe271df0f9\"}}, \"type\": \"Grid\", \"id\": \"012b0ebe-9eb2-4515-a123-009c1af4caa1\"}, {\"attributes\": {\"x_range\": {\"type\": \"DataRange1d\", \"id\": \"0a711d1a-d4c4-47e0-ad5a-9a794bddd365\"}, \"y_range\": {\"type\": \"DataRange1d\", \"id\": \"e269dd05-82f2-4115-80c6-98734c0d0bbe\"}, \"renderers\": [{\"type\": \"LinearAxis\", \"id\": \"e30f1299-12e7-4d29-86b5-dd974f849558\"}, {\"type\": \"Grid\", \"id\": \"9f742736-fe28-4bde-9cfe-1b0fd9aadec9\"}, {\"type\": \"LinearAxis\", \"id\": \"a4145532-4bad-46d5-9507-bc0c507b0c94\"}, {\"type\": \"Grid\", \"id\": \"1092d692-2458-49d9-87b9-ef44563db540\"}, {\"type\": \"BoxAnnotation\", \"id\": \"98dcc297-14e8-4eb7-9fee-196286fd6d0f\"}, {\"type\": \"Legend\", \"id\": \"3f770edc-759e-4365-a73e-ad17ad331b13\"}, {\"type\": \"GlyphRenderer\", \"id\": \"16893287-87c2-402a-a8fa-0b4d678cdc62\"}, {\"type\": \"GlyphRenderer\", \"id\": \"c0a8a5b3-0235-4e94-a5eb-ad10457f54df\"}], \"plot_width\": 500, \"below\": [{\"type\": \"LinearAxis\", \"id\": \"e30f1299-12e7-4d29-86b5-dd974f849558\"}], \"tool_events\": {\"type\": \"ToolEvents\", \"id\": \"99dca5e8-a17c-4aeb-a8d3-8e3e6ca6cef1\"}, \"plot_height\": 300, \"tools\": [{\"type\": \"PanTool\", \"id\": \"3cf587c5-133e-44dc-8bc1-776462724f1f\"}, {\"type\": \"WheelZoomTool\", \"id\": \"f3b45ffb-de61-4454-b433-2cccd1032ad2\"}, {\"type\": \"BoxZoomTool\", \"id\": \"61303b22-8e47-49b6-8293-9b91d7bce454\"}, {\"type\": \"PreviewSaveTool\", \"id\": \"2a0632f7-d32b-4551-8d9c-195a4c535383\"}, {\"type\": \"ResizeTool\", \"id\": \"dca64c48-ea65-4b41-bf60-8cbc20859a4f\"}, {\"type\": \"ResetTool\", \"id\": \"58e838f9-b9cd-41ad-9c5d-067187282264\"}, {\"type\": \"HelpTool\", \"id\": \"f4c7519c-8df9-4e7b-8feb-a36c1eaca319\"}], \"left\": [{\"type\": \"LinearAxis\", \"id\": \"a4145532-4bad-46d5-9507-bc0c507b0c94\"}]}, \"type\": \"Plot\", \"id\": \"a81ed0e3-e95c-48d3-9de3-b94de803d04d\", \"subtype\": \"Figure\"}, {\"attributes\": {\"line_color\": {\"value\": \"#1f77b4\"}, \"line_alpha\": {\"value\": 0.1}, \"y\": {\"field\": \"y\"}, \"x\": {\"field\": \"x\"}}, \"type\": \"Line\", \"id\": \"bd62a207-ee43-4347-add3-f2a7d0c9665b\"}, {\"attributes\": {\"callback\": null}, \"type\": \"DataRange1d\", \"id\": \"31285294-c93c-4b21-9f78-0fa015bf304b\"}]}, \"title\": \"Bokeh Application\"}};\n",
       "            var render_items = [{\"notebook_comms_target\": \"7cdb084e-68c0-41fa-973f-2f02d8db511e\", \"docid\": \"9524f0c7-e568-4989-b99e-0a619558a258\", \"elementid\": \"5b96e62a-5f6f-4047-b02e-65f7a71da47d\", \"modelid\": \"b5000996-e682-4c07-a3ba-b3519c5f3c1d\"}];\n",
       "            \n",
       "            Bokeh.embed.embed_items(docs_json, render_items);\n",
       "        });\n",
       "      },\n",
       "      function(Bokeh) {\n",
       "      }\n",
       "    ];\n",
       "  \n",
       "    function run_inline_js() {\n",
       "      for (var i = 0; i < inline_js.length; i++) {\n",
       "        inline_js[i](window.Bokeh);\n",
       "      }\n",
       "    }\n",
       "  \n",
       "    if (window._bokeh_is_loading === 0) {\n",
       "      console.log(\"Bokeh: BokehJS loaded, going straight to plotting\");\n",
       "      run_inline_js();\n",
       "    } else {\n",
       "      load_libs(js_urls, function() {\n",
       "        console.log(\"Bokeh: BokehJS plotting callback run at\", now());\n",
       "        run_inline_js();\n",
       "      });\n",
       "    }\n",
       "  }(this));\n",
       "</script>"
      ]
     },
     "metadata": {},
     "output_type": "display_data"
    },
    {
     "data": {
      "text/plain": [
       "<bokeh.io._CommsHandle at 0x7f324dfaf790>"
      ]
     },
     "execution_count": 28,
     "metadata": {},
     "output_type": "execute_result"
    }
   ],
   "source": [
    "fig = bk.figure(plot_width=750, \n",
    "                plot_height=450,\n",
    "                title=\"Data\")\n",
    "\n",
    "fig.circle(t[-len(a):], y_noisy[-len(a):], color='red', size=2, legend='sinusoid + noise')\n",
    "fig.line(t[-len(a):], y_clean[-len(a):], color='green', legend='clean sinusoid')\n",
    "fig.line(t[-len(a):], [u for u in a.flat], color='blue', legend='prediction')\n",
    "\n",
    "bk.show(fig)"
   ]
  },
  {
   "cell_type": "markdown",
   "metadata": {},
   "source": [
    "The plot above shows input and target values alongside predicted values to give a pictorial intuition about the performance of the neural network. \n",
    "\n",
    "As can be seen, the error is fairly low. However, in the curvature region of the sinusoid, the predicted values (blu curve) move away from the true values (green curve). This is the region of the sinusoid where noise values differ the most from the clean sinusoid.\n",
    "\n",
    "It seems that the model is too complex to fit this part of the sinusoid and thus it tries to follow to closely the points but in reality the model is fitting the noise. \n",
    "\n",
    "Error and cost decrease fast in the first few epochs but then slow down and they decrease steadily but with a low slope. This plateau is indicative of a local minima, or it is possibly due to a bad choice of learning rate. We will see later that it is possible to use a different optimization algorithm to escape this plateau and have a better error."
   ]
  },
  {
   "cell_type": "markdown",
   "metadata": {},
   "source": [
    "## 4 Hyperparameter Exploration"
   ]
  },
  {
   "cell_type": "markdown",
   "metadata": {},
   "source": [
    "Neon allows to specify different modules and it is relatively easy to extend. In particular, neural layers, cost functions, optimizers, initialization schemes, activation functions, regularization schemes are all standalone modules that you can be combined to create new models."
   ]
  },
  {
   "cell_type": "markdown",
   "metadata": {},
   "source": [
    "### 4.1 Batch Size versus Learning Rate"
   ]
  },
  {
   "cell_type": "markdown",
   "metadata": {},
   "source": [
    "In the following section we show how batch size and learning rate affects the perfromance of the neural network. We build a single layer feed forward network similar to the one in the previous section. We define two helper functions that will be used to perform the tests with different hyperparameters. The number of epochs is fixed but it is possible to change it varying the corresponding parameter in the cell below. It is possible to use GPU as well, by specifying `backend = 'gpu'`. Remember that if your computer have multiple GPU installed, you have to specify which one to use, with the parameter `device_id` in the `gen_backend` function. "
   ]
  },
  {
   "cell_type": "code",
   "execution_count": 28,
   "metadata": {
    "collapsed": false
   },
   "outputs": [],
   "source": [
    "def nn_error(f, hidden_size, batch_size, learning_rate, X_train, y_train, X_test, y_test):\n",
    "    epochs = 50        # fix number of epochs \n",
    "    backend = 'cpu'     # use gpu for GPU\n",
    "    output_size = 1    # Number of output units (one)\n",
    "\n",
    "    logger = logging.getLogger()\n",
    "    be = gen_backend(backend=backend,\n",
    "                     batch_size=batch_size, \n",
    "                     device_id = 0,\n",
    "                     stochastic_round=True)\n",
    "\n",
    "    train_set = DataIterator(X_train.astype(np.float32), y_train.astype(np.float32), \n",
    "                             make_onehot=False)\n",
    "\n",
    "    test_set = DataIterator(X_test.astype(np.float32), y_test.astype(np.float32), \n",
    "                            make_onehot=False)\n",
    "    \n",
    "    init_norm = Gaussian(loc=0.0, scale=0.05)\n",
    "    optimizer = GradientDescentMomentum(learning_rate, momentum_coef=0.0,\n",
    "                                        stochastic_round=True)\n",
    "\n",
    "    hidden_layer = Affine(nout=hidden_size, init=init_norm, activation=f)\n",
    "    output_layer = Affine(nout=output_size, init=init_norm)\n",
    "\n",
    "    layers = [hidden_layer, output_layer]\n",
    "\n",
    "    cost = GeneralizedCost(costfunc=MeanSquared())\n",
    "\n",
    "    nn = Model(layers=layers)\n",
    "\n",
    "    callbacks = Callbacks(nn, train_set, progress_bar=False, output_file=None)\n",
    "    nn.fit(train_set, optimizer=optimizer, num_epochs=epochs, cost=cost, callbacks=callbacks)\n",
    "    preds = nn.get_outputs(test_set)\n",
    "    \n",
    "    try:\n",
    "        err = np.sqrt(sk.metrics.mean_squared_error(preds, y_test))\n",
    "    except ValueError:\n",
    "        print \"Error!\" \n",
    "        print \"For these values of batch size and learning rate: \",\n",
    "        print batch, rate,\n",
    "        print \"the error becomes infinitive or NaN\"\n",
    "\n",
    "    return err"
   ]
  },
  {
   "cell_type": "code",
   "execution_count": 29,
   "metadata": {
    "collapsed": false
   },
   "outputs": [],
   "source": [
    "def multitest(activations, hiddens, batches, rates, X_train, y_train, X_test, y_test):\n",
    "    act = {'tanh': Tanh(),\n",
    "           'sigmoid': Logistic(), \n",
    "           'relu': Rectlin()}\n",
    "    for activation in activations:\n",
    "        for hidden in hiddens:\n",
    "            for batch in batches:\n",
    "                for rate in rates:\n",
    "                    err = nn_error(act[activation], hidden, batch, rate, \n",
    "                                   X_train, y_train, X_test, y_test)\n",
    "                    yield(activation, hidden, batch, rate, err)"
   ]
  },
  {
   "cell_type": "markdown",
   "metadata": {},
   "source": [
    "To increase dataset complexity we build a different one with increased noise to see how it affects the error varying batch size and learning rate. "
   ]
  },
  {
   "cell_type": "code",
   "execution_count": 30,
   "metadata": {
    "collapsed": true
   },
   "outputs": [],
   "source": [
    "def synth_data(samples_per_cycle = 100, training_cycles = 20, validation_cycles = 5,\n",
    "               amplitude = 1, noise_sigma = 0.4, n_inputs = 100, steps_forward = 1):\n",
    "\n",
    "    n_cycles = training_cycles + validation_cycles\n",
    "\n",
    "    t = np.arange(0, n_cycles, 1./samples_per_cycle) * 2 * np.pi\n",
    "    y_clean = amplitude * np.sin(t)\n",
    "    y_noisy = y_clean + noise_sigma * np.random.randn(t.size)\n",
    "    \n",
    "    vec_size = n_inputs + steps_forward - 1 # -1 accounts for zero based array\n",
    "    \n",
    "    X = np.zeros((y_noisy.size-vec_size,n_inputs))\n",
    "    y = np.zeros((y_clean.size-vec_size,1))\n",
    "\n",
    "    for r in range(y_noisy.size-vec_size):\n",
    "        X[r,:] = y_noisy[r:r+n_inputs]\n",
    "        y[r,:] = y_clean[r+vec_size]\n",
    "\n",
    "    split = samples_per_cycle * training_cycles - n_inputs\n",
    "    return X[:split], X[split:], y[:split], y[split:]"
   ]
  },
  {
   "cell_type": "code",
   "execution_count": 31,
   "metadata": {
    "collapsed": true
   },
   "outputs": [],
   "source": [
    "X_train2, X_test2, y_train2, y_test2 = synth_data()"
   ]
  },
  {
   "cell_type": "markdown",
   "metadata": {},
   "source": [
    "Select the range of parameters you want to test. The computation will take time according to the number of experiments you define."
   ]
  },
  {
   "cell_type": "code",
   "execution_count": 32,
   "metadata": {
    "collapsed": false
   },
   "outputs": [],
   "source": [
    "slider_source = ColumnDataSource(data=dict(batch=[], rate=[]))"
   ]
  },
  {
   "cell_type": "code",
   "execution_count": 33,
   "metadata": {
    "collapsed": false,
    "scrolled": true
   },
   "outputs": [],
   "source": [
    "@interact(start=(0,100,10), stop=(10**2, 10**3, 100), inc=(10, 100, 10))\n",
    "def update_batch(start=10, stop=150, inc=10):\n",
    "    slider_source.data['batch'] = np.arange(start, stop, inc)"
   ]
  },
  {
   "cell_type": "code",
   "execution_count": 34,
   "metadata": {
    "collapsed": false
   },
   "outputs": [],
   "source": [
    "@interact(start=(1./10**3, 2./10**2, 1./10**3), stop=(1./10**2, 2./10, 1./10**2), inc=(1./10**3, 1./10**2, 1./10**2))\n",
    "def update_rate(start=0.01, stop=0.15, inc=0.01):\n",
    "    slider_source.data['rate'] = np.arange(start, stop, inc)"
   ]
  },
  {
   "cell_type": "markdown",
   "metadata": {},
   "source": [
    "Next we perform the test with all the combination of parameters selected. It can take some time (up to 25 minutes in CPU), please be patient. Speed depends on the device you choose. Generally CPU speed is slower."
   ]
  },
  {
   "cell_type": "code",
   "execution_count": 35,
   "metadata": {
    "collapsed": false,
    "scrolled": true
   },
   "outputs": [
    {
     "name": "stdout",
     "output_type": "stream",
     "text": [
      "Execution time: 1687.01258993 seconds\n"
     ]
    }
   ],
   "source": [
    "hidden_size = 10\n",
    "\n",
    "start_time = time.time()\n",
    "errors = pd.DataFrame([a for a in multitest(['tanh'], [hidden_size], \n",
    "                                            slider_source.data['batch'], \n",
    "                                            slider_source.data['rate'], \n",
    "                                            X_train2, y_train2, X_test2, y_test2)])\n",
    "errors.columns = ['activation', 'hidden', 'batch', 'rate', 'error']\n",
    "print(\"Execution time: %s seconds\" % (time.time() - start_time))"
   ]
  },
  {
   "cell_type": "markdown",
   "metadata": {},
   "source": [
    "For each parameters combination we record the error made by NN. Next we display all errors and corresponding batch size and learning rate in a meaningful graph. To ease visualization we use a colormap as diverging as possible."
   ]
  },
  {
   "cell_type": "code",
   "execution_count": 36,
   "metadata": {
    "collapsed": false
   },
   "outputs": [
    {
     "name": "stderr",
     "output_type": "stream",
     "text": [
      "/usr/local/lib/python2.7/dist-packages/matplotlib/__init__.py:872: UserWarning: axes.color_cycle is deprecated and replaced with axes.prop_cycle; please use the latter.\n",
      "  warnings.warn(self.msg_depr % (key, alt_key))\n"
     ]
    }
   ],
   "source": [
    "from bokeh.plotting import ColumnDataSource\n",
    "from bokeh.charts import Scatter\n",
    "import addutils.palette as pal\n",
    "import seaborn as sns\n",
    "%matplotlib inline\n",
    "from matplotlib.colors import rgb2hex\n",
    "import matplotlib.pyplot as plt"
   ]
  },
  {
   "cell_type": "code",
   "execution_count": 37,
   "metadata": {
    "collapsed": false
   },
   "outputs": [
    {
     "data": {
      "image/png": "[encoded data removed]",
      "text/plain": [
       "<matplotlib.figure.Figure at 0x7fc7a47bfa90>"
      ]
     },
     "metadata": {},
     "output_type": "display_data"
    }
   ],
   "source": [
    "n_colors = 10\n",
    "seqcolors = plt.get_cmap('jet', n_colors)\n",
    "gradient = np.atleast_2d(np.linspace(0, 1, seqcolors.N))\n",
    "plt.imshow(gradient, aspect='auto', cmap=seqcolors)\n",
    "seqcolors = [rgb2hex(seqcolors(i)[:3]) for i in range(seqcolors.N)]"
   ]
  },
  {
   "cell_type": "code",
   "execution_count": 38,
   "metadata": {
    "collapsed": false
   },
   "outputs": [],
   "source": [
    "colors = pal.linear_map(errors['error'].values, seqcolors)\n",
    "a = np.linspace(errors['error'].min(), errors['error'].max(), len(seqcolors))"
   ]
  },
  {
   "cell_type": "markdown",
   "metadata": {},
   "source": [
    "The colormap associate a color to a specific range of errors. Blue shades is associated to smaller errors while the opposite, higher errors, is associate to red shades."
   ]
  },
  {
   "cell_type": "code",
   "execution_count": 39,
   "metadata": {
    "collapsed": false
   },
   "outputs": [],
   "source": [
    "source = ColumnDataSource(data=dict(batch=errors['batch'], \n",
    "                                    rate=errors['rate'], \n",
    "                                    error=errors['error'],\n",
    "                                    zeros=np.zeros(errors['error'].shape[0]),\n",
    "                                    color=colors))"
   ]
  },
  {
   "cell_type": "markdown",
   "metadata": {},
   "source": [
    "The graph is interactive, you can play with it!"
   ]
  },
  {
   "cell_type": "code",
   "execution_count": 40,
   "metadata": {
    "collapsed": false
   },
   "outputs": [],
   "source": [
    "from bokeh.models import Rect, Range1d\n",
    "\n",
    "tools = \"box_select, reset, wheel_zoom, save\"\n",
    "\n",
    "fig = bk.figure(tools=tools, plot_width=500, plot_height=350, title=None)\n",
    "fig.xaxis.axis_label = 'Batch Size'\n",
    "fig.xaxis.axis_label_text_font_size = '9pt'\n",
    "fig.yaxis.axis_label = 'Learning Rate'\n",
    "fig.yaxis.axis_label_text_font_size = '9pt'\n",
    "\n",
    "fig.scatter('batch', 'rate', source=source, color='color')\n",
    "\n",
    "unselect_rectangle = Rect(line_alpha=0, fill_alpha=0)\n",
    "colour_bar_range = Range1d(errors['error'].min(), errors['error'].max())\n",
    "colour_bar = bk.figure(tools=tools, width=150, height=350, title=None, \n",
    "                       y_range=colour_bar_range)\n",
    "colour_bar.yaxis.axis_label = \"Error\"\n",
    "colour_bar.yaxis.axis_label_text_font_size = '9pt'\n",
    "\n",
    "colour_bar.rect('zeros', 'error', 0.1, 0.0001, name='colour_bar',\n",
    "                source=source, color='white')\n",
    "delta = (errors['error'].max() - errors['error'].min()) / (n_colors-1)\n",
    "colour_bar.rect(np.zeros(len(a)), a, 0.1, delta, \n",
    "                name='colour_bar_2', color=seqcolors)\n",
    "                \n",
    "render = colour_bar.select(name='colour_bar')\n",
    "render.nonselection_glyph = unselect_rectangle\n",
    "render2 = colour_bar.select(name='colour_bar2')\n",
    "render2.nonselection_glyph = unselect_rectangle\n",
    "\n",
    "colour_bar.xgrid.grid_line_color = None\n",
    "colour_bar.ygrid.grid_line_color = None\n",
    "colour_bar.xaxis.major_label_text_font_size = '0pt'\n",
    "colour_bar.xaxis.major_tick_line_color = None\n",
    "colour_bar.xaxis.minor_tick_line_color = None\n",
    "\n",
    "p = bk.gridplot([[colour_bar, fig]])"
   ]
  },
  {
   "cell_type": "markdown",
   "metadata": {},
   "source": [
    "It is possible to highlight a region in the plot or select a range of values in the left bar. To make a multiple selection, press the SHIFT key. To clear the selection, press the ESC key."
   ]
  },
  {
   "cell_type": "code",
   "execution_count": 41,
   "metadata": {
    "collapsed": false
   },
   "outputs": [
    {
     "data": {
      "text/html": [
       "<script type=\"text/javascript\">\n",
       "        Bokeh.$(function() {\n",
       "        var all_models = [{\"attributes\": {\"plot\": {\"subtype\": \"Figure\", \"type\": \"Plot\", \"id\": \"7f37d0f6-5636-4f68-93d6-3142b9fff8fb\"}, \"major_tick_line_color\": null, \"tags\": [], \"ticker\": {\"type\": \"BasicTicker\", \"id\": \"eb0553b7-c90b-47dc-aedc-a2954f90c101\"}, \"minor_tick_line_color\": null, \"doc\": null, \"formatter\": {\"type\": \"BasicTickFormatter\", \"id\": \"974ce85b-4f63-43c4-89ba-60a1e4de630f\"}, \"major_label_text_font_size\": {\"value\": \"0pt\"}, \"id\": \"bb0b9fc0-e36c-4c89-b86b-b7105bc5ff7f\"}, \"type\": \"LinearAxis\", \"id\": \"bb0b9fc0-e36c-4c89-b86b-b7105bc5ff7f\"}, {\"attributes\": {\"tags\": [], \"doc\": null, \"renderers\": [], \"callback\": null, \"names\": [], \"id\": \"ee15cea0-0528-44ae-87fd-380edf133990\"}, \"type\": \"DataRange1d\", \"id\": \"ee15cea0-0528-44ae-87fd-380edf133990\"}, {\"attributes\": {\"column_names\": [\"color\", \"rate\", \"zeros\", \"batch\", \"error\"], \"tags\": [], \"doc\": null, \"selected\": {\"2d\": {\"indices\": []}, \"1d\": {\"indices\": []}, \"0d\": {\"indices\": [], \"flag\": false}}, \"callback\": null, \"data\": {\"color\": [\"#0000ff\", \"#000080\", \"#000080\", \"#000080\", \"#000080\", \"#000080\", \"#000080\", \"#0000ff\", \"#000080\", \"#000080\", \"#000080\", \"#000080\", \"#000080\", \"#000080\", \"#0000ff\", \"#000080\", \"#000080\", \"#000080\", \"#000080\", \"#000080\", \"#000080\", \"#000080\", \"#000080\", \"#000080\", \"#0000ff\", \"#000080\", \"#000080\", \"#0000ff\", \"#00d4ff\", \"#0000ff\", \"#0000ff\", \"#0000ff\", \"#0000ff\", \"#0000ff\", \"#0000ff\", \"#0000ff\", \"#0000ff\", \"#0000ff\", \"#0000ff\", \"#0063ff\", \"#0063ff\", \"#0063ff\", \"#4effa9\", \"#0000ff\", \"#0063ff\", \"#0000ff\", \"#000080\", \"#000080\", \"#000080\", \"#0000ff\", \"#000080\", \"#000080\", \"#000080\", \"#000080\", \"#000080\", \"#000080\", \"#a9ff4e\", \"#0063ff\", \"#0000ff\", \"#0000ff\", \"#0000ff\", \"#0000ff\", \"#000080\", \"#000080\", \"#000080\", \"#000080\", \"#000080\", \"#000080\", \"#000080\", \"#000080\", \"#a9ff4e\", \"#0063ff\", \"#0063ff\", \"#0000ff\", \"#0000ff\", \"#0000ff\", \"#0000ff\", \"#0000ff\", \"#0000ff\", \"#0000ff\", \"#0000ff\", \"#0000ff\", \"#0000ff\", \"#000080\", \"#ff7d00\", \"#00d4ff\", \"#0000ff\", \"#0063ff\", \"#0000ff\", \"#0000ff\", \"#0000ff\", \"#0063ff\", \"#0000ff\", \"#0000ff\", \"#0000ff\", \"#0000ff\", \"#0000ff\", \"#0000ff\", \"#a9ff4e\", \"#00d4ff\", \"#0063ff\", \"#0000ff\", \"#0063ff\", \"#0000ff\", \"#0000ff\", \"#0000ff\", \"#0000ff\", \"#000080\", \"#0000ff\", \"#0000ff\", \"#0000ff\", \"#0000ff\", \"#ffe600\", \"#00d4ff\", \"#0063ff\", \"#0063ff\", \"#0063ff\", \"#0000ff\", \"#0000ff\", \"#0000ff\", \"#0000ff\", \"#0000ff\", \"#0000ff\", \"#0000ff\", \"#0000ff\", \"#0000ff\", \"#ffe600\", \"#a9ff4e\", \"#00d4ff\", \"#00d4ff\", \"#00d4ff\", \"#0000ff\", \"#0000ff\", \"#0000ff\", \"#0000ff\", \"#0000ff\", \"#0000ff\", \"#000080\", \"#000080\", \"#0000ff\", \"#ff7d00\", \"#00d4ff\", \"#00d4ff\", \"#00d4ff\", \"#0063ff\", \"#0063ff\", \"#0063ff\", \"#0000ff\", \"#0000ff\", \"#0000ff\", \"#0000ff\", \"#0000ff\", \"#0000ff\", \"#0000ff\", \"#ff7d00\", \"#4effa9\", \"#00d4ff\", \"#00d4ff\", \"#0063ff\", \"#0063ff\", \"#0063ff\", \"#0000ff\", \"#0000ff\", \"#0063ff\", \"#0000ff\", \"#0000ff\", \"#0000ff\", \"#0000ff\", \"#800000\", \"#4effa9\", \"#00d4ff\", \"#4effa9\", \"#0063ff\", \"#00d4ff\", \"#0063ff\", \"#0063ff\", \"#0063ff\", \"#0000ff\", \"#0000ff\", \"#0000ff\", \"#0000ff\", \"#0000ff\", \"#ff7d00\", \"#a9ff4e\", \"#4effa9\", \"#00d4ff\", \"#0063ff\", \"#00d4ff\", \"#0000ff\", \"#0000ff\", \"#0063ff\", \"#0000ff\", \"#0000ff\", \"#0000ff\", \"#0000ff\", \"#0000ff\"], \"rate\": [0.01, 0.02, 0.03, 0.04, 0.05, 0.060000000000000005, 0.06999999999999999, 0.08, 0.09, 0.09999999999999999, 0.11, 0.12, 0.13, 0.14, 0.01, 0.02, 0.03, 0.04, 0.05, 0.060000000000000005, 0.06999999999999999, 0.08, 0.09, 0.09999999999999999, 0.11, 0.12, 0.13, 0.14, 0.01, 0.02, 0.03, 0.04, 0.05, 0.060000000000000005, 0.06999999999999999, 0.08, 0.09, 0.09999999999999999, 0.11, 0.12, 0.13, 0.14, 0.01, 0.02, 0.03, 0.04, 0.05, 0.060000000000000005, 0.06999999999999999, 0.08, 0.09, 0.09999999999999999, 0.11, 0.12, 0.13, 0.14, 0.01, 0.02, 0.03, 0.04, 0.05, 0.060000000000000005, 0.06999999999999999, 0.08, 0.09, 0.09999999999999999, 0.11, 0.12, 0.13, 0.14, 0.01, 0.02, 0.03, 0.04, 0.05, 0.060000000000000005, 0.06999999999999999, 0.08, 0.09, 0.09999999999999999, 0.11, 0.12, 0.13, 0.14, 0.01, 0.02, 0.03, 0.04, 0.05, 0.060000000000000005, 0.06999999999999999, 0.08, 0.09, 0.09999999999999999, 0.11, 0.12, 0.13, 0.14, 0.01, 0.02, 0.03, 0.04, 0.05, 0.060000000000000005, 0.06999999999999999, 0.08, 0.09, 0.09999999999999999, 0.11, 0.12, 0.13, 0.14, 0.01, 0.02, 0.03, 0.04, 0.05, 0.060000000000000005, 0.06999999999999999, 0.08, 0.09, 0.09999999999999999, 0.11, 0.12, 0.13, 0.14, 0.01, 0.02, 0.03, 0.04, 0.05, 0.060000000000000005, 0.06999999999999999, 0.08, 0.09, 0.09999999999999999, 0.11, 0.12, 0.13, 0.14, 0.01, 0.02, 0.03, 0.04, 0.05, 0.060000000000000005, 0.06999999999999999, 0.08, 0.09, 0.09999999999999999, 0.11, 0.12, 0.13, 0.14, 0.01, 0.02, 0.03, 0.04, 0.05, 0.060000000000000005, 0.06999999999999999, 0.08, 0.09, 0.09999999999999999, 0.11, 0.12, 0.13, 0.14, 0.01, 0.02, 0.03, 0.04, 0.05, 0.060000000000000005, 0.06999999999999999, 0.08, 0.09, 0.09999999999999999, 0.11, 0.12, 0.13, 0.14, 0.01, 0.02, 0.03, 0.04, 0.05, 0.060000000000000005, 0.06999999999999999, 0.08, 0.09, 0.09999999999999999, 0.11, 0.12, 0.13, 0.14], \"zeros\": [0.0, 0.0, 0.0, 0.0, 0.0, 0.0, 0.0, 0.0, 0.0, 0.0, 0.0, 0.0, 0.0, 0.0, 0.0, 0.0, 0.0, 0.0, 0.0, 0.0, 0.0, 0.0, 0.0, 0.0, 0.0, 0.0, 0.0, 0.0, 0.0, 0.0, 0.0, 0.0, 0.0, 0.0, 0.0, 0.0, 0.0, 0.0, 0.0, 0.0, 0.0, 0.0, 0.0, 0.0, 0.0, 0.0, 0.0, 0.0, 0.0, 0.0, 0.0, 0.0, 0.0, 0.0, 0.0, 0.0, 0.0, 0.0, 0.0, 0.0, 0.0, 0.0, 0.0, 0.0, 0.0, 0.0, 0.0, 0.0, 0.0, 0.0, 0.0, 0.0, 0.0, 0.0, 0.0, 0.0, 0.0, 0.0, 0.0, 0.0, 0.0, 0.0, 0.0, 0.0, 0.0, 0.0, 0.0, 0.0, 0.0, 0.0, 0.0, 0.0, 0.0, 0.0, 0.0, 0.0, 0.0, 0.0, 0.0, 0.0, 0.0, 0.0, 0.0, 0.0, 0.0, 0.0, 0.0, 0.0, 0.0, 0.0, 0.0, 0.0, 0.0, 0.0, 0.0, 0.0, 0.0, 0.0, 0.0, 0.0, 0.0, 0.0, 0.0, 0.0, 0.0, 0.0, 0.0, 0.0, 0.0, 0.0, 0.0, 0.0, 0.0, 0.0, 0.0, 0.0, 0.0, 0.0, 0.0, 0.0, 0.0, 0.0, 0.0, 0.0, 0.0, 0.0, 0.0, 0.0, 0.0, 0.0, 0.0, 0.0, 0.0, 0.0, 0.0, 0.0, 0.0, 0.0, 0.0, 0.0, 0.0, 0.0, 0.0, 0.0, 0.0, 0.0, 0.0, 0.0, 0.0, 0.0, 0.0, 0.0, 0.0, 0.0, 0.0, 0.0, 0.0, 0.0, 0.0, 0.0, 0.0, 0.0, 0.0, 0.0, 0.0, 0.0, 0.0, 0.0, 0.0, 0.0, 0.0, 0.0, 0.0, 0.0, 0.0, 0.0], \"batch\": [10, 10, 10, 10, 10, 10, 10, 10, 10, 10, 10, 10, 10, 10, 20, 20, 20, 20, 20, 20, 20, 20, 20, 20, 20, 20, 20, 20, 30, 30, 30, 30, 30, 30, 30, 30, 30, 30, 30, 30, 30, 30, 40, 40, 40, 40, 40, 40, 40, 40, 40, 40, 40, 40, 40, 40, 50, 50, 50, 50, 50, 50, 50, 50, 50, 50, 50, 50, 50, 50, 60, 60, 60, 60, 60, 60, 60, 60, 60, 60, 60, 60, 60, 60, 70, 70, 70, 70, 70, 70, 70, 70, 70, 70, 70, 70, 70, 70, 80, 80, 80, 80, 80, 80, 80, 80, 80, 80, 80, 80, 80, 80, 90, 90, 90, 90, 90, 90, 90, 90, 90, 90, 90, 90, 90, 90, 100, 100, 100, 100, 100, 100, 100, 100, 100, 100, 100, 100, 100, 100, 110, 110, 110, 110, 110, 110, 110, 110, 110, 110, 110, 110, 110, 110, 120, 120, 120, 120, 120, 120, 120, 120, 120, 120, 120, 120, 120, 120, 130, 130, 130, 130, 130, 130, 130, 130, 130, 130, 130, 130, 130, 130, 140, 140, 140, 140, 140, 140, 140, 140, 140, 140, 140, 140, 140, 140], \"error\": [0.04541614571200973, 0.04233090761069684, 0.044738352626486, 0.0418915463966808, 0.04159397469196221, 0.04236604231699799, 0.04353184215920168, 0.04628202554607125, 0.041937533039960964, 0.04378976838483468, 0.04449308763751162, 0.04293754803597418, 0.04369266425062713, 0.04108589773663441, 0.04804382475588418, 0.044825080081857586, 0.04421457823865891, 0.04449390112049248, 0.0426623801710426, 0.04279502571220485, 0.04424914145447287, 0.04356165791673568, 0.0446289593558855, 0.043865777444396764, 0.045914118526381054, 0.04361191011363898, 0.043105748940473435, 0.047177357922267696, 0.055391496806888506, 0.048945227146397347, 0.04909620051740601, 0.04713386437543241, 0.0458396350992438, 0.04556046570936269, 0.04655627772518537, 0.046714237586959466, 0.04898230076245466, 0.047463464681318734, 0.04893484834343298, 0.04991830280787828, 0.05085292879350762, 0.051309986997887344, 0.061227945286506186, 0.04745964257532406, 0.05088573772969278, 0.044980409102891625, 0.044070216075298575, 0.04241054926858891, 0.042175155912080355, 0.04540308310460874, 0.043770649991757365, 0.042112475766030506, 0.043607666424534314, 0.04247312672584109, 0.041883366219257194, 0.0403734229101241, 0.06459999161100081, 0.05139264522985201, 0.04757820424733511, 0.046483261557698496, 0.04494070762457375, 0.047781099815263024, 0.0435146013727763, 0.044535952153636024, 0.04427204451315199, 0.04420026905551108, 0.043819483289593945, 0.04194070652999644, 0.04338523019205446, 0.04249148225816245, 0.06320803744058735, 0.0522012082748716, 0.049574878460562743, 0.048341154907949095, 0.04668687272854645, 0.04552133603123147, 0.045350606777187115, 0.04716926670636859, 0.0465095804610617, 0.04602080486285093, 0.04572004317756769, 0.04787870390277739, 0.04696008262601284, 0.043466152325939075, 0.07275955676226671, 0.05491697374098373, 0.048590630085994804, 0.05260990492664135, 0.04813535266325831, 0.04786110296180312, 0.04664815253972766, 0.05090253372482449, 0.04714928152217354, 0.04691226628800907, 0.0476001020818972, 0.04864560522961895, 0.046340272339784355, 0.04755329459469282, 0.06523416408408828, 0.05826309794133383, 0.052195312719713685, 0.04931213570406508, 0.04953362841876326, 0.048795762079050904, 0.046502903490050373, 0.04736226156834647, 0.04635949622696809, 0.04486421007673362, 0.04721994399743312, 0.04707219005451791, 0.0464983648313703, 0.04530655895164908, 0.07009022478233339, 0.05550649088525778, 0.051244521134725884, 0.052423534967153414, 0.05125661596139066, 0.04887329780312178, 0.048567655744162094, 0.04759981844687557, 0.04561965328913037, 0.04646385827187723, 0.04690056641717161, 0.04670176807053031, 0.04911188533393022, 0.04718580676606191, 0.06983606071053207, 0.0644699702790624, 0.054919260827236145, 0.055264823048097655, 0.05428985562407858, 0.04737823268076225, 0.04780740304726364, 0.0464896705560186, 0.04574052733767528, 0.045083459578296174, 0.04555107613582967, 0.04417680126600557, 0.04465388681981173, 0.04564407120741925, 0.07376910073448266, 0.05805630474622346, 0.05726045846143848, 0.05613051541258713, 0.05157333908325406, 0.051655345675679684, 0.0498892375697033, 0.04765819037240244, 0.04680829613367166, 0.04742981393163618, 0.04776682982284208, 0.04776509624412272, 0.04663414500133265, 0.04810600215274302, 0.07519607090362006, 0.06005623132068913, 0.054493774772884224, 0.05635580192935426, 0.05311587528220412, 0.05292354518552132, 0.051839805368966124, 0.0494467047241702, 0.04722756617317693, 0.04949218760383522, 0.047271612033153956, 0.04571315379583405, 0.04781736420145838, 0.04659985441412344, 0.08122562550253802, 0.06201649680569347, 0.05785280834420794, 0.059056524931637905, 0.05168833491364868, 0.05481304163085242, 0.05048183297436497, 0.0515176503061358, 0.05218320479977382, 0.04786004048999809, 0.048457010356083983, 0.049198716844392525, 0.04884007933896083, 0.04770978732122408, 0.07544657816970775, 0.06507103643518766, 0.06104883561332067, 0.05434461684069357, 0.05083406317459841, 0.0541866825113238, 0.04871593065737713, 0.048895254442192435, 0.050314649702234364, 0.04945079473006346, 0.047001863119162386, 0.04890654476263955, 0.04739908420591008, 0.04582183423012461]}, \"id\": \"3336c791-604e-4591-adbd-0092502b6145\"}, \"type\": \"ColumnDataSource\", \"id\": \"3336c791-604e-4591-adbd-0092502b6145\"}, {\"attributes\": {\"tags\": [], \"doc\": null, \"mantissas\": [2, 5, 10], \"id\": \"eb0553b7-c90b-47dc-aedc-a2954f90c101\", \"num_minor_ticks\": 5}, \"type\": \"BasicTicker\", \"id\": \"eb0553b7-c90b-47dc-aedc-a2954f90c101\"}, {\"attributes\": {\"plot\": {\"subtype\": \"Figure\", \"type\": \"Plot\", \"id\": \"0ba4f40d-2099-4fc5-a792-f7552cb29e68\"}, \"dimensions\": [\"width\", \"height\"], \"tags\": [], \"doc\": null, \"id\": \"ba05ee36-aebd-4384-96cc-251356a97739\"}, \"type\": \"WheelZoomTool\", \"id\": \"ba05ee36-aebd-4384-96cc-251356a97739\"}, {\"attributes\": {\"doc\": null, \"id\": \"974ce85b-4f63-43c4-89ba-60a1e4de630f\", \"tags\": []}, \"type\": \"BasicTickFormatter\", \"id\": \"974ce85b-4f63-43c4-89ba-60a1e4de630f\"}, {\"attributes\": {\"plot\": {\"subtype\": \"Figure\", \"type\": \"Plot\", \"id\": \"7f37d0f6-5636-4f68-93d6-3142b9fff8fb\"}, \"grid_line_color\": null, \"tags\": [], \"doc\": null, \"id\": \"83d4b577-e649-4455-9285-2532933c3393\", \"ticker\": {\"type\": \"BasicTicker\", \"id\": \"eb0553b7-c90b-47dc-aedc-a2954f90c101\"}, \"dimension\": 0}, \"type\": \"Grid\", \"id\": \"83d4b577-e649-4455-9285-2532933c3393\"}, {\"attributes\": {\"plot\": {\"subtype\": \"Figure\", \"type\": \"Plot\", \"id\": \"0ba4f40d-2099-4fc5-a792-f7552cb29e68\"}, \"axis_label_text_font_size\": {\"value\": \"9pt\"}, \"tags\": [], \"doc\": null, \"axis_label\": \"Batch Size\", \"formatter\": {\"type\": \"BasicTickFormatter\", \"id\": \"ba9f168d-de5e-4c0a-a507-4ebe302dffec\"}, \"ticker\": {\"type\": \"BasicTicker\", \"id\": \"7877a59d-ac39-431c-8893-8dffd33b3466\"}, \"id\": \"b5b4e798-7f38-4393-bc22-074682a8e74e\"}, \"type\": \"LinearAxis\", \"id\": \"b5b4e798-7f38-4393-bc22-074682a8e74e\"}, {\"attributes\": {\"plot\": {\"subtype\": \"Figure\", \"type\": \"Plot\", \"id\": \"7f37d0f6-5636-4f68-93d6-3142b9fff8fb\"}, \"axis_label_text_font_size\": {\"value\": \"9pt\"}, \"tags\": [], \"doc\": null, \"axis_label\": \"Error\", \"formatter\": {\"type\": \"BasicTickFormatter\", \"id\": \"30e7fa9f-cea1-4047-8603-aeead82bd7d4\"}, \"ticker\": {\"type\": \"BasicTicker\", \"id\": \"38625bc6-05d1-4e19-b322-bea8c2a65452\"}, \"id\": \"269b2264-02c5-4d43-8135-8d32d44196d6\"}, \"type\": \"LinearAxis\", \"id\": \"269b2264-02c5-4d43-8135-8d32d44196d6\"}, {\"attributes\": {\"tags\": [], \"doc\": null, \"mantissas\": [2, 5, 10], \"id\": \"38625bc6-05d1-4e19-b322-bea8c2a65452\", \"num_minor_ticks\": 5}, \"type\": \"BasicTicker\", \"id\": \"38625bc6-05d1-4e19-b322-bea8c2a65452\"}, {\"attributes\": {\"doc\": null, \"id\": \"ba9f168d-de5e-4c0a-a507-4ebe302dffec\", \"tags\": []}, \"type\": \"BasicTickFormatter\", \"id\": \"ba9f168d-de5e-4c0a-a507-4ebe302dffec\"}, {\"attributes\": {\"plot\": {\"subtype\": \"Figure\", \"type\": \"Plot\", \"id\": \"7f37d0f6-5636-4f68-93d6-3142b9fff8fb\"}, \"grid_line_color\": null, \"tags\": [], \"doc\": null, \"id\": \"654c7832-8340-4cdf-8201-35b32149ad7a\", \"ticker\": {\"type\": \"BasicTicker\", \"id\": \"38625bc6-05d1-4e19-b322-bea8c2a65452\"}, \"dimension\": 1}, \"type\": \"Grid\", \"id\": \"654c7832-8340-4cdf-8201-35b32149ad7a\"}, {\"attributes\": {\"doc\": null, \"id\": \"30e7fa9f-cea1-4047-8603-aeead82bd7d4\", \"tags\": []}, \"type\": \"BasicTickFormatter\", \"id\": \"30e7fa9f-cea1-4047-8603-aeead82bd7d4\"}, {\"attributes\": {\"plot\": {\"subtype\": \"Figure\", \"type\": \"Plot\", \"id\": \"0ba4f40d-2099-4fc5-a792-f7552cb29e68\"}, \"tags\": [], \"doc\": null, \"id\": \"6eda98e6-509a-4e07-8334-b47b852ee8f7\"}, \"type\": \"ResetTool\", \"id\": \"6eda98e6-509a-4e07-8334-b47b852ee8f7\"}, {\"attributes\": {\"plot\": {\"subtype\": \"Figure\", \"type\": \"Plot\", \"id\": \"7f37d0f6-5636-4f68-93d6-3142b9fff8fb\"}, \"tags\": [], \"doc\": null, \"id\": \"294078f9-e50d-49ea-8353-0756e3333a9c\"}, \"type\": \"ResetTool\", \"id\": \"294078f9-e50d-49ea-8353-0756e3333a9c\"}, {\"attributes\": {\"plot\": {\"subtype\": \"Figure\", \"type\": \"Plot\", \"id\": \"7f37d0f6-5636-4f68-93d6-3142b9fff8fb\"}, \"dimensions\": [\"width\", \"height\"], \"tags\": [], \"doc\": null, \"renderers\": [{\"type\": \"GlyphRenderer\", \"id\": \"13e1f9a5-f6be-4a6e-aaa9-819610eb17f5\"}, {\"type\": \"GlyphRenderer\", \"id\": \"f3489ad2-56e1-495c-a68f-ededce1863a5\"}], \"callback\": null, \"names\": [], \"id\": \"b936b745-4aeb-4de5-8c2e-691fef03b4df\"}, \"type\": \"BoxSelectTool\", \"id\": \"b936b745-4aeb-4de5-8c2e-691fef03b4df\"}, {\"attributes\": {\"plot\": {\"subtype\": \"Figure\", \"type\": \"Plot\", \"id\": \"0ba4f40d-2099-4fc5-a792-f7552cb29e68\"}, \"tags\": [], \"doc\": null, \"dimension\": 0, \"ticker\": {\"type\": \"BasicTicker\", \"id\": \"7877a59d-ac39-431c-8893-8dffd33b3466\"}, \"id\": \"4ee3790c-a677-4f84-8515-4452c625de44\"}, \"type\": \"Grid\", \"id\": \"4ee3790c-a677-4f84-8515-4452c625de44\"}, {\"attributes\": {\"plot\": {\"subtype\": \"Figure\", \"type\": \"Plot\", \"id\": \"0ba4f40d-2099-4fc5-a792-f7552cb29e68\"}, \"tags\": [], \"doc\": null, \"dimension\": 1, \"ticker\": {\"type\": \"BasicTicker\", \"id\": \"8f739fc5-25ac-4389-afa0-eb136a8b87f1\"}, \"id\": \"1cf69cbc-2e25-4651-8650-27c90e126963\"}, \"type\": \"Grid\", \"id\": \"1cf69cbc-2e25-4651-8650-27c90e126963\"}, {\"attributes\": {\"plot\": {\"subtype\": \"Figure\", \"type\": \"Plot\", \"id\": \"7f37d0f6-5636-4f68-93d6-3142b9fff8fb\"}, \"tags\": [], \"doc\": null, \"id\": \"4553484f-e1e9-4d53-a5f9-588752f3f44d\"}, \"type\": \"PreviewSaveTool\", \"id\": \"4553484f-e1e9-4d53-a5f9-588752f3f44d\"}, {\"attributes\": {\"tags\": [], \"doc\": null, \"renderers\": [], \"callback\": null, \"names\": [], \"id\": \"4eb5b067-6b19-45bb-8d69-4371edef4e68\"}, \"type\": \"DataRange1d\", \"id\": \"4eb5b067-6b19-45bb-8d69-4371edef4e68\"}, {\"attributes\": {\"line_color\": {\"value\": \"#1f77b4\"}, \"line_alpha\": {\"value\": 0.1}, \"fill_color\": {\"value\": \"#1f77b4\"}, \"tags\": [], \"doc\": null, \"fill_alpha\": {\"value\": 0.1}, \"height\": {\"units\": \"data\", \"value\": 0.0045391336213793246}, \"width\": {\"units\": \"data\", \"value\": 0.1}, \"y\": {\"field\": \"y\"}, \"x\": {\"field\": \"x\"}, \"id\": \"97edde88-4b5b-4499-b08d-18184ed183db\"}, \"type\": \"Rect\", \"id\": \"97edde88-4b5b-4499-b08d-18184ed183db\"}, {\"attributes\": {\"line_color\": {\"field\": \"line_color\"}, \"line_alpha\": {\"value\": 1.0}, \"fill_color\": {\"field\": \"fill_color\"}, \"tags\": [], \"doc\": null, \"fill_alpha\": {\"value\": 1.0}, \"height\": {\"units\": \"data\", \"value\": 0.0045391336213793246}, \"width\": {\"units\": \"data\", \"value\": 0.1}, \"y\": {\"field\": \"y\"}, \"x\": {\"field\": \"x\"}, \"id\": \"6d959ed3-6d2b-451e-a280-d32d2a0cb8bb\"}, \"type\": \"Rect\", \"id\": \"6d959ed3-6d2b-451e-a280-d32d2a0cb8bb\"}, {\"attributes\": {\"tags\": [], \"doc\": null, \"mantissas\": [2, 5, 10], \"id\": \"7877a59d-ac39-431c-8893-8dffd33b3466\", \"num_minor_ticks\": 5}, \"type\": \"BasicTicker\", \"id\": \"7877a59d-ac39-431c-8893-8dffd33b3466\"}, {\"attributes\": {\"nonselection_glyph\": {\"type\": \"Rect\", \"id\": \"78af2106-5524-4646-bbb7-c3eb2d683882\"}, \"data_source\": {\"type\": \"ColumnDataSource\", \"id\": \"3336c791-604e-4591-adbd-0092502b6145\"}, \"name\": \"colour_bar\", \"tags\": [], \"doc\": null, \"selection_glyph\": null, \"id\": \"13e1f9a5-f6be-4a6e-aaa9-819610eb17f5\", \"glyph\": {\"type\": \"Rect\", \"id\": \"26acdce8-a1ba-4159-a23c-5886a31fdf11\"}}, \"type\": \"GlyphRenderer\", \"id\": \"13e1f9a5-f6be-4a6e-aaa9-819610eb17f5\"}, {\"attributes\": {\"column_names\": [\"y\", \"x\", \"line_color\", \"fill_color\"], \"tags\": [], \"doc\": null, \"selected\": {\"2d\": {\"indices\": []}, \"1d\": {\"indices\": []}, \"0d\": {\"indices\": [], \"flag\": false}}, \"callback\": null, \"data\": {\"y\": [0.0403734229101241, 0.044912556531503424, 0.04945169015288275, 0.05399082377426208, 0.0585299573956414, 0.06306909101702073, 0.06760822463840005, 0.07214735825977937, 0.0766864918811587, 0.08122562550253802], \"x\": [0.0, 0.0, 0.0, 0.0, 0.0, 0.0, 0.0, 0.0, 0.0, 0.0], \"fill_color\": [\"#000080\", \"#0000ff\", \"#0063ff\", \"#00d4ff\", \"#4effa9\", \"#a9ff4e\", \"#ffe600\", \"#ff7d00\", \"#ff1400\", \"#800000\"], \"line_color\": [\"#000080\", \"#0000ff\", \"#0063ff\", \"#00d4ff\", \"#4effa9\", \"#a9ff4e\", \"#ffe600\", \"#ff7d00\", \"#ff1400\", \"#800000\"]}, \"id\": \"3c058cd1-6c5c-4d14-a12d-3c414aa5adba\"}, \"type\": \"ColumnDataSource\", \"id\": \"3c058cd1-6c5c-4d14-a12d-3c414aa5adba\"}, {\"attributes\": {\"nonselection_glyph\": {\"type\": \"Rect\", \"id\": \"97edde88-4b5b-4499-b08d-18184ed183db\"}, \"data_source\": {\"type\": \"ColumnDataSource\", \"id\": \"3c058cd1-6c5c-4d14-a12d-3c414aa5adba\"}, \"name\": \"colour_bar_2\", \"tags\": [], \"doc\": null, \"selection_glyph\": null, \"id\": \"f3489ad2-56e1-495c-a68f-ededce1863a5\", \"glyph\": {\"type\": \"Rect\", \"id\": \"6d959ed3-6d2b-451e-a280-d32d2a0cb8bb\"}}, \"type\": \"GlyphRenderer\", \"id\": \"f3489ad2-56e1-495c-a68f-ededce1863a5\"}, {\"attributes\": {\"nonselection_glyph\": {\"type\": \"Circle\", \"id\": \"b3638531-bc64-44ec-bbd4-c2b94abc2686\"}, \"data_source\": {\"type\": \"ColumnDataSource\", \"id\": \"3336c791-604e-4591-adbd-0092502b6145\"}, \"tags\": [], \"doc\": null, \"selection_glyph\": null, \"id\": \"0e7005a4-038f-4c29-9914-8ed404619904\", \"glyph\": {\"type\": \"Circle\", \"id\": \"5f243075-5c59-43f9-884e-7e8cca2e7072\"}}, \"type\": \"GlyphRenderer\", \"id\": \"0e7005a4-038f-4c29-9914-8ed404619904\"}, {\"attributes\": {\"geometries\": [], \"tags\": [], \"doc\": null, \"id\": \"3def5f38-5749-4935-a641-8fc916151d52\"}, \"type\": \"ToolEvents\", \"id\": \"3def5f38-5749-4935-a641-8fc916151d52\"}, {\"attributes\": {\"doc\": null, \"id\": \"9ce11093-4770-4756-92fd-871422b861d5\", \"tags\": []}, \"type\": \"BasicTickFormatter\", \"id\": \"9ce11093-4770-4756-92fd-871422b861d5\"}, {\"attributes\": {\"end\": 0.081225625502538021, \"callback\": null, \"doc\": null, \"tags\": [], \"start\": 0.0403734229101241, \"id\": \"742b64dc-e88a-4a9d-bfdd-f462e8c7c9fb\"}, \"type\": \"Range1d\", \"id\": \"742b64dc-e88a-4a9d-bfdd-f462e8c7c9fb\"}, {\"attributes\": {\"line_color\": {\"field\": \"color\"}, \"line_alpha\": {\"value\": 1.0}, \"fill_color\": {\"field\": \"color\"}, \"tags\": [], \"doc\": null, \"fill_alpha\": {\"value\": 1.0}, \"y\": {\"field\": \"rate\"}, \"x\": {\"field\": \"batch\"}, \"id\": \"5f243075-5c59-43f9-884e-7e8cca2e7072\"}, \"type\": \"Circle\", \"id\": \"5f243075-5c59-43f9-884e-7e8cca2e7072\"}, {\"attributes\": {\"line_color\": {\"value\": \"#1f77b4\"}, \"line_alpha\": {\"value\": 0.1}, \"fill_color\": {\"value\": \"#1f77b4\"}, \"tags\": [], \"doc\": null, \"fill_alpha\": {\"value\": 0.1}, \"y\": {\"field\": \"rate\"}, \"x\": {\"field\": \"batch\"}, \"id\": \"b3638531-bc64-44ec-bbd4-c2b94abc2686\"}, \"type\": \"Circle\", \"id\": \"b3638531-bc64-44ec-bbd4-c2b94abc2686\"}, {\"attributes\": {\"tags\": [], \"doc\": null, \"renderers\": [], \"callback\": null, \"names\": [], \"id\": \"453b27c2-bd62-4271-8dc6-fea665628b66\"}, \"type\": \"DataRange1d\", \"id\": \"453b27c2-bd62-4271-8dc6-fea665628b66\"}, {\"attributes\": {\"tags\": [], \"doc\": null, \"mantissas\": [2, 5, 10], \"id\": \"8f739fc5-25ac-4389-afa0-eb136a8b87f1\", \"num_minor_ticks\": 5}, \"type\": \"BasicTicker\", \"id\": \"8f739fc5-25ac-4389-afa0-eb136a8b87f1\"}, {\"attributes\": {\"plot\": {\"subtype\": \"Figure\", \"type\": \"Plot\", \"id\": \"0ba4f40d-2099-4fc5-a792-f7552cb29e68\"}, \"axis_label_text_font_size\": {\"value\": \"9pt\"}, \"tags\": [], \"doc\": null, \"axis_label\": \"Learning Rate\", \"formatter\": {\"type\": \"BasicTickFormatter\", \"id\": \"9ce11093-4770-4756-92fd-871422b861d5\"}, \"ticker\": {\"type\": \"BasicTicker\", \"id\": \"8f739fc5-25ac-4389-afa0-eb136a8b87f1\"}, \"id\": \"62440193-cfef-43e4-b969-1b1b1c421aa1\"}, \"type\": \"LinearAxis\", \"id\": \"62440193-cfef-43e4-b969-1b1b1c421aa1\"}, {\"attributes\": {\"plot\": {\"subtype\": \"Figure\", \"type\": \"Plot\", \"id\": \"0ba4f40d-2099-4fc5-a792-f7552cb29e68\"}, \"dimensions\": [\"width\", \"height\"], \"tags\": [], \"doc\": null, \"renderers\": [{\"type\": \"GlyphRenderer\", \"id\": \"0e7005a4-038f-4c29-9914-8ed404619904\"}], \"callback\": null, \"names\": [], \"id\": \"df5306b0-5dd1-4d13-9fac-6248ae14edfd\"}, \"type\": \"BoxSelectTool\", \"id\": \"df5306b0-5dd1-4d13-9fac-6248ae14edfd\"}, {\"attributes\": {\"geometries\": [], \"tags\": [], \"doc\": null, \"id\": \"37ffeaab-4ce0-4648-b5af-0c1260c64ef1\"}, \"type\": \"ToolEvents\", \"id\": \"37ffeaab-4ce0-4648-b5af-0c1260c64ef1\"}, {\"attributes\": {\"plot\": {\"subtype\": \"Figure\", \"type\": \"Plot\", \"id\": \"0ba4f40d-2099-4fc5-a792-f7552cb29e68\"}, \"tags\": [], \"doc\": null, \"id\": \"9e57f9b7-c240-4992-b337-874e92582b99\"}, \"type\": \"PreviewSaveTool\", \"id\": \"9e57f9b7-c240-4992-b337-874e92582b99\"}, {\"subtype\": \"Figure\", \"type\": \"Plot\", \"id\": \"7f37d0f6-5636-4f68-93d6-3142b9fff8fb\", \"attributes\": {\"x_range\": {\"type\": \"DataRange1d\", \"id\": \"4eb5b067-6b19-45bb-8d69-4371edef4e68\"}, \"right\": [], \"tags\": [], \"tools\": [{\"type\": \"BoxSelectTool\", \"id\": \"b936b745-4aeb-4de5-8c2e-691fef03b4df\"}, {\"type\": \"ResetTool\", \"id\": \"294078f9-e50d-49ea-8353-0756e3333a9c\"}, {\"type\": \"WheelZoomTool\", \"id\": \"9b8c348e-5954-4345-8b14-094e21eb4032\"}, {\"type\": \"PreviewSaveTool\", \"id\": \"4553484f-e1e9-4d53-a5f9-588752f3f44d\"}], \"title\": null, \"extra_y_ranges\": {}, \"plot_width\": 150, \"renderers\": [{\"type\": \"LinearAxis\", \"id\": \"bb0b9fc0-e36c-4c89-b86b-b7105bc5ff7f\"}, {\"type\": \"Grid\", \"id\": \"83d4b577-e649-4455-9285-2532933c3393\"}, {\"type\": \"LinearAxis\", \"id\": \"269b2264-02c5-4d43-8135-8d32d44196d6\"}, {\"type\": \"Grid\", \"id\": \"654c7832-8340-4cdf-8201-35b32149ad7a\"}, {\"type\": \"GlyphRenderer\", \"id\": \"13e1f9a5-f6be-4a6e-aaa9-819610eb17f5\"}, {\"type\": \"GlyphRenderer\", \"id\": \"f3489ad2-56e1-495c-a68f-ededce1863a5\"}], \"extra_x_ranges\": {}, \"plot_height\": 350, \"tool_events\": {\"type\": \"ToolEvents\", \"id\": \"7a807b93-f205-4247-b820-dd300581b658\"}, \"above\": [], \"doc\": null, \"id\": \"7f37d0f6-5636-4f68-93d6-3142b9fff8fb\", \"y_range\": {\"type\": \"Range1d\", \"id\": \"742b64dc-e88a-4a9d-bfdd-f462e8c7c9fb\"}, \"below\": [{\"type\": \"LinearAxis\", \"id\": \"bb0b9fc0-e36c-4c89-b86b-b7105bc5ff7f\"}], \"left\": [{\"type\": \"LinearAxis\", \"id\": \"269b2264-02c5-4d43-8135-8d32d44196d6\"}]}}, {\"subtype\": \"Figure\", \"type\": \"Plot\", \"id\": \"0ba4f40d-2099-4fc5-a792-f7552cb29e68\", \"attributes\": {\"x_range\": {\"type\": \"DataRange1d\", \"id\": \"453b27c2-bd62-4271-8dc6-fea665628b66\"}, \"right\": [], \"tags\": [], \"tools\": [{\"type\": \"BoxSelectTool\", \"id\": \"df5306b0-5dd1-4d13-9fac-6248ae14edfd\"}, {\"type\": \"ResetTool\", \"id\": \"6eda98e6-509a-4e07-8334-b47b852ee8f7\"}, {\"type\": \"WheelZoomTool\", \"id\": \"ba05ee36-aebd-4384-96cc-251356a97739\"}, {\"type\": \"PreviewSaveTool\", \"id\": \"9e57f9b7-c240-4992-b337-874e92582b99\"}], \"title\": null, \"extra_y_ranges\": {}, \"plot_width\": 500, \"renderers\": [{\"type\": \"LinearAxis\", \"id\": \"b5b4e798-7f38-4393-bc22-074682a8e74e\"}, {\"type\": \"Grid\", \"id\": \"4ee3790c-a677-4f84-8515-4452c625de44\"}, {\"type\": \"LinearAxis\", \"id\": \"62440193-cfef-43e4-b969-1b1b1c421aa1\"}, {\"type\": \"Grid\", \"id\": \"1cf69cbc-2e25-4651-8650-27c90e126963\"}, {\"type\": \"GlyphRenderer\", \"id\": \"0e7005a4-038f-4c29-9914-8ed404619904\"}], \"extra_x_ranges\": {}, \"plot_height\": 350, \"tool_events\": {\"type\": \"ToolEvents\", \"id\": \"37ffeaab-4ce0-4648-b5af-0c1260c64ef1\"}, \"above\": [], \"doc\": null, \"id\": \"0ba4f40d-2099-4fc5-a792-f7552cb29e68\", \"y_range\": {\"type\": \"DataRange1d\", \"id\": \"ee15cea0-0528-44ae-87fd-380edf133990\"}, \"below\": [{\"type\": \"LinearAxis\", \"id\": \"b5b4e798-7f38-4393-bc22-074682a8e74e\"}], \"left\": [{\"type\": \"LinearAxis\", \"id\": \"62440193-cfef-43e4-b969-1b1b1c421aa1\"}]}}, {\"attributes\": {\"line_color\": {\"value\": \"white\"}, \"line_alpha\": {\"value\": 1.0}, \"fill_color\": {\"value\": \"white\"}, \"tags\": [], \"doc\": null, \"fill_alpha\": {\"value\": 1.0}, \"height\": {\"units\": \"data\", \"value\": 0.0001}, \"width\": {\"units\": \"data\", \"value\": 0.1}, \"y\": {\"field\": \"error\"}, \"x\": {\"field\": \"zeros\"}, \"id\": \"26acdce8-a1ba-4159-a23c-5886a31fdf11\"}, \"type\": \"Rect\", \"id\": \"26acdce8-a1ba-4159-a23c-5886a31fdf11\"}, {\"attributes\": {\"line_alpha\": {\"value\": 0}, \"tags\": [], \"doc\": null, \"fill_alpha\": {\"value\": 0}, \"id\": \"78af2106-5524-4646-bbb7-c3eb2d683882\"}, \"type\": \"Rect\", \"id\": \"78af2106-5524-4646-bbb7-c3eb2d683882\"}, {\"attributes\": {\"plot\": {\"subtype\": \"Figure\", \"type\": \"Plot\", \"id\": \"7f37d0f6-5636-4f68-93d6-3142b9fff8fb\"}, \"dimensions\": [\"width\", \"height\"], \"tags\": [], \"doc\": null, \"id\": \"9b8c348e-5954-4345-8b14-094e21eb4032\"}, \"type\": \"WheelZoomTool\", \"id\": \"9b8c348e-5954-4345-8b14-094e21eb4032\"}, {\"attributes\": {\"geometries\": [], \"tags\": [], \"doc\": null, \"id\": \"7a807b93-f205-4247-b820-dd300581b658\"}, \"type\": \"ToolEvents\", \"id\": \"7a807b93-f205-4247-b820-dd300581b658\"}, {\"attributes\": {\"x_range\": null, \"right\": [], \"tags\": [], \"tools\": [], \"children\": [[{\"subtype\": \"Figure\", \"type\": \"Plot\", \"id\": \"7f37d0f6-5636-4f68-93d6-3142b9fff8fb\"}, {\"subtype\": \"Figure\", \"type\": \"Plot\", \"id\": \"0ba4f40d-2099-4fc5-a792-f7552cb29e68\"}]], \"renderers\": [], \"extra_y_ranges\": {}, \"extra_x_ranges\": {}, \"tool_events\": {\"type\": \"ToolEvents\", \"id\": \"3def5f38-5749-4935-a641-8fc916151d52\"}, \"above\": [], \"doc\": null, \"id\": \"5e8a39ce-173e-4dd9-9f6e-1524a3ac0013\", \"y_range\": null, \"below\": [], \"left\": []}, \"type\": \"GridPlot\", \"id\": \"5e8a39ce-173e-4dd9-9f6e-1524a3ac0013\"}];\n",
       "        Bokeh.load_models(all_models);\n",
       "        var plots = [{'modeltype': 'GridPlot', 'elementid': '287f673d-329f-446a-ac54-02a147d2d60c', 'modelid': '5e8a39ce-173e-4dd9-9f6e-1524a3ac0013'}];\n",
       "        for (idx in plots) {\n",
       "        \tvar plot = plots[idx];\n",
       "        \tvar model = Bokeh.Collections(plot.modeltype).get(plot.modelid);\n",
       "        \tBokeh.logger.info('Realizing plot:')\n",
       "        \tBokeh.logger.info(' - modeltype: ' + plot.modeltype);\n",
       "        \tBokeh.logger.info(' - modelid: ' + plot.modelid);\n",
       "        \tBokeh.logger.info(' - elementid: ' + plot.elementid);\n",
       "        \tvar view = new model.default_view({\n",
       "        \t\tmodel: model,\n",
       "        \t\tel: '#' + plot.elementid\n",
       "        \t});\n",
       "        \tBokeh.index[plot.modelid] = view;\n",
       "        }\n",
       "    });\n",
       "    </script>\n",
       "<div class=\"plotdiv\" id=\"287f673d-329f-446a-ac54-02a147d2d60c\"></div>\n",
       "\n"
      ]
     },
     "metadata": {},
     "output_type": "display_data"
    }
   ],
   "source": [
    "bk.show(p)"
   ]
  },
  {
   "cell_type": "markdown",
   "metadata": {},
   "source": [
    "**Remark**: selection sometimes looks different because there might be too few or too many examples in that area"
   ]
  },
  {
   "cell_type": "markdown",
   "metadata": {},
   "source": [
    "If you want to further explore a particular region of the graph, or change dataset parameters please go back to the dataset definition or change slider values for batch size and learning rate.\n",
    "\n",
    "The picture allows to explore the different regions of parameters combination. It seems that in order to lower the error it is neccessary to use low sized batch. Learning rate does not affect the error much, but overall it seems that the correct choice for learning rate is specific for each batch size."
   ]
  },
  {
   "cell_type": "markdown",
   "metadata": {},
   "source": [
    "### 4.2 Activation units"
   ]
  },
  {
   "cell_type": "markdown",
   "metadata": {
    "collapsed": true
   },
   "source": [
    "In previous examples we used a single type of activation function. In the next example we vary activation function to see the effects on neural network performance. Along tanh, we use the *Sigmoid* function and rectified linera unit (*ReLU*). Along the activation function we would like to show how performance is affected by the choice of learning rate, the batch size and the number of neurons in the hidden layer.\n",
    "\n",
    "In the next paragraphs we perform different type of tests. In the first test we fix learning rate and number of hidden unit and vary activation function and batch size. In the second test we fix batch size and number of hidden unit and vary activation function and learning rate. Finally in the third test we fix learning rate and batch size and we vary the number of hidden unit activation function. For each test we record the error as in previous examples. The number of epochs is fixed at 25 for all tests."
   ]
  },
  {
   "cell_type": "markdown",
   "metadata": {},
   "source": [
    "**First test**: fix learning rate and hidden units and vary batch size and activation function. The number of hidden units is 10, while the learning rate is the default 0.01. You can change the batch sizes to test with the slider below. "
   ]
  },
  {
   "cell_type": "code",
   "execution_count": 42,
   "metadata": {
    "collapsed": true
   },
   "outputs": [],
   "source": [
    "hidden_size = 10\n",
    "learning_rate = 0.01\n",
    "\n",
    "units = {'tanh':'red', \n",
    "         'sigmoid':'blue', \n",
    "         'relu':'green'}"
   ]
  },
  {
   "cell_type": "code",
   "execution_count": 43,
   "metadata": {
    "collapsed": true
   },
   "outputs": [],
   "source": [
    "batch_source = ColumnDataSource(data=dict(batch=[]))"
   ]
  },
  {
   "cell_type": "code",
   "execution_count": 44,
   "metadata": {
    "collapsed": true
   },
   "outputs": [],
   "source": [
    "@interact(start=(0,100,10), stop=(10**2, 10**3, 100), inc=(10, 100, 10))\n",
    "def update_b(start=10, stop=100, inc=10):\n",
    "    batch_source.data['batch'] = np.arange(start, stop, inc)"
   ]
  },
  {
   "cell_type": "code",
   "execution_count": 45,
   "metadata": {
    "collapsed": true
   },
   "outputs": [],
   "source": [
    "errors = pd.DataFrame([a for a in multitest(units.keys(), [hidden_size],\n",
    "                                            batch_source.data['batch'],  \n",
    "                                            [learning_rate], \n",
    "                                            X_train, y_train, X_test, y_test)])\n",
    "\n",
    "errors.columns = ['activation', 'hidden', 'batch', 'rate', 'error']"
   ]
  },
  {
   "cell_type": "code",
   "execution_count": 46,
   "metadata": {
    "collapsed": true
   },
   "outputs": [],
   "source": [
    "activation_group = errors.groupby('activation')"
   ]
  },
  {
   "cell_type": "code",
   "execution_count": 47,
   "metadata": {
    "collapsed": false
   },
   "outputs": [
    {
     "data": {
      "text/html": [
       "<script type=\"text/javascript\">\n",
       "        Bokeh.$(function() {\n",
       "        var all_models = [{\"attributes\": {\"plot\": {\"subtype\": \"Figure\", \"type\": \"Plot\", \"id\": \"7d4042d5-5f43-43c9-b890-409de343077c\"}, \"legends\": [[\"sigmoid\", [{\"type\": \"GlyphRenderer\", \"id\": \"cda36c88-b3e8-4151-a81a-99c548529909\"}]], [\"relu\", [{\"type\": \"GlyphRenderer\", \"id\": \"e10bff08-1d74-4599-aae6-603964b30666\"}]], [\"tanh\", [{\"type\": \"GlyphRenderer\", \"id\": \"ba9df99e-3ffa-42ca-a0ee-87aa5feacb33\"}]]], \"tags\": [], \"doc\": null, \"id\": \"d47da1ee-8986-4d85-ab63-daa566be2e43\"}, \"type\": \"Legend\", \"id\": \"d47da1ee-8986-4d85-ab63-daa566be2e43\"}, {\"attributes\": {\"column_names\": [\"y\", \"x\"], \"tags\": [], \"doc\": null, \"selected\": {\"2d\": {\"indices\": []}, \"1d\": {\"indices\": []}, \"0d\": {\"indices\": [], \"flag\": false}}, \"callback\": null, \"data\": {\"y\": [0.020514005805342093, 0.02269964659931047, 0.020677502325829617, 0.02139977869375223, 0.021308582766489437, 0.03136865629280398, 0.02211832680939734, 0.02109244668835886, 0.028797052241762502], \"x\": [10, 20, 30, 40, 50, 60, 70, 80, 90]}, \"id\": \"537a1c97-3690-4acc-ad70-957357443522\"}, \"type\": \"ColumnDataSource\", \"id\": \"537a1c97-3690-4acc-ad70-957357443522\"}, {\"attributes\": {\"line_color\": {\"value\": \"red\"}, \"line_alpha\": {\"value\": 1.0}, \"tags\": [], \"doc\": null, \"y\": {\"field\": \"y\"}, \"x\": {\"field\": \"x\"}, \"id\": \"17376e31-b8e4-4005-a9a2-e15c6fb200bf\"}, \"type\": \"Line\", \"id\": \"17376e31-b8e4-4005-a9a2-e15c6fb200bf\"}, {\"attributes\": {\"line_color\": {\"value\": \"#1f77b4\"}, \"line_alpha\": {\"value\": 0.1}, \"tags\": [], \"doc\": null, \"y\": {\"field\": \"y\"}, \"x\": {\"field\": \"x\"}, \"id\": \"200e6e35-d71c-4b6a-a86b-90e41ee84aa0\"}, \"type\": \"Line\", \"id\": \"200e6e35-d71c-4b6a-a86b-90e41ee84aa0\"}, {\"attributes\": {\"doc\": null, \"id\": \"75a7b6bd-e8bc-455c-a954-254f970e0432\", \"tags\": []}, \"type\": \"BasicTickFormatter\", \"id\": \"75a7b6bd-e8bc-455c-a954-254f970e0432\"}, {\"attributes\": {\"plot\": {\"subtype\": \"Figure\", \"type\": \"Plot\", \"id\": \"7d4042d5-5f43-43c9-b890-409de343077c\"}, \"dimensions\": [\"width\", \"height\"], \"tags\": [], \"doc\": null, \"id\": \"a9da51b0-38a0-4133-95d8-1900a21f25aa\"}, \"type\": \"WheelZoomTool\", \"id\": \"a9da51b0-38a0-4133-95d8-1900a21f25aa\"}, {\"attributes\": {\"line_color\": {\"value\": \"#1f77b4\"}, \"line_alpha\": {\"value\": 0.1}, \"tags\": [], \"doc\": null, \"y\": {\"field\": \"y\"}, \"x\": {\"field\": \"x\"}, \"id\": \"da85a292-7672-423c-9d7d-e75fc4cdd3de\"}, \"type\": \"Line\", \"id\": \"da85a292-7672-423c-9d7d-e75fc4cdd3de\"}, {\"attributes\": {\"tags\": [], \"doc\": null, \"renderers\": [], \"callback\": null, \"names\": [], \"id\": \"6bf7335d-9f8c-414f-a60c-1d5aa6576981\"}, \"type\": \"DataRange1d\", \"id\": \"6bf7335d-9f8c-414f-a60c-1d5aa6576981\"}, {\"attributes\": {\"doc\": null, \"id\": \"91d22eab-99aa-41bc-a37a-c17874fb740f\", \"tags\": []}, \"type\": \"BasicTickFormatter\", \"id\": \"91d22eab-99aa-41bc-a37a-c17874fb740f\"}, {\"attributes\": {\"plot\": {\"subtype\": \"Figure\", \"type\": \"Plot\", \"id\": \"7d4042d5-5f43-43c9-b890-409de343077c\"}, \"axis_label_text_font_size\": {\"value\": \"9pt\"}, \"tags\": [], \"doc\": null, \"axis_label\": \"Batch Size\", \"formatter\": {\"type\": \"BasicTickFormatter\", \"id\": \"91d22eab-99aa-41bc-a37a-c17874fb740f\"}, \"ticker\": {\"type\": \"BasicTicker\", \"id\": \"cf44a141-19e9-406b-8c2d-8c1f0c869bb6\"}, \"id\": \"6b5067f9-f64d-4bb2-88ae-1c3bca7f0f73\"}, \"type\": \"LinearAxis\", \"id\": \"6b5067f9-f64d-4bb2-88ae-1c3bca7f0f73\"}, {\"subtype\": \"Figure\", \"type\": \"Plot\", \"id\": \"7d4042d5-5f43-43c9-b890-409de343077c\", \"attributes\": {\"x_range\": {\"type\": \"DataRange1d\", \"id\": \"6bf7335d-9f8c-414f-a60c-1d5aa6576981\"}, \"right\": [], \"tags\": [], \"tools\": [{\"type\": \"BoxSelectTool\", \"id\": \"868c40bd-38cf-4e46-ba9a-780c5637fe02\"}, {\"type\": \"ResetTool\", \"id\": \"f89992c9-b97b-4c58-a210-31fdcc683aa4\"}, {\"type\": \"WheelZoomTool\", \"id\": \"a9da51b0-38a0-4133-95d8-1900a21f25aa\"}, {\"type\": \"PreviewSaveTool\", \"id\": \"5d55afa8-ad7a-4f1f-b869-6250d13ff965\"}], \"title\": null, \"extra_y_ranges\": {}, \"plot_width\": 500, \"renderers\": [{\"type\": \"LinearAxis\", \"id\": \"6b5067f9-f64d-4bb2-88ae-1c3bca7f0f73\"}, {\"type\": \"Grid\", \"id\": \"82e981ca-04bc-49e4-8a11-868a34bca071\"}, {\"type\": \"LinearAxis\", \"id\": \"a37fd612-40bf-45f7-8629-541c4002c5a0\"}, {\"type\": \"Grid\", \"id\": \"8ab6560b-62aa-42c5-b261-490db88850ef\"}, {\"type\": \"Legend\", \"id\": \"d47da1ee-8986-4d85-ab63-daa566be2e43\"}, {\"type\": \"GlyphRenderer\", \"id\": \"cda36c88-b3e8-4151-a81a-99c548529909\"}, {\"type\": \"GlyphRenderer\", \"id\": \"e10bff08-1d74-4599-aae6-603964b30666\"}, {\"type\": \"GlyphRenderer\", \"id\": \"ba9df99e-3ffa-42ca-a0ee-87aa5feacb33\"}], \"extra_x_ranges\": {}, \"plot_height\": 350, \"tool_events\": {\"type\": \"ToolEvents\", \"id\": \"b71dc50f-8e02-4aae-a458-ff71b29847ef\"}, \"above\": [], \"doc\": null, \"id\": \"7d4042d5-5f43-43c9-b890-409de343077c\", \"y_range\": {\"type\": \"DataRange1d\", \"id\": \"ee5818be-24db-4627-ab44-053ddbff7207\"}, \"below\": [{\"type\": \"LinearAxis\", \"id\": \"6b5067f9-f64d-4bb2-88ae-1c3bca7f0f73\"}], \"left\": [{\"type\": \"LinearAxis\", \"id\": \"a37fd612-40bf-45f7-8629-541c4002c5a0\"}]}}, {\"attributes\": {\"nonselection_glyph\": {\"type\": \"Line\", \"id\": \"b21d6364-6f05-4022-93ab-a374e7e36cb3\"}, \"data_source\": {\"type\": \"ColumnDataSource\", \"id\": \"3d76c088-cd0c-46ef-b91a-4002c5a37f44\"}, \"tags\": [], \"doc\": null, \"selection_glyph\": null, \"id\": \"e10bff08-1d74-4599-aae6-603964b30666\", \"glyph\": {\"type\": \"Line\", \"id\": \"e4a29931-d466-46b4-a765-1c2e86707f2b\"}}, \"type\": \"GlyphRenderer\", \"id\": \"e10bff08-1d74-4599-aae6-603964b30666\"}, {\"attributes\": {\"column_names\": [\"y\", \"x\"], \"tags\": [], \"doc\": null, \"selected\": {\"2d\": {\"indices\": []}, \"1d\": {\"indices\": []}, \"0d\": {\"indices\": [], \"flag\": false}}, \"callback\": null, \"data\": {\"y\": [0.021184576908407, 0.022498626874585072, 0.021422928114195744, 0.02262847031394677, 0.02175812884375685, 0.022376732534826804, 0.022267140783109162, 0.023209149764631554, 0.021122532895403143], \"x\": [10, 20, 30, 40, 50, 60, 70, 80, 90]}, \"id\": \"3d76c088-cd0c-46ef-b91a-4002c5a37f44\"}, \"type\": \"ColumnDataSource\", \"id\": \"3d76c088-cd0c-46ef-b91a-4002c5a37f44\"}, {\"attributes\": {\"plot\": {\"subtype\": \"Figure\", \"type\": \"Plot\", \"id\": \"7d4042d5-5f43-43c9-b890-409de343077c\"}, \"tags\": [], \"doc\": null, \"id\": \"5d55afa8-ad7a-4f1f-b869-6250d13ff965\"}, \"type\": \"PreviewSaveTool\", \"id\": \"5d55afa8-ad7a-4f1f-b869-6250d13ff965\"}, {\"attributes\": {\"plot\": {\"subtype\": \"Figure\", \"type\": \"Plot\", \"id\": \"7d4042d5-5f43-43c9-b890-409de343077c\"}, \"tags\": [], \"doc\": null, \"dimension\": 1, \"ticker\": {\"type\": \"BasicTicker\", \"id\": \"5763b4ab-3fc0-461f-8381-a93389a84ba0\"}, \"id\": \"8ab6560b-62aa-42c5-b261-490db88850ef\"}, \"type\": \"Grid\", \"id\": \"8ab6560b-62aa-42c5-b261-490db88850ef\"}, {\"attributes\": {\"column_names\": [\"y\", \"x\"], \"tags\": [], \"doc\": null, \"selected\": {\"2d\": {\"indices\": []}, \"1d\": {\"indices\": []}, \"0d\": {\"indices\": [], \"flag\": false}}, \"callback\": null, \"data\": {\"y\": [0.016553531854528524, 0.029113838051596907, 0.040076247742492424, 0.04004654325641934, 0.040835856643226635, 0.044742446972187364, 0.04724223661384589, 0.05259651579602622, 0.04243013723428316], \"x\": [10, 20, 30, 40, 50, 60, 70, 80, 90]}, \"id\": \"f04d1f33-a8d6-403e-85fa-f1028a88e9d0\"}, \"type\": \"ColumnDataSource\", \"id\": \"f04d1f33-a8d6-403e-85fa-f1028a88e9d0\"}, {\"attributes\": {\"tags\": [], \"doc\": null, \"mantissas\": [2, 5, 10], \"id\": \"5763b4ab-3fc0-461f-8381-a93389a84ba0\", \"num_minor_ticks\": 5}, \"type\": \"BasicTicker\", \"id\": \"5763b4ab-3fc0-461f-8381-a93389a84ba0\"}, {\"attributes\": {\"plot\": {\"subtype\": \"Figure\", \"type\": \"Plot\", \"id\": \"7d4042d5-5f43-43c9-b890-409de343077c\"}, \"tags\": [], \"doc\": null, \"dimension\": 0, \"ticker\": {\"type\": \"BasicTicker\", \"id\": \"cf44a141-19e9-406b-8c2d-8c1f0c869bb6\"}, \"id\": \"82e981ca-04bc-49e4-8a11-868a34bca071\"}, \"type\": \"Grid\", \"id\": \"82e981ca-04bc-49e4-8a11-868a34bca071\"}, {\"attributes\": {\"tags\": [], \"doc\": null, \"renderers\": [], \"callback\": null, \"names\": [], \"id\": \"ee5818be-24db-4627-ab44-053ddbff7207\"}, \"type\": \"DataRange1d\", \"id\": \"ee5818be-24db-4627-ab44-053ddbff7207\"}, {\"attributes\": {\"plot\": {\"subtype\": \"Figure\", \"type\": \"Plot\", \"id\": \"7d4042d5-5f43-43c9-b890-409de343077c\"}, \"axis_label_text_font_size\": {\"value\": \"9pt\"}, \"tags\": [], \"doc\": null, \"axis_label\": \"Error\", \"formatter\": {\"type\": \"BasicTickFormatter\", \"id\": \"75a7b6bd-e8bc-455c-a954-254f970e0432\"}, \"ticker\": {\"type\": \"BasicTicker\", \"id\": \"5763b4ab-3fc0-461f-8381-a93389a84ba0\"}, \"id\": \"a37fd612-40bf-45f7-8629-541c4002c5a0\"}, \"type\": \"LinearAxis\", \"id\": \"a37fd612-40bf-45f7-8629-541c4002c5a0\"}, {\"attributes\": {\"nonselection_glyph\": {\"type\": \"Line\", \"id\": \"da85a292-7672-423c-9d7d-e75fc4cdd3de\"}, \"data_source\": {\"type\": \"ColumnDataSource\", \"id\": \"537a1c97-3690-4acc-ad70-957357443522\"}, \"tags\": [], \"doc\": null, \"selection_glyph\": null, \"id\": \"ba9df99e-3ffa-42ca-a0ee-87aa5feacb33\", \"glyph\": {\"type\": \"Line\", \"id\": \"17376e31-b8e4-4005-a9a2-e15c6fb200bf\"}}, \"type\": \"GlyphRenderer\", \"id\": \"ba9df99e-3ffa-42ca-a0ee-87aa5feacb33\"}, {\"attributes\": {\"geometries\": [], \"tags\": [], \"doc\": null, \"id\": \"b71dc50f-8e02-4aae-a458-ff71b29847ef\"}, \"type\": \"ToolEvents\", \"id\": \"b71dc50f-8e02-4aae-a458-ff71b29847ef\"}, {\"attributes\": {\"nonselection_glyph\": {\"type\": \"Line\", \"id\": \"200e6e35-d71c-4b6a-a86b-90e41ee84aa0\"}, \"data_source\": {\"type\": \"ColumnDataSource\", \"id\": \"f04d1f33-a8d6-403e-85fa-f1028a88e9d0\"}, \"tags\": [], \"doc\": null, \"selection_glyph\": null, \"id\": \"cda36c88-b3e8-4151-a81a-99c548529909\", \"glyph\": {\"type\": \"Line\", \"id\": \"ce0681e1-7b7a-417f-8afc-c354d2559b60\"}}, \"type\": \"GlyphRenderer\", \"id\": \"cda36c88-b3e8-4151-a81a-99c548529909\"}, {\"attributes\": {\"line_color\": {\"value\": \"green\"}, \"line_alpha\": {\"value\": 1.0}, \"tags\": [], \"doc\": null, \"y\": {\"field\": \"y\"}, \"x\": {\"field\": \"x\"}, \"id\": \"e4a29931-d466-46b4-a765-1c2e86707f2b\"}, \"type\": \"Line\", \"id\": \"e4a29931-d466-46b4-a765-1c2e86707f2b\"}, {\"attributes\": {\"plot\": {\"subtype\": \"Figure\", \"type\": \"Plot\", \"id\": \"7d4042d5-5f43-43c9-b890-409de343077c\"}, \"tags\": [], \"doc\": null, \"id\": \"f89992c9-b97b-4c58-a210-31fdcc683aa4\"}, \"type\": \"ResetTool\", \"id\": \"f89992c9-b97b-4c58-a210-31fdcc683aa4\"}, {\"attributes\": {\"plot\": {\"subtype\": \"Figure\", \"type\": \"Plot\", \"id\": \"7d4042d5-5f43-43c9-b890-409de343077c\"}, \"dimensions\": [\"width\", \"height\"], \"tags\": [], \"doc\": null, \"renderers\": [{\"type\": \"GlyphRenderer\", \"id\": \"cda36c88-b3e8-4151-a81a-99c548529909\"}, {\"type\": \"GlyphRenderer\", \"id\": \"e10bff08-1d74-4599-aae6-603964b30666\"}, {\"type\": \"GlyphRenderer\", \"id\": \"ba9df99e-3ffa-42ca-a0ee-87aa5feacb33\"}], \"callback\": null, \"names\": [], \"id\": \"868c40bd-38cf-4e46-ba9a-780c5637fe02\"}, \"type\": \"BoxSelectTool\", \"id\": \"868c40bd-38cf-4e46-ba9a-780c5637fe02\"}, {\"attributes\": {\"line_color\": {\"value\": \"#1f77b4\"}, \"line_alpha\": {\"value\": 0.1}, \"tags\": [], \"doc\": null, \"y\": {\"field\": \"y\"}, \"x\": {\"field\": \"x\"}, \"id\": \"b21d6364-6f05-4022-93ab-a374e7e36cb3\"}, \"type\": \"Line\", \"id\": \"b21d6364-6f05-4022-93ab-a374e7e36cb3\"}, {\"attributes\": {\"tags\": [], \"doc\": null, \"mantissas\": [2, 5, 10], \"id\": \"cf44a141-19e9-406b-8c2d-8c1f0c869bb6\", \"num_minor_ticks\": 5}, \"type\": \"BasicTicker\", \"id\": \"cf44a141-19e9-406b-8c2d-8c1f0c869bb6\"}, {\"attributes\": {\"line_color\": {\"value\": \"blue\"}, \"line_alpha\": {\"value\": 1.0}, \"tags\": [], \"doc\": null, \"y\": {\"field\": \"y\"}, \"x\": {\"field\": \"x\"}, \"id\": \"ce0681e1-7b7a-417f-8afc-c354d2559b60\"}, \"type\": \"Line\", \"id\": \"ce0681e1-7b7a-417f-8afc-c354d2559b60\"}];\n",
       "        Bokeh.load_models(all_models);\n",
       "        var plots = [{'modeltype': 'Plot', 'elementid': 'a7f8af22-19b5-4d7a-931e-6a703bef15a5', 'modelid': '7d4042d5-5f43-43c9-b890-409de343077c'}];\n",
       "        for (idx in plots) {\n",
       "        \tvar plot = plots[idx];\n",
       "        \tvar model = Bokeh.Collections(plot.modeltype).get(plot.modelid);\n",
       "        \tBokeh.logger.info('Realizing plot:')\n",
       "        \tBokeh.logger.info(' - modeltype: ' + plot.modeltype);\n",
       "        \tBokeh.logger.info(' - modelid: ' + plot.modelid);\n",
       "        \tBokeh.logger.info(' - elementid: ' + plot.elementid);\n",
       "        \tvar view = new model.default_view({\n",
       "        \t\tmodel: model,\n",
       "        \t\tel: '#' + plot.elementid\n",
       "        \t});\n",
       "        \tBokeh.index[plot.modelid] = view;\n",
       "        }\n",
       "    });\n",
       "    </script>\n",
       "<div class=\"plotdiv\" id=\"a7f8af22-19b5-4d7a-931e-6a703bef15a5\"></div>\n",
       "\n"
      ]
     },
     "metadata": {},
     "output_type": "display_data"
    }
   ],
   "source": [
    "fig = bk.figure(tools=tools, \n",
    "                plot_width=500, \n",
    "                plot_height=350, \n",
    "                title=None)\n",
    "fig.xaxis.axis_label = 'Batch Size'\n",
    "fig.xaxis.axis_label_text_font_size = '9pt'\n",
    "fig.yaxis.axis_label = 'Error'\n",
    "fig.yaxis.axis_label_text_font_size = '9pt'\n",
    "\n",
    "for name in units:\n",
    "    fig.line(activation_group.get_group(name)['batch'],\n",
    "             activation_group.get_group(name)['error'],\n",
    "             legend=name, color=units[name])\n",
    "bk.show(fig)"
   ]
  },
  {
   "cell_type": "markdown",
   "metadata": {},
   "source": [
    "Batch size affects both speed and accuracy. A larger batch size allows for faster computation because the gradient is calculated simultaneously for all the examples in the batch using matrix computation. This is especially true using GPU. On the other side, for improving accuracy, the optimal batch size is problem dependent. The gradient calculated for a batch size is an estimation of the true gradient. A larger batch size provides a better estimate for the gradient. However there might be two consideration worth doing. First a noisy estimate (smaller batch size) can be useful sometimes because it may help to escape or jump local minima. Second if the dataset is redundant (and in the case of a sinusodi it is) the gradient of a sufficent large batch (but not as large as the whole dataset) is quite similar to other batch's gradient and a good approximation of the true one. For example given a batch as large as the number of examples in a complete sinusoid cycle, the gradient for each batch is really similar in our example (the sinusoid repeat itself). For this reasons increasing the batch size in the example above does not improve sensibly the error for relu and tanh. Moreover it can be seen that sigmoid error actually gets worse as batch size increase. This is possibly due to saturation of sigmoid."
   ]
  },
  {
   "cell_type": "markdown",
   "metadata": {},
   "source": [
    "**Second test**: fix batch size and hidden units and vary learning rate and activation function. The batch size it is fixed at 50 and the number of hidden units is 10. You can change the learning rates to test with the slider below."
   ]
  },
  {
   "cell_type": "code",
   "execution_count": 48,
   "metadata": {
    "collapsed": true
   },
   "outputs": [],
   "source": [
    "batch_size = 50\n",
    "learning_source = ColumnDataSource(data=dict(rate=[]))"
   ]
  },
  {
   "cell_type": "code",
   "execution_count": 49,
   "metadata": {
    "collapsed": false
   },
   "outputs": [],
   "source": [
    "@interact(start=(1./10**3, 2./10**2, 1./10**3), stop=(1./10**2, 2./10, 1./10**2), inc=(1./10**3, 1./10**2, 1./10**2))\n",
    "def update_r(start=0.01, stop=0.1, inc=0.01):\n",
    "    learning_source.data['rate'] = np.arange(start, stop, inc)"
   ]
  },
  {
   "cell_type": "code",
   "execution_count": 50,
   "metadata": {
    "collapsed": true
   },
   "outputs": [],
   "source": [
    "errors = pd.DataFrame([a for a in multitest(units.keys(), [hidden_size],\n",
    "                                            [batch_size],  \n",
    "                                            learning_source.data['rate'], \n",
    "                                            X_train, y_train, X_test, y_test)])\n",
    "\n",
    "errors.columns = ['activation', 'hidden', 'batch', 'rate', 'error']"
   ]
  },
  {
   "cell_type": "code",
   "execution_count": 51,
   "metadata": {
    "collapsed": true
   },
   "outputs": [],
   "source": [
    "activation_group = errors.groupby('activation')"
   ]
  },
  {
   "cell_type": "code",
   "execution_count": 52,
   "metadata": {
    "collapsed": false
   },
   "outputs": [
    {
     "data": {
      "text/html": [
       "<script type=\"text/javascript\">\n",
       "        Bokeh.$(function() {\n",
       "        var all_models = [{\"attributes\": {\"tags\": [], \"doc\": null, \"mantissas\": [2, 5, 10], \"id\": \"a838563c-25c0-4d73-9662-9f60c69c45b0\", \"num_minor_ticks\": 5}, \"type\": \"BasicTicker\", \"id\": \"a838563c-25c0-4d73-9662-9f60c69c45b0\"}, {\"attributes\": {\"line_color\": {\"value\": \"blue\"}, \"line_alpha\": {\"value\": 1.0}, \"tags\": [], \"doc\": null, \"y\": {\"field\": \"y\"}, \"x\": {\"field\": \"x\"}, \"id\": \"a2841df6-27c2-4bc1-83c7-9662abf48113\"}, \"type\": \"Line\", \"id\": \"a2841df6-27c2-4bc1-83c7-9662abf48113\"}, {\"attributes\": {\"nonselection_glyph\": {\"type\": \"Line\", \"id\": \"43fe8047-47a3-4a65-ba31-0c650538e53f\"}, \"data_source\": {\"type\": \"ColumnDataSource\", \"id\": \"2c1ec124-322e-4166-bc16-ce207a8f0053\"}, \"tags\": [], \"doc\": null, \"selection_glyph\": null, \"id\": \"5253698b-f822-4540-b425-6d321772488c\", \"glyph\": {\"type\": \"Line\", \"id\": \"4b52128f-bcf2-422c-8573-d054e1f22fee\"}}, \"type\": \"GlyphRenderer\", \"id\": \"5253698b-f822-4540-b425-6d321772488c\"}, {\"subtype\": \"Figure\", \"type\": \"Plot\", \"id\": \"1495e44d-d148-4ab3-909f-3f20a94b3522\", \"attributes\": {\"x_range\": {\"type\": \"DataRange1d\", \"id\": \"7d82da39-c9c8-4f7d-9711-053e4b55cb24\"}, \"right\": [], \"tags\": [], \"tools\": [{\"type\": \"BoxSelectTool\", \"id\": \"7549e05a-353b-4abe-8ed9-682fbc4da814\"}, {\"type\": \"ResetTool\", \"id\": \"b5dd5ca5-2b1c-4789-8c74-4b6322bab739\"}, {\"type\": \"WheelZoomTool\", \"id\": \"5b7b23c4-5b7d-4ee8-9e4a-2eddb3b34871\"}, {\"type\": \"PreviewSaveTool\", \"id\": \"34e6b852-29f8-49c4-8f8c-fa17fa109bd0\"}], \"title\": null, \"extra_y_ranges\": {}, \"plot_width\": 500, \"renderers\": [{\"type\": \"LinearAxis\", \"id\": \"2186c359-d6ab-4837-8a32-4047303c028b\"}, {\"type\": \"Grid\", \"id\": \"8a1b60d3-762d-4510-8684-75abe960137f\"}, {\"type\": \"LinearAxis\", \"id\": \"f2be919c-883f-4e04-9ea4-22fed417dc7c\"}, {\"type\": \"Grid\", \"id\": \"b8d51c27-e3a2-47b4-8141-4f64c0afaf0b\"}, {\"type\": \"Legend\", \"id\": \"0641c910-7f6f-417a-8723-f7d3366c017f\"}, {\"type\": \"GlyphRenderer\", \"id\": \"b121dd4d-5b13-4b3d-8c65-cd0770c80bdb\"}, {\"type\": \"GlyphRenderer\", \"id\": \"f0df0849-fec6-4ec1-b63d-4267449db026\"}, {\"type\": \"GlyphRenderer\", \"id\": \"5253698b-f822-4540-b425-6d321772488c\"}], \"extra_x_ranges\": {}, \"plot_height\": 350, \"tool_events\": {\"type\": \"ToolEvents\", \"id\": \"9c4991d9-1e7a-4a29-9565-8b938b7ebee3\"}, \"above\": [], \"doc\": null, \"id\": \"1495e44d-d148-4ab3-909f-3f20a94b3522\", \"y_range\": {\"type\": \"DataRange1d\", \"id\": \"79756489-7dd8-4740-bc3d-f469b285ec47\"}, \"below\": [{\"type\": \"LinearAxis\", \"id\": \"2186c359-d6ab-4837-8a32-4047303c028b\"}], \"left\": [{\"type\": \"LinearAxis\", \"id\": \"f2be919c-883f-4e04-9ea4-22fed417dc7c\"}]}}, {\"attributes\": {\"plot\": {\"subtype\": \"Figure\", \"type\": \"Plot\", \"id\": \"1495e44d-d148-4ab3-909f-3f20a94b3522\"}, \"tags\": [], \"doc\": null, \"id\": \"b5dd5ca5-2b1c-4789-8c74-4b6322bab739\"}, \"type\": \"ResetTool\", \"id\": \"b5dd5ca5-2b1c-4789-8c74-4b6322bab739\"}, {\"attributes\": {\"plot\": {\"subtype\": \"Figure\", \"type\": \"Plot\", \"id\": \"1495e44d-d148-4ab3-909f-3f20a94b3522\"}, \"dimensions\": [\"width\", \"height\"], \"tags\": [], \"doc\": null, \"renderers\": [{\"type\": \"GlyphRenderer\", \"id\": \"b121dd4d-5b13-4b3d-8c65-cd0770c80bdb\"}, {\"type\": \"GlyphRenderer\", \"id\": \"f0df0849-fec6-4ec1-b63d-4267449db026\"}, {\"type\": \"GlyphRenderer\", \"id\": \"5253698b-f822-4540-b425-6d321772488c\"}], \"callback\": null, \"names\": [], \"id\": \"7549e05a-353b-4abe-8ed9-682fbc4da814\"}, \"type\": \"BoxSelectTool\", \"id\": \"7549e05a-353b-4abe-8ed9-682fbc4da814\"}, {\"attributes\": {\"geometries\": [], \"tags\": [], \"doc\": null, \"id\": \"9c4991d9-1e7a-4a29-9565-8b938b7ebee3\"}, \"type\": \"ToolEvents\", \"id\": \"9c4991d9-1e7a-4a29-9565-8b938b7ebee3\"}, {\"attributes\": {\"nonselection_glyph\": {\"type\": \"Line\", \"id\": \"67492b68-56b0-4f68-a726-45d85e52eb1a\"}, \"data_source\": {\"type\": \"ColumnDataSource\", \"id\": \"a3fa562f-803a-4b94-8ed8-458f21ffe04f\"}, \"tags\": [], \"doc\": null, \"selection_glyph\": null, \"id\": \"b121dd4d-5b13-4b3d-8c65-cd0770c80bdb\", \"glyph\": {\"type\": \"Line\", \"id\": \"a2841df6-27c2-4bc1-83c7-9662abf48113\"}}, \"type\": \"GlyphRenderer\", \"id\": \"b121dd4d-5b13-4b3d-8c65-cd0770c80bdb\"}, {\"attributes\": {\"doc\": null, \"id\": \"b2ff196b-90fa-47d9-9598-1006b642b40e\", \"tags\": []}, \"type\": \"BasicTickFormatter\", \"id\": \"b2ff196b-90fa-47d9-9598-1006b642b40e\"}, {\"attributes\": {\"column_names\": [\"y\", \"x\"], \"tags\": [], \"doc\": null, \"selected\": {\"2d\": {\"indices\": []}, \"1d\": {\"indices\": []}, \"0d\": {\"indices\": [], \"flag\": false}}, \"callback\": null, \"data\": {\"y\": [0.022309964419536872, 0.022263096846271493, 0.021441443305781405, 0.022693816021542922, 0.02209019869066539, 0.01992995999366246, 0.019819045650043936, 0.020321591025418223, 0.021448048538608662], \"x\": [0.01, 0.02, 0.03, 0.04, 0.05, 0.060000000000000005, 0.06999999999999999, 0.08, 0.09]}, \"id\": \"04129c7e-e019-491a-a0d4-6dc9ff5aa2ac\"}, \"type\": \"ColumnDataSource\", \"id\": \"04129c7e-e019-491a-a0d4-6dc9ff5aa2ac\"}, {\"attributes\": {\"plot\": {\"subtype\": \"Figure\", \"type\": \"Plot\", \"id\": \"1495e44d-d148-4ab3-909f-3f20a94b3522\"}, \"dimensions\": [\"width\", \"height\"], \"tags\": [], \"doc\": null, \"id\": \"5b7b23c4-5b7d-4ee8-9e4a-2eddb3b34871\"}, \"type\": \"WheelZoomTool\", \"id\": \"5b7b23c4-5b7d-4ee8-9e4a-2eddb3b34871\"}, {\"attributes\": {\"plot\": {\"subtype\": \"Figure\", \"type\": \"Plot\", \"id\": \"1495e44d-d148-4ab3-909f-3f20a94b3522\"}, \"tags\": [], \"doc\": null, \"id\": \"34e6b852-29f8-49c4-8f8c-fa17fa109bd0\"}, \"type\": \"PreviewSaveTool\", \"id\": \"34e6b852-29f8-49c4-8f8c-fa17fa109bd0\"}, {\"attributes\": {\"plot\": {\"subtype\": \"Figure\", \"type\": \"Plot\", \"id\": \"1495e44d-d148-4ab3-909f-3f20a94b3522\"}, \"axis_label_text_font_size\": {\"value\": \"9pt\"}, \"tags\": [], \"doc\": null, \"axis_label\": \"Error\", \"formatter\": {\"type\": \"BasicTickFormatter\", \"id\": \"eb117287-2c6b-4429-bbaa-05ed2b606e9a\"}, \"ticker\": {\"type\": \"BasicTicker\", \"id\": \"16575d2d-8d6a-43db-a2e2-5806ca1c50b5\"}, \"id\": \"f2be919c-883f-4e04-9ea4-22fed417dc7c\"}, \"type\": \"LinearAxis\", \"id\": \"f2be919c-883f-4e04-9ea4-22fed417dc7c\"}, {\"attributes\": {\"tags\": [], \"doc\": null, \"renderers\": [], \"callback\": null, \"names\": [], \"id\": \"7d82da39-c9c8-4f7d-9711-053e4b55cb24\"}, \"type\": \"DataRange1d\", \"id\": \"7d82da39-c9c8-4f7d-9711-053e4b55cb24\"}, {\"attributes\": {\"column_names\": [\"y\", \"x\"], \"tags\": [], \"doc\": null, \"selected\": {\"2d\": {\"indices\": []}, \"1d\": {\"indices\": []}, \"0d\": {\"indices\": [], \"flag\": false}}, \"callback\": null, \"data\": {\"y\": [0.04183908223651304, 0.04617849710808379, 0.033044326895240624, 0.01850608981500575, 0.01717629181767355, 0.017005357503994574, 0.017354336811223215, 0.016611000453987404, 0.016571503194760664], \"x\": [0.01, 0.02, 0.03, 0.04, 0.05, 0.060000000000000005, 0.06999999999999999, 0.08, 0.09]}, \"id\": \"a3fa562f-803a-4b94-8ed8-458f21ffe04f\"}, \"type\": \"ColumnDataSource\", \"id\": \"a3fa562f-803a-4b94-8ed8-458f21ffe04f\"}, {\"attributes\": {\"plot\": {\"subtype\": \"Figure\", \"type\": \"Plot\", \"id\": \"1495e44d-d148-4ab3-909f-3f20a94b3522\"}, \"tags\": [], \"doc\": null, \"dimension\": 1, \"ticker\": {\"type\": \"BasicTicker\", \"id\": \"16575d2d-8d6a-43db-a2e2-5806ca1c50b5\"}, \"id\": \"b8d51c27-e3a2-47b4-8141-4f64c0afaf0b\"}, \"type\": \"Grid\", \"id\": \"b8d51c27-e3a2-47b4-8141-4f64c0afaf0b\"}, {\"attributes\": {\"plot\": {\"subtype\": \"Figure\", \"type\": \"Plot\", \"id\": \"1495e44d-d148-4ab3-909f-3f20a94b3522\"}, \"tags\": [], \"doc\": null, \"dimension\": 0, \"ticker\": {\"type\": \"BasicTicker\", \"id\": \"a838563c-25c0-4d73-9662-9f60c69c45b0\"}, \"id\": \"8a1b60d3-762d-4510-8684-75abe960137f\"}, \"type\": \"Grid\", \"id\": \"8a1b60d3-762d-4510-8684-75abe960137f\"}, {\"attributes\": {\"line_color\": {\"value\": \"green\"}, \"line_alpha\": {\"value\": 1.0}, \"tags\": [], \"doc\": null, \"y\": {\"field\": \"y\"}, \"x\": {\"field\": \"x\"}, \"id\": \"c9ceddbd-679d-4ec9-b7c3-3a5af05d5dc9\"}, \"type\": \"Line\", \"id\": \"c9ceddbd-679d-4ec9-b7c3-3a5af05d5dc9\"}, {\"attributes\": {\"line_color\": {\"value\": \"red\"}, \"line_alpha\": {\"value\": 1.0}, \"tags\": [], \"doc\": null, \"y\": {\"field\": \"y\"}, \"x\": {\"field\": \"x\"}, \"id\": \"4b52128f-bcf2-422c-8573-d054e1f22fee\"}, \"type\": \"Line\", \"id\": \"4b52128f-bcf2-422c-8573-d054e1f22fee\"}, {\"attributes\": {\"line_color\": {\"value\": \"#1f77b4\"}, \"line_alpha\": {\"value\": 0.1}, \"tags\": [], \"doc\": null, \"y\": {\"field\": \"y\"}, \"x\": {\"field\": \"x\"}, \"id\": \"43fe8047-47a3-4a65-ba31-0c650538e53f\"}, \"type\": \"Line\", \"id\": \"43fe8047-47a3-4a65-ba31-0c650538e53f\"}, {\"attributes\": {\"plot\": {\"subtype\": \"Figure\", \"type\": \"Plot\", \"id\": \"1495e44d-d148-4ab3-909f-3f20a94b3522\"}, \"legends\": [[\"sigmoid\", [{\"type\": \"GlyphRenderer\", \"id\": \"b121dd4d-5b13-4b3d-8c65-cd0770c80bdb\"}]], [\"relu\", [{\"type\": \"GlyphRenderer\", \"id\": \"f0df0849-fec6-4ec1-b63d-4267449db026\"}]], [\"tanh\", [{\"type\": \"GlyphRenderer\", \"id\": \"5253698b-f822-4540-b425-6d321772488c\"}]]], \"tags\": [], \"doc\": null, \"id\": \"0641c910-7f6f-417a-8723-f7d3366c017f\"}, \"type\": \"Legend\", \"id\": \"0641c910-7f6f-417a-8723-f7d3366c017f\"}, {\"attributes\": {\"doc\": null, \"id\": \"eb117287-2c6b-4429-bbaa-05ed2b606e9a\", \"tags\": []}, \"type\": \"BasicTickFormatter\", \"id\": \"eb117287-2c6b-4429-bbaa-05ed2b606e9a\"}, {\"attributes\": {\"line_color\": {\"value\": \"#1f77b4\"}, \"line_alpha\": {\"value\": 0.1}, \"tags\": [], \"doc\": null, \"y\": {\"field\": \"y\"}, \"x\": {\"field\": \"x\"}, \"id\": \"0cb99dc4-e3ea-4989-acda-9e0e7d6ee555\"}, \"type\": \"Line\", \"id\": \"0cb99dc4-e3ea-4989-acda-9e0e7d6ee555\"}, {\"attributes\": {\"tags\": [], \"doc\": null, \"mantissas\": [2, 5, 10], \"id\": \"16575d2d-8d6a-43db-a2e2-5806ca1c50b5\", \"num_minor_ticks\": 5}, \"type\": \"BasicTicker\", \"id\": \"16575d2d-8d6a-43db-a2e2-5806ca1c50b5\"}, {\"attributes\": {\"column_names\": [\"y\", \"x\"], \"tags\": [], \"doc\": null, \"selected\": {\"2d\": {\"indices\": []}, \"1d\": {\"indices\": []}, \"0d\": {\"indices\": [], \"flag\": false}}, \"callback\": null, \"data\": {\"y\": [0.02244571080070137, 0.020025030263578842, 0.02048139604583143, 0.019847766509220773, 0.02067686543527823, 0.020285423310200085, 0.01824908434353249, 0.019852156378853, 0.01767079722595035], \"x\": [0.01, 0.02, 0.03, 0.04, 0.05, 0.060000000000000005, 0.06999999999999999, 0.08, 0.09]}, \"id\": \"2c1ec124-322e-4166-bc16-ce207a8f0053\"}, \"type\": \"ColumnDataSource\", \"id\": \"2c1ec124-322e-4166-bc16-ce207a8f0053\"}, {\"attributes\": {\"nonselection_glyph\": {\"type\": \"Line\", \"id\": \"0cb99dc4-e3ea-4989-acda-9e0e7d6ee555\"}, \"data_source\": {\"type\": \"ColumnDataSource\", \"id\": \"04129c7e-e019-491a-a0d4-6dc9ff5aa2ac\"}, \"tags\": [], \"doc\": null, \"selection_glyph\": null, \"id\": \"f0df0849-fec6-4ec1-b63d-4267449db026\", \"glyph\": {\"type\": \"Line\", \"id\": \"c9ceddbd-679d-4ec9-b7c3-3a5af05d5dc9\"}}, \"type\": \"GlyphRenderer\", \"id\": \"f0df0849-fec6-4ec1-b63d-4267449db026\"}, {\"attributes\": {\"line_color\": {\"value\": \"#1f77b4\"}, \"line_alpha\": {\"value\": 0.1}, \"tags\": [], \"doc\": null, \"y\": {\"field\": \"y\"}, \"x\": {\"field\": \"x\"}, \"id\": \"67492b68-56b0-4f68-a726-45d85e52eb1a\"}, \"type\": \"Line\", \"id\": \"67492b68-56b0-4f68-a726-45d85e52eb1a\"}, {\"attributes\": {\"plot\": {\"subtype\": \"Figure\", \"type\": \"Plot\", \"id\": \"1495e44d-d148-4ab3-909f-3f20a94b3522\"}, \"axis_label_text_font_size\": {\"value\": \"9pt\"}, \"tags\": [], \"doc\": null, \"axis_label\": \"Learning Rate\", \"formatter\": {\"type\": \"BasicTickFormatter\", \"id\": \"b2ff196b-90fa-47d9-9598-1006b642b40e\"}, \"ticker\": {\"type\": \"BasicTicker\", \"id\": \"a838563c-25c0-4d73-9662-9f60c69c45b0\"}, \"id\": \"2186c359-d6ab-4837-8a32-4047303c028b\"}, \"type\": \"LinearAxis\", \"id\": \"2186c359-d6ab-4837-8a32-4047303c028b\"}, {\"attributes\": {\"tags\": [], \"doc\": null, \"renderers\": [], \"callback\": null, \"names\": [], \"id\": \"79756489-7dd8-4740-bc3d-f469b285ec47\"}, \"type\": \"DataRange1d\", \"id\": \"79756489-7dd8-4740-bc3d-f469b285ec47\"}];\n",
       "        Bokeh.load_models(all_models);\n",
       "        var plots = [{'modeltype': 'Plot', 'elementid': '7d9b6f34-8234-4a85-8ace-0bd9cabf21cb', 'modelid': '1495e44d-d148-4ab3-909f-3f20a94b3522'}];\n",
       "        for (idx in plots) {\n",
       "        \tvar plot = plots[idx];\n",
       "        \tvar model = Bokeh.Collections(plot.modeltype).get(plot.modelid);\n",
       "        \tBokeh.logger.info('Realizing plot:')\n",
       "        \tBokeh.logger.info(' - modeltype: ' + plot.modeltype);\n",
       "        \tBokeh.logger.info(' - modelid: ' + plot.modelid);\n",
       "        \tBokeh.logger.info(' - elementid: ' + plot.elementid);\n",
       "        \tvar view = new model.default_view({\n",
       "        \t\tmodel: model,\n",
       "        \t\tel: '#' + plot.elementid\n",
       "        \t});\n",
       "        \tBokeh.index[plot.modelid] = view;\n",
       "        }\n",
       "    });\n",
       "    </script>\n",
       "<div class=\"plotdiv\" id=\"7d9b6f34-8234-4a85-8ace-0bd9cabf21cb\"></div>\n",
       "\n"
      ]
     },
     "metadata": {},
     "output_type": "display_data"
    }
   ],
   "source": [
    "fig = bk.figure(tools=tools, \n",
    "                plot_width=500, \n",
    "                plot_height=350, \n",
    "                title=None)\n",
    "fig.xaxis.axis_label = 'Learning Rate'\n",
    "fig.xaxis.axis_label_text_font_size = '9pt'\n",
    "fig.yaxis.axis_label = 'Error'\n",
    "fig.yaxis.axis_label_text_font_size = '9pt'\n",
    "\n",
    "for name in units:\n",
    "    fig.line(activation_group.get_group(name)['rate'],\n",
    "             activation_group.get_group(name)['error'],\n",
    "             legend=name, color=units[name])\n",
    "bk.show(fig)"
   ]
  },
  {
   "cell_type": "markdown",
   "metadata": {},
   "source": [
    "Learning rate affects the speed at which the neural network is learning. With a larger learning rate the speed increases and, since the number of epoch is fixed, it achieves better (lower) error. However increasing further learning rate increase the magnitude of the weights and potentially they become become too big with a resulting tiny gradient, reaching a plateu and do not increase accuracy further. Try to increase learning rate up to 0.2 and see what happens."
   ]
  },
  {
   "cell_type": "markdown",
   "metadata": {},
   "source": [
    "**Third test**: fix batch size and learning rate and vary number of hidden units and activation function. You can change the number of hidden units to test with the slider below. "
   ]
  },
  {
   "cell_type": "code",
   "execution_count": 53,
   "metadata": {
    "collapsed": true
   },
   "outputs": [],
   "source": [
    "batch_size = 50\n",
    "hidden_source = ColumnDataSource(data=dict(n_hidden=[]))"
   ]
  },
  {
   "cell_type": "code",
   "execution_count": 54,
   "metadata": {
    "collapsed": true
   },
   "outputs": [],
   "source": [
    "@interact(start=(0,100,10), stop=(10**2, 10**3, 100), inc=(10, 100, 10))\n",
    "def update_h(start=10, stop=100, inc=10):\n",
    "    hidden_source.data['n_hidden'] = np.arange(start, stop, inc)"
   ]
  },
  {
   "cell_type": "code",
   "execution_count": 55,
   "metadata": {
    "collapsed": true
   },
   "outputs": [],
   "source": [
    "errors = pd.DataFrame([a for a in multitest(units.keys(), hidden_source.data['n_hidden'],\n",
    "                                            [batch_size],  \n",
    "                                            [learning_rate], \n",
    "                                            X_train, y_train, X_test, y_test)])\n",
    "\n",
    "errors.columns = ['activation', 'hidden', 'batch', 'rate', 'error']"
   ]
  },
  {
   "cell_type": "code",
   "execution_count": 56,
   "metadata": {
    "collapsed": true
   },
   "outputs": [],
   "source": [
    "activation_group = errors.groupby('activation')"
   ]
  },
  {
   "cell_type": "code",
   "execution_count": 57,
   "metadata": {
    "collapsed": false
   },
   "outputs": [
    {
     "data": {
      "text/html": [
       "<script type=\"text/javascript\">\n",
       "        Bokeh.$(function() {\n",
       "        var all_models = [{\"attributes\": {\"plot\": {\"subtype\": \"Figure\", \"type\": \"Plot\", \"id\": \"12b8b30f-0125-47de-83f0-8427e2de6c3d\"}, \"legends\": [[\"sigmoid\", [{\"type\": \"GlyphRenderer\", \"id\": \"642fb4a7-7919-432a-9e62-385917a19a49\"}]], [\"relu\", [{\"type\": \"GlyphRenderer\", \"id\": \"d63ffee5-0daa-472e-9476-9a51227156ac\"}]], [\"tanh\", [{\"type\": \"GlyphRenderer\", \"id\": \"5a259d75-f467-455c-94d1-a9ad4863f570\"}]]], \"tags\": [], \"doc\": null, \"id\": \"10885238-05ed-4245-88fc-9992d28aa56d\"}, \"type\": \"Legend\", \"id\": \"10885238-05ed-4245-88fc-9992d28aa56d\"}, {\"attributes\": {\"line_color\": {\"value\": \"red\"}, \"line_alpha\": {\"value\": 1.0}, \"tags\": [], \"doc\": null, \"y\": {\"field\": \"y\"}, \"x\": {\"field\": \"x\"}, \"id\": \"fe903e94-65bb-4475-8bd0-575c474df8aa\"}, \"type\": \"Line\", \"id\": \"fe903e94-65bb-4475-8bd0-575c474df8aa\"}, {\"attributes\": {\"plot\": {\"subtype\": \"Figure\", \"type\": \"Plot\", \"id\": \"12b8b30f-0125-47de-83f0-8427e2de6c3d\"}, \"tags\": [], \"doc\": null, \"id\": \"90cc3d86-6626-4f9a-97dc-bb64f2267c14\"}, \"type\": \"PreviewSaveTool\", \"id\": \"90cc3d86-6626-4f9a-97dc-bb64f2267c14\"}, {\"attributes\": {\"line_color\": {\"value\": \"blue\"}, \"line_alpha\": {\"value\": 1.0}, \"tags\": [], \"doc\": null, \"y\": {\"field\": \"y\"}, \"x\": {\"field\": \"x\"}, \"id\": \"8891b452-1763-41cf-a73d-a6667a8d2c1a\"}, \"type\": \"Line\", \"id\": \"8891b452-1763-41cf-a73d-a6667a8d2c1a\"}, {\"attributes\": {\"tags\": [], \"doc\": null, \"renderers\": [], \"callback\": null, \"names\": [], \"id\": \"f9bae192-c40f-4e81-942f-cc85b4c589b2\"}, \"type\": \"DataRange1d\", \"id\": \"f9bae192-c40f-4e81-942f-cc85b4c589b2\"}, {\"attributes\": {\"plot\": {\"subtype\": \"Figure\", \"type\": \"Plot\", \"id\": \"12b8b30f-0125-47de-83f0-8427e2de6c3d\"}, \"tags\": [], \"doc\": null, \"dimension\": 1, \"ticker\": {\"type\": \"BasicTicker\", \"id\": \"5b435b0e-1182-4f37-89ee-d6cf315c8e5c\"}, \"id\": \"aeedc43d-3c51-4e6c-9d75-df66512309fd\"}, \"type\": \"Grid\", \"id\": \"aeedc43d-3c51-4e6c-9d75-df66512309fd\"}, {\"attributes\": {\"doc\": null, \"id\": \"781d7291-8836-433a-bc53-96593311c2ab\", \"tags\": []}, \"type\": \"BasicTickFormatter\", \"id\": \"781d7291-8836-433a-bc53-96593311c2ab\"}, {\"attributes\": {\"plot\": {\"subtype\": \"Figure\", \"type\": \"Plot\", \"id\": \"12b8b30f-0125-47de-83f0-8427e2de6c3d\"}, \"tags\": [], \"doc\": null, \"id\": \"a7da064a-e401-44f0-a8e3-73148ac86090\"}, \"type\": \"ResetTool\", \"id\": \"a7da064a-e401-44f0-a8e3-73148ac86090\"}, {\"attributes\": {\"line_color\": {\"value\": \"#1f77b4\"}, \"line_alpha\": {\"value\": 0.1}, \"tags\": [], \"doc\": null, \"y\": {\"field\": \"y\"}, \"x\": {\"field\": \"x\"}, \"id\": \"af524fe3-e475-44a3-aa23-977912cec6b1\"}, \"type\": \"Line\", \"id\": \"af524fe3-e475-44a3-aa23-977912cec6b1\"}, {\"attributes\": {\"line_color\": {\"value\": \"#1f77b4\"}, \"line_alpha\": {\"value\": 0.1}, \"tags\": [], \"doc\": null, \"y\": {\"field\": \"y\"}, \"x\": {\"field\": \"x\"}, \"id\": \"08394116-392c-4a6d-beae-3ff99a8f7ce3\"}, \"type\": \"Line\", \"id\": \"08394116-392c-4a6d-beae-3ff99a8f7ce3\"}, {\"attributes\": {\"line_color\": {\"value\": \"#1f77b4\"}, \"line_alpha\": {\"value\": 0.1}, \"tags\": [], \"doc\": null, \"y\": {\"field\": \"y\"}, \"x\": {\"field\": \"x\"}, \"id\": \"ae374842-e210-4c25-a80c-abff83a40147\"}, \"type\": \"Line\", \"id\": \"ae374842-e210-4c25-a80c-abff83a40147\"}, {\"attributes\": {\"plot\": {\"subtype\": \"Figure\", \"type\": \"Plot\", \"id\": \"12b8b30f-0125-47de-83f0-8427e2de6c3d\"}, \"dimensions\": [\"width\", \"height\"], \"tags\": [], \"doc\": null, \"id\": \"353dcbd0-b38f-4c65-8c41-43b9d253253f\"}, \"type\": \"WheelZoomTool\", \"id\": \"353dcbd0-b38f-4c65-8c41-43b9d253253f\"}, {\"attributes\": {\"plot\": {\"subtype\": \"Figure\", \"type\": \"Plot\", \"id\": \"12b8b30f-0125-47de-83f0-8427e2de6c3d\"}, \"axis_label_text_font_size\": {\"value\": \"9pt\"}, \"tags\": [], \"doc\": null, \"axis_label\": \"Error\", \"formatter\": {\"type\": \"BasicTickFormatter\", \"id\": \"781d7291-8836-433a-bc53-96593311c2ab\"}, \"ticker\": {\"type\": \"BasicTicker\", \"id\": \"5b435b0e-1182-4f37-89ee-d6cf315c8e5c\"}, \"id\": \"8b8a1776-d6da-4b31-b644-33accec9a004\"}, \"type\": \"LinearAxis\", \"id\": \"8b8a1776-d6da-4b31-b644-33accec9a004\"}, {\"attributes\": {\"plot\": {\"subtype\": \"Figure\", \"type\": \"Plot\", \"id\": \"12b8b30f-0125-47de-83f0-8427e2de6c3d\"}, \"dimensions\": [\"width\", \"height\"], \"tags\": [], \"doc\": null, \"renderers\": [{\"type\": \"GlyphRenderer\", \"id\": \"642fb4a7-7919-432a-9e62-385917a19a49\"}, {\"type\": \"GlyphRenderer\", \"id\": \"d63ffee5-0daa-472e-9476-9a51227156ac\"}, {\"type\": \"GlyphRenderer\", \"id\": \"5a259d75-f467-455c-94d1-a9ad4863f570\"}], \"callback\": null, \"names\": [], \"id\": \"acdaf9e9-a811-4f32-acec-b479d429f4e6\"}, \"type\": \"BoxSelectTool\", \"id\": \"acdaf9e9-a811-4f32-acec-b479d429f4e6\"}, {\"attributes\": {\"nonselection_glyph\": {\"type\": \"Line\", \"id\": \"af524fe3-e475-44a3-aa23-977912cec6b1\"}, \"data_source\": {\"type\": \"ColumnDataSource\", \"id\": \"a29e7b7e-502a-427a-a00a-2bc3cf47e0db\"}, \"tags\": [], \"doc\": null, \"selection_glyph\": null, \"id\": \"642fb4a7-7919-432a-9e62-385917a19a49\", \"glyph\": {\"type\": \"Line\", \"id\": \"8891b452-1763-41cf-a73d-a6667a8d2c1a\"}}, \"type\": \"GlyphRenderer\", \"id\": \"642fb4a7-7919-432a-9e62-385917a19a49\"}, {\"attributes\": {\"line_color\": {\"value\": \"green\"}, \"line_alpha\": {\"value\": 1.0}, \"tags\": [], \"doc\": null, \"y\": {\"field\": \"y\"}, \"x\": {\"field\": \"x\"}, \"id\": \"00505038-5014-4131-8072-825ab5c18b4c\"}, \"type\": \"Line\", \"id\": \"00505038-5014-4131-8072-825ab5c18b4c\"}, {\"attributes\": {\"nonselection_glyph\": {\"type\": \"Line\", \"id\": \"ae374842-e210-4c25-a80c-abff83a40147\"}, \"data_source\": {\"type\": \"ColumnDataSource\", \"id\": \"d41fd3dd-8773-4117-b088-0d93db7102ee\"}, \"tags\": [], \"doc\": null, \"selection_glyph\": null, \"id\": \"5a259d75-f467-455c-94d1-a9ad4863f570\", \"glyph\": {\"type\": \"Line\", \"id\": \"fe903e94-65bb-4475-8bd0-575c474df8aa\"}}, \"type\": \"GlyphRenderer\", \"id\": \"5a259d75-f467-455c-94d1-a9ad4863f570\"}, {\"attributes\": {\"column_names\": [\"y\", \"x\"], \"tags\": [], \"doc\": null, \"selected\": {\"2d\": {\"indices\": []}, \"1d\": {\"indices\": []}, \"0d\": {\"indices\": [], \"flag\": false}}, \"callback\": null, \"data\": {\"y\": [0.041948795912764576, 0.03165401018629881, 0.026869679512146413, 0.022461891658173028, 0.018686923202044847, 0.017900667621074378, 0.017615806102365014, 0.017887491939308938, 0.0184477692288543], \"x\": [10, 20, 30, 40, 50, 60, 70, 80, 90]}, \"id\": \"a29e7b7e-502a-427a-a00a-2bc3cf47e0db\"}, \"type\": \"ColumnDataSource\", \"id\": \"a29e7b7e-502a-427a-a00a-2bc3cf47e0db\"}, {\"attributes\": {\"tags\": [], \"doc\": null, \"mantissas\": [2, 5, 10], \"id\": \"5b435b0e-1182-4f37-89ee-d6cf315c8e5c\", \"num_minor_ticks\": 5}, \"type\": \"BasicTicker\", \"id\": \"5b435b0e-1182-4f37-89ee-d6cf315c8e5c\"}, {\"attributes\": {\"column_names\": [\"y\", \"x\"], \"tags\": [], \"doc\": null, \"selected\": {\"2d\": {\"indices\": []}, \"1d\": {\"indices\": []}, \"0d\": {\"indices\": [], \"flag\": false}}, \"callback\": null, \"data\": {\"y\": [0.024080235634987072, 0.02189234728385753, 0.022261432002115826, 0.02276136197858544, 0.021604058244552964, 0.0226840324237046, 0.021670092526366033, 0.024674808079368483, 0.022947436498546487], \"x\": [10, 20, 30, 40, 50, 60, 70, 80, 90]}, \"id\": \"31def52f-5374-4898-b068-c0c1384914e0\"}, \"type\": \"ColumnDataSource\", \"id\": \"31def52f-5374-4898-b068-c0c1384914e0\"}, {\"attributes\": {\"doc\": null, \"id\": \"7a603583-a970-48f6-927b-d975ddaed74e\", \"tags\": []}, \"type\": \"BasicTickFormatter\", \"id\": \"7a603583-a970-48f6-927b-d975ddaed74e\"}, {\"subtype\": \"Figure\", \"type\": \"Plot\", \"id\": \"12b8b30f-0125-47de-83f0-8427e2de6c3d\", \"attributes\": {\"x_range\": {\"type\": \"DataRange1d\", \"id\": \"f9bae192-c40f-4e81-942f-cc85b4c589b2\"}, \"right\": [], \"tags\": [], \"tools\": [{\"type\": \"BoxSelectTool\", \"id\": \"acdaf9e9-a811-4f32-acec-b479d429f4e6\"}, {\"type\": \"ResetTool\", \"id\": \"a7da064a-e401-44f0-a8e3-73148ac86090\"}, {\"type\": \"WheelZoomTool\", \"id\": \"353dcbd0-b38f-4c65-8c41-43b9d253253f\"}, {\"type\": \"PreviewSaveTool\", \"id\": \"90cc3d86-6626-4f9a-97dc-bb64f2267c14\"}], \"title\": null, \"extra_y_ranges\": {}, \"plot_width\": 500, \"renderers\": [{\"type\": \"LinearAxis\", \"id\": \"31e47c5c-988b-41d6-a8b1-c86cabd6e00c\"}, {\"type\": \"Grid\", \"id\": \"ea700e3a-c974-4752-b6fd-9320571183d9\"}, {\"type\": \"LinearAxis\", \"id\": \"8b8a1776-d6da-4b31-b644-33accec9a004\"}, {\"type\": \"Grid\", \"id\": \"aeedc43d-3c51-4e6c-9d75-df66512309fd\"}, {\"type\": \"Legend\", \"id\": \"10885238-05ed-4245-88fc-9992d28aa56d\"}, {\"type\": \"GlyphRenderer\", \"id\": \"642fb4a7-7919-432a-9e62-385917a19a49\"}, {\"type\": \"GlyphRenderer\", \"id\": \"d63ffee5-0daa-472e-9476-9a51227156ac\"}, {\"type\": \"GlyphRenderer\", \"id\": \"5a259d75-f467-455c-94d1-a9ad4863f570\"}], \"extra_x_ranges\": {}, \"plot_height\": 350, \"tool_events\": {\"type\": \"ToolEvents\", \"id\": \"d73dd53d-92c0-41b6-8835-c135ba678e72\"}, \"above\": [], \"doc\": null, \"id\": \"12b8b30f-0125-47de-83f0-8427e2de6c3d\", \"y_range\": {\"type\": \"DataRange1d\", \"id\": \"df69b0ce-50ea-46b4-bd1f-6966731af22b\"}, \"below\": [{\"type\": \"LinearAxis\", \"id\": \"31e47c5c-988b-41d6-a8b1-c86cabd6e00c\"}], \"left\": [{\"type\": \"LinearAxis\", \"id\": \"8b8a1776-d6da-4b31-b644-33accec9a004\"}]}}, {\"attributes\": {\"column_names\": [\"y\", \"x\"], \"tags\": [], \"doc\": null, \"selected\": {\"2d\": {\"indices\": []}, \"1d\": {\"indices\": []}, \"0d\": {\"indices\": [], \"flag\": false}}, \"callback\": null, \"data\": {\"y\": [0.02425076254211701, 0.020959771834577885, 0.024800185070257826, 0.02217709507243505, 0.022871539879463415, 0.02257365298167299, 0.02348552428150133, 0.023801258854876568, 0.023641912536502906], \"x\": [10, 20, 30, 40, 50, 60, 70, 80, 90]}, \"id\": \"d41fd3dd-8773-4117-b088-0d93db7102ee\"}, \"type\": \"ColumnDataSource\", \"id\": \"d41fd3dd-8773-4117-b088-0d93db7102ee\"}, {\"attributes\": {\"tags\": [], \"doc\": null, \"renderers\": [], \"callback\": null, \"names\": [], \"id\": \"df69b0ce-50ea-46b4-bd1f-6966731af22b\"}, \"type\": \"DataRange1d\", \"id\": \"df69b0ce-50ea-46b4-bd1f-6966731af22b\"}, {\"attributes\": {\"plot\": {\"subtype\": \"Figure\", \"type\": \"Plot\", \"id\": \"12b8b30f-0125-47de-83f0-8427e2de6c3d\"}, \"tags\": [], \"doc\": null, \"dimension\": 0, \"ticker\": {\"type\": \"BasicTicker\", \"id\": \"385046d5-0d4c-489c-bf2a-3160e1fb20fb\"}, \"id\": \"ea700e3a-c974-4752-b6fd-9320571183d9\"}, \"type\": \"Grid\", \"id\": \"ea700e3a-c974-4752-b6fd-9320571183d9\"}, {\"attributes\": {\"nonselection_glyph\": {\"type\": \"Line\", \"id\": \"08394116-392c-4a6d-beae-3ff99a8f7ce3\"}, \"data_source\": {\"type\": \"ColumnDataSource\", \"id\": \"31def52f-5374-4898-b068-c0c1384914e0\"}, \"tags\": [], \"doc\": null, \"selection_glyph\": null, \"id\": \"d63ffee5-0daa-472e-9476-9a51227156ac\", \"glyph\": {\"type\": \"Line\", \"id\": \"00505038-5014-4131-8072-825ab5c18b4c\"}}, \"type\": \"GlyphRenderer\", \"id\": \"d63ffee5-0daa-472e-9476-9a51227156ac\"}, {\"attributes\": {\"tags\": [], \"doc\": null, \"mantissas\": [2, 5, 10], \"id\": \"385046d5-0d4c-489c-bf2a-3160e1fb20fb\", \"num_minor_ticks\": 5}, \"type\": \"BasicTicker\", \"id\": \"385046d5-0d4c-489c-bf2a-3160e1fb20fb\"}, {\"attributes\": {\"plot\": {\"subtype\": \"Figure\", \"type\": \"Plot\", \"id\": \"12b8b30f-0125-47de-83f0-8427e2de6c3d\"}, \"axis_label_text_font_size\": {\"value\": \"9pt\"}, \"tags\": [], \"doc\": null, \"axis_label\": \"# hidden unit\", \"formatter\": {\"type\": \"BasicTickFormatter\", \"id\": \"7a603583-a970-48f6-927b-d975ddaed74e\"}, \"ticker\": {\"type\": \"BasicTicker\", \"id\": \"385046d5-0d4c-489c-bf2a-3160e1fb20fb\"}, \"id\": \"31e47c5c-988b-41d6-a8b1-c86cabd6e00c\"}, \"type\": \"LinearAxis\", \"id\": \"31e47c5c-988b-41d6-a8b1-c86cabd6e00c\"}, {\"attributes\": {\"geometries\": [], \"tags\": [], \"doc\": null, \"id\": \"d73dd53d-92c0-41b6-8835-c135ba678e72\"}, \"type\": \"ToolEvents\", \"id\": \"d73dd53d-92c0-41b6-8835-c135ba678e72\"}];\n",
       "        Bokeh.load_models(all_models);\n",
       "        var plots = [{'modeltype': 'Plot', 'elementid': '560b10e1-6cef-49f8-96d4-54a3ac1c9dd8', 'modelid': '12b8b30f-0125-47de-83f0-8427e2de6c3d'}];\n",
       "        for (idx in plots) {\n",
       "        \tvar plot = plots[idx];\n",
       "        \tvar model = Bokeh.Collections(plot.modeltype).get(plot.modelid);\n",
       "        \tBokeh.logger.info('Realizing plot:')\n",
       "        \tBokeh.logger.info(' - modeltype: ' + plot.modeltype);\n",
       "        \tBokeh.logger.info(' - modelid: ' + plot.modelid);\n",
       "        \tBokeh.logger.info(' - elementid: ' + plot.elementid);\n",
       "        \tvar view = new model.default_view({\n",
       "        \t\tmodel: model,\n",
       "        \t\tel: '#' + plot.elementid\n",
       "        \t});\n",
       "        \tBokeh.index[plot.modelid] = view;\n",
       "        }\n",
       "    });\n",
       "    </script>\n",
       "<div class=\"plotdiv\" id=\"560b10e1-6cef-49f8-96d4-54a3ac1c9dd8\"></div>\n",
       "\n"
      ]
     },
     "metadata": {},
     "output_type": "display_data"
    }
   ],
   "source": [
    "fig = bk.figure(tools=tools, \n",
    "                plot_width=500, \n",
    "                plot_height=350, \n",
    "                title=None)\n",
    "fig.xaxis.axis_label = '# hidden unit'\n",
    "fig.xaxis.axis_label_text_font_size = '9pt'\n",
    "fig.yaxis.axis_label = 'Error'\n",
    "fig.yaxis.axis_label_text_font_size = '9pt'\n",
    "\n",
    "for name in units:\n",
    "    fig.line(activation_group.get_group(name)['hidden'],\n",
    "             activation_group.get_group(name)['error'],\n",
    "             legend=name, color=units[name])\n",
    "bk.show(fig)"
   ]
  },
  {
   "cell_type": "markdown",
   "metadata": {},
   "source": [
    "In general the number of hidden units is a parameter that depends on several aspects, some of them are: the number of input and output units, the number of training cases, the amount of noise, the complexity of the function to be learned, the activation function, the training algorithm and the amount of regularization.\n",
    "\n",
    "The best number of hidden units is usually determined by training a large number of NN and pick the one that perform the best. As a rule of thumb, having too few hidden units may result in an higher training and test error due to underfitting. Conversely too many hidden units may get low training error but high test error this time due to overfitting.\n",
    "\n",
    "In our example it seems that relu and tanh are not strongly affected by the number of hidden units. This indicates that the learning function is too simple for the task and changing the number of hidden units does not increase its accuracy. On the contrary sigmoid shows a somewaht erratic behavior and the number of hiddend units makes the error vary consistently."
   ]
  },
  {
   "cell_type": "markdown",
   "metadata": {},
   "source": [
    "## 5 Tuning Learning Rate"
   ]
  },
  {
   "cell_type": "markdown",
   "metadata": {},
   "source": [
    "Learning rate is an important parameter. A good choice of learning rate is vital for the netural network to learn properly. However selecting and using a fixed learning rate can be tricky. If we use a big learning rate, the learning is sped up but the weights of each hidden unit will become either very big and positive or very big and negative and the error derivative will become tiny. This is a plateau, not a local minimum. In order to speed up learning and avoiding to finish in a plateau it is possible to vary learning rate adaptively. In the following sections we'll look at two methods to do that. \n",
    "\n",
    "The settings for this experiment are fixed at the best combination of parameters found in previous experiments. Batch size, number of hidden unit and activation function are fixed, we are interested in showing that learning rate can be set without worrying too much to find the best possible value."
   ]
  },
  {
   "cell_type": "markdown",
   "metadata": {
    "collapsed": true
   },
   "source": [
    "### 5.1 Momentum Method"
   ]
  },
  {
   "cell_type": "markdown",
   "metadata": {},
   "source": [
    "To speed up learning, instead of using gradient to change the weights, momentum uses the gradient to change velocity. At the beginning the weights are updated by the gradient but once they acquire velocity they no longer do steepest descent. The momentum they acquired make them go in the previous direction. The `momentum` parameter is a decay factor for the velocity at previous time. Nesterov is a particular type of momentum where the gradient is not calculated at the current position and then updated with the past velocity, but it is calculated at the position after we update it with the past velocity. "
   ]
  },
  {
   "cell_type": "code",
   "execution_count": 58,
   "metadata": {
    "collapsed": false
   },
   "outputs": [],
   "source": [
    "batch_size = 50     # Minibatch size (how many examples to process in parallel)\n",
    "backend = 'cpu'     # use gpu for GPU\n",
    "hidden_size = 20    # Number of hidden units \n",
    "output_size = 1    # Number of output units (one)\n",
    "learning_rate = 0.01\n",
    "momentum_coef = 0.9\n",
    "activation = Tanh()\n",
    "\n",
    "logger = logging.getLogger()\n",
    "be = gen_backend(backend=backend,\n",
    "                 batch_size=batch_size, \n",
    "                 device_id=0,\n",
    "                 stochastic_round=True)\n",
    "\n",
    "train_set = DataIterator(X_train.astype(np.float32), y_train.astype(np.float32), \n",
    "                         make_onehot=False)\n",
    "\n",
    "test_set = DataIterator(X_test.astype(np.float32), y_test.astype(np.float32), \n",
    "                        make_onehot=False)\n",
    "\n",
    "init_norm = Gaussian(loc=0.0, scale=0.05)\n",
    "optimizer = GradientDescentMomentum(learning_rate, momentum_coef=momentum_coef,\n",
    "                                    stochastic_round=True)\n",
    "\n",
    "hidden_layer = Affine(nout=hidden_size, init=init_norm, activation=activation)\n",
    "output_layer = Affine(nout=output_size, init=init_norm)\n",
    "\n",
    "layers = [hidden_layer, output_layer]\n",
    "\n",
    "cost = GeneralizedCost(costfunc=MeanSquared())\n",
    "\n",
    "nn_momentum = Model(layers=layers)\n",
    "\n",
    "callbacks = Callbacks(nn_momentum, train_set, progress_bar=False, output_file=None)"
   ]
  },
  {
   "cell_type": "code",
   "execution_count": 59,
   "metadata": {
    "collapsed": false
   },
   "outputs": [
    {
     "name": "stdout",
     "output_type": "stream",
     "text": [
      "Model Error: 0.018703\n"
     ]
    }
   ],
   "source": [
    "epochs = 50        # Total number of passes over all examples (epochs).\n",
    "\n",
    "nn_momentum.fit(train_set, optimizer=optimizer, num_epochs=epochs, cost=cost, callbacks=callbacks)\n",
    "preds = nn_momentum.get_outputs(test_set)\n",
    "err = np.sqrt(sk.metrics.mean_squared_error(preds, y_test))\n",
    "print('Model Error: %f' % err)"
   ]
  },
  {
   "cell_type": "code",
   "execution_count": 60,
   "metadata": {
    "collapsed": false
   },
   "outputs": [
    {
     "data": {
      "text/html": [
       "<script type=\"text/javascript\">\n",
       "        Bokeh.$(function() {\n",
       "        var all_models = [{\"attributes\": {\"tags\": [], \"doc\": null, \"renderers\": [], \"callback\": null, \"names\": [], \"id\": \"75546b25-be70-48e2-9bea-83badb5c4582\"}, \"type\": \"DataRange1d\", \"id\": \"75546b25-be70-48e2-9bea-83badb5c4582\"}, {\"attributes\": {\"plot\": {\"subtype\": \"Figure\", \"type\": \"Plot\", \"id\": \"e2101e0b-740a-49eb-baa6-98a82fac815c\"}, \"tags\": [], \"doc\": null, \"formatter\": {\"type\": \"BasicTickFormatter\", \"id\": \"95a6b555-0eb7-4345-9316-480a1b01ba7d\"}, \"ticker\": {\"type\": \"BasicTicker\", \"id\": \"b2246559-c599-460d-a0ae-eed3d6c0ea1f\"}, \"id\": \"d8467c71-13f9-4f00-8a69-f05ff3c01742\"}, \"type\": \"LinearAxis\", \"id\": \"d8467c71-13f9-4f00-8a69-f05ff3c01742\"}, {\"attributes\": {\"line_color\": {\"value\": \"#1f77b4\"}, \"line_alpha\": {\"value\": 0.1}, \"tags\": [], \"doc\": null, \"y\": {\"field\": \"y\"}, \"x\": {\"field\": \"x\"}, \"id\": \"f63f007c-2687-4420-b399-73a957e2e713\"}, \"type\": \"Line\", \"id\": \"f63f007c-2687-4420-b399-73a957e2e713\"}, {\"attributes\": {\"tags\": [], \"doc\": null, \"mantissas\": [2, 5, 10], \"id\": \"b2246559-c599-460d-a0ae-eed3d6c0ea1f\", \"num_minor_ticks\": 5}, \"type\": \"BasicTicker\", \"id\": \"b2246559-c599-460d-a0ae-eed3d6c0ea1f\"}, {\"attributes\": {\"line_color\": {\"value\": \"#1f77b4\"}, \"line_alpha\": {\"value\": 0.1}, \"tags\": [], \"doc\": null, \"y\": {\"field\": \"y\"}, \"x\": {\"field\": \"x\"}, \"id\": \"624342ce-add0-4822-af0c-cea25c8955f8\"}, \"type\": \"Line\", \"id\": \"624342ce-add0-4822-af0c-cea25c8955f8\"}, {\"attributes\": {\"line_color\": {\"value\": \"#1f77b4\"}, \"line_alpha\": {\"value\": 0.1}, \"fill_color\": {\"value\": \"#1f77b4\"}, \"tags\": [], \"doc\": null, \"fill_alpha\": {\"value\": 0.1}, \"y\": {\"field\": \"y\"}, \"x\": {\"field\": \"x\"}, \"id\": \"4be0bf37-e48a-4b41-b511-7c94ebbc8b66\", \"size\": {\"units\": \"screen\", \"value\": 2}}, \"type\": \"Circle\", \"id\": \"4be0bf37-e48a-4b41-b511-7c94ebbc8b66\"}, {\"attributes\": {\"plot\": {\"subtype\": \"Figure\", \"type\": \"Plot\", \"id\": \"e2101e0b-740a-49eb-baa6-98a82fac815c\"}, \"tags\": [], \"doc\": null, \"dimension\": 0, \"ticker\": {\"type\": \"BasicTicker\", \"id\": \"b2246559-c599-460d-a0ae-eed3d6c0ea1f\"}, \"id\": \"eb8c9e36-ace1-4283-b79d-ca0005480e36\"}, \"type\": \"Grid\", \"id\": \"eb8c9e36-ace1-4283-b79d-ca0005480e36\"}, {\"attributes\": {\"tags\": [], \"doc\": null, \"mantissas\": [2, 5, 10], \"id\": \"aaa12c37-3f2e-4649-ad45-e3bcaee6f1c2\", \"num_minor_ticks\": 5}, \"type\": \"BasicTicker\", \"id\": \"aaa12c37-3f2e-4649-ad45-e3bcaee6f1c2\"}, {\"attributes\": {\"column_names\": [\"y\", \"x\"], \"tags\": [], \"doc\": null, \"selected\": {\"2d\": {\"indices\": []}, \"1d\": {\"indices\": []}, \"0d\": {\"indices\": [], \"flag\": false}}, \"callback\": null, \"data\": {\"y\": [-0.003416065126657486, 0.05770552158355713, 0.10287253558635712, 0.17691028118133545, 0.2350928634405136, 0.31623491644859314, 0.3838813900947571, 0.42616650462150574, 0.4686276316642761, 0.5169234275817871, 0.5838966369628906, 0.6267043948173523, 0.6818090677261353, 0.7244701385498047, 0.7678253650665283, 0.8088064193725586, 0.8285648822784424, 0.8701568841934204, 0.8998056054115295, 0.9358229637145996, 0.9618348479270935, 0.9777621030807495, 1.004886507987976, 1.0052216053009033, 0.9995024800300598, 1.0084186792373657, 1.0220141410827637, 1.0107014179229736, 0.9924005270004272, 0.9643374085426331, 0.965523898601532, 0.9237425923347473, 0.9331254363059998, 0.8924518823623657, 0.8595227003097534, 0.8383803367614746, 0.7890934944152832, 0.7513775825500488, 0.6902576684951782, 0.6743711233139038, 0.6120088696479797, 0.554438054561615, 0.5029608011245728, 0.45809808373451233, 0.39522552490234375, 0.32481634616851807, 0.2756871283054352, 0.22397497296333313, 0.15905214846134186, 0.0702836811542511, 0.023259442299604416, -0.0673053041100502, -0.0963665172457695, -0.15737944841384888, -0.23046046495437622, -0.283261239528656, -0.3645921051502228, -0.4064182639122009, -0.46369004249572754, -0.5251901745796204, -0.5823691487312317, -0.6327462792396545, -0.6734324097633362, -0.7292954325675964, -0.7783737778663635, -0.8307361006736755, -0.8626387119293213, -0.8898814916610718, -0.9074719548225403, -0.9192988872528076, -0.9682978391647339, -0.9792428612709045, -1.0045607089996338, -0.9905171394348145, -1.0092263221740723, -1.0037428140640259, -0.9995421767234802, -0.9971490502357483, -0.9960241317749023, -0.996762752532959, -0.9701870083808899, -0.9540062546730042, -0.9307827949523926, -0.8969194889068604, -0.8508703112602234, -0.8171586990356445, -0.7984841465950012, -0.7296118140220642, -0.7025195360183716, -0.6394190788269043, -0.5890445113182068, -0.5528494119644165, -0.5022715330123901, -0.43314045667648315, -0.38996103405952454, -0.3347174823284149, -0.2600869834423065, -0.20171812176704407, -0.13919758796691895, -0.08181796967983246, -0.005175124853849411, 0.07484620064496994, 0.11533021926879883, 0.196062833070755, 0.23032061755657196, 0.30519387125968933, 0.361786812543869, 0.4445139765739441, 0.4978824257850647, 0.5487344264984131, 0.5971465110778809, 0.6315993070602417, 0.6840783357620239, 0.7403755784034729, 0.7938965559005737, 0.813409686088562, 0.8532170653343201, 0.8850696682929993, 0.9337549209594727, 0.9491035342216492, 0.9581516981124878, 0.9668682813644409, 0.9804668426513672, 0.9902089834213257, 1.0095722675323486, 1.0088847875595093, 1.003132700920105, 0.9767554402351379, 0.9746316075325012, 0.9609003067016602, 0.9568374752998352, 0.9347946047782898, 0.9010802507400513, 0.8823219537734985, 0.854733943939209, 0.8317159414291382, 0.759423553943634, 0.7205835580825806, 0.6625694036483765, 0.6084579229354858, 0.5751752853393555, 0.5497190952301025, 0.4795384109020233, 0.4055391252040863, 0.3175787031650543, 0.29449960589408875, 0.26051732897758484, 0.17918162047863007, 0.12083914875984192, 0.03317766636610031, -0.007570657879114151, -0.06457237899303436, -0.13149136304855347, -0.23093852400779724, -0.2764163613319397, -0.3343147337436676, -0.36868083477020264, -0.42151200771331787, -0.5177489519119263, -0.5698077082633972, -0.6230826377868652, -0.6733371615409851, -0.6996006965637207, -0.7510995864868164, -0.7977805733680725, -0.8449477553367615, -0.8666436672210693, -0.867464542388916, -0.9262577295303345, -0.9524746537208557, -0.981804609298706, -0.9920570850372314, -0.98261559009552, -0.9934887886047363, -1.0121121406555176, -1.0152850151062012, -1.00509774684906, -0.9847662448883057, -0.962129533290863, -0.9582990407943726, -0.9558236002922058, -0.935166597366333, -0.902452290058136, -0.8629730939865112, -0.8019973635673523, -0.779570460319519, -0.7628625631332397, -0.7292772531509399, -0.6495580077171326, -0.6111741662025452, -0.5583909153938293, -0.5066631436347961, -0.45002931356430054, -0.4148441553115845, -0.3421538770198822, -0.2902701795101166, -0.21895891427993774, -0.17298056185245514, -0.10893359780311584, -0.022509492933750153, 0.03543904423713684, 0.10208332538604736, 0.13653682172298431, 0.20160934329032898, 0.2820985019207001, 0.36202272772789, 0.40025594830513, 0.45247870683670044, 0.49226993322372437, 0.5499237775802612, 0.6111248135566711, 0.6759461164474487, 0.7018737196922302, 0.7349633574485779, 0.7914217710494995, 0.8524348735809326, 0.8804690837860107, 0.9059646725654602, 0.9149872064590454, 0.946858823299408, 0.9719595313072205, 0.9853907227516174, 0.997355043888092, 0.9888305068016052, 0.9830748438835144, 1.0055075883865356, 1.0135048627853394, 1.0099810361862183, 0.9770473837852478, 0.9710001349449158, 0.944041907787323, 0.9305135011672974, 0.9054660797119141, 0.8727715015411377, 0.8489891290664673, 0.8239320516586304, 0.7590397596359253, 0.7179059982299805, 0.6564714312553406, 0.6267286539077759, 0.5597013235092163, 0.5056021809577942, 0.47389501333236694, 0.39030957221984863, 0.3456189036369324, 0.27130237221717834, 0.22384819388389587, 0.18997927010059357, 0.1016770452260971, 0.06121858209371567, -0.01337984949350357, -0.05377355217933655, -0.1465424746274948, -0.21793779730796814, -0.2837228775024414, -0.3187466561794281, -0.35665273666381836, -0.4469481110572815, -0.4955693781375885, -0.5636316537857056, -0.6035069227218628, -0.6319462060928345, -0.6971576809883118, -0.7450643181800842, -0.792665421962738, -0.8182242512702942, -0.8380293846130371, -0.8911901116371155, -0.9246004819869995, -0.9453234672546387, -0.9616376757621765, -0.9761674404144287, -0.9863854646682739, -0.9915171265602112, -1.0083438158035278, -1.0220003128051758, -1.0047292709350586, -0.9941413998603821, -0.9897613525390625, -0.9716196060180664, -0.9719981551170349, -0.9441965222358704, -0.8959439396858215, -0.8624554872512817, -0.8500045537948608, -0.8123100399971008, -0.7654763460159302, -0.7358776330947876, -0.6757010221481323, -0.6100826263427734, -0.5722540616989136, -0.5157891511917114, -0.48533329367637634, -0.41764137148857117, -0.38245514035224915, -0.3094785511493683, -0.24427621066570282, -0.1676318645477295, -0.1231558620929718, -0.055396825075149536, 0.003415130078792572, 0.08279296010732651, 0.137469083070755, 0.22277668118476868, 0.2631993293762207, 0.3527393639087677, 0.38641977310180664, 0.4299366772174835, 0.4918432831764221, 0.5396765470504761, 0.603041410446167, 0.6530908346176147, 0.6905913352966309, 0.7376716136932373, 0.7818317413330078, 0.8381943702697754, 0.8603959679603577, 0.9001513123512268, 0.9108842611312866, 0.9374943971633911, 0.9562320113182068, 0.9854412078857422, 1.0034903287887573, 0.996396005153656, 1.0139594078063965, 1.0028138160705566, 0.9926073551177979, 0.9986539483070374, 0.9795699119567871, 0.9683493971824646, 0.9473492503166199, 0.9400460720062256, 0.9172096848487854, 0.9014422297477722, 0.8550001382827759, 0.808945894241333, 0.7556287050247192, 0.7380616664886475, 0.685924232006073, 0.654130220413208, 0.5844557285308838, 0.5301743149757385, 0.43909236788749695, 0.4052698016166687, 0.35781314969062805, 0.30291399359703064, 0.2394675761461258, 0.15086039900779724, 0.11039332300424576, 0.049300242215394974, -0.01581750065088272, -0.09027358889579773, -0.15366697311401367, -0.21978510916233063, -0.24629056453704834, -0.3167027235031128, -0.3622688055038452, -0.4209362268447876, -0.49697065353393555, -0.5444399118423462, -0.5853281021118164, -0.6480904221534729, -0.6963183879852295, -0.7539476156234741, -0.7791444659233093, -0.8307747840881348, -0.8569456934928894, -0.9092167615890503, -0.9284632205963135, -0.9599624276161194, -0.9654250741004944, -0.9747707843780518, -0.9952232837677002, -1.0118403434753418, -1.0279322862625122, -0.9986333250999451, -1.0031254291534424, -1.0117805004119873, -0.9917885065078735, -0.9855538010597229, -0.9662837982177734, -0.9403418302536011, -0.9152917861938477, -0.8717046976089478, -0.854803204536438, -0.8303506374359131, -0.7647465467453003, -0.7199032306671143, -0.6409106254577637, -0.6395931243896484, -0.5814462900161743, -0.5329480767250061, -0.4590685963630676, -0.4024595022201538, -0.33569321036338806, -0.2962571382522583, -0.24905018508434296, -0.16596688330173492, -0.10993260890245438, -0.029739603400230408, 0.02053189091384411, 0.07974420487880707, 0.1510230302810669, 0.18807999789714813, 0.26504653692245483, 0.3370882570743561, 0.38082176446914673, 0.4451042711734772, 0.49905064702033997, 0.5582427978515625, 0.6149577498435974, 0.6659013032913208, 0.7076180577278137, 0.764809787273407, 0.7991865873336792, 0.8381718993186951, 0.8566484451293945, 0.8928449749946594, 0.9274090528488159, 0.956174910068512, 0.9764214754104614, 0.9888195991516113, 0.9901170134544373, 1.0106769800186157, 1.010024070739746, 1.0172419548034668, 1.016391634941101, 0.9964830279350281, 0.9902557730674744, 0.9800933599472046, 0.9699081182479858, 0.9450741410255432, 0.9119498133659363, 0.8916090726852417, 0.8572035431861877, 0.8137770891189575, 0.761483907699585, 0.7212719917297363, 0.6739303469657898, 0.6100152730941772, 0.5522541999816895, 0.5108605623245239, 0.47162848711013794, 0.4239472448825836, 0.3400667905807495, 0.28664430975914, 0.22599318623542786, 0.18064269423484802, 0.08892041444778442, 0.03542550280690193, -0.04520197585225105, -0.11129817366600037, -0.1593044251203537, -0.21930721402168274, -0.272111713886261, -0.3293788433074951, -0.37516653537750244, -0.4475334584712982, -0.5034220814704895, -0.5562919974327087, -0.6077224612236023, -0.6499238610267639, -0.7112430334091187, -0.7407705187797546, -0.7765980362892151, -0.8083949089050293, -0.8599126935005188, -0.8983871936798096, -0.9064801335334778, -0.9274447560310364, -0.9556707739830017, -0.9826465249061584, -1.0005913972854614, -1.0051686763763428, -1.014228105545044, -1.0091445446014404, -1.0006904602050781, -0.999899685382843, -0.9904411435127258, -0.9864336252212524, -0.9522696137428284, -0.9365068674087524, -0.9144139885902405, -0.8949763178825378, -0.8738888502120972, -0.8538286685943604, -0.8033240437507629, -0.7240012884140015, -0.7011610269546509, -0.6260454058647156, -0.5945937037467957, -0.5237938165664673, -0.4703601002693176, -0.4301431179046631, -0.34917330741882324, -0.288332998752594, -0.23068785667419434, -0.17459815740585327, -0.12273711711168289, -0.057872842997312546], \"x\": [125.66370614359172, 125.72653799666352, 125.78936984973531, 125.85220170280712, 125.9150335558789, 125.9778654089507, 126.04069726202249, 126.1035291150943, 126.1663609681661, 126.22919282123789, 126.29202467430969, 126.35485652738147, 126.41768838045328, 126.48052023352507, 126.54335208659687, 126.60618393966868, 126.66901579274045, 126.73184764581227, 126.79467949888405, 126.85751135195585, 126.92034320502763, 126.98317505809945, 127.04600691117123, 127.10883876424303, 127.17167061731483, 127.23450247038662, 127.29733432345843, 127.36016617653021, 127.42299802960201, 127.4858298826738, 127.54866173574561, 127.61149358881738, 127.6743254418892, 127.737157294961, 127.79998914803278, 127.86282100110459, 127.92565285417638, 127.98848470724818, 128.05131656031998, 128.11414841339177, 128.17698026646357, 128.23981211953534, 128.30264397260717, 128.36547582567894, 128.42830767875074, 128.49113953182254, 128.55397138489434, 128.6168032379661, 128.67963509103794, 128.74246694410974, 128.8052987971815, 128.86813065025333, 128.9309625033251, 128.9937943563969, 129.0566262094687, 129.1194580625405, 129.18228991561227, 129.2451217686841, 129.3079536217559, 129.37078547482767, 129.4336173278995, 129.49644918097127, 129.55928103404307, 129.62211288711487, 129.68494474018667, 129.74777659325846, 129.81060844633026, 129.87344029940206, 129.93627215247383, 129.99910400554566, 130.06193585861743, 130.12476771168923, 130.18759956476103, 130.25043141783283, 130.31326327090463, 130.37609512397643, 130.43892697704823, 130.50175883012, 130.5645906831918, 130.6274225362636, 130.6902543893354, 130.7530862424072, 130.815918095479, 130.8787499485508, 130.9415818016226, 131.0044136546944, 131.06724550776616, 131.13007736083796, 131.19290921390976, 131.25574106698156, 131.31857292005336, 131.38140477312515, 131.44423662619695, 131.50706847926872, 131.56990033234055, 131.63273218541232, 131.69556403848412, 131.75839589155592, 131.82122774462772, 131.88405959769952, 131.94689145077132, 132.00972330384312, 132.0725551569149, 132.13538700998672, 132.1982188630585, 132.26105071613028, 132.32388256920208, 132.38671442227388, 132.44954627534568, 132.51237812841748, 132.57520998148928, 132.63804183456105, 132.70087368763288, 132.76370554070465, 132.82653739377645, 132.88936924684828, 132.95220109992005, 133.01503295299185, 133.07786480606364, 133.14069665913544, 133.2035285122072, 133.26636036527904, 133.3291922183508, 133.3920240714226, 133.4548559244944, 133.5176877775662, 133.580519630638, 133.6433514837098, 133.7061833367816, 133.76901518985338, 133.8318470429252, 133.89467889599698, 133.95751074906877, 134.02034260214057, 134.08317445521237, 134.14600630828417, 134.20883816135597, 134.27167001442777, 134.33450186749954, 134.39733372057134, 134.46016557364317, 134.52299742671494, 134.58582927978674, 134.64866113285854, 134.71149298593033, 134.77432483900213, 134.83715669207393, 134.8999885451457, 134.9628203982175, 135.02565225128933, 135.0884841043611, 135.1513159574329, 135.2141478105047, 135.2769796635765, 135.33981151664827, 135.4026433697201, 135.46547522279187, 135.52830707586367, 135.5911389289355, 135.65397078200726, 135.71680263507906, 135.77963448815086, 135.84246634122266, 135.90529819429443, 135.96813004736626, 136.03096190043806, 136.09379375350983, 136.15662560658166, 136.21945745965343, 136.28228931272523, 136.34512116579702, 136.40795301886882, 136.4707848719406, 136.53361672501242, 136.59644857808422, 136.659280431156, 136.72211228422782, 136.7849441372996, 136.8477759903714, 136.9106078434432, 136.973439696515, 137.03627154958676, 137.09910340265859, 137.16193525573038, 137.22476710880215, 137.28759896187398, 137.35043081494575, 137.41326266801755, 137.47609452108935, 137.53892637416115, 137.60175822723295, 137.66459008030475, 137.72742193337655, 137.79025378644832, 137.85308563952012, 137.91591749259192, 137.97874934566372, 138.0415811987355, 138.1044130518073, 138.1672449048791, 138.23007675795088, 138.2929086110227, 138.35574046409448, 138.41857231716628, 138.48140417023808, 138.54423602330988, 138.60706787638168, 138.66989972945348, 138.73273158252528, 138.79556343559705, 138.85839528866887, 138.92122714174064, 138.98405899481244, 139.04689084788424, 139.10972270095604, 139.17255455402784, 139.23538640709964, 139.29821826017144, 139.3610501132432, 139.42388196631504, 139.4867138193868, 139.5495456724586, 139.6123775255304, 139.6752093786022, 139.738041231674, 139.8008730847458, 139.8637049378176, 139.92653679088937, 139.9893686439612, 140.05220049703297, 140.11503235010477, 140.17786420317657, 140.24069605624837, 140.30352790932017, 140.36635976239197, 140.42919161546376, 140.49202346853554, 140.55485532160736, 140.61768717467913, 140.68051902775093, 140.74335088082273, 140.80618273389453, 140.86901458696633, 140.93184644003813, 140.99467829310993, 141.0575101461817, 141.12034199925353, 141.1831738523253, 141.2460057053971, 141.3088375584689, 141.3716694115407, 141.4345012646125, 141.4973331176843, 141.5601649707561, 141.62299682382786, 141.68582867689966, 141.74866052997146, 141.81149238304326, 141.87432423611506, 141.93715608918686, 141.99998794225866, 142.06281979533046, 142.12565164840225, 142.18848350147402, 142.25131535454582, 142.31414720761765, 142.37697906068942, 142.43981091376122, 142.50264276683302, 142.56547461990482, 142.6283064729766, 142.69113832604842, 142.7539701791202, 142.816802032192, 142.87963388526381, 142.94246573833559, 143.00529759140738, 143.06812944447918, 143.13096129755098, 143.19379315062275, 143.25662500369458, 143.31945685676635, 143.38228870983815, 143.44512056290998, 143.50795241598175, 143.57078426905355, 143.63361612212535, 143.69644797519715, 143.75927982826892, 143.82211168134074, 143.88494353441254, 143.9477753874843, 144.01060724055614, 144.0734390936279, 144.1362709466997, 144.1991027997715, 144.2619346528433, 144.32476650591508, 144.3875983589869, 144.4504302120587, 144.51326206513048, 144.57609391820228, 144.63892577127407, 144.70175762434587, 144.76458947741767, 144.82742133048947, 144.89025318356124, 144.95308503663307, 145.01591688970487, 145.07874874277664, 145.14158059584844, 145.20441244892024, 145.26724430199204, 145.33007615506384, 145.39290800813563, 145.45573986120743, 145.5185717142792, 145.58140356735103, 145.6442354204228, 145.7070672734946, 145.7698991265664, 145.8327309796382, 145.89556283271, 145.9583946857818, 146.0212265388536, 146.08405839192537, 146.1468902449972, 146.20972209806897, 146.27255395114076, 146.33538580421256, 146.39821765728436, 146.46104951035613, 146.52388136342796, 146.58671321649976, 146.64954506957153, 146.71237692264336, 146.77520877571513, 146.83804062878693, 146.90087248185873, 146.96370433493053, 147.02653618800232, 147.08936804107412, 147.15219989414592, 147.2150317472177, 147.27786360028952, 147.3406954533613, 147.4035273064331, 147.4663591595049, 147.5291910125767, 147.5920228656485, 147.6548547187203, 147.7176865717921, 147.78051842486386, 147.84335027793568, 147.90618213100745, 147.96901398407925, 148.03184583715105, 148.09467769022285, 148.15750954329465, 148.22034139636645, 148.28317324943825, 148.34600510251002, 148.40883695558182, 148.47166880865362, 148.53450066172542, 148.59733251479722, 148.66016436786902, 148.72299622094081, 148.7858280740126, 148.8486599270844, 148.91149178015618, 148.97432363322798, 149.03715548629978, 149.09998733937158, 149.16281919244338, 149.22565104551518, 149.28848289858698, 149.35131475165875, 149.41414660473058, 149.47697845780235, 149.53981031087415, 149.60264216394594, 149.66547401701774, 149.72830587008954, 149.79113772316134, 149.85396957623314, 149.9168014293049, 149.97963328237674, 150.0424651354485, 150.1052969885203, 150.16812884159214, 150.2309606946639, 150.2937925477357, 150.3566244008075, 150.4194562538793, 150.48228810695107, 150.5451199600229, 150.60795181309467, 150.67078366616647, 150.7336155192383, 150.79644737231007, 150.85927922538187, 150.92211107845367, 150.98494293152547, 151.04777478459724, 151.11060663766906, 151.17343849074086, 151.23627034381263, 151.29910219688446, 151.36193404995623, 151.42476590302803, 151.48759775609983, 151.55042960917163, 151.6132614622434, 151.67609331531523, 151.73892516838703, 151.8017570214588, 151.8645888745306, 151.9274207276024, 151.9902525806742, 152.053084433746, 152.1159162868178, 152.17874813988956, 152.2415799929614, 152.3044118460332, 152.36724369910496, 152.43007555217676, 152.49290740524856, 152.55573925832036, 152.61857111139216, 152.68140296446396, 152.74423481753576, 152.80706667060753, 152.86989852367935, 152.93273037675112, 152.99556222982292, 153.05839408289472, 153.12122593596652, 153.18405778903832, 153.24688964211012, 153.30972149518192, 153.3725533482537, 153.43538520132552, 153.4982170543973, 153.5610489074691, 153.62388076054089, 153.68671261361268, 153.74954446668445, 153.81237631975628, 153.87520817282808, 153.93804002589985, 154.00087187897168, 154.06370373204345, 154.12653558511525, 154.18936743818705, 154.25219929125885, 154.31503114433065, 154.37786299740245, 154.44069485047424, 154.50352670354602, 154.56635855661784, 154.6291904096896, 154.6920222627614, 154.7548541158332, 154.817685968905, 154.8805178219768, 154.9433496750486, 155.0061815281204, 155.06901338119218, 155.131845234264, 155.19467708733578, 155.25750894040758, 155.32034079347937, 155.38317264655117, 155.44600449962297, 155.50883635269477, 155.57166820576657, 155.63450005883834, 155.69733191191014, 155.76016376498194, 155.82299561805374, 155.88582747112554, 155.94865932419734, 156.01149117726914, 156.07432303034093, 156.13715488341273, 156.1999867364845, 156.2628185895563, 156.3256504426281, 156.3884822956999, 156.4513141487717, 156.5141460018435, 156.5769778549153, 156.63980970798707, 156.7026415610589, 156.76547341413067, 156.82830526720247, 156.89113712027427, 156.95396897334606, 157.01680082641786]}, \"id\": \"487d4957-d995-4ab6-9e32-e83619bbb35e\"}, \"type\": \"ColumnDataSource\", \"id\": \"487d4957-d995-4ab6-9e32-e83619bbb35e\"}, {\"attributes\": {\"column_names\": [\"y\", \"x\"], \"tags\": [], \"doc\": null, \"selected\": {\"2d\": {\"indices\": []}, \"1d\": {\"indices\": []}, \"0d\": {\"indices\": [], \"flag\": false}}, \"callback\": null, \"data\": {\"y\": [-0.15329210534301768, -0.10840649688011046, 0.12994673945986013, 0.09154386656307309, 0.24060872587047458, 0.23863109077589978, 0.2910461226140083, 0.3776947574778027, 0.5521122295660598, 0.6287413097558618, 0.624902507557376, 0.5384417347939683, 0.7489102334740261, 0.7978582940822007, 0.797977963137032, 0.7486549507730469, 0.9152138830387234, 0.9185885375115329, 0.593141393306105, 0.9942216892293553, 0.7596822492089992, 1.0349393187877705, 0.9668800108862041, 1.1114758693893974, 0.9882106073076785, 0.9113385739943888, 0.9832913619699868, 1.0980953308078558, 0.9849119125148476, 0.9571496451413964, 1.0254118678459856, 0.9508124225512399, 0.9042343118826973, 1.0129126868841962, 0.9998393287079272, 0.8703496170078131, 0.7419173276272741, 0.8786597267734945, 0.8028590616618574, 0.7093137063015142, 0.46617759421787963, 0.5498939853098062, 0.4073864566316143, 0.4098780664096454, 0.3921302456143558, 0.3190329351840129, 0.20117237658192996, 0.3146766894777405, -0.044279893118856384, 0.1358088726422653, -0.18574832715943812, -0.024530705856982984, -0.2140236661926826, -0.09955093881246559, -0.24004463476409266, -0.2842463565282653, -0.4699524852413399, -0.4912363050648371, -0.4610319347606286, -0.47746980228805325, -0.2948756281161001, -0.6151381574383342, -0.5869433533917919, -0.8846620206723359, -0.9035024289091959, -0.8445664718357949, -0.9640706950658755, -0.72766675469723, -0.945848921744046, -0.7915582970489436, -0.8023782688865878, -0.9643051891402731, -0.9321072753479244, -0.9977246486485682, -0.9441830283928179, -0.9516658148219428, -1.010391691017474, -0.9416177031681956, -0.8099176231619647, -0.8972815381575394, -0.9184765549310926, -0.9172995337839309, -1.0060943648428782, -0.9790363677514078, -0.8119922723539851, -0.9459561067796567, -0.8471460026721567, -0.6008174933850058, -0.4931241362224131, -0.8040195974284653, -0.42512029606231616, -0.5569706240635509, -0.48325418280484755, -0.4371204546293645, -0.2600701399821188, -0.46978465227927846, -0.20307352602935191, -0.28186833432453323, -0.06825438062615127, 0.0914891142999906, -4.173264126005477e-05, 0.10020602812639878, 0.16628841138805348, 0.10742196461868697, 0.39985382215327336, 0.4796638191010364, 0.4383028898963741, 0.4331078347658335, 0.43556429256628604, 0.4731777726640898, 0.7588689105471431, 0.7788654940215769, 0.6781809570497425, 0.5709755744542899, 0.48731205578488407, 0.700674328348532, 0.8312658859025012, 1.0163755834881636, 0.8396614315602426, 0.9802580315223037, 1.0813746124599908, 0.981436792814239, 0.9680424638498022, 0.8612383498906159, 0.8777791976078279, 1.0416099634415823, 0.9779359751081789, 1.0043678330798076, 0.9775594791590628, 1.034997566064501, 0.8725877751522051, 0.8962184215299395, 1.0944452753293379, 0.7963280662052895, 0.8161703824220066, 0.7500783241770904, 0.8149913790165122, 0.8312078596656141, 0.6347259440700914, 0.5942825556382332, 0.5598870917621571, 0.5888101733265001, 0.4078141438507009, 0.38818329496794923, 0.130905165533376, 0.1708424934254454, 0.23744551156291938, 0.2771677319060548, 0.15484081189450558, -0.04708632613743295, -0.14002562081278538, -0.045322510239490896, -0.2906135977895862, -0.08078863271403648, -0.24230026799981327, -0.46974901029836, -0.46471993856884813, -0.49821042348817146, -0.5590729251240738, -0.6848200958011387, -0.6752515044913533, -0.7058641453627307, -0.7556756814897333, -0.616172964928057, -0.7600304624930726, -0.9083427161187089, -0.8777900860974195, -0.9642623897750102, -0.9348277183671917, -0.8422255705741113, -0.9258294382339405, -0.7400230429758249, -0.9446945081519361, -1.0834741523121894, -0.9170526553468274, -0.8920068782857464, -0.8886100292838761, -1.101538796617988, -0.9970509921801732, -0.8554019654457863, -1.1195294121825472, -0.9797181619904638, -1.0475208210087152, -0.9695637030335594, -0.9455736407764032, -0.6839600111205935, -0.793967046266669, -0.8153041855555927, -0.788107679067139, -0.623257273261535, -0.5888988150265355, -0.4014193575116467, -0.4317520045159748, -0.5689590693715887, -0.4310226234438144, -0.20200974316785653, -0.31079815693499635, -0.01392409709335446, -0.23516217669677653, -0.005529184225228731, -0.08612155533988375, 0.01183100623468962, 0.2351913983874058, 0.1746745983018631, 0.3300351116762589, 0.35634605386642393, 0.4435111210409077, 0.33696047045652383, 0.4595962342813204, 0.5782520567890673, 0.5028779650231171, 0.8003739940719126, 0.6068243017131681, 0.6989682697276276, 0.6698573362963633, 0.5946861878510785, 1.0240197777595095, 0.8558727863535619, 0.8600355686244574, 0.9099049797211762, 1.0930429135147932, 0.872072500322187, 1.0502440373051958, 0.9497358764595298, 0.9383596428744406, 1.0567058212520182, 1.0968507858025407, 0.9407244062864887, 0.9054023347612052, 0.8516735863964314, 1.0614068929679938, 0.8722508864076418, 0.7199139797384756, 1.017301893883478, 0.7073419753067188, 0.8869630475008495, 0.7888561074425534, 0.7577601706429302, 0.6261095783975652, 0.67398313577116, 0.42100726300405383, 0.5946305698529798, 0.6374546782549305, 0.5141820113077016, 0.16617054414599905, 0.21059609414767966, 0.22991039496736082, 0.23607504507972926, 0.11466796619829002, 0.013469080818268739, 0.05953003076923124, 0.053624657093182024, -0.14856263428296837, -0.11448832784720818, -0.5065949616837853, -0.40276793298580665, -0.4002504463904685, -0.474635913640528, -0.4484738523612656, -0.43445174022916916, -0.5371183496896355, -0.699646536924199, -0.8368239149791131, -0.673272215363511, -0.9543309167427815, -0.7437132660343149, -0.8631728337150177, -0.9938901788376844, -0.8761013212193397, -0.9300640961541522, -0.954716245586771, -0.9770054907813726, -0.9403348398860714, -0.8996712991186251, -0.9483652085798875, -0.898786681017769, -1.0024407003130524, -0.8302687688912805, -0.925176268515706, -1.0229525640969146, -1.0604460219685914, -0.9091968055148496, -1.0354792047582853, -0.9736442767995297, -0.820419217464659, -0.8698057390031451, -0.8638448667984818, -0.7324161320302496, -0.6772793160183261, -0.6580073922705566, -0.6255399441983921, -0.4503625221077628, -0.44751093897301625, -0.44812190278454833, -0.12169235933314465, -0.2896338206821064, -0.13548937379711898, -0.24347941489892222, -0.261627328285096, -0.14196617109364734, -0.026800978339823936, 0.013129698556352147, 0.25897185179657733, 0.1753772023761107, 0.2948367749089688, 0.30436887877166147, 0.32476911941134073, 0.4295788929104329, 0.6531588210787997, 0.4590319358053046, 0.6644842973484208, 0.5348232645861069, 0.6385844617017428, 0.7293269480168701, 0.8031507517484906, 0.9573298571723329, 0.8393196613555517, 0.7919451193902772, 0.9698312497710914, 0.8933595049966725, 0.9749246733883354, 0.9569609171748553, 0.7879415656000066, 1.0429446198738757, 1.0563635291104019, 1.0926604768308605, 1.1780730046742933, 0.8726043239681317, 1.0339379951568661, 1.009512660792728, 0.9091483170143719, 0.9694871095332394, 0.9547917479772143, 0.7544382970461403, 0.8689502016296679, 0.7172185637744778, 0.7053275927827374, 0.5514941459025521, 0.6372110133784444, 0.6170669226013434, 0.6427709390221111, 0.5359167876461035, 0.3275248590217406, 0.5119940972535152, 0.3562658903296556, 0.3578540534179237, 0.34528349901083255, 0.32964178948263273, 0.3214559325008073, 0.05556664366214487, 0.03111244460936045, -0.17062662861099942, -0.019173216560761125, -0.30587005904291586, -0.4292150560278865, -0.22597839384090107, -0.4202942051794555, -0.3480185634308476, -0.44094620916710014, -0.6988270600813719, -0.8597531887247414, -0.7470841644579487, -0.6828979572305923, -0.8511462608908816, -0.8357893877106559, -0.9549110674346776, -0.8273401295223222, -0.8672240873402322, -0.9529663148707852, -0.7900699557568804, -0.8012850135631921, -0.9120564408749827, -1.1622643688753613, -1.102583716035038, -0.9573136953199465, -1.062855758024459, -1.0467358715994537, -0.9022179618556747, -0.9311997685394452, -0.8371677177472403, -0.9939774459598053, -0.7922539438435653, -0.960240177174471, -0.7263575310299889, -0.8337444611403373, -0.8950679690859065, -0.9336351935411566, -0.7591158589075744, -0.710170375728244, -0.5516577987364542, -0.5988443025732785, -0.5790699928368463, -0.37404992680696425, -0.44826194769208766, -0.42574873430736515, -0.25155610264571093, -0.297672709049572, -0.12150110041658851, -0.18502494474263587, -0.08508643782633202, 0.015217697558820756, 0.025377887502880107, 0.1239880866285658, 0.2689285115097343, 0.28975006629683875, 0.3571139793784194, 0.3045815088227636, 0.5110622683924986, 0.5487099081526408, 0.6362687142051544, 0.515148669073861, 0.6201781300805447, 0.7479004961747316, 0.6680871156796839, 0.7479009957994003, 1.0015975681209082, 1.0395040267287903, 1.0003007350265956, 0.9986855660909941, 0.8278513709377378, 1.0023127394377662, 0.9326715016220437, 0.8764300609681479, 0.9412141174553472, 1.0095932358329072, 0.9452644425701333, 0.9429467858575881, 1.071318851156776, 0.9966978992410122, 0.9919289690948625, 0.962243755984782, 0.8622061715510834, 0.7677698606699581, 0.9073631510859046, 0.7936242622894766, 0.6079387675163642, 0.7312565169792768, 0.6197468332873501, 0.7544121293594628, 0.6895865124727198, 0.6374745667763134, 0.4693226331631419, 0.5549088322879179, 0.45774426987848954, 0.3271390988407029, 0.26368325116109975, 0.33796070245222576, 0.1400209088893846, 0.15569888091692674, 0.1661862182105832, 0.19093426255572754, 0.10359679291444467, -0.03525095714339105, -0.33797244974285645, -0.3175947301066482, -0.36382571312220036, -0.2028095694281482, -0.49571108566228694, -0.4431370363918862, -0.5257400886532516, -0.6812979732362399, -0.5992415887867437, -0.6447174973089345, -0.8545461155955593, -0.648225498070448, -1.0176679972604679, -0.9034036407930145, -0.7791096506573105, -1.0241528358134167, -0.8947498939320542, -1.0806925551226936, -0.9778855755730519, -1.2136645620459081, -1.0763718714857786, -1.1523188731437009, -1.04017637421265, -1.0395498680104367, -1.0594811184453938, -0.9024959310720165, -1.057271121515777, -0.8876178489762503, -0.7668489088923662, -0.890920637435551, -0.962073700501402, -0.9692617769881657, -0.8799955043868914, -0.70004897070081, -0.7134095539245301, -0.5908675843032962, -0.560390901815973, -0.5737041871046515, -0.4884779688123499, -0.29622905315966397, -0.28421366894762395, -0.39839915437509377, -0.21004905018137263, -0.19010480658307263, -0.07374250683175915, -0.05817157636071864, -0.1602072630336146], \"x\": [125.66370614359172, 125.72653799666352, 125.78936984973531, 125.85220170280712, 125.9150335558789, 125.9778654089507, 126.04069726202249, 126.1035291150943, 126.1663609681661, 126.22919282123789, 126.29202467430969, 126.35485652738147, 126.41768838045328, 126.48052023352507, 126.54335208659687, 126.60618393966868, 126.66901579274045, 126.73184764581227, 126.79467949888405, 126.85751135195585, 126.92034320502763, 126.98317505809945, 127.04600691117123, 127.10883876424303, 127.17167061731483, 127.23450247038662, 127.29733432345843, 127.36016617653021, 127.42299802960201, 127.4858298826738, 127.54866173574561, 127.61149358881738, 127.6743254418892, 127.737157294961, 127.79998914803278, 127.86282100110459, 127.92565285417638, 127.98848470724818, 128.05131656031998, 128.11414841339177, 128.17698026646357, 128.23981211953534, 128.30264397260717, 128.36547582567894, 128.42830767875074, 128.49113953182254, 128.55397138489434, 128.6168032379661, 128.67963509103794, 128.74246694410974, 128.8052987971815, 128.86813065025333, 128.9309625033251, 128.9937943563969, 129.0566262094687, 129.1194580625405, 129.18228991561227, 129.2451217686841, 129.3079536217559, 129.37078547482767, 129.4336173278995, 129.49644918097127, 129.55928103404307, 129.62211288711487, 129.68494474018667, 129.74777659325846, 129.81060844633026, 129.87344029940206, 129.93627215247383, 129.99910400554566, 130.06193585861743, 130.12476771168923, 130.18759956476103, 130.25043141783283, 130.31326327090463, 130.37609512397643, 130.43892697704823, 130.50175883012, 130.5645906831918, 130.6274225362636, 130.6902543893354, 130.7530862424072, 130.815918095479, 130.8787499485508, 130.9415818016226, 131.0044136546944, 131.06724550776616, 131.13007736083796, 131.19290921390976, 131.25574106698156, 131.31857292005336, 131.38140477312515, 131.44423662619695, 131.50706847926872, 131.56990033234055, 131.63273218541232, 131.69556403848412, 131.75839589155592, 131.82122774462772, 131.88405959769952, 131.94689145077132, 132.00972330384312, 132.0725551569149, 132.13538700998672, 132.1982188630585, 132.26105071613028, 132.32388256920208, 132.38671442227388, 132.44954627534568, 132.51237812841748, 132.57520998148928, 132.63804183456105, 132.70087368763288, 132.76370554070465, 132.82653739377645, 132.88936924684828, 132.95220109992005, 133.01503295299185, 133.07786480606364, 133.14069665913544, 133.2035285122072, 133.26636036527904, 133.3291922183508, 133.3920240714226, 133.4548559244944, 133.5176877775662, 133.580519630638, 133.6433514837098, 133.7061833367816, 133.76901518985338, 133.8318470429252, 133.89467889599698, 133.95751074906877, 134.02034260214057, 134.08317445521237, 134.14600630828417, 134.20883816135597, 134.27167001442777, 134.33450186749954, 134.39733372057134, 134.46016557364317, 134.52299742671494, 134.58582927978674, 134.64866113285854, 134.71149298593033, 134.77432483900213, 134.83715669207393, 134.8999885451457, 134.9628203982175, 135.02565225128933, 135.0884841043611, 135.1513159574329, 135.2141478105047, 135.2769796635765, 135.33981151664827, 135.4026433697201, 135.46547522279187, 135.52830707586367, 135.5911389289355, 135.65397078200726, 135.71680263507906, 135.77963448815086, 135.84246634122266, 135.90529819429443, 135.96813004736626, 136.03096190043806, 136.09379375350983, 136.15662560658166, 136.21945745965343, 136.28228931272523, 136.34512116579702, 136.40795301886882, 136.4707848719406, 136.53361672501242, 136.59644857808422, 136.659280431156, 136.72211228422782, 136.7849441372996, 136.8477759903714, 136.9106078434432, 136.973439696515, 137.03627154958676, 137.09910340265859, 137.16193525573038, 137.22476710880215, 137.28759896187398, 137.35043081494575, 137.41326266801755, 137.47609452108935, 137.53892637416115, 137.60175822723295, 137.66459008030475, 137.72742193337655, 137.79025378644832, 137.85308563952012, 137.91591749259192, 137.97874934566372, 138.0415811987355, 138.1044130518073, 138.1672449048791, 138.23007675795088, 138.2929086110227, 138.35574046409448, 138.41857231716628, 138.48140417023808, 138.54423602330988, 138.60706787638168, 138.66989972945348, 138.73273158252528, 138.79556343559705, 138.85839528866887, 138.92122714174064, 138.98405899481244, 139.04689084788424, 139.10972270095604, 139.17255455402784, 139.23538640709964, 139.29821826017144, 139.3610501132432, 139.42388196631504, 139.4867138193868, 139.5495456724586, 139.6123775255304, 139.6752093786022, 139.738041231674, 139.8008730847458, 139.8637049378176, 139.92653679088937, 139.9893686439612, 140.05220049703297, 140.11503235010477, 140.17786420317657, 140.24069605624837, 140.30352790932017, 140.36635976239197, 140.42919161546376, 140.49202346853554, 140.55485532160736, 140.61768717467913, 140.68051902775093, 140.74335088082273, 140.80618273389453, 140.86901458696633, 140.93184644003813, 140.99467829310993, 141.0575101461817, 141.12034199925353, 141.1831738523253, 141.2460057053971, 141.3088375584689, 141.3716694115407, 141.4345012646125, 141.4973331176843, 141.5601649707561, 141.62299682382786, 141.68582867689966, 141.74866052997146, 141.81149238304326, 141.87432423611506, 141.93715608918686, 141.99998794225866, 142.06281979533046, 142.12565164840225, 142.18848350147402, 142.25131535454582, 142.31414720761765, 142.37697906068942, 142.43981091376122, 142.50264276683302, 142.56547461990482, 142.6283064729766, 142.69113832604842, 142.7539701791202, 142.816802032192, 142.87963388526381, 142.94246573833559, 143.00529759140738, 143.06812944447918, 143.13096129755098, 143.19379315062275, 143.25662500369458, 143.31945685676635, 143.38228870983815, 143.44512056290998, 143.50795241598175, 143.57078426905355, 143.63361612212535, 143.69644797519715, 143.75927982826892, 143.82211168134074, 143.88494353441254, 143.9477753874843, 144.01060724055614, 144.0734390936279, 144.1362709466997, 144.1991027997715, 144.2619346528433, 144.32476650591508, 144.3875983589869, 144.4504302120587, 144.51326206513048, 144.57609391820228, 144.63892577127407, 144.70175762434587, 144.76458947741767, 144.82742133048947, 144.89025318356124, 144.95308503663307, 145.01591688970487, 145.07874874277664, 145.14158059584844, 145.20441244892024, 145.26724430199204, 145.33007615506384, 145.39290800813563, 145.45573986120743, 145.5185717142792, 145.58140356735103, 145.6442354204228, 145.7070672734946, 145.7698991265664, 145.8327309796382, 145.89556283271, 145.9583946857818, 146.0212265388536, 146.08405839192537, 146.1468902449972, 146.20972209806897, 146.27255395114076, 146.33538580421256, 146.39821765728436, 146.46104951035613, 146.52388136342796, 146.58671321649976, 146.64954506957153, 146.71237692264336, 146.77520877571513, 146.83804062878693, 146.90087248185873, 146.96370433493053, 147.02653618800232, 147.08936804107412, 147.15219989414592, 147.2150317472177, 147.27786360028952, 147.3406954533613, 147.4035273064331, 147.4663591595049, 147.5291910125767, 147.5920228656485, 147.6548547187203, 147.7176865717921, 147.78051842486386, 147.84335027793568, 147.90618213100745, 147.96901398407925, 148.03184583715105, 148.09467769022285, 148.15750954329465, 148.22034139636645, 148.28317324943825, 148.34600510251002, 148.40883695558182, 148.47166880865362, 148.53450066172542, 148.59733251479722, 148.66016436786902, 148.72299622094081, 148.7858280740126, 148.8486599270844, 148.91149178015618, 148.97432363322798, 149.03715548629978, 149.09998733937158, 149.16281919244338, 149.22565104551518, 149.28848289858698, 149.35131475165875, 149.41414660473058, 149.47697845780235, 149.53981031087415, 149.60264216394594, 149.66547401701774, 149.72830587008954, 149.79113772316134, 149.85396957623314, 149.9168014293049, 149.97963328237674, 150.0424651354485, 150.1052969885203, 150.16812884159214, 150.2309606946639, 150.2937925477357, 150.3566244008075, 150.4194562538793, 150.48228810695107, 150.5451199600229, 150.60795181309467, 150.67078366616647, 150.7336155192383, 150.79644737231007, 150.85927922538187, 150.92211107845367, 150.98494293152547, 151.04777478459724, 151.11060663766906, 151.17343849074086, 151.23627034381263, 151.29910219688446, 151.36193404995623, 151.42476590302803, 151.48759775609983, 151.55042960917163, 151.6132614622434, 151.67609331531523, 151.73892516838703, 151.8017570214588, 151.8645888745306, 151.9274207276024, 151.9902525806742, 152.053084433746, 152.1159162868178, 152.17874813988956, 152.2415799929614, 152.3044118460332, 152.36724369910496, 152.43007555217676, 152.49290740524856, 152.55573925832036, 152.61857111139216, 152.68140296446396, 152.74423481753576, 152.80706667060753, 152.86989852367935, 152.93273037675112, 152.99556222982292, 153.05839408289472, 153.12122593596652, 153.18405778903832, 153.24688964211012, 153.30972149518192, 153.3725533482537, 153.43538520132552, 153.4982170543973, 153.5610489074691, 153.62388076054089, 153.68671261361268, 153.74954446668445, 153.81237631975628, 153.87520817282808, 153.93804002589985, 154.00087187897168, 154.06370373204345, 154.12653558511525, 154.18936743818705, 154.25219929125885, 154.31503114433065, 154.37786299740245, 154.44069485047424, 154.50352670354602, 154.56635855661784, 154.6291904096896, 154.6920222627614, 154.7548541158332, 154.817685968905, 154.8805178219768, 154.9433496750486, 155.0061815281204, 155.06901338119218, 155.131845234264, 155.19467708733578, 155.25750894040758, 155.32034079347937, 155.38317264655117, 155.44600449962297, 155.50883635269477, 155.57166820576657, 155.63450005883834, 155.69733191191014, 155.76016376498194, 155.82299561805374, 155.88582747112554, 155.94865932419734, 156.01149117726914, 156.07432303034093, 156.13715488341273, 156.1999867364845, 156.2628185895563, 156.3256504426281, 156.3884822956999, 156.4513141487717, 156.5141460018435, 156.5769778549153, 156.63980970798707, 156.7026415610589, 156.76547341413067, 156.82830526720247, 156.89113712027427, 156.95396897334606, 157.01680082641786]}, \"id\": \"7bc226c6-b11d-4bd1-b664-ec7325a9c927\"}, \"type\": \"ColumnDataSource\", \"id\": \"7bc226c6-b11d-4bd1-b664-ec7325a9c927\"}, {\"attributes\": {\"nonselection_glyph\": {\"type\": \"Line\", \"id\": \"f63f007c-2687-4420-b399-73a957e2e713\"}, \"data_source\": {\"type\": \"ColumnDataSource\", \"id\": \"487d4957-d995-4ab6-9e32-e83619bbb35e\"}, \"tags\": [], \"doc\": null, \"selection_glyph\": null, \"id\": \"3623abe1-16f1-40be-bd41-64940666cbad\", \"glyph\": {\"type\": \"Line\", \"id\": \"c11f4117-190e-435e-b0ef-33fe5e544749\"}}, \"type\": \"GlyphRenderer\", \"id\": \"3623abe1-16f1-40be-bd41-64940666cbad\"}, {\"attributes\": {\"plot\": {\"subtype\": \"Figure\", \"type\": \"Plot\", \"id\": \"e2101e0b-740a-49eb-baa6-98a82fac815c\"}, \"dimensions\": [\"width\", \"height\"], \"tags\": [], \"doc\": null, \"id\": \"bbd8171e-476d-4c61-bdd4-dcd98e235b94\"}, \"type\": \"PanTool\", \"id\": \"bbd8171e-476d-4c61-bdd4-dcd98e235b94\"}, {\"attributes\": {\"tags\": [], \"doc\": null, \"renderers\": [], \"callback\": null, \"names\": [], \"id\": \"ab0214cc-dea6-43fd-ab21-e2240d90eb54\"}, \"type\": \"DataRange1d\", \"id\": \"ab0214cc-dea6-43fd-ab21-e2240d90eb54\"}, {\"attributes\": {\"nonselection_glyph\": {\"type\": \"Line\", \"id\": \"624342ce-add0-4822-af0c-cea25c8955f8\"}, \"data_source\": {\"type\": \"ColumnDataSource\", \"id\": \"070d7bbd-f4d5-49cf-8fa5-44f4751dade7\"}, \"tags\": [], \"doc\": null, \"selection_glyph\": null, \"id\": \"57980951-0499-4d5c-8e06-ac16d3865288\", \"glyph\": {\"type\": \"Line\", \"id\": \"09cd0eb2-206f-4458-90ed-8ebe2609c9ee\"}}, \"type\": \"GlyphRenderer\", \"id\": \"57980951-0499-4d5c-8e06-ac16d3865288\"}, {\"attributes\": {\"plot\": {\"subtype\": \"Figure\", \"type\": \"Plot\", \"id\": \"e2101e0b-740a-49eb-baa6-98a82fac815c\"}, \"tags\": [], \"doc\": null, \"id\": \"672f04f9-29a1-4918-b260-b401e806e1bd\"}, \"type\": \"ResetTool\", \"id\": \"672f04f9-29a1-4918-b260-b401e806e1bd\"}, {\"attributes\": {\"plot\": {\"subtype\": \"Figure\", \"type\": \"Plot\", \"id\": \"e2101e0b-740a-49eb-baa6-98a82fac815c\"}, \"tags\": [], \"doc\": null, \"id\": \"a0c75865-5753-4ef9-b740-c3e9e790fd48\"}, \"type\": \"PreviewSaveTool\", \"id\": \"a0c75865-5753-4ef9-b740-c3e9e790fd48\"}, {\"attributes\": {\"plot\": {\"subtype\": \"Figure\", \"type\": \"Plot\", \"id\": \"e2101e0b-740a-49eb-baa6-98a82fac815c\"}, \"tags\": [], \"doc\": null, \"id\": \"9d14e8f2-8a11-4927-96e7-a72222c2873e\"}, \"type\": \"HelpTool\", \"id\": \"9d14e8f2-8a11-4927-96e7-a72222c2873e\"}, {\"attributes\": {\"plot\": {\"subtype\": \"Figure\", \"type\": \"Plot\", \"id\": \"e2101e0b-740a-49eb-baa6-98a82fac815c\"}, \"tags\": [], \"doc\": null, \"dimension\": 1, \"ticker\": {\"type\": \"BasicTicker\", \"id\": \"aaa12c37-3f2e-4649-ad45-e3bcaee6f1c2\"}, \"id\": \"bf8f41bc-feea-4201-954e-03134f0b30a7\"}, \"type\": \"Grid\", \"id\": \"bf8f41bc-feea-4201-954e-03134f0b30a7\"}, {\"attributes\": {\"line_color\": {\"value\": \"blue\"}, \"line_alpha\": {\"value\": 1.0}, \"tags\": [], \"doc\": null, \"y\": {\"field\": \"y\"}, \"x\": {\"field\": \"x\"}, \"id\": \"c11f4117-190e-435e-b0ef-33fe5e544749\"}, \"type\": \"Line\", \"id\": \"c11f4117-190e-435e-b0ef-33fe5e544749\"}, {\"attributes\": {\"line_color\": {\"value\": \"red\"}, \"line_alpha\": {\"value\": 1.0}, \"fill_color\": {\"value\": \"red\"}, \"tags\": [], \"doc\": null, \"fill_alpha\": {\"value\": 1.0}, \"y\": {\"field\": \"y\"}, \"x\": {\"field\": \"x\"}, \"id\": \"e0ac08ea-5193-46dd-a3bd-9a19431dbc57\", \"size\": {\"units\": \"screen\", \"value\": 2}}, \"type\": \"Circle\", \"id\": \"e0ac08ea-5193-46dd-a3bd-9a19431dbc57\"}, {\"attributes\": {\"column_names\": [\"y\", \"x\"], \"tags\": [], \"doc\": null, \"selected\": {\"2d\": {\"indices\": []}, \"1d\": {\"indices\": []}, \"0d\": {\"indices\": [], \"flag\": false}}, \"callback\": null, \"data\": {\"y\": [-4.898587196589413e-15, 0.06279051952931168, 0.12533323356429163, 0.18738131458572924, 0.24868988716484866, 0.30901699437494445, 0.3681245526846648, 0.4257792915650756, 0.48175367410172093, 0.5358267949789928, 0.587785252292472, 0.6374239897486802, 0.6845471059286923, 0.7289686274214074, 0.7705132427757875, 0.809016994374956, 0.8443279255020094, 0.8763066800438668, 0.9048270524660177, 0.929776485888251, 0.9510565162951499, 0.9685831611286324, 0.9822872507286876, 0.9921147013144775, 0.9980267284282716, 1.0, 0.9980267284282711, 0.9921147013144783, 0.9822872507286888, 0.9685831611286341, 0.9510565162951519, 0.9297764858882586, 0.9048270524660205, 0.876306680043863, 0.8443279255020204, 0.809016994374943, 0.7705132427757915, 0.7289686274214118, 0.6845471059286866, 0.6374239897486851, 0.5877852522924657, 0.5358267949790101, 0.4817536741017016, 0.4257792915650814, 0.3681245526846839, 0.3090169943749505, 0.24868988716485482, 0.18738131458574944, 0.12533323356429793, 0.06279051952930385, 1.567919291290565e-14, -0.06279051952932928, -0.12533323356429502, -0.18738131458571863, -0.248689887164852, -0.30901699437494773, -0.36812455268465477, -0.4257792915650787, -0.4817536741017239, -0.5358267949789837, -0.5877852522924862, -0.6374239897486829, -0.6845471059286845, -0.7289686274214098, -0.7705132427757896, -0.8090169943749497, -0.8443279255020189, -0.8763066800438685, -0.9048270524660131, -0.9297764858882576, -0.9510565162951509, -0.9685831611286297, -0.9822872507286883, -0.992114701314478, -0.9980267284282718, -1.0, -0.9980267284282709, -0.9921147013144797, -0.9822872507286908, -0.9685831611286332, -0.9510565162951552, -0.9297764858882521, -0.904827052466019, -0.8763066800438615, -0.844327925502011, -0.809016994374941, -0.7705132427757984, -0.7289686274214191, -0.6845471059286945, -0.6374239897486934, -0.5877852522924744, -0.5358267949789952, -0.48175367410171105, -0.4257792915650911, -0.36812455268466754, -0.3090169943749608, -0.24868988716486526, -0.18738131458573212, -0.12533323356430864, -0.06279051952931461, 1.9619108011821185e-15, 0.06279051952931852, 0.12533323356428433, 0.18738131458573598, 0.24868988716484153, 0.30901699437493746, 0.3681245526846712, 0.42577929156506894, 0.4817536741017145, 0.5358267949789985, 0.5877852522924776, 0.6374239897486745, 0.6845471059286974, 0.7289686274214023, 0.7705132427757828, 0.80901699437496, 0.8443279255020131, 0.8763066800438634, 0.9048270524660207, 0.9297764858882536, 0.9510565162951475, 0.9685831611286342, 0.9822872507286863, 0.9921147013144767, 0.9980267284282711, 1.0, 0.9980267284282716, 0.9921147013144774, 0.9822872507286875, 0.9685831611286359, 0.9510565162951496, 0.9297764858882561, 0.9048270524660236, 0.8763066800438666, 0.8443279255020167, 0.8090169943749473, 0.7705132427757871, 0.7289686274214071, 0.6845471059287024, 0.6374239897487017, 0.5877852522924601, 0.5358267949790043, 0.4817536741017205, 0.42577929156507516, 0.36812455268467753, 0.30901699437494395, 0.2486898871648482, 0.1873813145857427, 0.12533323356431933, 0.062790519529297, 8.81869491513412e-15, -0.06279051952930777, -0.12533323356430184, -0.18738131458572538, -0.2486898871648311, -0.3090169943749542, -0.36812455268466115, -0.42577929156505917, -0.4817536741017299, -0.5358267949789894, -0.5877852522924688, -0.6374239897486881, -0.6845471059286895, -0.728968627421395, -0.770513242775794, -0.8090169943749537, -0.8443279255020073, -0.8763066800438718, -0.904827052466016, -0.9297764858882496, -0.951056516295153, -0.9685831611286315, -0.9822872507286842, -0.9921147013144788, -0.9980267284282722, -1.0, -0.9980267284282704, -0.9921147013144788, -0.9822872507286895, -0.9685831611286315, -0.951056516295153, -0.92977648588826, -0.904827052466016, -0.8763066800438581, -0.8443279255020225, -0.809016994374937, -0.770513242775794, -0.7289686274214144, -0.6845471059286895, -0.6374239897486881, -0.5877852522924688, -0.5358267949789894, -0.48175367410170505, -0.4257792915650849, -0.3681245526846876, -0.3090169943749542, -0.24868988716485863, -0.18738131458572538, -0.12533323356430184, -0.06279051952930775, -1.9599300631450357e-14, 0.06279051952932536, 0.12533323356429113, 0.1873813145857148, 0.2486898871648482, 0.30901699437494395, 0.3681245526846776, 0.42577929156507516, 0.4817536741017205, 0.5358267949789803, 0.5877852522924831, 0.6374239897486798, 0.6845471059286816, 0.7289686274214071, 0.7705132427757871, 0.8090169943749473, 0.8443279255020167, 0.8763066800438666, 0.9048270524660115, 0.9297764858882561, 0.9510565162951496, 0.9685831611286287, 0.9822872507286875, 0.9921147013144774, 0.9980267284282716, 1.0, 0.9980267284282711, 0.9921147013144802, 0.9822872507286863, 0.9685831611286342, 0.9510565162951563, 0.9297764858882536, 0.9048270524660207, 0.8763066800438634, 0.8443279255020131, 0.8090169943749433, 0.7705132427758009, 0.7289686274214023, 0.6845471059286974, 0.6374239897486964, 0.5877852522924776, 0.5358267949789985, 0.4817536741017145, 0.42577929156506894, 0.3681245526846712, 0.3090169943749645, 0.24868988716484153, 0.18738131458573598, 0.12533323356431253, 0.06279051952931852, 1.9581969173625882e-15, -0.06279051952931461, -0.12533323356430864, -0.18738131458573212, -0.24868988716483775, -0.30901699437493374, -0.36812455268466754, -0.4257792915650654, -0.48175367410171105, -0.5358267949789952, -0.5877852522924744, -0.6374239897486934, -0.6845471059286945, -0.7289686274213997, -0.7705132427757803, -0.8090169943749578, -0.844327925502011, -0.8763066800438615, -0.904827052466019, -0.9297764858882521, -0.9510565162951463, -0.9685831611286332, -0.9822872507286855, -0.9921147013144761, -0.9980267284282727, -1.0, -0.9980267284282718, -0.992114701314478, -0.9822872507286883, -0.9685831611286368, -0.9510565162951509, -0.9297764858882576, -0.9048270524660252, -0.8763066800438548, -0.8443279255020189, -0.8090169943749497, -0.7705132427757896, -0.7289686274214098, -0.6845471059287052, -0.6374239897486829, -0.5877852522924633, -0.5358267949790076, -0.481753674101699, -0.4257792915650787, -0.3681245526846812, -0.30901699437494773, -0.24868988716485196, -0.18738131458574656, -0.12533323356429502, -0.06279051952930091, -1.2738802633678827e-14, 0.06279051952930385, 0.12533323356429796, 0.18738131458572152, 0.24868988716485482, 0.3090169943749505, 0.3681245526846575, 0.4257792915650814, 0.48175367410172654, 0.5358267949789861, 0.5877852522924657, 0.6374239897486851, 0.6845471059286866, 0.7289686274214118, 0.7705132427757915, 0.8090169943749514, 0.8443279255020052, 0.8763066800438699, 0.9048270524660144, 0.9297764858882481, 0.9510565162951519, 0.9685831611286305, 0.9822872507286888, 0.9921147013144783, 0.998026728428272, 1.0, 0.9980267284282707, 0.9921147013144793, 0.9822872507286903, 0.9685831611286324, 0.9510565162951542, 0.9297764858882615, 0.9048270524660177, 0.87630668004386, 0.8443279255020246, 0.8090169943749393, 0.7705132427757965, 0.7289686274214171, 0.6845471059286923, 0.6374239897486911, 0.587785252292472, 0.5358267949789928, 0.4817536741017085, 0.4257792915650884, 0.3681245526846648, 0.30901699437495794, 0.24868988716486243, 0.18738131458572924, 0.12533323356430573, 0.06279051952931167, -4.902301080408943e-15, -0.06279051952932145, -0.12533323356428724, -0.18738131458573887, -0.2486898871648444, -0.30901699437494023, -0.3681245526846739, -0.4257792915650716, -0.48175367410171704, -0.535826794979001, -0.5877852522924799, -0.6374239897486768, -0.6845471059286787, -0.7289686274214044, -0.7705132427757846, -0.809016994374945, -0.8443279255020146, -0.8763066800438647, -0.9048270524660219, -0.9297764858882547, -0.9510565162951485, -0.9685831611286279, -0.9822872507286868, -0.992114701314477, -0.9980267284282713, -1.0, -0.9980267284282713, -0.9921147013144807, -0.982287250728687, -0.9685831611286352, -0.9510565162951575, -0.929776485888255, -0.9048270524660224, -0.8763066800438652, -0.8443279255020152, -0.8090169943749457, -0.7705132427758034, -0.7289686274214051, -0.6845471059287002, -0.6374239897486994, -0.5877852522924577, -0.5358267949790019, -0.48175367410171793, -0.4257792915650725, -0.3681245526846748, -0.3090169943749682, -0.24868988716484533, -0.1873813145857398, -0.12533323356431642, -0.06279051952929407, -5.878304635907295e-15, 0.0627905195293107, 0.12533323356430476, 0.18738131458572826, 0.24868988716483395, 0.309016994374957, 0.3681245526846903, 0.42577929156506183, 0.48175367410173253, 0.5358267949789919, 0.5877852522924712, 0.6374239897486904, 0.6845471059286916, 0.728968627421397, 0.7705132427757959, 0.8090169943749554, 0.8443279255020089, 0.8763066800438596, 0.9048270524660174, 0.9297764858882507, 0.951056516295154, 0.9685831611286322, 0.9822872507286847, 0.9921147013144792, 0.9980267284282724, 1.0, 0.9980267284282721, 0.9921147013144784, 0.9822872507286889, 0.9685831611286307, 0.9510565162951521, 0.9297764858882485, 0.9048270524660269, 0.8763066800438567, 0.844327925502021, 0.809016994374952, 0.7705132427757921, 0.7289686274214124, 0.6845471059286873, 0.6374239897486859, 0.5877852522924665, 0.535826794979011, 0.48175367410170244, 0.42577929156508226, 0.36812455268468486, 0.30901699437495145, 0.24868988716485577, 0.1873813145857504, 0.1253332335642989, 0.06279051952930483, 1.6658910352223535e-14, -0.0627905195293283, -0.12533323356429404, -0.1873813145857177, -0.24868988716485102, -0.3090169943749468, -0.3681245526846803, -0.4257792915650778, -0.4817536741017231, -0.5358267949789828, -0.5877852522924855, -0.6374239897486821, -0.6845471059286837, -0.7289686274214091, -0.770513242775789, -0.8090169943749491, -0.8443279255020183, -0.876306680043868, -0.9048270524660127, -0.9297764858882571, -0.9510565162951506, -0.9685831611286295, -0.982287250728688, -0.9921147013144779, -0.9980267284282718, -1.0, -0.998026728428271, -0.9921147013144798, -0.982287250728691, -0.9685831611286334, -0.9510565162951554, -0.9297764858882525, -0.9048270524660194, -0.8763066800438619, -0.8443279255020115, -0.8090169943749416, -0.770513242775799, -0.7289686274214199, -0.6845471059286952, -0.6374239897486942, -0.5877852522924751, -0.5358267949789961, -0.4817536741017119, -0.425779291565092, -0.3681245526846684, -0.30901699437496166, -0.2486898871648662, -0.1873813145857331, -0.12533323356430962, -0.06279051952931558], \"x\": [125.66370614359172, 125.72653799666352, 125.78936984973531, 125.85220170280712, 125.9150335558789, 125.9778654089507, 126.04069726202249, 126.1035291150943, 126.1663609681661, 126.22919282123789, 126.29202467430969, 126.35485652738147, 126.41768838045328, 126.48052023352507, 126.54335208659687, 126.60618393966868, 126.66901579274045, 126.73184764581227, 126.79467949888405, 126.85751135195585, 126.92034320502763, 126.98317505809945, 127.04600691117123, 127.10883876424303, 127.17167061731483, 127.23450247038662, 127.29733432345843, 127.36016617653021, 127.42299802960201, 127.4858298826738, 127.54866173574561, 127.61149358881738, 127.6743254418892, 127.737157294961, 127.79998914803278, 127.86282100110459, 127.92565285417638, 127.98848470724818, 128.05131656031998, 128.11414841339177, 128.17698026646357, 128.23981211953534, 128.30264397260717, 128.36547582567894, 128.42830767875074, 128.49113953182254, 128.55397138489434, 128.6168032379661, 128.67963509103794, 128.74246694410974, 128.8052987971815, 128.86813065025333, 128.9309625033251, 128.9937943563969, 129.0566262094687, 129.1194580625405, 129.18228991561227, 129.2451217686841, 129.3079536217559, 129.37078547482767, 129.4336173278995, 129.49644918097127, 129.55928103404307, 129.62211288711487, 129.68494474018667, 129.74777659325846, 129.81060844633026, 129.87344029940206, 129.93627215247383, 129.99910400554566, 130.06193585861743, 130.12476771168923, 130.18759956476103, 130.25043141783283, 130.31326327090463, 130.37609512397643, 130.43892697704823, 130.50175883012, 130.5645906831918, 130.6274225362636, 130.6902543893354, 130.7530862424072, 130.815918095479, 130.8787499485508, 130.9415818016226, 131.0044136546944, 131.06724550776616, 131.13007736083796, 131.19290921390976, 131.25574106698156, 131.31857292005336, 131.38140477312515, 131.44423662619695, 131.50706847926872, 131.56990033234055, 131.63273218541232, 131.69556403848412, 131.75839589155592, 131.82122774462772, 131.88405959769952, 131.94689145077132, 132.00972330384312, 132.0725551569149, 132.13538700998672, 132.1982188630585, 132.26105071613028, 132.32388256920208, 132.38671442227388, 132.44954627534568, 132.51237812841748, 132.57520998148928, 132.63804183456105, 132.70087368763288, 132.76370554070465, 132.82653739377645, 132.88936924684828, 132.95220109992005, 133.01503295299185, 133.07786480606364, 133.14069665913544, 133.2035285122072, 133.26636036527904, 133.3291922183508, 133.3920240714226, 133.4548559244944, 133.5176877775662, 133.580519630638, 133.6433514837098, 133.7061833367816, 133.76901518985338, 133.8318470429252, 133.89467889599698, 133.95751074906877, 134.02034260214057, 134.08317445521237, 134.14600630828417, 134.20883816135597, 134.27167001442777, 134.33450186749954, 134.39733372057134, 134.46016557364317, 134.52299742671494, 134.58582927978674, 134.64866113285854, 134.71149298593033, 134.77432483900213, 134.83715669207393, 134.8999885451457, 134.9628203982175, 135.02565225128933, 135.0884841043611, 135.1513159574329, 135.2141478105047, 135.2769796635765, 135.33981151664827, 135.4026433697201, 135.46547522279187, 135.52830707586367, 135.5911389289355, 135.65397078200726, 135.71680263507906, 135.77963448815086, 135.84246634122266, 135.90529819429443, 135.96813004736626, 136.03096190043806, 136.09379375350983, 136.15662560658166, 136.21945745965343, 136.28228931272523, 136.34512116579702, 136.40795301886882, 136.4707848719406, 136.53361672501242, 136.59644857808422, 136.659280431156, 136.72211228422782, 136.7849441372996, 136.8477759903714, 136.9106078434432, 136.973439696515, 137.03627154958676, 137.09910340265859, 137.16193525573038, 137.22476710880215, 137.28759896187398, 137.35043081494575, 137.41326266801755, 137.47609452108935, 137.53892637416115, 137.60175822723295, 137.66459008030475, 137.72742193337655, 137.79025378644832, 137.85308563952012, 137.91591749259192, 137.97874934566372, 138.0415811987355, 138.1044130518073, 138.1672449048791, 138.23007675795088, 138.2929086110227, 138.35574046409448, 138.41857231716628, 138.48140417023808, 138.54423602330988, 138.60706787638168, 138.66989972945348, 138.73273158252528, 138.79556343559705, 138.85839528866887, 138.92122714174064, 138.98405899481244, 139.04689084788424, 139.10972270095604, 139.17255455402784, 139.23538640709964, 139.29821826017144, 139.3610501132432, 139.42388196631504, 139.4867138193868, 139.5495456724586, 139.6123775255304, 139.6752093786022, 139.738041231674, 139.8008730847458, 139.8637049378176, 139.92653679088937, 139.9893686439612, 140.05220049703297, 140.11503235010477, 140.17786420317657, 140.24069605624837, 140.30352790932017, 140.36635976239197, 140.42919161546376, 140.49202346853554, 140.55485532160736, 140.61768717467913, 140.68051902775093, 140.74335088082273, 140.80618273389453, 140.86901458696633, 140.93184644003813, 140.99467829310993, 141.0575101461817, 141.12034199925353, 141.1831738523253, 141.2460057053971, 141.3088375584689, 141.3716694115407, 141.4345012646125, 141.4973331176843, 141.5601649707561, 141.62299682382786, 141.68582867689966, 141.74866052997146, 141.81149238304326, 141.87432423611506, 141.93715608918686, 141.99998794225866, 142.06281979533046, 142.12565164840225, 142.18848350147402, 142.25131535454582, 142.31414720761765, 142.37697906068942, 142.43981091376122, 142.50264276683302, 142.56547461990482, 142.6283064729766, 142.69113832604842, 142.7539701791202, 142.816802032192, 142.87963388526381, 142.94246573833559, 143.00529759140738, 143.06812944447918, 143.13096129755098, 143.19379315062275, 143.25662500369458, 143.31945685676635, 143.38228870983815, 143.44512056290998, 143.50795241598175, 143.57078426905355, 143.63361612212535, 143.69644797519715, 143.75927982826892, 143.82211168134074, 143.88494353441254, 143.9477753874843, 144.01060724055614, 144.0734390936279, 144.1362709466997, 144.1991027997715, 144.2619346528433, 144.32476650591508, 144.3875983589869, 144.4504302120587, 144.51326206513048, 144.57609391820228, 144.63892577127407, 144.70175762434587, 144.76458947741767, 144.82742133048947, 144.89025318356124, 144.95308503663307, 145.01591688970487, 145.07874874277664, 145.14158059584844, 145.20441244892024, 145.26724430199204, 145.33007615506384, 145.39290800813563, 145.45573986120743, 145.5185717142792, 145.58140356735103, 145.6442354204228, 145.7070672734946, 145.7698991265664, 145.8327309796382, 145.89556283271, 145.9583946857818, 146.0212265388536, 146.08405839192537, 146.1468902449972, 146.20972209806897, 146.27255395114076, 146.33538580421256, 146.39821765728436, 146.46104951035613, 146.52388136342796, 146.58671321649976, 146.64954506957153, 146.71237692264336, 146.77520877571513, 146.83804062878693, 146.90087248185873, 146.96370433493053, 147.02653618800232, 147.08936804107412, 147.15219989414592, 147.2150317472177, 147.27786360028952, 147.3406954533613, 147.4035273064331, 147.4663591595049, 147.5291910125767, 147.5920228656485, 147.6548547187203, 147.7176865717921, 147.78051842486386, 147.84335027793568, 147.90618213100745, 147.96901398407925, 148.03184583715105, 148.09467769022285, 148.15750954329465, 148.22034139636645, 148.28317324943825, 148.34600510251002, 148.40883695558182, 148.47166880865362, 148.53450066172542, 148.59733251479722, 148.66016436786902, 148.72299622094081, 148.7858280740126, 148.8486599270844, 148.91149178015618, 148.97432363322798, 149.03715548629978, 149.09998733937158, 149.16281919244338, 149.22565104551518, 149.28848289858698, 149.35131475165875, 149.41414660473058, 149.47697845780235, 149.53981031087415, 149.60264216394594, 149.66547401701774, 149.72830587008954, 149.79113772316134, 149.85396957623314, 149.9168014293049, 149.97963328237674, 150.0424651354485, 150.1052969885203, 150.16812884159214, 150.2309606946639, 150.2937925477357, 150.3566244008075, 150.4194562538793, 150.48228810695107, 150.5451199600229, 150.60795181309467, 150.67078366616647, 150.7336155192383, 150.79644737231007, 150.85927922538187, 150.92211107845367, 150.98494293152547, 151.04777478459724, 151.11060663766906, 151.17343849074086, 151.23627034381263, 151.29910219688446, 151.36193404995623, 151.42476590302803, 151.48759775609983, 151.55042960917163, 151.6132614622434, 151.67609331531523, 151.73892516838703, 151.8017570214588, 151.8645888745306, 151.9274207276024, 151.9902525806742, 152.053084433746, 152.1159162868178, 152.17874813988956, 152.2415799929614, 152.3044118460332, 152.36724369910496, 152.43007555217676, 152.49290740524856, 152.55573925832036, 152.61857111139216, 152.68140296446396, 152.74423481753576, 152.80706667060753, 152.86989852367935, 152.93273037675112, 152.99556222982292, 153.05839408289472, 153.12122593596652, 153.18405778903832, 153.24688964211012, 153.30972149518192, 153.3725533482537, 153.43538520132552, 153.4982170543973, 153.5610489074691, 153.62388076054089, 153.68671261361268, 153.74954446668445, 153.81237631975628, 153.87520817282808, 153.93804002589985, 154.00087187897168, 154.06370373204345, 154.12653558511525, 154.18936743818705, 154.25219929125885, 154.31503114433065, 154.37786299740245, 154.44069485047424, 154.50352670354602, 154.56635855661784, 154.6291904096896, 154.6920222627614, 154.7548541158332, 154.817685968905, 154.8805178219768, 154.9433496750486, 155.0061815281204, 155.06901338119218, 155.131845234264, 155.19467708733578, 155.25750894040758, 155.32034079347937, 155.38317264655117, 155.44600449962297, 155.50883635269477, 155.57166820576657, 155.63450005883834, 155.69733191191014, 155.76016376498194, 155.82299561805374, 155.88582747112554, 155.94865932419734, 156.01149117726914, 156.07432303034093, 156.13715488341273, 156.1999867364845, 156.2628185895563, 156.3256504426281, 156.3884822956999, 156.4513141487717, 156.5141460018435, 156.5769778549153, 156.63980970798707, 156.7026415610589, 156.76547341413067, 156.82830526720247, 156.89113712027427, 156.95396897334606, 157.01680082641786]}, \"id\": \"070d7bbd-f4d5-49cf-8fa5-44f4751dade7\"}, \"type\": \"ColumnDataSource\", \"id\": \"070d7bbd-f4d5-49cf-8fa5-44f4751dade7\"}, {\"attributes\": {\"line_color\": {\"value\": \"green\"}, \"line_alpha\": {\"value\": 1.0}, \"tags\": [], \"doc\": null, \"y\": {\"field\": \"y\"}, \"x\": {\"field\": \"x\"}, \"id\": \"09cd0eb2-206f-4458-90ed-8ebe2609c9ee\"}, \"type\": \"Line\", \"id\": \"09cd0eb2-206f-4458-90ed-8ebe2609c9ee\"}, {\"attributes\": {\"doc\": null, \"id\": \"67835188-4b81-419d-9ae8-bf34fc9a6d84\", \"tags\": []}, \"type\": \"BasicTickFormatter\", \"id\": \"67835188-4b81-419d-9ae8-bf34fc9a6d84\"}, {\"attributes\": {\"plot\": {\"subtype\": \"Figure\", \"type\": \"Plot\", \"id\": \"e2101e0b-740a-49eb-baa6-98a82fac815c\"}, \"legends\": [[\"sinusoid + noise\", [{\"type\": \"GlyphRenderer\", \"id\": \"f1fe384a-4c66-4d14-868f-02386e7b9440\"}]], [\"clean sinusoid\", [{\"type\": \"GlyphRenderer\", \"id\": \"57980951-0499-4d5c-8e06-ac16d3865288\"}]], [\"prediction\", [{\"type\": \"GlyphRenderer\", \"id\": \"3623abe1-16f1-40be-bd41-64940666cbad\"}]]], \"tags\": [], \"doc\": null, \"id\": \"7d2883b6-c022-42c7-bb0c-f1109205bb79\"}, \"type\": \"Legend\", \"id\": \"7d2883b6-c022-42c7-bb0c-f1109205bb79\"}, {\"attributes\": {\"doc\": null, \"id\": \"95a6b555-0eb7-4345-9316-480a1b01ba7d\", \"tags\": []}, \"type\": \"BasicTickFormatter\", \"id\": \"95a6b555-0eb7-4345-9316-480a1b01ba7d\"}, {\"attributes\": {\"geometries\": [], \"tags\": [], \"doc\": null, \"id\": \"5cdea73e-8d7d-485f-84b5-47d9dd94bab7\"}, \"type\": \"ToolEvents\", \"id\": \"5cdea73e-8d7d-485f-84b5-47d9dd94bab7\"}, {\"subtype\": \"Figure\", \"type\": \"Plot\", \"id\": \"e2101e0b-740a-49eb-baa6-98a82fac815c\", \"attributes\": {\"x_range\": {\"type\": \"DataRange1d\", \"id\": \"ab0214cc-dea6-43fd-ab21-e2240d90eb54\"}, \"right\": [], \"tags\": [], \"tools\": [{\"type\": \"PanTool\", \"id\": \"bbd8171e-476d-4c61-bdd4-dcd98e235b94\"}, {\"type\": \"WheelZoomTool\", \"id\": \"0d39fb31-af02-46b7-b477-0ea8da3e6340\"}, {\"type\": \"BoxZoomTool\", \"id\": \"96934ada-9854-411f-a083-115660aa9407\"}, {\"type\": \"PreviewSaveTool\", \"id\": \"a0c75865-5753-4ef9-b740-c3e9e790fd48\"}, {\"type\": \"ResizeTool\", \"id\": \"ee7c0efa-f978-4907-8367-1f2f83db21b6\"}, {\"type\": \"ResetTool\", \"id\": \"672f04f9-29a1-4918-b260-b401e806e1bd\"}, {\"type\": \"HelpTool\", \"id\": \"9d14e8f2-8a11-4927-96e7-a72222c2873e\"}], \"title\": \"Data\", \"extra_y_ranges\": {}, \"plot_width\": 750, \"renderers\": [{\"type\": \"LinearAxis\", \"id\": \"d8467c71-13f9-4f00-8a69-f05ff3c01742\"}, {\"type\": \"Grid\", \"id\": \"eb8c9e36-ace1-4283-b79d-ca0005480e36\"}, {\"type\": \"LinearAxis\", \"id\": \"81603523-4c68-4851-9132-711045fd4cae\"}, {\"type\": \"Grid\", \"id\": \"bf8f41bc-feea-4201-954e-03134f0b30a7\"}, {\"type\": \"Legend\", \"id\": \"7d2883b6-c022-42c7-bb0c-f1109205bb79\"}, {\"type\": \"GlyphRenderer\", \"id\": \"f1fe384a-4c66-4d14-868f-02386e7b9440\"}, {\"type\": \"GlyphRenderer\", \"id\": \"57980951-0499-4d5c-8e06-ac16d3865288\"}, {\"type\": \"GlyphRenderer\", \"id\": \"3623abe1-16f1-40be-bd41-64940666cbad\"}], \"extra_x_ranges\": {}, \"plot_height\": 450, \"tool_events\": {\"type\": \"ToolEvents\", \"id\": \"5cdea73e-8d7d-485f-84b5-47d9dd94bab7\"}, \"above\": [], \"doc\": null, \"id\": \"e2101e0b-740a-49eb-baa6-98a82fac815c\", \"y_range\": {\"type\": \"DataRange1d\", \"id\": \"75546b25-be70-48e2-9bea-83badb5c4582\"}, \"below\": [{\"type\": \"LinearAxis\", \"id\": \"d8467c71-13f9-4f00-8a69-f05ff3c01742\"}], \"left\": [{\"type\": \"LinearAxis\", \"id\": \"81603523-4c68-4851-9132-711045fd4cae\"}]}}, {\"attributes\": {\"nonselection_glyph\": {\"type\": \"Circle\", \"id\": \"4be0bf37-e48a-4b41-b511-7c94ebbc8b66\"}, \"data_source\": {\"type\": \"ColumnDataSource\", \"id\": \"7bc226c6-b11d-4bd1-b664-ec7325a9c927\"}, \"tags\": [], \"doc\": null, \"selection_glyph\": null, \"id\": \"f1fe384a-4c66-4d14-868f-02386e7b9440\", \"glyph\": {\"type\": \"Circle\", \"id\": \"e0ac08ea-5193-46dd-a3bd-9a19431dbc57\"}}, \"type\": \"GlyphRenderer\", \"id\": \"f1fe384a-4c66-4d14-868f-02386e7b9440\"}, {\"attributes\": {\"plot\": {\"subtype\": \"Figure\", \"type\": \"Plot\", \"id\": \"e2101e0b-740a-49eb-baa6-98a82fac815c\"}, \"dimensions\": [\"width\", \"height\"], \"tags\": [], \"doc\": null, \"id\": \"96934ada-9854-411f-a083-115660aa9407\"}, \"type\": \"BoxZoomTool\", \"id\": \"96934ada-9854-411f-a083-115660aa9407\"}, {\"attributes\": {\"plot\": {\"subtype\": \"Figure\", \"type\": \"Plot\", \"id\": \"e2101e0b-740a-49eb-baa6-98a82fac815c\"}, \"tags\": [], \"doc\": null, \"formatter\": {\"type\": \"BasicTickFormatter\", \"id\": \"67835188-4b81-419d-9ae8-bf34fc9a6d84\"}, \"ticker\": {\"type\": \"BasicTicker\", \"id\": \"aaa12c37-3f2e-4649-ad45-e3bcaee6f1c2\"}, \"id\": \"81603523-4c68-4851-9132-711045fd4cae\"}, \"type\": \"LinearAxis\", \"id\": \"81603523-4c68-4851-9132-711045fd4cae\"}, {\"attributes\": {\"plot\": {\"subtype\": \"Figure\", \"type\": \"Plot\", \"id\": \"e2101e0b-740a-49eb-baa6-98a82fac815c\"}, \"dimensions\": [\"width\", \"height\"], \"tags\": [], \"doc\": null, \"id\": \"0d39fb31-af02-46b7-b477-0ea8da3e6340\"}, \"type\": \"WheelZoomTool\", \"id\": \"0d39fb31-af02-46b7-b477-0ea8da3e6340\"}, {\"attributes\": {\"plot\": {\"subtype\": \"Figure\", \"type\": \"Plot\", \"id\": \"e2101e0b-740a-49eb-baa6-98a82fac815c\"}, \"tags\": [], \"doc\": null, \"id\": \"ee7c0efa-f978-4907-8367-1f2f83db21b6\"}, \"type\": \"ResizeTool\", \"id\": \"ee7c0efa-f978-4907-8367-1f2f83db21b6\"}];\n",
       "        Bokeh.load_models(all_models);\n",
       "        var plots = [{'modeltype': 'Plot', 'elementid': '5e45d93f-29ca-4922-a4d7-c94985f445ba', 'modelid': 'e2101e0b-740a-49eb-baa6-98a82fac815c'}];\n",
       "        for (idx in plots) {\n",
       "        \tvar plot = plots[idx];\n",
       "        \tvar model = Bokeh.Collections(plot.modeltype).get(plot.modelid);\n",
       "        \tBokeh.logger.info('Realizing plot:')\n",
       "        \tBokeh.logger.info(' - modeltype: ' + plot.modeltype);\n",
       "        \tBokeh.logger.info(' - modelid: ' + plot.modelid);\n",
       "        \tBokeh.logger.info(' - elementid: ' + plot.elementid);\n",
       "        \tvar view = new model.default_view({\n",
       "        \t\tmodel: model,\n",
       "        \t\tel: '#' + plot.elementid\n",
       "        \t});\n",
       "        \tBokeh.index[plot.modelid] = view;\n",
       "        }\n",
       "    });\n",
       "    </script>\n",
       "<div class=\"plotdiv\" id=\"5e45d93f-29ca-4922-a4d7-c94985f445ba\"></div>\n",
       "\n"
      ]
     },
     "metadata": {},
     "output_type": "display_data"
    }
   ],
   "source": [
    "fig = bk.figure(plot_width=750, \n",
    "                plot_height=450,\n",
    "                title=\"Data\")\n",
    "\n",
    "fig.circle(t[-len(preds):], y_noisy[-len(preds):], color='red', size=2, legend='sinusoid + noise')\n",
    "fig.line(t[-len(preds):], y_clean[-len(preds):], color='green', legend='clean sinusoid')\n",
    "fig.line(t[-len(preds):], [u for u in preds.flat], color='blue', legend='prediction')\n",
    "\n",
    "bk.show(fig)"
   ]
  },
  {
   "cell_type": "markdown",
   "metadata": {},
   "source": [
    "The momentum allows mainly to avoid oscillations in the direction of high curvature by combining gradient with different sign and build up speed in directions with low but consistent gradient. Adding momentum helps the algorithm to converge faster. This can be seen in the previous example where the error is lower than that of the Neural Network without momentum. Since we have a fixed number of epochs, increasing convergence speed makes the algorithm use the available time more profitably."
   ]
  },
  {
   "cell_type": "markdown",
   "metadata": {},
   "source": [
    "### 5.2 Adaptive Learning Rate (rmsprop)"
   ]
  },
  {
   "cell_type": "markdown",
   "metadata": {},
   "source": [
    "Rmsprop is another type of algorithm to vary the weights adaptively. It uses the sign of the gradient to decide the direction of the update, and then calculate the update step separately for each weight with a rule. It keeps a moving average for the gradient of each weight and then it calculates the update diving the gradient by the square root of the moving average.\n",
    "\n",
    "The parameters `decay_rate` and `epsilon` are, respectively, a decay factor for the moving average and the weight of the current gradient when adding it to the moving average."
   ]
  },
  {
   "cell_type": "code",
   "execution_count": 61,
   "metadata": {
    "collapsed": false
   },
   "outputs": [],
   "source": [
    "from neon.optimizers import RMSProp\n",
    "\n",
    "batch_size = 50     # Minibatch size (how many examples to process in parallel)\n",
    "backend = 'cpu'     # use gpu for GPU\n",
    "hidden_size = 20    # Number of hidden units \n",
    "output_size = 1    # Number of output units (one)\n",
    "learning_rate = 0.001\n",
    "decay_rate=0.9\n",
    "epsilon=1e-6\n",
    "activation = Tanh()\n",
    "\n",
    "logger = logging.getLogger()\n",
    "be = gen_backend(backend=backend,\n",
    "                 batch_size=batch_size, \n",
    "                 device_id=0,\n",
    "                 stochastic_round=True)\n",
    "\n",
    "train_set = DataIterator(X_train.astype(np.float32), y_train.astype(np.float32), \n",
    "                         make_onehot=False)\n",
    "\n",
    "test_set = DataIterator(X_test.astype(np.float32), y_test.astype(np.float32), \n",
    "                        make_onehot=False)\n",
    "\n",
    "init_norm = Gaussian(loc=0.0, scale=0.05)\n",
    "optimizer = RMSProp(learning_rate=learning_rate, decay_rate=decay_rate, \n",
    "                    epsilon=epsilon, stochastic_round=True)\n",
    "\n",
    "hidden_layer = Affine(nout=hidden_size, init=init_norm, activation=activation)\n",
    "output_layer = Affine(nout=output_size, init=init_norm)\n",
    "\n",
    "layers = [hidden_layer, output_layer]\n",
    "\n",
    "cost = GeneralizedCost(costfunc=MeanSquared())\n",
    "\n",
    "nn_rmsprop = Model(layers=layers)\n",
    "\n",
    "callbacks = Callbacks(nn_rmsprop, train_set, progress_bar=False, output_file=None)"
   ]
  },
  {
   "cell_type": "code",
   "execution_count": 62,
   "metadata": {
    "collapsed": false
   },
   "outputs": [
    {
     "name": "stdout",
     "output_type": "stream",
     "text": [
      "Model Error: 0.014698\n"
     ]
    }
   ],
   "source": [
    "epochs = 50         # Total number of passes over all examples (epochs).\n",
    "\n",
    "nn_rmsprop.fit(train_set, optimizer=optimizer, num_epochs=epochs, cost=cost, callbacks=callbacks)\n",
    "preds = nn_rmsprop.get_outputs(test_set)\n",
    "err = np.sqrt(sk.metrics.mean_squared_error(preds, y_test))\n",
    "print('Model Error: %f' % err)"
   ]
  },
  {
   "cell_type": "code",
   "execution_count": 63,
   "metadata": {
    "collapsed": false
   },
   "outputs": [
    {
     "data": {
      "text/html": [
       "<script type=\"text/javascript\">\n",
       "        Bokeh.$(function() {\n",
       "        var all_models = [{\"attributes\": {\"plot\": {\"subtype\": \"Figure\", \"type\": \"Plot\", \"id\": \"9156efd8-3122-488f-9f7f-e7046d4792ab\"}, \"tags\": [], \"doc\": null, \"id\": \"0ed20150-f66a-4fb9-ac87-1b2a4ad80e1d\"}, \"type\": \"PreviewSaveTool\", \"id\": \"0ed20150-f66a-4fb9-ac87-1b2a4ad80e1d\"}, {\"subtype\": \"Figure\", \"type\": \"Plot\", \"id\": \"9156efd8-3122-488f-9f7f-e7046d4792ab\", \"attributes\": {\"x_range\": {\"type\": \"DataRange1d\", \"id\": \"be57d1da-ca7a-4c06-b9cf-5b32b8c47616\"}, \"right\": [], \"tags\": [], \"tools\": [{\"type\": \"PanTool\", \"id\": \"221b66d8-ef15-4166-8eac-5d24e5e46079\"}, {\"type\": \"WheelZoomTool\", \"id\": \"15aac130-4ae0-4afb-9942-eaf8b426dc68\"}, {\"type\": \"BoxZoomTool\", \"id\": \"19dd1ff9-b2ff-4f6d-a8ee-e170de33a343\"}, {\"type\": \"PreviewSaveTool\", \"id\": \"0ed20150-f66a-4fb9-ac87-1b2a4ad80e1d\"}, {\"type\": \"ResizeTool\", \"id\": \"aa9c3ef9-f689-4287-ae74-c37dd4a87bf4\"}, {\"type\": \"ResetTool\", \"id\": \"a162576e-eb1d-4493-8849-048c57d39629\"}, {\"type\": \"HelpTool\", \"id\": \"52626f51-6dfa-4971-8777-b48ef6d8f072\"}], \"title\": \"Data\", \"extra_y_ranges\": {}, \"plot_width\": 750, \"renderers\": [{\"type\": \"LinearAxis\", \"id\": \"bd7514fe-f2b2-48e5-88e3-e5a29997b7ad\"}, {\"type\": \"Grid\", \"id\": \"79390d2c-662f-476c-af36-def5eb063f42\"}, {\"type\": \"LinearAxis\", \"id\": \"3566992e-45e2-4d2f-bebc-0f2f90d9c4bd\"}, {\"type\": \"Grid\", \"id\": \"adc05a70-3fe8-4184-9a69-552398657063\"}, {\"type\": \"Legend\", \"id\": \"a6982a72-f3dd-403a-89b6-6aee06abe70a\"}, {\"type\": \"GlyphRenderer\", \"id\": \"e89fadbc-1518-46ec-a501-a2a0d7de50ff\"}, {\"type\": \"GlyphRenderer\", \"id\": \"428a3ad3-57fa-4235-8668-93643e22c45b\"}, {\"type\": \"GlyphRenderer\", \"id\": \"13ed4398-5bfa-413c-97cb-2d14f796f5e3\"}], \"extra_x_ranges\": {}, \"plot_height\": 450, \"tool_events\": {\"type\": \"ToolEvents\", \"id\": \"7e1d4b35-c5f8-440b-ac99-fcf1505df01c\"}, \"above\": [], \"doc\": null, \"id\": \"9156efd8-3122-488f-9f7f-e7046d4792ab\", \"y_range\": {\"type\": \"DataRange1d\", \"id\": \"11faf924-1a3c-4505-8cbe-2a056e244f96\"}, \"below\": [{\"type\": \"LinearAxis\", \"id\": \"bd7514fe-f2b2-48e5-88e3-e5a29997b7ad\"}], \"left\": [{\"type\": \"LinearAxis\", \"id\": \"3566992e-45e2-4d2f-bebc-0f2f90d9c4bd\"}]}}, {\"attributes\": {\"nonselection_glyph\": {\"type\": \"Circle\", \"id\": \"2f49537d-4615-464e-ada7-719b4a9f7a81\"}, \"data_source\": {\"type\": \"ColumnDataSource\", \"id\": \"68e0ccd8-7bff-47ae-9144-a1ce99298703\"}, \"tags\": [], \"doc\": null, \"selection_glyph\": null, \"id\": \"e89fadbc-1518-46ec-a501-a2a0d7de50ff\", \"glyph\": {\"type\": \"Circle\", \"id\": \"3f7f597f-5353-4d66-aa61-d2b39800efc0\"}}, \"type\": \"GlyphRenderer\", \"id\": \"e89fadbc-1518-46ec-a501-a2a0d7de50ff\"}, {\"attributes\": {\"plot\": {\"subtype\": \"Figure\", \"type\": \"Plot\", \"id\": \"9156efd8-3122-488f-9f7f-e7046d4792ab\"}, \"legends\": [[\"sinusoid + noise\", [{\"type\": \"GlyphRenderer\", \"id\": \"e89fadbc-1518-46ec-a501-a2a0d7de50ff\"}]], [\"clean sinusoid\", [{\"type\": \"GlyphRenderer\", \"id\": \"428a3ad3-57fa-4235-8668-93643e22c45b\"}]], [\"prediction\", [{\"type\": \"GlyphRenderer\", \"id\": \"13ed4398-5bfa-413c-97cb-2d14f796f5e3\"}]]], \"tags\": [], \"doc\": null, \"id\": \"a6982a72-f3dd-403a-89b6-6aee06abe70a\"}, \"type\": \"Legend\", \"id\": \"a6982a72-f3dd-403a-89b6-6aee06abe70a\"}, {\"attributes\": {\"plot\": {\"subtype\": \"Figure\", \"type\": \"Plot\", \"id\": \"9156efd8-3122-488f-9f7f-e7046d4792ab\"}, \"tags\": [], \"doc\": null, \"id\": \"a162576e-eb1d-4493-8849-048c57d39629\"}, \"type\": \"ResetTool\", \"id\": \"a162576e-eb1d-4493-8849-048c57d39629\"}, {\"attributes\": {\"nonselection_glyph\": {\"type\": \"Line\", \"id\": \"9becb74d-5716-4c61-9392-9bf172d0e1bd\"}, \"data_source\": {\"type\": \"ColumnDataSource\", \"id\": \"a3470105-7bb6-4d58-ad7b-018bdc074783\"}, \"tags\": [], \"doc\": null, \"selection_glyph\": null, \"id\": \"428a3ad3-57fa-4235-8668-93643e22c45b\", \"glyph\": {\"type\": \"Line\", \"id\": \"26e06cd9-b1d2-47e7-a456-aeab3175bf3e\"}}, \"type\": \"GlyphRenderer\", \"id\": \"428a3ad3-57fa-4235-8668-93643e22c45b\"}, {\"attributes\": {\"doc\": null, \"id\": \"4b94b18b-bd9e-4c06-8991-5d21695e9b33\", \"tags\": []}, \"type\": \"BasicTickFormatter\", \"id\": \"4b94b18b-bd9e-4c06-8991-5d21695e9b33\"}, {\"attributes\": {\"tags\": [], \"doc\": null, \"mantissas\": [2, 5, 10], \"id\": \"8f89fcb0-5fa7-43e5-8deb-efca675c3a1a\", \"num_minor_ticks\": 5}, \"type\": \"BasicTicker\", \"id\": \"8f89fcb0-5fa7-43e5-8deb-efca675c3a1a\"}, {\"attributes\": {\"line_color\": {\"value\": \"#1f77b4\"}, \"line_alpha\": {\"value\": 0.1}, \"tags\": [], \"doc\": null, \"y\": {\"field\": \"y\"}, \"x\": {\"field\": \"x\"}, \"id\": \"45da62a6-99ad-417f-af80-4d403e3ba944\"}, \"type\": \"Line\", \"id\": \"45da62a6-99ad-417f-af80-4d403e3ba944\"}, {\"attributes\": {\"plot\": {\"subtype\": \"Figure\", \"type\": \"Plot\", \"id\": \"9156efd8-3122-488f-9f7f-e7046d4792ab\"}, \"tags\": [], \"doc\": null, \"id\": \"aa9c3ef9-f689-4287-ae74-c37dd4a87bf4\"}, \"type\": \"ResizeTool\", \"id\": \"aa9c3ef9-f689-4287-ae74-c37dd4a87bf4\"}, {\"attributes\": {\"plot\": {\"subtype\": \"Figure\", \"type\": \"Plot\", \"id\": \"9156efd8-3122-488f-9f7f-e7046d4792ab\"}, \"tags\": [], \"doc\": null, \"dimension\": 1, \"ticker\": {\"type\": \"BasicTicker\", \"id\": \"8f89fcb0-5fa7-43e5-8deb-efca675c3a1a\"}, \"id\": \"adc05a70-3fe8-4184-9a69-552398657063\"}, \"type\": \"Grid\", \"id\": \"adc05a70-3fe8-4184-9a69-552398657063\"}, {\"attributes\": {\"nonselection_glyph\": {\"type\": \"Line\", \"id\": \"45da62a6-99ad-417f-af80-4d403e3ba944\"}, \"data_source\": {\"type\": \"ColumnDataSource\", \"id\": \"17f72b9c-64c9-4490-8509-6076b2aa4a10\"}, \"tags\": [], \"doc\": null, \"selection_glyph\": null, \"id\": \"13ed4398-5bfa-413c-97cb-2d14f796f5e3\", \"glyph\": {\"type\": \"Line\", \"id\": \"36056cc3-861c-4f31-afc5-ae2e055abf2f\"}}, \"type\": \"GlyphRenderer\", \"id\": \"13ed4398-5bfa-413c-97cb-2d14f796f5e3\"}, {\"attributes\": {\"plot\": {\"subtype\": \"Figure\", \"type\": \"Plot\", \"id\": \"9156efd8-3122-488f-9f7f-e7046d4792ab\"}, \"dimensions\": [\"width\", \"height\"], \"tags\": [], \"doc\": null, \"id\": \"221b66d8-ef15-4166-8eac-5d24e5e46079\"}, \"type\": \"PanTool\", \"id\": \"221b66d8-ef15-4166-8eac-5d24e5e46079\"}, {\"attributes\": {\"doc\": null, \"id\": \"5e85480e-3ee2-4c03-8e7d-3d14042ef33d\", \"tags\": []}, \"type\": \"BasicTickFormatter\", \"id\": \"5e85480e-3ee2-4c03-8e7d-3d14042ef33d\"}, {\"attributes\": {\"plot\": {\"subtype\": \"Figure\", \"type\": \"Plot\", \"id\": \"9156efd8-3122-488f-9f7f-e7046d4792ab\"}, \"dimensions\": [\"width\", \"height\"], \"tags\": [], \"doc\": null, \"id\": \"19dd1ff9-b2ff-4f6d-a8ee-e170de33a343\"}, \"type\": \"BoxZoomTool\", \"id\": \"19dd1ff9-b2ff-4f6d-a8ee-e170de33a343\"}, {\"attributes\": {\"column_names\": [\"y\", \"x\"], \"tags\": [], \"doc\": null, \"selected\": {\"2d\": {\"indices\": []}, \"1d\": {\"indices\": []}, \"0d\": {\"indices\": [], \"flag\": false}}, \"callback\": null, \"data\": {\"y\": [-4.898587196589413e-15, 0.06279051952931168, 0.12533323356429163, 0.18738131458572924, 0.24868988716484866, 0.30901699437494445, 0.3681245526846648, 0.4257792915650756, 0.48175367410172093, 0.5358267949789928, 0.587785252292472, 0.6374239897486802, 0.6845471059286923, 0.7289686274214074, 0.7705132427757875, 0.809016994374956, 0.8443279255020094, 0.8763066800438668, 0.9048270524660177, 0.929776485888251, 0.9510565162951499, 0.9685831611286324, 0.9822872507286876, 0.9921147013144775, 0.9980267284282716, 1.0, 0.9980267284282711, 0.9921147013144783, 0.9822872507286888, 0.9685831611286341, 0.9510565162951519, 0.9297764858882586, 0.9048270524660205, 0.876306680043863, 0.8443279255020204, 0.809016994374943, 0.7705132427757915, 0.7289686274214118, 0.6845471059286866, 0.6374239897486851, 0.5877852522924657, 0.5358267949790101, 0.4817536741017016, 0.4257792915650814, 0.3681245526846839, 0.3090169943749505, 0.24868988716485482, 0.18738131458574944, 0.12533323356429793, 0.06279051952930385, 1.567919291290565e-14, -0.06279051952932928, -0.12533323356429502, -0.18738131458571863, -0.248689887164852, -0.30901699437494773, -0.36812455268465477, -0.4257792915650787, -0.4817536741017239, -0.5358267949789837, -0.5877852522924862, -0.6374239897486829, -0.6845471059286845, -0.7289686274214098, -0.7705132427757896, -0.8090169943749497, -0.8443279255020189, -0.8763066800438685, -0.9048270524660131, -0.9297764858882576, -0.9510565162951509, -0.9685831611286297, -0.9822872507286883, -0.992114701314478, -0.9980267284282718, -1.0, -0.9980267284282709, -0.9921147013144797, -0.9822872507286908, -0.9685831611286332, -0.9510565162951552, -0.9297764858882521, -0.904827052466019, -0.8763066800438615, -0.844327925502011, -0.809016994374941, -0.7705132427757984, -0.7289686274214191, -0.6845471059286945, -0.6374239897486934, -0.5877852522924744, -0.5358267949789952, -0.48175367410171105, -0.4257792915650911, -0.36812455268466754, -0.3090169943749608, -0.24868988716486526, -0.18738131458573212, -0.12533323356430864, -0.06279051952931461, 1.9619108011821185e-15, 0.06279051952931852, 0.12533323356428433, 0.18738131458573598, 0.24868988716484153, 0.30901699437493746, 0.3681245526846712, 0.42577929156506894, 0.4817536741017145, 0.5358267949789985, 0.5877852522924776, 0.6374239897486745, 0.6845471059286974, 0.7289686274214023, 0.7705132427757828, 0.80901699437496, 0.8443279255020131, 0.8763066800438634, 0.9048270524660207, 0.9297764858882536, 0.9510565162951475, 0.9685831611286342, 0.9822872507286863, 0.9921147013144767, 0.9980267284282711, 1.0, 0.9980267284282716, 0.9921147013144774, 0.9822872507286875, 0.9685831611286359, 0.9510565162951496, 0.9297764858882561, 0.9048270524660236, 0.8763066800438666, 0.8443279255020167, 0.8090169943749473, 0.7705132427757871, 0.7289686274214071, 0.6845471059287024, 0.6374239897487017, 0.5877852522924601, 0.5358267949790043, 0.4817536741017205, 0.42577929156507516, 0.36812455268467753, 0.30901699437494395, 0.2486898871648482, 0.1873813145857427, 0.12533323356431933, 0.062790519529297, 8.81869491513412e-15, -0.06279051952930777, -0.12533323356430184, -0.18738131458572538, -0.2486898871648311, -0.3090169943749542, -0.36812455268466115, -0.42577929156505917, -0.4817536741017299, -0.5358267949789894, -0.5877852522924688, -0.6374239897486881, -0.6845471059286895, -0.728968627421395, -0.770513242775794, -0.8090169943749537, -0.8443279255020073, -0.8763066800438718, -0.904827052466016, -0.9297764858882496, -0.951056516295153, -0.9685831611286315, -0.9822872507286842, -0.9921147013144788, -0.9980267284282722, -1.0, -0.9980267284282704, -0.9921147013144788, -0.9822872507286895, -0.9685831611286315, -0.951056516295153, -0.92977648588826, -0.904827052466016, -0.8763066800438581, -0.8443279255020225, -0.809016994374937, -0.770513242775794, -0.7289686274214144, -0.6845471059286895, -0.6374239897486881, -0.5877852522924688, -0.5358267949789894, -0.48175367410170505, -0.4257792915650849, -0.3681245526846876, -0.3090169943749542, -0.24868988716485863, -0.18738131458572538, -0.12533323356430184, -0.06279051952930775, -1.9599300631450357e-14, 0.06279051952932536, 0.12533323356429113, 0.1873813145857148, 0.2486898871648482, 0.30901699437494395, 0.3681245526846776, 0.42577929156507516, 0.4817536741017205, 0.5358267949789803, 0.5877852522924831, 0.6374239897486798, 0.6845471059286816, 0.7289686274214071, 0.7705132427757871, 0.8090169943749473, 0.8443279255020167, 0.8763066800438666, 0.9048270524660115, 0.9297764858882561, 0.9510565162951496, 0.9685831611286287, 0.9822872507286875, 0.9921147013144774, 0.9980267284282716, 1.0, 0.9980267284282711, 0.9921147013144802, 0.9822872507286863, 0.9685831611286342, 0.9510565162951563, 0.9297764858882536, 0.9048270524660207, 0.8763066800438634, 0.8443279255020131, 0.8090169943749433, 0.7705132427758009, 0.7289686274214023, 0.6845471059286974, 0.6374239897486964, 0.5877852522924776, 0.5358267949789985, 0.4817536741017145, 0.42577929156506894, 0.3681245526846712, 0.3090169943749645, 0.24868988716484153, 0.18738131458573598, 0.12533323356431253, 0.06279051952931852, 1.9581969173625882e-15, -0.06279051952931461, -0.12533323356430864, -0.18738131458573212, -0.24868988716483775, -0.30901699437493374, -0.36812455268466754, -0.4257792915650654, -0.48175367410171105, -0.5358267949789952, -0.5877852522924744, -0.6374239897486934, -0.6845471059286945, -0.7289686274213997, -0.7705132427757803, -0.8090169943749578, -0.844327925502011, -0.8763066800438615, -0.904827052466019, -0.9297764858882521, -0.9510565162951463, -0.9685831611286332, -0.9822872507286855, -0.9921147013144761, -0.9980267284282727, -1.0, -0.9980267284282718, -0.992114701314478, -0.9822872507286883, -0.9685831611286368, -0.9510565162951509, -0.9297764858882576, -0.9048270524660252, -0.8763066800438548, -0.8443279255020189, -0.8090169943749497, -0.7705132427757896, -0.7289686274214098, -0.6845471059287052, -0.6374239897486829, -0.5877852522924633, -0.5358267949790076, -0.481753674101699, -0.4257792915650787, -0.3681245526846812, -0.30901699437494773, -0.24868988716485196, -0.18738131458574656, -0.12533323356429502, -0.06279051952930091, -1.2738802633678827e-14, 0.06279051952930385, 0.12533323356429796, 0.18738131458572152, 0.24868988716485482, 0.3090169943749505, 0.3681245526846575, 0.4257792915650814, 0.48175367410172654, 0.5358267949789861, 0.5877852522924657, 0.6374239897486851, 0.6845471059286866, 0.7289686274214118, 0.7705132427757915, 0.8090169943749514, 0.8443279255020052, 0.8763066800438699, 0.9048270524660144, 0.9297764858882481, 0.9510565162951519, 0.9685831611286305, 0.9822872507286888, 0.9921147013144783, 0.998026728428272, 1.0, 0.9980267284282707, 0.9921147013144793, 0.9822872507286903, 0.9685831611286324, 0.9510565162951542, 0.9297764858882615, 0.9048270524660177, 0.87630668004386, 0.8443279255020246, 0.8090169943749393, 0.7705132427757965, 0.7289686274214171, 0.6845471059286923, 0.6374239897486911, 0.587785252292472, 0.5358267949789928, 0.4817536741017085, 0.4257792915650884, 0.3681245526846648, 0.30901699437495794, 0.24868988716486243, 0.18738131458572924, 0.12533323356430573, 0.06279051952931167, -4.902301080408943e-15, -0.06279051952932145, -0.12533323356428724, -0.18738131458573887, -0.2486898871648444, -0.30901699437494023, -0.3681245526846739, -0.4257792915650716, -0.48175367410171704, -0.535826794979001, -0.5877852522924799, -0.6374239897486768, -0.6845471059286787, -0.7289686274214044, -0.7705132427757846, -0.809016994374945, -0.8443279255020146, -0.8763066800438647, -0.9048270524660219, -0.9297764858882547, -0.9510565162951485, -0.9685831611286279, -0.9822872507286868, -0.992114701314477, -0.9980267284282713, -1.0, -0.9980267284282713, -0.9921147013144807, -0.982287250728687, -0.9685831611286352, -0.9510565162951575, -0.929776485888255, -0.9048270524660224, -0.8763066800438652, -0.8443279255020152, -0.8090169943749457, -0.7705132427758034, -0.7289686274214051, -0.6845471059287002, -0.6374239897486994, -0.5877852522924577, -0.5358267949790019, -0.48175367410171793, -0.4257792915650725, -0.3681245526846748, -0.3090169943749682, -0.24868988716484533, -0.1873813145857398, -0.12533323356431642, -0.06279051952929407, -5.878304635907295e-15, 0.0627905195293107, 0.12533323356430476, 0.18738131458572826, 0.24868988716483395, 0.309016994374957, 0.3681245526846903, 0.42577929156506183, 0.48175367410173253, 0.5358267949789919, 0.5877852522924712, 0.6374239897486904, 0.6845471059286916, 0.728968627421397, 0.7705132427757959, 0.8090169943749554, 0.8443279255020089, 0.8763066800438596, 0.9048270524660174, 0.9297764858882507, 0.951056516295154, 0.9685831611286322, 0.9822872507286847, 0.9921147013144792, 0.9980267284282724, 1.0, 0.9980267284282721, 0.9921147013144784, 0.9822872507286889, 0.9685831611286307, 0.9510565162951521, 0.9297764858882485, 0.9048270524660269, 0.8763066800438567, 0.844327925502021, 0.809016994374952, 0.7705132427757921, 0.7289686274214124, 0.6845471059286873, 0.6374239897486859, 0.5877852522924665, 0.535826794979011, 0.48175367410170244, 0.42577929156508226, 0.36812455268468486, 0.30901699437495145, 0.24868988716485577, 0.1873813145857504, 0.1253332335642989, 0.06279051952930483, 1.6658910352223535e-14, -0.0627905195293283, -0.12533323356429404, -0.1873813145857177, -0.24868988716485102, -0.3090169943749468, -0.3681245526846803, -0.4257792915650778, -0.4817536741017231, -0.5358267949789828, -0.5877852522924855, -0.6374239897486821, -0.6845471059286837, -0.7289686274214091, -0.770513242775789, -0.8090169943749491, -0.8443279255020183, -0.876306680043868, -0.9048270524660127, -0.9297764858882571, -0.9510565162951506, -0.9685831611286295, -0.982287250728688, -0.9921147013144779, -0.9980267284282718, -1.0, -0.998026728428271, -0.9921147013144798, -0.982287250728691, -0.9685831611286334, -0.9510565162951554, -0.9297764858882525, -0.9048270524660194, -0.8763066800438619, -0.8443279255020115, -0.8090169943749416, -0.770513242775799, -0.7289686274214199, -0.6845471059286952, -0.6374239897486942, -0.5877852522924751, -0.5358267949789961, -0.4817536741017119, -0.425779291565092, -0.3681245526846684, -0.30901699437496166, -0.2486898871648662, -0.1873813145857331, -0.12533323356430962, -0.06279051952931558], \"x\": [125.66370614359172, 125.72653799666352, 125.78936984973531, 125.85220170280712, 125.9150335558789, 125.9778654089507, 126.04069726202249, 126.1035291150943, 126.1663609681661, 126.22919282123789, 126.29202467430969, 126.35485652738147, 126.41768838045328, 126.48052023352507, 126.54335208659687, 126.60618393966868, 126.66901579274045, 126.73184764581227, 126.79467949888405, 126.85751135195585, 126.92034320502763, 126.98317505809945, 127.04600691117123, 127.10883876424303, 127.17167061731483, 127.23450247038662, 127.29733432345843, 127.36016617653021, 127.42299802960201, 127.4858298826738, 127.54866173574561, 127.61149358881738, 127.6743254418892, 127.737157294961, 127.79998914803278, 127.86282100110459, 127.92565285417638, 127.98848470724818, 128.05131656031998, 128.11414841339177, 128.17698026646357, 128.23981211953534, 128.30264397260717, 128.36547582567894, 128.42830767875074, 128.49113953182254, 128.55397138489434, 128.6168032379661, 128.67963509103794, 128.74246694410974, 128.8052987971815, 128.86813065025333, 128.9309625033251, 128.9937943563969, 129.0566262094687, 129.1194580625405, 129.18228991561227, 129.2451217686841, 129.3079536217559, 129.37078547482767, 129.4336173278995, 129.49644918097127, 129.55928103404307, 129.62211288711487, 129.68494474018667, 129.74777659325846, 129.81060844633026, 129.87344029940206, 129.93627215247383, 129.99910400554566, 130.06193585861743, 130.12476771168923, 130.18759956476103, 130.25043141783283, 130.31326327090463, 130.37609512397643, 130.43892697704823, 130.50175883012, 130.5645906831918, 130.6274225362636, 130.6902543893354, 130.7530862424072, 130.815918095479, 130.8787499485508, 130.9415818016226, 131.0044136546944, 131.06724550776616, 131.13007736083796, 131.19290921390976, 131.25574106698156, 131.31857292005336, 131.38140477312515, 131.44423662619695, 131.50706847926872, 131.56990033234055, 131.63273218541232, 131.69556403848412, 131.75839589155592, 131.82122774462772, 131.88405959769952, 131.94689145077132, 132.00972330384312, 132.0725551569149, 132.13538700998672, 132.1982188630585, 132.26105071613028, 132.32388256920208, 132.38671442227388, 132.44954627534568, 132.51237812841748, 132.57520998148928, 132.63804183456105, 132.70087368763288, 132.76370554070465, 132.82653739377645, 132.88936924684828, 132.95220109992005, 133.01503295299185, 133.07786480606364, 133.14069665913544, 133.2035285122072, 133.26636036527904, 133.3291922183508, 133.3920240714226, 133.4548559244944, 133.5176877775662, 133.580519630638, 133.6433514837098, 133.7061833367816, 133.76901518985338, 133.8318470429252, 133.89467889599698, 133.95751074906877, 134.02034260214057, 134.08317445521237, 134.14600630828417, 134.20883816135597, 134.27167001442777, 134.33450186749954, 134.39733372057134, 134.46016557364317, 134.52299742671494, 134.58582927978674, 134.64866113285854, 134.71149298593033, 134.77432483900213, 134.83715669207393, 134.8999885451457, 134.9628203982175, 135.02565225128933, 135.0884841043611, 135.1513159574329, 135.2141478105047, 135.2769796635765, 135.33981151664827, 135.4026433697201, 135.46547522279187, 135.52830707586367, 135.5911389289355, 135.65397078200726, 135.71680263507906, 135.77963448815086, 135.84246634122266, 135.90529819429443, 135.96813004736626, 136.03096190043806, 136.09379375350983, 136.15662560658166, 136.21945745965343, 136.28228931272523, 136.34512116579702, 136.40795301886882, 136.4707848719406, 136.53361672501242, 136.59644857808422, 136.659280431156, 136.72211228422782, 136.7849441372996, 136.8477759903714, 136.9106078434432, 136.973439696515, 137.03627154958676, 137.09910340265859, 137.16193525573038, 137.22476710880215, 137.28759896187398, 137.35043081494575, 137.41326266801755, 137.47609452108935, 137.53892637416115, 137.60175822723295, 137.66459008030475, 137.72742193337655, 137.79025378644832, 137.85308563952012, 137.91591749259192, 137.97874934566372, 138.0415811987355, 138.1044130518073, 138.1672449048791, 138.23007675795088, 138.2929086110227, 138.35574046409448, 138.41857231716628, 138.48140417023808, 138.54423602330988, 138.60706787638168, 138.66989972945348, 138.73273158252528, 138.79556343559705, 138.85839528866887, 138.92122714174064, 138.98405899481244, 139.04689084788424, 139.10972270095604, 139.17255455402784, 139.23538640709964, 139.29821826017144, 139.3610501132432, 139.42388196631504, 139.4867138193868, 139.5495456724586, 139.6123775255304, 139.6752093786022, 139.738041231674, 139.8008730847458, 139.8637049378176, 139.92653679088937, 139.9893686439612, 140.05220049703297, 140.11503235010477, 140.17786420317657, 140.24069605624837, 140.30352790932017, 140.36635976239197, 140.42919161546376, 140.49202346853554, 140.55485532160736, 140.61768717467913, 140.68051902775093, 140.74335088082273, 140.80618273389453, 140.86901458696633, 140.93184644003813, 140.99467829310993, 141.0575101461817, 141.12034199925353, 141.1831738523253, 141.2460057053971, 141.3088375584689, 141.3716694115407, 141.4345012646125, 141.4973331176843, 141.5601649707561, 141.62299682382786, 141.68582867689966, 141.74866052997146, 141.81149238304326, 141.87432423611506, 141.93715608918686, 141.99998794225866, 142.06281979533046, 142.12565164840225, 142.18848350147402, 142.25131535454582, 142.31414720761765, 142.37697906068942, 142.43981091376122, 142.50264276683302, 142.56547461990482, 142.6283064729766, 142.69113832604842, 142.7539701791202, 142.816802032192, 142.87963388526381, 142.94246573833559, 143.00529759140738, 143.06812944447918, 143.13096129755098, 143.19379315062275, 143.25662500369458, 143.31945685676635, 143.38228870983815, 143.44512056290998, 143.50795241598175, 143.57078426905355, 143.63361612212535, 143.69644797519715, 143.75927982826892, 143.82211168134074, 143.88494353441254, 143.9477753874843, 144.01060724055614, 144.0734390936279, 144.1362709466997, 144.1991027997715, 144.2619346528433, 144.32476650591508, 144.3875983589869, 144.4504302120587, 144.51326206513048, 144.57609391820228, 144.63892577127407, 144.70175762434587, 144.76458947741767, 144.82742133048947, 144.89025318356124, 144.95308503663307, 145.01591688970487, 145.07874874277664, 145.14158059584844, 145.20441244892024, 145.26724430199204, 145.33007615506384, 145.39290800813563, 145.45573986120743, 145.5185717142792, 145.58140356735103, 145.6442354204228, 145.7070672734946, 145.7698991265664, 145.8327309796382, 145.89556283271, 145.9583946857818, 146.0212265388536, 146.08405839192537, 146.1468902449972, 146.20972209806897, 146.27255395114076, 146.33538580421256, 146.39821765728436, 146.46104951035613, 146.52388136342796, 146.58671321649976, 146.64954506957153, 146.71237692264336, 146.77520877571513, 146.83804062878693, 146.90087248185873, 146.96370433493053, 147.02653618800232, 147.08936804107412, 147.15219989414592, 147.2150317472177, 147.27786360028952, 147.3406954533613, 147.4035273064331, 147.4663591595049, 147.5291910125767, 147.5920228656485, 147.6548547187203, 147.7176865717921, 147.78051842486386, 147.84335027793568, 147.90618213100745, 147.96901398407925, 148.03184583715105, 148.09467769022285, 148.15750954329465, 148.22034139636645, 148.28317324943825, 148.34600510251002, 148.40883695558182, 148.47166880865362, 148.53450066172542, 148.59733251479722, 148.66016436786902, 148.72299622094081, 148.7858280740126, 148.8486599270844, 148.91149178015618, 148.97432363322798, 149.03715548629978, 149.09998733937158, 149.16281919244338, 149.22565104551518, 149.28848289858698, 149.35131475165875, 149.41414660473058, 149.47697845780235, 149.53981031087415, 149.60264216394594, 149.66547401701774, 149.72830587008954, 149.79113772316134, 149.85396957623314, 149.9168014293049, 149.97963328237674, 150.0424651354485, 150.1052969885203, 150.16812884159214, 150.2309606946639, 150.2937925477357, 150.3566244008075, 150.4194562538793, 150.48228810695107, 150.5451199600229, 150.60795181309467, 150.67078366616647, 150.7336155192383, 150.79644737231007, 150.85927922538187, 150.92211107845367, 150.98494293152547, 151.04777478459724, 151.11060663766906, 151.17343849074086, 151.23627034381263, 151.29910219688446, 151.36193404995623, 151.42476590302803, 151.48759775609983, 151.55042960917163, 151.6132614622434, 151.67609331531523, 151.73892516838703, 151.8017570214588, 151.8645888745306, 151.9274207276024, 151.9902525806742, 152.053084433746, 152.1159162868178, 152.17874813988956, 152.2415799929614, 152.3044118460332, 152.36724369910496, 152.43007555217676, 152.49290740524856, 152.55573925832036, 152.61857111139216, 152.68140296446396, 152.74423481753576, 152.80706667060753, 152.86989852367935, 152.93273037675112, 152.99556222982292, 153.05839408289472, 153.12122593596652, 153.18405778903832, 153.24688964211012, 153.30972149518192, 153.3725533482537, 153.43538520132552, 153.4982170543973, 153.5610489074691, 153.62388076054089, 153.68671261361268, 153.74954446668445, 153.81237631975628, 153.87520817282808, 153.93804002589985, 154.00087187897168, 154.06370373204345, 154.12653558511525, 154.18936743818705, 154.25219929125885, 154.31503114433065, 154.37786299740245, 154.44069485047424, 154.50352670354602, 154.56635855661784, 154.6291904096896, 154.6920222627614, 154.7548541158332, 154.817685968905, 154.8805178219768, 154.9433496750486, 155.0061815281204, 155.06901338119218, 155.131845234264, 155.19467708733578, 155.25750894040758, 155.32034079347937, 155.38317264655117, 155.44600449962297, 155.50883635269477, 155.57166820576657, 155.63450005883834, 155.69733191191014, 155.76016376498194, 155.82299561805374, 155.88582747112554, 155.94865932419734, 156.01149117726914, 156.07432303034093, 156.13715488341273, 156.1999867364845, 156.2628185895563, 156.3256504426281, 156.3884822956999, 156.4513141487717, 156.5141460018435, 156.5769778549153, 156.63980970798707, 156.7026415610589, 156.76547341413067, 156.82830526720247, 156.89113712027427, 156.95396897334606, 157.01680082641786]}, \"id\": \"a3470105-7bb6-4d58-ad7b-018bdc074783\"}, \"type\": \"ColumnDataSource\", \"id\": \"a3470105-7bb6-4d58-ad7b-018bdc074783\"}, {\"attributes\": {\"geometries\": [], \"tags\": [], \"doc\": null, \"id\": \"7e1d4b35-c5f8-440b-ac99-fcf1505df01c\"}, \"type\": \"ToolEvents\", \"id\": \"7e1d4b35-c5f8-440b-ac99-fcf1505df01c\"}, {\"attributes\": {\"plot\": {\"subtype\": \"Figure\", \"type\": \"Plot\", \"id\": \"9156efd8-3122-488f-9f7f-e7046d4792ab\"}, \"dimensions\": [\"width\", \"height\"], \"tags\": [], \"doc\": null, \"id\": \"15aac130-4ae0-4afb-9942-eaf8b426dc68\"}, \"type\": \"WheelZoomTool\", \"id\": \"15aac130-4ae0-4afb-9942-eaf8b426dc68\"}, {\"attributes\": {\"line_color\": {\"value\": \"#1f77b4\"}, \"line_alpha\": {\"value\": 0.1}, \"fill_color\": {\"value\": \"#1f77b4\"}, \"tags\": [], \"doc\": null, \"fill_alpha\": {\"value\": 0.1}, \"y\": {\"field\": \"y\"}, \"x\": {\"field\": \"x\"}, \"id\": \"2f49537d-4615-464e-ada7-719b4a9f7a81\", \"size\": {\"units\": \"screen\", \"value\": 2}}, \"type\": \"Circle\", \"id\": \"2f49537d-4615-464e-ada7-719b4a9f7a81\"}, {\"attributes\": {\"plot\": {\"subtype\": \"Figure\", \"type\": \"Plot\", \"id\": \"9156efd8-3122-488f-9f7f-e7046d4792ab\"}, \"tags\": [], \"doc\": null, \"formatter\": {\"type\": \"BasicTickFormatter\", \"id\": \"5e85480e-3ee2-4c03-8e7d-3d14042ef33d\"}, \"ticker\": {\"type\": \"BasicTicker\", \"id\": \"8f89fcb0-5fa7-43e5-8deb-efca675c3a1a\"}, \"id\": \"3566992e-45e2-4d2f-bebc-0f2f90d9c4bd\"}, \"type\": \"LinearAxis\", \"id\": \"3566992e-45e2-4d2f-bebc-0f2f90d9c4bd\"}, {\"attributes\": {\"plot\": {\"subtype\": \"Figure\", \"type\": \"Plot\", \"id\": \"9156efd8-3122-488f-9f7f-e7046d4792ab\"}, \"tags\": [], \"doc\": null, \"id\": \"52626f51-6dfa-4971-8777-b48ef6d8f072\"}, \"type\": \"HelpTool\", \"id\": \"52626f51-6dfa-4971-8777-b48ef6d8f072\"}, {\"attributes\": {\"line_color\": {\"value\": \"green\"}, \"line_alpha\": {\"value\": 1.0}, \"tags\": [], \"doc\": null, \"y\": {\"field\": \"y\"}, \"x\": {\"field\": \"x\"}, \"id\": \"26e06cd9-b1d2-47e7-a456-aeab3175bf3e\"}, \"type\": \"Line\", \"id\": \"26e06cd9-b1d2-47e7-a456-aeab3175bf3e\"}, {\"attributes\": {\"line_color\": {\"value\": \"red\"}, \"line_alpha\": {\"value\": 1.0}, \"fill_color\": {\"value\": \"red\"}, \"tags\": [], \"doc\": null, \"fill_alpha\": {\"value\": 1.0}, \"y\": {\"field\": \"y\"}, \"x\": {\"field\": \"x\"}, \"id\": \"3f7f597f-5353-4d66-aa61-d2b39800efc0\", \"size\": {\"units\": \"screen\", \"value\": 2}}, \"type\": \"Circle\", \"id\": \"3f7f597f-5353-4d66-aa61-d2b39800efc0\"}, {\"attributes\": {\"line_color\": {\"value\": \"blue\"}, \"line_alpha\": {\"value\": 1.0}, \"tags\": [], \"doc\": null, \"y\": {\"field\": \"y\"}, \"x\": {\"field\": \"x\"}, \"id\": \"36056cc3-861c-4f31-afc5-ae2e055abf2f\"}, \"type\": \"Line\", \"id\": \"36056cc3-861c-4f31-afc5-ae2e055abf2f\"}, {\"attributes\": {\"line_color\": {\"value\": \"#1f77b4\"}, \"line_alpha\": {\"value\": 0.1}, \"tags\": [], \"doc\": null, \"y\": {\"field\": \"y\"}, \"x\": {\"field\": \"x\"}, \"id\": \"9becb74d-5716-4c61-9392-9bf172d0e1bd\"}, \"type\": \"Line\", \"id\": \"9becb74d-5716-4c61-9392-9bf172d0e1bd\"}, {\"attributes\": {\"plot\": {\"subtype\": \"Figure\", \"type\": \"Plot\", \"id\": \"9156efd8-3122-488f-9f7f-e7046d4792ab\"}, \"tags\": [], \"doc\": null, \"dimension\": 0, \"ticker\": {\"type\": \"BasicTicker\", \"id\": \"1b74f421-372c-4666-abcc-346fed2f0a73\"}, \"id\": \"79390d2c-662f-476c-af36-def5eb063f42\"}, \"type\": \"Grid\", \"id\": \"79390d2c-662f-476c-af36-def5eb063f42\"}, {\"attributes\": {\"tags\": [], \"doc\": null, \"renderers\": [], \"callback\": null, \"names\": [], \"id\": \"be57d1da-ca7a-4c06-b9cf-5b32b8c47616\"}, \"type\": \"DataRange1d\", \"id\": \"be57d1da-ca7a-4c06-b9cf-5b32b8c47616\"}, {\"attributes\": {\"column_names\": [\"y\", \"x\"], \"tags\": [], \"doc\": null, \"selected\": {\"2d\": {\"indices\": []}, \"1d\": {\"indices\": []}, \"0d\": {\"indices\": [], \"flag\": false}}, \"callback\": null, \"data\": {\"y\": [-0.023409392684698105, 0.04009558632969856, 0.09237495809793472, 0.15901793539524078, 0.22693860530853271, 0.29482391476631165, 0.3526114523410797, 0.40913280844688416, 0.471234530210495, 0.5302198529243469, 0.5834013819694519, 0.6361485719680786, 0.6862413287162781, 0.7274658679962158, 0.7726079821586609, 0.8127764463424683, 0.8500842452049255, 0.8809150457382202, 0.9150145649909973, 0.9343237280845642, 0.9600304365158081, 0.9749592542648315, 0.9878990054130554, 1.0044206380844116, 1.008314609527588, 1.0098700523376465, 1.0050511360168457, 1.002219557762146, 0.9955224394798279, 0.984185516834259, 0.9640685319900513, 0.9483634233474731, 0.922346830368042, 0.8957607746124268, 0.8648620247840881, 0.8333626985549927, 0.7881599068641663, 0.7440147995948792, 0.7061535716056824, 0.6509251594543457, 0.6131637692451477, 0.5483129024505615, 0.5090150237083435, 0.4415903389453888, 0.3925905227661133, 0.32740458846092224, 0.27667108178138733, 0.21909339725971222, 0.1555786281824112, 0.08937674760818481, 0.034109506756067276, -0.0438777320086956, -0.09247712045907974, -0.15658074617385864, -0.21278376877307892, -0.27079352736473083, -0.3362293541431427, -0.39266514778137207, -0.44885095953941345, -0.5102333426475525, -0.5666414499282837, -0.617234468460083, -0.6771764159202576, -0.713970422744751, -0.7654136419296265, -0.8175503015518188, -0.8472100496292114, -0.882103443145752, -0.9083734154701233, -0.9390612244606018, -0.9592806100845337, -0.9818145036697388, -0.9905038475990295, -0.9959441423416138, -1.005193829536438, -1.0093252658843994, -1.0132012367248535, -1.003385066986084, -0.9954612255096436, -0.9853348731994629, -0.9632437229156494, -0.946549654006958, -0.922595202922821, -0.8956371545791626, -0.8648404479026794, -0.8240669965744019, -0.791257917881012, -0.7489122152328491, -0.7080735564231873, -0.6599636673927307, -0.6065787076950073, -0.5557689070701599, -0.5038420557975769, -0.4415184557437897, -0.39272964000701904, -0.3185698390007019, -0.2737715244293213, -0.2159474492073059, -0.14640416204929352, -0.09202167391777039, -0.012821950949728489, 0.04709651321172714, 0.0995982214808464, 0.17974954843521118, 0.23359018564224243, 0.3084201216697693, 0.35266736149787903, 0.42858362197875977, 0.47677913308143616, 0.5359441637992859, 0.5802956223487854, 0.6413624286651611, 0.6900403499603271, 0.7344110012054443, 0.7833068370819092, 0.8140296339988708, 0.8540818691253662, 0.8868263363838196, 0.9154505729675293, 0.9442038536071777, 0.9642243385314941, 0.9818547368049622, 0.9873429536819458, 1.0080806016921997, 1.0084309577941895, 1.009669303894043, 1.0073909759521484, 1.0020837783813477, 0.9934811592102051, 0.9728271961212158, 0.9573246240615845, 0.9309596419334412, 0.9144970178604126, 0.8786777853965759, 0.8441253900527954, 0.8089545965194702, 0.7560542821884155, 0.7201115489006042, 0.6747905015945435, 0.6199944019317627, 0.5825953483581543, 0.5220035910606384, 0.4783034920692444, 0.41785043478012085, 0.36466386914253235, 0.2941334545612335, 0.2305060476064682, 0.16862966120243073, 0.12179848551750183, 0.05114332586526871, -0.005510442890226841, -0.07423724234104156, -0.12938319146633148, -0.19193412363529205, -0.2529842257499695, -0.30898723006248474, -0.38005104660987854, -0.4422980844974518, -0.4855310618877411, -0.544182300567627, -0.5929020047187805, -0.6495049595832825, -0.7030922174453735, -0.7509327530860901, -0.7885786890983582, -0.8301432728767395, -0.8653709888458252, -0.8839299082756042, -0.9294307231903076, -0.9474526047706604, -0.957973062992096, -0.9827474355697632, -0.9892783164978027, -0.9966725707054138, -1.0074338912963867, -1.008937954902649, -0.9979015588760376, -0.9890130758285522, -0.9806950092315674, -0.9742423295974731, -0.9595676064491272, -0.9283444881439209, -0.9028485417366028, -0.8707983493804932, -0.8331537842750549, -0.8043766021728516, -0.7585378289222717, -0.6999785900115967, -0.6643357872962952, -0.6134130954742432, -0.562886655330658, -0.5110474824905396, -0.452898770570755, -0.39748114347457886, -0.33699628710746765, -0.29685279726982117, -0.22678042948246002, -0.15930134057998657, -0.09424235671758652, -0.034067586064338684, 0.013913912698626518, 0.07814346998929977, 0.14902718365192413, 0.20433136820793152, 0.2664995789527893, 0.32693618535995483, 0.3768736720085144, 0.4458705484867096, 0.49356281757354736, 0.5436772108078003, 0.600477933883667, 0.6554903984069824, 0.7070428729057312, 0.7503058314323425, 0.7900753021240234, 0.8305269479751587, 0.8627582788467407, 0.905141294002533, 0.9319168329238892, 0.9479795694351196, 0.9695679545402527, 0.9809628129005432, 0.9957650303840637, 1.0049223899841309, 1.008245587348938, 1.014440894126892, 1.0035613775253296, 1.002835750579834, 0.9892826676368713, 0.9697602987289429, 0.9559428691864014, 0.928193986415863, 0.9098988771438599, 0.8630115985870361, 0.8309136033058167, 0.7969573140144348, 0.7641719579696655, 0.717993974685669, 0.6614177823066711, 0.6154782176017761, 0.5531813502311707, 0.5206754803657532, 0.46668553352355957, 0.40685200691223145, 0.350573867559433, 0.28308653831481934, 0.22907821834087372, 0.17090031504631042, 0.10872013866901398, 0.04412795603275299, -0.019673487171530724, -0.07858793437480927, -0.1328137218952179, -0.19224470853805542, -0.2658689320087433, -0.31863299012184143, -0.3691900074481964, -0.4311835467815399, -0.4865114390850067, -0.5483763813972473, -0.585670530796051, -0.6410136818885803, -0.6770619750022888, -0.7343415021896362, -0.7769441604614258, -0.8240400552749634, -0.8587964773178101, -0.8824974894523621, -0.9147449135780334, -0.9369568824768066, -0.9656251072883606, -0.9750198721885681, -0.9897314310073853, -1.0045537948608398, -1.0038594007492065, -1.0147769451141357, -1.0055015087127686, -1.0006895065307617, -0.9891093373298645, -0.9792124032974243, -0.9687297344207764, -0.9323524236679077, -0.9174219965934753, -0.8805548548698425, -0.843687891960144, -0.8244449496269226, -0.7660297155380249, -0.738717794418335, -0.6823272705078125, -0.6352611780166626, -0.5885265469551086, -0.5243772268295288, -0.4813706874847412, -0.4164274334907532, -0.36641979217529297, -0.30053505301475525, -0.23174354434013367, -0.1721237450838089, -0.12615041434764862, -0.04954002425074577, -0.00866368506103754, 0.07121513783931732, 0.1270916610956192, 0.1988382637500763, 0.26384028792381287, 0.30476218461990356, 0.365548700094223, 0.4351598620414734, 0.48574453592300415, 0.5403965711593628, 0.5859231352806091, 0.6462543606758118, 0.6948251128196716, 0.7428755164146423, 0.7805264592170715, 0.8187253475189209, 0.8677153587341309, 0.8876299858093262, 0.9141839146614075, 0.943569540977478, 0.9614034295082092, 0.9801011681556702, 0.9892279505729675, 0.9948070049285889, 1.0035240650177002, 1.0052295923233032, 1.0050650835037231, 0.9989900588989258, 0.9884735345840454, 0.9750807285308838, 0.9577073454856873, 0.9431607127189636, 0.910437285900116, 0.8911716938018799, 0.8436242938041687, 0.8094910383224487, 0.7735316157341003, 0.7229433655738831, 0.6815770864486694, 0.6278612613677979, 0.5824175477027893, 0.535722553730011, 0.4732939898967743, 0.41297581791877747, 0.35431987047195435, 0.29633182287216187, 0.2495211660861969, 0.17397205531597137, 0.12338756024837494, 0.053395017981529236, -0.007730564102530479, -0.06577630341053009, -0.13647444546222687, -0.20320196449756622, -0.2607395052909851, -0.3222883641719818, -0.37185046076774597, -0.433345228433609, -0.48140570521354675, -0.5363348722457886, -0.5943582057952881, -0.6421668529510498, -0.6952841281890869, -0.7457171678543091, -0.7837924957275391, -0.817426323890686, -0.8552607297897339, -0.8866690397262573, -0.9158298969268799, -0.9403027296066284, -0.9575037956237793, -0.9775508642196655, -0.9965318441390991, -1.0027151107788086, -1.0084121227264404, -1.0123239755630493, -1.008855938911438, -1.0074827671051025, -0.9997419714927673, -0.9867041110992432, -0.9605835676193237, -0.9422540068626404, -0.912806510925293, -0.8860670924186707, -0.8623820543289185, -0.8127282857894897, -0.7761834263801575, -0.7329022884368896, -0.6852291822433472, -0.6338340044021606, -0.5828555226325989, -0.5267238020896912, -0.4695306122303009, -0.4172239899635315, -0.35423603653907776, -0.3027556538581848, -0.24343210458755493, -0.17648504674434662, -0.1246565580368042, -0.05443675443530083, 0.015241882763803005, 0.078507199883461, 0.142333522439003, 0.1915920376777649, 0.26080673933029175, 0.3282225728034973, 0.38317862153053284, 0.4326353669166565, 0.49930569529533386, 0.555725634098053, 0.602436900138855, 0.6507716178894043, 0.7004101276397705, 0.7447412014007568, 0.7855717539787292, 0.8230875730514526, 0.8617815971374512, 0.8979895114898682, 0.9261026978492737, 0.9465118050575256, 0.9662389755249023, 0.9842358827590942, 0.9960442185401917, 1.0064796209335327, 1.0105026960372925, 1.0114564895629883, 1.00698721408844, 1.0005367994308472, 0.9926324486732483, 0.9791179895401001, 0.968895673751831, 0.9408965110778809, 0.9153959155082703, 0.8831176161766052, 0.8535232543945312, 0.8183115720748901, 0.7747161984443665, 0.7261565923690796, 0.681908130645752, 0.637748658657074, 0.5854294300079346, 0.5410223007202148, 0.4730243682861328, 0.41644036769866943, 0.34439536929130554, 0.2889750599861145, 0.22029124200344086, 0.15818285942077637, 0.09794406592845917, 0.0368715263903141, -0.02363990619778633, -0.0837903693318367, -0.15121924877166748, -0.21296313405036926, -0.27820298075675964, -0.3365718424320221, -0.3982257843017578, -0.4509255290031433, -0.5001274347305298, -0.5532332062721252, -0.6016047596931458, -0.6514378786087036, -0.6882756352424622, -0.734879195690155, -0.78022301197052, -0.8089728951454163, -0.8542673587799072, -0.8912872076034546, -0.9156185388565063, -0.9310756921768188, -0.9577817916870117, -0.9772487878799438, -0.9941786527633667, -1.000860571861267, -1.0044807195663452, -1.0087264776229858, -1.007272481918335, -0.9977779984474182, -0.997780978679657, -0.9789106845855713, -0.969941258430481, -0.9464108943939209, -0.9132747650146484, -0.8885543346405029, -0.8645522594451904, -0.8262314200401306, -0.7867203950881958, -0.7379554510116577, -0.6916244029998779, -0.6363859176635742, -0.5903137922286987, -0.5439726114273071, -0.4743129014968872, -0.43704521656036377, -0.3562590181827545, -0.3038525879383087, -0.2433139681816101, -0.1744837462902069, -0.1079842746257782, -0.04085130989551544], \"x\": [125.66370614359172, 125.72653799666352, 125.78936984973531, 125.85220170280712, 125.9150335558789, 125.9778654089507, 126.04069726202249, 126.1035291150943, 126.1663609681661, 126.22919282123789, 126.29202467430969, 126.35485652738147, 126.41768838045328, 126.48052023352507, 126.54335208659687, 126.60618393966868, 126.66901579274045, 126.73184764581227, 126.79467949888405, 126.85751135195585, 126.92034320502763, 126.98317505809945, 127.04600691117123, 127.10883876424303, 127.17167061731483, 127.23450247038662, 127.29733432345843, 127.36016617653021, 127.42299802960201, 127.4858298826738, 127.54866173574561, 127.61149358881738, 127.6743254418892, 127.737157294961, 127.79998914803278, 127.86282100110459, 127.92565285417638, 127.98848470724818, 128.05131656031998, 128.11414841339177, 128.17698026646357, 128.23981211953534, 128.30264397260717, 128.36547582567894, 128.42830767875074, 128.49113953182254, 128.55397138489434, 128.6168032379661, 128.67963509103794, 128.74246694410974, 128.8052987971815, 128.86813065025333, 128.9309625033251, 128.9937943563969, 129.0566262094687, 129.1194580625405, 129.18228991561227, 129.2451217686841, 129.3079536217559, 129.37078547482767, 129.4336173278995, 129.49644918097127, 129.55928103404307, 129.62211288711487, 129.68494474018667, 129.74777659325846, 129.81060844633026, 129.87344029940206, 129.93627215247383, 129.99910400554566, 130.06193585861743, 130.12476771168923, 130.18759956476103, 130.25043141783283, 130.31326327090463, 130.37609512397643, 130.43892697704823, 130.50175883012, 130.5645906831918, 130.6274225362636, 130.6902543893354, 130.7530862424072, 130.815918095479, 130.8787499485508, 130.9415818016226, 131.0044136546944, 131.06724550776616, 131.13007736083796, 131.19290921390976, 131.25574106698156, 131.31857292005336, 131.38140477312515, 131.44423662619695, 131.50706847926872, 131.56990033234055, 131.63273218541232, 131.69556403848412, 131.75839589155592, 131.82122774462772, 131.88405959769952, 131.94689145077132, 132.00972330384312, 132.0725551569149, 132.13538700998672, 132.1982188630585, 132.26105071613028, 132.32388256920208, 132.38671442227388, 132.44954627534568, 132.51237812841748, 132.57520998148928, 132.63804183456105, 132.70087368763288, 132.76370554070465, 132.82653739377645, 132.88936924684828, 132.95220109992005, 133.01503295299185, 133.07786480606364, 133.14069665913544, 133.2035285122072, 133.26636036527904, 133.3291922183508, 133.3920240714226, 133.4548559244944, 133.5176877775662, 133.580519630638, 133.6433514837098, 133.7061833367816, 133.76901518985338, 133.8318470429252, 133.89467889599698, 133.95751074906877, 134.02034260214057, 134.08317445521237, 134.14600630828417, 134.20883816135597, 134.27167001442777, 134.33450186749954, 134.39733372057134, 134.46016557364317, 134.52299742671494, 134.58582927978674, 134.64866113285854, 134.71149298593033, 134.77432483900213, 134.83715669207393, 134.8999885451457, 134.9628203982175, 135.02565225128933, 135.0884841043611, 135.1513159574329, 135.2141478105047, 135.2769796635765, 135.33981151664827, 135.4026433697201, 135.46547522279187, 135.52830707586367, 135.5911389289355, 135.65397078200726, 135.71680263507906, 135.77963448815086, 135.84246634122266, 135.90529819429443, 135.96813004736626, 136.03096190043806, 136.09379375350983, 136.15662560658166, 136.21945745965343, 136.28228931272523, 136.34512116579702, 136.40795301886882, 136.4707848719406, 136.53361672501242, 136.59644857808422, 136.659280431156, 136.72211228422782, 136.7849441372996, 136.8477759903714, 136.9106078434432, 136.973439696515, 137.03627154958676, 137.09910340265859, 137.16193525573038, 137.22476710880215, 137.28759896187398, 137.35043081494575, 137.41326266801755, 137.47609452108935, 137.53892637416115, 137.60175822723295, 137.66459008030475, 137.72742193337655, 137.79025378644832, 137.85308563952012, 137.91591749259192, 137.97874934566372, 138.0415811987355, 138.1044130518073, 138.1672449048791, 138.23007675795088, 138.2929086110227, 138.35574046409448, 138.41857231716628, 138.48140417023808, 138.54423602330988, 138.60706787638168, 138.66989972945348, 138.73273158252528, 138.79556343559705, 138.85839528866887, 138.92122714174064, 138.98405899481244, 139.04689084788424, 139.10972270095604, 139.17255455402784, 139.23538640709964, 139.29821826017144, 139.3610501132432, 139.42388196631504, 139.4867138193868, 139.5495456724586, 139.6123775255304, 139.6752093786022, 139.738041231674, 139.8008730847458, 139.8637049378176, 139.92653679088937, 139.9893686439612, 140.05220049703297, 140.11503235010477, 140.17786420317657, 140.24069605624837, 140.30352790932017, 140.36635976239197, 140.42919161546376, 140.49202346853554, 140.55485532160736, 140.61768717467913, 140.68051902775093, 140.74335088082273, 140.80618273389453, 140.86901458696633, 140.93184644003813, 140.99467829310993, 141.0575101461817, 141.12034199925353, 141.1831738523253, 141.2460057053971, 141.3088375584689, 141.3716694115407, 141.4345012646125, 141.4973331176843, 141.5601649707561, 141.62299682382786, 141.68582867689966, 141.74866052997146, 141.81149238304326, 141.87432423611506, 141.93715608918686, 141.99998794225866, 142.06281979533046, 142.12565164840225, 142.18848350147402, 142.25131535454582, 142.31414720761765, 142.37697906068942, 142.43981091376122, 142.50264276683302, 142.56547461990482, 142.6283064729766, 142.69113832604842, 142.7539701791202, 142.816802032192, 142.87963388526381, 142.94246573833559, 143.00529759140738, 143.06812944447918, 143.13096129755098, 143.19379315062275, 143.25662500369458, 143.31945685676635, 143.38228870983815, 143.44512056290998, 143.50795241598175, 143.57078426905355, 143.63361612212535, 143.69644797519715, 143.75927982826892, 143.82211168134074, 143.88494353441254, 143.9477753874843, 144.01060724055614, 144.0734390936279, 144.1362709466997, 144.1991027997715, 144.2619346528433, 144.32476650591508, 144.3875983589869, 144.4504302120587, 144.51326206513048, 144.57609391820228, 144.63892577127407, 144.70175762434587, 144.76458947741767, 144.82742133048947, 144.89025318356124, 144.95308503663307, 145.01591688970487, 145.07874874277664, 145.14158059584844, 145.20441244892024, 145.26724430199204, 145.33007615506384, 145.39290800813563, 145.45573986120743, 145.5185717142792, 145.58140356735103, 145.6442354204228, 145.7070672734946, 145.7698991265664, 145.8327309796382, 145.89556283271, 145.9583946857818, 146.0212265388536, 146.08405839192537, 146.1468902449972, 146.20972209806897, 146.27255395114076, 146.33538580421256, 146.39821765728436, 146.46104951035613, 146.52388136342796, 146.58671321649976, 146.64954506957153, 146.71237692264336, 146.77520877571513, 146.83804062878693, 146.90087248185873, 146.96370433493053, 147.02653618800232, 147.08936804107412, 147.15219989414592, 147.2150317472177, 147.27786360028952, 147.3406954533613, 147.4035273064331, 147.4663591595049, 147.5291910125767, 147.5920228656485, 147.6548547187203, 147.7176865717921, 147.78051842486386, 147.84335027793568, 147.90618213100745, 147.96901398407925, 148.03184583715105, 148.09467769022285, 148.15750954329465, 148.22034139636645, 148.28317324943825, 148.34600510251002, 148.40883695558182, 148.47166880865362, 148.53450066172542, 148.59733251479722, 148.66016436786902, 148.72299622094081, 148.7858280740126, 148.8486599270844, 148.91149178015618, 148.97432363322798, 149.03715548629978, 149.09998733937158, 149.16281919244338, 149.22565104551518, 149.28848289858698, 149.35131475165875, 149.41414660473058, 149.47697845780235, 149.53981031087415, 149.60264216394594, 149.66547401701774, 149.72830587008954, 149.79113772316134, 149.85396957623314, 149.9168014293049, 149.97963328237674, 150.0424651354485, 150.1052969885203, 150.16812884159214, 150.2309606946639, 150.2937925477357, 150.3566244008075, 150.4194562538793, 150.48228810695107, 150.5451199600229, 150.60795181309467, 150.67078366616647, 150.7336155192383, 150.79644737231007, 150.85927922538187, 150.92211107845367, 150.98494293152547, 151.04777478459724, 151.11060663766906, 151.17343849074086, 151.23627034381263, 151.29910219688446, 151.36193404995623, 151.42476590302803, 151.48759775609983, 151.55042960917163, 151.6132614622434, 151.67609331531523, 151.73892516838703, 151.8017570214588, 151.8645888745306, 151.9274207276024, 151.9902525806742, 152.053084433746, 152.1159162868178, 152.17874813988956, 152.2415799929614, 152.3044118460332, 152.36724369910496, 152.43007555217676, 152.49290740524856, 152.55573925832036, 152.61857111139216, 152.68140296446396, 152.74423481753576, 152.80706667060753, 152.86989852367935, 152.93273037675112, 152.99556222982292, 153.05839408289472, 153.12122593596652, 153.18405778903832, 153.24688964211012, 153.30972149518192, 153.3725533482537, 153.43538520132552, 153.4982170543973, 153.5610489074691, 153.62388076054089, 153.68671261361268, 153.74954446668445, 153.81237631975628, 153.87520817282808, 153.93804002589985, 154.00087187897168, 154.06370373204345, 154.12653558511525, 154.18936743818705, 154.25219929125885, 154.31503114433065, 154.37786299740245, 154.44069485047424, 154.50352670354602, 154.56635855661784, 154.6291904096896, 154.6920222627614, 154.7548541158332, 154.817685968905, 154.8805178219768, 154.9433496750486, 155.0061815281204, 155.06901338119218, 155.131845234264, 155.19467708733578, 155.25750894040758, 155.32034079347937, 155.38317264655117, 155.44600449962297, 155.50883635269477, 155.57166820576657, 155.63450005883834, 155.69733191191014, 155.76016376498194, 155.82299561805374, 155.88582747112554, 155.94865932419734, 156.01149117726914, 156.07432303034093, 156.13715488341273, 156.1999867364845, 156.2628185895563, 156.3256504426281, 156.3884822956999, 156.4513141487717, 156.5141460018435, 156.5769778549153, 156.63980970798707, 156.7026415610589, 156.76547341413067, 156.82830526720247, 156.89113712027427, 156.95396897334606, 157.01680082641786]}, \"id\": \"17f72b9c-64c9-4490-8509-6076b2aa4a10\"}, \"type\": \"ColumnDataSource\", \"id\": \"17f72b9c-64c9-4490-8509-6076b2aa4a10\"}, {\"attributes\": {\"tags\": [], \"doc\": null, \"mantissas\": [2, 5, 10], \"id\": \"1b74f421-372c-4666-abcc-346fed2f0a73\", \"num_minor_ticks\": 5}, \"type\": \"BasicTicker\", \"id\": \"1b74f421-372c-4666-abcc-346fed2f0a73\"}, {\"attributes\": {\"tags\": [], \"doc\": null, \"renderers\": [], \"callback\": null, \"names\": [], \"id\": \"11faf924-1a3c-4505-8cbe-2a056e244f96\"}, \"type\": \"DataRange1d\", \"id\": \"11faf924-1a3c-4505-8cbe-2a056e244f96\"}, {\"attributes\": {\"column_names\": [\"y\", \"x\"], \"tags\": [], \"doc\": null, \"selected\": {\"2d\": {\"indices\": []}, \"1d\": {\"indices\": []}, \"0d\": {\"indices\": [], \"flag\": false}}, \"callback\": null, \"data\": {\"y\": [-0.15329210534301768, -0.10840649688011046, 0.12994673945986013, 0.09154386656307309, 0.24060872587047458, 0.23863109077589978, 0.2910461226140083, 0.3776947574778027, 0.5521122295660598, 0.6287413097558618, 0.624902507557376, 0.5384417347939683, 0.7489102334740261, 0.7978582940822007, 0.797977963137032, 0.7486549507730469, 0.9152138830387234, 0.9185885375115329, 0.593141393306105, 0.9942216892293553, 0.7596822492089992, 1.0349393187877705, 0.9668800108862041, 1.1114758693893974, 0.9882106073076785, 0.9113385739943888, 0.9832913619699868, 1.0980953308078558, 0.9849119125148476, 0.9571496451413964, 1.0254118678459856, 0.9508124225512399, 0.9042343118826973, 1.0129126868841962, 0.9998393287079272, 0.8703496170078131, 0.7419173276272741, 0.8786597267734945, 0.8028590616618574, 0.7093137063015142, 0.46617759421787963, 0.5498939853098062, 0.4073864566316143, 0.4098780664096454, 0.3921302456143558, 0.3190329351840129, 0.20117237658192996, 0.3146766894777405, -0.044279893118856384, 0.1358088726422653, -0.18574832715943812, -0.024530705856982984, -0.2140236661926826, -0.09955093881246559, -0.24004463476409266, -0.2842463565282653, -0.4699524852413399, -0.4912363050648371, -0.4610319347606286, -0.47746980228805325, -0.2948756281161001, -0.6151381574383342, -0.5869433533917919, -0.8846620206723359, -0.9035024289091959, -0.8445664718357949, -0.9640706950658755, -0.72766675469723, -0.945848921744046, -0.7915582970489436, -0.8023782688865878, -0.9643051891402731, -0.9321072753479244, -0.9977246486485682, -0.9441830283928179, -0.9516658148219428, -1.010391691017474, -0.9416177031681956, -0.8099176231619647, -0.8972815381575394, -0.9184765549310926, -0.9172995337839309, -1.0060943648428782, -0.9790363677514078, -0.8119922723539851, -0.9459561067796567, -0.8471460026721567, -0.6008174933850058, -0.4931241362224131, -0.8040195974284653, -0.42512029606231616, -0.5569706240635509, -0.48325418280484755, -0.4371204546293645, -0.2600701399821188, -0.46978465227927846, -0.20307352602935191, -0.28186833432453323, -0.06825438062615127, 0.0914891142999906, -4.173264126005477e-05, 0.10020602812639878, 0.16628841138805348, 0.10742196461868697, 0.39985382215327336, 0.4796638191010364, 0.4383028898963741, 0.4331078347658335, 0.43556429256628604, 0.4731777726640898, 0.7588689105471431, 0.7788654940215769, 0.6781809570497425, 0.5709755744542899, 0.48731205578488407, 0.700674328348532, 0.8312658859025012, 1.0163755834881636, 0.8396614315602426, 0.9802580315223037, 1.0813746124599908, 0.981436792814239, 0.9680424638498022, 0.8612383498906159, 0.8777791976078279, 1.0416099634415823, 0.9779359751081789, 1.0043678330798076, 0.9775594791590628, 1.034997566064501, 0.8725877751522051, 0.8962184215299395, 1.0944452753293379, 0.7963280662052895, 0.8161703824220066, 0.7500783241770904, 0.8149913790165122, 0.8312078596656141, 0.6347259440700914, 0.5942825556382332, 0.5598870917621571, 0.5888101733265001, 0.4078141438507009, 0.38818329496794923, 0.130905165533376, 0.1708424934254454, 0.23744551156291938, 0.2771677319060548, 0.15484081189450558, -0.04708632613743295, -0.14002562081278538, -0.045322510239490896, -0.2906135977895862, -0.08078863271403648, -0.24230026799981327, -0.46974901029836, -0.46471993856884813, -0.49821042348817146, -0.5590729251240738, -0.6848200958011387, -0.6752515044913533, -0.7058641453627307, -0.7556756814897333, -0.616172964928057, -0.7600304624930726, -0.9083427161187089, -0.8777900860974195, -0.9642623897750102, -0.9348277183671917, -0.8422255705741113, -0.9258294382339405, -0.7400230429758249, -0.9446945081519361, -1.0834741523121894, -0.9170526553468274, -0.8920068782857464, -0.8886100292838761, -1.101538796617988, -0.9970509921801732, -0.8554019654457863, -1.1195294121825472, -0.9797181619904638, -1.0475208210087152, -0.9695637030335594, -0.9455736407764032, -0.6839600111205935, -0.793967046266669, -0.8153041855555927, -0.788107679067139, -0.623257273261535, -0.5888988150265355, -0.4014193575116467, -0.4317520045159748, -0.5689590693715887, -0.4310226234438144, -0.20200974316785653, -0.31079815693499635, -0.01392409709335446, -0.23516217669677653, -0.005529184225228731, -0.08612155533988375, 0.01183100623468962, 0.2351913983874058, 0.1746745983018631, 0.3300351116762589, 0.35634605386642393, 0.4435111210409077, 0.33696047045652383, 0.4595962342813204, 0.5782520567890673, 0.5028779650231171, 0.8003739940719126, 0.6068243017131681, 0.6989682697276276, 0.6698573362963633, 0.5946861878510785, 1.0240197777595095, 0.8558727863535619, 0.8600355686244574, 0.9099049797211762, 1.0930429135147932, 0.872072500322187, 1.0502440373051958, 0.9497358764595298, 0.9383596428744406, 1.0567058212520182, 1.0968507858025407, 0.9407244062864887, 0.9054023347612052, 0.8516735863964314, 1.0614068929679938, 0.8722508864076418, 0.7199139797384756, 1.017301893883478, 0.7073419753067188, 0.8869630475008495, 0.7888561074425534, 0.7577601706429302, 0.6261095783975652, 0.67398313577116, 0.42100726300405383, 0.5946305698529798, 0.6374546782549305, 0.5141820113077016, 0.16617054414599905, 0.21059609414767966, 0.22991039496736082, 0.23607504507972926, 0.11466796619829002, 0.013469080818268739, 0.05953003076923124, 0.053624657093182024, -0.14856263428296837, -0.11448832784720818, -0.5065949616837853, -0.40276793298580665, -0.4002504463904685, -0.474635913640528, -0.4484738523612656, -0.43445174022916916, -0.5371183496896355, -0.699646536924199, -0.8368239149791131, -0.673272215363511, -0.9543309167427815, -0.7437132660343149, -0.8631728337150177, -0.9938901788376844, -0.8761013212193397, -0.9300640961541522, -0.954716245586771, -0.9770054907813726, -0.9403348398860714, -0.8996712991186251, -0.9483652085798875, -0.898786681017769, -1.0024407003130524, -0.8302687688912805, -0.925176268515706, -1.0229525640969146, -1.0604460219685914, -0.9091968055148496, -1.0354792047582853, -0.9736442767995297, -0.820419217464659, -0.8698057390031451, -0.8638448667984818, -0.7324161320302496, -0.6772793160183261, -0.6580073922705566, -0.6255399441983921, -0.4503625221077628, -0.44751093897301625, -0.44812190278454833, -0.12169235933314465, -0.2896338206821064, -0.13548937379711898, -0.24347941489892222, -0.261627328285096, -0.14196617109364734, -0.026800978339823936, 0.013129698556352147, 0.25897185179657733, 0.1753772023761107, 0.2948367749089688, 0.30436887877166147, 0.32476911941134073, 0.4295788929104329, 0.6531588210787997, 0.4590319358053046, 0.6644842973484208, 0.5348232645861069, 0.6385844617017428, 0.7293269480168701, 0.8031507517484906, 0.9573298571723329, 0.8393196613555517, 0.7919451193902772, 0.9698312497710914, 0.8933595049966725, 0.9749246733883354, 0.9569609171748553, 0.7879415656000066, 1.0429446198738757, 1.0563635291104019, 1.0926604768308605, 1.1780730046742933, 0.8726043239681317, 1.0339379951568661, 1.009512660792728, 0.9091483170143719, 0.9694871095332394, 0.9547917479772143, 0.7544382970461403, 0.8689502016296679, 0.7172185637744778, 0.7053275927827374, 0.5514941459025521, 0.6372110133784444, 0.6170669226013434, 0.6427709390221111, 0.5359167876461035, 0.3275248590217406, 0.5119940972535152, 0.3562658903296556, 0.3578540534179237, 0.34528349901083255, 0.32964178948263273, 0.3214559325008073, 0.05556664366214487, 0.03111244460936045, -0.17062662861099942, -0.019173216560761125, -0.30587005904291586, -0.4292150560278865, -0.22597839384090107, -0.4202942051794555, -0.3480185634308476, -0.44094620916710014, -0.6988270600813719, -0.8597531887247414, -0.7470841644579487, -0.6828979572305923, -0.8511462608908816, -0.8357893877106559, -0.9549110674346776, -0.8273401295223222, -0.8672240873402322, -0.9529663148707852, -0.7900699557568804, -0.8012850135631921, -0.9120564408749827, -1.1622643688753613, -1.102583716035038, -0.9573136953199465, -1.062855758024459, -1.0467358715994537, -0.9022179618556747, -0.9311997685394452, -0.8371677177472403, -0.9939774459598053, -0.7922539438435653, -0.960240177174471, -0.7263575310299889, -0.8337444611403373, -0.8950679690859065, -0.9336351935411566, -0.7591158589075744, -0.710170375728244, -0.5516577987364542, -0.5988443025732785, -0.5790699928368463, -0.37404992680696425, -0.44826194769208766, -0.42574873430736515, -0.25155610264571093, -0.297672709049572, -0.12150110041658851, -0.18502494474263587, -0.08508643782633202, 0.015217697558820756, 0.025377887502880107, 0.1239880866285658, 0.2689285115097343, 0.28975006629683875, 0.3571139793784194, 0.3045815088227636, 0.5110622683924986, 0.5487099081526408, 0.6362687142051544, 0.515148669073861, 0.6201781300805447, 0.7479004961747316, 0.6680871156796839, 0.7479009957994003, 1.0015975681209082, 1.0395040267287903, 1.0003007350265956, 0.9986855660909941, 0.8278513709377378, 1.0023127394377662, 0.9326715016220437, 0.8764300609681479, 0.9412141174553472, 1.0095932358329072, 0.9452644425701333, 0.9429467858575881, 1.071318851156776, 0.9966978992410122, 0.9919289690948625, 0.962243755984782, 0.8622061715510834, 0.7677698606699581, 0.9073631510859046, 0.7936242622894766, 0.6079387675163642, 0.7312565169792768, 0.6197468332873501, 0.7544121293594628, 0.6895865124727198, 0.6374745667763134, 0.4693226331631419, 0.5549088322879179, 0.45774426987848954, 0.3271390988407029, 0.26368325116109975, 0.33796070245222576, 0.1400209088893846, 0.15569888091692674, 0.1661862182105832, 0.19093426255572754, 0.10359679291444467, -0.03525095714339105, -0.33797244974285645, -0.3175947301066482, -0.36382571312220036, -0.2028095694281482, -0.49571108566228694, -0.4431370363918862, -0.5257400886532516, -0.6812979732362399, -0.5992415887867437, -0.6447174973089345, -0.8545461155955593, -0.648225498070448, -1.0176679972604679, -0.9034036407930145, -0.7791096506573105, -1.0241528358134167, -0.8947498939320542, -1.0806925551226936, -0.9778855755730519, -1.2136645620459081, -1.0763718714857786, -1.1523188731437009, -1.04017637421265, -1.0395498680104367, -1.0594811184453938, -0.9024959310720165, -1.057271121515777, -0.8876178489762503, -0.7668489088923662, -0.890920637435551, -0.962073700501402, -0.9692617769881657, -0.8799955043868914, -0.70004897070081, -0.7134095539245301, -0.5908675843032962, -0.560390901815973, -0.5737041871046515, -0.4884779688123499, -0.29622905315966397, -0.28421366894762395, -0.39839915437509377, -0.21004905018137263, -0.19010480658307263, -0.07374250683175915, -0.05817157636071864, -0.1602072630336146], \"x\": [125.66370614359172, 125.72653799666352, 125.78936984973531, 125.85220170280712, 125.9150335558789, 125.9778654089507, 126.04069726202249, 126.1035291150943, 126.1663609681661, 126.22919282123789, 126.29202467430969, 126.35485652738147, 126.41768838045328, 126.48052023352507, 126.54335208659687, 126.60618393966868, 126.66901579274045, 126.73184764581227, 126.79467949888405, 126.85751135195585, 126.92034320502763, 126.98317505809945, 127.04600691117123, 127.10883876424303, 127.17167061731483, 127.23450247038662, 127.29733432345843, 127.36016617653021, 127.42299802960201, 127.4858298826738, 127.54866173574561, 127.61149358881738, 127.6743254418892, 127.737157294961, 127.79998914803278, 127.86282100110459, 127.92565285417638, 127.98848470724818, 128.05131656031998, 128.11414841339177, 128.17698026646357, 128.23981211953534, 128.30264397260717, 128.36547582567894, 128.42830767875074, 128.49113953182254, 128.55397138489434, 128.6168032379661, 128.67963509103794, 128.74246694410974, 128.8052987971815, 128.86813065025333, 128.9309625033251, 128.9937943563969, 129.0566262094687, 129.1194580625405, 129.18228991561227, 129.2451217686841, 129.3079536217559, 129.37078547482767, 129.4336173278995, 129.49644918097127, 129.55928103404307, 129.62211288711487, 129.68494474018667, 129.74777659325846, 129.81060844633026, 129.87344029940206, 129.93627215247383, 129.99910400554566, 130.06193585861743, 130.12476771168923, 130.18759956476103, 130.25043141783283, 130.31326327090463, 130.37609512397643, 130.43892697704823, 130.50175883012, 130.5645906831918, 130.6274225362636, 130.6902543893354, 130.7530862424072, 130.815918095479, 130.8787499485508, 130.9415818016226, 131.0044136546944, 131.06724550776616, 131.13007736083796, 131.19290921390976, 131.25574106698156, 131.31857292005336, 131.38140477312515, 131.44423662619695, 131.50706847926872, 131.56990033234055, 131.63273218541232, 131.69556403848412, 131.75839589155592, 131.82122774462772, 131.88405959769952, 131.94689145077132, 132.00972330384312, 132.0725551569149, 132.13538700998672, 132.1982188630585, 132.26105071613028, 132.32388256920208, 132.38671442227388, 132.44954627534568, 132.51237812841748, 132.57520998148928, 132.63804183456105, 132.70087368763288, 132.76370554070465, 132.82653739377645, 132.88936924684828, 132.95220109992005, 133.01503295299185, 133.07786480606364, 133.14069665913544, 133.2035285122072, 133.26636036527904, 133.3291922183508, 133.3920240714226, 133.4548559244944, 133.5176877775662, 133.580519630638, 133.6433514837098, 133.7061833367816, 133.76901518985338, 133.8318470429252, 133.89467889599698, 133.95751074906877, 134.02034260214057, 134.08317445521237, 134.14600630828417, 134.20883816135597, 134.27167001442777, 134.33450186749954, 134.39733372057134, 134.46016557364317, 134.52299742671494, 134.58582927978674, 134.64866113285854, 134.71149298593033, 134.77432483900213, 134.83715669207393, 134.8999885451457, 134.9628203982175, 135.02565225128933, 135.0884841043611, 135.1513159574329, 135.2141478105047, 135.2769796635765, 135.33981151664827, 135.4026433697201, 135.46547522279187, 135.52830707586367, 135.5911389289355, 135.65397078200726, 135.71680263507906, 135.77963448815086, 135.84246634122266, 135.90529819429443, 135.96813004736626, 136.03096190043806, 136.09379375350983, 136.15662560658166, 136.21945745965343, 136.28228931272523, 136.34512116579702, 136.40795301886882, 136.4707848719406, 136.53361672501242, 136.59644857808422, 136.659280431156, 136.72211228422782, 136.7849441372996, 136.8477759903714, 136.9106078434432, 136.973439696515, 137.03627154958676, 137.09910340265859, 137.16193525573038, 137.22476710880215, 137.28759896187398, 137.35043081494575, 137.41326266801755, 137.47609452108935, 137.53892637416115, 137.60175822723295, 137.66459008030475, 137.72742193337655, 137.79025378644832, 137.85308563952012, 137.91591749259192, 137.97874934566372, 138.0415811987355, 138.1044130518073, 138.1672449048791, 138.23007675795088, 138.2929086110227, 138.35574046409448, 138.41857231716628, 138.48140417023808, 138.54423602330988, 138.60706787638168, 138.66989972945348, 138.73273158252528, 138.79556343559705, 138.85839528866887, 138.92122714174064, 138.98405899481244, 139.04689084788424, 139.10972270095604, 139.17255455402784, 139.23538640709964, 139.29821826017144, 139.3610501132432, 139.42388196631504, 139.4867138193868, 139.5495456724586, 139.6123775255304, 139.6752093786022, 139.738041231674, 139.8008730847458, 139.8637049378176, 139.92653679088937, 139.9893686439612, 140.05220049703297, 140.11503235010477, 140.17786420317657, 140.24069605624837, 140.30352790932017, 140.36635976239197, 140.42919161546376, 140.49202346853554, 140.55485532160736, 140.61768717467913, 140.68051902775093, 140.74335088082273, 140.80618273389453, 140.86901458696633, 140.93184644003813, 140.99467829310993, 141.0575101461817, 141.12034199925353, 141.1831738523253, 141.2460057053971, 141.3088375584689, 141.3716694115407, 141.4345012646125, 141.4973331176843, 141.5601649707561, 141.62299682382786, 141.68582867689966, 141.74866052997146, 141.81149238304326, 141.87432423611506, 141.93715608918686, 141.99998794225866, 142.06281979533046, 142.12565164840225, 142.18848350147402, 142.25131535454582, 142.31414720761765, 142.37697906068942, 142.43981091376122, 142.50264276683302, 142.56547461990482, 142.6283064729766, 142.69113832604842, 142.7539701791202, 142.816802032192, 142.87963388526381, 142.94246573833559, 143.00529759140738, 143.06812944447918, 143.13096129755098, 143.19379315062275, 143.25662500369458, 143.31945685676635, 143.38228870983815, 143.44512056290998, 143.50795241598175, 143.57078426905355, 143.63361612212535, 143.69644797519715, 143.75927982826892, 143.82211168134074, 143.88494353441254, 143.9477753874843, 144.01060724055614, 144.0734390936279, 144.1362709466997, 144.1991027997715, 144.2619346528433, 144.32476650591508, 144.3875983589869, 144.4504302120587, 144.51326206513048, 144.57609391820228, 144.63892577127407, 144.70175762434587, 144.76458947741767, 144.82742133048947, 144.89025318356124, 144.95308503663307, 145.01591688970487, 145.07874874277664, 145.14158059584844, 145.20441244892024, 145.26724430199204, 145.33007615506384, 145.39290800813563, 145.45573986120743, 145.5185717142792, 145.58140356735103, 145.6442354204228, 145.7070672734946, 145.7698991265664, 145.8327309796382, 145.89556283271, 145.9583946857818, 146.0212265388536, 146.08405839192537, 146.1468902449972, 146.20972209806897, 146.27255395114076, 146.33538580421256, 146.39821765728436, 146.46104951035613, 146.52388136342796, 146.58671321649976, 146.64954506957153, 146.71237692264336, 146.77520877571513, 146.83804062878693, 146.90087248185873, 146.96370433493053, 147.02653618800232, 147.08936804107412, 147.15219989414592, 147.2150317472177, 147.27786360028952, 147.3406954533613, 147.4035273064331, 147.4663591595049, 147.5291910125767, 147.5920228656485, 147.6548547187203, 147.7176865717921, 147.78051842486386, 147.84335027793568, 147.90618213100745, 147.96901398407925, 148.03184583715105, 148.09467769022285, 148.15750954329465, 148.22034139636645, 148.28317324943825, 148.34600510251002, 148.40883695558182, 148.47166880865362, 148.53450066172542, 148.59733251479722, 148.66016436786902, 148.72299622094081, 148.7858280740126, 148.8486599270844, 148.91149178015618, 148.97432363322798, 149.03715548629978, 149.09998733937158, 149.16281919244338, 149.22565104551518, 149.28848289858698, 149.35131475165875, 149.41414660473058, 149.47697845780235, 149.53981031087415, 149.60264216394594, 149.66547401701774, 149.72830587008954, 149.79113772316134, 149.85396957623314, 149.9168014293049, 149.97963328237674, 150.0424651354485, 150.1052969885203, 150.16812884159214, 150.2309606946639, 150.2937925477357, 150.3566244008075, 150.4194562538793, 150.48228810695107, 150.5451199600229, 150.60795181309467, 150.67078366616647, 150.7336155192383, 150.79644737231007, 150.85927922538187, 150.92211107845367, 150.98494293152547, 151.04777478459724, 151.11060663766906, 151.17343849074086, 151.23627034381263, 151.29910219688446, 151.36193404995623, 151.42476590302803, 151.48759775609983, 151.55042960917163, 151.6132614622434, 151.67609331531523, 151.73892516838703, 151.8017570214588, 151.8645888745306, 151.9274207276024, 151.9902525806742, 152.053084433746, 152.1159162868178, 152.17874813988956, 152.2415799929614, 152.3044118460332, 152.36724369910496, 152.43007555217676, 152.49290740524856, 152.55573925832036, 152.61857111139216, 152.68140296446396, 152.74423481753576, 152.80706667060753, 152.86989852367935, 152.93273037675112, 152.99556222982292, 153.05839408289472, 153.12122593596652, 153.18405778903832, 153.24688964211012, 153.30972149518192, 153.3725533482537, 153.43538520132552, 153.4982170543973, 153.5610489074691, 153.62388076054089, 153.68671261361268, 153.74954446668445, 153.81237631975628, 153.87520817282808, 153.93804002589985, 154.00087187897168, 154.06370373204345, 154.12653558511525, 154.18936743818705, 154.25219929125885, 154.31503114433065, 154.37786299740245, 154.44069485047424, 154.50352670354602, 154.56635855661784, 154.6291904096896, 154.6920222627614, 154.7548541158332, 154.817685968905, 154.8805178219768, 154.9433496750486, 155.0061815281204, 155.06901338119218, 155.131845234264, 155.19467708733578, 155.25750894040758, 155.32034079347937, 155.38317264655117, 155.44600449962297, 155.50883635269477, 155.57166820576657, 155.63450005883834, 155.69733191191014, 155.76016376498194, 155.82299561805374, 155.88582747112554, 155.94865932419734, 156.01149117726914, 156.07432303034093, 156.13715488341273, 156.1999867364845, 156.2628185895563, 156.3256504426281, 156.3884822956999, 156.4513141487717, 156.5141460018435, 156.5769778549153, 156.63980970798707, 156.7026415610589, 156.76547341413067, 156.82830526720247, 156.89113712027427, 156.95396897334606, 157.01680082641786]}, \"id\": \"68e0ccd8-7bff-47ae-9144-a1ce99298703\"}, \"type\": \"ColumnDataSource\", \"id\": \"68e0ccd8-7bff-47ae-9144-a1ce99298703\"}, {\"attributes\": {\"plot\": {\"subtype\": \"Figure\", \"type\": \"Plot\", \"id\": \"9156efd8-3122-488f-9f7f-e7046d4792ab\"}, \"tags\": [], \"doc\": null, \"formatter\": {\"type\": \"BasicTickFormatter\", \"id\": \"4b94b18b-bd9e-4c06-8991-5d21695e9b33\"}, \"ticker\": {\"type\": \"BasicTicker\", \"id\": \"1b74f421-372c-4666-abcc-346fed2f0a73\"}, \"id\": \"bd7514fe-f2b2-48e5-88e3-e5a29997b7ad\"}, \"type\": \"LinearAxis\", \"id\": \"bd7514fe-f2b2-48e5-88e3-e5a29997b7ad\"}];\n",
       "        Bokeh.load_models(all_models);\n",
       "        var plots = [{'modeltype': 'Plot', 'elementid': '721e15c6-e34c-4869-9913-02b59f370dcf', 'modelid': '9156efd8-3122-488f-9f7f-e7046d4792ab'}];\n",
       "        for (idx in plots) {\n",
       "        \tvar plot = plots[idx];\n",
       "        \tvar model = Bokeh.Collections(plot.modeltype).get(plot.modelid);\n",
       "        \tBokeh.logger.info('Realizing plot:')\n",
       "        \tBokeh.logger.info(' - modeltype: ' + plot.modeltype);\n",
       "        \tBokeh.logger.info(' - modelid: ' + plot.modelid);\n",
       "        \tBokeh.logger.info(' - elementid: ' + plot.elementid);\n",
       "        \tvar view = new model.default_view({\n",
       "        \t\tmodel: model,\n",
       "        \t\tel: '#' + plot.elementid\n",
       "        \t});\n",
       "        \tBokeh.index[plot.modelid] = view;\n",
       "        }\n",
       "    });\n",
       "    </script>\n",
       "<div class=\"plotdiv\" id=\"721e15c6-e34c-4869-9913-02b59f370dcf\"></div>\n",
       "\n"
      ]
     },
     "metadata": {},
     "output_type": "display_data"
    }
   ],
   "source": [
    "fig = bk.figure(plot_width=750, \n",
    "                plot_height=450,\n",
    "                title=\"Data\")\n",
    "\n",
    "fig.circle(t[-len(preds):], y_noisy[-len(preds):], color='red', size=2, legend='sinusoid + noise')\n",
    "fig.line(t[-len(preds):], y_clean[-len(preds):], color='green', legend='clean sinusoid')\n",
    "fig.line(t[-len(preds):], [u for u in preds.flat], color='blue', legend='prediction')\n",
    "\n",
    "bk.show(fig)"
   ]
  },
  {
   "cell_type": "markdown",
   "metadata": {},
   "source": [
    "It is hard to chose a single global learning rate, because the magnitude of the gradient can be very different and can change during learning. Rmsprop can achieve faster convergence with a better choice of single weights update rule. As in previous example with momentum, speeding up learning can achieve a better result with the same amount of time (remember the number of epochs is fixed)."
   ]
  },
  {
   "cell_type": "markdown",
   "metadata": {},
   "source": [
    "---\n",
    "\n",
    "Visit [www.add-for.com](<http://www.add-for.com/IT>) for more tutorials and updates.\n",
    "\n",
    "This work is licensed under a <a rel=\"license\" href=\"http://creativecommons.org/licenses/by-sa/4.0/\">Creative Commons Attribution-ShareAlike 4.0 International License</a>."
   ]
  }
 ],
 "metadata": {
  "kernelspec": {
   "display_name": "Python 2",
   "language": "python",
   "name": "python2"
  },
  "language_info": {
   "codemirror_mode": {
    "name": "ipython",
    "version": 2
   },
   "file_extension": ".py",
   "mimetype": "text/x-python",
   "name": "python",
   "nbconvert_exporter": "python",
   "pygments_lexer": "ipython2",
   "version": "2.7.6"
  }
 },
 "nbformat": 4,
 "nbformat_minor": 0
}
