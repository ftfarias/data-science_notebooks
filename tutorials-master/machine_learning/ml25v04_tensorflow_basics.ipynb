{
 "cells": [
  {
   "cell_type": "markdown",
   "metadata": {},
   "source": [
    "# Tensorflow Basic concepts"
   ]
  },
  {
   "cell_type": "code",
   "execution_count": 1,
   "metadata": {
    "collapsed": false
   },
   "outputs": [
    {
     "data": {
      "text/html": [
       "<div id='toc-container'><script type='text/javascript'>\n",
       "$(function() {\n",
       "    function regenTOC(){\n",
       "        element = $(\"#toc-container\");\n",
       "\n",
       "\tvar toc = document.createElement(\"div\");\n",
       "\t$(toc).attr(\"class\", \"table-of-contents\");\n",
       "\n",
       "\tvar curLevel = 0;\n",
       "\tvar containerStack = [toc];\n",
       "\tvar levelOfTag = {\"h2\": 1, \"h3\": 2, \"h4\": 3, \"h5\": 4};\n",
       "\n",
       "\tfunction pushLevel() {\n",
       "            var list = document.createElement(\"ul\");\n",
       "            containerStack.push(list);\n",
       "            curLevel++;\n",
       "\t}\n",
       "\t\n",
       "\tfunction popLevel() {\n",
       "            var lastContainer = containerStack.pop();\n",
       "            $(lastContainer).appendTo(containerStack[containerStack.length - 1]);\n",
       "            curLevel--;\n",
       "\t}\n",
       "\t\n",
       "\t$(\".text_cell_render :header\").each(function (i, elem) {\n",
       "            var level = levelOfTag[ elem.tagName.toLowerCase() ];\n",
       "\n",
       "            if (level === undefined)\n",
       "\t\treturn;\n",
       "\n",
       "            while (curLevel < level)\n",
       "\t\tpushLevel();\n",
       "            while (curLevel > level)\n",
       "\t\tpopLevel();\n",
       "            \n",
       "            var listItem = document.createElement(\"li\");\n",
       "            var link = document.createElement(\"a\");\n",
       "            $(link)\n",
       "\t\t.text($(elem).contents().first().text()) // Remove the pilcrow sign\n",
       "\t\t.attr(\"href\", \"#\" + $(elem).attr(\"id\"))\n",
       "\t\t.appendTo(listItem);\n",
       "            $(listItem).appendTo(containerStack[containerStack.length - 1]);\n",
       "\t});\n",
       "\t\n",
       "\twhile (curLevel > 0)\n",
       "            popLevel();\n",
       "\n",
       "        $(\"<a class='btn-update' href='#'>Update</a>\")\n",
       "          .click(regenTOC).prependTo(toc);\n",
       "\n",
       "\t$(toc).prepend(\"<div class='title'>Contents</div>\")\n",
       "          .wrap(\"<div class='toc-headings'/>\");\n",
       "\n",
       "        $(element).empty();\n",
       "        $(element).append(toc);\n",
       "    }\n",
       "\n",
       "    if (typeof(IPython) !== 'undefined')\n",
       "        $([IPython.events]).on('notebook_loaded.Notebook', regenTOC);\n",
       "    regenTOC();\n",
       "});\n",
       "\n",
       "</script></div>"
      ],
      "text/plain": [
       "<IPython.core.display.HTML object>"
      ]
     },
     "execution_count": 1,
     "metadata": {},
     "output_type": "execute_result"
    }
   ],
   "source": [
    "import addutils.toc ; addutils.toc.js(ipy_notebook=True)"
   ]
  },
  {
   "cell_type": "code",
   "execution_count": 2,
   "metadata": {
    "collapsed": false
   },
   "outputs": [
    {
     "data": {
      "text/html": [
       "<style>\n",
       ".text_cell_render @font-face {\n",
       "    font-family: \"Computer Modern\";\n",
       "    src: url('http://mirrors.ctan.org/fonts/cm-unicode/fonts/otf/cmunss.otf');\n",
       "}\n",
       "\n",
       "div.cell {\n",
       "    width: 900px;\n",
       "    margin-left: 0% !important;\n",
       "    margin-right: 0%;\n",
       "}\n",
       "\n",
       "code {\n",
       "    font-size:10pt;\n",
       "}\n",
       "\n",
       ".text_cell_render  h1 {\n",
       "    font-family: Tahoma, sans-serif;\n",
       "    color: rgb( 10, 88, 126 );\n",
       "    font-size:28pt;\n",
       "}\n",
       ".text_cell_render h2 {\n",
       "    font-family: Tahoma, sans-serif;\n",
       "    color: rgb( 10, 88, 126 );\n",
       "    font-size:24pt;\n",
       "}\n",
       ".text_cell_render h3 {\n",
       "    font-family: Tahoma, sans-serif;\n",
       "    color: rgb( 10, 88, 126 );\n",
       "    font-size:20pt;\n",
       "}\n",
       ".text_cell_render h4 {\n",
       "    font-family: Tahoma, sans-serif;\n",
       "    color: rgb( 10, 88, 126 );\n",
       "    font-size:18pt;\n",
       "    margin-top:12px;\n",
       "    margin-bottom: 3px;\n",
       "}\n",
       "\n",
       ".text_cell_render h5 {\n",
       "    font-weight: 300;\n",
       "    font-size: 11pt;\n",
       "    color: rgb( 48, 48, 48 );\n",
       "    font-style: italic;\n",
       "    margin-bottom: .5em;\n",
       "    margin-top: 0.5em;\n",
       "    display: block;\n",
       "}\n",
       "\n",
       ".text_cell_render ul {\n",
       "    font-family: Tahoma, sans-serif;\n",
       "    color: rgb( 90, 90, 90 );\n",
       "    font-size:11pt;\n",
       "    line-height: 185%;\n",
       "}\n",
       "\n",
       ".text_cell_render yp {\n",
       "    font-family: Tahoma, sans-serif;\n",
       "    color: rgb( 90, 90, 90 );\n",
       "    font-size:11pt;\n",
       "}\n",
       "\n",
       ".text_cell_render strong {\n",
       "    font-family: Tahoma, sans-serif;\n",
       "    color: rgb( 30, 30, 30 );\n",
       "    font-size:11pt;\n",
       "}\n",
       "\n",
       ".text_cell_render a:link {\n",
       "    font-family: Tahoma, sans-serif;\n",
       "    color: rgb( 10, 88, 126 );\n",
       "    font-size:11pt;\n",
       "}\n",
       "\n",
       ".text_cell_render a:visited {\n",
       "    color:rgb( 10, 88, 126 );\n",
       "}\n",
       "\n",
       ".text_cell_render {\n",
       "    font-family: Helvetica, Courier, Computer Modern, \"Helvetica Neue\", Arial, Geneva, sans-serif;\n",
       "    color: rgb( 84, 84, 84 );\n",
       "    font-size:11pt;\n",
       "    line-height: 125%;\n",
       "    font-size: 100%;\n",
       "    width:800px;\n",
       "}\n",
       "\n",
       ".CodeMirror {\n",
       "    font-family: Courier, \"Source Code Pro\", source-code-pro,Consolas, monospace;\n",
       "}\n",
       "\n",
       ".warning {\n",
       "    color: rgb( 240, 20, 20 );\n",
       "}\n",
       "\n",
       "/* Pandas tables */\n",
       "/*\n",
       ".rendered_html td {\n",
       "    text-align: right;\n",
       "}\n",
       "*/\n",
       "\n",
       "table.dataframe td {\n",
       "    text-align: right;\n",
       "}\n",
       "\n",
       ".output .table-of-contents {\n",
       "    border: 1px #cecece solid;\n",
       "    background-color: #fafafa;\n",
       "    padding-top: 10px;\n",
       "    padding-bottom: 5px;\n",
       "    padding-right: 15px;\n",
       "    padding-left: 0px;\n",
       "    margin-bottom: 20px;\n",
       "    display: inline-block;\n",
       "    position: relative;\n",
       "}\n",
       "\n",
       ".output .table-of-contents ul {\n",
       "    list-style-type: none;\n",
       "    padding-left: 20px;\n",
       "}\n",
       "\n",
       ".output .table-of-contents .title {\n",
       "    font-weight: bold;\n",
       "    font-height: 11pt;\n",
       "    padding-left: 20px; /* looks better if it's the same to the <ul> */\n",
       "}\n",
       "\n",
       ".output .table-of-contents .btn-update {\n",
       "    position: absolute;\n",
       "    float: right;\n",
       "    right: 11px;\n",
       "    top: 4px;\n",
       "    font-size: 9pt;\n",
       "}\n",
       "\n",
       "</style>\n",
       "<script>\n",
       "    MathJax.Hub.Config({\n",
       "                        TeX: {\n",
       "                           extensions: [\"AMSmath.js\"]\n",
       "                           },\n",
       "                displayAlign: 'center', // Change this to 'center' to center equations.\n",
       "                \"HTML-CSS\": {\n",
       "                    styles: {'.MathJax_Display': {\"margin\": 4}}\n",
       "                }\n",
       "        });\n",
       "</script>\n"
      ],
      "text/plain": [
       "<IPython.core.display.HTML object>"
      ]
     },
     "execution_count": 2,
     "metadata": {},
     "output_type": "execute_result"
    }
   ],
   "source": [
    "import warnings\n",
    "import scipy.io\n",
    "import numpy as np\n",
    "import tensorflow as tf\n",
    "import pandas as pd\n",
    "from time import time\n",
    "import sklearn as sk\n",
    "import sklearn.metrics\n",
    "from IPython.display import Image\n",
    "from bokeh.models import ColumnDataSource\n",
    "from addutils import css_notebook\n",
    "css_notebook()"
   ]
  },
  {
   "cell_type": "code",
   "execution_count": 3,
   "metadata": {
    "collapsed": false
   },
   "outputs": [
    {
     "data": {
      "text/html": [
       "\n",
       "\n",
       "    <script type=\"text/javascript\">\n",
       "      \n",
       "      (function(global) {\n",
       "        function now() {\n",
       "          return new Date();\n",
       "        }\n",
       "      \n",
       "        if (typeof (window._bokeh_onload_callbacks) === \"undefined\") {\n",
       "          window._bokeh_onload_callbacks = [];\n",
       "        }\n",
       "      \n",
       "        function run_callbacks() {\n",
       "          window._bokeh_onload_callbacks.forEach(function(callback) { callback() });\n",
       "          delete window._bokeh_onload_callbacks\n",
       "          console.info(\"Bokeh: all callbacks have finished\");\n",
       "        }\n",
       "      \n",
       "        function load_libs(js_urls, callback) {\n",
       "          window._bokeh_onload_callbacks.push(callback);\n",
       "          if (window._bokeh_is_loading > 0) {\n",
       "            console.log(\"Bokeh: BokehJS is being loaded, scheduling callback at\", now());\n",
       "            return null;\n",
       "          }\n",
       "          if (js_urls == null || js_urls.length === 0) {\n",
       "            run_callbacks();\n",
       "            return null;\n",
       "          }\n",
       "          console.log(\"Bokeh: BokehJS not loaded, scheduling load and callback at\", now());\n",
       "          window._bokeh_is_loading = js_urls.length;\n",
       "          for (var i = 0; i < js_urls.length; i++) {\n",
       "            var url = js_urls[i];\n",
       "            var s = document.createElement('script');\n",
       "            s.src = url;\n",
       "            s.async = false;\n",
       "            s.onreadystatechange = s.onload = function() {\n",
       "              window._bokeh_is_loading--;\n",
       "              if (window._bokeh_is_loading === 0) {\n",
       "                console.log(\"Bokeh: all BokehJS libraries loaded\");\n",
       "                run_callbacks()\n",
       "              }\n",
       "            };\n",
       "            s.onerror = function() {\n",
       "              console.warn(\"failed to load library \" + url);\n",
       "            };\n",
       "            console.log(\"Bokeh: injecting script tag for BokehJS library: \", url);\n",
       "            document.getElementsByTagName(\"head\")[0].appendChild(s);\n",
       "          }\n",
       "        };var js_urls = ['https://cdn.pydata.org/bokeh/release/bokeh-0.11.0.min.js', 'https://cdn.pydata.org/bokeh/release/bokeh-widgets-0.11.0.min.js', 'https://cdn.pydata.org/bokeh/release/bokeh-compiler-0.11.0.min.js'];\n",
       "      \n",
       "        var inline_js = [\n",
       "          function(Bokeh) {\n",
       "            Bokeh.set_log_level(\"info\");\n",
       "          },\n",
       "          function(Bokeh) {\n",
       "            console.log(\"Bokeh: injecting CSS: https://cdn.pydata.org/bokeh/release/bokeh-0.11.0.min.css\");\n",
       "            Bokeh.embed.inject_css(\"https://cdn.pydata.org/bokeh/release/bokeh-0.11.0.min.css\");\n",
       "            console.log(\"Bokeh: injecting CSS: https://cdn.pydata.org/bokeh/release/bokeh-widgets-0.11.0.min.css\");\n",
       "            Bokeh.embed.inject_css(\"https://cdn.pydata.org/bokeh/release/bokeh-widgets-0.11.0.min.css\");\n",
       "          }\n",
       "        ];\n",
       "      \n",
       "        function run_inline_js() {\n",
       "          for (var i = 0; i < inline_js.length; i++) {\n",
       "            inline_js[i](window.Bokeh);\n",
       "          }\n",
       "        }\n",
       "      \n",
       "        if (window._bokeh_is_loading === 0) {\n",
       "          console.log(\"Bokeh: BokehJS loaded, going straight to plotting\");\n",
       "          run_inline_js();\n",
       "        } else {\n",
       "          load_libs(js_urls, function() {\n",
       "            console.log(\"Bokeh: BokehJS plotting callback run at\", now());\n",
       "            run_inline_js();\n",
       "          });\n",
       "        }\n",
       "      }(this));\n",
       "    </script>\n",
       "    <div>\n",
       "        <a href=\"http://bokeh.pydata.org\" target=\"_blank\" class=\"bk-logo bk-logo-small bk-logo-notebook\"></a>\n",
       "        <span>BokehJS successfully loaded.</span>\n",
       "    </div>"
      ]
     },
     "metadata": {},
     "output_type": "display_data"
    }
   ],
   "source": [
    "import bokeh.plotting as bk\n",
    "bk.output_notebook()"
   ]
  },
  {
   "cell_type": "markdown",
   "metadata": {},
   "source": [
    "## Required packages and tools"
   ]
  },
  {
   "cell_type": "markdown",
   "metadata": {},
   "source": [
    "This notebook requires few additional packages. Please be sure to install them properly before running the notebook.\n",
    "\n",
    "The main argument we treat in this notebook is TensorFlow, a library for machine learning and deep learning recently open sourced by google. For more information please visit [TensorFlow](http://www.tensorflow.org).\n",
    "\n",
    "**<font color='red'>WARNING</font>**: this library supports only Linux and Mac OS. At the moment Windows operating system is not supported.\n",
    "\n",
    "TensorFlow, is conceptually similar to theano; the computation is formally a graph, with nodes representing operations while edges representing tensors (multidimensional data) communicated between operations. According to TensorFlow web site, the flow of tensors through the graph is where TensorFlow gets its name. It is not intended to be only a neural network library but to perform any computation that can be expressed as a graph. TensorFlow automatic differentiation is especially suited for gradient based machine learning algorithms. The library is written in C++ and it has nice Python bindings. Moreover it can run both on CPU and GPU.\n",
    "\n",
    "We suggest to follows the steps outlined in:\n",
    "\n",
    "[https://www.tensorflow.org/versions/master/get_started/os_setup.html#pip_install](https://www.tensorflow.org/versions/master/get_started/os_setup.html#pip_install)\n",
    "\n",
    "we recommend to follow pip installation process:\n",
    "\n",
    "- first choose which package to install, with or without GPU support\n",
    "    \n",
    "- install TensorFlow for python 3 (this notebook use it)\n",
    "`$ sudo pip3 install --upgrade https://storage.googleapis.com/tensorflow/linux/gpu/tensorflow-0.6.0-cp34-none-linux_x86_64.whl`\n",
    "\n",
    "If you installed the GPU version of TensorFlow, you must also install the Cuda Toolkit 7.0 and CUDNN 6.5 V2. "
   ]
  },
  {
   "cell_type": "markdown",
   "metadata": {},
   "source": [
    "## 1 Basic Usage"
   ]
  },
  {
   "cell_type": "markdown",
   "metadata": {},
   "source": [
    "### 1.1 Overview"
   ]
  },
  {
   "cell_type": "markdown",
   "metadata": {},
   "source": [
    "TensorFlow represent computations as **graphs**. Nodes in the graph are called **ops** (operations). An op takes zero or more **Tensors** and produces zero or more Tensors as output. A Tensor is a multidimensional array with a specified type. The graph is a description of a computation, in order to actually execute the computation a graph must be launched in a **session**. A session exectue a specific graph on one of the available **devices** (that can be either CPUs or GPUs)."
   ]
  },
  {
   "cell_type": "markdown",
   "metadata": {},
   "source": [
    "### 1.2 Building the Graph"
   ]
  },
  {
   "cell_type": "markdown",
   "metadata": {},
   "source": [
    "It is possibile to build a graph by starting with nodes that do not need any input, such as constant nodes. Then it is possible to use the output of the constant node as input to other operations. TensorFlow uses a default graph to which operations are added. It is sufficient for most operations but it is also possible to manage multiple graphs with the `Graph` class."
   ]
  },
  {
   "cell_type": "code",
   "execution_count": 4,
   "metadata": {
    "collapsed": false
   },
   "outputs": [],
   "source": [
    "x = tf.constant([[4.]])\n",
    "y = tf.constant([[3.]])\n",
    "product = tf.matmul(x, y)"
   ]
  },
  {
   "cell_type": "markdown",
   "metadata": {
    "collapsed": false
   },
   "source": [
    "The code creates three nodes: two constant and an operation (multiplication) that takes two inputs (the two constants) and produces an output (product). To actually procude an output is is necessary to run the graph in a session"
   ]
  },
  {
   "cell_type": "markdown",
   "metadata": {},
   "source": [
    "### 1.3 Launching a Session"
   ]
  },
  {
   "cell_type": "markdown",
   "metadata": {
    "collapsed": false
   },
   "source": [
    "Without argument the Session construct uses the default graph. It is necessary to close a session once it is oper, otherwise use `with ... as  ...` statement."
   ]
  },
  {
   "cell_type": "code",
   "execution_count": 5,
   "metadata": {
    "collapsed": false
   },
   "outputs": [
    {
     "name": "stdout",
     "output_type": "stream",
     "text": [
      "[array([[ 12.]], dtype=float32)]\n"
     ]
    }
   ],
   "source": [
    "with tf.Session() as sess:\n",
    "    result = sess.run([product])\n",
    "    print(result)"
   ]
  },
  {
   "cell_type": "markdown",
   "metadata": {},
   "source": [
    "Computation runs on GPU by default (if you have one on your computer otherwise it switches automatically on CPU). It is possible to use a specific device for a session with `with tf.device(\"/gpu:1\"):` statement. For example previous command execute the graph on the second GPU of the machine. Try to change the string and execute the code on CPU (or another GPU of your machine)"
   ]
  },
  {
   "cell_type": "code",
   "execution_count": 6,
   "metadata": {
    "collapsed": false
   },
   "outputs": [
    {
     "name": "stdout",
     "output_type": "stream",
     "text": [
      "[array([[ 12.]], dtype=float32)]\n"
     ]
    }
   ],
   "source": [
    "with tf.Session() as sess:\n",
    "    with tf.device(\"/cpu:0\"):\n",
    "        result = sess.run([product])\n",
    "        print(result)"
   ]
  },
  {
   "cell_type": "markdown",
   "metadata": {},
   "source": [
    "### 1.4 Tensor Variables"
   ]
  },
  {
   "cell_type": "markdown",
   "metadata": {},
   "source": [
    "TensorFlow uses tensors to represents all data. Only tensors are passed between ops in the graph. Tensors are an n-dimensional array of lists. **Variables** are used to maintain state accross executions of the graph. In this example `state` is initialized to zero and updated each time `update` is run. When using variables, they must be initialized after launching the graph, that is after creating a session."
   ]
  },
  {
   "cell_type": "code",
   "execution_count": 7,
   "metadata": {
    "collapsed": false
   },
   "outputs": [
    {
     "name": "stdout",
     "output_type": "stream",
     "text": [
      "state: 0\n",
      "state: 1\n",
      "state: 2\n",
      "state: 3\n"
     ]
    }
   ],
   "source": [
    "state = tf.Variable(0, name=\"counter\")\n",
    "\n",
    "one = tf.constant(1)\n",
    "new_value = tf.add(state, one)\n",
    "update = tf.assign(state, new_value)\n",
    "\n",
    "init_op = tf.initialize_all_variables()\n",
    "\n",
    "with tf.Session() as sess:\n",
    "    sess.run(init_op)\n",
    "    print('state: ' + str(sess.run(state)))\n",
    "    for _ in range(3):\n",
    "        sess.run(update)\n",
    "        print('state: ' + str(sess.run(state)))"
   ]
  },
  {
   "cell_type": "markdown",
   "metadata": {},
   "source": [
    "Here `assign` is part of the computational graph as `add` and other operators. They won't produce an effect until `run()` executes the expression. Variables are typically used to represent parameters of a model, for example in neural network they are used to store the weights matrix, that it is updated at every execution of the graph. It is possible to **fetch** more than one variable by passing them simultaneously to the run() command (`session.run([var1, var2])`).\n",
    "\n",
    "So far we have covered how to store values in constant and use variable to update their values. TensorFlow provides also a method to pass a value to the variables with a **feed** mechanism. A feed replace the value of an operation with a value. The typical case is to use `placeholder` to feed the operation with values."
   ]
  },
  {
   "cell_type": "code",
   "execution_count": 8,
   "metadata": {
    "collapsed": false
   },
   "outputs": [
    {
     "name": "stdout",
     "output_type": "stream",
     "text": [
      "[array([ 14.], dtype=float32)]\n"
     ]
    }
   ],
   "source": [
    "input1 = tf.placeholder(tf.float32)\n",
    "input2 = tf.placeholder(tf.float32)\n",
    "output = tf.mul(input1, input2)\n",
    "\n",
    "with tf.Session() as sess:\n",
    "    print(sess.run([output], feed_dict={input1:[7.], input2:[2.]}))"
   ]
  },
  {
   "cell_type": "markdown",
   "metadata": {},
   "source": [
    "A variable declaered as `placeholder` expects a feed and generate an error if it is not supplied"
   ]
  },
  {
   "cell_type": "markdown",
   "metadata": {},
   "source": [
    "## 2 Example: classification with a Multi Layer Perceptron"
   ]
  },
  {
   "cell_type": "markdown",
   "metadata": {},
   "source": [
    "This tutorial covers the simplest neural network: a multilayer perceptron (MLP) also known as feedforward neural network.\n",
    "\n",
    "We will learn to classify MNIST handwritten digit images into their correct label (0-9).\n",
    "\n",
    "First, let's load the data and take a look:"
   ]
  },
  {
   "cell_type": "code",
   "execution_count": 9,
   "metadata": {
    "collapsed": false
   },
   "outputs": [
    {
     "name": "stdout",
     "output_type": "stream",
     "text": [
      "Extracting MNIST_data/train-images-idx3-ubyte.gz\n",
      "Extracting MNIST_data/train-labels-idx1-ubyte.gz\n",
      "Extracting MNIST_data/t10k-images-idx3-ubyte.gz\n",
      "Extracting MNIST_data/t10k-labels-idx1-ubyte.gz\n"
     ]
    }
   ],
   "source": [
    "from tensorflow.examples.tutorials.mnist import input_data\n",
    "\n",
    "mnist = input_data.read_data_sets('MNIST_data', one_hot=True)"
   ]
  },
  {
   "cell_type": "code",
   "execution_count": 10,
   "metadata": {
    "collapsed": false
   },
   "outputs": [
    {
     "name": "stdout",
     "output_type": "stream",
     "text": [
      "train examples:  55000\n",
      "test examples:  10000\n",
      "validation examples:  5000\n"
     ]
    }
   ],
   "source": [
    "print('train examples: ', mnist.train.num_examples)\n",
    "print('test examples: ', mnist.test.num_examples)\n",
    "print('validation examples: ', mnist.validation.num_examples)"
   ]
  },
  {
   "cell_type": "markdown",
   "metadata": {},
   "source": [
    "The standard way to use TensorFlow is first to create the graph and then start a session. A more flexible way to perform a computation is using InteractiveSession. It allows to interleave operations of construction with ones that run the graph."
   ]
  },
  {
   "cell_type": "code",
   "execution_count": 11,
   "metadata": {
    "collapsed": false
   },
   "outputs": [],
   "source": [
    "import tensorflow as tf\n",
    "sess = tf.InteractiveSession()"
   ]
  },
  {
   "cell_type": "markdown",
   "metadata": {},
   "source": [
    "A MLP looks like this: input -> hidden layer -> output classification\n",
    "\n",
    "Each stage is just a matrix multiplication with a nonlinear function applied after. Inputs are matrices where rows are examples and columns are pixels.\n",
    "\n",
    "Defining a `tf.placeholder` with `None` as its first dimension indicates that the first dimension, corresponding to the batch size, can be any size."
   ]
  },
  {
   "cell_type": "markdown",
   "metadata": {},
   "source": [
    "The hidden layer has 19 units and it computes a nonlinear transformation, using hyperbolic tangent, on the linear combination of input, weight and bias. The weight matrix is initialized to random values, while the bias vector is initialized to a costant (small) value."
   ]
  },
  {
   "cell_type": "code",
   "execution_count": 12,
   "metadata": {
    "collapsed": true
   },
   "outputs": [],
   "source": [
    "x = tf.placeholder(\"float\", shape=[None, 784])\n",
    "y_ = tf.placeholder(\"float\", shape=[None, 10])\n",
    "\n",
    "W_x = tf.Variable(tf.truncated_normal([784,19], stddev=0.1))\n",
    "b_h = tf.Variable(tf.constant(0.1, shape=[19]))\n",
    "\n",
    "h = tf.nn.tanh(tf.matmul(x, W_x) + b_h)"
   ]
  },
  {
   "cell_type": "markdown",
   "metadata": {},
   "source": [
    "The last stage compute a softmax transformation of the hidden layer. The softmax is a generalization of the logistic function, it is used to calculate the probability associated to each class and it is usefull in multiclass classification problems. Here a class is one of the 10 possibile digits."
   ]
  },
  {
   "cell_type": "code",
   "execution_count": 13,
   "metadata": {
    "collapsed": false
   },
   "outputs": [],
   "source": [
    "W_h = tf.Variable(tf.truncated_normal([19, 10], stddev=0.1))\n",
    "b_y = tf.Variable(tf.constant(0.1, shape=[10]))\n",
    "\n",
    "#y = tf.nn.softmax(tf.matmul(h, W_h) + b_y)\n",
    "logits = tf.matmul(h, W_h) + b_y"
   ]
  },
  {
   "cell_type": "markdown",
   "metadata": {},
   "source": [
    "After we constructed the graph, we need to initialize the variable in the session."
   ]
  },
  {
   "cell_type": "code",
   "execution_count": 14,
   "metadata": {
    "collapsed": true
   },
   "outputs": [],
   "source": [
    "sess.run(tf.initialize_all_variables())"
   ]
  },
  {
   "cell_type": "markdown",
   "metadata": {},
   "source": [
    "Next we define the cost function (cross entropy in this case). Now it is possible to use TensorFlow automatic differentiation to find the gradients of the cost with respect to each variable. For this example we use basic steepest gradient descent as optimizer. The learning rate is fixed at 0.05."
   ]
  },
  {
   "cell_type": "code",
   "execution_count": 15,
   "metadata": {
    "collapsed": false
   },
   "outputs": [],
   "source": [
    "#cross_entropy = -tf.reduce_sum(y_*tf.log(y))\n",
    "cross_entropy = tf.nn.softmax_cross_entropy_with_logits(logits,\n",
    "                                                        y_,\n",
    "                                                        name='xentropy')\n",
    "\n",
    "loss = tf.reduce_mean(cross_entropy, name='xentropy_mean')\n",
    "#train_step = tf.train.GradientDescentOptimizer(0.05).minimize(cross_entropy)\n",
    "train_step = tf.train.GradientDescentOptimizer(0.05).minimize(loss)"
   ]
  },
  {
   "cell_type": "code",
   "execution_count": 16,
   "metadata": {
    "collapsed": false,
    "scrolled": false
   },
   "outputs": [],
   "source": [
    "#print('Epochs completed: ', end='')\n",
    "#for _ in range(25): # epochs\n",
    "#    for i in range(1100): # number of examples divided by batchsize\n",
    "#        batch = mnist.train.next_batch(50)\n",
    "#        train_step.run(feed_dict={x: batch[0], y_: batch[1]})\n",
    "#    print(mnist.train.epochs_completed, end=' '),"
   ]
  },
  {
   "cell_type": "markdown",
   "metadata": {},
   "source": [
    "To evaluate the model we first compute the position of the maximum entry in both predicted and real output. This corresponds to the class to which the example belongs. Then we compare the two vector to determine what fraction of the predicted output is correct."
   ]
  },
  {
   "cell_type": "code",
   "execution_count": 17,
   "metadata": {
    "collapsed": false
   },
   "outputs": [],
   "source": [
    "#correct_prediction = tf.equal(tf.argmax(y,1), tf.argmax(y_,1))\n",
    "correct_prediction = tf.equal(tf.argmax(tf.nn.softmax(logits),1), tf.argmax(y_,1))\n",
    "accuracy = tf.reduce_mean(tf.cast(correct_prediction, \"float\"))\n",
    "#print(accuracy.eval(feed_dict={x: mnist.test.images, y_: mnist.test.labels}))"
   ]
  },
  {
   "cell_type": "markdown",
   "metadata": {},
   "source": [
    "This cell displays the the graphs. To actually see the data, first start the algorithm. The plots will updates dinamically."
   ]
  },
  {
   "cell_type": "code",
   "execution_count": 18,
   "metadata": {
    "collapsed": false
   },
   "outputs": [],
   "source": [
    "train_accuracy_vector = []\n",
    "valid_accuracy_vector = []\n",
    "test_accuracy_vector = []\n",
    "cost_vector = []\n",
    "input_vector = []\n",
    "\n",
    "s_train = ColumnDataSource(data=dict(x=input_vector, y=train_accuracy_vector))\n",
    "s_valid = ColumnDataSource(data=dict(x=input_vector, y=valid_accuracy_vector))\n",
    "s_test = ColumnDataSource(data=dict(x=input_vector, y=test_accuracy_vector))\n",
    "s_cost = ColumnDataSource(data=dict(x=input_vector, y=cost_vector))\n",
    "\n",
    "fig1 = bk.figure(plot_width=500, \n",
    "                plot_height=300,\n",
    "                x_axis_label='Epochs',\n",
    "                y_axis_label='Precision (%)')\n",
    "\n",
    "fig1.line('x', 'y', source=s_train, legend='training')\n",
    "fig1.line('x', 'y', source=s_valid, color='red', legend='validation')\n",
    "fig1.line('x', 'y', source=s_test, color='green', legend='test')\n",
    "\n",
    "fig2 = bk.figure(plot_width=500, \n",
    "                plot_height=300,\n",
    "                x_axis_label='Epochs',\n",
    "                y_axis_label='Cost')\n",
    "\n",
    "fig2.line('x', 'y', source=s_cost)\n",
    "\n",
    "p = bk.vplot(fig1, fig2)"
   ]
  },
  {
   "cell_type": "code",
   "execution_count": 19,
   "metadata": {
    "collapsed": true
   },
   "outputs": [],
   "source": [
    "from bokeh.io import push_notebook\n",
    "\n",
    "def update_c(x_vec, y_vec):\n",
    "    s_cost.data['x'] = x_vec\n",
    "    s_cost.data['y'] = y_vec\n",
    "    push_notebook()\n",
    "    \n",
    "def update(x_vec, t_vec, v_vec, e_vec):\n",
    "    s_train.data['x'] = x_vec\n",
    "    s_valid.data['x'] = x_vec\n",
    "    s_test.data['x'] = x_vec\n",
    "    s_train.data['y'] = t_vec\n",
    "    s_valid.data['y'] = v_vec\n",
    "    s_test.data['y'] = e_vec\n",
    "    push_notebook()"
   ]
  },
  {
   "cell_type": "code",
   "execution_count": 20,
   "metadata": {
    "collapsed": false
   },
   "outputs": [
    {
     "data": {
      "text/html": [
       "\n",
       "\n",
       "    <div class=\"plotdiv\" id=\"384035db-2d99-44d7-b381-a5587e3aa586\"></div>\n",
       "<script type=\"text/javascript\">\n",
       "  \n",
       "  (function(global) {\n",
       "    function now() {\n",
       "      return new Date();\n",
       "    }\n",
       "  \n",
       "    if (typeof (window._bokeh_onload_callbacks) === \"undefined\") {\n",
       "      window._bokeh_onload_callbacks = [];\n",
       "    }\n",
       "  \n",
       "    function run_callbacks() {\n",
       "      window._bokeh_onload_callbacks.forEach(function(callback) { callback() });\n",
       "      delete window._bokeh_onload_callbacks\n",
       "      console.info(\"Bokeh: all callbacks have finished\");\n",
       "    }\n",
       "  \n",
       "    function load_libs(js_urls, callback) {\n",
       "      window._bokeh_onload_callbacks.push(callback);\n",
       "      if (window._bokeh_is_loading > 0) {\n",
       "        console.log(\"Bokeh: BokehJS is being loaded, scheduling callback at\", now());\n",
       "        return null;\n",
       "      }\n",
       "      if (js_urls == null || js_urls.length === 0) {\n",
       "        run_callbacks();\n",
       "        return null;\n",
       "      }\n",
       "      console.log(\"Bokeh: BokehJS not loaded, scheduling load and callback at\", now());\n",
       "      window._bokeh_is_loading = js_urls.length;\n",
       "      for (var i = 0; i < js_urls.length; i++) {\n",
       "        var url = js_urls[i];\n",
       "        var s = document.createElement('script');\n",
       "        s.src = url;\n",
       "        s.async = false;\n",
       "        s.onreadystatechange = s.onload = function() {\n",
       "          window._bokeh_is_loading--;\n",
       "          if (window._bokeh_is_loading === 0) {\n",
       "            console.log(\"Bokeh: all BokehJS libraries loaded\");\n",
       "            run_callbacks()\n",
       "          }\n",
       "        };\n",
       "        s.onerror = function() {\n",
       "          console.warn(\"failed to load library \" + url);\n",
       "        };\n",
       "        console.log(\"Bokeh: injecting script tag for BokehJS library: \", url);\n",
       "        document.getElementsByTagName(\"head\")[0].appendChild(s);\n",
       "      }\n",
       "    };var element = document.getElementById(\"384035db-2d99-44d7-b381-a5587e3aa586\");\n",
       "    if (element == null) {\n",
       "      console.log(\"Bokeh: ERROR: autoload.js configured with elementid '384035db-2d99-44d7-b381-a5587e3aa586' but no matching script tag was found. \")\n",
       "      return false;\n",
       "    }var js_urls = [];\n",
       "  \n",
       "    var inline_js = [\n",
       "      function(Bokeh) {\n",
       "        Bokeh.$(function() {\n",
       "            var docs_json = {\"c33c61cc-3f63-42a7-bf3f-0bf81ae0d28c\": {\"version\": \"0.11.0\", \"roots\": {\"references\": [{\"type\": \"PreviewSaveTool\", \"attributes\": {\"plot\": {\"type\": \"Plot\", \"id\": \"3d64ac1c-21d0-400b-aa26-52f422c0d510\", \"subtype\": \"Figure\"}}, \"id\": \"464f2ff9-96b6-4408-aaa5-83e72a506f26\"}, {\"type\": \"ToolEvents\", \"attributes\": {}, \"id\": \"d22873c1-31d1-48c2-81eb-d0d87ccc1e9c\"}, {\"type\": \"BoxAnnotation\", \"attributes\": {\"right_units\": \"screen\", \"line_alpha\": {\"value\": 1.0}, \"fill_color\": {\"value\": \"lightgrey\"}, \"render_mode\": \"css\", \"top_units\": \"screen\", \"fill_alpha\": {\"value\": 0.5}, \"bottom_units\": \"screen\", \"left_units\": \"screen\", \"plot\": null, \"level\": \"overlay\", \"line_color\": {\"value\": \"black\"}, \"line_dash\": [4, 4], \"line_width\": {\"value\": 2}}, \"id\": \"5a28e82b-3960-4259-a6f2-6c93c0412bda\"}, {\"type\": \"BasicTickFormatter\", \"attributes\": {}, \"id\": \"991569be-a541-47f6-9c7c-5566cc242d3d\"}, {\"type\": \"ResetTool\", \"attributes\": {\"plot\": {\"type\": \"Plot\", \"id\": \"3d64ac1c-21d0-400b-aa26-52f422c0d510\", \"subtype\": \"Figure\"}}, \"id\": \"7169c141-59b1-4c4c-b449-56eb5faf4c59\"}, {\"type\": \"Line\", \"attributes\": {\"line_color\": {\"value\": \"red\"}, \"y\": {\"field\": \"y\"}, \"x\": {\"field\": \"x\"}}, \"id\": \"6ea7d707-a00b-4520-bb38-c1ca3c457a82\"}, {\"type\": \"ResetTool\", \"attributes\": {\"plot\": {\"type\": \"Plot\", \"id\": \"74d61a6e-4d0c-471b-a8d3-51d85bdf44a9\", \"subtype\": \"Figure\"}}, \"id\": \"d62855c4-6989-49c7-b2cd-5aeedaefdd28\"}, {\"type\": \"ColumnDataSource\", \"attributes\": {\"callback\": null, \"data\": {\"y\": [], \"x\": []}, \"column_names\": [\"y\", \"x\"]}, \"id\": \"cff27942-996c-45fc-a15a-8e4017678c9e\"}, {\"type\": \"HelpTool\", \"attributes\": {\"plot\": {\"type\": \"Plot\", \"id\": \"3d64ac1c-21d0-400b-aa26-52f422c0d510\", \"subtype\": \"Figure\"}}, \"id\": \"ae607bb7-e381-4394-8c93-109bcc25648f\"}, {\"type\": \"Legend\", \"attributes\": {\"legends\": [[\"training\", [{\"type\": \"GlyphRenderer\", \"id\": \"eb8abd09-6165-4326-a429-88f197abdc70\"}]], [\"validation\", [{\"type\": \"GlyphRenderer\", \"id\": \"d530ec8e-c8e4-4ec7-837e-21852ea1e7c9\"}]], [\"test\", [{\"type\": \"GlyphRenderer\", \"id\": \"9f672fd7-b4b7-414a-9a70-910c842c9943\"}]]], \"plot\": {\"type\": \"Plot\", \"id\": \"74d61a6e-4d0c-471b-a8d3-51d85bdf44a9\", \"subtype\": \"Figure\"}}, \"id\": \"a3caac55-1228-4181-ae7b-4758317cc2e7\"}, {\"type\": \"LinearAxis\", \"attributes\": {\"formatter\": {\"type\": \"BasicTickFormatter\", \"id\": \"991569be-a541-47f6-9c7c-5566cc242d3d\"}, \"ticker\": {\"type\": \"BasicTicker\", \"id\": \"b89dc24b-5e4a-4b63-aa43-b66f7031a1ed\"}, \"plot\": {\"type\": \"Plot\", \"id\": \"3d64ac1c-21d0-400b-aa26-52f422c0d510\", \"subtype\": \"Figure\"}, \"axis_label\": \"Epochs\"}, \"id\": \"4f913fe8-f78f-4e99-b848-549c9f9f630f\"}, {\"type\": \"BoxAnnotation\", \"attributes\": {\"right_units\": \"screen\", \"line_alpha\": {\"value\": 1.0}, \"fill_color\": {\"value\": \"lightgrey\"}, \"render_mode\": \"css\", \"top_units\": \"screen\", \"fill_alpha\": {\"value\": 0.5}, \"bottom_units\": \"screen\", \"left_units\": \"screen\", \"plot\": null, \"level\": \"overlay\", \"line_color\": {\"value\": \"black\"}, \"line_dash\": [4, 4], \"line_width\": {\"value\": 2}}, \"id\": \"06c25931-9d75-49f2-a087-5cb65827b1f4\"}, {\"type\": \"BasicTicker\", \"attributes\": {}, \"id\": \"e80dd9b3-4a40-4100-9aae-4e0b32e20c09\"}, {\"type\": \"Grid\", \"attributes\": {\"plot\": {\"type\": \"Plot\", \"id\": \"74d61a6e-4d0c-471b-a8d3-51d85bdf44a9\", \"subtype\": \"Figure\"}, \"ticker\": {\"type\": \"BasicTicker\", \"id\": \"e80dd9b3-4a40-4100-9aae-4e0b32e20c09\"}}, \"id\": \"739f7123-d041-4448-b22e-b25c0bc96459\"}, {\"type\": \"WheelZoomTool\", \"attributes\": {\"plot\": {\"type\": \"Plot\", \"id\": \"3d64ac1c-21d0-400b-aa26-52f422c0d510\", \"subtype\": \"Figure\"}}, \"id\": \"fd82e2dc-395c-4e59-ba78-f65c5dd9e9b2\"}, {\"type\": \"Line\", \"attributes\": {\"line_color\": {\"value\": \"#1f77b4\"}, \"y\": {\"field\": \"y\"}, \"x\": {\"field\": \"x\"}}, \"id\": \"739efddf-1021-4f58-8cfb-b87b2d2cb996\"}, {\"type\": \"LinearAxis\", \"attributes\": {\"formatter\": {\"type\": \"BasicTickFormatter\", \"id\": \"87a08c37-039a-43f1-9805-f8d66bcb0069\"}, \"ticker\": {\"type\": \"BasicTicker\", \"id\": \"9bca2748-0eea-44fd-bd0b-34c936860bff\"}, \"plot\": {\"type\": \"Plot\", \"id\": \"3d64ac1c-21d0-400b-aa26-52f422c0d510\", \"subtype\": \"Figure\"}, \"axis_label\": \"Cost\"}, \"id\": \"124c03bc-1dde-43a5-89b3-70ea94d4ce12\"}, {\"type\": \"ColumnDataSource\", \"attributes\": {\"callback\": null, \"data\": {\"y\": [], \"x\": []}, \"column_names\": [\"y\", \"x\"]}, \"id\": \"4cc3ac15-aac9-4b29-aa67-f12ce41c5912\"}, {\"type\": \"Grid\", \"attributes\": {\"dimension\": 1, \"plot\": {\"type\": \"Plot\", \"id\": \"74d61a6e-4d0c-471b-a8d3-51d85bdf44a9\", \"subtype\": \"Figure\"}, \"ticker\": {\"type\": \"BasicTicker\", \"id\": \"6b956af5-1696-4088-aebf-88d5a69b1aa5\"}}, \"id\": \"3d3b3806-12fd-4c1c-a63b-5e6ccb61bcf2\"}, {\"type\": \"ColumnDataSource\", \"attributes\": {\"callback\": null, \"data\": {\"y\": [], \"x\": []}, \"column_names\": [\"y\", \"x\"]}, \"id\": \"f88264af-811d-4db0-9246-a1b60c4984ad\"}, {\"type\": \"ColumnDataSource\", \"attributes\": {\"callback\": null, \"data\": {\"y\": [], \"x\": []}, \"column_names\": [\"y\", \"x\"]}, \"id\": \"3ef8bccf-e084-40b7-b8d8-61a866405dd5\"}, {\"type\": \"DataRange1d\", \"attributes\": {\"callback\": null}, \"id\": \"194265df-4adb-4031-8fea-d5209a435e67\"}, {\"type\": \"PanTool\", \"attributes\": {\"plot\": {\"type\": \"Plot\", \"id\": \"3d64ac1c-21d0-400b-aa26-52f422c0d510\", \"subtype\": \"Figure\"}}, \"id\": \"48b0207e-ebbe-42ed-b54f-20d8513eef05\"}, {\"type\": \"Line\", \"attributes\": {\"line_color\": {\"value\": \"#1f77b4\"}, \"y\": {\"field\": \"y\"}, \"x\": {\"field\": \"x\"}}, \"id\": \"cdd980bd-9ebd-4c90-a32d-337c831bccfd\"}, {\"type\": \"Plot\", \"attributes\": {\"x_range\": {\"type\": \"DataRange1d\", \"id\": \"3f26d31f-f67a-4de3-92ec-53c175b54775\"}, \"tool_events\": {\"type\": \"ToolEvents\", \"id\": \"d22873c1-31d1-48c2-81eb-d0d87ccc1e9c\"}, \"plot_height\": 300, \"below\": [{\"type\": \"LinearAxis\", \"id\": \"4f913fe8-f78f-4e99-b848-549c9f9f630f\"}], \"renderers\": [{\"type\": \"LinearAxis\", \"id\": \"4f913fe8-f78f-4e99-b848-549c9f9f630f\"}, {\"type\": \"Grid\", \"id\": \"6b75fb93-91eb-4b63-8af2-88a3f6332990\"}, {\"type\": \"LinearAxis\", \"id\": \"124c03bc-1dde-43a5-89b3-70ea94d4ce12\"}, {\"type\": \"Grid\", \"id\": \"8efbc361-1bfd-494a-9bf0-f0cdc17db03b\"}, {\"type\": \"BoxAnnotation\", \"id\": \"5a28e82b-3960-4259-a6f2-6c93c0412bda\"}, {\"type\": \"GlyphRenderer\", \"id\": \"041b2e35-40a5-4ca5-bb54-800e3120d200\"}], \"left\": [{\"type\": \"LinearAxis\", \"id\": \"124c03bc-1dde-43a5-89b3-70ea94d4ce12\"}], \"y_range\": {\"type\": \"DataRange1d\", \"id\": \"ffc6e667-b3a4-4d64-a195-2f7e6889adab\"}, \"tools\": [{\"type\": \"PanTool\", \"id\": \"48b0207e-ebbe-42ed-b54f-20d8513eef05\"}, {\"type\": \"WheelZoomTool\", \"id\": \"fd82e2dc-395c-4e59-ba78-f65c5dd9e9b2\"}, {\"type\": \"BoxZoomTool\", \"id\": \"ac62b273-3e8a-4370-8236-7d6bb3f0099f\"}, {\"type\": \"PreviewSaveTool\", \"id\": \"464f2ff9-96b6-4408-aaa5-83e72a506f26\"}, {\"type\": \"ResizeTool\", \"id\": \"dd9ae5b7-e25b-4931-852a-799082c4e23b\"}, {\"type\": \"ResetTool\", \"id\": \"7169c141-59b1-4c4c-b449-56eb5faf4c59\"}, {\"type\": \"HelpTool\", \"id\": \"ae607bb7-e381-4394-8c93-109bcc25648f\"}], \"plot_width\": 500}, \"id\": \"3d64ac1c-21d0-400b-aa26-52f422c0d510\", \"subtype\": \"Figure\"}, {\"type\": \"BoxZoomTool\", \"attributes\": {\"plot\": {\"type\": \"Plot\", \"id\": \"3d64ac1c-21d0-400b-aa26-52f422c0d510\", \"subtype\": \"Figure\"}, \"overlay\": {\"type\": \"BoxAnnotation\", \"id\": \"5a28e82b-3960-4259-a6f2-6c93c0412bda\"}}, \"id\": \"ac62b273-3e8a-4370-8236-7d6bb3f0099f\"}, {\"type\": \"Line\", \"attributes\": {\"line_color\": {\"value\": \"#1f77b4\"}, \"line_alpha\": {\"value\": 0.1}, \"x\": {\"field\": \"x\"}, \"y\": {\"field\": \"y\"}}, \"id\": \"1c9cb1ae-4833-4c97-b730-d0454a816529\"}, {\"type\": \"VBox\", \"attributes\": {\"children\": [{\"type\": \"Plot\", \"id\": \"74d61a6e-4d0c-471b-a8d3-51d85bdf44a9\", \"subtype\": \"Figure\"}, {\"type\": \"Plot\", \"id\": \"3d64ac1c-21d0-400b-aa26-52f422c0d510\", \"subtype\": \"Figure\"}]}, \"id\": \"a851fb98-f8df-4ab9-8c09-c5242d91df3d\"}, {\"type\": \"BasicTicker\", \"attributes\": {}, \"id\": \"9bca2748-0eea-44fd-bd0b-34c936860bff\"}, {\"type\": \"GlyphRenderer\", \"attributes\": {\"selection_glyph\": null, \"hover_glyph\": null, \"glyph\": {\"type\": \"Line\", \"id\": \"7583e54d-6186-4dcf-86bd-a98bf4f6bc83\"}, \"nonselection_glyph\": {\"type\": \"Line\", \"id\": \"cb1d9998-fa34-43ea-9cf4-a9108fe55fea\"}, \"data_source\": {\"type\": \"ColumnDataSource\", \"id\": \"4cc3ac15-aac9-4b29-aa67-f12ce41c5912\"}}, \"id\": \"9f672fd7-b4b7-414a-9a70-910c842c9943\"}, {\"type\": \"BasicTicker\", \"attributes\": {}, \"id\": \"b89dc24b-5e4a-4b63-aa43-b66f7031a1ed\"}, {\"type\": \"ToolEvents\", \"attributes\": {}, \"id\": \"1a57faf4-c67e-45a0-a89d-4408084cbbf6\"}, {\"type\": \"GlyphRenderer\", \"attributes\": {\"selection_glyph\": null, \"hover_glyph\": null, \"glyph\": {\"type\": \"Line\", \"id\": \"cdd980bd-9ebd-4c90-a32d-337c831bccfd\"}, \"nonselection_glyph\": {\"type\": \"Line\", \"id\": \"1c9cb1ae-4833-4c97-b730-d0454a816529\"}, \"data_source\": {\"type\": \"ColumnDataSource\", \"id\": \"f88264af-811d-4db0-9246-a1b60c4984ad\"}}, \"id\": \"041b2e35-40a5-4ca5-bb54-800e3120d200\"}, {\"type\": \"Grid\", \"attributes\": {\"plot\": {\"type\": \"Plot\", \"id\": \"3d64ac1c-21d0-400b-aa26-52f422c0d510\", \"subtype\": \"Figure\"}, \"ticker\": {\"type\": \"BasicTicker\", \"id\": \"b89dc24b-5e4a-4b63-aa43-b66f7031a1ed\"}}, \"id\": \"6b75fb93-91eb-4b63-8af2-88a3f6332990\"}, {\"type\": \"Grid\", \"attributes\": {\"dimension\": 1, \"plot\": {\"type\": \"Plot\", \"id\": \"3d64ac1c-21d0-400b-aa26-52f422c0d510\", \"subtype\": \"Figure\"}, \"ticker\": {\"type\": \"BasicTicker\", \"id\": \"9bca2748-0eea-44fd-bd0b-34c936860bff\"}}, \"id\": \"8efbc361-1bfd-494a-9bf0-f0cdc17db03b\"}, {\"type\": \"GlyphRenderer\", \"attributes\": {\"selection_glyph\": null, \"hover_glyph\": null, \"glyph\": {\"type\": \"Line\", \"id\": \"6ea7d707-a00b-4520-bb38-c1ca3c457a82\"}, \"nonselection_glyph\": {\"type\": \"Line\", \"id\": \"d41bfd69-d9d1-4fd6-bf17-ee7a0616202e\"}, \"data_source\": {\"type\": \"ColumnDataSource\", \"id\": \"cff27942-996c-45fc-a15a-8e4017678c9e\"}}, \"id\": \"d530ec8e-c8e4-4ec7-837e-21852ea1e7c9\"}, {\"type\": \"BoxZoomTool\", \"attributes\": {\"plot\": {\"type\": \"Plot\", \"id\": \"74d61a6e-4d0c-471b-a8d3-51d85bdf44a9\", \"subtype\": \"Figure\"}, \"overlay\": {\"type\": \"BoxAnnotation\", \"id\": \"06c25931-9d75-49f2-a087-5cb65827b1f4\"}}, \"id\": \"3d043049-f628-439d-b9ea-bc20532b802c\"}, {\"type\": \"PanTool\", \"attributes\": {\"plot\": {\"type\": \"Plot\", \"id\": \"74d61a6e-4d0c-471b-a8d3-51d85bdf44a9\", \"subtype\": \"Figure\"}}, \"id\": \"2c5d4b2e-bc72-4a62-b173-03096af39e58\"}, {\"type\": \"BasicTickFormatter\", \"attributes\": {}, \"id\": \"87a08c37-039a-43f1-9805-f8d66bcb0069\"}, {\"type\": \"BasicTickFormatter\", \"attributes\": {}, \"id\": \"9e78383b-835d-4d7c-be7e-2ca01c5f919e\"}, {\"type\": \"Plot\", \"attributes\": {\"x_range\": {\"type\": \"DataRange1d\", \"id\": \"194265df-4adb-4031-8fea-d5209a435e67\"}, \"tool_events\": {\"type\": \"ToolEvents\", \"id\": \"1a57faf4-c67e-45a0-a89d-4408084cbbf6\"}, \"plot_height\": 300, \"below\": [{\"type\": \"LinearAxis\", \"id\": \"6a5be125-d7bb-41eb-b56e-08e2a3e00365\"}], \"renderers\": [{\"type\": \"LinearAxis\", \"id\": \"6a5be125-d7bb-41eb-b56e-08e2a3e00365\"}, {\"type\": \"Grid\", \"id\": \"739f7123-d041-4448-b22e-b25c0bc96459\"}, {\"type\": \"LinearAxis\", \"id\": \"faaaacc1-616f-4425-bd89-130c15621225\"}, {\"type\": \"Grid\", \"id\": \"3d3b3806-12fd-4c1c-a63b-5e6ccb61bcf2\"}, {\"type\": \"BoxAnnotation\", \"id\": \"06c25931-9d75-49f2-a087-5cb65827b1f4\"}, {\"type\": \"Legend\", \"id\": \"a3caac55-1228-4181-ae7b-4758317cc2e7\"}, {\"type\": \"GlyphRenderer\", \"id\": \"eb8abd09-6165-4326-a429-88f197abdc70\"}, {\"type\": \"GlyphRenderer\", \"id\": \"d530ec8e-c8e4-4ec7-837e-21852ea1e7c9\"}, {\"type\": \"GlyphRenderer\", \"id\": \"9f672fd7-b4b7-414a-9a70-910c842c9943\"}], \"left\": [{\"type\": \"LinearAxis\", \"id\": \"faaaacc1-616f-4425-bd89-130c15621225\"}], \"y_range\": {\"type\": \"DataRange1d\", \"id\": \"7362cfed-c22b-47f5-bda6-e1fd5c1005cd\"}, \"tools\": [{\"type\": \"PanTool\", \"id\": \"2c5d4b2e-bc72-4a62-b173-03096af39e58\"}, {\"type\": \"WheelZoomTool\", \"id\": \"7d4afdb4-93bf-4162-8e7e-bfb68d49833a\"}, {\"type\": \"BoxZoomTool\", \"id\": \"3d043049-f628-439d-b9ea-bc20532b802c\"}, {\"type\": \"PreviewSaveTool\", \"id\": \"45638924-2fa0-4dc4-b3aa-2fbc8afe9289\"}, {\"type\": \"ResizeTool\", \"id\": \"ebcf12ef-1720-4dee-a5b0-ff8d268df901\"}, {\"type\": \"ResetTool\", \"id\": \"d62855c4-6989-49c7-b2cd-5aeedaefdd28\"}, {\"type\": \"HelpTool\", \"id\": \"fcb37b17-0ea3-4064-853b-35ab9deaf207\"}], \"plot_width\": 500}, \"id\": \"74d61a6e-4d0c-471b-a8d3-51d85bdf44a9\", \"subtype\": \"Figure\"}, {\"type\": \"ResizeTool\", \"attributes\": {\"plot\": {\"type\": \"Plot\", \"id\": \"74d61a6e-4d0c-471b-a8d3-51d85bdf44a9\", \"subtype\": \"Figure\"}}, \"id\": \"ebcf12ef-1720-4dee-a5b0-ff8d268df901\"}, {\"type\": \"DataRange1d\", \"attributes\": {\"callback\": null}, \"id\": \"7362cfed-c22b-47f5-bda6-e1fd5c1005cd\"}, {\"type\": \"LinearAxis\", \"attributes\": {\"formatter\": {\"type\": \"BasicTickFormatter\", \"id\": \"9e78383b-835d-4d7c-be7e-2ca01c5f919e\"}, \"ticker\": {\"type\": \"BasicTicker\", \"id\": \"6b956af5-1696-4088-aebf-88d5a69b1aa5\"}, \"plot\": {\"type\": \"Plot\", \"id\": \"74d61a6e-4d0c-471b-a8d3-51d85bdf44a9\", \"subtype\": \"Figure\"}, \"axis_label\": \"Precision (%)\"}, \"id\": \"faaaacc1-616f-4425-bd89-130c15621225\"}, {\"type\": \"PreviewSaveTool\", \"attributes\": {\"plot\": {\"type\": \"Plot\", \"id\": \"74d61a6e-4d0c-471b-a8d3-51d85bdf44a9\", \"subtype\": \"Figure\"}}, \"id\": \"45638924-2fa0-4dc4-b3aa-2fbc8afe9289\"}, {\"type\": \"Line\", \"attributes\": {\"line_color\": {\"value\": \"green\"}, \"y\": {\"field\": \"y\"}, \"x\": {\"field\": \"x\"}}, \"id\": \"7583e54d-6186-4dcf-86bd-a98bf4f6bc83\"}, {\"type\": \"Line\", \"attributes\": {\"line_color\": {\"value\": \"#1f77b4\"}, \"line_alpha\": {\"value\": 0.1}, \"x\": {\"field\": \"x\"}, \"y\": {\"field\": \"y\"}}, \"id\": \"d41bfd69-d9d1-4fd6-bf17-ee7a0616202e\"}, {\"type\": \"WheelZoomTool\", \"attributes\": {\"plot\": {\"type\": \"Plot\", \"id\": \"74d61a6e-4d0c-471b-a8d3-51d85bdf44a9\", \"subtype\": \"Figure\"}}, \"id\": \"7d4afdb4-93bf-4162-8e7e-bfb68d49833a\"}, {\"type\": \"DataRange1d\", \"attributes\": {\"callback\": null}, \"id\": \"ffc6e667-b3a4-4d64-a195-2f7e6889adab\"}, {\"type\": \"Line\", \"attributes\": {\"line_color\": {\"value\": \"#1f77b4\"}, \"line_alpha\": {\"value\": 0.1}, \"x\": {\"field\": \"x\"}, \"y\": {\"field\": \"y\"}}, \"id\": \"cb1d9998-fa34-43ea-9cf4-a9108fe55fea\"}, {\"type\": \"LinearAxis\", \"attributes\": {\"formatter\": {\"type\": \"BasicTickFormatter\", \"id\": \"9d08dcbe-5331-4410-b2e3-99daacd3fe7b\"}, \"ticker\": {\"type\": \"BasicTicker\", \"id\": \"e80dd9b3-4a40-4100-9aae-4e0b32e20c09\"}, \"plot\": {\"type\": \"Plot\", \"id\": \"74d61a6e-4d0c-471b-a8d3-51d85bdf44a9\", \"subtype\": \"Figure\"}, \"axis_label\": \"Epochs\"}, \"id\": \"6a5be125-d7bb-41eb-b56e-08e2a3e00365\"}, {\"type\": \"HelpTool\", \"attributes\": {\"plot\": {\"type\": \"Plot\", \"id\": \"74d61a6e-4d0c-471b-a8d3-51d85bdf44a9\", \"subtype\": \"Figure\"}}, \"id\": \"fcb37b17-0ea3-4064-853b-35ab9deaf207\"}, {\"type\": \"Line\", \"attributes\": {\"line_color\": {\"value\": \"#1f77b4\"}, \"line_alpha\": {\"value\": 0.1}, \"x\": {\"field\": \"x\"}, \"y\": {\"field\": \"y\"}}, \"id\": \"b1ed3caf-0c95-4e75-8fd8-b3359d35aea9\"}, {\"type\": \"ResizeTool\", \"attributes\": {\"plot\": {\"type\": \"Plot\", \"id\": \"3d64ac1c-21d0-400b-aa26-52f422c0d510\", \"subtype\": \"Figure\"}}, \"id\": \"dd9ae5b7-e25b-4931-852a-799082c4e23b\"}, {\"type\": \"GlyphRenderer\", \"attributes\": {\"selection_glyph\": null, \"hover_glyph\": null, \"glyph\": {\"type\": \"Line\", \"id\": \"739efddf-1021-4f58-8cfb-b87b2d2cb996\"}, \"nonselection_glyph\": {\"type\": \"Line\", \"id\": \"b1ed3caf-0c95-4e75-8fd8-b3359d35aea9\"}, \"data_source\": {\"type\": \"ColumnDataSource\", \"id\": \"3ef8bccf-e084-40b7-b8d8-61a866405dd5\"}}, \"id\": \"eb8abd09-6165-4326-a429-88f197abdc70\"}, {\"type\": \"BasicTicker\", \"attributes\": {}, \"id\": \"6b956af5-1696-4088-aebf-88d5a69b1aa5\"}, {\"type\": \"DataRange1d\", \"attributes\": {\"callback\": null}, \"id\": \"3f26d31f-f67a-4de3-92ec-53c175b54775\"}, {\"type\": \"BasicTickFormatter\", \"attributes\": {}, \"id\": \"9d08dcbe-5331-4410-b2e3-99daacd3fe7b\"}], \"root_ids\": [\"a851fb98-f8df-4ab9-8c09-c5242d91df3d\"]}, \"title\": \"Bokeh Application\"}};\n",
       "            var render_items = [{\"docid\": \"c33c61cc-3f63-42a7-bf3f-0bf81ae0d28c\", \"notebook_comms_target\": \"f50d309b-96b1-4fb0-bc08-f80b4195908c\", \"modelid\": \"a851fb98-f8df-4ab9-8c09-c5242d91df3d\", \"elementid\": \"384035db-2d99-44d7-b381-a5587e3aa586\"}];\n",
       "            \n",
       "            Bokeh.embed.embed_items(docs_json, render_items);\n",
       "        });\n",
       "      },\n",
       "      function(Bokeh) {\n",
       "      }\n",
       "    ];\n",
       "  \n",
       "    function run_inline_js() {\n",
       "      for (var i = 0; i < inline_js.length; i++) {\n",
       "        inline_js[i](window.Bokeh);\n",
       "      }\n",
       "    }\n",
       "  \n",
       "    if (window._bokeh_is_loading === 0) {\n",
       "      console.log(\"Bokeh: BokehJS loaded, going straight to plotting\");\n",
       "      run_inline_js();\n",
       "    } else {\n",
       "      load_libs(js_urls, function() {\n",
       "        console.log(\"Bokeh: BokehJS plotting callback run at\", now());\n",
       "        run_inline_js();\n",
       "      });\n",
       "    }\n",
       "  }(this));\n",
       "</script>"
      ]
     },
     "metadata": {},
     "output_type": "display_data"
    },
    {
     "data": {
      "text/plain": [
       "<bokeh.io._CommsHandle at 0x7f1b187aa8d0>"
      ]
     },
     "execution_count": 20,
     "metadata": {},
     "output_type": "execute_result"
    }
   ],
   "source": [
    "bk.show(p)"
   ]
  },
  {
   "cell_type": "markdown",
   "metadata": {},
   "source": [
    "Ok, now we are ready to launch the training:"
   ]
  },
  {
   "cell_type": "code",
   "execution_count": 21,
   "metadata": {
    "collapsed": false
   },
   "outputs": [],
   "source": [
    "epochs = 25\n",
    "batch_size = 50\n",
    "train_batches = mnist.train.num_examples // batch_size\n",
    "\n",
    "for epoch in range(epochs+1):\n",
    "    train_costs = []\n",
    "    train_accuracy = []\n",
    "    for i in range(train_batches):\n",
    "        batch = mnist.train.next_batch(batch_size)\n",
    "        #train_step.run(feed_dict={x: batch[0], y_: batch[1]})\n",
    "        #_, loss = sess.run([train_step, cross_entropy], feed_dict={x: batch[0], y_: batch[1]})\n",
    "        _, loss_value = sess.run([train_step, loss], feed_dict={x: batch[0], y_: batch[1]})\n",
    "        train_accuracy.append(accuracy.eval(feed_dict={x: batch[0], y_: batch[1]}))\n",
    "        train_costs.append(loss_value)\n",
    "\n",
    "    train_accuracy_vector.append(np.mean(train_accuracy) * 100)\n",
    "    cost_vector.append(np.mean(train_costs))\n",
    "    update_c(range(epoch), cost_vector)\n",
    "     \n",
    "    valid_accuracy_vector.append(accuracy.eval(feed_dict={x: mnist.validation.images, y_: mnist.validation.labels}) * 100)\n",
    "    test_accuracy_vector.append(accuracy.eval(feed_dict={x: mnist.test.images, y_: mnist.test.labels}) * 100)\n",
    "    \n",
    "    update(range(epoch), train_accuracy_vector, valid_accuracy_vector, test_accuracy_vector)"
   ]
  },
  {
   "cell_type": "markdown",
   "metadata": {
    "collapsed": true
   },
   "source": [
    "**REMARK** Epochs are calculated directly by the mnist object. Whenver the number of batches requested is greather than the number of examples it automatically updates the number of epochs. The object shuffles also the training set for better learning."
   ]
  },
  {
   "cell_type": "markdown",
   "metadata": {
    "collapsed": true
   },
   "source": [
    "---\n",
    "\n",
    "Visit [www.add-for.com](<http://www.add-for.com/IT>) for more tutorials and updates.\n",
    "\n",
    "This work is licensed under a <a rel=\"license\" href=\"http://creativecommons.org/licenses/by-sa/4.0/\">Creative Commons Attribution-ShareAlike 4.0 International License</a>."
   ]
  }
 ],
 "metadata": {
  "kernelspec": {
   "display_name": "Python 3",
   "language": "python",
   "name": "python3"
  },
  "language_info": {
   "codemirror_mode": {
    "name": "ipython",
    "version": 3
   },
   "file_extension": ".py",
   "mimetype": "text/x-python",
   "name": "python",
   "nbconvert_exporter": "python",
   "pygments_lexer": "ipython3",
   "version": "3.4.3"
  }
 },
 "nbformat": 4,
 "nbformat_minor": 0
}
