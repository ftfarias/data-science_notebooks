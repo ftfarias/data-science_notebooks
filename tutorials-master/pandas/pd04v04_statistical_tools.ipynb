{
 "cells": [
  {
   "cell_type": "markdown",
   "metadata": {},
   "source": [
    "# Statistical tools"
   ]
  },
  {
   "cell_type": "code",
   "execution_count": null,
   "metadata": {
    "collapsed": false
   },
   "outputs": [],
   "source": [
    "import addutils.toc ; addutils.toc.js(ipy_notebook=True)"
   ]
  },
  {
   "cell_type": "markdown",
   "metadata": {},
   "source": [
    "With this tutorial we are going to see some of the statistical and computational tools offered by `pandas`."
   ]
  },
  {
   "cell_type": "code",
   "execution_count": null,
   "metadata": {
    "collapsed": false
   },
   "outputs": [],
   "source": [
    "import datetime\n",
    "import scipy.io\n",
    "import numpy as np\n",
    "import pandas as pd\n",
    "import bokeh.plotting as bk\n",
    "from IPython.display import display, HTML\n",
    "from addutils import css_notebook, side_by_side2\n",
    "css_notebook()"
   ]
  },
  {
   "cell_type": "markdown",
   "metadata": {},
   "source": [
    "## 1 Percent change"
   ]
  },
  {
   "cell_type": "markdown",
   "metadata": {},
   "source": [
    "Given a `pandas.Series` the method `pct_change` returns a new `pandas.Series` object containing percent change over a given number of periods."
   ]
  },
  {
   "cell_type": "code",
   "execution_count": null,
   "metadata": {
    "collapsed": false
   },
   "outputs": [],
   "source": [
    "s1 = pd.Series(range(10, 18) + np.random.randn(8) / 10)\n",
    "\n",
    "pct_ch_1d = s1.pct_change() * 100\n",
    "pct_ch_3d = s1.pct_change(periods=3) * 100\n",
    "\n",
    "HTML(side_by_side2(s1, pct_ch_1d, pct_ch_3d))"
   ]
  },
  {
   "cell_type": "markdown",
   "metadata": {},
   "source": [
    "## 2 Covariance"
   ]
  },
  {
   "cell_type": "markdown",
   "metadata": {},
   "source": [
    "Given two `pandas.Series` the method `cov` computes covariance between them, excluding missing values."
   ]
  },
  {
   "cell_type": "code",
   "execution_count": null,
   "metadata": {
    "collapsed": false
   },
   "outputs": [],
   "source": [
    "s1 = pd.util.testing.makeTimeSeries(7)\n",
    "s2 = s1 + np.random.randn(len(s1)) / 10\n",
    "HTML(side_by_side2(s1, s2))"
   ]
  },
  {
   "cell_type": "code",
   "execution_count": null,
   "metadata": {
    "collapsed": false
   },
   "outputs": [],
   "source": [
    "s1.cov(s2)"
   ]
  },
  {
   "cell_type": "markdown",
   "metadata": {},
   "source": [
    "It is also possibile to compute pairwise covariance of a `pandas.DataFrame` columns using `pandas.DataFrame.cov` method. Here we use the module `pandas.util.testing` in order to generate random data easily:"
   ]
  },
  {
   "cell_type": "code",
   "execution_count": null,
   "metadata": {
    "collapsed": false
   },
   "outputs": [],
   "source": [
    "d1 = pd.util.testing.makeTimeDataFrame()\n",
    "print (d1.head())\n",
    "print (d1.cov())"
   ]
  },
  {
   "cell_type": "markdown",
   "metadata": {},
   "source": [
    "## 3 Correlation"
   ]
  },
  {
   "cell_type": "markdown",
   "metadata": {},
   "source": [
    "`pandas.Series.corr` allows to compute correlation between two `pandas.Series`. By the `method` paramether it's possible to choose between:\n",
    "\n",
    "* Pearson\n",
    "* Kendall\n",
    "* Spearman"
   ]
  },
  {
   "cell_type": "code",
   "execution_count": null,
   "metadata": {
    "collapsed": false
   },
   "outputs": [],
   "source": [
    "s1.corr(s2, method='pearson')"
   ]
  },
  {
   "cell_type": "markdown",
   "metadata": {},
   "source": [
    "Like we just seen for covariance, it is possibile to call `pandas.DataFrame.corr` to obtain pairwise correlation of columns over a `pandas.DataFrame`"
   ]
  },
  {
   "cell_type": "code",
   "execution_count": null,
   "metadata": {
    "collapsed": false
   },
   "outputs": [],
   "source": [
    "d1.corr()"
   ]
  },
  {
   "cell_type": "markdown",
   "metadata": {},
   "source": [
    "## 4 Rolling moments and Binary rolling moments"
   ]
  },
  {
   "cell_type": "markdown",
   "metadata": {},
   "source": [
    "`pandas` provides also a lot of methods for calculating rolling moments."
   ]
  },
  {
   "cell_type": "code",
   "execution_count": null,
   "metadata": {
    "collapsed": false
   },
   "outputs": [],
   "source": [
    "[n for n in dir(pd) if n.startswith('rolling')]"
   ]
  },
  {
   "cell_type": "markdown",
   "metadata": {},
   "source": [
    "Let's see some examples:"
   ]
  },
  {
   "cell_type": "code",
   "execution_count": null,
   "metadata": {
    "collapsed": false
   },
   "outputs": [],
   "source": [
    "s3 = pd.Series(np.random.randn(1000), index=pd.date_range('1/1/2000', periods=1000))\n",
    "s3 = s3.cumsum()\n",
    "s3_max = s3.rolling(60).max()\n",
    "s3_mean = s3.rolling(60).mean()\n",
    "s3_min = s3.rolling(60).min()\n",
    "data = {'cumsum':s3, 'max':s3_max, 'mean':s3_mean, 'min':s3_min}\n",
    "df = pd.DataFrame(data)\n",
    "df.tail()"
   ]
  },
  {
   "cell_type": "code",
   "execution_count": null,
   "metadata": {
    "collapsed": false
   },
   "outputs": [],
   "source": [
    "bk.output_notebook()"
   ]
  },
  {
   "cell_type": "code",
   "execution_count": null,
   "metadata": {
    "collapsed": false
   },
   "outputs": [],
   "source": [
    "fig = bk.figure(x_axis_type = \"datetime\",\n",
    "               tools=\"pan,box_zoom,reset\", title = 'Rolling Moments',\n",
    "               plot_width=750, plot_height=400)\n",
    "fig.line(df.index, df['cumsum'], color='cadetblue', legend='Cumulative Sum')\n",
    "fig.line(df.index, df['max'], color='mediumorchid', legend='Max')\n",
    "fig.line(df.index, df['min'], color='mediumpurple', legend='Min')\n",
    "fig.line(df.index, df['mean'], color='navy', legend='Min')\n",
    "bk.show(fig)"
   ]
  },
  {
   "cell_type": "markdown",
   "metadata": {},
   "source": [
    "`pandas.Series.cumsum` returns a new `pandas.Series` containing the cumulative sum of the given values."
   ]
  },
  {
   "cell_type": "code",
   "execution_count": null,
   "metadata": {
    "collapsed": false
   },
   "outputs": [],
   "source": [
    "s4 = s3 + np.random.randn(len(s3))\n",
    "rollc = s3.rolling(window=10).corr(s3)\n",
    "data2 = {'cumsum':s3, 'similar':s4, 'rolling correlation':rollc}\n",
    "df2 = pd.DataFrame(data2)"
   ]
  },
  {
   "cell_type": "code",
   "execution_count": null,
   "metadata": {
    "collapsed": false
   },
   "outputs": [],
   "source": [
    "fig = bk.figure(x_axis_type = \"datetime\", title = 'Rolling Correlation',\n",
    "       plot_width=750, plot_height=400)\n",
    "fig.line(df2.index, df2['cumsum'], color='cadetblue', legend='Cumulative Sum')\n",
    "fig.line(df2.index, df2['similar'], color='mediumorchid', legend='Similar')\n",
    "fig.line(df2.index, df2['rolling correlation'], color='navy', legend='Rolling Corr.')\n",
    "fig.legend.location = \"bottom_right\"\n",
    "bk.show(fig)"
   ]
  },
  {
   "cell_type": "markdown",
   "metadata": {},
   "source": [
    "## 5 A pratical example: Return indexes and cumulative returns"
   ]
  },
  {
   "cell_type": "code",
   "execution_count": null,
   "metadata": {
    "collapsed": false
   },
   "outputs": [],
   "source": [
    "AAPL = pd.read_csv('example_data/p03_AAPL.txt', index_col='Date', parse_dates=True)\n",
    "price = AAPL['Adj Close']\n",
    "display(price.tail())"
   ]
  },
  {
   "cell_type": "markdown",
   "metadata": {},
   "source": [
    "`pandas.Series.tail` returns the last n rows of a given `pandas.Series`."
   ]
  },
  {
   "cell_type": "code",
   "execution_count": null,
   "metadata": {
    "collapsed": false
   },
   "outputs": [],
   "source": [
    "price['2011-10-03'] / price['2011-3-01'] - 1\n",
    "returns = price.pct_change()\n",
    "ret_index = (1 + returns).cumprod()\n",
    "ret_index[0] = 1\n",
    "monthly_returns = ret_index.resample('BM').last().pct_change()"
   ]
  },
  {
   "cell_type": "code",
   "execution_count": null,
   "metadata": {
    "collapsed": false
   },
   "outputs": [],
   "source": [
    "fig = bk.figure(x_axis_type = 'datetime', title = 'Monthly Returns',\n",
    "                plot_width=750, plot_height=400)\n",
    "fig.line(monthly_returns.index, monthly_returns)\n",
    "bk.show(fig)"
   ]
  },
  {
   "cell_type": "markdown",
   "metadata": {},
   "source": [
    "---\n",
    "\n",
    "Visit [www.add-for.com](<http://www.add-for.com/IT>) for more tutorials and updates.\n",
    "\n",
    "This work is licensed under a <a rel=\"license\" href=\"http://creativecommons.org/licenses/by-sa/4.0/\">Creative Commons Attribution-ShareAlike 4.0 International License</a>."
   ]
  }
 ],
 "metadata": {
  "kernelspec": {
   "display_name": "Python 3",
   "language": "python",
   "name": "python3"
  },
  "language_info": {
   "codemirror_mode": {
    "name": "ipython",
    "version": 3
   },
   "file_extension": ".py",
   "mimetype": "text/x-python",
   "name": "python",
   "nbconvert_exporter": "python",
   "pygments_lexer": "ipython3",
   "version": "3.5.1"
  }
 },
 "nbformat": 4,
 "nbformat_minor": 0
}
