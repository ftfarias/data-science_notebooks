{
 "metadata": {
  "name": "",
  "signature": "sha256:a73306f3ddbcf3ea97ddced668d1f09d51afd796d3d7593584dbfb97dd315fcd"
 },
 "nbformat": 3,
 "nbformat_minor": 0,
 "worksheets": [
  {
   "cells": [
    {
     "cell_type": "code",
     "collapsed": false,
     "input": [
      "import gensim, logging\n",
      "logging.basicConfig(format='%(asctime)s : %(levelname)s : %(message)s', level=logging.INFO)"
     ],
     "language": "python",
     "metadata": {},
     "outputs": [],
     "prompt_number": 1
    },
    {
     "cell_type": "code",
     "collapsed": false,
     "input": [
      "sentences = [['first', 'sentence'], ['second'], ['sentence']]\n",
      "model = gensim.models.Word2Vec(sentences, min_count=1)"
     ],
     "language": "python",
     "metadata": {},
     "outputs": [],
     "prompt_number": 2
    },
    {
     "cell_type": "code",
     "collapsed": false,
     "input": [
      "class MySentences(object):\n",
      "    def __init__(self, dirname):\n",
      "        self.dirname = dirname\n",
      "        \n",
      "    def __iter__(self):\n",
      "        for fname in os.listdir(self.dirname):\n",
      "            for line in open(os.path.join(self.dirname, fname)):\n",
      "                yield line.split()"
     ],
     "language": "python",
     "metadata": {},
     "outputs": [],
     "prompt_number": 3
    },
    {
     "cell_type": "code",
     "collapsed": false,
     "input": [
      "#sentences = MySentences('home/vitor/Workspace/Data/Text/topic1')\n",
      "#model = gensim.models.Word2Vec(sentences)"
     ],
     "language": "python",
     "metadata": {},
     "outputs": [],
     "prompt_number": 4
    },
    {
     "cell_type": "code",
     "collapsed": false,
     "input": [
      "#model = Word2Vec(sentences, min_count=10)\n",
      "#model = Word2Vec(sentences, size=200)\n",
      "#model = Word2Vec(sentences, workers=4) # only with Cython"
     ],
     "language": "python",
     "metadata": {},
     "outputs": []
    },
    {
     "cell_type": "code",
     "collapsed": false,
     "input": [
      "#model.save('some/dir/mymodel')\n",
      "#new_model = gensim.models.Word2Vec.load('some/dir/mymodel')"
     ],
     "language": "python",
     "metadata": {},
     "outputs": []
    },
    {
     "cell_type": "code",
     "collapsed": false,
     "input": [
      "model.most_similar(positive=['woman', 'king'], negative=['man'], topn=1)\n",
      "model.doesnt_match(\"breakfast cereal dinner lunch\".split())"
     ],
     "language": "python",
     "metadata": {},
     "outputs": []
    }
   ],
   "metadata": {}
  }
 ]
}